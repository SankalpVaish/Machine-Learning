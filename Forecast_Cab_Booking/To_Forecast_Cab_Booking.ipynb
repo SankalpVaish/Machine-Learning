{
  "cells": [
    {
      "cell_type": "markdown",
      "metadata": {
        "id": "KVoZvcmaLiFZ"
      },
      "source": [
        "# Cab Forecasting System"
      ]
    },
    {
      "cell_type": "markdown",
      "metadata": {
        "id": "0PxeOCCVJ03q"
      },
      "source": [
        "###The automated process of renting a cab through an app is known as a \"cab booking system\". Utilizing this app people can order a cab from one location to another.\n",
        "\n",
        "### **OBJECTIVE-** The goal of this project is to combine historical usage patterns with publicly available data sources, such as weather data, to predict whether or not someone will book a cab in a city."
      ]
    },
    {
      "cell_type": "markdown",
      "metadata": {
        "id": "OhkLT4xq1z_M"
      },
      "source": [
        "## Load dataset and import libraries"
      ]
    },
    {
      "cell_type": "code",
      "execution_count": 1,
      "metadata": {
        "id": "byLd1DL2ZTBr"
      },
      "outputs": [],
      "source": [
        "import pandas as pd\n",
        "import numpy as np\n",
        "from datetime import datetime as dt\n",
        "import calendar\n",
        "import seaborn as sns\n",
        "import matplotlib.pyplot as plt\n",
        "from sklearn.preprocessing import PolynomialFeatures\n",
        "import warnings\n",
        "warnings.simplefilter(\"ignore\")"
      ]
    },
    {
      "cell_type": "code",
      "execution_count": 2,
      "metadata": {
        "colab": {
          "base_uri": "https://localhost:8080/",
          "height": 206
        },
        "id": "-V3FMieSZVlP",
        "outputId": "55e9bf12-3320-4e8a-cf51-b0fb0ce65a76"
      },
      "outputs": [
        {
          "output_type": "execute_result",
          "data": {
            "text/plain": [
              "           datetime  season  holiday  workingday              weather   temp  \\\n",
              "0    5/2/2012 19:00  Summer        0           1   Clear + Few clouds  22.14   \n",
              "1     9/5/2012 4:00    Fall        0           1   Clear + Few clouds  28.70   \n",
              "2    1/13/2011 9:00  Spring        0           1   Clear + Few clouds   5.74   \n",
              "3  11/18/2011 16:00  Winter        0           1   Clear + Few clouds  13.94   \n",
              "4   9/13/2011 13:00    Fall        0           1   Clear + Few clouds  30.34   \n",
              "\n",
              "    atemp  humidity  windspeed  \n",
              "0  25.760      77.0    16.9979  \n",
              "1  33.335      79.0    19.0012  \n",
              "2   6.060      50.0    22.0028  \n",
              "3  16.665      29.0     8.9981  \n",
              "4  33.335      51.0    19.0012  "
            ],
            "text/html": [
              "\n",
              "  <div id=\"df-922eedac-bdee-4177-b8b9-62e4166dc67e\">\n",
              "    <div class=\"colab-df-container\">\n",
              "      <div>\n",
              "<style scoped>\n",
              "    .dataframe tbody tr th:only-of-type {\n",
              "        vertical-align: middle;\n",
              "    }\n",
              "\n",
              "    .dataframe tbody tr th {\n",
              "        vertical-align: top;\n",
              "    }\n",
              "\n",
              "    .dataframe thead th {\n",
              "        text-align: right;\n",
              "    }\n",
              "</style>\n",
              "<table border=\"1\" class=\"dataframe\">\n",
              "  <thead>\n",
              "    <tr style=\"text-align: right;\">\n",
              "      <th></th>\n",
              "      <th>datetime</th>\n",
              "      <th>season</th>\n",
              "      <th>holiday</th>\n",
              "      <th>workingday</th>\n",
              "      <th>weather</th>\n",
              "      <th>temp</th>\n",
              "      <th>atemp</th>\n",
              "      <th>humidity</th>\n",
              "      <th>windspeed</th>\n",
              "    </tr>\n",
              "  </thead>\n",
              "  <tbody>\n",
              "    <tr>\n",
              "      <th>0</th>\n",
              "      <td>5/2/2012 19:00</td>\n",
              "      <td>Summer</td>\n",
              "      <td>0</td>\n",
              "      <td>1</td>\n",
              "      <td>Clear + Few clouds</td>\n",
              "      <td>22.14</td>\n",
              "      <td>25.760</td>\n",
              "      <td>77.0</td>\n",
              "      <td>16.9979</td>\n",
              "    </tr>\n",
              "    <tr>\n",
              "      <th>1</th>\n",
              "      <td>9/5/2012 4:00</td>\n",
              "      <td>Fall</td>\n",
              "      <td>0</td>\n",
              "      <td>1</td>\n",
              "      <td>Clear + Few clouds</td>\n",
              "      <td>28.70</td>\n",
              "      <td>33.335</td>\n",
              "      <td>79.0</td>\n",
              "      <td>19.0012</td>\n",
              "    </tr>\n",
              "    <tr>\n",
              "      <th>2</th>\n",
              "      <td>1/13/2011 9:00</td>\n",
              "      <td>Spring</td>\n",
              "      <td>0</td>\n",
              "      <td>1</td>\n",
              "      <td>Clear + Few clouds</td>\n",
              "      <td>5.74</td>\n",
              "      <td>6.060</td>\n",
              "      <td>50.0</td>\n",
              "      <td>22.0028</td>\n",
              "    </tr>\n",
              "    <tr>\n",
              "      <th>3</th>\n",
              "      <td>11/18/2011 16:00</td>\n",
              "      <td>Winter</td>\n",
              "      <td>0</td>\n",
              "      <td>1</td>\n",
              "      <td>Clear + Few clouds</td>\n",
              "      <td>13.94</td>\n",
              "      <td>16.665</td>\n",
              "      <td>29.0</td>\n",
              "      <td>8.9981</td>\n",
              "    </tr>\n",
              "    <tr>\n",
              "      <th>4</th>\n",
              "      <td>9/13/2011 13:00</td>\n",
              "      <td>Fall</td>\n",
              "      <td>0</td>\n",
              "      <td>1</td>\n",
              "      <td>Clear + Few clouds</td>\n",
              "      <td>30.34</td>\n",
              "      <td>33.335</td>\n",
              "      <td>51.0</td>\n",
              "      <td>19.0012</td>\n",
              "    </tr>\n",
              "  </tbody>\n",
              "</table>\n",
              "</div>\n",
              "      <button class=\"colab-df-convert\" onclick=\"convertToInteractive('df-922eedac-bdee-4177-b8b9-62e4166dc67e')\"\n",
              "              title=\"Convert this dataframe to an interactive table.\"\n",
              "              style=\"display:none;\">\n",
              "        \n",
              "  <svg xmlns=\"http://www.w3.org/2000/svg\" height=\"24px\"viewBox=\"0 0 24 24\"\n",
              "       width=\"24px\">\n",
              "    <path d=\"M0 0h24v24H0V0z\" fill=\"none\"/>\n",
              "    <path d=\"M18.56 5.44l.94 2.06.94-2.06 2.06-.94-2.06-.94-.94-2.06-.94 2.06-2.06.94zm-11 1L8.5 8.5l.94-2.06 2.06-.94-2.06-.94L8.5 2.5l-.94 2.06-2.06.94zm10 10l.94 2.06.94-2.06 2.06-.94-2.06-.94-.94-2.06-.94 2.06-2.06.94z\"/><path d=\"M17.41 7.96l-1.37-1.37c-.4-.4-.92-.59-1.43-.59-.52 0-1.04.2-1.43.59L10.3 9.45l-7.72 7.72c-.78.78-.78 2.05 0 2.83L4 21.41c.39.39.9.59 1.41.59.51 0 1.02-.2 1.41-.59l7.78-7.78 2.81-2.81c.8-.78.8-2.07 0-2.86zM5.41 20L4 18.59l7.72-7.72 1.47 1.35L5.41 20z\"/>\n",
              "  </svg>\n",
              "      </button>\n",
              "      \n",
              "  <style>\n",
              "    .colab-df-container {\n",
              "      display:flex;\n",
              "      flex-wrap:wrap;\n",
              "      gap: 12px;\n",
              "    }\n",
              "\n",
              "    .colab-df-convert {\n",
              "      background-color: #E8F0FE;\n",
              "      border: none;\n",
              "      border-radius: 50%;\n",
              "      cursor: pointer;\n",
              "      display: none;\n",
              "      fill: #1967D2;\n",
              "      height: 32px;\n",
              "      padding: 0 0 0 0;\n",
              "      width: 32px;\n",
              "    }\n",
              "\n",
              "    .colab-df-convert:hover {\n",
              "      background-color: #E2EBFA;\n",
              "      box-shadow: 0px 1px 2px rgba(60, 64, 67, 0.3), 0px 1px 3px 1px rgba(60, 64, 67, 0.15);\n",
              "      fill: #174EA6;\n",
              "    }\n",
              "\n",
              "    [theme=dark] .colab-df-convert {\n",
              "      background-color: #3B4455;\n",
              "      fill: #D2E3FC;\n",
              "    }\n",
              "\n",
              "    [theme=dark] .colab-df-convert:hover {\n",
              "      background-color: #434B5C;\n",
              "      box-shadow: 0px 1px 3px 1px rgba(0, 0, 0, 0.15);\n",
              "      filter: drop-shadow(0px 1px 2px rgba(0, 0, 0, 0.3));\n",
              "      fill: #FFFFFF;\n",
              "    }\n",
              "  </style>\n",
              "\n",
              "      <script>\n",
              "        const buttonEl =\n",
              "          document.querySelector('#df-922eedac-bdee-4177-b8b9-62e4166dc67e button.colab-df-convert');\n",
              "        buttonEl.style.display =\n",
              "          google.colab.kernel.accessAllowed ? 'block' : 'none';\n",
              "\n",
              "        async function convertToInteractive(key) {\n",
              "          const element = document.querySelector('#df-922eedac-bdee-4177-b8b9-62e4166dc67e');\n",
              "          const dataTable =\n",
              "            await google.colab.kernel.invokeFunction('convertToInteractive',\n",
              "                                                     [key], {});\n",
              "          if (!dataTable) return;\n",
              "\n",
              "          const docLinkHtml = 'Like what you see? Visit the ' +\n",
              "            '<a target=\"_blank\" href=https://colab.research.google.com/notebooks/data_table.ipynb>data table notebook</a>'\n",
              "            + ' to learn more about interactive tables.';\n",
              "          element.innerHTML = '';\n",
              "          dataTable['output_type'] = 'display_data';\n",
              "          await google.colab.output.renderOutput(dataTable, element);\n",
              "          const docLink = document.createElement('div');\n",
              "          docLink.innerHTML = docLinkHtml;\n",
              "          element.appendChild(docLink);\n",
              "        }\n",
              "      </script>\n",
              "    </div>\n",
              "  </div>\n",
              "  "
            ]
          },
          "metadata": {},
          "execution_count": 2
        }
      ],
      "source": [
        "df=pd.read_csv(\"train.csv\")\n",
        "df.head()"
      ]
    },
    {
      "cell_type": "markdown",
      "metadata": {
        "id": "YrSIV9i9la8R"
      },
      "source": [
        "Descriptions of the columns present in the dataset:\n",
        "\n",
        "*   datetime - hourly date + timestamp\n",
        "*   season - spring, summer, autumn, winter\n",
        "*   holiday - whether the day is considered a holiday\n",
        "*   workingday - whether the day is neither a weekend nor holiday\n",
        "*   temp - temperature in Celsius\n",
        "*   weather - Clear , Cloudy, Light Rain, Heavy \n",
        "*   atemp - \"feels like\" temperature in Celsius\n",
        "*   humidity - relative humidity\n",
        "*   windspeed - wind speed\n",
        "*   Total_booking - number of total booking"
      ]
    },
    {
      "cell_type": "code",
      "execution_count": 3,
      "metadata": {
        "colab": {
          "base_uri": "https://localhost:8080/",
          "height": 206
        },
        "id": "GR1O6Pv5ZnQl",
        "outputId": "8f446c9a-cfc1-48e3-92e4-9db5fd4e1121"
      },
      "outputs": [
        {
          "output_type": "execute_result",
          "data": {
            "text/plain": [
              "           datetime  season  holiday  workingday              weather   temp  \\\n",
              "0    5/2/2012 19:00  Summer        0           1   Clear + Few clouds  22.14   \n",
              "1     9/5/2012 4:00    Fall        0           1   Clear + Few clouds  28.70   \n",
              "2    1/13/2011 9:00  Spring        0           1   Clear + Few clouds   5.74   \n",
              "3  11/18/2011 16:00  Winter        0           1   Clear + Few clouds  13.94   \n",
              "4   9/13/2011 13:00    Fall        0           1   Clear + Few clouds  30.34   \n",
              "\n",
              "    atemp  humidity  windspeed  Total_booking  \n",
              "0  25.760      77.0    16.9979            504  \n",
              "1  33.335      79.0    19.0012              5  \n",
              "2   6.060      50.0    22.0028            139  \n",
              "3  16.665      29.0     8.9981            209  \n",
              "4  33.335      51.0    19.0012            184  "
            ],
            "text/html": [
              "\n",
              "  <div id=\"df-b81d3a95-e97c-4b7f-bb7b-c0c02dbbadfa\">\n",
              "    <div class=\"colab-df-container\">\n",
              "      <div>\n",
              "<style scoped>\n",
              "    .dataframe tbody tr th:only-of-type {\n",
              "        vertical-align: middle;\n",
              "    }\n",
              "\n",
              "    .dataframe tbody tr th {\n",
              "        vertical-align: top;\n",
              "    }\n",
              "\n",
              "    .dataframe thead th {\n",
              "        text-align: right;\n",
              "    }\n",
              "</style>\n",
              "<table border=\"1\" class=\"dataframe\">\n",
              "  <thead>\n",
              "    <tr style=\"text-align: right;\">\n",
              "      <th></th>\n",
              "      <th>datetime</th>\n",
              "      <th>season</th>\n",
              "      <th>holiday</th>\n",
              "      <th>workingday</th>\n",
              "      <th>weather</th>\n",
              "      <th>temp</th>\n",
              "      <th>atemp</th>\n",
              "      <th>humidity</th>\n",
              "      <th>windspeed</th>\n",
              "      <th>Total_booking</th>\n",
              "    </tr>\n",
              "  </thead>\n",
              "  <tbody>\n",
              "    <tr>\n",
              "      <th>0</th>\n",
              "      <td>5/2/2012 19:00</td>\n",
              "      <td>Summer</td>\n",
              "      <td>0</td>\n",
              "      <td>1</td>\n",
              "      <td>Clear + Few clouds</td>\n",
              "      <td>22.14</td>\n",
              "      <td>25.760</td>\n",
              "      <td>77.0</td>\n",
              "      <td>16.9979</td>\n",
              "      <td>504</td>\n",
              "    </tr>\n",
              "    <tr>\n",
              "      <th>1</th>\n",
              "      <td>9/5/2012 4:00</td>\n",
              "      <td>Fall</td>\n",
              "      <td>0</td>\n",
              "      <td>1</td>\n",
              "      <td>Clear + Few clouds</td>\n",
              "      <td>28.70</td>\n",
              "      <td>33.335</td>\n",
              "      <td>79.0</td>\n",
              "      <td>19.0012</td>\n",
              "      <td>5</td>\n",
              "    </tr>\n",
              "    <tr>\n",
              "      <th>2</th>\n",
              "      <td>1/13/2011 9:00</td>\n",
              "      <td>Spring</td>\n",
              "      <td>0</td>\n",
              "      <td>1</td>\n",
              "      <td>Clear + Few clouds</td>\n",
              "      <td>5.74</td>\n",
              "      <td>6.060</td>\n",
              "      <td>50.0</td>\n",
              "      <td>22.0028</td>\n",
              "      <td>139</td>\n",
              "    </tr>\n",
              "    <tr>\n",
              "      <th>3</th>\n",
              "      <td>11/18/2011 16:00</td>\n",
              "      <td>Winter</td>\n",
              "      <td>0</td>\n",
              "      <td>1</td>\n",
              "      <td>Clear + Few clouds</td>\n",
              "      <td>13.94</td>\n",
              "      <td>16.665</td>\n",
              "      <td>29.0</td>\n",
              "      <td>8.9981</td>\n",
              "      <td>209</td>\n",
              "    </tr>\n",
              "    <tr>\n",
              "      <th>4</th>\n",
              "      <td>9/13/2011 13:00</td>\n",
              "      <td>Fall</td>\n",
              "      <td>0</td>\n",
              "      <td>1</td>\n",
              "      <td>Clear + Few clouds</td>\n",
              "      <td>30.34</td>\n",
              "      <td>33.335</td>\n",
              "      <td>51.0</td>\n",
              "      <td>19.0012</td>\n",
              "      <td>184</td>\n",
              "    </tr>\n",
              "  </tbody>\n",
              "</table>\n",
              "</div>\n",
              "      <button class=\"colab-df-convert\" onclick=\"convertToInteractive('df-b81d3a95-e97c-4b7f-bb7b-c0c02dbbadfa')\"\n",
              "              title=\"Convert this dataframe to an interactive table.\"\n",
              "              style=\"display:none;\">\n",
              "        \n",
              "  <svg xmlns=\"http://www.w3.org/2000/svg\" height=\"24px\"viewBox=\"0 0 24 24\"\n",
              "       width=\"24px\">\n",
              "    <path d=\"M0 0h24v24H0V0z\" fill=\"none\"/>\n",
              "    <path d=\"M18.56 5.44l.94 2.06.94-2.06 2.06-.94-2.06-.94-.94-2.06-.94 2.06-2.06.94zm-11 1L8.5 8.5l.94-2.06 2.06-.94-2.06-.94L8.5 2.5l-.94 2.06-2.06.94zm10 10l.94 2.06.94-2.06 2.06-.94-2.06-.94-.94-2.06-.94 2.06-2.06.94z\"/><path d=\"M17.41 7.96l-1.37-1.37c-.4-.4-.92-.59-1.43-.59-.52 0-1.04.2-1.43.59L10.3 9.45l-7.72 7.72c-.78.78-.78 2.05 0 2.83L4 21.41c.39.39.9.59 1.41.59.51 0 1.02-.2 1.41-.59l7.78-7.78 2.81-2.81c.8-.78.8-2.07 0-2.86zM5.41 20L4 18.59l7.72-7.72 1.47 1.35L5.41 20z\"/>\n",
              "  </svg>\n",
              "      </button>\n",
              "      \n",
              "  <style>\n",
              "    .colab-df-container {\n",
              "      display:flex;\n",
              "      flex-wrap:wrap;\n",
              "      gap: 12px;\n",
              "    }\n",
              "\n",
              "    .colab-df-convert {\n",
              "      background-color: #E8F0FE;\n",
              "      border: none;\n",
              "      border-radius: 50%;\n",
              "      cursor: pointer;\n",
              "      display: none;\n",
              "      fill: #1967D2;\n",
              "      height: 32px;\n",
              "      padding: 0 0 0 0;\n",
              "      width: 32px;\n",
              "    }\n",
              "\n",
              "    .colab-df-convert:hover {\n",
              "      background-color: #E2EBFA;\n",
              "      box-shadow: 0px 1px 2px rgba(60, 64, 67, 0.3), 0px 1px 3px 1px rgba(60, 64, 67, 0.15);\n",
              "      fill: #174EA6;\n",
              "    }\n",
              "\n",
              "    [theme=dark] .colab-df-convert {\n",
              "      background-color: #3B4455;\n",
              "      fill: #D2E3FC;\n",
              "    }\n",
              "\n",
              "    [theme=dark] .colab-df-convert:hover {\n",
              "      background-color: #434B5C;\n",
              "      box-shadow: 0px 1px 3px 1px rgba(0, 0, 0, 0.15);\n",
              "      filter: drop-shadow(0px 1px 2px rgba(0, 0, 0, 0.3));\n",
              "      fill: #FFFFFF;\n",
              "    }\n",
              "  </style>\n",
              "\n",
              "      <script>\n",
              "        const buttonEl =\n",
              "          document.querySelector('#df-b81d3a95-e97c-4b7f-bb7b-c0c02dbbadfa button.colab-df-convert');\n",
              "        buttonEl.style.display =\n",
              "          google.colab.kernel.accessAllowed ? 'block' : 'none';\n",
              "\n",
              "        async function convertToInteractive(key) {\n",
              "          const element = document.querySelector('#df-b81d3a95-e97c-4b7f-bb7b-c0c02dbbadfa');\n",
              "          const dataTable =\n",
              "            await google.colab.kernel.invokeFunction('convertToInteractive',\n",
              "                                                     [key], {});\n",
              "          if (!dataTable) return;\n",
              "\n",
              "          const docLinkHtml = 'Like what you see? Visit the ' +\n",
              "            '<a target=\"_blank\" href=https://colab.research.google.com/notebooks/data_table.ipynb>data table notebook</a>'\n",
              "            + ' to learn more about interactive tables.';\n",
              "          element.innerHTML = '';\n",
              "          dataTable['output_type'] = 'display_data';\n",
              "          await google.colab.output.renderOutput(dataTable, element);\n",
              "          const docLink = document.createElement('div');\n",
              "          docLink.innerHTML = docLinkHtml;\n",
              "          element.appendChild(docLink);\n",
              "        }\n",
              "      </script>\n",
              "    </div>\n",
              "  </div>\n",
              "  "
            ]
          },
          "metadata": {},
          "execution_count": 3
        }
      ],
      "source": [
        "df_l=pd.read_csv(\"train_label.csv\", header=None)\n",
        "df[\"Total_booking\"]=df_l[0]\n",
        "df.head()"
      ]
    },
    {
      "cell_type": "markdown",
      "metadata": {
        "id": "cYA5umWx_Of5"
      },
      "source": [
        "The model will predict if a person will book a cab based on these features as.\n",
        "*   datetime - Time of day heavily depends on bookings made as people tend to make less bookings during mid night.\n",
        "*   season - People may use cabs even for shorter distance in winter to save themselves from cold.\n",
        "*   holiday - May decrease number of bookings as persons who use cabs for office on daily basis will not go\n",
        "*   workingday - May increase number of bookings\n",
        "*   temp - May decrease as more people will like to stay at home.\n",
        "*   weather - People may use more cabs in rainy season to save them from rain.\n",
        "*   humidity - People may tend to stay at home due to higher humidity.\n",
        "*   windspeed - High wind speed may increase the number of cab bookings."
      ]
    },
    {
      "cell_type": "code",
      "execution_count": 4,
      "metadata": {
        "colab": {
          "base_uri": "https://localhost:8080/",
          "height": 300
        },
        "id": "F53_L4gDyPAg",
        "outputId": "bda55d29-3d09-4d23-8679-d74f52b564ba"
      },
      "outputs": [
        {
          "output_type": "execute_result",
          "data": {
            "text/plain": [
              "           holiday   workingday         temp        atemp     humidity  \\\n",
              "count  8708.000000  8708.000000  8708.000000  8708.000000  8706.000000   \n",
              "mean      0.028480     0.680294    20.243020    23.655552    61.654261   \n",
              "std       0.166348     0.466389     7.813494     8.501107    19.198846   \n",
              "min       0.000000     0.000000     0.820000     0.760000     0.000000   \n",
              "25%       0.000000     0.000000    13.940000    16.665000    46.000000   \n",
              "50%       0.000000     1.000000    20.500000    24.240000    61.000000   \n",
              "75%       0.000000     1.000000    26.240000    31.060000    77.000000   \n",
              "max       1.000000     1.000000    41.000000    45.455000   100.000000   \n",
              "\n",
              "         windspeed  Total_booking  \n",
              "count  8708.000000    8708.000000  \n",
              "mean     12.843891     193.007005  \n",
              "std       8.190314     181.552211  \n",
              "min       0.000000       1.000000  \n",
              "25%       7.001500      43.000000  \n",
              "50%      12.998000     148.000000  \n",
              "75%      16.997900     286.000000  \n",
              "max      56.996900     977.000000  "
            ],
            "text/html": [
              "\n",
              "  <div id=\"df-fb44c850-1a8f-49fd-ba2b-6248cc93abb9\">\n",
              "    <div class=\"colab-df-container\">\n",
              "      <div>\n",
              "<style scoped>\n",
              "    .dataframe tbody tr th:only-of-type {\n",
              "        vertical-align: middle;\n",
              "    }\n",
              "\n",
              "    .dataframe tbody tr th {\n",
              "        vertical-align: top;\n",
              "    }\n",
              "\n",
              "    .dataframe thead th {\n",
              "        text-align: right;\n",
              "    }\n",
              "</style>\n",
              "<table border=\"1\" class=\"dataframe\">\n",
              "  <thead>\n",
              "    <tr style=\"text-align: right;\">\n",
              "      <th></th>\n",
              "      <th>holiday</th>\n",
              "      <th>workingday</th>\n",
              "      <th>temp</th>\n",
              "      <th>atemp</th>\n",
              "      <th>humidity</th>\n",
              "      <th>windspeed</th>\n",
              "      <th>Total_booking</th>\n",
              "    </tr>\n",
              "  </thead>\n",
              "  <tbody>\n",
              "    <tr>\n",
              "      <th>count</th>\n",
              "      <td>8708.000000</td>\n",
              "      <td>8708.000000</td>\n",
              "      <td>8708.000000</td>\n",
              "      <td>8708.000000</td>\n",
              "      <td>8706.000000</td>\n",
              "      <td>8708.000000</td>\n",
              "      <td>8708.000000</td>\n",
              "    </tr>\n",
              "    <tr>\n",
              "      <th>mean</th>\n",
              "      <td>0.028480</td>\n",
              "      <td>0.680294</td>\n",
              "      <td>20.243020</td>\n",
              "      <td>23.655552</td>\n",
              "      <td>61.654261</td>\n",
              "      <td>12.843891</td>\n",
              "      <td>193.007005</td>\n",
              "    </tr>\n",
              "    <tr>\n",
              "      <th>std</th>\n",
              "      <td>0.166348</td>\n",
              "      <td>0.466389</td>\n",
              "      <td>7.813494</td>\n",
              "      <td>8.501107</td>\n",
              "      <td>19.198846</td>\n",
              "      <td>8.190314</td>\n",
              "      <td>181.552211</td>\n",
              "    </tr>\n",
              "    <tr>\n",
              "      <th>min</th>\n",
              "      <td>0.000000</td>\n",
              "      <td>0.000000</td>\n",
              "      <td>0.820000</td>\n",
              "      <td>0.760000</td>\n",
              "      <td>0.000000</td>\n",
              "      <td>0.000000</td>\n",
              "      <td>1.000000</td>\n",
              "    </tr>\n",
              "    <tr>\n",
              "      <th>25%</th>\n",
              "      <td>0.000000</td>\n",
              "      <td>0.000000</td>\n",
              "      <td>13.940000</td>\n",
              "      <td>16.665000</td>\n",
              "      <td>46.000000</td>\n",
              "      <td>7.001500</td>\n",
              "      <td>43.000000</td>\n",
              "    </tr>\n",
              "    <tr>\n",
              "      <th>50%</th>\n",
              "      <td>0.000000</td>\n",
              "      <td>1.000000</td>\n",
              "      <td>20.500000</td>\n",
              "      <td>24.240000</td>\n",
              "      <td>61.000000</td>\n",
              "      <td>12.998000</td>\n",
              "      <td>148.000000</td>\n",
              "    </tr>\n",
              "    <tr>\n",
              "      <th>75%</th>\n",
              "      <td>0.000000</td>\n",
              "      <td>1.000000</td>\n",
              "      <td>26.240000</td>\n",
              "      <td>31.060000</td>\n",
              "      <td>77.000000</td>\n",
              "      <td>16.997900</td>\n",
              "      <td>286.000000</td>\n",
              "    </tr>\n",
              "    <tr>\n",
              "      <th>max</th>\n",
              "      <td>1.000000</td>\n",
              "      <td>1.000000</td>\n",
              "      <td>41.000000</td>\n",
              "      <td>45.455000</td>\n",
              "      <td>100.000000</td>\n",
              "      <td>56.996900</td>\n",
              "      <td>977.000000</td>\n",
              "    </tr>\n",
              "  </tbody>\n",
              "</table>\n",
              "</div>\n",
              "      <button class=\"colab-df-convert\" onclick=\"convertToInteractive('df-fb44c850-1a8f-49fd-ba2b-6248cc93abb9')\"\n",
              "              title=\"Convert this dataframe to an interactive table.\"\n",
              "              style=\"display:none;\">\n",
              "        \n",
              "  <svg xmlns=\"http://www.w3.org/2000/svg\" height=\"24px\"viewBox=\"0 0 24 24\"\n",
              "       width=\"24px\">\n",
              "    <path d=\"M0 0h24v24H0V0z\" fill=\"none\"/>\n",
              "    <path d=\"M18.56 5.44l.94 2.06.94-2.06 2.06-.94-2.06-.94-.94-2.06-.94 2.06-2.06.94zm-11 1L8.5 8.5l.94-2.06 2.06-.94-2.06-.94L8.5 2.5l-.94 2.06-2.06.94zm10 10l.94 2.06.94-2.06 2.06-.94-2.06-.94-.94-2.06-.94 2.06-2.06.94z\"/><path d=\"M17.41 7.96l-1.37-1.37c-.4-.4-.92-.59-1.43-.59-.52 0-1.04.2-1.43.59L10.3 9.45l-7.72 7.72c-.78.78-.78 2.05 0 2.83L4 21.41c.39.39.9.59 1.41.59.51 0 1.02-.2 1.41-.59l7.78-7.78 2.81-2.81c.8-.78.8-2.07 0-2.86zM5.41 20L4 18.59l7.72-7.72 1.47 1.35L5.41 20z\"/>\n",
              "  </svg>\n",
              "      </button>\n",
              "      \n",
              "  <style>\n",
              "    .colab-df-container {\n",
              "      display:flex;\n",
              "      flex-wrap:wrap;\n",
              "      gap: 12px;\n",
              "    }\n",
              "\n",
              "    .colab-df-convert {\n",
              "      background-color: #E8F0FE;\n",
              "      border: none;\n",
              "      border-radius: 50%;\n",
              "      cursor: pointer;\n",
              "      display: none;\n",
              "      fill: #1967D2;\n",
              "      height: 32px;\n",
              "      padding: 0 0 0 0;\n",
              "      width: 32px;\n",
              "    }\n",
              "\n",
              "    .colab-df-convert:hover {\n",
              "      background-color: #E2EBFA;\n",
              "      box-shadow: 0px 1px 2px rgba(60, 64, 67, 0.3), 0px 1px 3px 1px rgba(60, 64, 67, 0.15);\n",
              "      fill: #174EA6;\n",
              "    }\n",
              "\n",
              "    [theme=dark] .colab-df-convert {\n",
              "      background-color: #3B4455;\n",
              "      fill: #D2E3FC;\n",
              "    }\n",
              "\n",
              "    [theme=dark] .colab-df-convert:hover {\n",
              "      background-color: #434B5C;\n",
              "      box-shadow: 0px 1px 3px 1px rgba(0, 0, 0, 0.15);\n",
              "      filter: drop-shadow(0px 1px 2px rgba(0, 0, 0, 0.3));\n",
              "      fill: #FFFFFF;\n",
              "    }\n",
              "  </style>\n",
              "\n",
              "      <script>\n",
              "        const buttonEl =\n",
              "          document.querySelector('#df-fb44c850-1a8f-49fd-ba2b-6248cc93abb9 button.colab-df-convert');\n",
              "        buttonEl.style.display =\n",
              "          google.colab.kernel.accessAllowed ? 'block' : 'none';\n",
              "\n",
              "        async function convertToInteractive(key) {\n",
              "          const element = document.querySelector('#df-fb44c850-1a8f-49fd-ba2b-6248cc93abb9');\n",
              "          const dataTable =\n",
              "            await google.colab.kernel.invokeFunction('convertToInteractive',\n",
              "                                                     [key], {});\n",
              "          if (!dataTable) return;\n",
              "\n",
              "          const docLinkHtml = 'Like what you see? Visit the ' +\n",
              "            '<a target=\"_blank\" href=https://colab.research.google.com/notebooks/data_table.ipynb>data table notebook</a>'\n",
              "            + ' to learn more about interactive tables.';\n",
              "          element.innerHTML = '';\n",
              "          dataTable['output_type'] = 'display_data';\n",
              "          await google.colab.output.renderOutput(dataTable, element);\n",
              "          const docLink = document.createElement('div');\n",
              "          docLink.innerHTML = docLinkHtml;\n",
              "          element.appendChild(docLink);\n",
              "        }\n",
              "      </script>\n",
              "    </div>\n",
              "  </div>\n",
              "  "
            ]
          },
          "metadata": {},
          "execution_count": 4
        }
      ],
      "source": [
        "df.describe()"
      ]
    },
    {
      "cell_type": "markdown",
      "metadata": {
        "id": "silBcG7BMuyG"
      },
      "source": [
        "### Creating target Variable for Classification\n",
        "If \"book\" is equal to 1 it means a person will book a cab otherwise not."
      ]
    },
    {
      "cell_type": "code",
      "execution_count": 5,
      "metadata": {
        "colab": {
          "base_uri": "https://localhost:8080/",
          "height": 206
        },
        "id": "T7lX3XSwxwmt",
        "outputId": "c9ea6c1b-9d84-4a29-96d3-a1d9af9a55ab"
      },
      "outputs": [
        {
          "output_type": "execute_result",
          "data": {
            "text/plain": [
              "           datetime  season  holiday  workingday              weather   temp  \\\n",
              "0    5/2/2012 19:00  Summer        0           1   Clear + Few clouds  22.14   \n",
              "1     9/5/2012 4:00    Fall        0           1   Clear + Few clouds  28.70   \n",
              "2    1/13/2011 9:00  Spring        0           1   Clear + Few clouds   5.74   \n",
              "3  11/18/2011 16:00  Winter        0           1   Clear + Few clouds  13.94   \n",
              "4   9/13/2011 13:00    Fall        0           1   Clear + Few clouds  30.34   \n",
              "\n",
              "    atemp  humidity  windspeed  Total_booking  Book  \n",
              "0  25.760      77.0    16.9979            504     1  \n",
              "1  33.335      79.0    19.0012              5     0  \n",
              "2   6.060      50.0    22.0028            139     0  \n",
              "3  16.665      29.0     8.9981            209     1  \n",
              "4  33.335      51.0    19.0012            184     1  "
            ],
            "text/html": [
              "\n",
              "  <div id=\"df-62a7f473-c833-4ca3-967b-bac214edf0d7\">\n",
              "    <div class=\"colab-df-container\">\n",
              "      <div>\n",
              "<style scoped>\n",
              "    .dataframe tbody tr th:only-of-type {\n",
              "        vertical-align: middle;\n",
              "    }\n",
              "\n",
              "    .dataframe tbody tr th {\n",
              "        vertical-align: top;\n",
              "    }\n",
              "\n",
              "    .dataframe thead th {\n",
              "        text-align: right;\n",
              "    }\n",
              "</style>\n",
              "<table border=\"1\" class=\"dataframe\">\n",
              "  <thead>\n",
              "    <tr style=\"text-align: right;\">\n",
              "      <th></th>\n",
              "      <th>datetime</th>\n",
              "      <th>season</th>\n",
              "      <th>holiday</th>\n",
              "      <th>workingday</th>\n",
              "      <th>weather</th>\n",
              "      <th>temp</th>\n",
              "      <th>atemp</th>\n",
              "      <th>humidity</th>\n",
              "      <th>windspeed</th>\n",
              "      <th>Total_booking</th>\n",
              "      <th>Book</th>\n",
              "    </tr>\n",
              "  </thead>\n",
              "  <tbody>\n",
              "    <tr>\n",
              "      <th>0</th>\n",
              "      <td>5/2/2012 19:00</td>\n",
              "      <td>Summer</td>\n",
              "      <td>0</td>\n",
              "      <td>1</td>\n",
              "      <td>Clear + Few clouds</td>\n",
              "      <td>22.14</td>\n",
              "      <td>25.760</td>\n",
              "      <td>77.0</td>\n",
              "      <td>16.9979</td>\n",
              "      <td>504</td>\n",
              "      <td>1</td>\n",
              "    </tr>\n",
              "    <tr>\n",
              "      <th>1</th>\n",
              "      <td>9/5/2012 4:00</td>\n",
              "      <td>Fall</td>\n",
              "      <td>0</td>\n",
              "      <td>1</td>\n",
              "      <td>Clear + Few clouds</td>\n",
              "      <td>28.70</td>\n",
              "      <td>33.335</td>\n",
              "      <td>79.0</td>\n",
              "      <td>19.0012</td>\n",
              "      <td>5</td>\n",
              "      <td>0</td>\n",
              "    </tr>\n",
              "    <tr>\n",
              "      <th>2</th>\n",
              "      <td>1/13/2011 9:00</td>\n",
              "      <td>Spring</td>\n",
              "      <td>0</td>\n",
              "      <td>1</td>\n",
              "      <td>Clear + Few clouds</td>\n",
              "      <td>5.74</td>\n",
              "      <td>6.060</td>\n",
              "      <td>50.0</td>\n",
              "      <td>22.0028</td>\n",
              "      <td>139</td>\n",
              "      <td>0</td>\n",
              "    </tr>\n",
              "    <tr>\n",
              "      <th>3</th>\n",
              "      <td>11/18/2011 16:00</td>\n",
              "      <td>Winter</td>\n",
              "      <td>0</td>\n",
              "      <td>1</td>\n",
              "      <td>Clear + Few clouds</td>\n",
              "      <td>13.94</td>\n",
              "      <td>16.665</td>\n",
              "      <td>29.0</td>\n",
              "      <td>8.9981</td>\n",
              "      <td>209</td>\n",
              "      <td>1</td>\n",
              "    </tr>\n",
              "    <tr>\n",
              "      <th>4</th>\n",
              "      <td>9/13/2011 13:00</td>\n",
              "      <td>Fall</td>\n",
              "      <td>0</td>\n",
              "      <td>1</td>\n",
              "      <td>Clear + Few clouds</td>\n",
              "      <td>30.34</td>\n",
              "      <td>33.335</td>\n",
              "      <td>51.0</td>\n",
              "      <td>19.0012</td>\n",
              "      <td>184</td>\n",
              "      <td>1</td>\n",
              "    </tr>\n",
              "  </tbody>\n",
              "</table>\n",
              "</div>\n",
              "      <button class=\"colab-df-convert\" onclick=\"convertToInteractive('df-62a7f473-c833-4ca3-967b-bac214edf0d7')\"\n",
              "              title=\"Convert this dataframe to an interactive table.\"\n",
              "              style=\"display:none;\">\n",
              "        \n",
              "  <svg xmlns=\"http://www.w3.org/2000/svg\" height=\"24px\"viewBox=\"0 0 24 24\"\n",
              "       width=\"24px\">\n",
              "    <path d=\"M0 0h24v24H0V0z\" fill=\"none\"/>\n",
              "    <path d=\"M18.56 5.44l.94 2.06.94-2.06 2.06-.94-2.06-.94-.94-2.06-.94 2.06-2.06.94zm-11 1L8.5 8.5l.94-2.06 2.06-.94-2.06-.94L8.5 2.5l-.94 2.06-2.06.94zm10 10l.94 2.06.94-2.06 2.06-.94-2.06-.94-.94-2.06-.94 2.06-2.06.94z\"/><path d=\"M17.41 7.96l-1.37-1.37c-.4-.4-.92-.59-1.43-.59-.52 0-1.04.2-1.43.59L10.3 9.45l-7.72 7.72c-.78.78-.78 2.05 0 2.83L4 21.41c.39.39.9.59 1.41.59.51 0 1.02-.2 1.41-.59l7.78-7.78 2.81-2.81c.8-.78.8-2.07 0-2.86zM5.41 20L4 18.59l7.72-7.72 1.47 1.35L5.41 20z\"/>\n",
              "  </svg>\n",
              "      </button>\n",
              "      \n",
              "  <style>\n",
              "    .colab-df-container {\n",
              "      display:flex;\n",
              "      flex-wrap:wrap;\n",
              "      gap: 12px;\n",
              "    }\n",
              "\n",
              "    .colab-df-convert {\n",
              "      background-color: #E8F0FE;\n",
              "      border: none;\n",
              "      border-radius: 50%;\n",
              "      cursor: pointer;\n",
              "      display: none;\n",
              "      fill: #1967D2;\n",
              "      height: 32px;\n",
              "      padding: 0 0 0 0;\n",
              "      width: 32px;\n",
              "    }\n",
              "\n",
              "    .colab-df-convert:hover {\n",
              "      background-color: #E2EBFA;\n",
              "      box-shadow: 0px 1px 2px rgba(60, 64, 67, 0.3), 0px 1px 3px 1px rgba(60, 64, 67, 0.15);\n",
              "      fill: #174EA6;\n",
              "    }\n",
              "\n",
              "    [theme=dark] .colab-df-convert {\n",
              "      background-color: #3B4455;\n",
              "      fill: #D2E3FC;\n",
              "    }\n",
              "\n",
              "    [theme=dark] .colab-df-convert:hover {\n",
              "      background-color: #434B5C;\n",
              "      box-shadow: 0px 1px 3px 1px rgba(0, 0, 0, 0.15);\n",
              "      filter: drop-shadow(0px 1px 2px rgba(0, 0, 0, 0.3));\n",
              "      fill: #FFFFFF;\n",
              "    }\n",
              "  </style>\n",
              "\n",
              "      <script>\n",
              "        const buttonEl =\n",
              "          document.querySelector('#df-62a7f473-c833-4ca3-967b-bac214edf0d7 button.colab-df-convert');\n",
              "        buttonEl.style.display =\n",
              "          google.colab.kernel.accessAllowed ? 'block' : 'none';\n",
              "\n",
              "        async function convertToInteractive(key) {\n",
              "          const element = document.querySelector('#df-62a7f473-c833-4ca3-967b-bac214edf0d7');\n",
              "          const dataTable =\n",
              "            await google.colab.kernel.invokeFunction('convertToInteractive',\n",
              "                                                     [key], {});\n",
              "          if (!dataTable) return;\n",
              "\n",
              "          const docLinkHtml = 'Like what you see? Visit the ' +\n",
              "            '<a target=\"_blank\" href=https://colab.research.google.com/notebooks/data_table.ipynb>data table notebook</a>'\n",
              "            + ' to learn more about interactive tables.';\n",
              "          element.innerHTML = '';\n",
              "          dataTable['output_type'] = 'display_data';\n",
              "          await google.colab.output.renderOutput(dataTable, element);\n",
              "          const docLink = document.createElement('div');\n",
              "          docLink.innerHTML = docLinkHtml;\n",
              "          element.appendChild(docLink);\n",
              "        }\n",
              "      </script>\n",
              "    </div>\n",
              "  </div>\n",
              "  "
            ]
          },
          "metadata": {},
          "execution_count": 5
        }
      ],
      "source": [
        "median=df.Total_booking.median()\n",
        "df[\"Book\"]=df.Total_booking>=median\n",
        "df[\"Book\"]=df[\"Book\"].map({True: 1, False: 0})\n",
        "df.head()"
      ]
    },
    {
      "cell_type": "markdown",
      "metadata": {
        "id": "3dlQS1igOvyX"
      },
      "source": [
        "Similarly for Testing data"
      ]
    },
    {
      "cell_type": "code",
      "execution_count": 6,
      "metadata": {
        "colab": {
          "base_uri": "https://localhost:8080/",
          "height": 206
        },
        "id": "oS6yBoAaaExH",
        "outputId": "b68a49bb-c638-4ceb-a8c8-db5f32d13774"
      },
      "outputs": [
        {
          "output_type": "execute_result",
          "data": {
            "text/plain": [
              "           datetime  season  holiday  workingday                  weather  \\\n",
              "0   5/10/2012 11:00  Summer        0           1       Clear + Few clouds   \n",
              "1     6/9/2012 7:00  Summer        0           0       Clear + Few clouds   \n",
              "2    3/6/2011 20:00  Spring        0           0   Light Snow, Light Rain   \n",
              "3  10/13/2011 11:00  Winter        0           1           Mist + Cloudy    \n",
              "4    6/2/2012 12:00  Summer        0           0       Clear + Few clouds   \n",
              "\n",
              "    temp   atemp  humidity  windspeed  Total_booking  Book  \n",
              "0  21.32  25.000        48    35.0008            256     1  \n",
              "1  23.78  27.275        64     7.0015             87     0  \n",
              "2  11.48  12.120       100    27.9993             11     0  \n",
              "3  25.42  28.790        83     0.0000             84     0  \n",
              "4  25.42  31.060        43    23.9994            668     1  "
            ],
            "text/html": [
              "\n",
              "  <div id=\"df-e94900de-ae00-4391-8fa5-e00c4cb074d2\">\n",
              "    <div class=\"colab-df-container\">\n",
              "      <div>\n",
              "<style scoped>\n",
              "    .dataframe tbody tr th:only-of-type {\n",
              "        vertical-align: middle;\n",
              "    }\n",
              "\n",
              "    .dataframe tbody tr th {\n",
              "        vertical-align: top;\n",
              "    }\n",
              "\n",
              "    .dataframe thead th {\n",
              "        text-align: right;\n",
              "    }\n",
              "</style>\n",
              "<table border=\"1\" class=\"dataframe\">\n",
              "  <thead>\n",
              "    <tr style=\"text-align: right;\">\n",
              "      <th></th>\n",
              "      <th>datetime</th>\n",
              "      <th>season</th>\n",
              "      <th>holiday</th>\n",
              "      <th>workingday</th>\n",
              "      <th>weather</th>\n",
              "      <th>temp</th>\n",
              "      <th>atemp</th>\n",
              "      <th>humidity</th>\n",
              "      <th>windspeed</th>\n",
              "      <th>Total_booking</th>\n",
              "      <th>Book</th>\n",
              "    </tr>\n",
              "  </thead>\n",
              "  <tbody>\n",
              "    <tr>\n",
              "      <th>0</th>\n",
              "      <td>5/10/2012 11:00</td>\n",
              "      <td>Summer</td>\n",
              "      <td>0</td>\n",
              "      <td>1</td>\n",
              "      <td>Clear + Few clouds</td>\n",
              "      <td>21.32</td>\n",
              "      <td>25.000</td>\n",
              "      <td>48</td>\n",
              "      <td>35.0008</td>\n",
              "      <td>256</td>\n",
              "      <td>1</td>\n",
              "    </tr>\n",
              "    <tr>\n",
              "      <th>1</th>\n",
              "      <td>6/9/2012 7:00</td>\n",
              "      <td>Summer</td>\n",
              "      <td>0</td>\n",
              "      <td>0</td>\n",
              "      <td>Clear + Few clouds</td>\n",
              "      <td>23.78</td>\n",
              "      <td>27.275</td>\n",
              "      <td>64</td>\n",
              "      <td>7.0015</td>\n",
              "      <td>87</td>\n",
              "      <td>0</td>\n",
              "    </tr>\n",
              "    <tr>\n",
              "      <th>2</th>\n",
              "      <td>3/6/2011 20:00</td>\n",
              "      <td>Spring</td>\n",
              "      <td>0</td>\n",
              "      <td>0</td>\n",
              "      <td>Light Snow, Light Rain</td>\n",
              "      <td>11.48</td>\n",
              "      <td>12.120</td>\n",
              "      <td>100</td>\n",
              "      <td>27.9993</td>\n",
              "      <td>11</td>\n",
              "      <td>0</td>\n",
              "    </tr>\n",
              "    <tr>\n",
              "      <th>3</th>\n",
              "      <td>10/13/2011 11:00</td>\n",
              "      <td>Winter</td>\n",
              "      <td>0</td>\n",
              "      <td>1</td>\n",
              "      <td>Mist + Cloudy</td>\n",
              "      <td>25.42</td>\n",
              "      <td>28.790</td>\n",
              "      <td>83</td>\n",
              "      <td>0.0000</td>\n",
              "      <td>84</td>\n",
              "      <td>0</td>\n",
              "    </tr>\n",
              "    <tr>\n",
              "      <th>4</th>\n",
              "      <td>6/2/2012 12:00</td>\n",
              "      <td>Summer</td>\n",
              "      <td>0</td>\n",
              "      <td>0</td>\n",
              "      <td>Clear + Few clouds</td>\n",
              "      <td>25.42</td>\n",
              "      <td>31.060</td>\n",
              "      <td>43</td>\n",
              "      <td>23.9994</td>\n",
              "      <td>668</td>\n",
              "      <td>1</td>\n",
              "    </tr>\n",
              "  </tbody>\n",
              "</table>\n",
              "</div>\n",
              "      <button class=\"colab-df-convert\" onclick=\"convertToInteractive('df-e94900de-ae00-4391-8fa5-e00c4cb074d2')\"\n",
              "              title=\"Convert this dataframe to an interactive table.\"\n",
              "              style=\"display:none;\">\n",
              "        \n",
              "  <svg xmlns=\"http://www.w3.org/2000/svg\" height=\"24px\"viewBox=\"0 0 24 24\"\n",
              "       width=\"24px\">\n",
              "    <path d=\"M0 0h24v24H0V0z\" fill=\"none\"/>\n",
              "    <path d=\"M18.56 5.44l.94 2.06.94-2.06 2.06-.94-2.06-.94-.94-2.06-.94 2.06-2.06.94zm-11 1L8.5 8.5l.94-2.06 2.06-.94-2.06-.94L8.5 2.5l-.94 2.06-2.06.94zm10 10l.94 2.06.94-2.06 2.06-.94-2.06-.94-.94-2.06-.94 2.06-2.06.94z\"/><path d=\"M17.41 7.96l-1.37-1.37c-.4-.4-.92-.59-1.43-.59-.52 0-1.04.2-1.43.59L10.3 9.45l-7.72 7.72c-.78.78-.78 2.05 0 2.83L4 21.41c.39.39.9.59 1.41.59.51 0 1.02-.2 1.41-.59l7.78-7.78 2.81-2.81c.8-.78.8-2.07 0-2.86zM5.41 20L4 18.59l7.72-7.72 1.47 1.35L5.41 20z\"/>\n",
              "  </svg>\n",
              "      </button>\n",
              "      \n",
              "  <style>\n",
              "    .colab-df-container {\n",
              "      display:flex;\n",
              "      flex-wrap:wrap;\n",
              "      gap: 12px;\n",
              "    }\n",
              "\n",
              "    .colab-df-convert {\n",
              "      background-color: #E8F0FE;\n",
              "      border: none;\n",
              "      border-radius: 50%;\n",
              "      cursor: pointer;\n",
              "      display: none;\n",
              "      fill: #1967D2;\n",
              "      height: 32px;\n",
              "      padding: 0 0 0 0;\n",
              "      width: 32px;\n",
              "    }\n",
              "\n",
              "    .colab-df-convert:hover {\n",
              "      background-color: #E2EBFA;\n",
              "      box-shadow: 0px 1px 2px rgba(60, 64, 67, 0.3), 0px 1px 3px 1px rgba(60, 64, 67, 0.15);\n",
              "      fill: #174EA6;\n",
              "    }\n",
              "\n",
              "    [theme=dark] .colab-df-convert {\n",
              "      background-color: #3B4455;\n",
              "      fill: #D2E3FC;\n",
              "    }\n",
              "\n",
              "    [theme=dark] .colab-df-convert:hover {\n",
              "      background-color: #434B5C;\n",
              "      box-shadow: 0px 1px 3px 1px rgba(0, 0, 0, 0.15);\n",
              "      filter: drop-shadow(0px 1px 2px rgba(0, 0, 0, 0.3));\n",
              "      fill: #FFFFFF;\n",
              "    }\n",
              "  </style>\n",
              "\n",
              "      <script>\n",
              "        const buttonEl =\n",
              "          document.querySelector('#df-e94900de-ae00-4391-8fa5-e00c4cb074d2 button.colab-df-convert');\n",
              "        buttonEl.style.display =\n",
              "          google.colab.kernel.accessAllowed ? 'block' : 'none';\n",
              "\n",
              "        async function convertToInteractive(key) {\n",
              "          const element = document.querySelector('#df-e94900de-ae00-4391-8fa5-e00c4cb074d2');\n",
              "          const dataTable =\n",
              "            await google.colab.kernel.invokeFunction('convertToInteractive',\n",
              "                                                     [key], {});\n",
              "          if (!dataTable) return;\n",
              "\n",
              "          const docLinkHtml = 'Like what you see? Visit the ' +\n",
              "            '<a target=\"_blank\" href=https://colab.research.google.com/notebooks/data_table.ipynb>data table notebook</a>'\n",
              "            + ' to learn more about interactive tables.';\n",
              "          element.innerHTML = '';\n",
              "          dataTable['output_type'] = 'display_data';\n",
              "          await google.colab.output.renderOutput(dataTable, element);\n",
              "          const docLink = document.createElement('div');\n",
              "          docLink.innerHTML = docLinkHtml;\n",
              "          element.appendChild(docLink);\n",
              "        }\n",
              "      </script>\n",
              "    </div>\n",
              "  </div>\n",
              "  "
            ]
          },
          "metadata": {},
          "execution_count": 6
        }
      ],
      "source": [
        "df_test=pd.read_csv(\"test.csv\")\n",
        "df_test_label=pd.read_csv(\"test_label.csv\", header=None)\n",
        "df_test[\"Total_booking\"]=df_test_label[0]\n",
        "median=df_test.Total_booking.median()\n",
        "df_test[\"Book\"]=df_test.Total_booking>=median\n",
        "df_test[\"Book\"]=df_test[\"Book\"].map({True: 1, False: 0})\n",
        "df_test.head()"
      ]
    },
    {
      "cell_type": "markdown",
      "metadata": {
        "id": "JWfR1GCP16qQ"
      },
      "source": [
        "# Analyse the Dataset"
      ]
    },
    {
      "cell_type": "code",
      "execution_count": 7,
      "metadata": {
        "colab": {
          "base_uri": "https://localhost:8080/"
        },
        "id": "QUGzk_3qaxaa",
        "outputId": "c0145e9e-e212-440d-ffdd-dcc6abb5d96c"
      },
      "outputs": [
        {
          "output_type": "stream",
          "name": "stdout",
          "text": [
            "Shape of training data (8708, 11)\n",
            "Shape of test data (2178, 11)\n"
          ]
        }
      ],
      "source": [
        "print(\"Shape of training data\", df.shape)\n",
        "print(\"Shape of test data\", df_test.shape)"
      ]
    },
    {
      "cell_type": "code",
      "execution_count": 8,
      "metadata": {
        "colab": {
          "base_uri": "https://localhost:8080/"
        },
        "id": "G1slrqj_cKTC",
        "outputId": "1c281a7a-5952-45a2-8cf7-82835a4d1d07"
      },
      "outputs": [
        {
          "output_type": "execute_result",
          "data": {
            "text/plain": [
              "datetime          object\n",
              "season            object\n",
              "holiday            int64\n",
              "workingday         int64\n",
              "weather           object\n",
              "temp             float64\n",
              "atemp            float64\n",
              "humidity         float64\n",
              "windspeed        float64\n",
              "Total_booking      int64\n",
              "Book               int64\n",
              "dtype: object"
            ]
          },
          "metadata": {},
          "execution_count": 8
        }
      ],
      "source": [
        "df.dtypes"
      ]
    },
    {
      "cell_type": "markdown",
      "source": [
        "### Checking for missing values"
      ],
      "metadata": {
        "id": "Qgtjql0eLPA7"
      }
    },
    {
      "cell_type": "code",
      "execution_count": 9,
      "metadata": {
        "colab": {
          "base_uri": "https://localhost:8080/"
        },
        "id": "mJnUmUsNcQwQ",
        "outputId": "b039e24b-6678-4db5-95a3-b87b5bc6b8a7"
      },
      "outputs": [
        {
          "output_type": "execute_result",
          "data": {
            "text/plain": [
              "datetime         0\n",
              "season           0\n",
              "holiday          0\n",
              "workingday       0\n",
              "weather          0\n",
              "temp             0\n",
              "atemp            0\n",
              "humidity         2\n",
              "windspeed        0\n",
              "Total_booking    0\n",
              "Book             0\n",
              "dtype: int64"
            ]
          },
          "metadata": {},
          "execution_count": 9
        }
      ],
      "source": [
        "df.isna().sum()"
      ]
    },
    {
      "cell_type": "markdown",
      "source": [
        "Two values of humidity were missing"
      ],
      "metadata": {
        "id": "zub7YIeyLUMx"
      }
    },
    {
      "cell_type": "code",
      "execution_count": 10,
      "metadata": {
        "colab": {
          "base_uri": "https://localhost:8080/",
          "height": 112
        },
        "id": "G-j-oOFhmmUW",
        "outputId": "0470957e-b602-4863-bf90-3f25ef572d1b"
      },
      "outputs": [
        {
          "output_type": "execute_result",
          "data": {
            "text/plain": [
              "           datetime  season  holiday  workingday              weather   temp  \\\n",
              "11  9/10/2012 20:00    Fall        0           1   Clear + Few clouds  24.60   \n",
              "14   2/9/2012 14:00  Spring        0           1   Clear + Few clouds  13.12   \n",
              "\n",
              "    atemp  humidity  windspeed  Total_booking  Book  \n",
              "11  31.06       NaN    12.9980            390     1  \n",
              "14  15.15       NaN    19.9995            144     0  "
            ],
            "text/html": [
              "\n",
              "  <div id=\"df-fed8ec2d-5883-4e1a-ad23-dda4fe9fb96c\">\n",
              "    <div class=\"colab-df-container\">\n",
              "      <div>\n",
              "<style scoped>\n",
              "    .dataframe tbody tr th:only-of-type {\n",
              "        vertical-align: middle;\n",
              "    }\n",
              "\n",
              "    .dataframe tbody tr th {\n",
              "        vertical-align: top;\n",
              "    }\n",
              "\n",
              "    .dataframe thead th {\n",
              "        text-align: right;\n",
              "    }\n",
              "</style>\n",
              "<table border=\"1\" class=\"dataframe\">\n",
              "  <thead>\n",
              "    <tr style=\"text-align: right;\">\n",
              "      <th></th>\n",
              "      <th>datetime</th>\n",
              "      <th>season</th>\n",
              "      <th>holiday</th>\n",
              "      <th>workingday</th>\n",
              "      <th>weather</th>\n",
              "      <th>temp</th>\n",
              "      <th>atemp</th>\n",
              "      <th>humidity</th>\n",
              "      <th>windspeed</th>\n",
              "      <th>Total_booking</th>\n",
              "      <th>Book</th>\n",
              "    </tr>\n",
              "  </thead>\n",
              "  <tbody>\n",
              "    <tr>\n",
              "      <th>11</th>\n",
              "      <td>9/10/2012 20:00</td>\n",
              "      <td>Fall</td>\n",
              "      <td>0</td>\n",
              "      <td>1</td>\n",
              "      <td>Clear + Few clouds</td>\n",
              "      <td>24.60</td>\n",
              "      <td>31.06</td>\n",
              "      <td>NaN</td>\n",
              "      <td>12.9980</td>\n",
              "      <td>390</td>\n",
              "      <td>1</td>\n",
              "    </tr>\n",
              "    <tr>\n",
              "      <th>14</th>\n",
              "      <td>2/9/2012 14:00</td>\n",
              "      <td>Spring</td>\n",
              "      <td>0</td>\n",
              "      <td>1</td>\n",
              "      <td>Clear + Few clouds</td>\n",
              "      <td>13.12</td>\n",
              "      <td>15.15</td>\n",
              "      <td>NaN</td>\n",
              "      <td>19.9995</td>\n",
              "      <td>144</td>\n",
              "      <td>0</td>\n",
              "    </tr>\n",
              "  </tbody>\n",
              "</table>\n",
              "</div>\n",
              "      <button class=\"colab-df-convert\" onclick=\"convertToInteractive('df-fed8ec2d-5883-4e1a-ad23-dda4fe9fb96c')\"\n",
              "              title=\"Convert this dataframe to an interactive table.\"\n",
              "              style=\"display:none;\">\n",
              "        \n",
              "  <svg xmlns=\"http://www.w3.org/2000/svg\" height=\"24px\"viewBox=\"0 0 24 24\"\n",
              "       width=\"24px\">\n",
              "    <path d=\"M0 0h24v24H0V0z\" fill=\"none\"/>\n",
              "    <path d=\"M18.56 5.44l.94 2.06.94-2.06 2.06-.94-2.06-.94-.94-2.06-.94 2.06-2.06.94zm-11 1L8.5 8.5l.94-2.06 2.06-.94-2.06-.94L8.5 2.5l-.94 2.06-2.06.94zm10 10l.94 2.06.94-2.06 2.06-.94-2.06-.94-.94-2.06-.94 2.06-2.06.94z\"/><path d=\"M17.41 7.96l-1.37-1.37c-.4-.4-.92-.59-1.43-.59-.52 0-1.04.2-1.43.59L10.3 9.45l-7.72 7.72c-.78.78-.78 2.05 0 2.83L4 21.41c.39.39.9.59 1.41.59.51 0 1.02-.2 1.41-.59l7.78-7.78 2.81-2.81c.8-.78.8-2.07 0-2.86zM5.41 20L4 18.59l7.72-7.72 1.47 1.35L5.41 20z\"/>\n",
              "  </svg>\n",
              "      </button>\n",
              "      \n",
              "  <style>\n",
              "    .colab-df-container {\n",
              "      display:flex;\n",
              "      flex-wrap:wrap;\n",
              "      gap: 12px;\n",
              "    }\n",
              "\n",
              "    .colab-df-convert {\n",
              "      background-color: #E8F0FE;\n",
              "      border: none;\n",
              "      border-radius: 50%;\n",
              "      cursor: pointer;\n",
              "      display: none;\n",
              "      fill: #1967D2;\n",
              "      height: 32px;\n",
              "      padding: 0 0 0 0;\n",
              "      width: 32px;\n",
              "    }\n",
              "\n",
              "    .colab-df-convert:hover {\n",
              "      background-color: #E2EBFA;\n",
              "      box-shadow: 0px 1px 2px rgba(60, 64, 67, 0.3), 0px 1px 3px 1px rgba(60, 64, 67, 0.15);\n",
              "      fill: #174EA6;\n",
              "    }\n",
              "\n",
              "    [theme=dark] .colab-df-convert {\n",
              "      background-color: #3B4455;\n",
              "      fill: #D2E3FC;\n",
              "    }\n",
              "\n",
              "    [theme=dark] .colab-df-convert:hover {\n",
              "      background-color: #434B5C;\n",
              "      box-shadow: 0px 1px 3px 1px rgba(0, 0, 0, 0.15);\n",
              "      filter: drop-shadow(0px 1px 2px rgba(0, 0, 0, 0.3));\n",
              "      fill: #FFFFFF;\n",
              "    }\n",
              "  </style>\n",
              "\n",
              "      <script>\n",
              "        const buttonEl =\n",
              "          document.querySelector('#df-fed8ec2d-5883-4e1a-ad23-dda4fe9fb96c button.colab-df-convert');\n",
              "        buttonEl.style.display =\n",
              "          google.colab.kernel.accessAllowed ? 'block' : 'none';\n",
              "\n",
              "        async function convertToInteractive(key) {\n",
              "          const element = document.querySelector('#df-fed8ec2d-5883-4e1a-ad23-dda4fe9fb96c');\n",
              "          const dataTable =\n",
              "            await google.colab.kernel.invokeFunction('convertToInteractive',\n",
              "                                                     [key], {});\n",
              "          if (!dataTable) return;\n",
              "\n",
              "          const docLinkHtml = 'Like what you see? Visit the ' +\n",
              "            '<a target=\"_blank\" href=https://colab.research.google.com/notebooks/data_table.ipynb>data table notebook</a>'\n",
              "            + ' to learn more about interactive tables.';\n",
              "          element.innerHTML = '';\n",
              "          dataTable['output_type'] = 'display_data';\n",
              "          await google.colab.output.renderOutput(dataTable, element);\n",
              "          const docLink = document.createElement('div');\n",
              "          docLink.innerHTML = docLinkHtml;\n",
              "          element.appendChild(docLink);\n",
              "        }\n",
              "      </script>\n",
              "    </div>\n",
              "  </div>\n",
              "  "
            ]
          },
          "metadata": {},
          "execution_count": 10
        }
      ],
      "source": [
        "df[df.humidity.isna()]"
      ]
    },
    {
      "cell_type": "code",
      "execution_count": 11,
      "metadata": {
        "colab": {
          "base_uri": "https://localhost:8080/"
        },
        "id": "9j82wIfIm4bB",
        "outputId": "e489e42d-02b5-47da-fe06-a16f18cf00fa"
      },
      "outputs": [
        {
          "output_type": "execute_result",
          "data": {
            "text/plain": [
              "season\n",
              "Fall      63.877057\n",
              "Spring    55.979859\n",
              "Summer    60.811561\n",
              "Winter    65.818390\n",
              "Name: humidity, dtype: float64"
            ]
          },
          "metadata": {},
          "execution_count": 11
        }
      ],
      "source": [
        "df.groupby(\"season\")[\"humidity\"].mean()"
      ]
    },
    {
      "cell_type": "markdown",
      "source": [
        "Using mean value of humidity based on season to fill missing values."
      ],
      "metadata": {
        "id": "uWIdia0PLyCj"
      }
    },
    {
      "cell_type": "code",
      "execution_count": 12,
      "metadata": {
        "id": "kz2CJPXGnhrE"
      },
      "outputs": [],
      "source": [
        "df[\"humidity\"][11]=df.groupby(\"season\")[\"humidity\"].mean()[\"Fall\"]\n",
        "df[\"humidity\"][14]=df.groupby(\"season\")[\"humidity\"].mean()[\"Spring\"]"
      ]
    },
    {
      "cell_type": "code",
      "execution_count": 13,
      "metadata": {
        "colab": {
          "base_uri": "https://localhost:8080/"
        },
        "id": "dmz_Xcsknx1r",
        "outputId": "6a254f15-0513-42d7-ca77-b420c665b453"
      },
      "outputs": [
        {
          "output_type": "execute_result",
          "data": {
            "text/plain": [
              "55.97985948477752"
            ]
          },
          "metadata": {},
          "execution_count": 13
        }
      ],
      "source": [
        "df[\"humidity\"][14]"
      ]
    },
    {
      "cell_type": "code",
      "execution_count": 14,
      "metadata": {
        "colab": {
          "base_uri": "https://localhost:8080/"
        },
        "id": "csz1chjcorSF",
        "outputId": "a8417776-241f-4029-86e9-33287c0d804e"
      },
      "outputs": [
        {
          "output_type": "execute_result",
          "data": {
            "text/plain": [
              "False"
            ]
          },
          "metadata": {},
          "execution_count": 14
        }
      ],
      "source": [
        "df.duplicated().any()"
      ]
    },
    {
      "cell_type": "markdown",
      "metadata": {
        "id": "kPYpDXdImhFn"
      },
      "source": [
        "## Observations\n",
        "\n",
        "1.   Training Data contains 8708 records with 10 columns\n",
        "2.   Test Data contains 2718 records with 10 columns\n",
        "3.   Dataset contains both numerical and categorical data type\n",
        "4.   There is 2 missing values in the dataset in humidity column\n",
        "5.   There is no duplicated values in the dataset"
      ]
    },
    {
      "cell_type": "markdown",
      "metadata": {
        "id": "iNfYeuL12dLH"
      },
      "source": [
        "## Feature Engineering"
      ]
    },
    {
      "cell_type": "code",
      "execution_count": 15,
      "metadata": {
        "id": "mpyafg9tL6HA"
      },
      "outputs": [],
      "source": [
        "def date_conv(data_f):\n",
        "  d=[];         # To store date\n",
        "  h=[];         # To store hours\n",
        "  w=[];         # To store weekday\n",
        "  m=[];         # To store minutes\n",
        "  for i in range(len(data_f)):\n",
        "    date_time=dt.strptime(data_f.datetime[i], \"%m/%d/%Y %H:%M\")\n",
        "    date=date_time.date()           #Extracting date using date time module\n",
        "    d.append(date)\n",
        "    h.append(date_time.hour)\n",
        "    m.append(date.month)\n",
        "    w.append(calendar.day_name[calendar.weekday(date.year, date.month, date.day)])\n",
        "  data_f[\"Hour\"]=h\n",
        "  data_f[\"Month\"]=m\n",
        "  data_f[\"Weekday\"]=w\n",
        "  data_f[\"Date\"]=d\n",
        "  return data_f"
      ]
    },
    {
      "cell_type": "markdown",
      "source": [
        "Extracting date hours, minutes and weekday from Datetime columns"
      ],
      "metadata": {
        "id": "5IwSA5qdMoTx"
      }
    },
    {
      "cell_type": "code",
      "execution_count": 16,
      "metadata": {
        "id": "wb89_v4WMgkA"
      },
      "outputs": [],
      "source": [
        "df=date_conv(df)"
      ]
    },
    {
      "cell_type": "code",
      "execution_count": 17,
      "metadata": {
        "colab": {
          "base_uri": "https://localhost:8080/",
          "height": 424
        },
        "id": "y0lz8nxhuALZ",
        "outputId": "5694618a-30b0-4b65-a2ca-37e225c03515"
      },
      "outputs": [
        {
          "output_type": "execute_result",
          "data": {
            "text/plain": [
              "              datetime  Hour    Weekday  Month        Date\n",
              "0       5/2/2012 19:00    19  Wednesday      5  2012-05-02\n",
              "1        9/5/2012 4:00     4  Wednesday      9  2012-09-05\n",
              "2       1/13/2011 9:00     9   Thursday      1  2011-01-13\n",
              "3     11/18/2011 16:00    16     Friday     11  2011-11-18\n",
              "4      9/13/2011 13:00    13    Tuesday      9  2011-09-13\n",
              "...                ...   ...        ...    ...         ...\n",
              "8703    1/16/2012 6:00     6     Monday      1  2012-01-16\n",
              "8704   11/10/2011 1:00     1   Thursday     11  2011-11-10\n",
              "8705    4/12/2011 3:00     3    Tuesday      4  2011-04-12\n",
              "8706    11/7/2012 1:00     1  Wednesday     11  2012-11-07\n",
              "8707   1/10/2011 10:00    10     Monday      1  2011-01-10\n",
              "\n",
              "[8708 rows x 5 columns]"
            ],
            "text/html": [
              "\n",
              "  <div id=\"df-70481999-156f-4550-820d-07ca3cef95eb\">\n",
              "    <div class=\"colab-df-container\">\n",
              "      <div>\n",
              "<style scoped>\n",
              "    .dataframe tbody tr th:only-of-type {\n",
              "        vertical-align: middle;\n",
              "    }\n",
              "\n",
              "    .dataframe tbody tr th {\n",
              "        vertical-align: top;\n",
              "    }\n",
              "\n",
              "    .dataframe thead th {\n",
              "        text-align: right;\n",
              "    }\n",
              "</style>\n",
              "<table border=\"1\" class=\"dataframe\">\n",
              "  <thead>\n",
              "    <tr style=\"text-align: right;\">\n",
              "      <th></th>\n",
              "      <th>datetime</th>\n",
              "      <th>Hour</th>\n",
              "      <th>Weekday</th>\n",
              "      <th>Month</th>\n",
              "      <th>Date</th>\n",
              "    </tr>\n",
              "  </thead>\n",
              "  <tbody>\n",
              "    <tr>\n",
              "      <th>0</th>\n",
              "      <td>5/2/2012 19:00</td>\n",
              "      <td>19</td>\n",
              "      <td>Wednesday</td>\n",
              "      <td>5</td>\n",
              "      <td>2012-05-02</td>\n",
              "    </tr>\n",
              "    <tr>\n",
              "      <th>1</th>\n",
              "      <td>9/5/2012 4:00</td>\n",
              "      <td>4</td>\n",
              "      <td>Wednesday</td>\n",
              "      <td>9</td>\n",
              "      <td>2012-09-05</td>\n",
              "    </tr>\n",
              "    <tr>\n",
              "      <th>2</th>\n",
              "      <td>1/13/2011 9:00</td>\n",
              "      <td>9</td>\n",
              "      <td>Thursday</td>\n",
              "      <td>1</td>\n",
              "      <td>2011-01-13</td>\n",
              "    </tr>\n",
              "    <tr>\n",
              "      <th>3</th>\n",
              "      <td>11/18/2011 16:00</td>\n",
              "      <td>16</td>\n",
              "      <td>Friday</td>\n",
              "      <td>11</td>\n",
              "      <td>2011-11-18</td>\n",
              "    </tr>\n",
              "    <tr>\n",
              "      <th>4</th>\n",
              "      <td>9/13/2011 13:00</td>\n",
              "      <td>13</td>\n",
              "      <td>Tuesday</td>\n",
              "      <td>9</td>\n",
              "      <td>2011-09-13</td>\n",
              "    </tr>\n",
              "    <tr>\n",
              "      <th>...</th>\n",
              "      <td>...</td>\n",
              "      <td>...</td>\n",
              "      <td>...</td>\n",
              "      <td>...</td>\n",
              "      <td>...</td>\n",
              "    </tr>\n",
              "    <tr>\n",
              "      <th>8703</th>\n",
              "      <td>1/16/2012 6:00</td>\n",
              "      <td>6</td>\n",
              "      <td>Monday</td>\n",
              "      <td>1</td>\n",
              "      <td>2012-01-16</td>\n",
              "    </tr>\n",
              "    <tr>\n",
              "      <th>8704</th>\n",
              "      <td>11/10/2011 1:00</td>\n",
              "      <td>1</td>\n",
              "      <td>Thursday</td>\n",
              "      <td>11</td>\n",
              "      <td>2011-11-10</td>\n",
              "    </tr>\n",
              "    <tr>\n",
              "      <th>8705</th>\n",
              "      <td>4/12/2011 3:00</td>\n",
              "      <td>3</td>\n",
              "      <td>Tuesday</td>\n",
              "      <td>4</td>\n",
              "      <td>2011-04-12</td>\n",
              "    </tr>\n",
              "    <tr>\n",
              "      <th>8706</th>\n",
              "      <td>11/7/2012 1:00</td>\n",
              "      <td>1</td>\n",
              "      <td>Wednesday</td>\n",
              "      <td>11</td>\n",
              "      <td>2012-11-07</td>\n",
              "    </tr>\n",
              "    <tr>\n",
              "      <th>8707</th>\n",
              "      <td>1/10/2011 10:00</td>\n",
              "      <td>10</td>\n",
              "      <td>Monday</td>\n",
              "      <td>1</td>\n",
              "      <td>2011-01-10</td>\n",
              "    </tr>\n",
              "  </tbody>\n",
              "</table>\n",
              "<p>8708 rows × 5 columns</p>\n",
              "</div>\n",
              "      <button class=\"colab-df-convert\" onclick=\"convertToInteractive('df-70481999-156f-4550-820d-07ca3cef95eb')\"\n",
              "              title=\"Convert this dataframe to an interactive table.\"\n",
              "              style=\"display:none;\">\n",
              "        \n",
              "  <svg xmlns=\"http://www.w3.org/2000/svg\" height=\"24px\"viewBox=\"0 0 24 24\"\n",
              "       width=\"24px\">\n",
              "    <path d=\"M0 0h24v24H0V0z\" fill=\"none\"/>\n",
              "    <path d=\"M18.56 5.44l.94 2.06.94-2.06 2.06-.94-2.06-.94-.94-2.06-.94 2.06-2.06.94zm-11 1L8.5 8.5l.94-2.06 2.06-.94-2.06-.94L8.5 2.5l-.94 2.06-2.06.94zm10 10l.94 2.06.94-2.06 2.06-.94-2.06-.94-.94-2.06-.94 2.06-2.06.94z\"/><path d=\"M17.41 7.96l-1.37-1.37c-.4-.4-.92-.59-1.43-.59-.52 0-1.04.2-1.43.59L10.3 9.45l-7.72 7.72c-.78.78-.78 2.05 0 2.83L4 21.41c.39.39.9.59 1.41.59.51 0 1.02-.2 1.41-.59l7.78-7.78 2.81-2.81c.8-.78.8-2.07 0-2.86zM5.41 20L4 18.59l7.72-7.72 1.47 1.35L5.41 20z\"/>\n",
              "  </svg>\n",
              "      </button>\n",
              "      \n",
              "  <style>\n",
              "    .colab-df-container {\n",
              "      display:flex;\n",
              "      flex-wrap:wrap;\n",
              "      gap: 12px;\n",
              "    }\n",
              "\n",
              "    .colab-df-convert {\n",
              "      background-color: #E8F0FE;\n",
              "      border: none;\n",
              "      border-radius: 50%;\n",
              "      cursor: pointer;\n",
              "      display: none;\n",
              "      fill: #1967D2;\n",
              "      height: 32px;\n",
              "      padding: 0 0 0 0;\n",
              "      width: 32px;\n",
              "    }\n",
              "\n",
              "    .colab-df-convert:hover {\n",
              "      background-color: #E2EBFA;\n",
              "      box-shadow: 0px 1px 2px rgba(60, 64, 67, 0.3), 0px 1px 3px 1px rgba(60, 64, 67, 0.15);\n",
              "      fill: #174EA6;\n",
              "    }\n",
              "\n",
              "    [theme=dark] .colab-df-convert {\n",
              "      background-color: #3B4455;\n",
              "      fill: #D2E3FC;\n",
              "    }\n",
              "\n",
              "    [theme=dark] .colab-df-convert:hover {\n",
              "      background-color: #434B5C;\n",
              "      box-shadow: 0px 1px 3px 1px rgba(0, 0, 0, 0.15);\n",
              "      filter: drop-shadow(0px 1px 2px rgba(0, 0, 0, 0.3));\n",
              "      fill: #FFFFFF;\n",
              "    }\n",
              "  </style>\n",
              "\n",
              "      <script>\n",
              "        const buttonEl =\n",
              "          document.querySelector('#df-70481999-156f-4550-820d-07ca3cef95eb button.colab-df-convert');\n",
              "        buttonEl.style.display =\n",
              "          google.colab.kernel.accessAllowed ? 'block' : 'none';\n",
              "\n",
              "        async function convertToInteractive(key) {\n",
              "          const element = document.querySelector('#df-70481999-156f-4550-820d-07ca3cef95eb');\n",
              "          const dataTable =\n",
              "            await google.colab.kernel.invokeFunction('convertToInteractive',\n",
              "                                                     [key], {});\n",
              "          if (!dataTable) return;\n",
              "\n",
              "          const docLinkHtml = 'Like what you see? Visit the ' +\n",
              "            '<a target=\"_blank\" href=https://colab.research.google.com/notebooks/data_table.ipynb>data table notebook</a>'\n",
              "            + ' to learn more about interactive tables.';\n",
              "          element.innerHTML = '';\n",
              "          dataTable['output_type'] = 'display_data';\n",
              "          await google.colab.output.renderOutput(dataTable, element);\n",
              "          const docLink = document.createElement('div');\n",
              "          docLink.innerHTML = docLinkHtml;\n",
              "          element.appendChild(docLink);\n",
              "        }\n",
              "      </script>\n",
              "    </div>\n",
              "  </div>\n",
              "  "
            ]
          },
          "metadata": {},
          "execution_count": 17
        }
      ],
      "source": [
        "df[[\"datetime\", \"Hour\", \"Weekday\", \"Month\", \"Date\" ]]"
      ]
    },
    {
      "cell_type": "code",
      "execution_count": 18,
      "metadata": {
        "colab": {
          "base_uri": "https://localhost:8080/"
        },
        "id": "cgbfi7WrN1sc",
        "outputId": "ae947647-67a6-4fec-8f7f-44d902d6de4f"
      },
      "outputs": [
        {
          "output_type": "execute_result",
          "data": {
            "text/plain": [
              "datetime          object\n",
              "season            object\n",
              "holiday            int64\n",
              "workingday         int64\n",
              "weather           object\n",
              "temp             float64\n",
              "atemp            float64\n",
              "humidity         float64\n",
              "windspeed        float64\n",
              "Total_booking      int64\n",
              "Book               int64\n",
              "Hour               int64\n",
              "Month              int64\n",
              "Weekday           object\n",
              "Date              object\n",
              "dtype: object"
            ]
          },
          "metadata": {},
          "execution_count": 18
        }
      ],
      "source": [
        "df.dtypes"
      ]
    },
    {
      "cell_type": "code",
      "execution_count": 19,
      "metadata": {
        "id": "kS3xwXwjM0MT"
      },
      "outputs": [],
      "source": [
        "def convert_to_cat(data_f, *features):\n",
        "  for f in features:\n",
        "    data_f[f]=data_f[f].astype('category')\n",
        "    return data_f"
      ]
    },
    {
      "cell_type": "markdown",
      "metadata": {
        "id": "ZRRXstKbRK6D"
      },
      "source": [
        "Converting object type to Categorical Variables so that numerical operation cannot be performed on them."
      ]
    },
    {
      "cell_type": "code",
      "execution_count": 20,
      "metadata": {
        "colab": {
          "base_uri": "https://localhost:8080/"
        },
        "id": "8fJh9dBeNZjg",
        "outputId": "56176130-d71d-4a56-b763-79deda5ee1de"
      },
      "outputs": [
        {
          "output_type": "execute_result",
          "data": {
            "text/plain": [
              "datetime           object\n",
              "season           category\n",
              "holiday          category\n",
              "workingday       category\n",
              "weather          category\n",
              "temp              float64\n",
              "atemp             float64\n",
              "humidity          float64\n",
              "windspeed         float64\n",
              "Total_booking       int64\n",
              "Book                int64\n",
              "Hour                int64\n",
              "Month               int64\n",
              "Weekday          category\n",
              "Date               object\n",
              "dtype: object"
            ]
          },
          "metadata": {},
          "execution_count": 20
        }
      ],
      "source": [
        "c=convert_to_cat(df, [\"season\", \"holiday\", \"workingday\", \"weather\", \"Weekday\"])\n",
        "c.dtypes"
      ]
    },
    {
      "cell_type": "code",
      "execution_count": 21,
      "metadata": {
        "id": "wkiaFIKx0PdH"
      },
      "outputs": [],
      "source": [
        "df=df.drop([\"datetime\"], axis=1)"
      ]
    },
    {
      "cell_type": "markdown",
      "source": [
        "Dropping datetime as all relevant information has been extracted"
      ],
      "metadata": {
        "id": "07sSEUSPNvG5"
      }
    },
    {
      "cell_type": "code",
      "execution_count": 22,
      "metadata": {
        "colab": {
          "base_uri": "https://localhost:8080/",
          "height": 250
        },
        "id": "6AONwnV6dYGv",
        "outputId": "0cd972ee-8f38-4e18-93bc-6c033e908661"
      },
      "outputs": [
        {
          "output_type": "execute_result",
          "data": {
            "text/plain": [
              "   season holiday workingday              weather   temp   atemp  humidity  \\\n",
              "0  Summer       0          1   Clear + Few clouds  22.14  25.760      77.0   \n",
              "1    Fall       0          1   Clear + Few clouds  28.70  33.335      79.0   \n",
              "2  Spring       0          1   Clear + Few clouds   5.74   6.060      50.0   \n",
              "3  Winter       0          1   Clear + Few clouds  13.94  16.665      29.0   \n",
              "4    Fall       0          1   Clear + Few clouds  30.34  33.335      51.0   \n",
              "\n",
              "   windspeed  Total_booking  Book  Hour  Month    Weekday        Date  \n",
              "0    16.9979            504     1    19      5  Wednesday  2012-05-02  \n",
              "1    19.0012              5     0     4      9  Wednesday  2012-09-05  \n",
              "2    22.0028            139     0     9      1   Thursday  2011-01-13  \n",
              "3     8.9981            209     1    16     11     Friday  2011-11-18  \n",
              "4    19.0012            184     1    13      9    Tuesday  2011-09-13  "
            ],
            "text/html": [
              "\n",
              "  <div id=\"df-b297109a-483b-445d-8a5d-03d83b3e0651\">\n",
              "    <div class=\"colab-df-container\">\n",
              "      <div>\n",
              "<style scoped>\n",
              "    .dataframe tbody tr th:only-of-type {\n",
              "        vertical-align: middle;\n",
              "    }\n",
              "\n",
              "    .dataframe tbody tr th {\n",
              "        vertical-align: top;\n",
              "    }\n",
              "\n",
              "    .dataframe thead th {\n",
              "        text-align: right;\n",
              "    }\n",
              "</style>\n",
              "<table border=\"1\" class=\"dataframe\">\n",
              "  <thead>\n",
              "    <tr style=\"text-align: right;\">\n",
              "      <th></th>\n",
              "      <th>season</th>\n",
              "      <th>holiday</th>\n",
              "      <th>workingday</th>\n",
              "      <th>weather</th>\n",
              "      <th>temp</th>\n",
              "      <th>atemp</th>\n",
              "      <th>humidity</th>\n",
              "      <th>windspeed</th>\n",
              "      <th>Total_booking</th>\n",
              "      <th>Book</th>\n",
              "      <th>Hour</th>\n",
              "      <th>Month</th>\n",
              "      <th>Weekday</th>\n",
              "      <th>Date</th>\n",
              "    </tr>\n",
              "  </thead>\n",
              "  <tbody>\n",
              "    <tr>\n",
              "      <th>0</th>\n",
              "      <td>Summer</td>\n",
              "      <td>0</td>\n",
              "      <td>1</td>\n",
              "      <td>Clear + Few clouds</td>\n",
              "      <td>22.14</td>\n",
              "      <td>25.760</td>\n",
              "      <td>77.0</td>\n",
              "      <td>16.9979</td>\n",
              "      <td>504</td>\n",
              "      <td>1</td>\n",
              "      <td>19</td>\n",
              "      <td>5</td>\n",
              "      <td>Wednesday</td>\n",
              "      <td>2012-05-02</td>\n",
              "    </tr>\n",
              "    <tr>\n",
              "      <th>1</th>\n",
              "      <td>Fall</td>\n",
              "      <td>0</td>\n",
              "      <td>1</td>\n",
              "      <td>Clear + Few clouds</td>\n",
              "      <td>28.70</td>\n",
              "      <td>33.335</td>\n",
              "      <td>79.0</td>\n",
              "      <td>19.0012</td>\n",
              "      <td>5</td>\n",
              "      <td>0</td>\n",
              "      <td>4</td>\n",
              "      <td>9</td>\n",
              "      <td>Wednesday</td>\n",
              "      <td>2012-09-05</td>\n",
              "    </tr>\n",
              "    <tr>\n",
              "      <th>2</th>\n",
              "      <td>Spring</td>\n",
              "      <td>0</td>\n",
              "      <td>1</td>\n",
              "      <td>Clear + Few clouds</td>\n",
              "      <td>5.74</td>\n",
              "      <td>6.060</td>\n",
              "      <td>50.0</td>\n",
              "      <td>22.0028</td>\n",
              "      <td>139</td>\n",
              "      <td>0</td>\n",
              "      <td>9</td>\n",
              "      <td>1</td>\n",
              "      <td>Thursday</td>\n",
              "      <td>2011-01-13</td>\n",
              "    </tr>\n",
              "    <tr>\n",
              "      <th>3</th>\n",
              "      <td>Winter</td>\n",
              "      <td>0</td>\n",
              "      <td>1</td>\n",
              "      <td>Clear + Few clouds</td>\n",
              "      <td>13.94</td>\n",
              "      <td>16.665</td>\n",
              "      <td>29.0</td>\n",
              "      <td>8.9981</td>\n",
              "      <td>209</td>\n",
              "      <td>1</td>\n",
              "      <td>16</td>\n",
              "      <td>11</td>\n",
              "      <td>Friday</td>\n",
              "      <td>2011-11-18</td>\n",
              "    </tr>\n",
              "    <tr>\n",
              "      <th>4</th>\n",
              "      <td>Fall</td>\n",
              "      <td>0</td>\n",
              "      <td>1</td>\n",
              "      <td>Clear + Few clouds</td>\n",
              "      <td>30.34</td>\n",
              "      <td>33.335</td>\n",
              "      <td>51.0</td>\n",
              "      <td>19.0012</td>\n",
              "      <td>184</td>\n",
              "      <td>1</td>\n",
              "      <td>13</td>\n",
              "      <td>9</td>\n",
              "      <td>Tuesday</td>\n",
              "      <td>2011-09-13</td>\n",
              "    </tr>\n",
              "  </tbody>\n",
              "</table>\n",
              "</div>\n",
              "      <button class=\"colab-df-convert\" onclick=\"convertToInteractive('df-b297109a-483b-445d-8a5d-03d83b3e0651')\"\n",
              "              title=\"Convert this dataframe to an interactive table.\"\n",
              "              style=\"display:none;\">\n",
              "        \n",
              "  <svg xmlns=\"http://www.w3.org/2000/svg\" height=\"24px\"viewBox=\"0 0 24 24\"\n",
              "       width=\"24px\">\n",
              "    <path d=\"M0 0h24v24H0V0z\" fill=\"none\"/>\n",
              "    <path d=\"M18.56 5.44l.94 2.06.94-2.06 2.06-.94-2.06-.94-.94-2.06-.94 2.06-2.06.94zm-11 1L8.5 8.5l.94-2.06 2.06-.94-2.06-.94L8.5 2.5l-.94 2.06-2.06.94zm10 10l.94 2.06.94-2.06 2.06-.94-2.06-.94-.94-2.06-.94 2.06-2.06.94z\"/><path d=\"M17.41 7.96l-1.37-1.37c-.4-.4-.92-.59-1.43-.59-.52 0-1.04.2-1.43.59L10.3 9.45l-7.72 7.72c-.78.78-.78 2.05 0 2.83L4 21.41c.39.39.9.59 1.41.59.51 0 1.02-.2 1.41-.59l7.78-7.78 2.81-2.81c.8-.78.8-2.07 0-2.86zM5.41 20L4 18.59l7.72-7.72 1.47 1.35L5.41 20z\"/>\n",
              "  </svg>\n",
              "      </button>\n",
              "      \n",
              "  <style>\n",
              "    .colab-df-container {\n",
              "      display:flex;\n",
              "      flex-wrap:wrap;\n",
              "      gap: 12px;\n",
              "    }\n",
              "\n",
              "    .colab-df-convert {\n",
              "      background-color: #E8F0FE;\n",
              "      border: none;\n",
              "      border-radius: 50%;\n",
              "      cursor: pointer;\n",
              "      display: none;\n",
              "      fill: #1967D2;\n",
              "      height: 32px;\n",
              "      padding: 0 0 0 0;\n",
              "      width: 32px;\n",
              "    }\n",
              "\n",
              "    .colab-df-convert:hover {\n",
              "      background-color: #E2EBFA;\n",
              "      box-shadow: 0px 1px 2px rgba(60, 64, 67, 0.3), 0px 1px 3px 1px rgba(60, 64, 67, 0.15);\n",
              "      fill: #174EA6;\n",
              "    }\n",
              "\n",
              "    [theme=dark] .colab-df-convert {\n",
              "      background-color: #3B4455;\n",
              "      fill: #D2E3FC;\n",
              "    }\n",
              "\n",
              "    [theme=dark] .colab-df-convert:hover {\n",
              "      background-color: #434B5C;\n",
              "      box-shadow: 0px 1px 3px 1px rgba(0, 0, 0, 0.15);\n",
              "      filter: drop-shadow(0px 1px 2px rgba(0, 0, 0, 0.3));\n",
              "      fill: #FFFFFF;\n",
              "    }\n",
              "  </style>\n",
              "\n",
              "      <script>\n",
              "        const buttonEl =\n",
              "          document.querySelector('#df-b297109a-483b-445d-8a5d-03d83b3e0651 button.colab-df-convert');\n",
              "        buttonEl.style.display =\n",
              "          google.colab.kernel.accessAllowed ? 'block' : 'none';\n",
              "\n",
              "        async function convertToInteractive(key) {\n",
              "          const element = document.querySelector('#df-b297109a-483b-445d-8a5d-03d83b3e0651');\n",
              "          const dataTable =\n",
              "            await google.colab.kernel.invokeFunction('convertToInteractive',\n",
              "                                                     [key], {});\n",
              "          if (!dataTable) return;\n",
              "\n",
              "          const docLinkHtml = 'Like what you see? Visit the ' +\n",
              "            '<a target=\"_blank\" href=https://colab.research.google.com/notebooks/data_table.ipynb>data table notebook</a>'\n",
              "            + ' to learn more about interactive tables.';\n",
              "          element.innerHTML = '';\n",
              "          dataTable['output_type'] = 'display_data';\n",
              "          await google.colab.output.renderOutput(dataTable, element);\n",
              "          const docLink = document.createElement('div');\n",
              "          docLink.innerHTML = docLinkHtml;\n",
              "          element.appendChild(docLink);\n",
              "        }\n",
              "      </script>\n",
              "    </div>\n",
              "  </div>\n",
              "  "
            ]
          },
          "metadata": {},
          "execution_count": 22
        }
      ],
      "source": [
        "df.head()"
      ]
    },
    {
      "cell_type": "markdown",
      "source": [
        "Similarly for test data"
      ],
      "metadata": {
        "id": "rdLB09PZOTEs"
      }
    },
    {
      "cell_type": "code",
      "execution_count": 23,
      "metadata": {
        "colab": {
          "base_uri": "https://localhost:8080/",
          "height": 337
        },
        "id": "CEHAH4CLMDRW",
        "outputId": "4ee7aa7c-6e68-425e-bf7e-d580d6f5a8f6"
      },
      "outputs": [
        {
          "output_type": "execute_result",
          "data": {
            "text/plain": [
              "           datetime  season holiday workingday                  weather  \\\n",
              "0   5/10/2012 11:00  Summer       0          1       Clear + Few clouds   \n",
              "1     6/9/2012 7:00  Summer       0          0       Clear + Few clouds   \n",
              "2    3/6/2011 20:00  Spring       0          0   Light Snow, Light Rain   \n",
              "3  10/13/2011 11:00  Winter       0          1           Mist + Cloudy    \n",
              "4    6/2/2012 12:00  Summer       0          0       Clear + Few clouds   \n",
              "\n",
              "    temp   atemp  humidity  windspeed  Total_booking  Book  Hour  Month  \\\n",
              "0  21.32  25.000        48    35.0008            256     1    11      5   \n",
              "1  23.78  27.275        64     7.0015             87     0     7      6   \n",
              "2  11.48  12.120       100    27.9993             11     0    20      3   \n",
              "3  25.42  28.790        83     0.0000             84     0    11     10   \n",
              "4  25.42  31.060        43    23.9994            668     1    12      6   \n",
              "\n",
              "    Weekday        Date  \n",
              "0  Thursday  2012-05-10  \n",
              "1  Saturday  2012-06-09  \n",
              "2    Sunday  2011-03-06  \n",
              "3  Thursday  2011-10-13  \n",
              "4  Saturday  2012-06-02  "
            ],
            "text/html": [
              "\n",
              "  <div id=\"df-6060c138-fccd-4eda-aa9f-d927c252d0d3\">\n",
              "    <div class=\"colab-df-container\">\n",
              "      <div>\n",
              "<style scoped>\n",
              "    .dataframe tbody tr th:only-of-type {\n",
              "        vertical-align: middle;\n",
              "    }\n",
              "\n",
              "    .dataframe tbody tr th {\n",
              "        vertical-align: top;\n",
              "    }\n",
              "\n",
              "    .dataframe thead th {\n",
              "        text-align: right;\n",
              "    }\n",
              "</style>\n",
              "<table border=\"1\" class=\"dataframe\">\n",
              "  <thead>\n",
              "    <tr style=\"text-align: right;\">\n",
              "      <th></th>\n",
              "      <th>datetime</th>\n",
              "      <th>season</th>\n",
              "      <th>holiday</th>\n",
              "      <th>workingday</th>\n",
              "      <th>weather</th>\n",
              "      <th>temp</th>\n",
              "      <th>atemp</th>\n",
              "      <th>humidity</th>\n",
              "      <th>windspeed</th>\n",
              "      <th>Total_booking</th>\n",
              "      <th>Book</th>\n",
              "      <th>Hour</th>\n",
              "      <th>Month</th>\n",
              "      <th>Weekday</th>\n",
              "      <th>Date</th>\n",
              "    </tr>\n",
              "  </thead>\n",
              "  <tbody>\n",
              "    <tr>\n",
              "      <th>0</th>\n",
              "      <td>5/10/2012 11:00</td>\n",
              "      <td>Summer</td>\n",
              "      <td>0</td>\n",
              "      <td>1</td>\n",
              "      <td>Clear + Few clouds</td>\n",
              "      <td>21.32</td>\n",
              "      <td>25.000</td>\n",
              "      <td>48</td>\n",
              "      <td>35.0008</td>\n",
              "      <td>256</td>\n",
              "      <td>1</td>\n",
              "      <td>11</td>\n",
              "      <td>5</td>\n",
              "      <td>Thursday</td>\n",
              "      <td>2012-05-10</td>\n",
              "    </tr>\n",
              "    <tr>\n",
              "      <th>1</th>\n",
              "      <td>6/9/2012 7:00</td>\n",
              "      <td>Summer</td>\n",
              "      <td>0</td>\n",
              "      <td>0</td>\n",
              "      <td>Clear + Few clouds</td>\n",
              "      <td>23.78</td>\n",
              "      <td>27.275</td>\n",
              "      <td>64</td>\n",
              "      <td>7.0015</td>\n",
              "      <td>87</td>\n",
              "      <td>0</td>\n",
              "      <td>7</td>\n",
              "      <td>6</td>\n",
              "      <td>Saturday</td>\n",
              "      <td>2012-06-09</td>\n",
              "    </tr>\n",
              "    <tr>\n",
              "      <th>2</th>\n",
              "      <td>3/6/2011 20:00</td>\n",
              "      <td>Spring</td>\n",
              "      <td>0</td>\n",
              "      <td>0</td>\n",
              "      <td>Light Snow, Light Rain</td>\n",
              "      <td>11.48</td>\n",
              "      <td>12.120</td>\n",
              "      <td>100</td>\n",
              "      <td>27.9993</td>\n",
              "      <td>11</td>\n",
              "      <td>0</td>\n",
              "      <td>20</td>\n",
              "      <td>3</td>\n",
              "      <td>Sunday</td>\n",
              "      <td>2011-03-06</td>\n",
              "    </tr>\n",
              "    <tr>\n",
              "      <th>3</th>\n",
              "      <td>10/13/2011 11:00</td>\n",
              "      <td>Winter</td>\n",
              "      <td>0</td>\n",
              "      <td>1</td>\n",
              "      <td>Mist + Cloudy</td>\n",
              "      <td>25.42</td>\n",
              "      <td>28.790</td>\n",
              "      <td>83</td>\n",
              "      <td>0.0000</td>\n",
              "      <td>84</td>\n",
              "      <td>0</td>\n",
              "      <td>11</td>\n",
              "      <td>10</td>\n",
              "      <td>Thursday</td>\n",
              "      <td>2011-10-13</td>\n",
              "    </tr>\n",
              "    <tr>\n",
              "      <th>4</th>\n",
              "      <td>6/2/2012 12:00</td>\n",
              "      <td>Summer</td>\n",
              "      <td>0</td>\n",
              "      <td>0</td>\n",
              "      <td>Clear + Few clouds</td>\n",
              "      <td>25.42</td>\n",
              "      <td>31.060</td>\n",
              "      <td>43</td>\n",
              "      <td>23.9994</td>\n",
              "      <td>668</td>\n",
              "      <td>1</td>\n",
              "      <td>12</td>\n",
              "      <td>6</td>\n",
              "      <td>Saturday</td>\n",
              "      <td>2012-06-02</td>\n",
              "    </tr>\n",
              "  </tbody>\n",
              "</table>\n",
              "</div>\n",
              "      <button class=\"colab-df-convert\" onclick=\"convertToInteractive('df-6060c138-fccd-4eda-aa9f-d927c252d0d3')\"\n",
              "              title=\"Convert this dataframe to an interactive table.\"\n",
              "              style=\"display:none;\">\n",
              "        \n",
              "  <svg xmlns=\"http://www.w3.org/2000/svg\" height=\"24px\"viewBox=\"0 0 24 24\"\n",
              "       width=\"24px\">\n",
              "    <path d=\"M0 0h24v24H0V0z\" fill=\"none\"/>\n",
              "    <path d=\"M18.56 5.44l.94 2.06.94-2.06 2.06-.94-2.06-.94-.94-2.06-.94 2.06-2.06.94zm-11 1L8.5 8.5l.94-2.06 2.06-.94-2.06-.94L8.5 2.5l-.94 2.06-2.06.94zm10 10l.94 2.06.94-2.06 2.06-.94-2.06-.94-.94-2.06-.94 2.06-2.06.94z\"/><path d=\"M17.41 7.96l-1.37-1.37c-.4-.4-.92-.59-1.43-.59-.52 0-1.04.2-1.43.59L10.3 9.45l-7.72 7.72c-.78.78-.78 2.05 0 2.83L4 21.41c.39.39.9.59 1.41.59.51 0 1.02-.2 1.41-.59l7.78-7.78 2.81-2.81c.8-.78.8-2.07 0-2.86zM5.41 20L4 18.59l7.72-7.72 1.47 1.35L5.41 20z\"/>\n",
              "  </svg>\n",
              "      </button>\n",
              "      \n",
              "  <style>\n",
              "    .colab-df-container {\n",
              "      display:flex;\n",
              "      flex-wrap:wrap;\n",
              "      gap: 12px;\n",
              "    }\n",
              "\n",
              "    .colab-df-convert {\n",
              "      background-color: #E8F0FE;\n",
              "      border: none;\n",
              "      border-radius: 50%;\n",
              "      cursor: pointer;\n",
              "      display: none;\n",
              "      fill: #1967D2;\n",
              "      height: 32px;\n",
              "      padding: 0 0 0 0;\n",
              "      width: 32px;\n",
              "    }\n",
              "\n",
              "    .colab-df-convert:hover {\n",
              "      background-color: #E2EBFA;\n",
              "      box-shadow: 0px 1px 2px rgba(60, 64, 67, 0.3), 0px 1px 3px 1px rgba(60, 64, 67, 0.15);\n",
              "      fill: #174EA6;\n",
              "    }\n",
              "\n",
              "    [theme=dark] .colab-df-convert {\n",
              "      background-color: #3B4455;\n",
              "      fill: #D2E3FC;\n",
              "    }\n",
              "\n",
              "    [theme=dark] .colab-df-convert:hover {\n",
              "      background-color: #434B5C;\n",
              "      box-shadow: 0px 1px 3px 1px rgba(0, 0, 0, 0.15);\n",
              "      filter: drop-shadow(0px 1px 2px rgba(0, 0, 0, 0.3));\n",
              "      fill: #FFFFFF;\n",
              "    }\n",
              "  </style>\n",
              "\n",
              "      <script>\n",
              "        const buttonEl =\n",
              "          document.querySelector('#df-6060c138-fccd-4eda-aa9f-d927c252d0d3 button.colab-df-convert');\n",
              "        buttonEl.style.display =\n",
              "          google.colab.kernel.accessAllowed ? 'block' : 'none';\n",
              "\n",
              "        async function convertToInteractive(key) {\n",
              "          const element = document.querySelector('#df-6060c138-fccd-4eda-aa9f-d927c252d0d3');\n",
              "          const dataTable =\n",
              "            await google.colab.kernel.invokeFunction('convertToInteractive',\n",
              "                                                     [key], {});\n",
              "          if (!dataTable) return;\n",
              "\n",
              "          const docLinkHtml = 'Like what you see? Visit the ' +\n",
              "            '<a target=\"_blank\" href=https://colab.research.google.com/notebooks/data_table.ipynb>data table notebook</a>'\n",
              "            + ' to learn more about interactive tables.';\n",
              "          element.innerHTML = '';\n",
              "          dataTable['output_type'] = 'display_data';\n",
              "          await google.colab.output.renderOutput(dataTable, element);\n",
              "          const docLink = document.createElement('div');\n",
              "          docLink.innerHTML = docLinkHtml;\n",
              "          element.appendChild(docLink);\n",
              "        }\n",
              "      </script>\n",
              "    </div>\n",
              "  </div>\n",
              "  "
            ]
          },
          "metadata": {},
          "execution_count": 23
        }
      ],
      "source": [
        "df_test=date_conv(df_test)\n",
        "df_test=convert_to_cat(df_test, [\"season\", \"holiday\", \"workingday\", \"weather\", \"Weekday\"])\n",
        "df_test.head()"
      ]
    },
    {
      "cell_type": "markdown",
      "metadata": {
        "id": "JfzqcWMu2TT6"
      },
      "source": [
        "## Outlier Analysis"
      ]
    },
    {
      "cell_type": "code",
      "execution_count": 24,
      "metadata": {
        "colab": {
          "base_uri": "https://localhost:8080/",
          "height": 282
        },
        "id": "8QLa0ngFfQlg",
        "outputId": "6ef595cd-9875-4564-8592-96844f68d2ac"
      },
      "outputs": [
        {
          "output_type": "execute_result",
          "data": {
            "text/plain": [
              "<matplotlib.axes._subplots.AxesSubplot at 0x7f2559da9d60>"
            ]
          },
          "metadata": {},
          "execution_count": 24
        },
        {
          "output_type": "display_data",
          "data": {
            "text/plain": [
              "<Figure size 432x288 with 1 Axes>"
            ],
            "image/png": "[encoded data removed]"
          },
          "metadata": {
            "needs_background": "light"
          }
        }
      ],
      "source": [
        "df.drop([\"Total_booking\"], axis=1).boxplot()"
      ]
    },
    {
      "cell_type": "code",
      "execution_count": 25,
      "metadata": {
        "colab": {
          "base_uri": "https://localhost:8080/",
          "height": 282
        },
        "id": "NN_FFh0l2LPo",
        "outputId": "a960d834-e2bd-4a13-cd24-88e9d97c9468"
      },
      "outputs": [
        {
          "output_type": "execute_result",
          "data": {
            "text/plain": [
              "<matplotlib.axes._subplots.AxesSubplot at 0x7f2559c5c2e0>"
            ]
          },
          "metadata": {},
          "execution_count": 25
        },
        {
          "output_type": "display_data",
          "data": {
            "text/plain": [
              "<Figure size 432x288 with 1 Axes>"
            ],
            "image/png": "[encoded data removed]"
          },
          "metadata": {
            "needs_background": "light"
          }
        }
      ],
      "source": [
        "df[[\"windspeed\"]].boxplot()"
      ]
    },
    {
      "cell_type": "markdown",
      "source": [
        "Removing outlier by finding-\n",
        "\n",
        "Interquartile Range Formula= Quartile3 - Quartile1"
      ],
      "metadata": {
        "id": "wNGRMjEYPVFh"
      }
    },
    {
      "cell_type": "code",
      "execution_count": 26,
      "metadata": {
        "colab": {
          "base_uri": "https://localhost:8080/"
        },
        "id": "82vBsvHx2o6c",
        "outputId": "f079f481-b567-4d75-9d93-58f06c266b48"
      },
      "outputs": [
        {
          "output_type": "execute_result",
          "data": {
            "text/plain": [
              "9.996400000000001"
            ]
          },
          "metadata": {},
          "execution_count": 26
        }
      ],
      "source": [
        "q1=df.windspeed.quantile(.25)\n",
        "q3=df.windspeed.quantile(.75)\n",
        "IQR=q3-q1\n",
        "IQR"
      ]
    },
    {
      "cell_type": "code",
      "execution_count": 27,
      "metadata": {
        "colab": {
          "base_uri": "https://localhost:8080/"
        },
        "id": "FoQDITt4g1ew",
        "outputId": "197a9565-3d72-43f6-80d8-1cfdac1d819a"
      },
      "outputs": [
        {
          "output_type": "execute_result",
          "data": {
            "text/plain": [
              "Series([], Name: windspeed, dtype: float64)"
            ]
          },
          "metadata": {},
          "execution_count": 27
        }
      ],
      "source": [
        "df.windspeed[df.windspeed< (q1-IQR*1.5)]"
      ]
    },
    {
      "cell_type": "markdown",
      "source": [
        "Finding which points are below (q1-IQR*1.5)"
      ],
      "metadata": {
        "id": "1_7_flkPQwvK"
      }
    },
    {
      "cell_type": "code",
      "execution_count": 28,
      "metadata": {
        "colab": {
          "base_uri": "https://localhost:8080/"
        },
        "id": "eq0ksjo-hh9Y",
        "outputId": "0e5d2c02-6049-4ac7-a00b-377e870310fb"
      },
      "outputs": [
        {
          "output_type": "execute_result",
          "data": {
            "text/plain": [
              "10      32.9975\n",
              "32      32.9975\n",
              "86      32.9975\n",
              "105     36.9974\n",
              "182     35.0008\n",
              "         ...   \n",
              "8496    32.9975\n",
              "8555    36.9974\n",
              "8563    32.9975\n",
              "8603    35.0008\n",
              "8640    43.0006\n",
              "Name: windspeed, Length: 182, dtype: float64"
            ]
          },
          "metadata": {},
          "execution_count": 28
        }
      ],
      "source": [
        "df.windspeed[df.windspeed> (q3+IQR*1.5)]"
      ]
    },
    {
      "cell_type": "code",
      "execution_count": 29,
      "metadata": {
        "id": "sIduVJHohlO5"
      },
      "outputs": [],
      "source": [
        "outlier=df.windspeed[df.windspeed> (q3+IQR*1.5)]"
      ]
    },
    {
      "cell_type": "code",
      "execution_count": 30,
      "metadata": {
        "colab": {
          "base_uri": "https://localhost:8080/"
        },
        "id": "1czgggWbimds",
        "outputId": "0ff60160-bb37-4281-cb4d-930d33e22321"
      },
      "outputs": [
        {
          "output_type": "execute_result",
          "data": {
            "text/plain": [
              "8708"
            ]
          },
          "metadata": {},
          "execution_count": 30
        }
      ],
      "source": [
        "len(df)"
      ]
    },
    {
      "cell_type": "markdown",
      "metadata": {
        "id": "qb-eCfv9sw_u"
      },
      "source": [
        "### Inferences\n",
        "\n",
        "\n",
        "\n",
        "1.   Only windspeed contains outliers in the datafile.\n",
        "2.   All outliers were present above third quantile.\n",
        "2.   Total 182 records were found as outliers.\n",
        "3.   After removing outliers, 8526 rows were left.\n",
        "\n"
      ]
    },
    {
      "cell_type": "markdown",
      "metadata": {
        "id": "7k2DpqJy_9PW"
      },
      "source": [
        "## Correlation"
      ]
    },
    {
      "cell_type": "code",
      "execution_count": 31,
      "metadata": {
        "colab": {
          "base_uri": "https://localhost:8080/",
          "height": 300
        },
        "id": "t4oewABX_8XW",
        "outputId": "84b38406-37c3-4e34-f88f-c68edeb15984"
      },
      "outputs": [
        {
          "output_type": "execute_result",
          "data": {
            "text/plain": [
              "                   temp     atemp  humidity  windspeed  Total_booking  \\\n",
              "temp           1.000000  0.984035 -0.066442  -0.027824       0.397456   \n",
              "atemp          0.984035  1.000000 -0.044190  -0.068911       0.392754   \n",
              "humidity      -0.066442 -0.044190  1.000000  -0.320302      -0.307899   \n",
              "windspeed     -0.027824 -0.068911 -0.320302   1.000000       0.092090   \n",
              "Total_booking  0.397456  0.392754 -0.307899   0.092090       1.000000   \n",
              "Book           0.390992  0.389012 -0.302856   0.088539       0.762690   \n",
              "Hour           0.146668  0.141578 -0.273222   0.133037       0.399947   \n",
              "Month          0.255916  0.263176  0.203017  -0.157710       0.170355   \n",
              "\n",
              "                   Book      Hour     Month  \n",
              "temp           0.390992  0.146668  0.255916  \n",
              "atemp          0.389012  0.141578  0.263176  \n",
              "humidity      -0.302856 -0.273222  0.203017  \n",
              "windspeed      0.088539  0.133037 -0.157710  \n",
              "Total_booking  0.762690  0.399947  0.170355  \n",
              "Book           1.000000  0.424597  0.187936  \n",
              "Hour           0.424597  1.000000 -0.006015  \n",
              "Month          0.187936 -0.006015  1.000000  "
            ],
            "text/html": [
              "\n",
              "  <div id=\"df-735669eb-026f-4405-974e-6fdca92da79c\">\n",
              "    <div class=\"colab-df-container\">\n",
              "      <div>\n",
              "<style scoped>\n",
              "    .dataframe tbody tr th:only-of-type {\n",
              "        vertical-align: middle;\n",
              "    }\n",
              "\n",
              "    .dataframe tbody tr th {\n",
              "        vertical-align: top;\n",
              "    }\n",
              "\n",
              "    .dataframe thead th {\n",
              "        text-align: right;\n",
              "    }\n",
              "</style>\n",
              "<table border=\"1\" class=\"dataframe\">\n",
              "  <thead>\n",
              "    <tr style=\"text-align: right;\">\n",
              "      <th></th>\n",
              "      <th>temp</th>\n",
              "      <th>atemp</th>\n",
              "      <th>humidity</th>\n",
              "      <th>windspeed</th>\n",
              "      <th>Total_booking</th>\n",
              "      <th>Book</th>\n",
              "      <th>Hour</th>\n",
              "      <th>Month</th>\n",
              "    </tr>\n",
              "  </thead>\n",
              "  <tbody>\n",
              "    <tr>\n",
              "      <th>temp</th>\n",
              "      <td>1.000000</td>\n",
              "      <td>0.984035</td>\n",
              "      <td>-0.066442</td>\n",
              "      <td>-0.027824</td>\n",
              "      <td>0.397456</td>\n",
              "      <td>0.390992</td>\n",
              "      <td>0.146668</td>\n",
              "      <td>0.255916</td>\n",
              "    </tr>\n",
              "    <tr>\n",
              "      <th>atemp</th>\n",
              "      <td>0.984035</td>\n",
              "      <td>1.000000</td>\n",
              "      <td>-0.044190</td>\n",
              "      <td>-0.068911</td>\n",
              "      <td>0.392754</td>\n",
              "      <td>0.389012</td>\n",
              "      <td>0.141578</td>\n",
              "      <td>0.263176</td>\n",
              "    </tr>\n",
              "    <tr>\n",
              "      <th>humidity</th>\n",
              "      <td>-0.066442</td>\n",
              "      <td>-0.044190</td>\n",
              "      <td>1.000000</td>\n",
              "      <td>-0.320302</td>\n",
              "      <td>-0.307899</td>\n",
              "      <td>-0.302856</td>\n",
              "      <td>-0.273222</td>\n",
              "      <td>0.203017</td>\n",
              "    </tr>\n",
              "    <tr>\n",
              "      <th>windspeed</th>\n",
              "      <td>-0.027824</td>\n",
              "      <td>-0.068911</td>\n",
              "      <td>-0.320302</td>\n",
              "      <td>1.000000</td>\n",
              "      <td>0.092090</td>\n",
              "      <td>0.088539</td>\n",
              "      <td>0.133037</td>\n",
              "      <td>-0.157710</td>\n",
              "    </tr>\n",
              "    <tr>\n",
              "      <th>Total_booking</th>\n",
              "      <td>0.397456</td>\n",
              "      <td>0.392754</td>\n",
              "      <td>-0.307899</td>\n",
              "      <td>0.092090</td>\n",
              "      <td>1.000000</td>\n",
              "      <td>0.762690</td>\n",
              "      <td>0.399947</td>\n",
              "      <td>0.170355</td>\n",
              "    </tr>\n",
              "    <tr>\n",
              "      <th>Book</th>\n",
              "      <td>0.390992</td>\n",
              "      <td>0.389012</td>\n",
              "      <td>-0.302856</td>\n",
              "      <td>0.088539</td>\n",
              "      <td>0.762690</td>\n",
              "      <td>1.000000</td>\n",
              "      <td>0.424597</td>\n",
              "      <td>0.187936</td>\n",
              "    </tr>\n",
              "    <tr>\n",
              "      <th>Hour</th>\n",
              "      <td>0.146668</td>\n",
              "      <td>0.141578</td>\n",
              "      <td>-0.273222</td>\n",
              "      <td>0.133037</td>\n",
              "      <td>0.399947</td>\n",
              "      <td>0.424597</td>\n",
              "      <td>1.000000</td>\n",
              "      <td>-0.006015</td>\n",
              "    </tr>\n",
              "    <tr>\n",
              "      <th>Month</th>\n",
              "      <td>0.255916</td>\n",
              "      <td>0.263176</td>\n",
              "      <td>0.203017</td>\n",
              "      <td>-0.157710</td>\n",
              "      <td>0.170355</td>\n",
              "      <td>0.187936</td>\n",
              "      <td>-0.006015</td>\n",
              "      <td>1.000000</td>\n",
              "    </tr>\n",
              "  </tbody>\n",
              "</table>\n",
              "</div>\n",
              "      <button class=\"colab-df-convert\" onclick=\"convertToInteractive('df-735669eb-026f-4405-974e-6fdca92da79c')\"\n",
              "              title=\"Convert this dataframe to an interactive table.\"\n",
              "              style=\"display:none;\">\n",
              "        \n",
              "  <svg xmlns=\"http://www.w3.org/2000/svg\" height=\"24px\"viewBox=\"0 0 24 24\"\n",
              "       width=\"24px\">\n",
              "    <path d=\"M0 0h24v24H0V0z\" fill=\"none\"/>\n",
              "    <path d=\"M18.56 5.44l.94 2.06.94-2.06 2.06-.94-2.06-.94-.94-2.06-.94 2.06-2.06.94zm-11 1L8.5 8.5l.94-2.06 2.06-.94-2.06-.94L8.5 2.5l-.94 2.06-2.06.94zm10 10l.94 2.06.94-2.06 2.06-.94-2.06-.94-.94-2.06-.94 2.06-2.06.94z\"/><path d=\"M17.41 7.96l-1.37-1.37c-.4-.4-.92-.59-1.43-.59-.52 0-1.04.2-1.43.59L10.3 9.45l-7.72 7.72c-.78.78-.78 2.05 0 2.83L4 21.41c.39.39.9.59 1.41.59.51 0 1.02-.2 1.41-.59l7.78-7.78 2.81-2.81c.8-.78.8-2.07 0-2.86zM5.41 20L4 18.59l7.72-7.72 1.47 1.35L5.41 20z\"/>\n",
              "  </svg>\n",
              "      </button>\n",
              "      \n",
              "  <style>\n",
              "    .colab-df-container {\n",
              "      display:flex;\n",
              "      flex-wrap:wrap;\n",
              "      gap: 12px;\n",
              "    }\n",
              "\n",
              "    .colab-df-convert {\n",
              "      background-color: #E8F0FE;\n",
              "      border: none;\n",
              "      border-radius: 50%;\n",
              "      cursor: pointer;\n",
              "      display: none;\n",
              "      fill: #1967D2;\n",
              "      height: 32px;\n",
              "      padding: 0 0 0 0;\n",
              "      width: 32px;\n",
              "    }\n",
              "\n",
              "    .colab-df-convert:hover {\n",
              "      background-color: #E2EBFA;\n",
              "      box-shadow: 0px 1px 2px rgba(60, 64, 67, 0.3), 0px 1px 3px 1px rgba(60, 64, 67, 0.15);\n",
              "      fill: #174EA6;\n",
              "    }\n",
              "\n",
              "    [theme=dark] .colab-df-convert {\n",
              "      background-color: #3B4455;\n",
              "      fill: #D2E3FC;\n",
              "    }\n",
              "\n",
              "    [theme=dark] .colab-df-convert:hover {\n",
              "      background-color: #434B5C;\n",
              "      box-shadow: 0px 1px 3px 1px rgba(0, 0, 0, 0.15);\n",
              "      filter: drop-shadow(0px 1px 2px rgba(0, 0, 0, 0.3));\n",
              "      fill: #FFFFFF;\n",
              "    }\n",
              "  </style>\n",
              "\n",
              "      <script>\n",
              "        const buttonEl =\n",
              "          document.querySelector('#df-735669eb-026f-4405-974e-6fdca92da79c button.colab-df-convert');\n",
              "        buttonEl.style.display =\n",
              "          google.colab.kernel.accessAllowed ? 'block' : 'none';\n",
              "\n",
              "        async function convertToInteractive(key) {\n",
              "          const element = document.querySelector('#df-735669eb-026f-4405-974e-6fdca92da79c');\n",
              "          const dataTable =\n",
              "            await google.colab.kernel.invokeFunction('convertToInteractive',\n",
              "                                                     [key], {});\n",
              "          if (!dataTable) return;\n",
              "\n",
              "          const docLinkHtml = 'Like what you see? Visit the ' +\n",
              "            '<a target=\"_blank\" href=https://colab.research.google.com/notebooks/data_table.ipynb>data table notebook</a>'\n",
              "            + ' to learn more about interactive tables.';\n",
              "          element.innerHTML = '';\n",
              "          dataTable['output_type'] = 'display_data';\n",
              "          await google.colab.output.renderOutput(dataTable, element);\n",
              "          const docLink = document.createElement('div');\n",
              "          docLink.innerHTML = docLinkHtml;\n",
              "          element.appendChild(docLink);\n",
              "        }\n",
              "      </script>\n",
              "    </div>\n",
              "  </div>\n",
              "  "
            ]
          },
          "metadata": {},
          "execution_count": 31
        }
      ],
      "source": [
        "df.corr()"
      ]
    },
    {
      "cell_type": "markdown",
      "metadata": {
        "id": "TtNIXRC6vvn3"
      },
      "source": [
        "Don't need to use holiday and working day as they are rely basically the same infornation."
      ]
    },
    {
      "cell_type": "code",
      "execution_count": 32,
      "metadata": {
        "id": "s382VoZpvIYd"
      },
      "outputs": [],
      "source": [
        "df=df.drop([\"workingday\"], axis=1)\n",
        "df_test=df_test.drop([\"workingday\"], axis=1)"
      ]
    },
    {
      "cell_type": "code",
      "execution_count": 33,
      "metadata": {
        "colab": {
          "base_uri": "https://localhost:8080/",
          "height": 206
        },
        "id": "RTd7xhZClSVv",
        "outputId": "ab1ffd6c-c544-432b-c771-56dcec183ca3"
      },
      "outputs": [
        {
          "output_type": "execute_result",
          "data": {
            "text/plain": [
              "    temp   atemp  humidity  windspeed  Book\n",
              "0  22.14  25.760      77.0    16.9979     1\n",
              "1  28.70  33.335      79.0    19.0012     0\n",
              "2   5.74   6.060      50.0    22.0028     0\n",
              "3  13.94  16.665      29.0     8.9981     1\n",
              "4  30.34  33.335      51.0    19.0012     1"
            ],
            "text/html": [
              "\n",
              "  <div id=\"df-4cc27a3b-4003-45fe-b41e-d068592be42b\">\n",
              "    <div class=\"colab-df-container\">\n",
              "      <div>\n",
              "<style scoped>\n",
              "    .dataframe tbody tr th:only-of-type {\n",
              "        vertical-align: middle;\n",
              "    }\n",
              "\n",
              "    .dataframe tbody tr th {\n",
              "        vertical-align: top;\n",
              "    }\n",
              "\n",
              "    .dataframe thead th {\n",
              "        text-align: right;\n",
              "    }\n",
              "</style>\n",
              "<table border=\"1\" class=\"dataframe\">\n",
              "  <thead>\n",
              "    <tr style=\"text-align: right;\">\n",
              "      <th></th>\n",
              "      <th>temp</th>\n",
              "      <th>atemp</th>\n",
              "      <th>humidity</th>\n",
              "      <th>windspeed</th>\n",
              "      <th>Book</th>\n",
              "    </tr>\n",
              "  </thead>\n",
              "  <tbody>\n",
              "    <tr>\n",
              "      <th>0</th>\n",
              "      <td>22.14</td>\n",
              "      <td>25.760</td>\n",
              "      <td>77.0</td>\n",
              "      <td>16.9979</td>\n",
              "      <td>1</td>\n",
              "    </tr>\n",
              "    <tr>\n",
              "      <th>1</th>\n",
              "      <td>28.70</td>\n",
              "      <td>33.335</td>\n",
              "      <td>79.0</td>\n",
              "      <td>19.0012</td>\n",
              "      <td>0</td>\n",
              "    </tr>\n",
              "    <tr>\n",
              "      <th>2</th>\n",
              "      <td>5.74</td>\n",
              "      <td>6.060</td>\n",
              "      <td>50.0</td>\n",
              "      <td>22.0028</td>\n",
              "      <td>0</td>\n",
              "    </tr>\n",
              "    <tr>\n",
              "      <th>3</th>\n",
              "      <td>13.94</td>\n",
              "      <td>16.665</td>\n",
              "      <td>29.0</td>\n",
              "      <td>8.9981</td>\n",
              "      <td>1</td>\n",
              "    </tr>\n",
              "    <tr>\n",
              "      <th>4</th>\n",
              "      <td>30.34</td>\n",
              "      <td>33.335</td>\n",
              "      <td>51.0</td>\n",
              "      <td>19.0012</td>\n",
              "      <td>1</td>\n",
              "    </tr>\n",
              "  </tbody>\n",
              "</table>\n",
              "</div>\n",
              "      <button class=\"colab-df-convert\" onclick=\"convertToInteractive('df-4cc27a3b-4003-45fe-b41e-d068592be42b')\"\n",
              "              title=\"Convert this dataframe to an interactive table.\"\n",
              "              style=\"display:none;\">\n",
              "        \n",
              "  <svg xmlns=\"http://www.w3.org/2000/svg\" height=\"24px\"viewBox=\"0 0 24 24\"\n",
              "       width=\"24px\">\n",
              "    <path d=\"M0 0h24v24H0V0z\" fill=\"none\"/>\n",
              "    <path d=\"M18.56 5.44l.94 2.06.94-2.06 2.06-.94-2.06-.94-.94-2.06-.94 2.06-2.06.94zm-11 1L8.5 8.5l.94-2.06 2.06-.94-2.06-.94L8.5 2.5l-.94 2.06-2.06.94zm10 10l.94 2.06.94-2.06 2.06-.94-2.06-.94-.94-2.06-.94 2.06-2.06.94z\"/><path d=\"M17.41 7.96l-1.37-1.37c-.4-.4-.92-.59-1.43-.59-.52 0-1.04.2-1.43.59L10.3 9.45l-7.72 7.72c-.78.78-.78 2.05 0 2.83L4 21.41c.39.39.9.59 1.41.59.51 0 1.02-.2 1.41-.59l7.78-7.78 2.81-2.81c.8-.78.8-2.07 0-2.86zM5.41 20L4 18.59l7.72-7.72 1.47 1.35L5.41 20z\"/>\n",
              "  </svg>\n",
              "      </button>\n",
              "      \n",
              "  <style>\n",
              "    .colab-df-container {\n",
              "      display:flex;\n",
              "      flex-wrap:wrap;\n",
              "      gap: 12px;\n",
              "    }\n",
              "\n",
              "    .colab-df-convert {\n",
              "      background-color: #E8F0FE;\n",
              "      border: none;\n",
              "      border-radius: 50%;\n",
              "      cursor: pointer;\n",
              "      display: none;\n",
              "      fill: #1967D2;\n",
              "      height: 32px;\n",
              "      padding: 0 0 0 0;\n",
              "      width: 32px;\n",
              "    }\n",
              "\n",
              "    .colab-df-convert:hover {\n",
              "      background-color: #E2EBFA;\n",
              "      box-shadow: 0px 1px 2px rgba(60, 64, 67, 0.3), 0px 1px 3px 1px rgba(60, 64, 67, 0.15);\n",
              "      fill: #174EA6;\n",
              "    }\n",
              "\n",
              "    [theme=dark] .colab-df-convert {\n",
              "      background-color: #3B4455;\n",
              "      fill: #D2E3FC;\n",
              "    }\n",
              "\n",
              "    [theme=dark] .colab-df-convert:hover {\n",
              "      background-color: #434B5C;\n",
              "      box-shadow: 0px 1px 3px 1px rgba(0, 0, 0, 0.15);\n",
              "      filter: drop-shadow(0px 1px 2px rgba(0, 0, 0, 0.3));\n",
              "      fill: #FFFFFF;\n",
              "    }\n",
              "  </style>\n",
              "\n",
              "      <script>\n",
              "        const buttonEl =\n",
              "          document.querySelector('#df-4cc27a3b-4003-45fe-b41e-d068592be42b button.colab-df-convert');\n",
              "        buttonEl.style.display =\n",
              "          google.colab.kernel.accessAllowed ? 'block' : 'none';\n",
              "\n",
              "        async function convertToInteractive(key) {\n",
              "          const element = document.querySelector('#df-4cc27a3b-4003-45fe-b41e-d068592be42b');\n",
              "          const dataTable =\n",
              "            await google.colab.kernel.invokeFunction('convertToInteractive',\n",
              "                                                     [key], {});\n",
              "          if (!dataTable) return;\n",
              "\n",
              "          const docLinkHtml = 'Like what you see? Visit the ' +\n",
              "            '<a target=\"_blank\" href=https://colab.research.google.com/notebooks/data_table.ipynb>data table notebook</a>'\n",
              "            + ' to learn more about interactive tables.';\n",
              "          element.innerHTML = '';\n",
              "          dataTable['output_type'] = 'display_data';\n",
              "          await google.colab.output.renderOutput(dataTable, element);\n",
              "          const docLink = document.createElement('div');\n",
              "          docLink.innerHTML = docLinkHtml;\n",
              "          element.appendChild(docLink);\n",
              "        }\n",
              "      </script>\n",
              "    </div>\n",
              "  </div>\n",
              "  "
            ]
          },
          "metadata": {},
          "execution_count": 33
        }
      ],
      "source": [
        "data=df[[ \"temp\", \"atemp\", \"humidity\",\"windspeed\", \"Book\"]]\n",
        "data.head()"
      ]
    },
    {
      "cell_type": "code",
      "execution_count": 34,
      "metadata": {
        "colab": {
          "base_uri": "https://localhost:8080/",
          "height": 206
        },
        "id": "bWCDyupHu-05",
        "outputId": "e11ce6ef-16c5-4766-abc2-42e9c5ab7361"
      },
      "outputs": [
        {
          "output_type": "execute_result",
          "data": {
            "text/plain": [
              "               temp     atemp  humidity  windspeed      Book\n",
              "temp       1.000000  0.984035 -0.066442  -0.027824  0.390992\n",
              "atemp      0.984035  1.000000 -0.044190  -0.068911  0.389012\n",
              "humidity  -0.066442 -0.044190  1.000000  -0.320302 -0.302856\n",
              "windspeed -0.027824 -0.068911 -0.320302   1.000000  0.088539\n",
              "Book       0.390992  0.389012 -0.302856   0.088539  1.000000"
            ],
            "text/html": [
              "\n",
              "  <div id=\"df-56339ad3-300a-4322-8942-3de1375dfa64\">\n",
              "    <div class=\"colab-df-container\">\n",
              "      <div>\n",
              "<style scoped>\n",
              "    .dataframe tbody tr th:only-of-type {\n",
              "        vertical-align: middle;\n",
              "    }\n",
              "\n",
              "    .dataframe tbody tr th {\n",
              "        vertical-align: top;\n",
              "    }\n",
              "\n",
              "    .dataframe thead th {\n",
              "        text-align: right;\n",
              "    }\n",
              "</style>\n",
              "<table border=\"1\" class=\"dataframe\">\n",
              "  <thead>\n",
              "    <tr style=\"text-align: right;\">\n",
              "      <th></th>\n",
              "      <th>temp</th>\n",
              "      <th>atemp</th>\n",
              "      <th>humidity</th>\n",
              "      <th>windspeed</th>\n",
              "      <th>Book</th>\n",
              "    </tr>\n",
              "  </thead>\n",
              "  <tbody>\n",
              "    <tr>\n",
              "      <th>temp</th>\n",
              "      <td>1.000000</td>\n",
              "      <td>0.984035</td>\n",
              "      <td>-0.066442</td>\n",
              "      <td>-0.027824</td>\n",
              "      <td>0.390992</td>\n",
              "    </tr>\n",
              "    <tr>\n",
              "      <th>atemp</th>\n",
              "      <td>0.984035</td>\n",
              "      <td>1.000000</td>\n",
              "      <td>-0.044190</td>\n",
              "      <td>-0.068911</td>\n",
              "      <td>0.389012</td>\n",
              "    </tr>\n",
              "    <tr>\n",
              "      <th>humidity</th>\n",
              "      <td>-0.066442</td>\n",
              "      <td>-0.044190</td>\n",
              "      <td>1.000000</td>\n",
              "      <td>-0.320302</td>\n",
              "      <td>-0.302856</td>\n",
              "    </tr>\n",
              "    <tr>\n",
              "      <th>windspeed</th>\n",
              "      <td>-0.027824</td>\n",
              "      <td>-0.068911</td>\n",
              "      <td>-0.320302</td>\n",
              "      <td>1.000000</td>\n",
              "      <td>0.088539</td>\n",
              "    </tr>\n",
              "    <tr>\n",
              "      <th>Book</th>\n",
              "      <td>0.390992</td>\n",
              "      <td>0.389012</td>\n",
              "      <td>-0.302856</td>\n",
              "      <td>0.088539</td>\n",
              "      <td>1.000000</td>\n",
              "    </tr>\n",
              "  </tbody>\n",
              "</table>\n",
              "</div>\n",
              "      <button class=\"colab-df-convert\" onclick=\"convertToInteractive('df-56339ad3-300a-4322-8942-3de1375dfa64')\"\n",
              "              title=\"Convert this dataframe to an interactive table.\"\n",
              "              style=\"display:none;\">\n",
              "        \n",
              "  <svg xmlns=\"http://www.w3.org/2000/svg\" height=\"24px\"viewBox=\"0 0 24 24\"\n",
              "       width=\"24px\">\n",
              "    <path d=\"M0 0h24v24H0V0z\" fill=\"none\"/>\n",
              "    <path d=\"M18.56 5.44l.94 2.06.94-2.06 2.06-.94-2.06-.94-.94-2.06-.94 2.06-2.06.94zm-11 1L8.5 8.5l.94-2.06 2.06-.94-2.06-.94L8.5 2.5l-.94 2.06-2.06.94zm10 10l.94 2.06.94-2.06 2.06-.94-2.06-.94-.94-2.06-.94 2.06-2.06.94z\"/><path d=\"M17.41 7.96l-1.37-1.37c-.4-.4-.92-.59-1.43-.59-.52 0-1.04.2-1.43.59L10.3 9.45l-7.72 7.72c-.78.78-.78 2.05 0 2.83L4 21.41c.39.39.9.59 1.41.59.51 0 1.02-.2 1.41-.59l7.78-7.78 2.81-2.81c.8-.78.8-2.07 0-2.86zM5.41 20L4 18.59l7.72-7.72 1.47 1.35L5.41 20z\"/>\n",
              "  </svg>\n",
              "      </button>\n",
              "      \n",
              "  <style>\n",
              "    .colab-df-container {\n",
              "      display:flex;\n",
              "      flex-wrap:wrap;\n",
              "      gap: 12px;\n",
              "    }\n",
              "\n",
              "    .colab-df-convert {\n",
              "      background-color: #E8F0FE;\n",
              "      border: none;\n",
              "      border-radius: 50%;\n",
              "      cursor: pointer;\n",
              "      display: none;\n",
              "      fill: #1967D2;\n",
              "      height: 32px;\n",
              "      padding: 0 0 0 0;\n",
              "      width: 32px;\n",
              "    }\n",
              "\n",
              "    .colab-df-convert:hover {\n",
              "      background-color: #E2EBFA;\n",
              "      box-shadow: 0px 1px 2px rgba(60, 64, 67, 0.3), 0px 1px 3px 1px rgba(60, 64, 67, 0.15);\n",
              "      fill: #174EA6;\n",
              "    }\n",
              "\n",
              "    [theme=dark] .colab-df-convert {\n",
              "      background-color: #3B4455;\n",
              "      fill: #D2E3FC;\n",
              "    }\n",
              "\n",
              "    [theme=dark] .colab-df-convert:hover {\n",
              "      background-color: #434B5C;\n",
              "      box-shadow: 0px 1px 3px 1px rgba(0, 0, 0, 0.15);\n",
              "      filter: drop-shadow(0px 1px 2px rgba(0, 0, 0, 0.3));\n",
              "      fill: #FFFFFF;\n",
              "    }\n",
              "  </style>\n",
              "\n",
              "      <script>\n",
              "        const buttonEl =\n",
              "          document.querySelector('#df-56339ad3-300a-4322-8942-3de1375dfa64 button.colab-df-convert');\n",
              "        buttonEl.style.display =\n",
              "          google.colab.kernel.accessAllowed ? 'block' : 'none';\n",
              "\n",
              "        async function convertToInteractive(key) {\n",
              "          const element = document.querySelector('#df-56339ad3-300a-4322-8942-3de1375dfa64');\n",
              "          const dataTable =\n",
              "            await google.colab.kernel.invokeFunction('convertToInteractive',\n",
              "                                                     [key], {});\n",
              "          if (!dataTable) return;\n",
              "\n",
              "          const docLinkHtml = 'Like what you see? Visit the ' +\n",
              "            '<a target=\"_blank\" href=https://colab.research.google.com/notebooks/data_table.ipynb>data table notebook</a>'\n",
              "            + ' to learn more about interactive tables.';\n",
              "          element.innerHTML = '';\n",
              "          dataTable['output_type'] = 'display_data';\n",
              "          await google.colab.output.renderOutput(dataTable, element);\n",
              "          const docLink = document.createElement('div');\n",
              "          docLink.innerHTML = docLinkHtml;\n",
              "          element.appendChild(docLink);\n",
              "        }\n",
              "      </script>\n",
              "    </div>\n",
              "  </div>\n",
              "  "
            ]
          },
          "metadata": {},
          "execution_count": 34
        }
      ],
      "source": [
        "data.corr()"
      ]
    },
    {
      "cell_type": "code",
      "execution_count": 35,
      "metadata": {
        "colab": {
          "base_uri": "https://localhost:8080/",
          "height": 286
        },
        "id": "YW63WUqhAKWu",
        "outputId": "cd47bd5f-9581-4b32-9e5b-5889195fae33"
      },
      "outputs": [
        {
          "output_type": "execute_result",
          "data": {
            "text/plain": [
              "<matplotlib.axes._subplots.AxesSubplot at 0x7f2559cc02b0>"
            ]
          },
          "metadata": {},
          "execution_count": 35
        },
        {
          "output_type": "display_data",
          "data": {
            "text/plain": [
              "<Figure size 432x288 with 2 Axes>"
            ],
            "image/png": "[encoded data removed]"
          },
          "metadata": {
            "needs_background": "light"
          }
        }
      ],
      "source": [
        "sns.heatmap(data.corr())"
      ]
    },
    {
      "cell_type": "markdown",
      "metadata": {
        "id": "jz68gE18uuCZ"
      },
      "source": [
        "## Inferences\n",
        "\n",
        "\n",
        "1.   temp and humidity affects Total_bookings.\n",
        "2.   windspeed slightly influence Total_bookings.\n",
        "3.   temp and atem are highly correlated so need to remove one to reduce redundancy.\n",
        "\n"
      ]
    },
    {
      "cell_type": "code",
      "execution_count": 36,
      "metadata": {
        "id": "t_jsIAU5GMCM"
      },
      "outputs": [],
      "source": [
        "df=df.drop([\"atemp\"], axis=1)\n",
        "df_test=df_test.drop([\"atemp\"], axis=1)"
      ]
    },
    {
      "cell_type": "markdown",
      "metadata": {
        "id": "x_UnbygH96Ov"
      },
      "source": [
        "## Data Visualization"
      ]
    },
    {
      "cell_type": "code",
      "execution_count": 37,
      "metadata": {
        "colab": {
          "base_uri": "https://localhost:8080/",
          "height": 296
        },
        "id": "8tvH8BDG41jr",
        "outputId": "e32a7c9b-37a0-4fa8-a07b-8fa66aea518d"
      },
      "outputs": [
        {
          "output_type": "execute_result",
          "data": {
            "text/plain": [
              "<matplotlib.axes._subplots.AxesSubplot at 0x7f2559be6100>"
            ]
          },
          "metadata": {},
          "execution_count": 37
        },
        {
          "output_type": "display_data",
          "data": {
            "text/plain": [
              "<Figure size 432x288 with 1 Axes>"
            ],
            "image/png": "[encoded data removed]"
          },
          "metadata": {
            "needs_background": "light"
          }
        }
      ],
      "source": [
        "sns.barplot(x=\"Month\", y=\"Total_booking\", data=df, color = 'blue', palette = 'hls')"
      ]
    },
    {
      "cell_type": "markdown",
      "source": [
        "January and Feburary has very less number of bookings"
      ],
      "metadata": {
        "id": "pxPNXkswSEFW"
      }
    },
    {
      "cell_type": "code",
      "execution_count": 38,
      "metadata": {
        "colab": {
          "base_uri": "https://localhost:8080/",
          "height": 324
        },
        "id": "6W-FN4Nz41rc",
        "outputId": "dd45ddaa-b24f-4400-c0f3-2450952c3e22"
      },
      "outputs": [
        {
          "output_type": "display_data",
          "data": {
            "text/plain": [
              "<Figure size 432x288 with 1 Axes>"
            ],
            "image/png": "[encoded data removed]"
          },
          "metadata": {
            "needs_background": "light"
          }
        }
      ],
      "source": [
        "sns.barplot(x=\"Weekday\", y=\"Total_booking\", data=df, color = 'blue', palette = 'hls')\n",
        "plt.xticks(rotation=60)\n",
        "plt.show()"
      ]
    },
    {
      "cell_type": "markdown",
      "metadata": {
        "id": "vDbYpzNGwZrM"
      },
      "source": [
        "Weekdays has approximately no effect on number of bookings"
      ]
    },
    {
      "cell_type": "code",
      "execution_count": 39,
      "metadata": {
        "colab": {
          "base_uri": "https://localhost:8080/",
          "height": 388
        },
        "id": "mmivZeit77r1",
        "outputId": "8dace6d2-e7c1-4efe-b00e-7dbf8bbbd47e"
      },
      "outputs": [
        {
          "output_type": "display_data",
          "data": {
            "text/plain": [
              "<Figure size 1080x432 with 1 Axes>"
            ],
            "image/png": "[encoded data removed]"
          },
          "metadata": {
            "needs_background": "light"
          }
        }
      ],
      "source": [
        "plt.figure(figsize=(15,6))\n",
        "sns.barplot(x=\"Hour\", y=\"Total_booking\", data=df)\n",
        "plt.show()"
      ]
    },
    {
      "cell_type": "markdown",
      "metadata": {
        "id": "mhvTB6bawgS0"
      },
      "source": [
        "\n",
        "*   People generally don't book cabs late night.\n",
        "*   Bookings are high in morning around 8 and at noon around 6 am. Maybe due to office hours.\n",
        "\n"
      ]
    },
    {
      "cell_type": "code",
      "execution_count": 40,
      "metadata": {
        "colab": {
          "base_uri": "https://localhost:8080/",
          "height": 296
        },
        "id": "Yw-cIxUQ6_PF",
        "outputId": "85cc316f-49d3-4f89-c8aa-b2ffd4beb2dd"
      },
      "outputs": [
        {
          "output_type": "execute_result",
          "data": {
            "text/plain": [
              "<matplotlib.axes._subplots.AxesSubplot at 0x7f2556c1ed30>"
            ]
          },
          "metadata": {},
          "execution_count": 40
        },
        {
          "output_type": "display_data",
          "data": {
            "text/plain": [
              "<Figure size 432x288 with 1 Axes>"
            ],
            "image/png": "[encoded data removed]"
          },
          "metadata": {
            "needs_background": "light"
          }
        }
      ],
      "source": [
        "sns.barplot(x=\"season\", y=\"Total_booking\", data=df, palette = 'hls')"
      ]
    },
    {
      "cell_type": "markdown",
      "metadata": {
        "id": "dh_jcZlYxO_x"
      },
      "source": [
        "People use less cabs on spring season, maybe they like to walk and enjoy weather"
      ]
    },
    {
      "cell_type": "code",
      "source": [
        "df.groupby([\"season\"])[\"temp\"].agg([np.mean,max,min])"
      ],
      "metadata": {
        "colab": {
          "base_uri": "https://localhost:8080/",
          "height": 206
        },
        "id": "89L85YkRT9Ft",
        "outputId": "a2764197-840e-4ed9-fead-fd8f63c4fa5e"
      },
      "execution_count": 41,
      "outputs": [
        {
          "output_type": "execute_result",
          "data": {
            "text/plain": [
              "             mean    max    min\n",
              "season                         \n",
              "Fall    28.833732  41.00  15.58\n",
              "Spring  12.499242  29.52   0.82\n",
              "Summer  22.809586  38.54   9.84\n",
              "Winter  16.627694  30.34   5.74"
            ],
            "text/html": [
              "\n",
              "  <div id=\"df-a9fc910b-6826-4036-981b-7ffac9d3c179\">\n",
              "    <div class=\"colab-df-container\">\n",
              "      <div>\n",
              "<style scoped>\n",
              "    .dataframe tbody tr th:only-of-type {\n",
              "        vertical-align: middle;\n",
              "    }\n",
              "\n",
              "    .dataframe tbody tr th {\n",
              "        vertical-align: top;\n",
              "    }\n",
              "\n",
              "    .dataframe thead th {\n",
              "        text-align: right;\n",
              "    }\n",
              "</style>\n",
              "<table border=\"1\" class=\"dataframe\">\n",
              "  <thead>\n",
              "    <tr style=\"text-align: right;\">\n",
              "      <th></th>\n",
              "      <th>mean</th>\n",
              "      <th>max</th>\n",
              "      <th>min</th>\n",
              "    </tr>\n",
              "    <tr>\n",
              "      <th>season</th>\n",
              "      <th></th>\n",
              "      <th></th>\n",
              "      <th></th>\n",
              "    </tr>\n",
              "  </thead>\n",
              "  <tbody>\n",
              "    <tr>\n",
              "      <th>Fall</th>\n",
              "      <td>28.833732</td>\n",
              "      <td>41.00</td>\n",
              "      <td>15.58</td>\n",
              "    </tr>\n",
              "    <tr>\n",
              "      <th>Spring</th>\n",
              "      <td>12.499242</td>\n",
              "      <td>29.52</td>\n",
              "      <td>0.82</td>\n",
              "    </tr>\n",
              "    <tr>\n",
              "      <th>Summer</th>\n",
              "      <td>22.809586</td>\n",
              "      <td>38.54</td>\n",
              "      <td>9.84</td>\n",
              "    </tr>\n",
              "    <tr>\n",
              "      <th>Winter</th>\n",
              "      <td>16.627694</td>\n",
              "      <td>30.34</td>\n",
              "      <td>5.74</td>\n",
              "    </tr>\n",
              "  </tbody>\n",
              "</table>\n",
              "</div>\n",
              "      <button class=\"colab-df-convert\" onclick=\"convertToInteractive('df-a9fc910b-6826-4036-981b-7ffac9d3c179')\"\n",
              "              title=\"Convert this dataframe to an interactive table.\"\n",
              "              style=\"display:none;\">\n",
              "        \n",
              "  <svg xmlns=\"http://www.w3.org/2000/svg\" height=\"24px\"viewBox=\"0 0 24 24\"\n",
              "       width=\"24px\">\n",
              "    <path d=\"M0 0h24v24H0V0z\" fill=\"none\"/>\n",
              "    <path d=\"M18.56 5.44l.94 2.06.94-2.06 2.06-.94-2.06-.94-.94-2.06-.94 2.06-2.06.94zm-11 1L8.5 8.5l.94-2.06 2.06-.94-2.06-.94L8.5 2.5l-.94 2.06-2.06.94zm10 10l.94 2.06.94-2.06 2.06-.94-2.06-.94-.94-2.06-.94 2.06-2.06.94z\"/><path d=\"M17.41 7.96l-1.37-1.37c-.4-.4-.92-.59-1.43-.59-.52 0-1.04.2-1.43.59L10.3 9.45l-7.72 7.72c-.78.78-.78 2.05 0 2.83L4 21.41c.39.39.9.59 1.41.59.51 0 1.02-.2 1.41-.59l7.78-7.78 2.81-2.81c.8-.78.8-2.07 0-2.86zM5.41 20L4 18.59l7.72-7.72 1.47 1.35L5.41 20z\"/>\n",
              "  </svg>\n",
              "      </button>\n",
              "      \n",
              "  <style>\n",
              "    .colab-df-container {\n",
              "      display:flex;\n",
              "      flex-wrap:wrap;\n",
              "      gap: 12px;\n",
              "    }\n",
              "\n",
              "    .colab-df-convert {\n",
              "      background-color: #E8F0FE;\n",
              "      border: none;\n",
              "      border-radius: 50%;\n",
              "      cursor: pointer;\n",
              "      display: none;\n",
              "      fill: #1967D2;\n",
              "      height: 32px;\n",
              "      padding: 0 0 0 0;\n",
              "      width: 32px;\n",
              "    }\n",
              "\n",
              "    .colab-df-convert:hover {\n",
              "      background-color: #E2EBFA;\n",
              "      box-shadow: 0px 1px 2px rgba(60, 64, 67, 0.3), 0px 1px 3px 1px rgba(60, 64, 67, 0.15);\n",
              "      fill: #174EA6;\n",
              "    }\n",
              "\n",
              "    [theme=dark] .colab-df-convert {\n",
              "      background-color: #3B4455;\n",
              "      fill: #D2E3FC;\n",
              "    }\n",
              "\n",
              "    [theme=dark] .colab-df-convert:hover {\n",
              "      background-color: #434B5C;\n",
              "      box-shadow: 0px 1px 3px 1px rgba(0, 0, 0, 0.15);\n",
              "      filter: drop-shadow(0px 1px 2px rgba(0, 0, 0, 0.3));\n",
              "      fill: #FFFFFF;\n",
              "    }\n",
              "  </style>\n",
              "\n",
              "      <script>\n",
              "        const buttonEl =\n",
              "          document.querySelector('#df-a9fc910b-6826-4036-981b-7ffac9d3c179 button.colab-df-convert');\n",
              "        buttonEl.style.display =\n",
              "          google.colab.kernel.accessAllowed ? 'block' : 'none';\n",
              "\n",
              "        async function convertToInteractive(key) {\n",
              "          const element = document.querySelector('#df-a9fc910b-6826-4036-981b-7ffac9d3c179');\n",
              "          const dataTable =\n",
              "            await google.colab.kernel.invokeFunction('convertToInteractive',\n",
              "                                                     [key], {});\n",
              "          if (!dataTable) return;\n",
              "\n",
              "          const docLinkHtml = 'Like what you see? Visit the ' +\n",
              "            '<a target=\"_blank\" href=https://colab.research.google.com/notebooks/data_table.ipynb>data table notebook</a>'\n",
              "            + ' to learn more about interactive tables.';\n",
              "          element.innerHTML = '';\n",
              "          dataTable['output_type'] = 'display_data';\n",
              "          await google.colab.output.renderOutput(dataTable, element);\n",
              "          const docLink = document.createElement('div');\n",
              "          docLink.innerHTML = docLinkHtml;\n",
              "          element.appendChild(docLink);\n",
              "        }\n",
              "      </script>\n",
              "    </div>\n",
              "  </div>\n",
              "  "
            ]
          },
          "metadata": {},
          "execution_count": 41
        }
      ]
    },
    {
      "cell_type": "code",
      "execution_count": 42,
      "metadata": {
        "colab": {
          "base_uri": "https://localhost:8080/",
          "height": 542
        },
        "id": "wKFsqiZLAe0n",
        "outputId": "81d196ef-48bf-4c3d-8f78-5ce5c0264b7c"
      },
      "outputs": [
        {
          "output_type": "display_data",
          "data": {
            "text/html": [
              "<html>\n",
              "<head><meta charset=\"utf-8\" /></head>\n",
              "<body>\n",
              "    <div>            <script src=\"https://cdnjs.cloudflare.com/ajax/libs/mathjax/2.7.5/MathJax.js?config=TeX-AMS-MML_SVG\"></script><script type=\"text/javascript\">if (window.MathJax) {MathJax.Hub.Config({SVG: {font: \"STIX-Web\"}});}</script>                <script type=\"text/javascript\">window.PlotlyConfig = {MathJaxConfig: 'local'};</script>\n",
              "        <script src=\"https://cdn.plot.ly/plotly-2.8.3.min.js\"></script>                <div id=\"7ae95205-fc61-47b6-a9bb-1823403f28af\" class=\"plotly-graph-div\" style=\"height:525px; width:100%;\"></div>            <script type=\"text/javascript\">                                    window.PLOTLYENV=window.PLOTLYENV || {};                                    if (document.getElementById(\"7ae95205-fc61-47b6-a9bb-1823403f28af\")) {                    Plotly.newPlot(                        \"7ae95205-fc61-47b6-a9bb-1823403f28af\",                        [{\"customdata\":[[\"Wednesday\",5],[\"Thursday\",6],[\"Tuesday\",6],[\"Wednesday\",5],[\"Wednesday\",5],[\"Wednesday\",4],[\"Monday\",6],[\"Sunday\",5],[\"Wednesday\",5],[\"Monday\",6],[\"Thursday\",5],[\"Monday\",6],[\"Tuesday\",6],[\"Tuesday\",5],[\"Tuesday\",6],[\"Saturday\",6],[\"Sunday\",6],[\"Friday\",5],[\"Thursday\",6],[\"Tuesday\",5],[\"Sunday\",6],[\"Tuesday\",6],[\"Monday\",4],[\"Sunday\",4],[\"Tuesday\",5],[\"Wednesday\",5],[\"Tuesday\",5],[\"Monday\",6],[\"Tuesday\",5],[\"Thursday\",6],[\"Tuesday\",6],[\"Sunday\",4],[\"Wednesday\",4],[\"Friday\",4],[\"Saturday\",4],[\"Saturday\",5],[\"Tuesday\",6],[\"Tuesday\",4],[\"Wednesday\",5],[\"Friday\",6],[\"Friday\",5],[\"Monday\",6],[\"Thursday\",4],[\"Sunday\",5],[\"Thursday\",5],[\"Wednesday\",6],[\"Friday\",5],[\"Friday\",4],[\"Wednesday\",6],[\"Saturday\",6],[\"Monday\",5],[\"Friday\",6],[\"Wednesday\",4],[\"Sunday\",5],[\"Tuesday\",5],[\"Sunday\",5],[\"Friday\",4],[\"Saturday\",6],[\"Sunday\",6],[\"Saturday\",6],[\"Monday\",4],[\"Saturday\",5],[\"Thursday\",5],[\"Tuesday\",5],[\"Tuesday\",5],[\"Wednesday\",4],[\"Friday\",6],[\"Tuesday\",6],[\"Saturday\",6],[\"Monday\",4],[\"Monday\",4],[\"Sunday\",5],[\"Tuesday\",4],[\"Tuesday\",6],[\"Thursday\",4],[\"Tuesday\",5],[\"Sunday\",5],[\"Monday\",5],[\"Tuesday\",4],[\"Tuesday\",5],[\"Friday\",4],[\"Tuesday\",6],[\"Tuesday\",6],[\"Sunday\",6],[\"Thursday\",5],[\"Thursday\",6],[\"Tuesday\",5],[\"Monday\",4],[\"Sunday\",5],[\"Friday\",6],[\"Tuesday\",4],[\"Friday\",6],[\"Sunday\",5],[\"Friday\",5],[\"Sunday\",6],[\"Wednesday\",6],[\"Tuesday\",4],[\"Saturday\",4],[\"Friday\",5],[\"Saturday\",6],[\"Sunday\",5],[\"Tuesday\",6],[\"Thursday\",5],[\"Sunday\",4],[\"Saturday\",5],[\"Sunday\",5],[\"Thursday\",5],[\"Tuesday\",6],[\"Wednesday\",6],[\"Saturday\",4],[\"Monday\",4],[\"Monday\",6],[\"Friday\",4],[\"Tuesday\",4],[\"Wednesday\",4],[\"Monday\",5],[\"Saturday\",5],[\"Friday\",4],[\"Sunday\",5],[\"Tuesday\",4],[\"Sunday\",4],[\"Saturday\",6],[\"Wednesday\",6],[\"Monday\",5],[\"Friday\",5],[\"Wednesday\",6],[\"Thursday\",6],[\"Monday\",4],[\"Saturday\",6],[\"Saturday\",4],[\"Monday\",6],[\"Thursday\",5],[\"Wednesday\",4],[\"Tuesday\",4],[\"Wednesday\",6],[\"Wednesday\",5],[\"Wednesday\",4],[\"Monday\",4],[\"Thursday\",6],[\"Saturday\",5],[\"Thursday\",5],[\"Thursday\",5],[\"Sunday\",5],[\"Friday\",5],[\"Friday\",5],[\"Tuesday\",4],[\"Saturday\",6],[\"Friday\",4],[\"Wednesday\",5],[\"Wednesday\",5],[\"Monday\",6],[\"Monday\",5],[\"Wednesday\",6],[\"Saturday\",4],[\"Wednesday\",5],[\"Friday\",4],[\"Sunday\",4],[\"Saturday\",6],[\"Wednesday\",4],[\"Monday\",4],[\"Tuesday\",5],[\"Sunday\",6],[\"Tuesday\",6],[\"Monday\",6],[\"Monday\",6],[\"Sunday\",4],[\"Thursday\",4],[\"Monday\",6],[\"Tuesday\",4],[\"Saturday\",6],[\"Friday\",5],[\"Sunday\",4],[\"Monday\",6],[\"Thursday\",6],[\"Saturday\",4],[\"Thursday\",4],[\"Tuesday\",5],[\"Tuesday\",4],[\"Wednesday\",4],[\"Monday\",4],[\"Saturday\",5],[\"Saturday\",4],[\"Monday\",6],[\"Wednesday\",4],[\"Wednesday\",4],[\"Thursday\",4],[\"Monday\",4],[\"Wednesday\",6],[\"Saturday\",5],[\"Friday\",6],[\"Wednesday\",5],[\"Friday\",5],[\"Thursday\",5],[\"Friday\",6],[\"Tuesday\",4],[\"Tuesday\",6],[\"Sunday\",5],[\"Sunday\",4],[\"Sunday\",6],[\"Tuesday\",6],[\"Tuesday\",5],[\"Tuesday\",4],[\"Saturday\",4],[\"Tuesday\",5],[\"Friday\",5],[\"Monday\",6],[\"Tuesday\",5],[\"Thursday\",5],[\"Sunday\",4],[\"Tuesday\",6],[\"Thursday\",4],[\"Tuesday\",5],[\"Saturday\",6],[\"Thursday\",4],[\"Sunday\",6],[\"Monday\",4],[\"Friday\",5],[\"Tuesday\",5],[\"Saturday\",6],[\"Friday\",6],[\"Wednesday\",5],[\"Sunday\",6],[\"Friday\",5],[\"Saturday\",5],[\"Monday\",5],[\"Thursday\",5],[\"Friday\",6],[\"Monday\",4],[\"Monday\",4],[\"Tuesday\",5],[\"Thursday\",6],[\"Friday\",4],[\"Tuesday\",5],[\"Friday\",4],[\"Wednesday\",6],[\"Thursday\",5],[\"Saturday\",5],[\"Sunday\",4],[\"Monday\",4],[\"Monday\",5],[\"Friday\",6],[\"Monday\",6],[\"Sunday\",6],[\"Saturday\",5],[\"Monday\",5],[\"Sunday\",4],[\"Thursday\",6],[\"Wednesday\",4],[\"Sunday\",6],[\"Sunday\",5],[\"Thursday\",4],[\"Sunday\",5],[\"Friday\",6],[\"Thursday\",5],[\"Saturday\",6],[\"Tuesday\",5],[\"Friday\",4],[\"Friday\",4],[\"Friday\",6],[\"Tuesday\",4],[\"Tuesday\",5],[\"Tuesday\",6],[\"Wednesday\",6],[\"Friday\",4],[\"Friday\",6],[\"Sunday\",4],[\"Friday\",6],[\"Monday\",5],[\"Thursday\",6],[\"Sunday\",5],[\"Sunday\",6],[\"Saturday\",4],[\"Saturday\",6],[\"Saturday\",6],[\"Sunday\",5],[\"Monday\",4],[\"Wednesday\",5],[\"Friday\",6],[\"Sunday\",5],[\"Tuesday\",5],[\"Saturday\",5],[\"Wednesday\",4],[\"Friday\",6],[\"Tuesday\",5],[\"Thursday\",4],[\"Monday\",4],[\"Tuesday\",4],[\"Sunday\",5],[\"Tuesday\",6],[\"Friday\",5],[\"Sunday\",6],[\"Friday\",4],[\"Friday\",6],[\"Thursday\",5],[\"Wednesday\",5],[\"Thursday\",4],[\"Tuesday\",5],[\"Tuesday\",6],[\"Monday\",6],[\"Wednesday\",5],[\"Sunday\",4],[\"Thursday\",6],[\"Saturday\",6],[\"Sunday\",6],[\"Saturday\",5],[\"Friday\",5],[\"Tuesday\",6],[\"Thursday\",4],[\"Saturday\",4],[\"Thursday\",4],[\"Monday\",6],[\"Monday\",4],[\"Saturday\",4],[\"Friday\",6],[\"Saturday\",6],[\"Wednesday\",4],[\"Friday\",4],[\"Monday\",4],[\"Thursday\",5],[\"Tuesday\",4],[\"Wednesday\",5],[\"Monday\",4],[\"Saturday\",5],[\"Wednesday\",4],[\"Saturday\",6],[\"Wednesday\",5],[\"Friday\",4],[\"Tuesday\",5],[\"Saturday\",4],[\"Thursday\",4],[\"Tuesday\",4],[\"Tuesday\",4],[\"Thursday\",6],[\"Thursday\",6],[\"Thursday\",5],[\"Tuesday\",5],[\"Wednesday\",5],[\"Friday\",5],[\"Friday\",6],[\"Sunday\",5],[\"Thursday\",4],[\"Saturday\",4],[\"Friday\",4],[\"Monday\",6],[\"Thursday\",5],[\"Thursday\",6],[\"Saturday\",6],[\"Saturday\",6],[\"Tuesday\",5],[\"Monday\",6],[\"Friday\",4],[\"Saturday\",5],[\"Saturday\",6],[\"Sunday\",5],[\"Wednesday\",6],[\"Tuesday\",4],[\"Tuesday\",4],[\"Monday\",6],[\"Wednesday\",4],[\"Friday\",6],[\"Saturday\",4],[\"Thursday\",4],[\"Thursday\",6],[\"Friday\",6],[\"Friday\",6],[\"Wednesday\",6],[\"Sunday\",4],[\"Wednesday\",5],[\"Friday\",5],[\"Wednesday\",6],[\"Tuesday\",6],[\"Friday\",5],[\"Friday\",5],[\"Wednesday\",6],[\"Saturday\",5],[\"Tuesday\",5],[\"Thursday\",5],[\"Thursday\",4],[\"Saturday\",6],[\"Sunday\",4],[\"Sunday\",5],[\"Wednesday\",5],[\"Saturday\",5],[\"Friday\",6],[\"Sunday\",5],[\"Monday\",4],[\"Thursday\",4],[\"Tuesday\",6],[\"Saturday\",6],[\"Saturday\",4],[\"Thursday\",4],[\"Tuesday\",4],[\"Thursday\",5],[\"Sunday\",5],[\"Sunday\",4],[\"Thursday\",6],[\"Sunday\",4],[\"Tuesday\",4],[\"Friday\",5],[\"Thursday\",4],[\"Tuesday\",6],[\"Wednesday\",4],[\"Tuesday\",6],[\"Sunday\",5],[\"Wednesday\",4],[\"Saturday\",5],[\"Thursday\",5],[\"Tuesday\",4],[\"Sunday\",4],[\"Sunday\",6],[\"Thursday\",4],[\"Saturday\",6],[\"Saturday\",4],[\"Thursday\",5],[\"Thursday\",4],[\"Thursday\",6],[\"Friday\",4],[\"Monday\",5],[\"Tuesday\",4],[\"Sunday\",4],[\"Wednesday\",6],[\"Friday\",5],[\"Wednesday\",4],[\"Thursday\",4],[\"Tuesday\",6],[\"Monday\",4],[\"Tuesday\",4],[\"Saturday\",6],[\"Wednesday\",4],[\"Sunday\",5],[\"Monday\",6],[\"Sunday\",6],[\"Friday\",4],[\"Friday\",4],[\"Friday\",4],[\"Tuesday\",5],[\"Thursday\",4],[\"Sunday\",5],[\"Saturday\",4],[\"Monday\",6],[\"Tuesday\",5],[\"Wednesday\",5],[\"Sunday\",6],[\"Tuesday\",5],[\"Saturday\",5],[\"Monday\",6],[\"Monday\",5],[\"Thursday\",6],[\"Tuesday\",5],[\"Saturday\",5],[\"Friday\",4],[\"Thursday\",4],[\"Thursday\",6],[\"Tuesday\",6],[\"Friday\",4],[\"Thursday\",4],[\"Sunday\",5],[\"Thursday\",5],[\"Thursday\",6],[\"Wednesday\",5],[\"Friday\",6],[\"Sunday\",4],[\"Friday\",5],[\"Monday\",6],[\"Tuesday\",5],[\"Tuesday\",4],[\"Wednesday\",4],[\"Sunday\",4],[\"Wednesday\",5],[\"Tuesday\",4],[\"Sunday\",4],[\"Thursday\",4],[\"Sunday\",6],[\"Saturday\",5],[\"Monday\",5],[\"Monday\",6],[\"Tuesday\",4],[\"Thursday\",5],[\"Thursday\",6],[\"Tuesday\",6],[\"Friday\",4],[\"Sunday\",5],[\"Tuesday\",6],[\"Tuesday\",5],[\"Wednesday\",5],[\"Friday\",5],[\"Monday\",6],[\"Saturday\",6],[\"Sunday\",6],[\"Saturday\",5],[\"Saturday\",4],[\"Saturday\",5],[\"Wednesday\",4],[\"Thursday\",6],[\"Wednesday\",5],[\"Tuesday\",6],[\"Friday\",5],[\"Tuesday\",6],[\"Friday\",5],[\"Saturday\",4],[\"Monday\",4],[\"Monday\",5],[\"Wednesday\",5],[\"Wednesday\",4],[\"Monday\",5],[\"Wednesday\",5],[\"Monday\",6],[\"Sunday\",4],[\"Tuesday\",4],[\"Sunday\",5],[\"Friday\",4],[\"Thursday\",4],[\"Monday\",5],[\"Tuesday\",6],[\"Saturday\",4],[\"Monday\",5],[\"Sunday\",5],[\"Friday\",5],[\"Wednesday\",6],[\"Friday\",5],[\"Monday\",5],[\"Sunday\",4],[\"Sunday\",5],[\"Saturday\",6],[\"Saturday\",5],[\"Saturday\",4],[\"Saturday\",5],[\"Saturday\",5],[\"Tuesday\",6],[\"Tuesday\",5],[\"Sunday\",4],[\"Tuesday\",5],[\"Wednesday\",6],[\"Saturday\",5],[\"Saturday\",6],[\"Saturday\",4],[\"Thursday\",5],[\"Sunday\",5],[\"Wednesday\",4],[\"Friday\",4],[\"Sunday\",5],[\"Friday\",6],[\"Thursday\",4],[\"Saturday\",4],[\"Thursday\",4],[\"Wednesday\",4],[\"Sunday\",6],[\"Thursday\",5],[\"Wednesday\",5],[\"Sunday\",4],[\"Tuesday\",6],[\"Saturday\",4],[\"Thursday\",5],[\"Thursday\",5],[\"Thursday\",6],[\"Friday\",5],[\"Sunday\",5],[\"Monday\",4],[\"Saturday\",5],[\"Tuesday\",4],[\"Monday\",6],[\"Wednesday\",5],[\"Saturday\",5],[\"Sunday\",4],[\"Wednesday\",6],[\"Tuesday\",4],[\"Saturday\",6],[\"Tuesday\",5],[\"Friday\",6],[\"Thursday\",5],[\"Saturday\",6],[\"Friday\",6],[\"Monday\",4],[\"Wednesday\",6],[\"Friday\",6],[\"Wednesday\",6],[\"Wednesday\",6],[\"Thursday\",6],[\"Sunday\",4],[\"Sunday\",4],[\"Sunday\",6],[\"Wednesday\",6],[\"Sunday\",4],[\"Saturday\",4],[\"Wednesday\",5],[\"Saturday\",4],[\"Friday\",5],[\"Tuesday\",5],[\"Thursday\",4],[\"Saturday\",5],[\"Saturday\",4],[\"Tuesday\",4],[\"Wednesday\",5],[\"Thursday\",4],[\"Tuesday\",4],[\"Wednesday\",5],[\"Wednesday\",4],[\"Friday\",4],[\"Friday\",5],[\"Sunday\",6],[\"Tuesday\",4],[\"Tuesday\",5],[\"Saturday\",6],[\"Monday\",4],[\"Sunday\",6],[\"Tuesday\",6],[\"Saturday\",4],[\"Wednesday\",5],[\"Monday\",4],[\"Sunday\",6],[\"Sunday\",4],[\"Tuesday\",6],[\"Sunday\",4],[\"Monday\",4],[\"Friday\",4],[\"Tuesday\",5],[\"Tuesday\",5],[\"Thursday\",4],[\"Monday\",5],[\"Monday\",5],[\"Saturday\",6],[\"Wednesday\",5],[\"Wednesday\",4],[\"Saturday\",6],[\"Wednesday\",5],[\"Thursday\",5],[\"Friday\",4],[\"Wednesday\",5],[\"Wednesday\",5],[\"Thursday\",6],[\"Tuesday\",5],[\"Thursday\",5],[\"Tuesday\",6],[\"Thursday\",6],[\"Monday\",5],[\"Tuesday\",6],[\"Wednesday\",6],[\"Thursday\",5],[\"Wednesday\",5],[\"Friday\",6],[\"Sunday\",4],[\"Friday\",5],[\"Wednesday\",4],[\"Saturday\",6],[\"Monday\",4],[\"Friday\",5],[\"Friday\",5],[\"Friday\",6],[\"Sunday\",6],[\"Saturday\",5],[\"Friday\",5],[\"Tuesday\",6],[\"Monday\",5],[\"Tuesday\",5],[\"Thursday\",4],[\"Tuesday\",5],[\"Sunday\",4],[\"Friday\",6],[\"Monday\",5],[\"Saturday\",5],[\"Monday\",4],[\"Sunday\",6],[\"Tuesday\",6],[\"Tuesday\",5],[\"Thursday\",4],[\"Wednesday\",6],[\"Friday\",5],[\"Wednesday\",6],[\"Wednesday\",5],[\"Sunday\",5],[\"Tuesday\",4],[\"Wednesday\",6],[\"Tuesday\",5],[\"Friday\",4],[\"Sunday\",5],[\"Wednesday\",5],[\"Thursday\",4],[\"Wednesday\",6],[\"Saturday\",4],[\"Wednesday\",5],[\"Friday\",6],[\"Monday\",4],[\"Saturday\",5],[\"Thursday\",6],[\"Thursday\",4],[\"Friday\",6],[\"Saturday\",6],[\"Wednesday\",6],[\"Sunday\",6],[\"Monday\",4],[\"Wednesday\",4],[\"Wednesday\",6],[\"Thursday\",4],[\"Monday\",4],[\"Sunday\",4],[\"Sunday\",6],[\"Friday\",5],[\"Monday\",4],[\"Monday\",5],[\"Saturday\",4],[\"Friday\",6],[\"Wednesday\",5],[\"Saturday\",5],[\"Tuesday\",4],[\"Saturday\",6],[\"Friday\",5],[\"Friday\",6],[\"Wednesday\",6],[\"Thursday\",5],[\"Wednesday\",6],[\"Monday\",5],[\"Friday\",4],[\"Monday\",4],[\"Thursday\",6],[\"Wednesday\",5],[\"Wednesday\",4],[\"Monday\",5],[\"Saturday\",4],[\"Wednesday\",4],[\"Sunday\",6],[\"Tuesday\",4],[\"Saturday\",5],[\"Thursday\",4],[\"Thursday\",5],[\"Thursday\",4],[\"Saturday\",5],[\"Friday\",6],[\"Tuesday\",6],[\"Tuesday\",6],[\"Friday\",6],[\"Wednesday\",5],[\"Thursday\",4],[\"Thursday\",6],[\"Wednesday\",5],[\"Tuesday\",4],[\"Friday\",6],[\"Monday\",4],[\"Monday\",5],[\"Tuesday\",6],[\"Thursday\",4],[\"Friday\",4],[\"Tuesday\",4],[\"Tuesday\",4],[\"Wednesday\",6],[\"Sunday\",5],[\"Friday\",4],[\"Friday\",4],[\"Sunday\",5],[\"Monday\",5],[\"Tuesday\",6],[\"Saturday\",6],[\"Tuesday\",4],[\"Sunday\",6],[\"Wednesday\",5],[\"Friday\",6],[\"Thursday\",6],[\"Saturday\",4],[\"Wednesday\",4],[\"Friday\",6],[\"Wednesday\",5],[\"Saturday\",4],[\"Monday\",6],[\"Tuesday\",6],[\"Thursday\",5],[\"Friday\",4],[\"Monday\",6],[\"Friday\",6],[\"Sunday\",6],[\"Tuesday\",4],[\"Sunday\",6],[\"Tuesday\",5],[\"Friday\",6],[\"Sunday\",6],[\"Wednesday\",5],[\"Thursday\",5],[\"Sunday\",6],[\"Monday\",5],[\"Wednesday\",6],[\"Friday\",6],[\"Tuesday\",6],[\"Monday\",6],[\"Sunday\",4],[\"Monday\",5],[\"Sunday\",5],[\"Thursday\",4],[\"Sunday\",4],[\"Saturday\",6],[\"Saturday\",4],[\"Sunday\",5],[\"Friday\",6],[\"Tuesday\",5],[\"Thursday\",6],[\"Saturday\",6],[\"Monday\",5],[\"Thursday\",4],[\"Wednesday\",6],[\"Saturday\",6],[\"Saturday\",6],[\"Wednesday\",5],[\"Monday\",5],[\"Wednesday\",5],[\"Tuesday\",4],[\"Friday\",4],[\"Tuesday\",5],[\"Wednesday\",4],[\"Tuesday\",5],[\"Sunday\",4],[\"Saturday\",6],[\"Sunday\",4],[\"Thursday\",5],[\"Tuesday\",4],[\"Saturday\",4],[\"Tuesday\",6],[\"Monday\",5],[\"Monday\",4],[\"Friday\",5],[\"Thursday\",4],[\"Saturday\",4],[\"Saturday\",5],[\"Tuesday\",5],[\"Thursday\",5],[\"Thursday\",4],[\"Sunday\",4],[\"Sunday\",6],[\"Tuesday\",4],[\"Thursday\",6],[\"Saturday\",4],[\"Sunday\",5],[\"Friday\",4],[\"Sunday\",5],[\"Thursday\",6],[\"Sunday\",4],[\"Saturday\",6],[\"Wednesday\",5],[\"Sunday\",6],[\"Thursday\",6],[\"Wednesday\",4],[\"Sunday\",4],[\"Wednesday\",5],[\"Tuesday\",6],[\"Wednesday\",5],[\"Monday\",4],[\"Sunday\",4],[\"Wednesday\",4],[\"Saturday\",5],[\"Monday\",6],[\"Thursday\",5],[\"Monday\",6],[\"Monday\",5],[\"Saturday\",6],[\"Tuesday\",5],[\"Friday\",6],[\"Friday\",5],[\"Monday\",4],[\"Wednesday\",5],[\"Friday\",5],[\"Saturday\",6],[\"Monday\",4],[\"Monday\",4],[\"Tuesday\",5],[\"Saturday\",4],[\"Tuesday\",4],[\"Saturday\",4],[\"Wednesday\",4],[\"Monday\",4],[\"Thursday\",4],[\"Thursday\",5],[\"Thursday\",5],[\"Monday\",6],[\"Sunday\",5],[\"Saturday\",4],[\"Thursday\",4],[\"Thursday\",6],[\"Thursday\",5],[\"Thursday\",4],[\"Saturday\",6],[\"Friday\",6],[\"Thursday\",6],[\"Tuesday\",5],[\"Thursday\",5],[\"Monday\",4],[\"Thursday\",4],[\"Sunday\",5],[\"Thursday\",6],[\"Wednesday\",5],[\"Saturday\",4],[\"Tuesday\",4],[\"Monday\",5],[\"Wednesday\",4],[\"Friday\",4],[\"Saturday\",6],[\"Friday\",5],[\"Thursday\",5],[\"Saturday\",5],[\"Thursday\",4],[\"Saturday\",6],[\"Friday\",4],[\"Sunday\",5],[\"Wednesday\",6],[\"Saturday\",4],[\"Thursday\",4],[\"Thursday\",5],[\"Sunday\",4],[\"Saturday\",6],[\"Sunday\",5],[\"Saturday\",4],[\"Wednesday\",5],[\"Friday\",5],[\"Friday\",6],[\"Monday\",5],[\"Monday\",5],[\"Saturday\",4],[\"Sunday\",5],[\"Friday\",5],[\"Thursday\",4],[\"Tuesday\",5],[\"Tuesday\",4],[\"Thursday\",6],[\"Thursday\",6],[\"Sunday\",6],[\"Saturday\",6],[\"Monday\",6],[\"Friday\",6],[\"Thursday\",4],[\"Friday\",5],[\"Wednesday\",5],[\"Sunday\",4],[\"Saturday\",6],[\"Sunday\",5],[\"Saturday\",6],[\"Monday\",4],[\"Thursday\",5],[\"Wednesday\",6],[\"Tuesday\",6],[\"Tuesday\",4],[\"Friday\",5],[\"Monday\",5],[\"Tuesday\",4],[\"Thursday\",5],[\"Wednesday\",4],[\"Friday\",5],[\"Saturday\",6],[\"Sunday\",4],[\"Tuesday\",5],[\"Thursday\",4],[\"Sunday\",4],[\"Saturday\",5],[\"Sunday\",5],[\"Tuesday\",5],[\"Sunday\",6],[\"Wednesday\",5],[\"Friday\",4],[\"Saturday\",5],[\"Wednesday\",6],[\"Thursday\",4],[\"Sunday\",5],[\"Sunday\",4],[\"Tuesday\",4],[\"Sunday\",4],[\"Wednesday\",6],[\"Wednesday\",6],[\"Saturday\",4],[\"Thursday\",4],[\"Friday\",4],[\"Friday\",5],[\"Wednesday\",5],[\"Friday\",6],[\"Wednesday\",6],[\"Tuesday\",5],[\"Saturday\",6],[\"Saturday\",4],[\"Saturday\",6],[\"Sunday\",5],[\"Monday\",5],[\"Sunday\",5],[\"Sunday\",5],[\"Monday\",4],[\"Wednesday\",6],[\"Tuesday\",6],[\"Saturday\",6],[\"Thursday\",6],[\"Thursday\",5],[\"Wednesday\",4],[\"Sunday\",6],[\"Tuesday\",5],[\"Saturday\",6],[\"Saturday\",5],[\"Wednesday\",6],[\"Tuesday\",5],[\"Thursday\",5],[\"Wednesday\",4],[\"Friday\",4],[\"Tuesday\",4],[\"Monday\",6],[\"Friday\",4],[\"Wednesday\",4],[\"Wednesday\",6],[\"Wednesday\",5],[\"Wednesday\",4],[\"Monday\",5],[\"Monday\",6],[\"Monday\",6],[\"Monday\",4],[\"Sunday\",4],[\"Monday\",6],[\"Wednesday\",5],[\"Wednesday\",4],[\"Thursday\",5],[\"Friday\",5],[\"Thursday\",5],[\"Tuesday\",4],[\"Friday\",6],[\"Tuesday\",4],[\"Saturday\",5],[\"Tuesday\",5],[\"Sunday\",6],[\"Thursday\",6],[\"Wednesday\",6],[\"Friday\",6],[\"Friday\",4],[\"Saturday\",6],[\"Tuesday\",6],[\"Monday\",4],[\"Monday\",4],[\"Wednesday\",6],[\"Tuesday\",5],[\"Friday\",6],[\"Monday\",5],[\"Wednesday\",4],[\"Sunday\",4],[\"Monday\",5],[\"Saturday\",4],[\"Wednesday\",6],[\"Sunday\",4],[\"Sunday\",6],[\"Thursday\",5],[\"Tuesday\",6],[\"Friday\",6],[\"Friday\",4],[\"Monday\",6],[\"Monday\",4],[\"Monday\",5],[\"Wednesday\",4],[\"Thursday\",4],[\"Saturday\",6],[\"Monday\",5],[\"Wednesday\",6],[\"Monday\",6],[\"Thursday\",5],[\"Wednesday\",4],[\"Tuesday\",5],[\"Monday\",5],[\"Thursday\",6],[\"Monday\",4],[\"Saturday\",6],[\"Sunday\",4],[\"Sunday\",6],[\"Tuesday\",5],[\"Wednesday\",5],[\"Thursday\",6],[\"Saturday\",5],[\"Wednesday\",6],[\"Tuesday\",4],[\"Wednesday\",5],[\"Monday\",5],[\"Thursday\",6],[\"Saturday\",6],[\"Friday\",6],[\"Tuesday\",6],[\"Thursday\",5],[\"Thursday\",5],[\"Sunday\",4],[\"Sunday\",6],[\"Friday\",6],[\"Saturday\",4],[\"Wednesday\",4],[\"Wednesday\",5],[\"Monday\",4],[\"Tuesday\",6],[\"Tuesday\",4],[\"Monday\",5],[\"Wednesday\",5],[\"Monday\",4],[\"Wednesday\",5],[\"Friday\",4],[\"Monday\",5],[\"Friday\",4],[\"Thursday\",5],[\"Wednesday\",6],[\"Saturday\",6],[\"Saturday\",4],[\"Friday\",4],[\"Friday\",6],[\"Wednesday\",5],[\"Tuesday\",4],[\"Sunday\",5],[\"Sunday\",6],[\"Wednesday\",5],[\"Tuesday\",4],[\"Thursday\",4],[\"Tuesday\",4],[\"Sunday\",5],[\"Saturday\",4],[\"Wednesday\",4],[\"Friday\",5],[\"Friday\",6],[\"Monday\",6],[\"Friday\",5],[\"Monday\",4],[\"Friday\",5],[\"Thursday\",5],[\"Monday\",6],[\"Saturday\",5],[\"Monday\",5],[\"Friday\",6],[\"Thursday\",6],[\"Wednesday\",6],[\"Friday\",4],[\"Sunday\",6],[\"Monday\",4],[\"Sunday\",5],[\"Wednesday\",4],[\"Friday\",4],[\"Tuesday\",4],[\"Monday\",6],[\"Saturday\",4],[\"Monday\",6],[\"Thursday\",5],[\"Tuesday\",5],[\"Sunday\",6],[\"Wednesday\",6],[\"Sunday\",4],[\"Thursday\",4],[\"Sunday\",5],[\"Sunday\",6],[\"Wednesday\",4],[\"Saturday\",4],[\"Friday\",4],[\"Wednesday\",5],[\"Sunday\",6],[\"Sunday\",5],[\"Sunday\",5],[\"Sunday\",4],[\"Monday\",6],[\"Monday\",5],[\"Sunday\",6],[\"Friday\",6],[\"Friday\",6],[\"Sunday\",4],[\"Saturday\",6],[\"Sunday\",4],[\"Wednesday\",4],[\"Saturday\",6],[\"Sunday\",6],[\"Monday\",6],[\"Wednesday\",5],[\"Thursday\",6],[\"Tuesday\",4],[\"Thursday\",4],[\"Wednesday\",6],[\"Wednesday\",6],[\"Sunday\",5],[\"Friday\",6],[\"Thursday\",4],[\"Thursday\",4],[\"Saturday\",4],[\"Thursday\",4],[\"Monday\",5],[\"Friday\",4],[\"Wednesday\",5],[\"Thursday\",5],[\"Sunday\",6],[\"Saturday\",5],[\"Monday\",5],[\"Thursday\",6],[\"Tuesday\",4],[\"Friday\",5],[\"Wednesday\",5],[\"Monday\",5],[\"Saturday\",5],[\"Tuesday\",5],[\"Friday\",5],[\"Friday\",6],[\"Thursday\",4],[\"Friday\",6],[\"Wednesday\",5],[\"Friday\",6],[\"Wednesday\",4],[\"Friday\",4],[\"Saturday\",6],[\"Monday\",4],[\"Sunday\",6],[\"Thursday\",6],[\"Wednesday\",6],[\"Tuesday\",5],[\"Wednesday\",5],[\"Tuesday\",6],[\"Saturday\",4],[\"Thursday\",6],[\"Sunday\",6],[\"Saturday\",4],[\"Friday\",5],[\"Thursday\",5],[\"Saturday\",5],[\"Thursday\",6],[\"Thursday\",5],[\"Saturday\",6],[\"Tuesday\",5],[\"Thursday\",4],[\"Sunday\",4],[\"Sunday\",4],[\"Wednesday\",5],[\"Friday\",5],[\"Friday\",4],[\"Sunday\",5],[\"Wednesday\",6],[\"Monday\",5],[\"Wednesday\",5],[\"Friday\",6],[\"Thursday\",6],[\"Wednesday\",4],[\"Monday\",4],[\"Saturday\",6],[\"Wednesday\",5],[\"Sunday\",6],[\"Saturday\",6],[\"Sunday\",5],[\"Thursday\",5],[\"Thursday\",6],[\"Monday\",6],[\"Thursday\",6],[\"Tuesday\",6],[\"Monday\",4],[\"Thursday\",5],[\"Sunday\",6],[\"Thursday\",6],[\"Wednesday\",6],[\"Tuesday\",4],[\"Sunday\",4],[\"Saturday\",5],[\"Friday\",6],[\"Tuesday\",4],[\"Monday\",6],[\"Friday\",4],[\"Friday\",5],[\"Monday\",4],[\"Thursday\",6],[\"Monday\",5],[\"Tuesday\",6],[\"Monday\",4],[\"Monday\",6],[\"Sunday\",4],[\"Saturday\",5],[\"Thursday\",4],[\"Wednesday\",6],[\"Saturday\",6],[\"Tuesday\",4],[\"Tuesday\",6],[\"Monday\",5],[\"Saturday\",6],[\"Sunday\",6],[\"Wednesday\",5],[\"Sunday\",4],[\"Tuesday\",4],[\"Saturday\",4],[\"Thursday\",4],[\"Friday\",5],[\"Tuesday\",5],[\"Monday\",6],[\"Sunday\",6],[\"Tuesday\",4],[\"Tuesday\",6],[\"Thursday\",6],[\"Wednesday\",6],[\"Saturday\",4],[\"Sunday\",6],[\"Thursday\",6],[\"Thursday\",6],[\"Tuesday\",6],[\"Friday\",6],[\"Saturday\",4],[\"Tuesday\",6],[\"Tuesday\",5],[\"Thursday\",6],[\"Monday\",4],[\"Tuesday\",6],[\"Thursday\",4],[\"Friday\",5],[\"Thursday\",4],[\"Friday\",5],[\"Saturday\",4],[\"Tuesday\",6],[\"Thursday\",5],[\"Sunday\",5],[\"Monday\",6],[\"Monday\",6],[\"Thursday\",6],[\"Monday\",4],[\"Tuesday\",4],[\"Tuesday\",5],[\"Tuesday\",6],[\"Thursday\",5],[\"Friday\",4],[\"Tuesday\",5],[\"Sunday\",6],[\"Wednesday\",5],[\"Sunday\",4],[\"Monday\",6],[\"Monday\",6],[\"Tuesday\",4],[\"Saturday\",5],[\"Sunday\",5],[\"Tuesday\",5],[\"Tuesday\",4],[\"Friday\",5],[\"Monday\",4],[\"Monday\",6],[\"Thursday\",5],[\"Friday\",4],[\"Thursday\",6],[\"Monday\",6],[\"Friday\",4],[\"Friday\",5],[\"Friday\",5],[\"Monday\",6],[\"Wednesday\",6],[\"Friday\",4],[\"Sunday\",5],[\"Thursday\",5],[\"Wednesday\",4],[\"Monday\",4],[\"Tuesday\",5],[\"Thursday\",5],[\"Friday\",4],[\"Tuesday\",4],[\"Monday\",4],[\"Tuesday\",4],[\"Sunday\",5],[\"Thursday\",6],[\"Wednesday\",5],[\"Monday\",5],[\"Sunday\",6],[\"Wednesday\",4],[\"Tuesday\",4],[\"Tuesday\",6],[\"Friday\",5],[\"Thursday\",5],[\"Thursday\",5],[\"Wednesday\",4],[\"Sunday\",4],[\"Friday\",4],[\"Monday\",6],[\"Sunday\",6],[\"Saturday\",5],[\"Wednesday\",5],[\"Sunday\",5],[\"Wednesday\",6],[\"Wednesday\",6],[\"Saturday\",6],[\"Monday\",6],[\"Friday\",5],[\"Saturday\",6],[\"Sunday\",4],[\"Monday\",5],[\"Tuesday\",4],[\"Thursday\",4],[\"Saturday\",4],[\"Saturday\",6],[\"Monday\",5],[\"Tuesday\",6],[\"Wednesday\",6],[\"Sunday\",4],[\"Monday\",6],[\"Friday\",4],[\"Saturday\",5],[\"Tuesday\",5],[\"Monday\",5],[\"Thursday\",4],[\"Thursday\",5],[\"Tuesday\",5],[\"Saturday\",6],[\"Sunday\",6],[\"Saturday\",6],[\"Sunday\",4],[\"Friday\",4],[\"Thursday\",5],[\"Monday\",5],[\"Wednesday\",5],[\"Sunday\",4],[\"Monday\",4],[\"Thursday\",5],[\"Thursday\",5],[\"Friday\",4],[\"Tuesday\",6],[\"Sunday\",5],[\"Friday\",6],[\"Saturday\",5],[\"Tuesday\",4],[\"Wednesday\",6],[\"Saturday\",4],[\"Friday\",4],[\"Friday\",5],[\"Saturday\",5],[\"Tuesday\",6],[\"Tuesday\",6],[\"Saturday\",5],[\"Wednesday\",6],[\"Saturday\",6],[\"Sunday\",6],[\"Thursday\",4],[\"Friday\",5],[\"Friday\",4],[\"Wednesday\",4],[\"Monday\",4],[\"Tuesday\",5],[\"Friday\",4],[\"Saturday\",6],[\"Sunday\",6],[\"Monday\",4],[\"Tuesday\",5],[\"Tuesday\",5],[\"Thursday\",5],[\"Friday\",4],[\"Tuesday\",4],[\"Wednesday\",6],[\"Thursday\",5],[\"Sunday\",6],[\"Saturday\",5],[\"Monday\",4],[\"Tuesday\",4],[\"Monday\",4],[\"Friday\",6],[\"Sunday\",6],[\"Tuesday\",4],[\"Tuesday\",5],[\"Monday\",6],[\"Friday\",4],[\"Monday\",4],[\"Monday\",4],[\"Friday\",6],[\"Wednesday\",4],[\"Monday\",5],[\"Sunday\",5],[\"Wednesday\",4],[\"Saturday\",6],[\"Tuesday\",5],[\"Saturday\",5],[\"Wednesday\",5],[\"Wednesday\",4],[\"Monday\",4],[\"Saturday\",5],[\"Saturday\",6],[\"Monday\",6],[\"Wednesday\",4],[\"Sunday\",5],[\"Sunday\",6],[\"Wednesday\",6],[\"Tuesday\",4],[\"Sunday\",5],[\"Monday\",4],[\"Tuesday\",4],[\"Friday\",5],[\"Tuesday\",5],[\"Friday\",4],[\"Monday\",5],[\"Tuesday\",4],[\"Friday\",5],[\"Saturday\",4],[\"Monday\",4],[\"Thursday\",4],[\"Friday\",4],[\"Monday\",4],[\"Thursday\",5],[\"Tuesday\",6],[\"Thursday\",4],[\"Friday\",5],[\"Thursday\",4],[\"Wednesday\",4],[\"Sunday\",4],[\"Friday\",6],[\"Wednesday\",6],[\"Monday\",6],[\"Thursday\",6],[\"Saturday\",6],[\"Wednesday\",4],[\"Monday\",5],[\"Saturday\",5],[\"Tuesday\",5],[\"Sunday\",5],[\"Sunday\",5],[\"Monday\",6],[\"Wednesday\",6],[\"Friday\",4],[\"Monday\",5],[\"Wednesday\",5],[\"Sunday\",4],[\"Sunday\",4],[\"Wednesday\",6],[\"Sunday\",5],[\"Tuesday\",5],[\"Thursday\",5],[\"Saturday\",5],[\"Friday\",6],[\"Sunday\",4],[\"Monday\",6],[\"Monday\",5],[\"Saturday\",5],[\"Thursday\",4],[\"Sunday\",6],[\"Saturday\",4],[\"Sunday\",5],[\"Saturday\",6],[\"Wednesday\",5],[\"Monday\",5],[\"Thursday\",4],[\"Saturday\",6],[\"Tuesday\",4],[\"Tuesday\",6],[\"Monday\",6],[\"Thursday\",6],[\"Monday\",4],[\"Thursday\",5],[\"Thursday\",5],[\"Friday\",5],[\"Sunday\",4],[\"Sunday\",6],[\"Friday\",5],[\"Tuesday\",6],[\"Thursday\",5],[\"Friday\",6],[\"Monday\",5],[\"Thursday\",5],[\"Monday\",4],[\"Sunday\",4],[\"Thursday\",5],[\"Thursday\",6],[\"Sunday\",4],[\"Saturday\",6],[\"Saturday\",4],[\"Saturday\",4],[\"Tuesday\",6],[\"Thursday\",6],[\"Monday\",6],[\"Friday\",6],[\"Saturday\",5],[\"Tuesday\",4],[\"Saturday\",6],[\"Saturday\",6],[\"Friday\",6],[\"Tuesday\",4],[\"Friday\",4],[\"Monday\",5],[\"Saturday\",5],[\"Monday\",5],[\"Thursday\",5],[\"Sunday\",4],[\"Thursday\",4],[\"Tuesday\",6],[\"Wednesday\",4],[\"Friday\",6],[\"Thursday\",5],[\"Friday\",4],[\"Sunday\",4],[\"Monday\",5],[\"Friday\",4],[\"Monday\",6],[\"Thursday\",5],[\"Monday\",4],[\"Thursday\",4],[\"Tuesday\",4],[\"Wednesday\",4],[\"Saturday\",6],[\"Sunday\",6],[\"Sunday\",6],[\"Thursday\",4],[\"Saturday\",5],[\"Tuesday\",4],[\"Tuesday\",4],[\"Thursday\",4],[\"Sunday\",6],[\"Sunday\",6],[\"Sunday\",6],[\"Thursday\",6],[\"Friday\",6],[\"Thursday\",6],[\"Monday\",4],[\"Tuesday\",5],[\"Monday\",6],[\"Saturday\",5],[\"Sunday\",4],[\"Saturday\",5],[\"Thursday\",5],[\"Friday\",4],[\"Tuesday\",6],[\"Monday\",4],[\"Wednesday\",4],[\"Sunday\",6],[\"Saturday\",4],[\"Sunday\",6],[\"Tuesday\",5],[\"Sunday\",6],[\"Tuesday\",6],[\"Wednesday\",5],[\"Saturday\",5],[\"Sunday\",6],[\"Thursday\",6],[\"Tuesday\",5],[\"Wednesday\",5],[\"Friday\",6],[\"Friday\",6],[\"Wednesday\",6],[\"Saturday\",4],[\"Saturday\",4],[\"Monday\",5],[\"Sunday\",4],[\"Thursday\",4],[\"Monday\",6],[\"Monday\",5],[\"Saturday\",5],[\"Thursday\",5],[\"Monday\",5],[\"Friday\",6],[\"Tuesday\",4],[\"Monday\",5],[\"Monday\",4],[\"Monday\",6],[\"Monday\",4],[\"Thursday\",5],[\"Monday\",6],[\"Wednesday\",4],[\"Thursday\",6],[\"Thursday\",5],[\"Thursday\",5],[\"Wednesday\",4],[\"Thursday\",5],[\"Wednesday\",5],[\"Saturday\",6],[\"Thursday\",4],[\"Saturday\",6],[\"Sunday\",5],[\"Thursday\",4],[\"Saturday\",4],[\"Friday\",6],[\"Saturday\",6],[\"Sunday\",6],[\"Sunday\",6],[\"Saturday\",4],[\"Friday\",5],[\"Wednesday\",6],[\"Monday\",5],[\"Wednesday\",5],[\"Monday\",4],[\"Friday\",4],[\"Friday\",6],[\"Saturday\",5],[\"Tuesday\",6],[\"Saturday\",6],[\"Sunday\",6],[\"Monday\",5],[\"Monday\",4],[\"Thursday\",6],[\"Sunday\",6],[\"Thursday\",6],[\"Thursday\",6],[\"Friday\",5],[\"Friday\",5],[\"Wednesday\",5],[\"Sunday\",5],[\"Saturday\",5],[\"Sunday\",6],[\"Friday\",5],[\"Friday\",5],[\"Monday\",6],[\"Monday\",5],[\"Friday\",4],[\"Saturday\",5],[\"Wednesday\",6],[\"Monday\",6],[\"Thursday\",6],[\"Wednesday\",6],[\"Saturday\",6],[\"Tuesday\",6],[\"Friday\",6],[\"Monday\",5],[\"Thursday\",5],[\"Wednesday\",6],[\"Wednesday\",5],[\"Tuesday\",4],[\"Tuesday\",4],[\"Sunday\",5],[\"Wednesday\",6],[\"Friday\",6],[\"Thursday\",5],[\"Saturday\",6],[\"Saturday\",6],[\"Saturday\",4],[\"Wednesday\",6],[\"Tuesday\",6],[\"Monday\",6],[\"Sunday\",5],[\"Tuesday\",4],[\"Saturday\",5],[\"Wednesday\",6],[\"Wednesday\",5],[\"Sunday\",4],[\"Monday\",4],[\"Tuesday\",4],[\"Friday\",6],[\"Thursday\",5],[\"Monday\",5],[\"Thursday\",5],[\"Saturday\",6],[\"Saturday\",4],[\"Thursday\",4],[\"Wednesday\",4],[\"Thursday\",4],[\"Friday\",5],[\"Saturday\",5],[\"Sunday\",4],[\"Saturday\",6],[\"Tuesday\",6],[\"Thursday\",6],[\"Sunday\",6],[\"Friday\",5],[\"Friday\",6],[\"Wednesday\",6],[\"Monday\",4],[\"Thursday\",6],[\"Tuesday\",5],[\"Saturday\",4],[\"Thursday\",4],[\"Sunday\",4],[\"Thursday\",5],[\"Saturday\",5],[\"Friday\",6],[\"Friday\",5],[\"Tuesday\",4],[\"Monday\",5],[\"Friday\",6],[\"Sunday\",6],[\"Sunday\",4],[\"Wednesday\",4],[\"Thursday\",5],[\"Wednesday\",5],[\"Monday\",5],[\"Monday\",4],[\"Saturday\",6],[\"Wednesday\",6],[\"Monday\",4],[\"Wednesday\",4],[\"Monday\",4],[\"Sunday\",6],[\"Monday\",6],[\"Saturday\",4],[\"Friday\",4],[\"Thursday\",6],[\"Thursday\",6],[\"Saturday\",4],[\"Saturday\",4],[\"Saturday\",6],[\"Wednesday\",6],[\"Tuesday\",4],[\"Tuesday\",5],[\"Wednesday\",5],[\"Monday\",6],[\"Wednesday\",5],[\"Sunday\",4],[\"Friday\",5],[\"Friday\",5],[\"Friday\",6],[\"Tuesday\",6],[\"Saturday\",5],[\"Sunday\",4],[\"Friday\",6],[\"Tuesday\",5],[\"Wednesday\",5],[\"Saturday\",5],[\"Monday\",4],[\"Sunday\",5],[\"Monday\",4],[\"Saturday\",4],[\"Sunday\",4],[\"Wednesday\",5],[\"Wednesday\",6],[\"Tuesday\",5],[\"Friday\",5],[\"Wednesday\",5],[\"Monday\",4],[\"Monday\",4],[\"Saturday\",6],[\"Friday\",4],[\"Tuesday\",6],[\"Wednesday\",5],[\"Saturday\",5],[\"Sunday\",5],[\"Saturday\",6],[\"Thursday\",5],[\"Tuesday\",5],[\"Thursday\",5],[\"Monday\",6],[\"Sunday\",4],[\"Friday\",5],[\"Thursday\",6],[\"Tuesday\",4],[\"Saturday\",4],[\"Sunday\",5],[\"Thursday\",5],[\"Monday\",5],[\"Monday\",5],[\"Monday\",4],[\"Sunday\",5],[\"Thursday\",5],[\"Tuesday\",5],[\"Tuesday\",4],[\"Friday\",6],[\"Thursday\",4],[\"Sunday\",4],[\"Thursday\",6],[\"Tuesday\",4],[\"Sunday\",4],[\"Thursday\",4],[\"Monday\",4],[\"Friday\",5],[\"Sunday\",4],[\"Tuesday\",6],[\"Wednesday\",6],[\"Thursday\",5],[\"Friday\",6],[\"Sunday\",4],[\"Sunday\",4],[\"Tuesday\",5],[\"Sunday\",4],[\"Monday\",4],[\"Friday\",6],[\"Tuesday\",6],[\"Thursday\",6],[\"Tuesday\",4],[\"Monday\",5],[\"Friday\",4],[\"Tuesday\",5],[\"Friday\",5],[\"Tuesday\",6],[\"Wednesday\",5],[\"Sunday\",6],[\"Friday\",4],[\"Monday\",6],[\"Saturday\",4],[\"Saturday\",4],[\"Monday\",4],[\"Sunday\",5],[\"Monday\",6],[\"Tuesday\",4],[\"Saturday\",6],[\"Tuesday\",5],[\"Saturday\",5],[\"Friday\",5],[\"Saturday\",6],[\"Tuesday\",6],[\"Monday\",5],[\"Saturday\",5],[\"Wednesday\",4],[\"Friday\",5],[\"Saturday\",4],[\"Wednesday\",6],[\"Wednesday\",4],[\"Friday\",4],[\"Saturday\",4],[\"Sunday\",5],[\"Friday\",4],[\"Sunday\",6],[\"Friday\",6],[\"Tuesday\",6],[\"Monday\",4],[\"Saturday\",4],[\"Monday\",5],[\"Tuesday\",6],[\"Sunday\",4],[\"Tuesday\",5],[\"Friday\",5],[\"Thursday\",6],[\"Thursday\",4],[\"Wednesday\",5],[\"Thursday\",4],[\"Sunday\",6],[\"Monday\",6],[\"Monday\",5],[\"Monday\",4],[\"Saturday\",6],[\"Tuesday\",5],[\"Tuesday\",4],[\"Tuesday\",6],[\"Monday\",4],[\"Saturday\",5],[\"Monday\",6],[\"Saturday\",5],[\"Friday\",4],[\"Wednesday\",4],[\"Sunday\",6],[\"Tuesday\",5],[\"Sunday\",4],[\"Tuesday\",4],[\"Wednesday\",5],[\"Friday\",5],[\"Thursday\",4],[\"Wednesday\",4],[\"Sunday\",5],[\"Sunday\",6],[\"Friday\",4],[\"Monday\",4],[\"Friday\",4],[\"Saturday\",5],[\"Tuesday\",6],[\"Sunday\",4],[\"Sunday\",4],[\"Thursday\",4],[\"Monday\",4],[\"Saturday\",4],[\"Sunday\",5],[\"Sunday\",5],[\"Monday\",6],[\"Monday\",4],[\"Saturday\",6],[\"Thursday\",6],[\"Thursday\",6],[\"Wednesday\",5],[\"Saturday\",5],[\"Saturday\",6],[\"Wednesday\",5],[\"Sunday\",4],[\"Sunday\",4],[\"Friday\",5],[\"Saturday\",6],[\"Friday\",6],[\"Thursday\",6],[\"Saturday\",5],[\"Wednesday\",6],[\"Friday\",5],[\"Thursday\",5],[\"Monday\",6],[\"Sunday\",6],[\"Friday\",6],[\"Thursday\",5],[\"Saturday\",6],[\"Friday\",5],[\"Sunday\",4],[\"Tuesday\",4],[\"Tuesday\",5],[\"Saturday\",4],[\"Tuesday\",6],[\"Sunday\",4],[\"Tuesday\",6],[\"Friday\",4],[\"Wednesday\",4],[\"Monday\",5],[\"Tuesday\",4],[\"Friday\",6],[\"Friday\",6],[\"Tuesday\",4],[\"Saturday\",6],[\"Thursday\",6],[\"Tuesday\",4],[\"Monday\",6],[\"Sunday\",5],[\"Saturday\",4],[\"Thursday\",6],[\"Saturday\",6],[\"Tuesday\",6],[\"Monday\",4],[\"Thursday\",4],[\"Monday\",5],[\"Tuesday\",6],[\"Wednesday\",5],[\"Tuesday\",5],[\"Wednesday\",5],[\"Thursday\",5],[\"Tuesday\",4],[\"Saturday\",6],[\"Friday\",6],[\"Sunday\",6],[\"Thursday\",4],[\"Monday\",4],[\"Saturday\",5],[\"Tuesday\",6],[\"Tuesday\",5],[\"Wednesday\",6],[\"Sunday\",4],[\"Tuesday\",6],[\"Friday\",6],[\"Sunday\",4],[\"Thursday\",4],[\"Saturday\",4],[\"Tuesday\",4],[\"Sunday\",6],[\"Friday\",6],[\"Wednesday\",6],[\"Monday\",5],[\"Sunday\",5],[\"Monday\",4],[\"Monday\",4],[\"Wednesday\",5],[\"Thursday\",4],[\"Saturday\",4],[\"Saturday\",6],[\"Monday\",4],[\"Monday\",4],[\"Tuesday\",5],[\"Wednesday\",5],[\"Wednesday\",6],[\"Thursday\",4],[\"Saturday\",4],[\"Sunday\",5],[\"Sunday\",6],[\"Sunday\",6],[\"Tuesday\",5],[\"Sunday\",4],[\"Wednesday\",4],[\"Wednesday\",4],[\"Thursday\",5],[\"Wednesday\",5],[\"Friday\",6],[\"Friday\",5],[\"Tuesday\",6],[\"Friday\",6],[\"Tuesday\",6],[\"Sunday\",6],[\"Tuesday\",5],[\"Thursday\",4],[\"Friday\",5],[\"Thursday\",6],[\"Wednesday\",4],[\"Monday\",6],[\"Friday\",6],[\"Saturday\",4],[\"Saturday\",4],[\"Monday\",6],[\"Friday\",5],[\"Sunday\",4],[\"Friday\",6],[\"Thursday\",4],[\"Sunday\",5],[\"Tuesday\",6],[\"Friday\",5],[\"Thursday\",6],[\"Wednesday\",4],[\"Tuesday\",4],[\"Saturday\",5],[\"Tuesday\",4],[\"Wednesday\",4],[\"Tuesday\",6],[\"Tuesday\",5],[\"Friday\",6],[\"Friday\",5],[\"Sunday\",5],[\"Friday\",4],[\"Tuesday\",4],[\"Friday\",5],[\"Sunday\",4],[\"Thursday\",5],[\"Thursday\",5],[\"Sunday\",6],[\"Thursday\",4],[\"Saturday\",5],[\"Sunday\",6],[\"Sunday\",4],[\"Thursday\",6],[\"Saturday\",4],[\"Sunday\",4],[\"Wednesday\",4],[\"Wednesday\",6],[\"Friday\",4],[\"Friday\",4],[\"Sunday\",6],[\"Monday\",4],[\"Friday\",5],[\"Friday\",6],[\"Monday\",6],[\"Sunday\",6],[\"Friday\",6],[\"Monday\",6],[\"Thursday\",6],[\"Wednesday\",6],[\"Wednesday\",6],[\"Thursday\",6],[\"Wednesday\",4],[\"Monday\",4],[\"Friday\",6],[\"Friday\",5],[\"Sunday\",6],[\"Tuesday\",5],[\"Thursday\",5],[\"Tuesday\",4],[\"Thursday\",4],[\"Friday\",4],[\"Tuesday\",4],[\"Sunday\",6],[\"Monday\",6],[\"Friday\",4],[\"Tuesday\",6],[\"Sunday\",5],[\"Thursday\",6],[\"Saturday\",5],[\"Thursday\",5],[\"Thursday\",4],[\"Wednesday\",4],[\"Thursday\",6],[\"Friday\",6],[\"Saturday\",4],[\"Friday\",4],[\"Friday\",5],[\"Saturday\",5],[\"Monday\",4],[\"Friday\",6],[\"Saturday\",4],[\"Tuesday\",5],[\"Tuesday\",6],[\"Saturday\",6],[\"Tuesday\",6],[\"Wednesday\",5],[\"Wednesday\",4],[\"Monday\",4],[\"Friday\",4],[\"Thursday\",4],[\"Monday\",5],[\"Thursday\",4],[\"Sunday\",6],[\"Sunday\",4],[\"Saturday\",5],[\"Sunday\",4],[\"Friday\",5],[\"Saturday\",6],[\"Friday\",6],[\"Sunday\",6],[\"Monday\",6],[\"Monday\",4],[\"Wednesday\",4],[\"Monday\",4],[\"Wednesday\",6],[\"Sunday\",6],[\"Tuesday\",6],[\"Sunday\",4],[\"Monday\",4],[\"Sunday\",6],[\"Sunday\",6],[\"Saturday\",4],[\"Thursday\",6],[\"Tuesday\",6],[\"Monday\",6],[\"Tuesday\",5],[\"Tuesday\",5],[\"Thursday\",6],[\"Thursday\",4],[\"Tuesday\",5],[\"Friday\",5],[\"Saturday\",6],[\"Wednesday\",5],[\"Sunday\",6],[\"Tuesday\",5],[\"Tuesday\",6],[\"Thursday\",6],[\"Tuesday\",5],[\"Saturday\",6],[\"Wednesday\",4],[\"Monday\",4],[\"Saturday\",6],[\"Thursday\",6],[\"Monday\",5],[\"Monday\",6],[\"Friday\",6],[\"Wednesday\",6],[\"Saturday\",4],[\"Sunday\",4],[\"Saturday\",6],[\"Saturday\",5],[\"Saturday\",4],[\"Sunday\",5],[\"Sunday\",5],[\"Monday\",4],[\"Wednesday\",4],[\"Friday\",5],[\"Friday\",6],[\"Thursday\",6],[\"Monday\",5],[\"Saturday\",6],[\"Wednesday\",6],[\"Sunday\",4],[\"Saturday\",5],[\"Wednesday\",5],[\"Thursday\",5],[\"Monday\",5],[\"Saturday\",4],[\"Sunday\",6],[\"Tuesday\",4],[\"Sunday\",4],[\"Thursday\",4],[\"Saturday\",5],[\"Monday\",5],[\"Tuesday\",4]],\"hovertemplate\":\"season=Summer<br>temp=%{x}<br>Total_booking=%{y}<br>Hour=%{marker.size}<br>Weekday=%{customdata[0]}<br>Month=%{customdata[1]}<extra></extra>\",\"legendgroup\":\"Summer\",\"marker\":{\"color\":\"#636efa\",\"size\":[19,9,1,20,18,11,10,2,12,13,23,20,18,1,3,16,14,18,2,12,8,20,23,20,20,12,16,22,16,12,10,4,16,17,0,15,7,2,7,19,12,5,10,18,0,0,18,7,14,1,23,9,18,15,22,8,15,17,6,9,18,4,2,6,21,8,5,22,22,12,18,17,17,22,8,23,17,8,16,10,14,14,22,19,22,17,20,4,15,4,0,20,15,0,0,16,0,22,15,20,9,5,9,20,18,10,12,20,4,6,11,4,14,0,11,11,22,16,1,6,10,3,20,21,2,7,13,7,4,22,8,12,3,5,18,22,23,21,8,18,2,13,1,22,23,9,15,1,0,4,20,11,2,18,9,8,11,6,7,22,5,21,2,11,1,7,2,7,5,6,12,2,2,6,22,20,22,0,1,2,8,17,10,12,5,9,15,10,6,0,18,0,4,22,19,0,7,15,4,8,23,23,20,17,13,15,11,10,15,9,23,0,15,7,2,15,4,21,18,1,15,7,5,3,8,14,15,19,10,2,14,21,18,5,18,2,13,10,6,15,9,15,22,2,6,12,10,3,6,14,4,0,21,13,8,7,5,21,18,19,1,13,22,16,2,12,10,22,15,21,13,4,16,3,19,12,16,10,5,15,7,14,16,6,7,13,3,19,19,1,2,9,1,11,17,6,22,4,1,14,23,9,6,20,12,10,10,6,19,22,19,20,4,14,0,19,7,9,11,4,1,12,6,14,21,14,17,18,7,23,1,23,18,0,1,8,23,8,2,3,7,6,22,7,6,11,23,12,12,10,21,2,18,22,2,20,22,9,12,10,13,14,21,3,21,9,16,17,9,7,8,20,9,12,13,20,10,10,21,0,2,19,3,23,21,7,1,16,14,16,2,10,21,16,0,13,3,13,19,12,10,7,12,2,5,20,5,23,2,19,21,13,6,13,4,16,22,1,21,5,5,1,22,12,16,6,11,5,2,16,18,15,20,1,13,1,18,14,9,0,19,1,12,16,23,20,20,0,0,0,0,2,21,9,3,3,19,19,6,3,7,1,17,17,15,18,16,13,19,16,1,1,8,16,15,2,7,18,20,10,4,3,4,9,10,3,16,3,20,1,19,20,12,3,23,14,16,7,21,19,20,2,13,20,18,11,3,13,20,6,1,15,10,2,17,6,22,8,20,3,7,21,7,4,12,17,17,8,7,22,11,0,21,9,3,14,22,11,6,9,6,5,17,10,15,5,3,15,0,15,17,15,17,21,10,20,23,18,21,6,12,4,6,10,4,1,20,10,16,1,19,18,22,0,18,5,22,3,21,16,6,18,9,6,8,1,22,3,3,18,23,7,16,7,19,5,11,16,9,5,1,2,20,7,5,11,6,2,21,13,14,12,9,9,16,1,13,20,5,5,12,10,16,11,17,1,9,9,11,7,8,8,6,17,19,8,13,6,17,18,22,2,15,2,7,10,14,2,20,3,11,19,13,11,0,16,18,4,0,12,15,7,4,4,11,19,18,1,8,19,12,6,18,20,3,16,3,14,20,8,3,14,13,23,14,12,14,12,1,17,5,10,18,4,19,13,4,20,13,1,11,8,16,17,14,17,22,1,23,13,0,18,23,6,11,17,14,0,3,22,0,20,20,7,8,14,13,7,15,9,21,8,4,3,8,5,10,3,18,17,11,11,16,8,12,22,23,6,3,1,21,22,11,6,11,10,3,17,20,8,23,2,17,6,6,22,7,9,23,18,19,11,17,13,15,17,18,1,12,4,9,8,9,5,21,2,13,12,4,22,18,17,10,22,9,15,15,8,20,9,0,14,18,17,21,17,0,15,20,19,22,18,5,15,14,1,2,2,1,1,5,18,12,4,15,22,10,2,23,17,5,7,20,0,5,1,6,20,12,3,5,13,3,14,16,11,9,6,1,17,18,23,13,3,16,15,17,8,22,20,16,20,23,10,23,5,7,3,1,11,3,16,4,22,13,18,16,21,17,15,6,20,20,8,10,13,9,23,7,4,4,2,11,4,22,11,12,13,19,2,17,21,17,10,23,10,11,19,0,8,3,7,4,18,3,3,22,20,14,2,9,6,2,12,11,5,14,22,3,13,6,13,11,20,1,10,20,2,2,17,11,19,7,19,19,7,21,15,2,19,5,13,14,5,21,9,15,6,4,0,23,1,9,19,15,7,6,2,6,5,13,1,21,1,22,0,10,9,2,7,6,16,23,21,13,1,18,16,10,8,1,21,16,8,14,8,7,13,18,10,0,15,23,19,2,2,2,2,4,22,11,19,11,1,23,16,16,15,15,0,16,23,0,3,7,19,21,4,6,4,4,4,13,3,14,10,0,14,20,5,12,16,6,14,5,17,22,20,3,13,0,21,11,1,9,6,14,10,13,21,9,18,10,21,12,12,16,1,5,12,18,0,4,8,23,13,7,3,6,8,9,6,9,8,13,12,1,7,5,9,0,18,17,22,7,22,9,23,21,10,10,20,22,21,11,15,9,21,5,21,16,2,0,17,11,8,9,2,11,13,3,19,13,16,17,12,7,8,14,10,4,2,20,1,23,0,5,11,3,6,16,4,18,4,20,12,20,10,14,14,11,10,19,11,17,0,15,12,13,2,3,18,23,12,21,10,6,22,0,14,20,1,7,16,23,8,21,13,13,5,23,19,15,10,15,22,10,11,10,7,6,16,13,22,7,13,20,19,14,22,2,0,7,14,21,7,11,12,22,16,11,7,20,4,19,8,6,21,17,16,17,18,20,23,6,12,6,17,23,15,0,17,1,13,2,11,16,3,15,7,15,18,9,6,23,8,18,19,23,7,19,12,21,17,19,5,10,21,23,7,15,15,22,4,16,4,2,20,10,23,14,3,23,20,17,21,15,5,13,8,16,18,23,20,0,2,22,6,9,14,4,15,3,0,12,14,4,4,2,0,0,12,6,11,4,15,8,13,21,19,21,16,23,13,5,2,21,15,19,19,8,17,6,16,11,21,8,1,21,0,11,10,10,8,17,16,11,8,9,12,12,10,14,17,12,5,10,21,22,21,3,11,19,11,14,4,22,2,0,23,10,18,13,21,6,0,8,10,5,3,20,10,18,2,15,14,14,17,22,5,11,11,8,0,11,16,8,1,1,10,4,20,19,19,2,16,10,7,9,0,7,19,5,11,17,3,4,2,13,22,14,23,22,0,15,13,14,6,13,8,15,16,3,6,8,14,5,9,17,12,1,3,0,2,9,3,5,6,23,2,8,6,11,5,10,7,23,4,3,16,6,1,17,20,8,16,1,7,7,9,21,6,9,22,17,19,13,13,19,15,5,10,17,3,19,17,11,9,17,18,3,15,1,0,9,10,3,5,11,1,7,11,12,4,7,2,3,17,14,14,1,22,4,18,22,5,5,16,14,8,12,1,15,2,16,22,18,16,1,3,1,9,6,9,21,19,17,22,5,12,2,19,23,7,1,16,19,9,7,5,19,1,11,12,10,4,22,13,20,6,6,22,5,17,7,9,2,0,21,3,2,17,8,0,15,19,10,5,10,22,6,23,4,7,13,19,10,1,23,3,3,15,5,14,10,15,4,21,23,22,11,8,3,23,15,20,14,1,0,2,16,8,2,8,9,19,9,10,18,11,17,15,9,16,9,19,4,12,11,22,7,23,13,16,8,14,21,12,18,16,15,20,20,0,15,9,23,13,21,12,1,20,17,2,0,20,21,5,0,18,22,3,19,22,20,17,15,15,1,20,2,12,13,19,5,23,12,0,0,23,12,15,14,13,23,11,13,12,20,20,8,16,21,11,11,7,12,9,12,21,23,19,3,20,0,9,6,14,12,5,18,12,13,16,23,14,4,14,19,0,9,23,7,6,14,6,14,21,1,7,9,3,3,23,4,10,22,10,13,15,5,4,3,11,11,22,15,23,3,4,3,23,14,19,8,16,22,17,17,23,17,7,6,9,9,17,1,11,11,7,23,14,6,14,16,6,17,10,6,6,1,10,11,5,17,20,23,14,13,17,7,17,20,17,14,4,18,10,15,5,0,13,1,2,15,6,12,19,9,3,20,8,15,1,21,9,5,6,15,4,9,13,11,13,9,7,16,12,2,0,1,5,7,8,19,10,20,7,21,19,4,19,11,4,22,12,15,4,7,21,2,6,22,7,3,22,3,20,21,13,9,7,9,12,19,16,12,1,20,15,15,1,1,16,8,2,14,12,1,11,20,5,19,5,11,15,18,6,1,1,15,20,16,10,0,15,12,12,2,12,8,22,8,18,18,10,19,17,8,22,9,21,18,14,11,20,17,22,19,2,19,7,17,12,18,21,8,13,20,19,4,2,9,14,2,7,19,3,6,10,12,4,21,22,15,23,6,4,14,1,19,19,13,23,2,20,18,21,10,22,11,8,2,4,14,13,19,9,11,22,21,13,12,14,12,23,16,16,5,7,9,17,22,19,21,14,16,2,19,4,0,12,21,9,10,5,9,6,14,8,2,3,18,21,19,14,7,19,16,23,0,18,10,21,8,5,10,12,23,14,23,13,15,7,4,16,22,18,9,1,13,1,14,21,22,3,19,9,2,15,0,8,17,20,3,11,10,3,5,23,20,22,13,13,4,22,5,13,21,21,7,21,23,12,22,7,3,1,0,8,16,2,1,21,7,15,1,10,3,4,15,8,13,8,6,16,23,17,13,20,4,11,19,9,2,20,20,18,22,14,23,11,9,5,10,20,8,11,16,18,17,0,9,10,11,19,0,2,17,14,9,8,21,5,23,6,0,6,8,13,12,13,3,14,3,5,20,18,4,0,13,10,17,0,12,5,15,21,12,22,14,9,5,3,0,14,10,6,3,8,5,7,3,16,18,22,19,18,17,8,4,4,19,17,7,19,6,16,0,2,9,4,9,12,18,10,14,3,3,1,4,19,21,3,13,4,4,8,11,13,9,5,5,3,13,19,3],\"sizemode\":\"area\",\"sizeref\":0.0575,\"symbol\":\"circle\"},\"mode\":\"markers\",\"name\":\"Summer\",\"showlegend\":true,\"x\":[22.14,25.42,27.88,22.96,22.96,17.22,26.24,22.14,18.04,31.98,19.68,26.24,24.6,22.96,27.06,29.52,30.34,26.24,28.7,28.7,26.24,22.96,28.7,26.24,27.06,28.7,30.34,22.96,27.06,31.16,26.24,11.48,26.24,20.5,17.22,29.52,24.6,18.86,13.94,27.88,25.42,22.14,16.4,23.78,24.6,27.06,22.14,13.94,29.52,22.14,23.78,28.7,21.32,24.6,24.6,22.14,22.14,29.52,25.42,25.42,29.52,19.68,18.04,21.32,26.24,15.58,22.14,23.78,27.06,22.14,26.24,28.7,18.04,22.96,13.12,22.96,23.78,21.32,23.78,23.78,19.68,23.78,29.52,27.88,19.68,36.9,27.06,16.4,20.5,22.96,20.5,26.24,29.52,24.6,28.7,31.16,16.4,14.76,24.6,25.42,23.78,23.78,20.5,17.22,23.78,22.14,22.96,27.88,24.6,16.4,24.6,22.96,13.94,27.06,18.86,22.96,22.14,13.12,22.14,19.68,17.22,25.42,27.88,21.32,18.86,24.6,36.9,18.86,24.6,13.12,22.14,23.78,20.5,22.14,33.62,26.24,16.4,27.06,31.16,27.06,20.5,22.14,21.32,22.96,18.04,17.22,26.24,14.76,21.32,19.68,25.42,23.78,26.24,20.5,24.6,13.94,17.22,20.5,14.76,27.88,21.32,29.52,24.6,27.06,22.96,15.58,17.22,22.96,13.12,28.7,22.96,16.4,23.78,27.06,19.68,18.04,23.78,18.04,16.4,18.86,20.5,20.5,22.14,18.86,15.58,16.4,31.16,24.6,17.22,22.96,17.22,21.32,13.94,26.24,21.32,22.14,21.32,18.86,27.06,23.78,24.6,12.3,13.94,26.24,26.24,32.8,26.24,20.5,28.7,21.32,16.4,21.32,30.34,16.4,26.24,19.68,20.5,26.24,30.34,28.7,29.52,20.5,18.86,17.22,22.96,26.24,31.16,31.16,16.4,22.96,37.72,20.5,28.7,13.12,29.52,24.6,24.6,16.4,21.32,25.42,25.42,28.7,24.6,18.86,18.04,26.24,24.6,10.66,25.42,24.6,17.22,22.96,26.24,25.42,27.06,21.32,13.12,16.4,25.42,14.76,20.5,27.06,25.42,21.32,22.96,17.22,27.06,22.14,28.7,26.24,27.06,12.3,32.8,21.32,22.96,27.88,29.52,28.7,21.32,25.42,22.96,14.76,29.52,21.32,15.58,22.96,19.68,18.86,31.16,16.4,27.88,14.76,23.78,21.32,29.52,12.3,23.78,22.14,26.24,25.42,27.06,23.78,22.14,27.06,27.06,21.32,26.24,14.76,15.58,16.4,31.16,28.7,14.76,28.7,22.96,17.22,13.94,15.58,23.78,13.12,20.5,26.24,17.22,18.04,27.06,25.42,21.32,28.7,12.3,20.5,18.86,18.86,30.34,24.6,20.5,22.14,14.76,22.96,22.96,18.86,12.3,13.12,12.3,21.32,13.94,27.06,24.6,30.34,26.24,29.52,18.04,23.78,26.24,22.96,25.42,22.96,20.5,25.42,14.76,27.06,13.94,22.96,25.42,22.14,31.16,26.24,18.86,26.24,22.96,27.06,27.88,25.42,18.86,36.08,30.34,23.78,22.14,17.22,27.06,18.04,22.14,17.22,20.5,25.42,21.32,20.5,13.12,32.8,29.52,15.58,18.86,18.86,25.42,29.52,14.76,32.8,13.94,22.96,28.7,22.14,25.42,10.66,22.14,19.68,9.84,22.14,19.68,16.4,10.66,29.52,21.32,25.42,10.66,25.42,12.3,29.52,15.58,24.6,20.5,20.5,25.42,24.6,17.22,22.14,24.6,18.86,19.68,24.6,16.4,20.5,32.8,28.7,20.5,10.66,18.04,22.96,19.68,26.24,16.4,28.7,27.88,22.96,27.06,29.52,24.6,24.6,23.78,30.34,22.96,20.5,18.04,17.22,31.16,26.24,9.84,13.12,27.06,22.14,29.52,22.96,21.32,14.76,27.06,28.7,28.7,22.14,18.04,27.06,20.5,19.68,22.14,17.22,24.6,27.88,27.06,22.14,21.32,25.42,27.06,21.32,15.58,22.14,20.5,23.78,22.14,14.76,28.7,22.96,28.7,20.5,14.76,22.96,18.04,29.52,21.32,32.8,25.42,25.42,26.24,21.32,27.88,20.5,25.42,17.22,23.78,16.4,22.96,20.5,24.6,16.4,13.94,24.6,25.42,24.6,15.58,18.04,22.96,21.32,32.8,20.5,21.32,17.22,17.22,21.32,21.32,25.42,27.06,23.78,26.24,26.24,16.4,19.68,22.14,25.42,27.88,20.5,22.14,24.6,15.58,17.22,21.32,27.06,24.6,17.22,19.68,20.5,26.24,27.06,23.78,20.5,27.06,21.32,26.24,23.78,35.26,21.32,22.14,29.52,26.24,19.68,22.96,22.14,22.14,16.4,18.86,25.42,27.88,25.42,29.52,18.86,28.7,31.16,27.88,22.96,28.7,27.06,21.32,20.5,20.5,22.14,18.86,36.9,16.4,13.94,23.78,14.76,21.32,22.14,17.22,27.06,22.14,19.68,24.6,13.94,22.96,18.86,15.58,22.96,19.68,25.42,15.58,22.96,27.06,21.32,20.5,27.06,12.3,20.5,28.7,26.24,19.68,27.06,18.04,20.5,20.5,21.32,25.42,20.5,18.04,20.5,27.88,27.06,22.14,29.52,16.4,13.94,20.5,13.94,23.78,22.96,20.5,18.86,22.14,29.52,23.78,25.42,36.9,18.04,24.6,32.8,20.5,15.58,15.58,28.7,18.04,25.42,27.06,22.96,25.42,19.68,28.7,23.78,25.42,22.96,13.12,25.42,28.7,21.32,21.32,29.52,30.34,27.06,24.6,22.14,21.32,28.7,26.24,22.14,22.96,22.96,13.94,20.5,26.24,13.12,22.14,26.24,17.22,36.9,22.96,22.96,22.96,31.16,28.7,25.42,20.5,34.44,33.62,27.88,26.24,32.8,17.22,26.24,20.5,18.86,17.22,30.34,18.86,20.5,24.6,16.4,27.88,24.6,30.34,22.96,32.8,28.7,25.42,28.7,22.14,25.42,24.6,13.12,20.5,23.78,25.42,27.06,25.42,16.4,12.3,27.06,25.42,24.6,18.04,18.04,17.22,22.14,28.7,19.68,27.06,25.42,26.24,14.76,18.86,20.5,15.58,21.32,22.14,23.78,31.98,24.6,13.12,24.6,27.88,31.16,24.6,12.3,17.22,21.32,18.86,24.6,24.6,16.4,31.16,22.14,28.7,26.24,14.76,17.22,29.52,13.94,18.04,22.96,24.6,22.14,13.12,27.06,22.96,28.7,14.76,28.7,28.7,33.62,30.34,23.78,22.96,28.7,23.78,27.06,28.7,23.78,28.7,14.76,22.14,21.32,17.22,22.14,33.62,14.76,16.4,25.42,28.7,29.52,26.24,23.78,14.76,29.52,34.44,22.14,27.06,24.6,24.6,22.14,20.5,25.42,24.6,26.24,22.14,30.34,22.96,28.7,19.68,15.58,24.6,25.42,23.78,20.5,13.12,14.76,20.5,22.96,22.96,24.6,17.22,25.42,16.4,24.6,14.76,21.32,14.76,25.42,27.06,14.76,29.52,23.78,25.42,21.32,11.48,18.86,25.42,23.78,14.76,30.34,21.32,20.5,24.6,22.14,20.5,21.32,21.32,26.24,26.24,29.52,23.78,18.04,27.06,21.32,29.52,18.86,26.24,22.14,20.5,17.22,13.12,19.68,18.04,12.3,18.86,13.94,27.06,22.96,9.84,20.5,29.52,22.96,22.96,30.34,31.16,27.06,27.88,26.24,17.22,18.04,18.86,24.6,13.94,25.42,24.6,22.96,11.48,13.94,22.14,19.68,22.14,16.4,17.22,31.16,21.32,24.6,28.7,9.84,20.5,22.14,18.86,24.6,18.86,17.22,28.7,25.42,25.42,22.14,20.5,14.76,22.14,21.32,13.94,18.04,13.12,28.7,29.52,26.24,26.24,23.78,27.88,18.04,22.14,22.14,24.6,26.24,16.4,29.52,16.4,24.6,27.88,30.34,17.22,21.32,22.14,14.76,13.94,21.32,22.96,32.8,14.76,24.6,18.86,20.5,22.14,25.42,18.04,33.62,22.96,22.14,27.06,24.6,17.22,22.96,22.14,24.6,16.4,21.32,30.34,12.3,18.86,17.22,27.06,22.96,22.14,28.7,21.32,22.14,20.5,25.42,18.86,18.04,20.5,17.22,22.96,24.6,24.6,22.14,18.86,23.78,17.22,25.42,26.24,26.24,22.96,26.24,22.96,18.86,21.32,12.3,22.96,24.6,22.14,20.5,22.14,18.86,17.22,22.14,22.96,24.6,23.78,28.7,27.06,22.96,9.84,18.86,22.96,20.5,21.32,31.98,22.14,24.6,21.32,34.44,32.8,26.24,29.52,16.4,33.62,27.06,26.24,15.58,28.7,27.06,27.06,18.86,17.22,13.94,18.04,13.12,30.34,12.3,34.44,21.32,24.6,35.26,12.3,21.32,22.96,25.42,9.84,18.86,20.5,23.78,30.34,30.34,18.86,18.04,22.96,22.14,36.9,16.4,30.34,20.5,26.24,25.42,26.24,26.24,22.14,24.6,24.6,21.32,24.6,37.72,26.24,26.24,22.14,24.6,29.52,18.04,25.42,26.24,18.86,16.4,22.14,17.22,19.68,20.5,20.5,22.96,25.42,19.68,21.32,27.06,14.76,15.58,19.68,22.96,12.3,22.14,33.62,20.5,13.12,18.86,22.96,25.42,22.96,19.68,18.04,24.6,22.14,18.86,21.32,31.98,22.14,21.32,16.4,24.6,27.06,25.42,24.6,25.42,27.06,21.32,30.34,14.76,26.24,22.14,21.32,18.04,14.76,15.58,24.6,23.78,25.42,19.68,30.34,25.42,27.88,15.58,22.96,21.32,27.06,12.3,14.76,16.4,17.22,21.32,24.6,17.22,25.42,22.14,23.78,26.24,31.16,25.42,21.32,30.34,16.4,22.14,30.34,31.98,31.98,21.32,30.34,22.14,21.32,21.32,18.86,27.88,25.42,18.86,18.86,13.94,13.12,24.6,10.66,29.52,24.6,22.96,18.86,27.06,24.6,24.6,19.68,29.52,25.42,18.86,22.96,22.14,28.7,20.5,29.52,21.32,26.24,24.6,20.5,26.24,17.22,31.16,27.88,25.42,22.96,22.96,24.6,24.6,28.7,25.42,13.12,18.86,18.04,28.7,25.42,22.14,27.06,25.42,21.32,29.52,20.5,22.96,25.42,13.94,24.6,25.42,21.32,20.5,31.16,37.72,17.22,22.14,31.16,20.5,27.06,32.8,21.32,27.06,30.34,27.06,24.6,26.24,18.86,23.78,21.32,27.06,37.72,22.14,20.5,19.68,34.44,15.58,25.42,13.94,24.6,14.76,28.7,23.78,27.88,17.22,25.42,22.14,23.78,21.32,22.96,20.5,20.5,27.88,22.14,29.52,34.44,24.6,20.5,22.96,26.24,15.58,23.78,26.24,26.24,23.78,22.14,24.6,25.42,22.14,15.58,27.06,32.8,24.6,30.34,24.6,15.58,32.8,22.14,32.8,18.86,27.88,19.68,22.14,18.86,25.42,9.84,26.24,24.6,22.96,32.8,33.62,24.6,16.4,24.6,20.5,28.7,21.32,9.84,27.06,25.42,26.24,13.94,28.7,27.06,20.5,22.14,25.42,24.6,25.42,17.22,15.58,23.78,22.96,13.94,34.44,27.06,22.96,17.22,31.16,30.34,26.24,10.66,17.22,20.5,19.68,17.22,26.24,20.5,15.58,22.96,22.96,13.12,22.96,29.52,23.78,22.96,23.78,17.22,25.42,28.7,22.96,22.96,22.96,17.22,25.42,13.94,26.24,28.7,21.32,23.78,21.32,31.16,20.5,28.7,24.6,22.14,29.52,18.86,23.78,12.3,15.58,13.94,28.7,17.22,20.5,30.34,16.4,28.7,13.94,27.06,25.42,26.24,20.5,25.42,16.4,27.06,29.52,24.6,15.58,21.32,26.24,20.5,22.14,12.3,20.5,17.22,20.5,22.14,27.88,17.22,30.34,22.96,24.6,31.16,14.76,12.3,26.24,18.86,31.16,32.8,23.78,25.42,22.14,27.88,16.4,21.32,12.3,18.86,16.4,26.24,14.76,33.62,25.42,18.86,22.96,25.42,23.78,13.94,13.94,29.52,26.24,27.06,21.32,20.5,22.14,18.86,27.88,27.06,22.96,21.32,21.32,9.84,14.76,26.24,26.24,18.04,18.86,23.78,11.48,29.52,20.5,23.78,22.96,18.04,24.6,20.5,22.96,32.8,18.86,20.5,28.7,21.32,22.14,18.86,22.96,22.14,18.04,22.14,18.04,22.96,24.6,24.6,18.86,22.96,24.6,13.94,21.32,22.96,24.6,19.68,26.24,17.22,19.68,21.32,29.52,25.42,32.8,29.52,26.24,14.76,22.96,20.5,22.96,25.42,22.14,22.96,27.06,15.58,22.14,22.14,14.76,17.22,30.34,20.5,25.42,19.68,26.24,27.06,21.32,25.42,22.14,17.22,19.68,27.88,13.12,19.68,28.7,26.24,20.5,25.42,23.78,24.6,27.06,22.14,27.06,18.86,22.14,18.04,20.5,20.5,26.24,23.78,28.7,13.94,29.52,18.04,22.14,18.04,14.76,18.86,27.06,24.6,28.7,16.4,12.3,26.24,23.78,31.16,27.06,22.96,20.5,25.42,30.34,25.42,22.14,12.3,22.96,20.5,24.6,20.5,14.76,14.76,26.24,17.22,22.14,19.68,13.12,15.58,18.86,13.94,25.42,22.14,16.4,17.22,22.14,20.5,27.06,22.14,26.24,19.68,26.24,13.94,25.42,17.22,27.06,26.24,30.34,24.6,29.52,27.06,32.8,21.32,26.24,20.5,18.04,28.7,21.32,13.94,22.96,23.78,14.76,28.7,16.4,26.24,22.96,27.06,24.6,21.32,21.32,29.52,28.7,22.14,25.42,31.16,26.24,35.26,26.24,13.94,24.6,15.58,18.86,22.96,25.42,25.42,20.5,21.32,24.6,14.76,24.6,22.96,23.78,22.96,21.32,26.24,18.86,38.54,24.6,21.32,13.94,22.14,22.96,29.52,22.96,29.52,24.6,19.68,20.5,31.16,23.78,22.14,31.16,20.5,13.94,27.06,24.6,15.58,23.78,12.3,29.52,25.42,32.8,33.62,27.06,18.86,30.34,21.32,25.42,29.52,25.42,20.5,22.14,22.96,20.5,21.32,26.24,22.96,25.42,28.7,27.88,17.22,25.42,36.9,31.16,25.42,27.06,25.42,27.88,28.7,26.24,23.78,20.5,24.6,21.32,24.6,22.96,25.42,28.7,18.04,28.7,22.96,16.4,26.24,26.24,26.24,16.4,22.14,26.24,28.7,20.5,18.86,30.34,13.94,31.16,23.78,18.86,22.14,26.24,13.12,13.94,25.42,16.4,24.6,24.6,15.58,21.32,25.42,25.42,22.14,21.32,22.14,26.24,21.32,29.52,29.52,21.32,13.94,14.76,18.86,22.96,28.7,18.86,19.68,22.96,25.42,20.5,15.58,18.86,22.96,28.7,19.68,20.5,28.7,37.72,30.34,13.94,22.14,24.6,22.14,17.22,13.12,31.16,30.34,21.32,16.4,22.96,31.16,26.24,20.5,26.24,24.6,22.96,25.42,24.6,14.76,22.14,21.32,22.96,18.86,20.5,30.34,20.5,21.32,29.52,25.42,23.78,10.66,22.96,16.4,29.52,25.42,17.22,21.32,25.42,24.6,27.88,14.76,26.24,24.6,20.5,27.06,22.96,23.78,24.6,19.68,26.24,20.5,20.5,30.34,26.24,18.04,18.86,18.86,21.32,29.52,18.04,21.32,22.14,24.6,22.14,26.24,13.94,21.32,29.52,22.14,12.3,17.22,16.4,18.86,16.4,32.8,31.16,26.24,22.14,21.32,21.32,22.96,20.5,21.32,21.32,27.06,27.06,22.14,17.22,16.4,22.14,20.5,24.6,19.68,24.6,16.4,25.42,14.76,18.04,19.68,24.6,28.7,13.94,24.6,22.96,25.42,27.06,28.7,24.6,25.42,24.6,18.04,18.86,10.66,29.52,12.3,16.4,26.24,25.42,18.04,26.24,27.88,24.6,20.5,15.58,24.6,33.62,22.96,17.22,21.32,24.6,24.6,22.14,24.6,31.16,25.42,25.42,18.04,32.8,21.32,21.32,19.68,18.86,21.32,25.42,30.34,13.12,20.5,33.62,23.78,27.88,14.76,21.32,28.7,22.96,17.22,27.06,30.34,16.4,21.32,13.94,28.7,22.96,21.32,18.04,22.96,27.88,16.4,20.5,22.14,27.06,15.58,26.24,25.42,31.98,22.96,19.68,28.7,21.32,14.76,20.5,21.32,22.14,26.24,30.34,27.88,25.42,20.5,18.86,25.42,26.24,26.24,24.6,31.16,20.5,18.04,18.86,24.6,13.12,31.16,16.4,27.06,12.3,18.86,20.5,22.96,30.34,30.34,18.86,31.16,26.24,18.04,32.8,26.24,14.76,28.7,27.88,32.8,32.8,16.4,18.86,29.52,26.24,22.14,22.96,20.5,14.76,29.52,22.96,27.88,13.94,18.04,24.6,31.16,22.96,33.62,14.76,26.24,27.06,20.5,17.22,14.76,15.58,26.24,26.24,33.62,25.42,21.32,29.52,31.16,18.86,21.32,15.58,30.34,18.86,18.86,21.32,22.14,25.42,18.86,13.12,18.86,34.44,32.8,18.04,22.14,17.22,22.96,22.96,21.32,24.6,21.32,25.42,29.52,29.52,26.24,20.5,22.14,24.6,25.42,17.22,26.24,23.78,22.14,15.58,23.78,25.42,23.78,22.96,13.94,25.42,32.8,24.6,28.7,24.6,18.86,23.78,13.94,18.86,22.14,22.14,24.6,24.6,21.32,13.94,16.4,17.22,16.4,24.6,19.68,22.14,24.6,20.5,26.24,18.04,29.52,14.76,18.04,16.4,26.24,13.94,13.94,28.7,26.24,17.22,21.32,32.8,29.52,28.7,23.78,27.06,20.5,25.42,29.52,13.12,18.04,26.24,21.32,30.34,21.32,25.42,20.5,21.32,13.94,24.6,25.42,27.88,18.04,22.96,26.24,26.24,22.96,21.32,16.4,16.4,27.88,25.42,12.3,10.66,21.32,29.52,18.86,30.34,22.96,21.32,29.52,25.42,24.6,18.86,13.12,27.88,20.5,18.86,18.04,23.78,25.42,11.48,27.88,18.86,14.76,23.78,29.52,28.7,26.24,19.68,17.22,18.86,36.9,27.88,32.8,20.5,22.96,24.6,22.14,12.3,30.34,26.24,29.52,22.96,21.32,28.7,15.58,22.14,18.86,31.16,25.42,28.7,26.24,25.42,26.24,21.32,27.88,16.4,28.7,30.34,28.7,23.78,21.32,33.62,28.7,15.58,22.14,25.42,22.14,13.12,25.42,23.78,18.86,16.4,18.86,22.96,22.96,25.42,30.34,20.5,18.04,18.04,21.32,21.32,22.14,14.76,27.88,18.86,14.76,14.76,26.24,23.78,23.78],\"xaxis\":\"x\",\"y\":[504,357,16,213,813,61,187,93,124,180,135,331,790,19,12,542,317,669,6,269,181,415,121,291,290,330,354,168,327,232,180,3,390,331,94,672,480,13,52,391,360,29,141,268,79,41,470,296,320,94,75,224,325,358,147,70,162,593,21,224,383,14,15,26,109,164,33,188,190,280,362,478,291,193,624,71,351,374,362,157,490,276,291,357,165,409,335,6,266,14,25,293,499,89,89,312,33,87,260,399,134,32,361,79,289,333,301,386,10,10,124,8,15,43,119,79,120,60,121,65,211,40,448,156,31,505,136,168,5,55,474,207,6,16,309,286,62,158,432,546,15,318,47,234,120,408,702,30,38,2,362,130,7,38,347,221,243,36,70,75,22,253,10,159,14,37,7,517,27,40,348,29,8,113,182,203,113,26,1,9,88,15,91,110,5,351,143,203,33,77,396,52,7,321,479,34,42,292,17,486,95,26,85,717,395,259,224,128,617,335,136,38,583,406,64,324,5,223,341,23,274,35,34,18,394,270,397,522,204,4,118,189,544,23,744,16,436,360,133,262,382,185,153,56,62,635,210,4,30,366,4,98,247,218,131,463,9,102,110,160,21,59,175,243,13,230,249,173,159,169,367,3,394,18,239,271,446,170,11,134,87,135,349,49,193,169,3,178,424,32,72,185,51,148,873,96,83,3,16,177,90,337,28,279,642,130,125,126,130,149,596,173,14,240,93,368,113,317,179,1,7,157,13,51,220,240,655,733,21,144,7,52,823,47,6,641,57,618,12,31,306,19,74,145,89,228,183,420,264,147,190,75,512,157,4,379,158,224,182,204,137,137,188,8,218,352,303,259,361,353,477,337,188,149,524,283,130,95,185,85,82,296,33,222,127,176,9,308,573,191,18,181,299,564,67,203,25,345,452,264,130,133,247,59,13,157,26,39,24,311,267,679,12,327,1,438,80,11,122,10,21,48,162,145,473,61,258,19,2,214,831,644,286,4,411,13,333,437,29,41,365,15,684,271,239,461,198,47,32,102,27,6,171,328,4,5,339,553,118,6,428,62,812,601,154,704,307,681,98,99,106,13,98,540,155,9,188,527,435,176,3,28,5,355,154,9,326,26,232,82,148,219,134,2,59,146,525,303,235,71,166,6,193,260,453,72,5,343,402,13,9,142,112,15,184,89,117,745,280,4,75,45,33,15,279,560,576,197,334,211,202,18,298,284,28,578,172,322,34,330,17,28,388,363,211,34,29,283,35,297,681,78,594,299,94,152,69,386,259,38,168,4,42,150,10,15,275,171,558,24,264,450,214,52,564,21,248,5,83,343,22,459,102,21,650,33,132,2,4,434,196,134,294,160,558,20,180,463,322,13,11,8,352,387,12,230,13,4,95,614,561,95,179,169,536,9,202,169,20,21,603,192,169,404,410,10,178,40,184,188,425,627,113,867,308,613,154,112,565,463,70,16,202,60,157,199,350,15,302,34,258,513,174,130,23,290,479,6,38,550,141,71,10,4,115,671,596,14,453,231,38,121,710,77,28,367,5,145,321,666,5,288,704,172,224,207,380,334,96,712,27,198,698,1,144,363,11,276,272,70,181,622,642,744,334,643,171,17,103,303,35,62,46,112,201,744,239,96,2,152,24,309,312,384,337,216,393,569,116,366,393,314,6,3,692,28,90,2,551,748,89,239,370,481,558,51,113,17,7,14,316,127,499,158,235,179,14,579,408,79,35,11,850,159,84,173,430,266,62,256,487,153,397,228,188,578,300,23,243,5,188,125,110,14,187,74,585,202,17,175,743,869,435,129,287,281,555,210,459,194,47,107,484,604,298,611,124,404,211,522,112,177,29,196,144,49,4,36,104,14,35,776,445,10,68,228,154,50,64,511,31,16,188,39,10,22,106,92,280,2,9,263,45,115,342,121,212,37,9,586,550,146,253,3,357,198,344,297,91,291,33,103,53,147,66,21,297,4,24,414,9,402,6,251,159,381,355,248,678,217,111,280,121,388,31,678,400,57,321,5,13,21,164,5,158,325,200,565,416,21,822,209,274,493,50,22,267,483,68,156,4,64,9,398,2,4,46,337,153,73,340,112,13,276,165,33,503,190,23,617,54,265,164,346,9,210,323,5,5,356,291,360,84,349,433,46,182,571,5,375,28,180,615,40,234,160,388,144,7,49,69,20,170,209,391,418,106,3,109,23,643,95,105,33,115,96,96,207,5,78,170,269,70,246,219,123,304,452,127,630,14,54,192,665,163,576,370,143,505,108,40,237,54,379,17,19,5,17,4,79,49,306,72,107,81,508,318,300,258,61,534,89,41,1,284,512,333,2,126,12,17,7,189,11,500,168,31,165,63,35,184,111,56,287,8,274,129,394,3,61,16,247,118,11,230,16,582,174,266,337,218,782,217,239,195,140,644,34,26,348,706,33,12,694,118,163,274,7,184,351,172,126,297,442,358,209,38,271,21,332,31,671,517,173,341,100,274,133,297,189,219,276,212,102,146,243,250,154,16,270,430,10,153,598,286,681,207,11,335,281,32,175,42,130,723,678,299,421,204,404,4,36,404,64,92,15,7,291,1,23,385,10,310,8,189,335,250,161,361,451,451,167,326,367,579,27,324,103,135,9,8,389,178,153,145,133,64,125,6,263,446,88,95,269,16,673,152,350,170,12,62,292,212,89,377,117,216,213,122,57,46,378,284,238,92,122,297,459,298,226,17,64,401,428,313,474,566,263,248,616,404,440,341,1,383,713,104,34,552,200,488,646,363,98,33,347,21,852,97,292,48,569,4,183,89,237,233,4,573,32,212,267,282,35,256,589,813,304,90,331,463,457,269,343,538,12,75,274,113,68,475,167,118,6,582,1,11,302,118,108,224,2,112,408,257,140,188,40,272,653,196,795,56,254,39,6,104,135,301,334,5,178,3,134,261,259,6,4,14,35,28,196,28,229,14,179,62,227,189,276,59,544,63,239,26,2,265,147,136,326,651,738,135,440,111,396,206,59,230,41,209,127,154,563,411,391,19,156,225,245,263,436,106,757,292,24,205,223,99,229,8,239,223,279,138,13,176,11,117,74,127,286,263,152,100,21,123,466,23,5,256,215,586,13,541,176,181,656,246,29,369,377,125,53,136,288,639,12,34,178,6,258,427,491,50,222,411,461,202,43,246,503,7,151,539,32,6,41,686,81,190,35,84,6,180,110,593,14,281,459,210,302,11,103,454,204,19,100,729,259,16,6,119,4,205,4,12,110,48,16,684,142,340,27,244,169,176,5,3,205,11,76,800,141,114,662,27,189,23,165,243,182,349,215,229,537,363,58,286,262,21,109,533,8,487,779,268,363,236,693,8,165,15,206,165,119,35,8,428,94,328,246,80,6,358,81,26,638,238,184,11,338,4,432,164,26,13,353,678,54,281,77,259,13,387,228,800,239,14,4,19,346,139,233,134,390,553,153,30,369,35,361,67,10,17,294,276,218,21,5,386,17,202,259,298,2,280,456,39,58,80,127,14,769,257,275,3,20,189,5,3,148,43,53,111,645,147,7,246,162,134,131,18,34,203,439,28,13,94,30,28,362,25,254,121,275,4,218,119,57,575,634,1,110,255,235,385,69,113,5,580,673,6,178,182,602,207,153,723,192,486,658,87,388,81,226,4,187,586,232,272,73,56,226,597,219,151,272,822,142,104,276,374,30,271,315,150,238,183,382,13,208,793,67,169,363,234,16,34,680,89,8,53,185,287,811,374,463,114,375,12,615,151,327,25,180,54,100,148,107,246,439,200,214,198,522,136,153,201,330,244,330,339,185,279,547,226,162,244,203,153,467,5,239,86,276,116,60,282,10,421,559,255,195,32,123,2,373,410,177,216,150,54,70,258,120,213,230,37,86,193,5,28,174,6,135,90,139,249,626,14,5,6,347,264,151,78,64,4,13,16,40,247,590,371,395,214,506,452,61,632,27,105,265,173,572,16,564,198,87,116,257,165,243,332,120,411,255,82,151,20,452,304,29,681,51,44,145,456,428,18,306,191,857,71,9,372,224,176,16,25,209,14,52,459,80,168,434,304,6,232,387,333,11,14,141,24,65,165,5,191,192,217,106,298,354,511,206,5,39,13,24,515,84,514,115,420,277,130,346,5,131,223,10,207,265,127,4,149,203,11,126,67,62,3,134,32,53,165,390,316,384,367,153,405,568,420,13,218,378,81,46,32,392,595,18,660,367,15,511,385,37,494,4,125,183,277,112,20,21,160,273,202,413,29,199,281,531,16,331,710,108,115,642,645,75,232,521,409,134,46,85,641,157,93,230,390,158,421,11,432,365,555,313,337,271,45,332,191,423,2,89,261,185,1,40,461,9,8,299,223,8,85,153,590,107,82,2,270,116,328,364,327,119,32,282,480,77,123,36,65,508,5,6,311,204,555,54,569,242,206,248,531,212,336,230,334,358,30,209,217,705,98,331,180,76,440,19,453,1,17,373,276,295,90,4,285,104,281,677,24,3,513,208,384,171,60,284,189,81,45,179,264,238,339,20,106,315,47,190,146,492,360,314,12,235,181,520,203,22,226,4,376,218,128,3,259,294,9,98,28,700,567,93,5,334,421,6,6,74,458,232,315,251,5,217,24,64,283,174,250,258,102,95,54,351,25,28,90,140,213,69,93,95,314,201,64,69,3,5,25,92,139,450,139,427,110,227,225,478,4,226,379,302,5,232,190,296,150,191,79,229,376,30,251,336,300,227,440,325,272,29,170,46,150,45,32,7,491,730,286,452,220,14,125,27,35,99,325,139,322,291,16,237,47,5,315,172,1,137,316,244,834,23,95,13,152,167,183,68,218,300,17,14,42,159,95,24,6,467,29,265,14,468,274,159,458,538,272,557,13,3,278,337,304,546,139,285,34,56,251,8,335,184,463,244,268,2,13,23,6,314,316,1,464,9,3,487,213,222,169,18,3,3,659,384,1],\"yaxis\":\"y\",\"type\":\"scattergl\"},{\"customdata\":[[\"Wednesday\",9],[\"Tuesday\",9],[\"Friday\",8],[\"Monday\",9],[\"Saturday\",7],[\"Monday\",9],[\"Monday\",9],[\"Tuesday\",8],[\"Monday\",9],[\"Tuesday\",8],[\"Sunday\",8],[\"Tuesday\",7],[\"Tuesday\",7],[\"Tuesday\",7],[\"Monday\",7],[\"Tuesday\",9],[\"Monday\",7],[\"Monday\",9],[\"Wednesday\",9],[\"Saturday\",7],[\"Thursday\",7],[\"Tuesday\",8],[\"Tuesday\",7],[\"Wednesday\",9],[\"Sunday\",9],[\"Thursday\",7],[\"Tuesday\",9],[\"Wednesday\",8],[\"Wednesday\",8],[\"Thursday\",8],[\"Tuesday\",9],[\"Sunday\",9],[\"Monday\",7],[\"Wednesday\",9],[\"Saturday\",9],[\"Saturday\",7],[\"Wednesday\",8],[\"Tuesday\",9],[\"Tuesday\",9],[\"Sunday\",9],[\"Saturday\",9],[\"Thursday\",8],[\"Thursday\",9],[\"Saturday\",8],[\"Sunday\",7],[\"Tuesday\",8],[\"Sunday\",9],[\"Monday\",7],[\"Saturday\",9],[\"Monday\",8],[\"Monday\",8],[\"Sunday\",7],[\"Saturday\",9],[\"Sunday\",9],[\"Saturday\",7],[\"Monday\",7],[\"Monday\",9],[\"Saturday\",8],[\"Tuesday\",7],[\"Sunday\",8],[\"Sunday\",7],[\"Wednesday\",7],[\"Tuesday\",8],[\"Tuesday\",9],[\"Thursday\",8],[\"Thursday\",7],[\"Tuesday\",8],[\"Friday\",7],[\"Tuesday\",9],[\"Friday\",8],[\"Wednesday\",7],[\"Tuesday\",8],[\"Sunday\",9],[\"Wednesday\",8],[\"Thursday\",8],[\"Wednesday\",8],[\"Thursday\",7],[\"Friday\",8],[\"Friday\",8],[\"Sunday\",9],[\"Monday\",7],[\"Friday\",9],[\"Tuesday\",8],[\"Wednesday\",9],[\"Saturday\",8],[\"Monday\",9],[\"Thursday\",9],[\"Saturday\",8],[\"Saturday\",8],[\"Friday\",9],[\"Saturday\",9],[\"Wednesday\",8],[\"Tuesday\",9],[\"Friday\",9],[\"Monday\",8],[\"Saturday\",9],[\"Tuesday\",8],[\"Tuesday\",8],[\"Friday\",8],[\"Friday\",7],[\"Sunday\",8],[\"Saturday\",9],[\"Sunday\",8],[\"Sunday\",8],[\"Tuesday\",9],[\"Friday\",8],[\"Thursday\",8],[\"Tuesday\",8],[\"Saturday\",9],[\"Monday\",8],[\"Friday\",7],[\"Sunday\",9],[\"Monday\",8],[\"Sunday\",7],[\"Wednesday\",7],[\"Sunday\",7],[\"Friday\",9],[\"Sunday\",8],[\"Friday\",8],[\"Saturday\",7],[\"Monday\",8],[\"Monday\",9],[\"Thursday\",7],[\"Wednesday\",8],[\"Friday\",9],[\"Saturday\",8],[\"Friday\",7],[\"Tuesday\",7],[\"Friday\",7],[\"Tuesday\",8],[\"Friday\",7],[\"Saturday\",9],[\"Friday\",8],[\"Thursday\",8],[\"Sunday\",8],[\"Thursday\",7],[\"Friday\",7],[\"Wednesday\",9],[\"Monday\",8],[\"Sunday\",7],[\"Saturday\",9],[\"Monday\",9],[\"Friday\",9],[\"Thursday\",8],[\"Friday\",7],[\"Friday\",8],[\"Tuesday\",7],[\"Monday\",7],[\"Monday\",9],[\"Saturday\",9],[\"Saturday\",9],[\"Tuesday\",7],[\"Thursday\",7],[\"Tuesday\",7],[\"Friday\",7],[\"Friday\",8],[\"Saturday\",9],[\"Thursday\",9],[\"Wednesday\",7],[\"Thursday\",8],[\"Monday\",7],[\"Friday\",7],[\"Friday\",9],[\"Friday\",7],[\"Wednesday\",7],[\"Friday\",9],[\"Tuesday\",7],[\"Sunday\",9],[\"Wednesday\",9],[\"Sunday\",9],[\"Friday\",7],[\"Tuesday\",9],[\"Wednesday\",7],[\"Monday\",7],[\"Sunday\",8],[\"Monday\",7],[\"Saturday\",8],[\"Wednesday\",8],[\"Friday\",8],[\"Friday\",8],[\"Wednesday\",7],[\"Wednesday\",8],[\"Tuesday\",7],[\"Sunday\",9],[\"Sunday\",8],[\"Thursday\",7],[\"Thursday\",7],[\"Sunday\",8],[\"Thursday\",9],[\"Monday\",7],[\"Thursday\",9],[\"Thursday\",8],[\"Monday\",8],[\"Thursday\",8],[\"Wednesday\",7],[\"Monday\",8],[\"Thursday\",9],[\"Thursday\",7],[\"Saturday\",8],[\"Saturday\",8],[\"Tuesday\",7],[\"Monday\",8],[\"Saturday\",8],[\"Saturday\",7],[\"Wednesday\",9],[\"Tuesday\",9],[\"Monday\",9],[\"Monday\",7],[\"Monday\",8],[\"Sunday\",9],[\"Sunday\",8],[\"Saturday\",8],[\"Monday\",9],[\"Friday\",9],[\"Sunday\",8],[\"Tuesday\",9],[\"Monday\",7],[\"Thursday\",8],[\"Wednesday\",8],[\"Thursday\",8],[\"Saturday\",8],[\"Tuesday\",8],[\"Friday\",8],[\"Sunday\",9],[\"Wednesday\",8],[\"Friday\",9],[\"Wednesday\",8],[\"Friday\",8],[\"Wednesday\",8],[\"Thursday\",7],[\"Sunday\",7],[\"Wednesday\",7],[\"Thursday\",7],[\"Monday\",9],[\"Saturday\",9],[\"Thursday\",7],[\"Thursday\",7],[\"Tuesday\",7],[\"Thursday\",9],[\"Sunday\",8],[\"Sunday\",8],[\"Sunday\",8],[\"Sunday\",7],[\"Thursday\",8],[\"Friday\",8],[\"Sunday\",9],[\"Tuesday\",8],[\"Sunday\",7],[\"Monday\",8],[\"Thursday\",8],[\"Thursday\",9],[\"Monday\",7],[\"Saturday\",7],[\"Sunday\",8],[\"Saturday\",9],[\"Saturday\",8],[\"Wednesday\",9],[\"Monday\",8],[\"Wednesday\",9],[\"Tuesday\",8],[\"Sunday\",8],[\"Saturday\",7],[\"Sunday\",8],[\"Wednesday\",8],[\"Sunday\",7],[\"Thursday\",9],[\"Friday\",8],[\"Saturday\",9],[\"Thursday\",8],[\"Sunday\",7],[\"Friday\",7],[\"Thursday\",7],[\"Saturday\",8],[\"Tuesday\",9],[\"Monday\",9],[\"Wednesday\",8],[\"Saturday\",7],[\"Monday\",8],[\"Friday\",8],[\"Monday\",8],[\"Wednesday\",7],[\"Monday\",8],[\"Tuesday\",8],[\"Tuesday\",7],[\"Wednesday\",9],[\"Saturday\",9],[\"Monday\",9],[\"Tuesday\",7],[\"Saturday\",9],[\"Friday\",9],[\"Wednesday\",7],[\"Tuesday\",9],[\"Friday\",9],[\"Monday\",9],[\"Thursday\",8],[\"Sunday\",8],[\"Friday\",7],[\"Saturday\",7],[\"Tuesday\",9],[\"Tuesday\",7],[\"Tuesday\",8],[\"Wednesday\",9],[\"Thursday\",7],[\"Thursday\",8],[\"Tuesday\",8],[\"Monday\",8],[\"Wednesday\",7],[\"Sunday\",9],[\"Sunday\",7],[\"Monday\",9],[\"Wednesday\",9],[\"Saturday\",9],[\"Tuesday\",8],[\"Sunday\",8],[\"Sunday\",9],[\"Wednesday\",8],[\"Tuesday\",8],[\"Sunday\",8],[\"Sunday\",9],[\"Saturday\",8],[\"Friday\",8],[\"Friday\",9],[\"Wednesday\",7],[\"Wednesday\",7],[\"Sunday\",9],[\"Sunday\",7],[\"Friday\",7],[\"Sunday\",7],[\"Monday\",7],[\"Friday\",8],[\"Thursday\",9],[\"Friday\",8],[\"Tuesday\",8],[\"Tuesday\",8],[\"Friday\",8],[\"Thursday\",9],[\"Friday\",8],[\"Wednesday\",7],[\"Tuesday\",8],[\"Thursday\",7],[\"Thursday\",8],[\"Friday\",8],[\"Friday\",9],[\"Wednesday\",7],[\"Saturday\",7],[\"Friday\",8],[\"Saturday\",9],[\"Tuesday\",8],[\"Sunday\",8],[\"Tuesday\",8],[\"Sunday\",9],[\"Sunday\",9],[\"Saturday\",9],[\"Friday\",7],[\"Saturday\",9],[\"Wednesday\",8],[\"Monday\",9],[\"Tuesday\",8],[\"Tuesday\",8],[\"Monday\",8],[\"Friday\",9],[\"Monday\",7],[\"Friday\",9],[\"Saturday\",7],[\"Friday\",8],[\"Sunday\",8],[\"Wednesday\",8],[\"Sunday\",7],[\"Wednesday\",7],[\"Friday\",9],[\"Sunday\",9],[\"Friday\",7],[\"Tuesday\",9],[\"Sunday\",8],[\"Sunday\",7],[\"Friday\",8],[\"Tuesday\",8],[\"Tuesday\",8],[\"Sunday\",8],[\"Wednesday\",8],[\"Friday\",7],[\"Tuesday\",7],[\"Thursday\",9],[\"Thursday\",7],[\"Wednesday\",7],[\"Saturday\",8],[\"Tuesday\",8],[\"Saturday\",9],[\"Monday\",7],[\"Wednesday\",8],[\"Thursday\",9],[\"Wednesday\",7],[\"Thursday\",8],[\"Tuesday\",8],[\"Thursday\",9],[\"Tuesday\",9],[\"Monday\",8],[\"Tuesday\",7],[\"Thursday\",7],[\"Thursday\",9],[\"Thursday\",8],[\"Tuesday\",9],[\"Thursday\",7],[\"Monday\",9],[\"Tuesday\",7],[\"Saturday\",8],[\"Saturday\",8],[\"Tuesday\",7],[\"Friday\",8],[\"Friday\",8],[\"Wednesday\",8],[\"Tuesday\",8],[\"Friday\",8],[\"Tuesday\",7],[\"Friday\",8],[\"Monday\",7],[\"Tuesday\",7],[\"Wednesday\",7],[\"Thursday\",8],[\"Sunday\",8],[\"Friday\",8],[\"Sunday\",8],[\"Wednesday\",8],[\"Tuesday\",8],[\"Tuesday\",9],[\"Friday\",7],[\"Monday\",8],[\"Monday\",9],[\"Sunday\",7],[\"Monday\",8],[\"Saturday\",9],[\"Thursday\",9],[\"Friday\",7],[\"Sunday\",9],[\"Wednesday\",9],[\"Sunday\",9],[\"Sunday\",7],[\"Monday\",9],[\"Tuesday\",7],[\"Monday\",9],[\"Thursday\",8],[\"Wednesday\",9],[\"Sunday\",9],[\"Tuesday\",7],[\"Tuesday\",8],[\"Wednesday\",8],[\"Tuesday\",7],[\"Friday\",8],[\"Monday\",8],[\"Wednesday\",7],[\"Monday\",8],[\"Saturday\",9],[\"Sunday\",7],[\"Monday\",8],[\"Sunday\",8],[\"Monday\",9],[\"Sunday\",7],[\"Monday\",9],[\"Friday\",7],[\"Saturday\",8],[\"Sunday\",9],[\"Saturday\",8],[\"Saturday\",7],[\"Sunday\",8],[\"Monday\",7],[\"Thursday\",7],[\"Friday\",7],[\"Wednesday\",8],[\"Monday\",9],[\"Sunday\",7],[\"Wednesday\",8],[\"Friday\",9],[\"Thursday\",7],[\"Monday\",9],[\"Wednesday\",9],[\"Monday\",8],[\"Friday\",9],[\"Tuesday\",7],[\"Thursday\",8],[\"Thursday\",7],[\"Tuesday\",8],[\"Wednesday\",8],[\"Saturday\",9],[\"Sunday\",8],[\"Tuesday\",8],[\"Thursday\",7],[\"Saturday\",7],[\"Sunday\",7],[\"Monday\",9],[\"Saturday\",9],[\"Tuesday\",7],[\"Sunday\",8],[\"Tuesday\",9],[\"Thursday\",9],[\"Friday\",7],[\"Saturday\",9],[\"Tuesday\",8],[\"Thursday\",9],[\"Thursday\",7],[\"Thursday\",8],[\"Tuesday\",7],[\"Wednesday\",8],[\"Friday\",9],[\"Sunday\",9],[\"Monday\",9],[\"Monday\",7],[\"Sunday\",9],[\"Friday\",8],[\"Wednesday\",7],[\"Monday\",7],[\"Tuesday\",7],[\"Wednesday\",9],[\"Wednesday\",8],[\"Wednesday\",7],[\"Thursday\",8],[\"Monday\",9],[\"Tuesday\",7],[\"Tuesday\",8],[\"Monday\",7],[\"Sunday\",8],[\"Saturday\",8],[\"Saturday\",9],[\"Thursday\",8],[\"Thursday\",9],[\"Friday\",8],[\"Friday\",9],[\"Sunday\",9],[\"Monday\",8],[\"Friday\",8],[\"Wednesday\",7],[\"Monday\",9],[\"Tuesday\",9],[\"Wednesday\",8],[\"Thursday\",8],[\"Tuesday\",9],[\"Thursday\",9],[\"Tuesday\",8],[\"Friday\",8],[\"Friday\",9],[\"Tuesday\",7],[\"Sunday\",8],[\"Sunday\",9],[\"Friday\",8],[\"Tuesday\",8],[\"Wednesday\",8],[\"Friday\",7],[\"Monday\",9],[\"Sunday\",7],[\"Saturday\",7],[\"Monday\",8],[\"Monday\",8],[\"Tuesday\",9],[\"Wednesday\",8],[\"Monday\",8],[\"Wednesday\",8],[\"Tuesday\",8],[\"Thursday\",8],[\"Wednesday\",9],[\"Tuesday\",8],[\"Wednesday\",9],[\"Monday\",7],[\"Thursday\",8],[\"Wednesday\",9],[\"Sunday\",9],[\"Saturday\",9],[\"Tuesday\",8],[\"Saturday\",7],[\"Thursday\",8],[\"Sunday\",9],[\"Wednesday\",7],[\"Wednesday\",7],[\"Sunday\",7],[\"Sunday\",9],[\"Tuesday\",9],[\"Sunday\",7],[\"Tuesday\",7],[\"Wednesday\",7],[\"Saturday\",9],[\"Thursday\",7],[\"Saturday\",8],[\"Saturday\",7],[\"Wednesday\",7],[\"Friday\",8],[\"Wednesday\",8],[\"Sunday\",7],[\"Monday\",9],[\"Monday\",9],[\"Monday\",7],[\"Monday\",9],[\"Wednesday\",7],[\"Saturday\",9],[\"Saturday\",8],[\"Sunday\",9],[\"Wednesday\",7],[\"Saturday\",7],[\"Monday\",9],[\"Thursday\",9],[\"Wednesday\",9],[\"Sunday\",9],[\"Thursday\",9],[\"Tuesday\",7],[\"Thursday\",8],[\"Tuesday\",8],[\"Monday\",9],[\"Friday\",9],[\"Saturday\",8],[\"Monday\",7],[\"Saturday\",9],[\"Thursday\",8],[\"Saturday\",7],[\"Sunday\",8],[\"Monday\",8],[\"Sunday\",9],[\"Sunday\",7],[\"Sunday\",8],[\"Tuesday\",7],[\"Wednesday\",9],[\"Saturday\",9],[\"Monday\",7],[\"Monday\",7],[\"Thursday\",8],[\"Friday\",8],[\"Tuesday\",8],[\"Friday\",8],[\"Friday\",7],[\"Saturday\",7],[\"Tuesday\",9],[\"Saturday\",9],[\"Wednesday\",8],[\"Wednesday\",8],[\"Sunday\",7],[\"Friday\",7],[\"Thursday\",9],[\"Sunday\",9],[\"Saturday\",7],[\"Sunday\",7],[\"Wednesday\",8],[\"Friday\",8],[\"Friday\",8],[\"Monday\",7],[\"Tuesday\",8],[\"Sunday\",7],[\"Monday\",9],[\"Wednesday\",8],[\"Tuesday\",7],[\"Friday\",7],[\"Tuesday\",7],[\"Saturday\",9],[\"Tuesday\",9],[\"Monday\",7],[\"Thursday\",7],[\"Wednesday\",7],[\"Thursday\",8],[\"Sunday\",7],[\"Saturday\",9],[\"Sunday\",7],[\"Monday\",9],[\"Monday\",7],[\"Thursday\",7],[\"Sunday\",8],[\"Wednesday\",8],[\"Tuesday\",7],[\"Thursday\",8],[\"Tuesday\",7],[\"Friday\",7],[\"Friday\",9],[\"Sunday\",9],[\"Thursday\",9],[\"Wednesday\",9],[\"Saturday\",9],[\"Monday\",8],[\"Friday\",8],[\"Tuesday\",8],[\"Friday\",8],[\"Monday\",7],[\"Wednesday\",9],[\"Thursday\",7],[\"Tuesday\",9],[\"Thursday\",8],[\"Saturday\",8],[\"Sunday\",7],[\"Thursday\",7],[\"Friday\",9],[\"Tuesday\",7],[\"Wednesday\",9],[\"Thursday\",8],[\"Saturday\",8],[\"Friday\",8],[\"Tuesday\",7],[\"Saturday\",7],[\"Saturday\",7],[\"Wednesday\",7],[\"Sunday\",7],[\"Wednesday\",9],[\"Tuesday\",8],[\"Monday\",9],[\"Sunday\",9],[\"Wednesday\",9],[\"Thursday\",8],[\"Wednesday\",7],[\"Saturday\",8],[\"Tuesday\",9],[\"Sunday\",7],[\"Wednesday\",9],[\"Thursday\",9],[\"Sunday\",9],[\"Monday\",9],[\"Friday\",9],[\"Saturday\",8],[\"Thursday\",9],[\"Thursday\",8],[\"Tuesday\",9],[\"Saturday\",8],[\"Saturday\",8],[\"Thursday\",7],[\"Monday\",8],[\"Saturday\",9],[\"Wednesday\",9],[\"Saturday\",8],[\"Sunday\",7],[\"Friday\",8],[\"Monday\",7],[\"Tuesday\",7],[\"Friday\",9],[\"Friday\",9],[\"Friday\",7],[\"Tuesday\",9],[\"Friday\",8],[\"Monday\",9],[\"Sunday\",9],[\"Sunday\",9],[\"Monday\",7],[\"Thursday\",9],[\"Tuesday\",9],[\"Friday\",7],[\"Monday\",7],[\"Sunday\",7],[\"Saturday\",9],[\"Thursday\",8],[\"Wednesday\",7],[\"Tuesday\",9],[\"Tuesday\",8],[\"Saturday\",9],[\"Thursday\",7],[\"Monday\",9],[\"Tuesday\",7],[\"Tuesday\",9],[\"Monday\",7],[\"Friday\",7],[\"Tuesday\",8],[\"Tuesday\",7],[\"Thursday\",7],[\"Wednesday\",9],[\"Sunday\",7],[\"Wednesday\",9],[\"Friday\",9],[\"Tuesday\",7],[\"Wednesday\",9],[\"Thursday\",9],[\"Friday\",8],[\"Thursday\",9],[\"Sunday\",9],[\"Thursday\",8],[\"Thursday\",8],[\"Wednesday\",9],[\"Tuesday\",8],[\"Saturday\",8],[\"Sunday\",8],[\"Wednesday\",7],[\"Thursday\",9],[\"Sunday\",7],[\"Saturday\",7],[\"Monday\",7],[\"Tuesday\",8],[\"Wednesday\",9],[\"Sunday\",7],[\"Friday\",7],[\"Wednesday\",7],[\"Thursday\",8],[\"Sunday\",9],[\"Wednesday\",9],[\"Sunday\",9],[\"Thursday\",8],[\"Sunday\",7],[\"Tuesday\",8],[\"Thursday\",7],[\"Saturday\",8],[\"Friday\",7],[\"Friday\",9],[\"Tuesday\",7],[\"Monday\",7],[\"Friday\",7],[\"Thursday\",8],[\"Tuesday\",9],[\"Thursday\",8],[\"Saturday\",7],[\"Saturday\",7],[\"Monday\",9],[\"Wednesday\",9],[\"Wednesday\",7],[\"Tuesday\",8],[\"Friday\",9],[\"Wednesday\",7],[\"Thursday\",8],[\"Monday\",8],[\"Sunday\",7],[\"Monday\",7],[\"Tuesday\",9],[\"Wednesday\",8],[\"Thursday\",7],[\"Sunday\",8],[\"Wednesday\",9],[\"Saturday\",8],[\"Sunday\",7],[\"Thursday\",8],[\"Monday\",7],[\"Sunday\",7],[\"Saturday\",7],[\"Sunday\",8],[\"Thursday\",8],[\"Saturday\",7],[\"Tuesday\",9],[\"Thursday\",8],[\"Sunday\",7],[\"Wednesday\",7],[\"Sunday\",9],[\"Wednesday\",7],[\"Saturday\",7],[\"Sunday\",8],[\"Thursday\",9],[\"Friday\",7],[\"Tuesday\",8],[\"Sunday\",9],[\"Saturday\",9],[\"Sunday\",7],[\"Sunday\",9],[\"Sunday\",7],[\"Saturday\",9],[\"Friday\",9],[\"Saturday\",8],[\"Thursday\",9],[\"Tuesday\",9],[\"Sunday\",7],[\"Tuesday\",9],[\"Thursday\",8],[\"Monday\",9],[\"Wednesday\",7],[\"Friday\",8],[\"Friday\",7],[\"Wednesday\",9],[\"Tuesday\",7],[\"Wednesday\",8],[\"Wednesday\",9],[\"Sunday\",7],[\"Monday\",7],[\"Sunday\",9],[\"Saturday\",8],[\"Friday\",9],[\"Monday\",7],[\"Monday\",8],[\"Monday\",8],[\"Thursday\",8],[\"Tuesday\",9],[\"Sunday\",9],[\"Wednesday\",9],[\"Friday\",7],[\"Tuesday\",9],[\"Friday\",7],[\"Wednesday\",8],[\"Sunday\",9],[\"Sunday\",7],[\"Friday\",8],[\"Thursday\",8],[\"Saturday\",7],[\"Sunday\",7],[\"Monday\",8],[\"Wednesday\",9],[\"Monday\",9],[\"Wednesday\",7],[\"Friday\",9],[\"Thursday\",7],[\"Saturday\",7],[\"Tuesday\",9],[\"Sunday\",7],[\"Tuesday\",7],[\"Wednesday\",8],[\"Monday\",9],[\"Monday\",9],[\"Thursday\",7],[\"Thursday\",8],[\"Sunday\",8],[\"Friday\",9],[\"Tuesday\",7],[\"Saturday\",9],[\"Saturday\",7],[\"Thursday\",8],[\"Sunday\",8],[\"Tuesday\",8],[\"Saturday\",7],[\"Wednesday\",9],[\"Thursday\",8],[\"Monday\",8],[\"Monday\",8],[\"Thursday\",9],[\"Wednesday\",9],[\"Wednesday\",8],[\"Monday\",9],[\"Tuesday\",8],[\"Friday\",9],[\"Thursday\",8],[\"Friday\",8],[\"Saturday\",9],[\"Saturday\",8],[\"Friday\",8],[\"Saturday\",8],[\"Tuesday\",8],[\"Wednesday\",7],[\"Thursday\",9],[\"Wednesday\",8],[\"Thursday\",7],[\"Friday\",9],[\"Saturday\",8],[\"Friday\",7],[\"Monday\",8],[\"Sunday\",7],[\"Wednesday\",8],[\"Friday\",7],[\"Monday\",8],[\"Saturday\",7],[\"Wednesday\",8],[\"Thursday\",9],[\"Monday\",7],[\"Sunday\",8],[\"Wednesday\",9],[\"Wednesday\",9],[\"Monday\",7],[\"Sunday\",9],[\"Sunday\",9],[\"Wednesday\",8],[\"Saturday\",8],[\"Saturday\",9],[\"Sunday\",7],[\"Thursday\",7],[\"Saturday\",9],[\"Monday\",7],[\"Monday\",7],[\"Sunday\",8],[\"Sunday\",9],[\"Friday\",7],[\"Sunday\",7],[\"Tuesday\",8],[\"Monday\",7],[\"Thursday\",8],[\"Monday\",8],[\"Monday\",9],[\"Monday\",9],[\"Sunday\",9],[\"Saturday\",9],[\"Thursday\",7],[\"Tuesday\",7],[\"Saturday\",9],[\"Wednesday\",7],[\"Thursday\",9],[\"Sunday\",9],[\"Monday\",8],[\"Tuesday\",9],[\"Sunday\",9],[\"Wednesday\",9],[\"Thursday\",7],[\"Saturday\",9],[\"Tuesday\",7],[\"Wednesday\",9],[\"Saturday\",9],[\"Friday\",9],[\"Wednesday\",8],[\"Sunday\",9],[\"Sunday\",8],[\"Thursday\",8],[\"Friday\",8],[\"Saturday\",7],[\"Friday\",8],[\"Thursday\",8],[\"Thursday\",9],[\"Saturday\",8],[\"Wednesday\",7],[\"Sunday\",8],[\"Monday\",7],[\"Tuesday\",7],[\"Monday\",8],[\"Friday\",7],[\"Tuesday\",9],[\"Wednesday\",7],[\"Tuesday\",7],[\"Thursday\",8],[\"Wednesday\",8],[\"Friday\",9],[\"Saturday\",9],[\"Friday\",9],[\"Saturday\",7],[\"Friday\",8],[\"Wednesday\",8],[\"Wednesday\",9],[\"Wednesday\",8],[\"Friday\",9],[\"Tuesday\",7],[\"Sunday\",7],[\"Wednesday\",7],[\"Friday\",8],[\"Friday\",9],[\"Saturday\",7],[\"Wednesday\",7],[\"Tuesday\",7],[\"Tuesday\",9],[\"Monday\",8],[\"Friday\",9],[\"Sunday\",9],[\"Sunday\",9],[\"Sunday\",9],[\"Sunday\",7],[\"Sunday\",8],[\"Tuesday\",7],[\"Tuesday\",8],[\"Monday\",7],[\"Sunday\",9],[\"Saturday\",7],[\"Friday\",7],[\"Monday\",7],[\"Sunday\",9],[\"Thursday\",7],[\"Sunday\",9],[\"Thursday\",9],[\"Thursday\",7],[\"Thursday\",8],[\"Friday\",8],[\"Thursday\",8],[\"Wednesday\",8],[\"Thursday\",8],[\"Monday\",8],[\"Friday\",9],[\"Friday\",7],[\"Sunday\",9],[\"Friday\",8],[\"Saturday\",7],[\"Saturday\",8],[\"Saturday\",7],[\"Tuesday\",8],[\"Friday\",8],[\"Sunday\",7],[\"Thursday\",9],[\"Sunday\",7],[\"Monday\",9],[\"Tuesday\",8],[\"Thursday\",9],[\"Wednesday\",8],[\"Wednesday\",8],[\"Friday\",7],[\"Sunday\",9],[\"Monday\",8],[\"Tuesday\",7],[\"Friday\",7],[\"Friday\",9],[\"Friday\",9],[\"Wednesday\",8],[\"Thursday\",7],[\"Monday\",7],[\"Saturday\",7],[\"Friday\",8],[\"Friday\",8],[\"Thursday\",7],[\"Tuesday\",8],[\"Monday\",9],[\"Saturday\",7],[\"Thursday\",7],[\"Thursday\",7],[\"Tuesday\",9],[\"Friday\",8],[\"Thursday\",8],[\"Sunday\",8],[\"Friday\",8],[\"Monday\",7],[\"Sunday\",7],[\"Sunday\",9],[\"Sunday\",8],[\"Saturday\",9],[\"Thursday\",8],[\"Monday\",9],[\"Sunday\",8],[\"Monday\",8],[\"Tuesday\",7],[\"Thursday\",7],[\"Monday\",7],[\"Monday\",8],[\"Saturday\",7],[\"Sunday\",8],[\"Wednesday\",9],[\"Thursday\",8],[\"Wednesday\",7],[\"Thursday\",8],[\"Wednesday\",8],[\"Monday\",8],[\"Sunday\",8],[\"Wednesday\",8],[\"Friday\",7],[\"Tuesday\",9],[\"Monday\",8],[\"Sunday\",9],[\"Saturday\",7],[\"Friday\",7],[\"Friday\",7],[\"Saturday\",9],[\"Saturday\",9],[\"Wednesday\",7],[\"Sunday\",9],[\"Thursday\",7],[\"Sunday\",9],[\"Thursday\",9],[\"Friday\",8],[\"Tuesday\",9],[\"Friday\",7],[\"Wednesday\",8],[\"Tuesday\",9],[\"Tuesday\",9],[\"Wednesday\",8],[\"Monday\",7],[\"Thursday\",9],[\"Saturday\",9],[\"Monday\",7],[\"Monday\",7],[\"Saturday\",7],[\"Tuesday\",9],[\"Thursday\",9],[\"Tuesday\",7],[\"Tuesday\",7],[\"Thursday\",7],[\"Monday\",9],[\"Tuesday\",9],[\"Saturday\",9],[\"Wednesday\",7],[\"Sunday\",8],[\"Friday\",9],[\"Thursday\",7],[\"Thursday\",7],[\"Friday\",9],[\"Friday\",8],[\"Tuesday\",9],[\"Saturday\",7],[\"Wednesday\",9],[\"Friday\",7],[\"Thursday\",7],[\"Wednesday\",9],[\"Sunday\",8],[\"Sunday\",8],[\"Friday\",9],[\"Monday\",7],[\"Thursday\",7],[\"Saturday\",9],[\"Sunday\",7],[\"Saturday\",7],[\"Tuesday\",7],[\"Wednesday\",9],[\"Saturday\",7],[\"Monday\",7],[\"Monday\",9],[\"Saturday\",7],[\"Thursday\",8],[\"Wednesday\",8],[\"Sunday\",7],[\"Wednesday\",8],[\"Tuesday\",8],[\"Saturday\",8],[\"Sunday\",7],[\"Thursday\",9],[\"Sunday\",8],[\"Tuesday\",9],[\"Monday\",7],[\"Sunday\",7],[\"Friday\",8],[\"Thursday\",7],[\"Saturday\",7],[\"Tuesday\",7],[\"Thursday\",7],[\"Tuesday\",7],[\"Tuesday\",7],[\"Wednesday\",8],[\"Monday\",7],[\"Wednesday\",9],[\"Tuesday\",7],[\"Sunday\",7],[\"Wednesday\",7],[\"Saturday\",7],[\"Saturday\",8],[\"Thursday\",8],[\"Tuesday\",8],[\"Monday\",9],[\"Monday\",7],[\"Friday\",7],[\"Monday\",8],[\"Saturday\",7],[\"Tuesday\",9],[\"Thursday\",7],[\"Sunday\",9],[\"Thursday\",9],[\"Saturday\",9],[\"Tuesday\",9],[\"Thursday\",9],[\"Wednesday\",8],[\"Thursday\",8],[\"Saturday\",9],[\"Monday\",7],[\"Sunday\",9],[\"Thursday\",7],[\"Sunday\",7],[\"Saturday\",9],[\"Friday\",9],[\"Sunday\",8],[\"Saturday\",8],[\"Sunday\",7],[\"Friday\",7],[\"Monday\",8],[\"Saturday\",7],[\"Saturday\",7],[\"Saturday\",7],[\"Wednesday\",7],[\"Sunday\",9],[\"Tuesday\",7],[\"Tuesday\",7],[\"Thursday\",8],[\"Sunday\",7],[\"Saturday\",9],[\"Saturday\",8],[\"Friday\",7],[\"Tuesday\",7],[\"Thursday\",9],[\"Wednesday\",8],[\"Tuesday\",8],[\"Saturday\",9],[\"Monday\",9],[\"Thursday\",9],[\"Friday\",8],[\"Thursday\",7],[\"Tuesday\",7],[\"Sunday\",7],[\"Thursday\",8],[\"Saturday\",8],[\"Saturday\",9],[\"Saturday\",7],[\"Saturday\",8],[\"Saturday\",9],[\"Friday\",9],[\"Wednesday\",8],[\"Tuesday\",9],[\"Sunday\",9],[\"Sunday\",7],[\"Saturday\",7],[\"Wednesday\",8],[\"Wednesday\",7],[\"Wednesday\",8],[\"Saturday\",8],[\"Tuesday\",7],[\"Tuesday\",7],[\"Tuesday\",7],[\"Tuesday\",9],[\"Monday\",8],[\"Wednesday\",8],[\"Sunday\",9],[\"Saturday\",9],[\"Thursday\",9],[\"Monday\",7],[\"Tuesday\",9],[\"Thursday\",8],[\"Tuesday\",7],[\"Wednesday\",7],[\"Friday\",7],[\"Thursday\",8],[\"Saturday\",9],[\"Sunday\",9],[\"Friday\",9],[\"Saturday\",7],[\"Saturday\",8],[\"Sunday\",7],[\"Thursday\",9],[\"Thursday\",8],[\"Saturday\",9],[\"Sunday\",9],[\"Saturday\",7],[\"Saturday\",8],[\"Saturday\",7],[\"Monday\",8],[\"Sunday\",9],[\"Monday\",7],[\"Monday\",8],[\"Thursday\",8],[\"Wednesday\",7],[\"Friday\",9],[\"Saturday\",9],[\"Friday\",7],[\"Tuesday\",7],[\"Wednesday\",8],[\"Sunday\",7],[\"Monday\",7],[\"Monday\",8],[\"Monday\",7],[\"Tuesday\",9],[\"Thursday\",7],[\"Thursday\",9],[\"Saturday\",9],[\"Wednesday\",7],[\"Tuesday\",7],[\"Saturday\",8],[\"Friday\",9],[\"Sunday\",7],[\"Saturday\",8],[\"Sunday\",9],[\"Sunday\",7],[\"Monday\",9],[\"Friday\",8],[\"Monday\",7],[\"Friday\",9],[\"Friday\",7],[\"Saturday\",9],[\"Wednesday\",9],[\"Thursday\",8],[\"Thursday\",7],[\"Friday\",9],[\"Monday\",8],[\"Tuesday\",9],[\"Thursday\",8],[\"Monday\",7],[\"Friday\",9],[\"Wednesday\",7],[\"Tuesday\",9],[\"Friday\",7],[\"Friday\",9],[\"Saturday\",9],[\"Saturday\",8],[\"Saturday\",9],[\"Wednesday\",8],[\"Friday\",7],[\"Thursday\",9],[\"Monday\",7],[\"Saturday\",8],[\"Monday\",8],[\"Tuesday\",8],[\"Tuesday\",8],[\"Friday\",8],[\"Saturday\",9],[\"Wednesday\",9],[\"Saturday\",8],[\"Thursday\",7],[\"Friday\",9],[\"Sunday\",8],[\"Wednesday\",8],[\"Saturday\",8],[\"Saturday\",8],[\"Tuesday\",8],[\"Friday\",8],[\"Wednesday\",7],[\"Monday\",7],[\"Monday\",9],[\"Tuesday\",8],[\"Thursday\",9],[\"Monday\",8],[\"Saturday\",7],[\"Wednesday\",7],[\"Tuesday\",7],[\"Thursday\",9],[\"Thursday\",9],[\"Thursday\",7],[\"Saturday\",9],[\"Wednesday\",9],[\"Thursday\",9],[\"Tuesday\",8],[\"Thursday\",8],[\"Saturday\",8],[\"Friday\",7],[\"Friday\",7],[\"Monday\",8],[\"Saturday\",8],[\"Friday\",9],[\"Tuesday\",9],[\"Monday\",9],[\"Friday\",8],[\"Friday\",8],[\"Saturday\",8],[\"Saturday\",7],[\"Saturday\",7],[\"Saturday\",8],[\"Monday\",7],[\"Thursday\",8],[\"Monday\",7],[\"Friday\",8],[\"Friday\",7],[\"Thursday\",8],[\"Sunday\",8],[\"Thursday\",7],[\"Wednesday\",9],[\"Friday\",9],[\"Saturday\",9],[\"Thursday\",8],[\"Friday\",8],[\"Monday\",9],[\"Wednesday\",8],[\"Monday\",8],[\"Saturday\",7],[\"Tuesday\",7],[\"Monday\",7],[\"Monday\",7],[\"Wednesday\",8],[\"Tuesday\",7],[\"Sunday\",8],[\"Monday\",9],[\"Saturday\",9],[\"Monday\",7],[\"Tuesday\",8],[\"Tuesday\",7],[\"Saturday\",8],[\"Monday\",7],[\"Monday\",7],[\"Saturday\",7],[\"Friday\",8],[\"Tuesday\",7],[\"Monday\",9],[\"Thursday\",7],[\"Saturday\",9],[\"Tuesday\",7],[\"Saturday\",9],[\"Thursday\",7],[\"Saturday\",8],[\"Sunday\",7],[\"Monday\",8],[\"Saturday\",9],[\"Thursday\",9],[\"Thursday\",7],[\"Thursday\",9],[\"Sunday\",9],[\"Sunday\",9],[\"Saturday\",9],[\"Saturday\",9],[\"Monday\",9],[\"Friday\",8],[\"Wednesday\",9],[\"Friday\",8],[\"Sunday\",8],[\"Sunday\",7],[\"Thursday\",7],[\"Thursday\",8],[\"Monday\",7],[\"Saturday\",8],[\"Tuesday\",9],[\"Thursday\",8],[\"Friday\",9],[\"Monday\",9],[\"Monday\",9],[\"Sunday\",8],[\"Monday\",8],[\"Sunday\",9],[\"Tuesday\",7],[\"Wednesday\",7],[\"Tuesday\",9],[\"Wednesday\",7],[\"Saturday\",9],[\"Sunday\",8],[\"Thursday\",7],[\"Friday\",8],[\"Monday\",8],[\"Wednesday\",8],[\"Saturday\",8],[\"Saturday\",7],[\"Sunday\",7],[\"Thursday\",8],[\"Friday\",8],[\"Tuesday\",7],[\"Sunday\",7],[\"Friday\",8],[\"Friday\",8],[\"Tuesday\",8],[\"Thursday\",9],[\"Thursday\",9],[\"Thursday\",9],[\"Tuesday\",7],[\"Saturday\",7],[\"Wednesday\",9],[\"Wednesday\",8],[\"Sunday\",8],[\"Saturday\",7],[\"Sunday\",7],[\"Sunday\",9],[\"Sunday\",8],[\"Friday\",7],[\"Thursday\",7],[\"Tuesday\",9],[\"Friday\",8],[\"Monday\",9],[\"Sunday\",8],[\"Sunday\",9],[\"Tuesday\",9],[\"Tuesday\",8],[\"Monday\",8],[\"Monday\",9],[\"Thursday\",9],[\"Thursday\",8],[\"Thursday\",8],[\"Tuesday\",9],[\"Monday\",9],[\"Wednesday\",7],[\"Tuesday\",8],[\"Wednesday\",9],[\"Wednesday\",7],[\"Tuesday\",9],[\"Friday\",8],[\"Wednesday\",8],[\"Thursday\",7],[\"Monday\",7],[\"Sunday\",8],[\"Friday\",8],[\"Saturday\",9],[\"Thursday\",8],[\"Wednesday\",8],[\"Saturday\",7],[\"Wednesday\",7],[\"Monday\",8],[\"Sunday\",9],[\"Thursday\",9],[\"Sunday\",9],[\"Tuesday\",9],[\"Saturday\",9],[\"Friday\",7],[\"Friday\",9],[\"Thursday\",7],[\"Monday\",7],[\"Sunday\",7],[\"Monday\",7],[\"Saturday\",8],[\"Friday\",7],[\"Monday\",9],[\"Wednesday\",7],[\"Wednesday\",9],[\"Tuesday\",9],[\"Saturday\",7],[\"Monday\",7],[\"Tuesday\",9],[\"Sunday\",9],[\"Sunday\",7],[\"Monday\",9],[\"Friday\",7],[\"Sunday\",8],[\"Saturday\",9],[\"Friday\",8],[\"Thursday\",7],[\"Thursday\",8],[\"Wednesday\",7],[\"Wednesday\",9],[\"Saturday\",9],[\"Friday\",8],[\"Saturday\",8],[\"Monday\",8],[\"Saturday\",9],[\"Thursday\",7],[\"Thursday\",8],[\"Thursday\",9],[\"Sunday\",7],[\"Thursday\",9],[\"Saturday\",9],[\"Saturday\",9],[\"Wednesday\",9],[\"Monday\",8],[\"Tuesday\",9],[\"Saturday\",7],[\"Saturday\",7],[\"Thursday\",9],[\"Sunday\",7],[\"Sunday\",7],[\"Wednesday\",8],[\"Sunday\",7],[\"Wednesday\",7],[\"Thursday\",8],[\"Saturday\",8],[\"Saturday\",7],[\"Monday\",9],[\"Wednesday\",8],[\"Saturday\",9],[\"Monday\",8],[\"Tuesday\",8],[\"Monday\",9],[\"Sunday\",8],[\"Monday\",8],[\"Sunday\",9],[\"Wednesday\",9],[\"Sunday\",8],[\"Thursday\",7],[\"Tuesday\",8],[\"Wednesday\",9],[\"Wednesday\",8],[\"Friday\",7],[\"Tuesday\",7],[\"Wednesday\",8],[\"Monday\",7],[\"Saturday\",8],[\"Sunday\",7],[\"Tuesday\",7],[\"Wednesday\",7],[\"Thursday\",8],[\"Wednesday\",8],[\"Tuesday\",9],[\"Sunday\",9],[\"Saturday\",7],[\"Wednesday\",9],[\"Tuesday\",7],[\"Friday\",9],[\"Thursday\",8],[\"Saturday\",8],[\"Friday\",7],[\"Sunday\",9],[\"Tuesday\",9],[\"Saturday\",9],[\"Saturday\",8],[\"Friday\",8],[\"Wednesday\",9],[\"Thursday\",7],[\"Thursday\",9],[\"Monday\",8],[\"Saturday\",9],[\"Thursday\",9],[\"Wednesday\",9],[\"Wednesday\",7],[\"Sunday\",8],[\"Wednesday\",9],[\"Monday\",7],[\"Tuesday\",9],[\"Tuesday\",7],[\"Saturday\",9],[\"Thursday\",9],[\"Tuesday\",7],[\"Monday\",7],[\"Monday\",7],[\"Thursday\",8],[\"Thursday\",8],[\"Sunday\",7],[\"Tuesday\",9],[\"Saturday\",8],[\"Saturday\",8],[\"Tuesday\",8],[\"Wednesday\",7],[\"Sunday\",7],[\"Saturday\",8],[\"Friday\",8],[\"Sunday\",7],[\"Sunday\",9],[\"Monday\",8],[\"Tuesday\",7],[\"Saturday\",7],[\"Friday\",8],[\"Saturday\",9],[\"Sunday\",8],[\"Monday\",9],[\"Tuesday\",7],[\"Sunday\",9],[\"Friday\",7],[\"Monday\",8],[\"Tuesday\",9],[\"Monday\",9],[\"Saturday\",8],[\"Monday\",9],[\"Friday\",8],[\"Saturday\",9],[\"Monday\",7],[\"Saturday\",7],[\"Tuesday\",7],[\"Sunday\",9],[\"Tuesday\",7],[\"Monday\",9],[\"Wednesday\",9],[\"Monday\",9],[\"Tuesday\",7],[\"Friday\",9],[\"Wednesday\",7],[\"Thursday\",8],[\"Monday\",8],[\"Wednesday\",8],[\"Sunday\",8],[\"Wednesday\",8],[\"Wednesday\",9],[\"Thursday\",9],[\"Friday\",9],[\"Thursday\",8],[\"Friday\",9],[\"Tuesday\",9],[\"Monday\",9],[\"Tuesday\",7],[\"Monday\",7],[\"Monday\",7],[\"Wednesday\",7],[\"Monday\",9],[\"Wednesday\",9],[\"Wednesday\",7],[\"Sunday\",9],[\"Friday\",7],[\"Tuesday\",8],[\"Thursday\",8],[\"Monday\",7],[\"Thursday\",7],[\"Thursday\",9],[\"Friday\",7],[\"Sunday\",7],[\"Tuesday\",8],[\"Wednesday\",9],[\"Wednesday\",9],[\"Friday\",9],[\"Friday\",7],[\"Monday\",8],[\"Saturday\",9],[\"Monday\",7],[\"Wednesday\",8],[\"Sunday\",7],[\"Monday\",8],[\"Saturday\",9],[\"Sunday\",8],[\"Saturday\",7],[\"Tuesday\",7],[\"Saturday\",9],[\"Tuesday\",7],[\"Friday\",9],[\"Tuesday\",8],[\"Monday\",7],[\"Wednesday\",8],[\"Thursday\",8],[\"Tuesday\",8],[\"Sunday\",8],[\"Monday\",7],[\"Monday\",8],[\"Friday\",9],[\"Tuesday\",7],[\"Friday\",9],[\"Sunday\",8],[\"Wednesday\",7],[\"Friday\",8],[\"Friday\",9],[\"Saturday\",9],[\"Wednesday\",8],[\"Friday\",7],[\"Thursday\",7],[\"Thursday\",7],[\"Saturday\",9],[\"Wednesday\",7],[\"Saturday\",9],[\"Thursday\",7],[\"Saturday\",7],[\"Sunday\",9],[\"Monday\",8],[\"Sunday\",7],[\"Tuesday\",7],[\"Saturday\",7],[\"Wednesday\",9],[\"Sunday\",8],[\"Sunday\",9],[\"Saturday\",8],[\"Friday\",8],[\"Saturday\",8],[\"Wednesday\",9],[\"Monday\",7],[\"Saturday\",7],[\"Monday\",9],[\"Thursday\",7],[\"Monday\",8],[\"Friday\",9],[\"Sunday\",7],[\"Friday\",9],[\"Wednesday\",8],[\"Saturday\",9],[\"Monday\",7],[\"Saturday\",7],[\"Wednesday\",9],[\"Friday\",8],[\"Saturday\",7],[\"Friday\",8],[\"Thursday\",7],[\"Friday\",8],[\"Friday\",7],[\"Wednesday\",7],[\"Tuesday\",9],[\"Friday\",7],[\"Friday\",7],[\"Tuesday\",7],[\"Sunday\",8],[\"Monday\",7],[\"Wednesday\",8],[\"Sunday\",8],[\"Saturday\",9],[\"Sunday\",9],[\"Sunday\",7],[\"Wednesday\",9],[\"Saturday\",7],[\"Sunday\",9],[\"Monday\",9],[\"Monday\",7],[\"Tuesday\",8],[\"Monday\",7],[\"Monday\",8],[\"Sunday\",8],[\"Monday\",9],[\"Tuesday\",7],[\"Sunday\",9],[\"Monday\",9],[\"Friday\",8],[\"Friday\",8],[\"Wednesday\",8],[\"Thursday\",9],[\"Sunday\",9],[\"Friday\",9],[\"Saturday\",8],[\"Tuesday\",8],[\"Wednesday\",7],[\"Saturday\",8],[\"Saturday\",7],[\"Wednesday\",7],[\"Thursday\",8],[\"Friday\",7],[\"Thursday\",7],[\"Sunday\",9],[\"Wednesday\",9],[\"Sunday\",8],[\"Sunday\",9],[\"Saturday\",7],[\"Wednesday\",8],[\"Sunday\",7],[\"Monday\",9],[\"Saturday\",8],[\"Friday\",9],[\"Monday\",7],[\"Monday\",7],[\"Monday\",8],[\"Thursday\",7],[\"Sunday\",7],[\"Wednesday\",8],[\"Sunday\",9],[\"Monday\",9],[\"Wednesday\",9],[\"Wednesday\",8],[\"Monday\",9],[\"Tuesday\",8],[\"Tuesday\",7],[\"Sunday\",9],[\"Thursday\",7],[\"Thursday\",8],[\"Thursday\",8],[\"Tuesday\",8],[\"Sunday\",8],[\"Sunday\",9],[\"Monday\",9],[\"Wednesday\",9],[\"Tuesday\",8],[\"Monday\",7],[\"Sunday\",8],[\"Thursday\",8],[\"Wednesday\",8],[\"Monday\",9],[\"Friday\",7],[\"Wednesday\",9],[\"Friday\",7],[\"Monday\",9],[\"Friday\",9],[\"Tuesday\",7],[\"Sunday\",9],[\"Monday\",8],[\"Thursday\",9],[\"Friday\",8],[\"Wednesday\",8],[\"Monday\",9],[\"Wednesday\",8],[\"Wednesday\",9],[\"Monday\",9],[\"Monday\",8],[\"Thursday\",8],[\"Saturday\",7],[\"Monday\",9],[\"Wednesday\",9],[\"Monday\",7],[\"Monday\",7],[\"Monday\",8],[\"Wednesday\",8],[\"Friday\",7],[\"Saturday\",9],[\"Friday\",9],[\"Wednesday\",7],[\"Thursday\",8],[\"Wednesday\",9],[\"Saturday\",9],[\"Friday\",7],[\"Friday\",9],[\"Wednesday\",9],[\"Thursday\",7],[\"Tuesday\",7],[\"Sunday\",9],[\"Wednesday\",7],[\"Friday\",7],[\"Thursday\",7],[\"Friday\",7],[\"Tuesday\",9],[\"Sunday\",9],[\"Thursday\",8],[\"Monday\",9],[\"Tuesday\",7],[\"Sunday\",9],[\"Monday\",9],[\"Thursday\",7],[\"Tuesday\",8],[\"Thursday\",8],[\"Saturday\",9],[\"Monday\",7],[\"Thursday\",8],[\"Wednesday\",9],[\"Monday\",9],[\"Sunday\",8],[\"Saturday\",9],[\"Wednesday\",9],[\"Saturday\",9],[\"Saturday\",7],[\"Friday\",9],[\"Wednesday\",9],[\"Wednesday\",9],[\"Friday\",9],[\"Monday\",7],[\"Monday\",9],[\"Sunday\",7],[\"Wednesday\",7],[\"Monday\",7],[\"Friday\",8],[\"Thursday\",8],[\"Sunday\",7],[\"Monday\",8],[\"Sunday\",7],[\"Wednesday\",9],[\"Sunday\",8],[\"Saturday\",7],[\"Wednesday\",9],[\"Monday\",8],[\"Sunday\",8],[\"Thursday\",7],[\"Saturday\",9],[\"Tuesday\",8],[\"Sunday\",9],[\"Thursday\",9],[\"Tuesday\",9],[\"Monday\",9],[\"Tuesday\",8],[\"Thursday\",7],[\"Tuesday\",7],[\"Sunday\",9],[\"Tuesday\",9],[\"Wednesday\",7],[\"Friday\",7],[\"Saturday\",7],[\"Monday\",7],[\"Sunday\",8],[\"Friday\",9],[\"Saturday\",8],[\"Friday\",7],[\"Tuesday\",7],[\"Wednesday\",9],[\"Monday\",8],[\"Wednesday\",7],[\"Saturday\",7],[\"Sunday\",8],[\"Sunday\",9],[\"Monday\",8],[\"Wednesday\",7],[\"Thursday\",8],[\"Monday\",7],[\"Monday\",9],[\"Sunday\",8],[\"Friday\",8],[\"Monday\",8],[\"Friday\",7],[\"Wednesday\",9],[\"Wednesday\",7],[\"Monday\",8],[\"Wednesday\",8],[\"Thursday\",7],[\"Sunday\",9],[\"Sunday\",9],[\"Friday\",7],[\"Sunday\",7],[\"Wednesday\",9],[\"Wednesday\",8],[\"Friday\",7],[\"Sunday\",8],[\"Friday\",8],[\"Saturday\",7],[\"Wednesday\",8],[\"Friday\",8],[\"Monday\",9],[\"Monday\",9],[\"Thursday\",9],[\"Tuesday\",8],[\"Tuesday\",8],[\"Wednesday\",8],[\"Wednesday\",8],[\"Wednesday\",7],[\"Thursday\",9],[\"Wednesday\",9],[\"Monday\",9],[\"Tuesday\",8],[\"Thursday\",9],[\"Thursday\",7],[\"Saturday\",8],[\"Tuesday\",8],[\"Saturday\",9],[\"Wednesday\",7],[\"Friday\",8],[\"Tuesday\",7],[\"Wednesday\",8],[\"Tuesday\",7],[\"Monday\",8],[\"Sunday\",7],[\"Friday\",9],[\"Wednesday\",8],[\"Thursday\",8],[\"Thursday\",8],[\"Saturday\",7],[\"Wednesday\",7],[\"Monday\",7],[\"Sunday\",7],[\"Saturday\",9],[\"Friday\",8],[\"Tuesday\",7],[\"Saturday\",8],[\"Wednesday\",8],[\"Monday\",7],[\"Monday\",9],[\"Wednesday\",8],[\"Monday\",9],[\"Tuesday\",8],[\"Thursday\",9],[\"Saturday\",8],[\"Thursday\",7],[\"Wednesday\",7],[\"Wednesday\",7],[\"Saturday\",7],[\"Saturday\",7],[\"Tuesday\",9],[\"Saturday\",7],[\"Saturday\",7],[\"Thursday\",8],[\"Sunday\",7],[\"Thursday\",9],[\"Monday\",9],[\"Sunday\",9],[\"Wednesday\",8],[\"Thursday\",9],[\"Tuesday\",7],[\"Saturday\",9],[\"Saturday\",7],[\"Tuesday\",7],[\"Thursday\",9],[\"Saturday\",9],[\"Tuesday\",9],[\"Monday\",7],[\"Sunday\",9],[\"Friday\",7],[\"Sunday\",7],[\"Tuesday\",7],[\"Monday\",7],[\"Wednesday\",7],[\"Saturday\",9],[\"Monday\",7],[\"Thursday\",9],[\"Sunday\",9],[\"Thursday\",7],[\"Thursday\",9],[\"Thursday\",9],[\"Wednesday\",7],[\"Friday\",7],[\"Friday\",9],[\"Tuesday\",8],[\"Sunday\",7],[\"Friday\",8],[\"Wednesday\",9],[\"Friday\",9],[\"Monday\",7],[\"Monday\",8],[\"Friday\",8],[\"Monday\",7],[\"Monday\",9],[\"Thursday\",8],[\"Friday\",7],[\"Tuesday\",8],[\"Thursday\",7],[\"Friday\",8],[\"Monday\",7],[\"Friday\",9],[\"Tuesday\",9],[\"Friday\",8],[\"Sunday\",8],[\"Friday\",9],[\"Friday\",8],[\"Saturday\",9],[\"Wednesday\",8],[\"Friday\",8],[\"Monday\",9],[\"Sunday\",7],[\"Monday\",7],[\"Friday\",9],[\"Saturday\",8],[\"Monday\",8],[\"Friday\",7],[\"Friday\",9],[\"Sunday\",7],[\"Sunday\",7],[\"Thursday\",9],[\"Sunday\",8],[\"Monday\",7],[\"Saturday\",9],[\"Wednesday\",8],[\"Wednesday\",7],[\"Saturday\",8],[\"Sunday\",9],[\"Friday\",7],[\"Monday\",8],[\"Thursday\",9],[\"Wednesday\",7],[\"Saturday\",8],[\"Friday\",9],[\"Saturday\",7],[\"Saturday\",9],[\"Wednesday\",9],[\"Tuesday\",8],[\"Wednesday\",7],[\"Saturday\",8],[\"Wednesday\",9],[\"Sunday\",8],[\"Tuesday\",7],[\"Saturday\",8],[\"Wednesday\",8],[\"Wednesday\",8],[\"Wednesday\",9],[\"Saturday\",7],[\"Thursday\",8],[\"Sunday\",7],[\"Thursday\",8],[\"Tuesday\",8],[\"Wednesday\",9],[\"Wednesday\",8],[\"Wednesday\",7],[\"Tuesday\",7],[\"Saturday\",9],[\"Saturday\",9],[\"Tuesday\",9],[\"Tuesday\",9],[\"Saturday\",8],[\"Friday\",9],[\"Wednesday\",7],[\"Saturday\",9],[\"Tuesday\",9],[\"Sunday\",8],[\"Thursday\",7],[\"Wednesday\",8],[\"Thursday\",7],[\"Friday\",8],[\"Monday\",8],[\"Friday\",8],[\"Tuesday\",9],[\"Friday\",8],[\"Sunday\",7],[\"Monday\",7],[\"Monday\",8],[\"Thursday\",7],[\"Monday\",9],[\"Tuesday\",9],[\"Thursday\",8],[\"Tuesday\",8],[\"Monday\",8],[\"Sunday\",9],[\"Monday\",9],[\"Sunday\",9],[\"Monday\",8],[\"Monday\",9],[\"Sunday\",7],[\"Thursday\",9],[\"Tuesday\",9],[\"Sunday\",9],[\"Thursday\",9],[\"Tuesday\",9],[\"Friday\",8],[\"Wednesday\",8],[\"Tuesday\",8],[\"Tuesday\",7],[\"Friday\",8],[\"Monday\",9],[\"Thursday\",7]],\"hovertemplate\":\"season=Fall<br>temp=%{x}<br>Total_booking=%{y}<br>Hour=%{marker.size}<br>Weekday=%{customdata[0]}<br>Month=%{customdata[1]}<extra></extra>\",\"legendgroup\":\"Fall\",\"marker\":{\"color\":\"#EF553B\",\"size\":[4,13,17,4,4,20,23,17,10,22,17,17,9,7,0,12,19,4,10,18,7,15,16,19,5,0,7,22,5,19,8,0,0,12,17,6,10,15,17,19,16,16,1,5,6,1,16,4,11,16,23,2,23,2,17,5,16,17,14,0,8,17,10,15,19,8,1,1,10,23,20,5,12,4,15,4,10,23,20,8,12,15,3,8,11,11,15,22,9,5,18,5,8,13,5,6,20,12,11,2,14,21,12,11,2,5,3,1,14,6,12,11,1,11,22,17,6,9,2,20,6,1,6,10,22,14,9,12,1,16,12,23,7,20,13,3,18,18,5,21,0,16,18,3,21,8,0,8,7,9,11,14,8,11,6,8,10,19,4,13,3,18,3,11,7,9,23,12,14,8,0,0,17,4,23,21,21,8,2,16,8,8,18,0,13,4,13,14,3,19,17,13,20,23,15,0,13,15,13,0,1,17,2,12,13,13,11,20,12,0,16,18,17,20,4,15,7,13,20,10,0,6,0,17,18,17,3,12,16,22,23,6,22,16,21,2,0,18,0,23,6,5,7,11,5,0,6,17,17,17,23,22,21,5,12,8,7,11,8,19,19,0,23,2,16,10,7,22,9,7,6,14,6,14,9,16,23,19,14,10,5,14,0,1,19,14,2,8,21,3,21,23,18,16,7,4,16,22,17,6,8,3,6,4,5,8,4,7,16,23,10,5,10,5,11,6,18,0,23,3,10,21,14,2,15,10,5,9,12,10,5,0,20,2,22,3,13,8,3,18,12,17,5,21,10,16,18,19,14,17,18,20,2,8,0,12,11,7,18,2,9,16,0,14,14,18,22,18,18,7,14,8,18,1,14,14,10,7,9,15,0,16,16,7,18,13,18,12,16,11,20,9,13,5,8,6,18,12,13,16,19,11,23,15,0,20,16,4,15,3,2,9,18,9,8,8,17,16,8,6,14,10,13,11,16,18,15,15,8,22,3,5,12,3,7,18,19,19,14,12,3,1,4,8,7,15,18,23,2,8,9,6,2,17,2,12,5,9,14,8,21,1,17,15,5,22,5,2,13,14,12,8,12,5,4,16,8,5,23,15,13,6,20,21,22,21,22,3,11,4,13,7,23,6,15,23,6,4,10,17,7,8,0,16,23,10,20,12,10,22,20,8,0,0,17,0,14,17,18,23,21,8,0,21,4,13,3,14,11,20,8,3,9,5,6,11,14,1,5,20,7,10,2,10,12,21,16,21,13,19,18,5,9,15,2,14,15,23,14,12,17,23,19,4,22,23,20,18,14,12,18,3,20,17,19,11,17,4,19,9,2,19,3,3,20,8,7,18,12,10,13,19,1,13,1,7,18,21,17,9,21,10,21,10,12,6,21,8,9,21,18,2,7,9,13,2,5,22,4,23,0,1,9,11,14,5,0,18,13,15,5,10,14,21,0,18,16,16,5,20,18,9,20,23,7,3,4,20,12,17,3,6,16,2,14,23,1,8,14,9,20,23,17,8,18,0,15,12,15,12,15,1,0,19,12,9,20,23,1,14,23,6,16,21,1,2,13,20,22,3,7,6,22,13,9,18,9,17,4,21,18,13,12,5,2,10,15,21,17,12,0,21,7,9,22,19,16,23,20,3,10,6,3,17,13,20,11,11,5,6,18,19,22,11,22,3,2,15,8,18,15,21,23,9,1,23,1,23,13,14,15,10,2,13,9,4,13,0,4,2,18,17,16,9,17,5,9,15,12,1,4,1,17,8,14,13,7,2,20,15,8,16,8,15,17,17,11,8,18,11,0,0,8,16,21,10,7,19,18,1,13,11,19,17,19,3,20,20,3,9,21,22,15,21,9,13,22,11,15,6,18,3,1,18,19,21,16,10,1,9,5,22,3,16,12,12,0,15,10,3,20,7,12,5,11,9,11,16,2,23,10,18,22,1,4,3,23,17,18,10,16,11,16,11,2,9,6,20,9,5,18,16,2,14,1,5,2,18,3,10,19,12,21,19,1,4,3,6,13,2,23,4,21,16,4,0,13,7,12,13,20,7,15,11,13,20,3,2,12,22,6,2,13,0,16,11,3,3,15,21,3,12,23,3,17,14,21,8,11,7,14,5,4,17,9,14,23,8,6,13,15,20,12,13,20,1,8,7,17,20,21,6,19,17,11,12,18,1,15,5,13,1,0,14,21,1,6,11,9,7,10,5,9,22,3,3,2,22,10,13,20,7,10,11,14,20,2,18,6,21,15,1,23,12,17,13,3,14,15,6,7,20,19,16,16,9,17,18,6,23,7,5,18,4,7,15,9,12,3,22,23,11,16,19,14,21,18,19,13,16,23,17,4,20,6,18,4,13,9,10,20,18,14,1,21,12,13,17,21,1,1,13,9,11,5,4,22,21,1,17,7,4,23,18,15,13,22,13,23,13,17,22,2,4,2,4,12,6,4,21,7,2,22,11,4,22,16,11,19,18,23,12,9,15,2,3,15,11,23,7,7,9,3,13,19,4,6,3,16,19,7,13,22,12,22,14,3,16,13,18,23,22,19,5,16,18,21,5,11,9,2,10,14,2,10,14,19,5,21,23,20,12,1,9,22,0,23,15,17,0,10,9,6,15,10,19,17,16,19,10,6,14,18,17,6,16,2,6,4,20,22,5,18,0,13,21,20,21,3,6,5,3,21,7,15,19,12,13,7,23,6,12,6,20,9,9,7,23,6,23,1,21,10,4,15,17,18,20,3,22,8,6,3,10,2,5,12,17,18,4,20,4,11,12,15,2,3,7,17,7,13,22,6,20,13,14,11,14,23,6,15,15,16,17,1,21,23,5,10,4,21,23,14,5,23,7,18,15,21,19,3,7,8,14,1,10,7,8,3,17,15,20,12,11,0,5,22,19,12,2,8,20,17,20,2,9,22,13,21,16,20,23,0,20,19,15,1,3,11,18,9,9,9,1,8,18,15,1,2,17,16,15,22,11,21,18,2,8,15,1,15,5,7,19,9,7,19,22,15,0,0,7,1,22,3,11,9,2,2,14,19,23,18,9,23,5,9,0,15,21,9,22,14,5,23,3,11,18,21,7,1,9,7,10,20,19,7,7,9,22,13,6,3,12,10,4,22,20,11,17,13,10,14,19,0,6,15,7,10,3,4,2,19,8,2,12,8,13,16,4,15,5,6,16,4,1,14,2,5,16,22,8,22,12,17,7,0,6,11,17,20,23,21,0,12,8,8,22,6,8,3,7,14,12,9,21,9,6,3,9,21,15,2,5,23,23,10,2,18,21,14,14,3,1,12,6,15,12,10,5,22,3,23,12,11,11,3,15,0,15,13,18,19,4,6,2,22,13,4,9,18,1,21,6,19,22,8,7,22,3,19,9,10,10,16,20,8,21,6,16,18,1,10,22,14,15,7,0,19,17,5,1,2,22,9,1,1,9,16,16,3,17,1,4,0,6,16,19,10,11,19,11,8,7,18,9,16,2,9,13,19,6,8,13,16,0,15,7,11,10,14,4,1,6,3,14,3,5,0,5,21,15,4,20,0,3,14,4,17,16,19,4,7,0,23,14,23,0,15,20,10,5,16,18,18,16,14,20,12,16,16,4,0,23,22,16,2,22,14,17,12,20,23,5,13,5,22,15,3,15,7,1,2,6,16,11,0,16,0,9,23,8,17,18,20,10,11,14,9,13,7,23,5,20,9,11,13,10,22,11,17,4,5,6,4,7,1,23,0,7,19,15,16,3,4,9,20,23,13,12,2,10,3,3,4,10,1,0,5,13,14,11,1,18,10,20,6,14,17,19,10,8,17,20,21,8,18,14,3,7,4,3,2,12,15,9,13,17,7,16,5,20,11,18,11,0,11,9,17,22,3,22,4,21,8,12,12,17,22,4,23,9,21,5,11,12,11,5,19,3,1,9,12,21,22,2,11,9,1,11,20,22,6,8,18,9,16,18,23,22,0,10,10,4,13,0,12,2,6,0,7,20,16,1,3,23,23,12,10,4,18,1,11,8,13,19,19,18,10,4,17,12,13,3,11,19,19,17,19,9,20,21,9,16,2,22,11,5,11,1,11,15,23,12,7,18,22,2,11,18,14,23,14,18,11,0,4,5,2,16,19,15,19,0,15,17,10,17,9,10,15,4,20,21,7,7,3,17,5,16,22,5,21,5,23,15,20,13,8,21,21,23,19,6,7,8,4,5,6,6,23,14,4,0,15,14,2,17,6,20,9,20,2,8,0,14,6,16,21,21,1,0,4,23,7,3,6,20,0,9,18,10,2,9,8,3,22,21,10,5,6,9,7,0,13,22,4,2,6,14,17,14,10,15,0,7,3,23,21,15,12,21,6,20,4,9,19,9,5,16,10,2,11,10,18,10,20,1,1,19,11,10,12,5,0,5,2,23,20,14,3,14,8,11,6,4,9,8,15,21,22,15,16,10,17,12,8,6,21,1,5,7,0,11,22,11,21,16,10,9,7,6,6,10,11,18,8,20,11,12,19,4,10,3,8,20,17,17,11,15,10,15,12,11,15,2,23,19,3,22,0,12,22,10,2,13,22,5,13,13,3,0,13,9,6,5,22,1,13,7,12,23,18,20,0,2,13,15,12,12,2,3,2,5,15,21,13,14,5,4,11,9,8,10,7,19,2,1,19,14,10,13,18,4,19,21,5,19,17,23,5,20,2,3,0,15,16,2,22,18,11,7,8,22,6,3,14,15,23,16,17,20,3,5,21,12,13,1,2,13,12,12,2,23,10,2,10,4,3,4,11,15,8,4,17,11,1,1,17,8,21,22,19,17,19,1,1,6,14,17,6,4,22,4,18,8,6,5,21,19,3,14,23,20,10,11,1,16,12,23,23,23,7,12,4,10,2,21,2,5,20,8,16,9,4,14,23,19,16,10,3,17,9,16,6,19,15,13,20,6,2,13,9,17,4,16,22,19,16],\"sizemode\":\"area\",\"sizeref\":0.0575,\"symbol\":\"circle\"},\"mode\":\"markers\",\"name\":\"Fall\",\"showlegend\":true,\"x\":[28.7,30.34,33.62,21.32,27.06,24.6,22.96,36.9,27.88,29.52,31.16,31.98,31.98,28.7,28.7,26.24,32.8,20.5,22.96,31.16,26.24,32.8,32.8,26.24,26.24,27.06,20.5,27.88,26.24,30.34,27.06,18.86,29.52,22.96,27.06,25.42,32.8,30.34,22.14,22.14,27.06,33.62,26.24,26.24,28.7,27.06,29.52,26.24,29.52,30.34,30.34,27.88,27.06,21.32,31.16,27.06,27.88,30.34,35.26,27.06,27.88,37.72,32.8,22.14,31.16,32.8,29.52,27.88,27.88,29.52,29.52,27.06,27.06,28.7,32.8,28.7,28.7,30.34,29.52,18.86,31.98,29.52,25.42,22.96,31.98,30.34,29.52,31.16,31.98,24.6,29.52,27.88,22.14,28.7,28.7,22.14,32.8,31.98,29.52,28.7,26.24,27.88,36.9,33.62,19.68,28.7,27.06,28.7,33.62,28.7,32.8,27.06,27.06,31.98,33.62,31.98,25.42,27.06,26.24,29.52,25.42,21.32,26.24,29.52,19.68,36.08,33.62,36.08,31.98,35.26,31.16,23.78,26.24,31.16,31.98,26.24,29.52,27.06,28.7,31.16,18.86,29.52,21.32,26.24,27.06,27.88,30.34,28.7,27.88,28.7,31.16,36.9,31.16,35.26,28.7,25.42,31.98,25.42,29.52,32.8,27.06,27.06,22.14,31.16,29.52,25.42,26.24,28.7,24.6,27.06,27.06,24.6,30.34,29.52,24.6,30.34,27.06,28.7,27.06,32.8,32.8,30.34,32.8,22.14,29.52,29.52,37.72,36.9,25.42,32.8,19.68,35.26,31.16,28.7,37.72,28.7,29.52,35.26,32.8,28.7,29.52,30.34,26.24,32.8,28.7,28.7,25.42,31.98,31.98,22.96,29.52,29.52,30.34,26.24,29.52,28.7,30.34,35.26,31.16,32.8,27.88,28.7,27.88,27.06,28.7,28.7,27.06,30.34,31.16,33.62,28.7,26.24,27.06,30.34,26.24,26.24,30.34,36.9,24.6,28.7,28.7,24.6,28.7,33.62,26.24,25.42,27.88,32.8,31.16,33.62,25.42,29.52,28.7,28.7,27.06,28.7,24.6,29.52,29.52,30.34,29.52,27.88,25.42,29.52,37.72,26.24,28.7,23.78,29.52,30.34,24.6,31.98,25.42,32.8,23.78,27.88,29.52,33.62,31.98,32.8,30.34,33.62,27.06,28.7,22.96,30.34,21.32,29.52,22.96,25.42,28.7,22.14,27.88,27.06,27.88,28.7,37.72,28.7,30.34,27.88,28.7,28.7,26.24,26.24,25.42,26.24,30.34,22.14,34.44,22.96,28.7,25.42,33.62,29.52,30.34,27.88,31.16,27.06,27.06,25.42,30.34,27.06,33.62,28.7,23.78,35.26,24.6,29.52,34.44,27.06,21.32,27.06,30.34,28.7,27.88,21.32,35.26,28.7,27.06,36.9,34.44,32.8,15.58,34.44,37.72,33.62,33.62,31.16,30.34,31.98,31.16,25.42,26.24,26.24,26.24,32.8,25.42,26.24,31.16,26.24,28.7,34.44,17.22,34.44,31.98,29.52,28.7,36.08,31.16,22.96,29.52,32.8,22.14,25.42,37.72,35.26,30.34,29.52,27.06,33.62,25.42,36.9,30.34,25.42,31.16,36.08,35.26,32.8,31.16,32.8,25.42,33.62,32.8,27.88,25.42,22.96,31.98,36.9,31.16,22.14,32.8,28.7,27.06,26.24,29.52,27.06,28.7,27.88,31.16,26.24,27.06,27.88,33.62,32.8,27.06,31.16,37.72,32.8,27.88,26.24,31.16,27.88,33.62,34.44,28.7,36.9,33.62,30.34,31.98,30.34,27.06,28.7,36.08,27.06,21.32,27.88,29.52,27.06,36.9,29.52,27.06,22.14,21.32,31.16,29.52,35.26,32.8,26.24,28.7,29.52,30.34,18.86,33.62,35.26,25.42,31.16,26.24,28.7,32.8,26.24,28.7,27.06,34.44,30.34,26.24,26.24,27.06,26.24,26.24,33.62,30.34,17.22,30.34,27.06,21.32,34.44,27.06,27.06,27.06,34.44,34.44,26.24,21.32,29.52,28.7,27.06,29.52,27.06,23.78,24.6,33.62,25.42,26.24,24.6,29.52,18.86,26.24,25.42,30.34,32.8,30.34,30.34,26.24,26.24,28.7,31.16,30.34,30.34,36.9,29.52,26.24,25.42,27.06,31.16,33.62,28.7,33.62,31.16,32.8,27.88,27.88,28.7,27.88,25.42,27.06,27.88,26.24,32.8,34.44,30.34,27.06,27.06,30.34,24.6,27.88,27.06,33.62,27.06,25.42,35.26,26.24,28.7,27.88,28.7,33.62,27.06,24.6,29.52,33.62,31.98,28.7,26.24,27.88,33.62,27.88,31.16,31.98,19.68,33.62,27.88,34.44,29.52,26.24,20.5,27.06,31.16,36.9,28.7,31.98,31.98,31.98,26.24,22.14,31.16,31.16,32.8,31.98,27.06,36.08,28.7,26.24,30.34,26.24,31.16,34.44,24.6,20.5,33.62,26.24,28.7,28.7,27.88,25.42,38.54,26.24,21.32,26.24,27.06,28.7,24.6,26.24,32.8,29.52,22.96,31.98,24.6,31.16,31.16,31.16,28.7,30.34,24.6,27.06,28.7,36.9,27.06,28.7,26.24,27.06,29.52,28.7,28.7,31.98,31.16,33.62,23.78,21.32,29.52,32.8,32.8,27.88,27.06,29.52,24.6,27.06,29.52,35.26,32.8,24.6,31.16,32.8,30.34,27.06,27.88,31.16,30.34,27.06,24.6,31.16,32.8,25.42,27.06,31.16,29.52,27.88,31.98,22.14,30.34,37.72,32.8,28.7,29.52,32.8,30.34,31.98,26.24,30.34,27.88,31.98,21.32,34.44,28.7,28.7,32.8,30.34,22.14,35.26,22.96,28.7,31.16,27.88,24.6,28.7,33.62,21.32,27.06,30.34,31.98,27.88,28.7,31.98,29.52,27.06,32.8,31.98,27.06,28.7,31.16,27.88,28.7,28.7,22.14,34.44,22.96,23.78,20.5,27.06,26.24,31.16,27.06,29.52,26.24,27.88,27.06,29.52,30.34,22.96,26.24,27.88,29.52,29.52,28.7,28.7,29.52,22.14,30.34,26.24,31.16,20.5,20.5,27.06,30.34,24.6,22.14,27.06,27.88,26.24,27.88,29.52,36.9,32.8,31.98,25.42,31.16,27.88,31.98,24.6,28.7,32.8,35.26,36.08,31.98,22.14,37.72,30.34,24.6,35.26,21.32,22.96,28.7,29.52,31.16,32.8,29.52,28.7,28.7,27.88,26.24,30.34,28.7,28.7,31.16,35.26,28.7,25.42,32.8,27.06,30.34,28.7,26.24,25.42,30.34,29.52,34.44,32.8,35.26,30.34,29.52,31.16,35.26,31.16,30.34,28.7,31.16,30.34,29.52,25.42,29.52,31.16,31.16,31.16,31.16,35.26,31.16,28.7,32.8,32.8,22.14,28.7,27.88,25.42,27.06,34.44,30.34,29.52,31.16,33.62,29.52,31.16,26.24,38.54,23.78,27.06,31.98,31.16,26.24,37.72,31.16,26.24,27.06,30.34,29.52,18.04,30.34,32.8,30.34,28.7,30.34,26.24,27.06,27.06,23.78,31.16,27.06,31.16,27.88,33.62,34.44,31.16,28.7,31.16,33.62,29.52,28.7,27.06,20.5,28.7,21.32,34.44,35.26,32.8,34.44,24.6,30.34,21.32,27.88,18.86,27.06,30.34,20.5,32.8,31.98,27.06,39.36,27.88,27.06,24.6,25.42,28.7,25.42,30.34,31.16,24.6,27.06,30.34,31.16,27.06,22.96,34.44,28.7,29.52,25.42,30.34,29.52,26.24,27.88,26.24,27.06,39.36,24.6,28.7,24.6,30.34,27.88,24.6,30.34,27.88,29.52,26.24,28.7,27.06,18.86,30.34,26.24,36.9,31.16,26.24,28.7,34.44,30.34,25.42,31.16,29.52,27.06,32.8,31.16,28.7,32.8,32.8,28.7,28.7,27.06,26.24,24.6,24.6,35.26,22.14,22.14,28.7,32.8,29.52,27.06,34.44,27.88,31.98,31.16,27.06,24.6,37.72,31.16,29.52,27.88,28.7,33.62,28.7,23.78,22.96,27.06,32.8,28.7,21.32,31.16,28.7,29.52,31.16,23.78,21.32,31.98,30.34,27.06,33.62,23.78,19.68,28.7,28.7,22.14,30.34,28.7,30.34,39.36,29.52,28.7,27.88,30.34,36.9,26.24,27.06,35.26,28.7,33.62,24.6,27.88,31.98,31.98,32.8,32.8,23.78,28.7,34.44,25.42,28.7,21.32,31.16,21.32,35.26,35.26,28.7,33.62,22.14,29.52,27.06,27.88,28.7,26.24,24.6,30.34,27.06,27.06,27.88,24.6,27.06,32.8,34.44,26.24,32.8,29.52,31.16,27.06,35.26,32.8,26.24,37.72,26.24,29.52,25.42,31.16,25.42,31.98,18.86,35.26,24.6,31.16,34.44,27.88,30.34,35.26,31.98,32.8,18.86,28.7,21.32,35.26,25.42,32.8,26.24,27.06,22.96,30.34,28.7,33.62,26.24,16.4,28.7,31.16,31.16,31.16,27.06,31.98,29.52,32.8,26.24,28.7,27.06,26.24,24.6,26.24,32.8,25.42,26.24,28.7,26.24,18.04,28.7,26.24,27.88,25.42,30.34,36.08,28.7,34.44,28.7,33.62,27.06,36.9,22.14,25.42,31.16,31.16,27.88,29.52,27.06,29.52,27.88,27.06,30.34,26.24,26.24,26.24,27.88,23.78,30.34,30.34,27.88,31.98,29.52,29.52,26.24,22.14,31.98,31.16,22.14,30.34,30.34,26.24,29.52,23.78,30.34,29.52,30.34,29.52,25.42,33.62,38.54,29.52,28.7,24.6,31.98,27.88,29.52,26.24,31.16,34.44,25.42,29.52,22.14,25.42,22.96,32.8,30.34,22.14,28.7,31.16,24.6,34.44,31.16,25.42,34.44,31.16,31.16,25.42,30.34,35.26,30.34,28.7,27.88,32.8,28.7,29.52,27.88,33.62,29.52,22.96,28.7,22.14,33.62,30.34,30.34,29.52,24.6,29.52,24.6,29.52,33.62,27.06,34.44,28.7,32.8,38.54,27.88,27.88,26.24,32.8,25.42,25.42,29.52,30.34,27.06,27.88,26.24,26.24,22.14,26.24,28.7,22.14,27.06,30.34,32.8,23.78,26.24,23.78,26.24,27.88,28.7,20.5,28.7,26.24,37.72,30.34,33.62,25.42,31.16,30.34,36.9,31.16,33.62,28.7,27.88,26.24,21.32,27.06,32.8,32.8,24.6,30.34,32.8,35.26,28.7,26.24,24.6,29.52,32.8,36.9,35.26,29.52,24.6,36.08,26.24,23.78,27.88,26.24,30.34,22.96,33.62,23.78,28.7,30.34,30.34,31.16,31.98,34.44,29.52,27.88,29.52,33.62,22.96,20.5,25.42,27.06,22.14,35.26,37.72,30.34,31.16,30.34,24.6,24.6,25.42,32.8,27.06,27.88,25.42,27.06,33.62,28.7,28.7,30.34,29.52,32.8,24.6,33.62,32.8,27.06,27.88,29.52,21.32,37.72,28.7,26.24,33.62,35.26,33.62,31.16,27.06,30.34,26.24,21.32,32.8,30.34,25.42,31.98,34.44,36.08,25.42,31.16,22.96,31.16,28.7,25.42,33.62,25.42,25.42,27.06,27.06,27.06,31.16,26.24,27.06,30.34,32.8,29.52,28.7,28.7,25.42,22.96,27.06,27.06,31.16,27.06,22.14,36.08,29.52,27.88,31.16,28.7,27.88,18.86,26.24,26.24,31.16,28.7,28.7,28.7,30.34,24.6,32.8,29.52,34.44,34.44,29.52,28.7,22.14,26.24,27.06,32.8,30.34,26.24,25.42,31.16,27.06,22.96,26.24,29.52,27.06,31.16,30.34,28.7,31.16,28.7,27.88,24.6,26.24,30.34,35.26,27.06,29.52,24.6,32.8,27.06,29.52,29.52,26.24,25.42,32.8,26.24,30.34,30.34,25.42,33.62,33.62,25.42,27.88,31.16,27.06,41.0,29.52,28.7,32.8,31.98,28.7,33.62,22.14,26.24,31.16,33.62,33.62,26.24,28.7,26.24,31.98,33.62,33.62,22.14,34.44,27.06,32.8,22.96,28.7,27.06,25.42,28.7,24.6,28.7,35.26,27.06,25.42,22.14,31.16,23.78,20.5,29.52,29.52,36.08,26.24,27.88,32.8,28.7,27.06,27.06,31.16,27.88,29.52,27.06,21.32,28.7,30.34,26.24,36.9,34.44,25.42,29.52,27.88,25.42,28.7,31.16,33.62,31.16,29.52,39.36,27.88,32.8,34.44,35.26,34.44,28.7,26.24,25.42,25.42,29.52,24.6,33.62,33.62,28.7,30.34,26.24,29.52,30.34,26.24,28.7,30.34,29.52,27.88,28.7,25.42,32.8,27.88,27.06,30.34,29.52,27.06,30.34,32.8,26.24,29.52,28.7,32.8,35.26,28.7,27.06,22.14,31.16,27.88,27.06,30.34,28.7,28.7,29.52,28.7,31.16,29.52,27.06,28.7,22.96,24.6,27.06,24.6,27.06,32.8,27.88,35.26,29.52,31.98,32.8,30.34,31.98,25.42,28.7,26.24,24.6,34.44,31.98,25.42,27.06,27.88,31.16,33.62,30.34,35.26,26.24,32.8,30.34,31.16,20.5,18.86,26.24,25.42,33.62,25.42,25.42,27.06,25.42,27.06,24.6,28.7,31.16,29.52,26.24,27.88,24.6,34.44,26.24,32.8,31.98,27.06,27.06,27.06,36.08,27.06,31.98,30.34,28.7,25.42,24.6,33.62,22.96,26.24,35.26,29.52,29.52,28.7,37.72,36.9,22.96,32.8,26.24,26.24,33.62,26.24,27.06,36.9,32.8,37.72,29.52,30.34,18.86,29.52,30.34,20.5,36.9,24.6,32.8,29.52,27.06,27.06,22.14,22.14,35.26,27.88,31.16,30.34,26.24,29.52,25.42,30.34,23.78,35.26,28.7,27.06,30.34,22.14,33.62,25.42,18.04,28.7,29.52,31.98,31.16,31.16,36.9,23.78,29.52,36.08,27.88,27.06,31.98,26.24,27.06,26.24,29.52,29.52,28.7,30.34,32.8,34.44,29.52,20.5,30.34,25.42,32.8,34.44,27.88,27.88,33.62,20.5,27.88,23.78,32.8,24.6,28.7,18.04,35.26,30.34,24.6,22.96,28.7,29.52,28.7,27.06,30.34,28.7,26.24,29.52,21.32,29.52,27.06,28.7,24.6,26.24,30.34,27.88,27.06,27.06,30.34,22.96,24.6,37.72,23.78,28.7,31.16,28.7,35.26,29.52,18.86,34.44,33.62,30.34,22.96,29.52,25.42,32.8,28.7,18.86,30.34,26.24,34.44,30.34,32.8,26.24,39.36,30.34,18.86,30.34,25.42,32.8,27.06,31.98,34.44,30.34,26.24,31.98,24.6,22.96,32.8,28.7,24.6,29.52,25.42,20.5,24.6,31.98,28.7,33.62,30.34,27.88,31.98,26.24,29.52,36.08,25.42,28.7,30.34,29.52,29.52,24.6,26.24,26.24,30.34,33.62,29.52,24.6,27.88,26.24,22.96,35.26,29.52,16.4,29.52,25.42,31.16,30.34,27.88,29.52,25.42,31.16,27.88,31.16,33.62,31.16,32.8,33.62,22.96,27.06,28.7,37.72,26.24,31.16,31.16,28.7,30.34,30.34,29.52,29.52,30.34,19.68,26.24,28.7,31.98,34.44,26.24,26.24,27.88,33.62,31.98,24.6,35.26,27.06,31.98,26.24,25.42,27.06,35.26,36.9,31.98,33.62,33.62,29.52,28.7,30.34,26.24,27.06,25.42,30.34,29.52,31.16,28.7,33.62,23.78,29.52,27.88,31.98,32.8,36.9,26.24,29.52,28.7,27.06,27.06,22.96,34.44,27.06,31.16,31.16,27.06,27.06,26.24,27.06,36.9,28.7,27.88,22.14,20.5,30.34,30.34,29.52,24.6,30.34,22.96,24.6,21.32,25.42,20.5,20.5,32.8,18.04,27.06,29.52,32.8,28.7,27.06,25.42,26.24,22.14,29.52,27.06,33.62,27.06,28.7,27.88,31.98,28.7,27.88,29.52,30.34,25.42,27.88,26.24,21.32,25.42,28.7,26.24,24.6,29.52,31.16,22.14,31.16,28.7,29.52,28.7,22.96,26.24,26.24,19.68,30.34,18.86,21.32,32.8,31.98,27.06,28.7,26.24,32.8,31.16,24.6,32.8,21.32,25.42,24.6,30.34,27.06,26.24,25.42,27.06,30.34,20.5,31.16,27.88,27.06,25.42,29.52,27.06,36.9,31.16,28.7,33.62,32.8,26.24,30.34,29.52,27.06,26.24,31.16,21.32,26.24,29.52,20.5,29.52,29.52,29.52,23.78,24.6,38.54,27.88,30.34,30.34,30.34,25.42,25.42,29.52,32.8,31.98,27.06,28.7,32.8,27.06,29.52,32.8,35.26,27.06,26.24,27.06,30.34,26.24,29.52,28.7,24.6,27.88,31.16,31.16,34.44,28.7,27.06,28.7,25.42,28.7,31.16,32.8,31.98,28.7,31.16,30.34,32.8,25.42,27.06,27.06,27.88,27.06,30.34,32.8,32.8,28.7,29.52,25.42,33.62,29.52,36.9,27.88,27.88,22.14,30.34,25.42,32.8,27.88,35.26,29.52,30.34,16.4,32.8,30.34,27.88,31.16,36.9,27.88,31.16,30.34,30.34,27.06,28.7,29.52,28.7,24.6,26.24,25.42,29.52,29.52,29.52,27.06,27.06,32.8,31.16,30.34,22.14,26.24,26.24,26.24,31.98,30.34,22.96,30.34,34.44,24.6,29.52,32.8,30.34,29.52,27.06,22.14,31.16,28.7,27.06,31.98,39.36,33.62,35.26,29.52,25.42,34.44,26.24,21.32,29.52,26.24,23.78,26.24,35.26,25.42,29.52,33.62,32.8,31.16,22.96,31.16,34.44,27.88,28.7,28.7,27.06,30.34,28.7,30.34,35.26,30.34,29.52,28.7,25.42,25.42,22.14,31.16,28.7,32.8,26.24,21.32,35.26,34.44,21.32,27.88,26.24,31.16,25.42,31.16,25.42,25.42,25.42,34.44,22.96,30.34,26.24,30.34,28.7,25.42,27.88,29.52,27.88,32.8,25.42,37.72,29.52,30.34,26.24,26.24,28.7,33.62,33.62,29.52,29.52,30.34,26.24,29.52,27.06,27.06,25.42,31.16,32.8,24.6,33.62,31.16,31.16,27.06,21.32,20.5,30.34,32.8,25.42,28.7,27.06,22.14,30.34,25.42,32.8,27.06,27.88,27.06,27.06,23.78,27.88,32.8,30.34,24.6,35.26,25.42,24.6,32.8,28.7,29.52,29.52,26.24,22.96,24.6,27.88,35.26,28.7,30.34,23.78,29.52,32.8,26.24,32.8,28.7,36.9,29.52,22.96,32.8],\"xaxis\":\"x\",\"y\":[5,184,791,5,9,390,68,556,129,224,329,872,176,270,35,316,595,8,192,428,512,159,435,635,6,46,596,77,49,371,672,112,43,22,729,32,214,180,291,245,783,406,20,6,27,12,483,4,360,283,72,96,145,89,475,28,284,149,152,90,92,414,144,89,677,550,14,59,135,192,312,21,757,7,178,5,127,196,359,69,447,367,6,770,349,459,174,269,278,20,360,32,364,122,25,33,292,300,165,22,149,164,370,437,6,33,6,18,626,95,263,585,14,287,502,270,140,103,8,356,159,10,178,236,167,472,304,272,29,285,213,133,264,514,543,4,496,977,15,207,108,298,482,9,261,668,51,347,43,348,578,124,657,206,127,119,417,52,6,300,7,316,14,288,312,347,103,411,25,70,68,13,370,12,27,202,338,682,19,327,449,437,496,151,377,7,310,526,2,398,261,281,457,226,454,30,219,166,441,180,14,530,85,366,323,114,252,395,276,124,193,211,498,210,14,326,398,310,312,205,84,179,88,570,492,505,11,222,431,225,93,185,68,500,104,10,88,772,51,55,13,11,47,226,36,108,117,369,514,865,26,90,269,5,706,118,370,153,725,376,228,115,46,11,313,65,421,194,228,50,120,209,23,274,299,150,140,416,220,124,26,287,29,15,611,359,13,649,296,2,250,109,355,488,282,6,369,225,579,187,705,4,118,5,30,355,5,70,372,20,142,12,140,19,337,119,814,187,123,30,231,203,116,5,365,366,30,221,148,193,57,54,280,13,231,11,345,153,5,607,286,730,32,584,325,334,442,627,370,868,356,356,41,564,87,284,236,346,570,9,344,265,48,373,245,229,226,370,643,454,342,585,373,113,444,331,250,343,270,295,80,527,416,334,563,527,556,471,386,149,89,186,187,36,195,122,543,254,177,222,623,153,65,338,53,160,281,6,210,3,6,198,671,199,398,568,770,411,682,6,307,425,191,128,536,560,274,212,142,207,43,38,331,42,545,339,312,175,310,184,6,12,28,412,335,194,530,121,11,428,305,22,70,527,119,543,12,229,369,189,171,116,401,331,17,176,34,13,323,349,307,409,223,4,10,451,719,20,127,292,175,185,176,220,152,261,201,25,139,6,280,41,74,105,237,136,64,3,214,582,483,737,16,596,70,130,229,315,138,224,84,328,24,53,897,97,242,600,418,110,167,230,56,317,12,279,43,248,263,483,101,10,195,37,172,254,255,54,40,427,39,297,14,208,240,204,263,223,416,640,483,48,350,274,8,182,270,123,261,352,747,177,226,8,78,75,276,523,361,292,814,47,180,856,379,249,596,11,503,208,55,633,6,4,332,408,332,558,332,43,353,237,88,203,53,492,68,213,671,338,90,181,215,105,323,27,328,162,353,252,347,3,30,181,324,13,40,175,4,138,46,43,213,147,303,10,32,339,176,159,10,166,198,206,121,312,282,330,26,386,585,169,299,56,330,7,5,330,287,436,6,32,290,90,715,110,18,420,241,229,427,92,409,646,631,64,404,297,176,372,126,41,60,469,266,362,321,78,26,598,123,130,381,258,21,7,644,389,177,40,71,162,162,234,175,123,232,863,10,241,300,29,489,16,25,260,346,312,635,102,67,245,63,292,318,413,114,72,183,33,165,136,2,894,223,389,247,303,28,35,560,631,251,89,169,6,94,654,739,430,292,230,139,318,54,79,5,131,374,148,158,101,3,420,290,4,172,49,7,20,531,503,298,197,925,30,271,276,152,18,4,71,514,441,286,472,243,8,286,557,429,474,698,376,532,771,314,457,792,217,43,47,390,458,356,401,52,374,839,16,192,296,432,555,397,35,454,163,4,224,190,160,362,207,337,255,151,439,577,103,277,4,24,253,516,159,389,264,131,123,35,189,36,431,404,545,154,480,140,27,406,362,420,38,141,152,485,488,17,150,139,559,219,78,12,48,108,566,730,97,464,260,141,489,11,207,211,250,209,13,390,467,6,308,168,26,5,968,6,29,629,463,207,183,13,7,28,109,254,14,87,3,241,374,6,17,162,179,342,11,478,258,182,159,289,513,16,12,75,157,163,79,153,65,450,214,5,9,278,209,9,546,212,1,358,147,218,382,357,482,120,50,10,886,328,134,54,128,173,569,388,176,274,704,323,17,41,37,576,268,317,121,366,858,165,189,289,117,271,19,349,12,65,457,186,10,35,217,179,82,123,31,177,299,7,46,73,135,163,360,287,473,138,499,547,274,10,627,141,300,36,123,161,214,552,354,37,283,402,157,305,409,686,358,202,242,488,669,152,154,497,38,539,11,259,355,189,656,33,39,171,149,365,333,632,299,872,496,155,337,169,689,9,291,106,556,5,254,210,210,324,425,392,77,238,157,204,436,145,113,21,203,69,239,39,11,127,317,39,461,486,4,105,825,280,591,213,253,129,286,842,201,9,5,4,9,173,20,7,130,50,89,181,627,7,150,292,119,414,562,55,182,282,450,6,4,185,187,138,267,24,367,6,328,555,4,35,11,132,215,66,140,166,292,155,274,6,106,229,891,58,179,652,4,491,167,331,40,396,323,5,209,214,7,244,143,392,35,208,98,285,171,29,205,84,110,127,353,595,13,183,184,76,234,198,478,363,425,388,205,31,230,482,458,97,479,69,110,9,312,130,23,229,8,152,227,370,373,26,213,28,3,333,492,164,381,272,337,72,168,22,343,119,340,238,260,436,211,167,124,117,272,318,4,139,851,767,194,26,189,486,15,35,140,66,18,376,587,843,11,284,16,183,435,162,9,6,25,359,44,292,244,124,280,253,514,308,170,106,133,265,345,417,269,109,201,235,8,246,5,268,92,375,14,152,495,848,596,245,497,3,493,673,263,124,249,179,455,1,810,244,366,379,149,207,39,229,305,421,115,498,165,463,104,101,215,214,289,191,452,286,132,159,391,256,285,14,7,451,472,166,348,293,25,391,329,276,25,43,772,414,489,95,391,285,640,5,288,381,83,311,41,292,349,183,356,141,188,331,37,29,380,32,279,42,194,180,17,9,212,171,96,854,327,151,5,202,105,180,301,217,171,259,9,132,9,165,794,184,502,28,222,71,447,277,674,338,343,201,212,189,101,3,654,138,11,147,341,280,338,343,130,328,275,191,37,562,230,113,5,8,13,607,124,18,212,456,504,419,5,253,24,100,294,5,10,408,11,25,421,159,89,284,185,545,62,51,92,290,516,308,93,323,150,201,212,443,168,21,605,37,482,197,179,299,147,237,6,5,226,296,380,62,9,131,114,175,53,839,149,148,340,12,73,178,3,401,174,196,46,162,48,211,216,179,234,30,306,187,174,357,511,382,7,93,4,70,191,7,320,383,13,381,16,431,143,94,39,263,7,396,218,202,266,701,272,392,290,11,308,832,21,172,121,241,164,500,44,281,527,43,16,15,103,378,79,28,341,566,141,4,325,21,22,26,34,492,579,186,216,250,141,181,353,774,328,144,2,256,423,596,15,118,566,427,153,563,133,216,132,163,5,80,44,21,150,35,44,76,14,167,135,12,207,37,6,255,16,349,156,303,13,308,125,116,247,120,150,449,87,442,17,458,540,377,282,647,412,281,433,274,4,43,167,139,300,63,261,476,513,202,288,108,44,493,14,229,148,8,260,67,31,60,72,305,470,62,430,66,209,113,119,808,892,551,328,232,242,185,203,38,69,35,236,208,274,205,319,151,536,492,5,19,21,10,270,102,104,29,520,406,249,462,41,11,331,226,164,151,88,39,396,7,6,7,186,75,55,6,136,189,10,12,819,224,342,183,151,425,341,233,797,628,404,211,766,877,357,3,36,2,4,2,313,194,296,247,812,475,239,40,248,233,363,196,26,164,220,835,137,28,326,4,258,349,694,298,279,156,5,73,136,254,26,128,277,150,10,581,7,41,272,409,155,244,15,179,342,16,210,505,182,36,679,614,327,398,481,128,122,53,322,66,3,694,161,365,84,75,39,48,231,265,11,6,91,195,161,422,12,351,8,156,132,232,365,492,422,113,8,167,238,221,27,349,347,185,460,328,184,261,232,140,453,12,191,182,36,272,55,127,410,70,338,263,862,217,76,192,490,159,183,380,378,127,63,6,32,84,466,465,696,306,58,324,568,260,455,295,174,129,4,294,315,42,41,2,584,6,445,155,12,332,27,156,168,193,729,683,349,308,166,259,165,271,730,10,56,108,113,126,178,1,47,352,186,6,871,105,96,215,305,11,152,104,278,140,413,220,88,34,168,8,98,464,5,23,343,96,190,578,190,96,293,713,5,222,310,495,25,164,227,44,37,277,155,9,69,105,167,599,188,364,354,33,52,31,248,38,58,260,457,180,262,6,363,165,187,17,231,382,9,269,271,237,213,183,25,74,610,317,212,187,40,35,29,10,45,290,170,9,433,667,449,57,13,414,661,245,184,186,560,356,388,818,494,420,16,60,87,17,407,95,247,184,245,209,358,334,227,332,3,210,118,214,491,454,314,235,222,486,11,121,3,618,500,837,830,62,318,210,283,229,244,358,11,229,394,9,194,47,163,192,264,10,280,262,20,497,499,10,149,370,396,94,17,288,18,177,487,295,138,835,137,35,93,273,428,499,67,52,30,15,6,270,200,350,178,31,7,492,247,432,49,73,552,15,73,318,312,141,141,463,7,373,82,55,400,113,170,41,336,8,3,147,222,277,30,140,529,251,317,127,259,131,6,178,383,91,563,970,58,55,41,278,257,313,20,13,480,237,251,74,88,170,11,268,10,8,26,201,512,399,7,512,402,20,12,884,674,289,160,287,371,662,16,14,49,211,382,134,13,139,4,586,127,167,1,342,371,8,192,131,376,258,367,10,292,382,148,152,123,172,505,6,113,8,255,7,37,461,426,291,203,5,160,69,324,245,111,5,380,176,369,90,436,489,283,385,20,8,275,220,858,7,277,218,374,439],\"yaxis\":\"y\",\"type\":\"scattergl\"},{\"customdata\":[[\"Thursday\",1],[\"Sunday\",2],[\"Tuesday\",1],[\"Sunday\",3],[\"Thursday\",2],[\"Friday\",2],[\"Monday\",2],[\"Saturday\",1],[\"Thursday\",1],[\"Monday\",1],[\"Wednesday\",3],[\"Saturday\",2],[\"Monday\",1],[\"Tuesday\",3],[\"Tuesday\",2],[\"Wednesday\",2],[\"Monday\",3],[\"Friday\",1],[\"Saturday\",1],[\"Wednesday\",1],[\"Tuesday\",2],[\"Tuesday\",1],[\"Monday\",3],[\"Monday\",1],[\"Thursday\",3],[\"Sunday\",3],[\"Monday\",1],[\"Thursday\",2],[\"Sunday\",2],[\"Friday\",2],[\"Saturday\",3],[\"Sunday\",3],[\"Saturday\",3],[\"Saturday\",1],[\"Monday\",2],[\"Saturday\",1],[\"Thursday\",1],[\"Friday\",3],[\"Monday\",3],[\"Tuesday\",3],[\"Wednesday\",1],[\"Monday\",1],[\"Monday\",2],[\"Tuesday\",1],[\"Monday\",2],[\"Friday\",3],[\"Wednesday\",3],[\"Sunday\",2],[\"Monday\",2],[\"Saturday\",2],[\"Tuesday\",1],[\"Thursday\",2],[\"Wednesday\",1],[\"Thursday\",2],[\"Friday\",3],[\"Friday\",2],[\"Wednesday\",3],[\"Thursday\",3],[\"Wednesday\",1],[\"Saturday\",2],[\"Monday\",3],[\"Thursday\",2],[\"Sunday\",3],[\"Tuesday\",2],[\"Wednesday\",1],[\"Saturday\",3],[\"Saturday\",2],[\"Thursday\",2],[\"Saturday\",1],[\"Sunday\",1],[\"Monday\",1],[\"Thursday\",1],[\"Thursday\",2],[\"Sunday\",2],[\"Sunday\",1],[\"Wednesday\",3],[\"Tuesday\",3],[\"Friday\",2],[\"Monday\",1],[\"Friday\",3],[\"Friday\",2],[\"Tuesday\",1],[\"Thursday\",3],[\"Thursday\",2],[\"Friday\",1],[\"Tuesday\",2],[\"Tuesday\",2],[\"Sunday\",3],[\"Monday\",2],[\"Saturday\",1],[\"Monday\",3],[\"Friday\",3],[\"Sunday\",1],[\"Saturday\",1],[\"Tuesday\",2],[\"Friday\",3],[\"Friday\",3],[\"Wednesday\",2],[\"Thursday\",1],[\"Monday\",1],[\"Tuesday\",2],[\"Monday\",3],[\"Friday\",3],[\"Wednesday\",3],[\"Thursday\",3],[\"Wednesday\",1],[\"Wednesday\",2],[\"Thursday\",2],[\"Saturday\",1],[\"Saturday\",1],[\"Sunday\",1],[\"Sunday\",3],[\"Monday\",2],[\"Thursday\",2],[\"Tuesday\",1],[\"Sunday\",1],[\"Friday\",2],[\"Thursday\",3],[\"Friday\",2],[\"Saturday\",2],[\"Wednesday\",2],[\"Sunday\",3],[\"Sunday\",1],[\"Thursday\",2],[\"Wednesday\",2],[\"Saturday\",1],[\"Tuesday\",1],[\"Monday\",3],[\"Saturday\",1],[\"Sunday\",2],[\"Sunday\",1],[\"Tuesday\",1],[\"Monday\",3],[\"Sunday\",3],[\"Monday\",2],[\"Friday\",2],[\"Saturday\",3],[\"Sunday\",3],[\"Thursday\",3],[\"Tuesday\",1],[\"Wednesday\",3],[\"Sunday\",1],[\"Wednesday\",2],[\"Saturday\",3],[\"Thursday\",3],[\"Friday\",3],[\"Wednesday\",1],[\"Tuesday\",1],[\"Sunday\",2],[\"Thursday\",2],[\"Sunday\",3],[\"Saturday\",1],[\"Saturday\",1],[\"Saturday\",1],[\"Friday\",3],[\"Tuesday\",3],[\"Saturday\",3],[\"Tuesday\",2],[\"Saturday\",2],[\"Saturday\",1],[\"Thursday\",2],[\"Monday\",2],[\"Thursday\",2],[\"Thursday\",3],[\"Sunday\",2],[\"Friday\",3],[\"Saturday\",2],[\"Wednesday\",2],[\"Friday\",1],[\"Saturday\",2],[\"Sunday\",1],[\"Wednesday\",2],[\"Wednesday\",2],[\"Saturday\",2],[\"Thursday\",1],[\"Saturday\",1],[\"Thursday\",2],[\"Sunday\",1],[\"Sunday\",1],[\"Sunday\",3],[\"Monday\",2],[\"Tuesday\",1],[\"Sunday\",3],[\"Saturday\",1],[\"Friday\",3],[\"Sunday\",2],[\"Saturday\",3],[\"Wednesday\",3],[\"Tuesday\",2],[\"Monday\",2],[\"Sunday\",3],[\"Tuesday\",3],[\"Wednesday\",3],[\"Monday\",3],[\"Thursday\",1],[\"Saturday\",1],[\"Saturday\",3],[\"Monday\",3],[\"Wednesday\",2],[\"Monday\",1],[\"Monday\",3],[\"Saturday\",3],[\"Sunday\",2],[\"Wednesday\",2],[\"Saturday\",3],[\"Saturday\",2],[\"Friday\",1],[\"Wednesday\",1],[\"Wednesday\",3],[\"Monday\",2],[\"Saturday\",3],[\"Wednesday\",1],[\"Thursday\",1],[\"Saturday\",3],[\"Thursday\",1],[\"Tuesday\",1],[\"Friday\",1],[\"Wednesday\",1],[\"Sunday\",3],[\"Friday\",2],[\"Sunday\",3],[\"Thursday\",1],[\"Wednesday\",2],[\"Wednesday\",3],[\"Sunday\",1],[\"Tuesday\",2],[\"Wednesday\",3],[\"Monday\",3],[\"Sunday\",1],[\"Tuesday\",2],[\"Sunday\",2],[\"Wednesday\",3],[\"Wednesday\",2],[\"Sunday\",2],[\"Thursday\",1],[\"Tuesday\",3],[\"Wednesday\",2],[\"Tuesday\",1],[\"Thursday\",3],[\"Friday\",2],[\"Friday\",2],[\"Thursday\",1],[\"Thursday\",3],[\"Thursday\",3],[\"Friday\",2],[\"Sunday\",2],[\"Wednesday\",1],[\"Thursday\",1],[\"Saturday\",3],[\"Monday\",2],[\"Sunday\",1],[\"Tuesday\",3],[\"Saturday\",2],[\"Friday\",1],[\"Monday\",1],[\"Friday\",3],[\"Wednesday\",3],[\"Monday\",2],[\"Wednesday\",1],[\"Monday\",1],[\"Friday\",2],[\"Sunday\",2],[\"Saturday\",2],[\"Friday\",2],[\"Wednesday\",1],[\"Tuesday\",3],[\"Friday\",1],[\"Thursday\",2],[\"Friday\",3],[\"Wednesday\",3],[\"Monday\",2],[\"Saturday\",2],[\"Thursday\",2],[\"Thursday\",3],[\"Saturday\",1],[\"Monday\",1],[\"Friday\",2],[\"Sunday\",3],[\"Saturday\",3],[\"Thursday\",1],[\"Monday\",1],[\"Monday\",1],[\"Thursday\",3],[\"Friday\",3],[\"Saturday\",2],[\"Sunday\",3],[\"Friday\",1],[\"Friday\",3],[\"Thursday\",3],[\"Wednesday\",3],[\"Sunday\",1],[\"Saturday\",1],[\"Tuesday\",2],[\"Wednesday\",1],[\"Saturday\",1],[\"Monday\",3],[\"Wednesday\",1],[\"Sunday\",2],[\"Saturday\",1],[\"Saturday\",2],[\"Saturday\",2],[\"Friday\",3],[\"Monday\",1],[\"Wednesday\",2],[\"Saturday\",3],[\"Friday\",2],[\"Saturday\",1],[\"Thursday\",3],[\"Saturday\",2],[\"Tuesday\",3],[\"Tuesday\",1],[\"Monday\",1],[\"Wednesday\",1],[\"Tuesday\",1],[\"Wednesday\",2],[\"Friday\",2],[\"Thursday\",2],[\"Friday\",2],[\"Monday\",3],[\"Wednesday\",2],[\"Tuesday\",3],[\"Saturday\",3],[\"Thursday\",2],[\"Wednesday\",1],[\"Saturday\",2],[\"Sunday\",2],[\"Thursday\",3],[\"Thursday\",3],[\"Friday\",1],[\"Monday\",1],[\"Saturday\",3],[\"Saturday\",3],[\"Thursday\",3],[\"Saturday\",1],[\"Wednesday\",2],[\"Friday\",3],[\"Thursday\",1],[\"Monday\",1],[\"Tuesday\",2],[\"Saturday\",1],[\"Thursday\",2],[\"Saturday\",3],[\"Thursday\",2],[\"Tuesday\",2],[\"Saturday\",2],[\"Monday\",3],[\"Saturday\",1],[\"Tuesday\",1],[\"Wednesday\",2],[\"Thursday\",2],[\"Friday\",1],[\"Friday\",3],[\"Thursday\",1],[\"Tuesday\",3],[\"Tuesday\",3],[\"Thursday\",3],[\"Sunday\",1],[\"Saturday\",2],[\"Saturday\",3],[\"Friday\",3],[\"Tuesday\",2],[\"Wednesday\",3],[\"Friday\",3],[\"Saturday\",2],[\"Friday\",3],[\"Tuesday\",3],[\"Thursday\",2],[\"Saturday\",1],[\"Friday\",3],[\"Sunday\",2],[\"Wednesday\",3],[\"Wednesday\",2],[\"Monday\",3],[\"Sunday\",2],[\"Tuesday\",1],[\"Monday\",3],[\"Sunday\",3],[\"Thursday\",2],[\"Friday\",1],[\"Wednesday\",3],[\"Sunday\",3],[\"Friday\",1],[\"Saturday\",1],[\"Tuesday\",1],[\"Sunday\",3],[\"Wednesday\",2],[\"Tuesday\",1],[\"Wednesday\",2],[\"Monday\",1],[\"Monday\",3],[\"Tuesday\",1],[\"Monday\",1],[\"Wednesday\",1],[\"Tuesday\",2],[\"Wednesday\",3],[\"Monday\",3],[\"Saturday\",3],[\"Saturday\",2],[\"Wednesday\",3],[\"Monday\",1],[\"Saturday\",2],[\"Saturday\",3],[\"Thursday\",2],[\"Sunday\",3],[\"Saturday\",2],[\"Sunday\",3],[\"Tuesday\",1],[\"Friday\",3],[\"Monday\",1],[\"Sunday\",3],[\"Sunday\",1],[\"Friday\",2],[\"Monday\",2],[\"Wednesday\",3],[\"Friday\",3],[\"Sunday\",2],[\"Sunday\",2],[\"Monday\",3],[\"Sunday\",2],[\"Friday\",3],[\"Sunday\",2],[\"Friday\",1],[\"Monday\",1],[\"Tuesday\",2],[\"Wednesday\",2],[\"Saturday\",1],[\"Friday\",2],[\"Wednesday\",3],[\"Saturday\",1],[\"Tuesday\",2],[\"Saturday\",2],[\"Wednesday\",2],[\"Sunday\",3],[\"Friday\",1],[\"Tuesday\",3],[\"Thursday\",3],[\"Saturday\",1],[\"Saturday\",2],[\"Wednesday\",2],[\"Saturday\",2],[\"Monday\",2],[\"Monday\",1],[\"Sunday\",3],[\"Monday\",3],[\"Thursday\",3],[\"Monday\",2],[\"Thursday\",1],[\"Thursday\",3],[\"Monday\",1],[\"Sunday\",2],[\"Tuesday\",3],[\"Wednesday\",1],[\"Thursday\",2],[\"Thursday\",3],[\"Thursday\",3],[\"Tuesday\",1],[\"Monday\",3],[\"Saturday\",2],[\"Wednesday\",3],[\"Saturday\",3],[\"Sunday\",1],[\"Sunday\",3],[\"Friday\",3],[\"Saturday\",1],[\"Tuesday\",2],[\"Monday\",1],[\"Thursday\",2],[\"Monday\",2],[\"Sunday\",1],[\"Wednesday\",1],[\"Sunday\",3],[\"Sunday\",3],[\"Wednesday\",1],[\"Friday\",2],[\"Thursday\",3],[\"Sunday\",1],[\"Thursday\",3],[\"Saturday\",3],[\"Tuesday\",3],[\"Wednesday\",1],[\"Saturday\",3],[\"Saturday\",3],[\"Thursday\",3],[\"Wednesday\",2],[\"Saturday\",2],[\"Wednesday\",2],[\"Friday\",2],[\"Friday\",3],[\"Sunday\",2],[\"Wednesday\",1],[\"Sunday\",3],[\"Thursday\",2],[\"Tuesday\",2],[\"Wednesday\",1],[\"Wednesday\",1],[\"Wednesday\",3],[\"Monday\",3],[\"Saturday\",3],[\"Sunday\",3],[\"Sunday\",2],[\"Monday\",1],[\"Sunday\",3],[\"Wednesday\",2],[\"Sunday\",3],[\"Tuesday\",1],[\"Friday\",1],[\"Sunday\",2],[\"Monday\",3],[\"Friday\",3],[\"Friday\",2],[\"Monday\",3],[\"Monday\",3],[\"Sunday\",3],[\"Wednesday\",2],[\"Friday\",3],[\"Sunday\",1],[\"Saturday\",3],[\"Saturday\",1],[\"Tuesday\",3],[\"Tuesday\",1],[\"Friday\",1],[\"Thursday\",2],[\"Friday\",2],[\"Friday\",3],[\"Friday\",3],[\"Thursday\",3],[\"Sunday\",1],[\"Tuesday\",3],[\"Thursday\",3],[\"Thursday\",2],[\"Sunday\",3],[\"Tuesday\",3],[\"Saturday\",1],[\"Saturday\",2],[\"Saturday\",2],[\"Thursday\",3],[\"Thursday\",3],[\"Sunday\",3],[\"Saturday\",1],[\"Friday\",2],[\"Thursday\",3],[\"Monday\",1],[\"Thursday\",3],[\"Friday\",2],[\"Wednesday\",2],[\"Sunday\",1],[\"Thursday\",2],[\"Monday\",3],[\"Wednesday\",1],[\"Tuesday\",2],[\"Thursday\",3],[\"Tuesday\",1],[\"Monday\",1],[\"Thursday\",3],[\"Friday\",1],[\"Thursday\",3],[\"Friday\",2],[\"Monday\",3],[\"Wednesday\",1],[\"Saturday\",3],[\"Saturday\",1],[\"Sunday\",3],[\"Friday\",2],[\"Wednesday\",1],[\"Thursday\",2],[\"Wednesday\",2],[\"Sunday\",2],[\"Friday\",3],[\"Thursday\",1],[\"Friday\",2],[\"Friday\",3],[\"Monday\",2],[\"Sunday\",1],[\"Thursday\",1],[\"Wednesday\",2],[\"Tuesday\",2],[\"Sunday\",3],[\"Sunday\",1],[\"Thursday\",2],[\"Friday\",1],[\"Wednesday\",1],[\"Tuesday\",2],[\"Friday\",1],[\"Saturday\",1],[\"Monday\",1],[\"Friday\",2],[\"Sunday\",3],[\"Sunday\",2],[\"Friday\",2],[\"Tuesday\",3],[\"Sunday\",1],[\"Friday\",3],[\"Saturday\",2],[\"Wednesday\",2],[\"Wednesday\",1],[\"Tuesday\",3],[\"Monday\",2],[\"Saturday\",3],[\"Wednesday\",2],[\"Wednesday\",3],[\"Friday\",2],[\"Sunday\",3],[\"Friday\",2],[\"Monday\",2],[\"Saturday\",1],[\"Tuesday\",1],[\"Tuesday\",2],[\"Friday\",1],[\"Saturday\",3],[\"Thursday\",1],[\"Monday\",2],[\"Friday\",3],[\"Sunday\",3],[\"Saturday\",1],[\"Wednesday\",3],[\"Wednesday\",1],[\"Monday\",2],[\"Thursday\",2],[\"Sunday\",3],[\"Wednesday\",2],[\"Wednesday\",1],[\"Wednesday\",1],[\"Thursday\",3],[\"Monday\",3],[\"Thursday\",3],[\"Friday\",3],[\"Tuesday\",1],[\"Monday\",1],[\"Sunday\",2],[\"Tuesday\",2],[\"Saturday\",1],[\"Sunday\",1],[\"Wednesday\",2],[\"Monday\",1],[\"Friday\",1],[\"Saturday\",3],[\"Tuesday\",1],[\"Monday\",3],[\"Thursday\",1],[\"Wednesday\",3],[\"Thursday\",3],[\"Thursday\",2],[\"Sunday\",1],[\"Sunday\",1],[\"Tuesday\",3],[\"Thursday\",3],[\"Saturday\",3],[\"Thursday\",3],[\"Wednesday\",1],[\"Tuesday\",3],[\"Thursday\",1],[\"Monday\",3],[\"Friday\",2],[\"Tuesday\",3],[\"Saturday\",3],[\"Thursday\",2],[\"Sunday\",1],[\"Saturday\",3],[\"Saturday\",1],[\"Tuesday\",1],[\"Friday\",2],[\"Sunday\",3],[\"Monday\",1],[\"Monday\",3],[\"Wednesday\",3],[\"Thursday\",3],[\"Saturday\",3],[\"Saturday\",2],[\"Friday\",2],[\"Wednesday\",2],[\"Saturday\",1],[\"Tuesday\",1],[\"Friday\",1],[\"Monday\",1],[\"Monday\",1],[\"Tuesday\",3],[\"Tuesday\",1],[\"Saturday\",3],[\"Tuesday\",2],[\"Sunday\",3],[\"Saturday\",2],[\"Wednesday\",2],[\"Friday\",1],[\"Tuesday\",1],[\"Wednesday\",1],[\"Wednesday\",2],[\"Sunday\",1],[\"Saturday\",2],[\"Sunday\",1],[\"Tuesday\",3],[\"Wednesday\",1],[\"Wednesday\",3],[\"Friday\",2],[\"Tuesday\",1],[\"Sunday\",2],[\"Tuesday\",1],[\"Monday\",2],[\"Saturday\",3],[\"Tuesday\",2],[\"Monday\",2],[\"Thursday\",1],[\"Sunday\",1],[\"Monday\",3],[\"Saturday\",3],[\"Saturday\",3],[\"Friday\",2],[\"Sunday\",2],[\"Thursday\",2],[\"Sunday\",1],[\"Wednesday\",1],[\"Sunday\",2],[\"Sunday\",3],[\"Friday\",3],[\"Tuesday\",2],[\"Thursday\",1],[\"Tuesday\",3],[\"Friday\",2],[\"Friday\",1],[\"Thursday\",2],[\"Friday\",2],[\"Saturday\",1],[\"Saturday\",3],[\"Thursday\",1],[\"Monday\",3],[\"Thursday\",3],[\"Friday\",2],[\"Wednesday\",2],[\"Friday\",3],[\"Monday\",1],[\"Friday\",2],[\"Tuesday\",3],[\"Sunday\",1],[\"Saturday\",1],[\"Friday\",3],[\"Tuesday\",3],[\"Sunday\",1],[\"Monday\",1],[\"Monday\",1],[\"Thursday\",3],[\"Tuesday\",2],[\"Sunday\",3],[\"Friday\",2],[\"Wednesday\",3],[\"Friday\",1],[\"Friday\",2],[\"Thursday\",2],[\"Saturday\",1],[\"Thursday\",3],[\"Monday\",3],[\"Sunday\",2],[\"Wednesday\",2],[\"Thursday\",1],[\"Friday\",3],[\"Thursday\",2],[\"Sunday\",1],[\"Sunday\",3],[\"Sunday\",2],[\"Wednesday\",1],[\"Sunday\",3],[\"Saturday\",2],[\"Monday\",1],[\"Thursday\",3],[\"Monday\",1],[\"Friday\",2],[\"Tuesday\",2],[\"Wednesday\",1],[\"Friday\",3],[\"Wednesday\",3],[\"Saturday\",2],[\"Thursday\",2],[\"Tuesday\",1],[\"Sunday\",2],[\"Thursday\",3],[\"Tuesday\",2],[\"Thursday\",1],[\"Tuesday\",1],[\"Sunday\",2],[\"Thursday\",1],[\"Monday\",2],[\"Friday\",2],[\"Wednesday\",3],[\"Saturday\",3],[\"Tuesday\",1],[\"Wednesday\",2],[\"Friday\",2],[\"Friday\",1],[\"Sunday\",2],[\"Monday\",2],[\"Tuesday\",3],[\"Tuesday\",1],[\"Thursday\",1],[\"Wednesday\",1],[\"Monday\",1],[\"Thursday\",3],[\"Tuesday\",3],[\"Wednesday\",1],[\"Friday\",1],[\"Wednesday\",3],[\"Sunday\",2],[\"Saturday\",2],[\"Sunday\",3],[\"Friday\",3],[\"Friday\",3],[\"Sunday\",2],[\"Saturday\",3],[\"Saturday\",3],[\"Thursday\",3],[\"Tuesday\",1],[\"Wednesday\",1],[\"Saturday\",2],[\"Sunday\",1],[\"Friday\",3],[\"Friday\",2],[\"Thursday\",3],[\"Friday\",3],[\"Sunday\",1],[\"Saturday\",2],[\"Wednesday\",1],[\"Saturday\",3],[\"Friday\",2],[\"Thursday\",1],[\"Saturday\",2],[\"Sunday\",2],[\"Wednesday\",3],[\"Wednesday\",3],[\"Tuesday\",1],[\"Sunday\",2],[\"Friday\",2],[\"Thursday\",3],[\"Sunday\",1],[\"Thursday\",2],[\"Wednesday\",1],[\"Sunday\",2],[\"Wednesday\",2],[\"Tuesday\",3],[\"Monday\",3],[\"Monday\",3],[\"Tuesday\",3],[\"Thursday\",1],[\"Monday\",1],[\"Tuesday\",3],[\"Friday\",2],[\"Friday\",1],[\"Friday\",1],[\"Sunday\",3],[\"Sunday\",1],[\"Wednesday\",1],[\"Monday\",2],[\"Wednesday\",3],[\"Thursday\",2],[\"Monday\",1],[\"Sunday\",1],[\"Monday\",2],[\"Wednesday\",2],[\"Monday\",2],[\"Thursday\",1],[\"Monday\",3],[\"Wednesday\",2],[\"Saturday\",3],[\"Tuesday\",1],[\"Wednesday\",2],[\"Sunday\",2],[\"Thursday\",3],[\"Friday\",2],[\"Sunday\",3],[\"Saturday\",3],[\"Sunday\",1],[\"Wednesday\",1],[\"Wednesday\",1],[\"Wednesday\",1],[\"Wednesday\",2],[\"Wednesday\",3],[\"Thursday\",2],[\"Monday\",1],[\"Thursday\",1],[\"Sunday\",1],[\"Monday\",1],[\"Friday\",2],[\"Sunday\",3],[\"Saturday\",1],[\"Wednesday\",3],[\"Thursday\",2],[\"Thursday\",3],[\"Tuesday\",3],[\"Wednesday\",2],[\"Thursday\",2],[\"Sunday\",3],[\"Monday\",3],[\"Saturday\",1],[\"Saturday\",1],[\"Thursday\",2],[\"Friday\",2],[\"Monday\",2],[\"Thursday\",1],[\"Wednesday\",1],[\"Thursday\",1],[\"Thursday\",3],[\"Saturday\",3],[\"Monday\",3],[\"Friday\",2],[\"Monday\",1],[\"Monday\",3],[\"Monday\",1],[\"Monday\",2],[\"Thursday\",3],[\"Tuesday\",1],[\"Friday\",1],[\"Friday\",3],[\"Tuesday\",1],[\"Friday\",1],[\"Sunday\",1],[\"Monday\",2],[\"Friday\",3],[\"Sunday\",3],[\"Friday\",3],[\"Friday\",2],[\"Sunday\",3],[\"Friday\",3],[\"Saturday\",1],[\"Wednesday\",3],[\"Thursday\",3],[\"Monday\",2],[\"Wednesday\",3],[\"Wednesday\",1],[\"Friday\",2],[\"Monday\",1],[\"Monday\",2],[\"Monday\",3],[\"Thursday\",2],[\"Monday\",2],[\"Friday\",2],[\"Friday\",1],[\"Tuesday\",2],[\"Friday\",3],[\"Saturday\",3],[\"Sunday\",1],[\"Monday\",3],[\"Wednesday\",3],[\"Thursday\",2],[\"Thursday\",3],[\"Monday\",3],[\"Saturday\",3],[\"Monday\",3],[\"Sunday\",2],[\"Thursday\",3],[\"Tuesday\",3],[\"Friday\",2],[\"Tuesday\",2],[\"Wednesday\",3],[\"Monday\",1],[\"Tuesday\",1],[\"Wednesday\",1],[\"Monday\",2],[\"Thursday\",3],[\"Thursday\",2],[\"Monday\",1],[\"Sunday\",3],[\"Saturday\",3],[\"Wednesday\",1],[\"Saturday\",3],[\"Saturday\",3],[\"Saturday\",2],[\"Sunday\",2],[\"Tuesday\",3],[\"Thursday\",2],[\"Monday\",2],[\"Thursday\",1],[\"Monday\",2],[\"Wednesday\",1],[\"Tuesday\",1],[\"Sunday\",3],[\"Thursday\",3],[\"Monday\",1],[\"Tuesday\",2],[\"Thursday\",2],[\"Thursday\",1],[\"Monday\",1],[\"Monday\",2],[\"Wednesday\",2],[\"Thursday\",2],[\"Saturday\",3],[\"Wednesday\",2],[\"Friday\",1],[\"Thursday\",3],[\"Sunday\",2],[\"Monday\",2],[\"Thursday\",3],[\"Wednesday\",2],[\"Sunday\",1],[\"Thursday\",3],[\"Monday\",3],[\"Thursday\",1],[\"Monday\",1],[\"Wednesday\",1],[\"Sunday\",3],[\"Saturday\",2],[\"Wednesday\",3],[\"Monday\",3],[\"Monday\",1],[\"Wednesday\",2],[\"Tuesday\",3],[\"Saturday\",2],[\"Thursday\",3],[\"Sunday\",2],[\"Friday\",2],[\"Sunday\",1],[\"Saturday\",2],[\"Friday\",2],[\"Wednesday\",3],[\"Wednesday\",2],[\"Thursday\",1],[\"Saturday\",1],[\"Tuesday\",2],[\"Thursday\",3],[\"Wednesday\",3],[\"Monday\",3],[\"Sunday\",1],[\"Wednesday\",3],[\"Monday\",3],[\"Wednesday\",1],[\"Saturday\",1],[\"Wednesday\",2],[\"Wednesday\",1],[\"Thursday\",1],[\"Saturday\",3],[\"Sunday\",2],[\"Tuesday\",2],[\"Wednesday\",1],[\"Wednesday\",2],[\"Thursday\",3],[\"Saturday\",3],[\"Tuesday\",3],[\"Thursday\",2],[\"Wednesday\",1],[\"Saturday\",1],[\"Sunday\",1],[\"Saturday\",1],[\"Monday\",2],[\"Wednesday\",2],[\"Wednesday\",2],[\"Thursday\",3],[\"Thursday\",2],[\"Monday\",3],[\"Friday\",3],[\"Wednesday\",1],[\"Tuesday\",1],[\"Monday\",2],[\"Sunday\",2],[\"Wednesday\",2],[\"Tuesday\",3],[\"Tuesday\",2],[\"Thursday\",3],[\"Saturday\",1],[\"Wednesday\",2],[\"Thursday\",3],[\"Sunday\",2],[\"Wednesday\",1],[\"Sunday\",1],[\"Tuesday\",1],[\"Wednesday\",3],[\"Tuesday\",1],[\"Saturday\",2],[\"Sunday\",1],[\"Thursday\",2],[\"Tuesday\",3],[\"Tuesday\",3],[\"Friday\",2],[\"Sunday\",1],[\"Sunday\",3],[\"Sunday\",2],[\"Friday\",3],[\"Tuesday\",1],[\"Tuesday\",1],[\"Tuesday\",1],[\"Sunday\",1],[\"Tuesday\",1],[\"Sunday\",3],[\"Tuesday\",1],[\"Saturday\",1],[\"Monday\",2],[\"Monday\",1],[\"Tuesday\",3],[\"Sunday\",2],[\"Thursday\",1],[\"Monday\",1],[\"Saturday\",3],[\"Tuesday\",2],[\"Friday\",3],[\"Sunday\",1],[\"Friday\",1],[\"Sunday\",3],[\"Thursday\",3],[\"Sunday\",1],[\"Saturday\",1],[\"Saturday\",1],[\"Friday\",2],[\"Thursday\",2],[\"Saturday\",3],[\"Saturday\",3],[\"Saturday\",3],[\"Monday\",1],[\"Thursday\",3],[\"Wednesday\",1],[\"Tuesday\",1],[\"Sunday\",3],[\"Thursday\",1],[\"Friday\",3],[\"Friday\",3],[\"Wednesday\",2],[\"Friday\",3],[\"Sunday\",3],[\"Saturday\",2],[\"Saturday\",1],[\"Sunday\",1],[\"Thursday\",3],[\"Saturday\",2],[\"Wednesday\",1],[\"Thursday\",1],[\"Sunday\",1],[\"Thursday\",1],[\"Monday\",2],[\"Saturday\",3],[\"Thursday\",2],[\"Sunday\",3],[\"Friday\",3],[\"Tuesday\",2],[\"Sunday\",1],[\"Friday\",3],[\"Saturday\",3],[\"Monday\",1],[\"Thursday\",2],[\"Saturday\",2],[\"Friday\",2],[\"Thursday\",2],[\"Monday\",3],[\"Tuesday\",3],[\"Thursday\",2],[\"Wednesday\",2],[\"Saturday\",2],[\"Tuesday\",3],[\"Wednesday\",3],[\"Thursday\",1],[\"Friday\",3],[\"Thursday\",3],[\"Friday\",1],[\"Friday\",3],[\"Saturday\",2],[\"Saturday\",3],[\"Tuesday\",1],[\"Tuesday\",2],[\"Wednesday\",1],[\"Friday\",1],[\"Sunday\",1],[\"Tuesday\",3],[\"Thursday\",2],[\"Friday\",2],[\"Monday\",1],[\"Sunday\",2],[\"Thursday\",3],[\"Tuesday\",1],[\"Sunday\",2],[\"Monday\",3],[\"Wednesday\",1],[\"Friday\",1],[\"Friday\",1],[\"Tuesday\",2],[\"Wednesday\",1],[\"Sunday\",2],[\"Tuesday\",2],[\"Sunday\",1],[\"Thursday\",3],[\"Friday\",3],[\"Sunday\",3],[\"Tuesday\",3],[\"Sunday\",1],[\"Wednesday\",2],[\"Friday\",3],[\"Tuesday\",2],[\"Thursday\",2],[\"Sunday\",3],[\"Friday\",2],[\"Saturday\",3],[\"Thursday\",3],[\"Wednesday\",1],[\"Sunday\",2],[\"Sunday\",3],[\"Friday\",2],[\"Monday\",3],[\"Wednesday\",1],[\"Tuesday\",2],[\"Tuesday\",3],[\"Saturday\",2],[\"Tuesday\",1],[\"Sunday\",2],[\"Friday\",3],[\"Saturday\",2],[\"Monday\",3],[\"Thursday\",1],[\"Sunday\",3],[\"Wednesday\",3],[\"Saturday\",2],[\"Saturday\",1],[\"Saturday\",2],[\"Monday\",1],[\"Saturday\",3],[\"Tuesday\",1],[\"Friday\",3],[\"Sunday\",2],[\"Wednesday\",2],[\"Saturday\",1],[\"Wednesday\",2],[\"Wednesday\",3],[\"Saturday\",1],[\"Monday\",2],[\"Saturday\",2],[\"Tuesday\",3],[\"Saturday\",2],[\"Friday\",3],[\"Thursday\",1],[\"Thursday\",2],[\"Tuesday\",2],[\"Saturday\",1],[\"Tuesday\",2],[\"Saturday\",1],[\"Tuesday\",1],[\"Friday\",2],[\"Thursday\",2],[\"Wednesday\",2],[\"Saturday\",3],[\"Sunday\",3],[\"Monday\",2],[\"Tuesday\",2],[\"Saturday\",2],[\"Monday\",2],[\"Thursday\",2],[\"Saturday\",2],[\"Sunday\",2],[\"Sunday\",1],[\"Thursday\",1],[\"Sunday\",1],[\"Thursday\",1],[\"Saturday\",3],[\"Thursday\",2],[\"Sunday\",2],[\"Wednesday\",1],[\"Thursday\",2],[\"Sunday\",2],[\"Monday\",2],[\"Friday\",2],[\"Saturday\",2],[\"Wednesday\",1],[\"Friday\",1],[\"Wednesday\",1],[\"Tuesday\",2],[\"Wednesday\",3],[\"Saturday\",3],[\"Saturday\",2],[\"Thursday\",3],[\"Monday\",3],[\"Saturday\",1],[\"Thursday\",2],[\"Friday\",1],[\"Monday\",3],[\"Saturday\",2],[\"Sunday\",2],[\"Monday\",2],[\"Thursday\",2],[\"Tuesday\",2],[\"Tuesday\",3],[\"Monday\",3],[\"Friday\",3],[\"Wednesday\",2],[\"Thursday\",2],[\"Monday\",2],[\"Friday\",3],[\"Friday\",2],[\"Saturday\",2],[\"Thursday\",2],[\"Friday\",2],[\"Thursday\",3],[\"Saturday\",2],[\"Monday\",1],[\"Tuesday\",1],[\"Sunday\",2],[\"Monday\",1],[\"Wednesday\",1],[\"Saturday\",3],[\"Sunday\",2],[\"Monday\",1],[\"Monday\",3],[\"Saturday\",3],[\"Wednesday\",1],[\"Monday\",1],[\"Monday\",3],[\"Monday\",1],[\"Wednesday\",3],[\"Monday\",2],[\"Tuesday\",2],[\"Thursday\",2],[\"Tuesday\",2],[\"Thursday\",3],[\"Saturday\",1],[\"Thursday\",2],[\"Tuesday\",2],[\"Wednesday\",3],[\"Tuesday\",2],[\"Friday\",3],[\"Sunday\",3],[\"Monday\",3],[\"Friday\",1],[\"Monday\",1],[\"Saturday\",3],[\"Tuesday\",3],[\"Friday\",3],[\"Sunday\",2],[\"Tuesday\",2],[\"Sunday\",1],[\"Monday\",1],[\"Sunday\",3],[\"Tuesday\",3],[\"Wednesday\",3],[\"Tuesday\",2],[\"Wednesday\",3],[\"Tuesday\",2],[\"Sunday\",3],[\"Wednesday\",2],[\"Tuesday\",2],[\"Wednesday\",3],[\"Sunday\",2],[\"Tuesday\",2],[\"Sunday\",2],[\"Friday\",2],[\"Friday\",1],[\"Tuesday\",1],[\"Wednesday\",2],[\"Sunday\",1],[\"Saturday\",1],[\"Friday\",2],[\"Friday\",1],[\"Thursday\",2],[\"Thursday\",2],[\"Sunday\",1],[\"Thursday\",2],[\"Thursday\",2],[\"Saturday\",2],[\"Tuesday\",1],[\"Thursday\",3],[\"Saturday\",2],[\"Tuesday\",1],[\"Monday\",1],[\"Monday\",3],[\"Tuesday\",3],[\"Wednesday\",2],[\"Saturday\",1],[\"Friday\",1],[\"Tuesday\",2],[\"Sunday\",1],[\"Thursday\",3],[\"Tuesday\",2],[\"Friday\",3],[\"Tuesday\",3],[\"Saturday\",3],[\"Thursday\",3],[\"Tuesday\",1],[\"Sunday\",2],[\"Tuesday\",1],[\"Sunday\",2],[\"Monday\",1],[\"Monday\",1],[\"Friday\",1],[\"Tuesday\",3],[\"Sunday\",2],[\"Tuesday\",3],[\"Friday\",1],[\"Sunday\",1],[\"Sunday\",1],[\"Tuesday\",3],[\"Friday\",2],[\"Sunday\",1],[\"Saturday\",2],[\"Thursday\",2],[\"Saturday\",2],[\"Sunday\",1],[\"Sunday\",2],[\"Tuesday\",3],[\"Saturday\",1],[\"Sunday\",1],[\"Sunday\",1],[\"Monday\",1],[\"Thursday\",1],[\"Friday\",3],[\"Saturday\",1],[\"Thursday\",2],[\"Thursday\",1],[\"Wednesday\",3],[\"Tuesday\",1],[\"Thursday\",3],[\"Friday\",2],[\"Tuesday\",3],[\"Friday\",2],[\"Friday\",2],[\"Wednesday\",1],[\"Thursday\",1],[\"Tuesday\",1],[\"Saturday\",3],[\"Friday\",3],[\"Monday\",2],[\"Friday\",3],[\"Monday\",2],[\"Friday\",2],[\"Tuesday\",1],[\"Saturday\",2],[\"Wednesday\",2],[\"Sunday\",3],[\"Wednesday\",3],[\"Tuesday\",3],[\"Wednesday\",2],[\"Thursday\",3],[\"Friday\",3],[\"Saturday\",1],[\"Monday\",3],[\"Wednesday\",2],[\"Monday\",1],[\"Saturday\",2],[\"Sunday\",2],[\"Saturday\",3],[\"Wednesday\",1],[\"Tuesday\",1],[\"Friday\",2],[\"Monday\",3],[\"Monday\",2],[\"Tuesday\",1],[\"Friday\",3],[\"Monday\",1],[\"Wednesday\",1],[\"Friday\",1],[\"Thursday\",1],[\"Thursday\",3],[\"Wednesday\",1],[\"Friday\",1],[\"Sunday\",1],[\"Wednesday\",1],[\"Thursday\",2],[\"Wednesday\",3],[\"Wednesday\",2],[\"Monday\",3],[\"Sunday\",2],[\"Saturday\",2],[\"Tuesday\",2],[\"Monday\",1],[\"Saturday\",1],[\"Saturday\",3],[\"Saturday\",2],[\"Sunday\",2],[\"Saturday\",2],[\"Friday\",2],[\"Saturday\",1],[\"Friday\",2],[\"Friday\",2],[\"Saturday\",3],[\"Wednesday\",3],[\"Saturday\",1],[\"Saturday\",2],[\"Wednesday\",2],[\"Thursday\",1],[\"Wednesday\",1],[\"Friday\",3],[\"Monday\",1],[\"Thursday\",2],[\"Saturday\",3],[\"Wednesday\",1],[\"Saturday\",2],[\"Thursday\",3],[\"Wednesday\",2],[\"Thursday\",1],[\"Thursday\",3],[\"Saturday\",3],[\"Monday\",1],[\"Tuesday\",2],[\"Saturday\",2],[\"Thursday\",1],[\"Sunday\",3],[\"Tuesday\",3],[\"Wednesday\",2],[\"Tuesday\",2],[\"Tuesday\",3],[\"Sunday\",3],[\"Sunday\",2],[\"Monday\",1],[\"Tuesday\",2],[\"Sunday\",2],[\"Tuesday\",2],[\"Tuesday\",2],[\"Wednesday\",3],[\"Friday\",3],[\"Sunday\",1],[\"Wednesday\",2],[\"Saturday\",3],[\"Thursday\",1],[\"Friday\",3],[\"Friday\",1],[\"Wednesday\",3],[\"Wednesday\",1],[\"Friday\",2],[\"Thursday\",1],[\"Monday\",1],[\"Friday\",2],[\"Friday\",2],[\"Saturday\",2],[\"Wednesday\",2],[\"Thursday\",2],[\"Friday\",2],[\"Wednesday\",3],[\"Friday\",2],[\"Wednesday\",2],[\"Wednesday\",1],[\"Thursday\",3],[\"Sunday\",3],[\"Wednesday\",1],[\"Wednesday\",2],[\"Monday\",3],[\"Saturday\",2],[\"Monday\",2],[\"Tuesday\",3],[\"Saturday\",2],[\"Sunday\",3],[\"Saturday\",2],[\"Friday\",1],[\"Tuesday\",2],[\"Monday\",2],[\"Saturday\",2],[\"Wednesday\",2],[\"Sunday\",3],[\"Friday\",1],[\"Friday\",2],[\"Wednesday\",3],[\"Wednesday\",3],[\"Monday\",3],[\"Thursday\",2],[\"Saturday\",3],[\"Tuesday\",2],[\"Monday\",1],[\"Sunday\",1],[\"Tuesday\",2],[\"Saturday\",1],[\"Tuesday\",1],[\"Sunday\",1],[\"Thursday\",1],[\"Wednesday\",1],[\"Saturday\",3],[\"Wednesday\",1],[\"Wednesday\",1],[\"Saturday\",2],[\"Sunday\",1],[\"Saturday\",3],[\"Monday\",1],[\"Monday\",3],[\"Wednesday\",3],[\"Monday\",3],[\"Sunday\",1],[\"Sunday\",1],[\"Monday\",1],[\"Friday\",1],[\"Monday\",1],[\"Saturday\",2],[\"Tuesday\",2],[\"Monday\",1],[\"Wednesday\",1],[\"Saturday\",1],[\"Monday\",2],[\"Monday\",3],[\"Thursday\",1],[\"Wednesday\",1],[\"Monday\",3],[\"Wednesday\",3],[\"Tuesday\",3],[\"Tuesday\",1],[\"Wednesday\",3],[\"Thursday\",3],[\"Tuesday\",2],[\"Tuesday\",2],[\"Sunday\",3],[\"Monday\",3],[\"Friday\",3],[\"Saturday\",3],[\"Sunday\",2],[\"Friday\",3],[\"Saturday\",3],[\"Monday\",3],[\"Thursday\",1],[\"Sunday\",3],[\"Thursday\",3],[\"Sunday\",3],[\"Friday\",2],[\"Wednesday\",2],[\"Thursday\",3],[\"Wednesday\",2],[\"Sunday\",2],[\"Thursday\",1],[\"Saturday\",3],[\"Tuesday\",1],[\"Monday\",2],[\"Sunday\",1],[\"Friday\",3],[\"Monday\",3],[\"Monday\",1],[\"Friday\",1],[\"Thursday\",2],[\"Tuesday\",1],[\"Wednesday\",2],[\"Monday\",2],[\"Friday\",3],[\"Tuesday\",1],[\"Saturday\",2],[\"Monday\",3],[\"Friday\",1],[\"Wednesday\",2],[\"Friday\",3],[\"Sunday\",2],[\"Wednesday\",3],[\"Monday\",1],[\"Saturday\",1],[\"Tuesday\",3],[\"Saturday\",3],[\"Thursday\",3],[\"Wednesday\",3],[\"Monday\",2],[\"Sunday\",2],[\"Thursday\",1],[\"Wednesday\",1],[\"Monday\",2],[\"Saturday\",2],[\"Sunday\",2],[\"Saturday\",2],[\"Tuesday\",1],[\"Saturday\",3],[\"Wednesday\",2],[\"Monday\",1],[\"Friday\",1],[\"Monday\",1],[\"Thursday\",2],[\"Wednesday\",3],[\"Saturday\",2],[\"Thursday\",2],[\"Wednesday\",2],[\"Friday\",1],[\"Saturday\",2],[\"Tuesday\",2],[\"Thursday\",2],[\"Monday\",2],[\"Monday\",3],[\"Sunday\",1],[\"Monday\",1],[\"Tuesday\",1],[\"Tuesday\",1],[\"Monday\",3],[\"Sunday\",3],[\"Thursday\",2],[\"Friday\",3],[\"Saturday\",3],[\"Tuesday\",3],[\"Wednesday\",2],[\"Friday\",3],[\"Tuesday\",3],[\"Friday\",2],[\"Thursday\",3],[\"Saturday\",3],[\"Friday\",1],[\"Monday\",3],[\"Thursday\",1],[\"Saturday\",3],[\"Wednesday\",2],[\"Thursday\",3],[\"Monday\",1],[\"Sunday\",2],[\"Sunday\",2],[\"Thursday\",3],[\"Tuesday\",3],[\"Wednesday\",1],[\"Monday\",1],[\"Friday\",2],[\"Sunday\",3],[\"Friday\",1],[\"Monday\",1],[\"Tuesday\",3],[\"Tuesday\",1],[\"Monday\",3],[\"Wednesday\",3],[\"Monday\",3],[\"Sunday\",1],[\"Friday\",3],[\"Thursday\",1],[\"Saturday\",2],[\"Saturday\",1],[\"Friday\",2],[\"Monday\",2],[\"Wednesday\",3],[\"Monday\",2],[\"Wednesday\",2],[\"Monday\",1],[\"Wednesday\",1],[\"Sunday\",3],[\"Friday\",2],[\"Thursday\",1],[\"Monday\",2],[\"Sunday\",2],[\"Sunday\",1],[\"Friday\",2],[\"Friday\",2],[\"Monday\",3],[\"Thursday\",1],[\"Wednesday\",2],[\"Thursday\",1],[\"Friday\",2],[\"Friday\",1],[\"Friday\",3],[\"Monday\",3],[\"Friday\",3],[\"Thursday\",1],[\"Wednesday\",3],[\"Thursday\",1],[\"Wednesday\",2],[\"Saturday\",2],[\"Monday\",1],[\"Saturday\",2],[\"Friday\",1],[\"Sunday\",3],[\"Monday\",2],[\"Friday\",3],[\"Monday\",1],[\"Saturday\",1],[\"Wednesday\",1],[\"Wednesday\",3],[\"Thursday\",1],[\"Wednesday\",3],[\"Friday\",3],[\"Friday\",2],[\"Wednesday\",1],[\"Friday\",3],[\"Saturday\",1],[\"Saturday\",1],[\"Sunday\",3],[\"Wednesday\",1],[\"Tuesday\",2],[\"Friday\",3],[\"Saturday\",2],[\"Saturday\",2],[\"Tuesday\",2],[\"Monday\",2],[\"Saturday\",2],[\"Sunday\",2],[\"Tuesday\",1],[\"Sunday\",3],[\"Saturday\",1],[\"Sunday\",2],[\"Thursday\",3],[\"Sunday\",1],[\"Tuesday\",1],[\"Sunday\",1],[\"Wednesday\",1],[\"Sunday\",3],[\"Monday\",1],[\"Thursday\",2],[\"Monday\",1],[\"Wednesday\",2],[\"Wednesday\",1],[\"Friday\",3],[\"Saturday\",2],[\"Wednesday\",3],[\"Saturday\",1],[\"Tuesday\",1],[\"Sunday\",3],[\"Wednesday\",3],[\"Monday\",1],[\"Tuesday\",2],[\"Friday\",3],[\"Tuesday\",2],[\"Sunday\",1],[\"Thursday\",2],[\"Monday\",2],[\"Wednesday\",2],[\"Saturday\",3],[\"Tuesday\",3],[\"Sunday\",2],[\"Friday\",1],[\"Monday\",3],[\"Sunday\",1],[\"Wednesday\",1],[\"Thursday\",3],[\"Tuesday\",1],[\"Thursday\",1],[\"Thursday\",1],[\"Wednesday\",3],[\"Tuesday\",2],[\"Saturday\",2],[\"Monday\",1],[\"Wednesday\",3],[\"Thursday\",3],[\"Saturday\",1],[\"Monday\",1],[\"Wednesday\",1],[\"Saturday\",1],[\"Tuesday\",2],[\"Saturday\",2],[\"Tuesday\",3],[\"Tuesday\",1],[\"Tuesday\",3],[\"Monday\",3],[\"Saturday\",2],[\"Wednesday\",2],[\"Wednesday\",1],[\"Wednesday\",3],[\"Tuesday\",3],[\"Sunday\",2],[\"Saturday\",2],[\"Wednesday\",2],[\"Saturday\",1],[\"Saturday\",2],[\"Sunday\",3],[\"Saturday\",1],[\"Friday\",3],[\"Tuesday\",3],[\"Friday\",1],[\"Thursday\",3],[\"Thursday\",2],[\"Tuesday\",2],[\"Monday\",2],[\"Monday\",3],[\"Sunday\",2],[\"Monday\",1],[\"Wednesday\",1],[\"Friday\",3],[\"Sunday\",3],[\"Saturday\",2],[\"Tuesday\",3],[\"Friday\",1],[\"Thursday\",1],[\"Sunday\",2],[\"Saturday\",3],[\"Saturday\",3],[\"Wednesday\",1],[\"Thursday\",3],[\"Friday\",2],[\"Thursday\",3],[\"Saturday\",3],[\"Monday\",3],[\"Sunday\",1],[\"Tuesday\",1],[\"Tuesday\",2],[\"Thursday\",2],[\"Monday\",1],[\"Wednesday\",1],[\"Tuesday\",2],[\"Wednesday\",2],[\"Saturday\",3],[\"Wednesday\",3],[\"Saturday\",1],[\"Sunday\",1],[\"Wednesday\",2],[\"Friday\",1],[\"Sunday\",1],[\"Friday\",3],[\"Friday\",2],[\"Friday\",1],[\"Friday\",1],[\"Thursday\",3],[\"Thursday\",2],[\"Wednesday\",1],[\"Monday\",2],[\"Friday\",2],[\"Sunday\",2],[\"Monday\",1],[\"Saturday\",2],[\"Friday\",1],[\"Wednesday\",3],[\"Monday\",3],[\"Thursday\",2],[\"Wednesday\",2],[\"Thursday\",2],[\"Sunday\",1],[\"Saturday\",2],[\"Sunday\",1],[\"Tuesday\",3],[\"Sunday\",3],[\"Saturday\",2],[\"Saturday\",1],[\"Saturday\",3],[\"Sunday\",3],[\"Thursday\",1],[\"Saturday\",3],[\"Saturday\",3],[\"Wednesday\",1],[\"Monday\",3],[\"Sunday\",1],[\"Thursday\",2],[\"Tuesday\",2],[\"Friday\",2],[\"Thursday\",3],[\"Wednesday\",1],[\"Friday\",3],[\"Saturday\",2],[\"Tuesday\",1],[\"Wednesday\",3],[\"Tuesday\",1],[\"Saturday\",1],[\"Wednesday\",3],[\"Wednesday\",3],[\"Thursday\",1],[\"Sunday\",3],[\"Wednesday\",3],[\"Tuesday\",2],[\"Thursday\",1],[\"Saturday\",2],[\"Wednesday\",1],[\"Thursday\",3],[\"Wednesday\",3],[\"Thursday\",2],[\"Wednesday\",1],[\"Wednesday\",2],[\"Friday\",3],[\"Sunday\",2],[\"Sunday\",3],[\"Wednesday\",1],[\"Friday\",1],[\"Monday\",1],[\"Monday\",1],[\"Saturday\",2],[\"Wednesday\",2],[\"Sunday\",2],[\"Thursday\",2],[\"Saturday\",1],[\"Thursday\",2],[\"Tuesday\",2],[\"Wednesday\",2],[\"Sunday\",2],[\"Wednesday\",2],[\"Saturday\",3],[\"Sunday\",2],[\"Friday\",3],[\"Saturday\",1],[\"Saturday\",3],[\"Friday\",2],[\"Sunday\",3],[\"Tuesday\",3],[\"Friday\",1],[\"Monday\",3],[\"Sunday\",1],[\"Monday\",1],[\"Monday\",3],[\"Saturday\",3],[\"Friday\",1],[\"Friday\",1],[\"Thursday\",3],[\"Tuesday\",3],[\"Friday\",2],[\"Sunday\",2],[\"Saturday\",2],[\"Friday\",3],[\"Thursday\",1],[\"Tuesday\",1],[\"Monday\",1],[\"Monday\",3],[\"Friday\",3],[\"Sunday\",2],[\"Friday\",2],[\"Sunday\",1],[\"Thursday\",3],[\"Tuesday\",3],[\"Wednesday\",2],[\"Friday\",1],[\"Friday\",2],[\"Thursday\",2],[\"Tuesday\",2],[\"Sunday\",1],[\"Saturday\",2],[\"Friday\",1],[\"Saturday\",2],[\"Wednesday\",1],[\"Wednesday\",3],[\"Thursday\",2],[\"Friday\",3],[\"Tuesday\",3],[\"Sunday\",2],[\"Sunday\",3],[\"Sunday\",1],[\"Wednesday\",3],[\"Wednesday\",2],[\"Monday\",1],[\"Tuesday\",2],[\"Tuesday\",2],[\"Sunday\",2],[\"Monday\",2],[\"Thursday\",1],[\"Tuesday\",3],[\"Friday\",2],[\"Saturday\",3],[\"Wednesday\",1],[\"Sunday\",2],[\"Monday\",1],[\"Friday\",2],[\"Thursday\",2],[\"Sunday\",2],[\"Thursday\",3],[\"Wednesday\",2],[\"Sunday\",3],[\"Wednesday\",2],[\"Sunday\",1],[\"Thursday\",2],[\"Wednesday\",1],[\"Friday\",2],[\"Thursday\",2],[\"Sunday\",2],[\"Sunday\",1],[\"Thursday\",2],[\"Saturday\",2],[\"Friday\",3],[\"Sunday\",2],[\"Sunday\",1],[\"Monday\",3],[\"Wednesday\",3],[\"Sunday\",3],[\"Thursday\",1],[\"Tuesday\",1],[\"Saturday\",3],[\"Thursday\",1],[\"Friday\",1],[\"Thursday\",3],[\"Tuesday\",2],[\"Friday\",1],[\"Thursday\",3],[\"Friday\",3],[\"Saturday\",3],[\"Saturday\",2],[\"Tuesday\",3],[\"Monday\",2],[\"Thursday\",3],[\"Friday\",2],[\"Tuesday\",3],[\"Wednesday\",1],[\"Saturday\",1],[\"Sunday\",3],[\"Sunday\",3],[\"Saturday\",2],[\"Saturday\",2],[\"Thursday\",1],[\"Sunday\",1],[\"Sunday\",2],[\"Saturday\",2],[\"Tuesday\",3],[\"Monday\",2],[\"Monday\",2],[\"Sunday\",3],[\"Wednesday\",3],[\"Tuesday\",2],[\"Thursday\",3],[\"Monday\",3],[\"Saturday\",2],[\"Saturday\",1],[\"Saturday\",1],[\"Friday\",3],[\"Thursday\",3],[\"Monday\",1],[\"Wednesday\",2],[\"Thursday\",2],[\"Wednesday\",3],[\"Tuesday\",2],[\"Friday\",1],[\"Friday\",3],[\"Tuesday\",3],[\"Saturday\",2],[\"Wednesday\",3],[\"Tuesday\",3],[\"Monday\",3],[\"Wednesday\",3],[\"Sunday\",1],[\"Saturday\",2],[\"Sunday\",1],[\"Saturday\",1],[\"Monday\",1],[\"Monday\",3],[\"Tuesday\",1],[\"Monday\",3],[\"Friday\",2],[\"Friday\",2],[\"Friday\",1],[\"Sunday\",3],[\"Saturday\",3],[\"Friday\",1],[\"Saturday\",3],[\"Thursday\",2],[\"Monday\",1],[\"Thursday\",3],[\"Tuesday\",2],[\"Tuesday\",1],[\"Saturday\",3],[\"Tuesday\",3],[\"Monday\",3],[\"Tuesday\",3],[\"Thursday\",2],[\"Saturday\",3],[\"Thursday\",1],[\"Tuesday\",1],[\"Tuesday\",3],[\"Wednesday\",1],[\"Friday\",1],[\"Tuesday\",1],[\"Sunday\",1],[\"Thursday\",2],[\"Saturday\",3],[\"Thursday\",1],[\"Wednesday\",2],[\"Tuesday\",3],[\"Saturday\",1],[\"Wednesday\",2],[\"Thursday\",2],[\"Thursday\",3],[\"Friday\",1],[\"Tuesday\",1],[\"Thursday\",1],[\"Tuesday\",3],[\"Wednesday\",3],[\"Tuesday\",2],[\"Monday\",1],[\"Tuesday\",3],[\"Sunday\",1],[\"Friday\",2],[\"Monday\",1],[\"Thursday\",1],[\"Tuesday\",3],[\"Friday\",1],[\"Saturday\",1],[\"Friday\",3],[\"Tuesday\",3],[\"Thursday\",1],[\"Monday\",1],[\"Monday\",1]],\"hovertemplate\":\"season=Spring<br>temp=%{x}<br>Total_booking=%{y}<br>Hour=%{marker.size}<br>Weekday=%{customdata[0]}<br>Month=%{customdata[1]}<extra></extra>\",\"legendgroup\":\"Spring\",\"marker\":{\"color\":\"#00cc96\",\"size\":[9,18,15,13,14,8,12,11,17,19,14,20,5,13,10,18,18,19,14,15,11,17,7,4,13,1,15,9,8,0,18,14,13,18,19,12,1,14,3,3,6,1,23,9,10,10,8,6,11,4,22,22,8,10,14,11,18,10,13,10,13,7,18,19,4,8,15,12,17,6,1,18,2,7,21,18,13,12,14,11,7,22,6,15,16,14,0,8,14,11,8,21,3,2,0,20,2,8,2,9,15,11,1,14,6,7,10,17,5,18,2,13,0,2,1,12,23,20,5,22,17,15,16,5,6,13,21,18,15,17,22,12,9,5,4,6,17,17,5,23,9,15,13,20,7,8,1,20,23,8,0,13,16,5,22,16,3,23,12,10,21,6,4,17,8,21,9,15,18,10,21,12,16,18,14,10,19,12,20,2,8,20,10,7,12,22,14,1,22,16,8,14,16,23,19,17,10,14,18,13,23,20,5,12,7,18,15,13,8,21,18,15,20,9,16,18,7,18,16,18,1,11,13,12,8,12,21,20,16,21,8,13,6,10,6,21,3,6,12,3,10,15,8,5,20,21,14,19,1,23,10,19,13,15,11,13,11,19,0,15,10,4,4,14,21,7,10,16,9,7,6,10,5,14,0,22,5,16,11,12,20,15,13,13,0,15,7,8,10,6,8,20,9,10,22,20,2,0,23,13,7,9,21,1,6,16,23,5,6,0,8,9,2,2,4,15,20,11,15,0,1,6,21,5,2,6,11,4,23,1,2,10,18,4,22,19,22,0,19,0,3,0,13,11,5,7,6,8,11,4,11,10,2,23,22,7,11,21,17,7,7,19,23,23,17,22,13,2,20,15,23,7,5,5,2,2,11,1,14,17,2,19,6,12,15,20,0,14,9,11,15,23,22,22,0,18,21,3,4,11,17,18,13,9,22,6,1,11,3,7,21,23,3,20,2,11,21,15,11,5,14,21,12,10,7,9,22,8,20,12,22,16,19,14,7,5,14,23,10,16,7,20,13,9,6,10,6,1,17,3,16,1,14,3,20,7,8,4,0,8,5,19,17,12,14,15,10,15,0,6,12,17,2,2,8,18,6,17,7,17,13,2,22,3,7,21,21,2,5,5,0,11,15,1,0,0,16,5,8,0,16,0,0,15,22,18,11,0,22,3,13,19,10,5,22,9,13,10,7,8,16,19,11,14,23,2,12,9,22,23,23,5,12,1,16,10,18,20,14,13,1,18,2,19,9,9,23,10,4,8,13,0,14,15,16,19,23,13,7,9,18,5,8,21,8,6,2,15,5,9,15,8,6,20,3,21,9,13,6,12,14,13,13,1,8,6,9,3,1,8,19,2,0,0,8,17,5,12,22,20,4,23,15,2,0,23,12,10,3,18,13,3,14,19,16,16,9,9,17,22,6,9,15,21,16,8,8,21,22,16,21,23,3,12,2,11,23,15,11,6,10,16,13,19,14,21,16,3,12,19,3,19,21,3,8,22,1,22,15,0,17,7,5,5,22,4,11,11,15,15,23,10,1,20,23,22,19,19,7,8,3,8,3,13,7,5,23,4,1,1,0,2,15,21,1,18,11,0,21,9,15,14,14,16,14,17,23,15,8,2,9,21,2,2,13,6,17,10,0,22,7,20,14,9,16,0,2,16,4,14,18,5,11,2,23,21,9,2,0,14,19,2,13,21,17,17,9,23,16,15,11,10,23,1,19,16,15,0,6,3,19,16,23,18,7,12,23,13,8,0,11,10,8,0,23,10,4,18,17,16,6,2,16,19,19,23,5,13,4,8,19,17,10,19,4,18,6,5,19,2,11,11,7,19,18,20,17,5,14,2,3,18,12,14,18,16,14,6,10,5,14,3,8,16,9,7,13,21,9,11,23,23,1,20,4,12,3,17,1,21,12,0,20,8,0,12,11,15,20,15,1,11,20,15,10,19,16,11,21,23,9,6,12,11,13,6,18,4,20,19,6,12,15,8,5,15,4,3,14,3,4,3,12,8,10,10,18,22,12,19,10,6,17,12,17,21,19,15,12,19,13,12,5,4,23,23,8,18,22,22,4,6,4,4,12,0,21,8,6,10,15,22,2,18,13,13,17,20,4,0,6,15,1,4,1,10,23,10,8,16,22,10,20,14,20,9,20,21,22,16,9,10,12,11,5,8,19,5,10,6,7,17,6,5,10,16,16,1,11,17,0,20,5,20,20,17,10,9,18,22,22,15,8,21,9,14,9,22,9,17,0,18,17,1,18,7,15,8,22,17,23,2,7,20,15,0,8,15,9,13,3,16,20,7,10,17,23,19,6,12,3,3,5,18,15,4,23,13,14,5,2,10,19,7,13,2,6,3,4,23,1,13,17,21,21,2,0,13,7,22,2,1,23,17,8,19,13,16,13,18,11,14,13,12,4,14,12,6,23,17,15,12,5,14,17,12,22,7,1,22,7,20,18,0,3,18,7,1,4,1,22,13,13,4,19,2,18,19,4,5,15,19,19,21,18,11,20,16,14,15,2,12,22,18,17,18,7,15,0,8,1,9,6,3,1,11,10,17,18,6,2,23,13,17,4,15,13,23,8,6,11,4,6,12,19,0,10,3,14,15,5,5,13,21,9,21,0,4,1,20,17,12,23,14,9,5,14,15,6,23,18,0,6,1,13,10,20,23,1,21,18,11,14,4,9,6,10,19,6,5,22,23,2,7,16,1,21,11,16,19,12,17,20,17,3,13,12,20,23,1,21,5,4,8,11,15,6,5,11,21,8,13,18,16,17,14,20,1,4,17,1,4,5,7,22,22,2,2,9,17,17,16,19,18,23,5,14,22,13,23,8,4,20,23,0,9,14,18,21,9,2,5,16,21,15,13,1,22,13,6,19,5,10,11,1,1,11,12,18,17,5,0,18,16,22,16,14,21,6,4,19,19,1,14,2,15,15,14,18,6,14,8,6,9,21,6,10,12,9,22,1,9,2,18,2,21,10,12,3,8,9,8,15,17,19,18,11,23,2,4,22,14,11,15,5,7,5,21,0,14,9,12,23,4,18,10,12,14,10,20,10,15,17,15,10,1,11,1,6,18,0,22,14,20,17,15,12,7,11,19,5,12,12,14,18,14,13,8,5,5,5,20,15,18,2,6,19,5,14,8,22,5,17,4,0,14,12,16,14,19,20,9,7,15,2,6,19,0,19,18,11,6,21,4,20,2,5,18,1,17,11,0,7,11,14,12,12,19,0,8,18,18,9,17,8,11,10,6,22,13,2,10,16,3,18,3,0,19,9,17,22,23,0,19,20,6,11,4,13,13,17,10,9,14,13,15,8,4,11,11,11,2,15,19,5,17,13,2,10,15,23,7,23,3,13,5,1,22,14,3,3,17,12,7,13,11,9,16,10,14,13,17,3,5,20,8,20,9,19,2,1,10,10,11,8,12,15,5,19,20,19,6,14,20,17,10,7,17,16,21,13,23,1,22,12,17,10,0,19,10,5,2,17,16,14,12,22,16,17,7,23,16,23,9,14,0,7,5,14,3,17,19,12,5,9,23,20,20,8,5,3,0,10,9,8,18,11,7,9,13,10,4,12,10,1,20,6,14,6,2,12,4,12,10,9,19,23,16,6,9,0,17,18,6,18,11,15,14,19,21,2,14,9,1,2,4,7,13,11,16,15,20,21,22,7,3,23,21,22,22,18,19,16,1,9,21,21,19,0,21,19,11,15,3,15,6,5,5,7,22,0,12,7,5,16,14,13,16,10,15,10,0,10,17,1,21,8,17,17,0,20,22,10,21,2,12,22,9,9,16,2,3,9,9,11,16,16,7,22,16,16,8,22,23,2,2,23,4,5,23,11,14,6,3,20,17,8,12,16,7,1,21,4,22,9,18,4,12,19,2,16,19,15,18,3,20,23,18,5,7,16,19,5,3,1,4,19,16,13,2,7,22,21,2,12,15,10,9,15,6,10,21,7,15,16,16,20,19,9,15,7,19,7,19,13,0,17,9,3,21,3,22,11,22,22,23,18,6,6,16,9,23,10,16,23,8,9,9,11,6,13,12,3,17,0,10,14,19,0,10,14,9,1,9,9,10,5,13,0,1,16,18,8,10,12,8,18,18,3,3,12,2,23,9,23,18,23,1,4,20,23,9,20,13,2,18,15,10,12,23,17,9,5,2,15,10,8,20,13,0,7,2,6,10,1,23,14,7,7,11,18,3,22,18,22,11,2,22,12,9,12,16,22,7,14,15,6,10,5,8,12,2,17,15,19,1,12,9,1,3,0,17,22,7,22,2,1,2,9,0,20,20,7,4,3,2,4,22,4,16,7,13,21,20,15,1,15,8,13,3,20,1,21,2,3,23,16,4,9,23,16,17,1,19,8,2,8,13,7,20,4,0,10,0,0,7,14,12,10,6,21,0,13,0,23,23,1,11,4,13,0,5,9,11,19,21,11,10,16,5,7,14,15,21,3,21,7,10,5,9,11,8,6,20,15,22,11,18,13,19,1,3,23,11,7,21,5,19,14,5,17,23,20,11,20,14,3,11,1,17,7,0,22,18,1,21,21,20,11,11,16,17,6,5,14,7,22,4,4,8,7,10,10,12,16,0,16,1,23,15,12,18,12,4,21,17,1,18,7,12,21,17,20,2,22,3,14,4,22,9,9,23,23,16,18,17,3,14,9,21,21,12,1,8,1,14,19,7,6,6,21,2,21,9,9,11,23,3,21,9,9,7,10,23,0,4,17,1,12,2,5,4,21,4,13,18,23,7,5,22,12,19,21,19,8,6,20,7,15,20,21,8,6,12,10,8,10,9,3,6,13,0,10,13,6,10],\"sizemode\":\"area\",\"sizeref\":0.0575,\"symbol\":\"circle\"},\"mode\":\"markers\",\"name\":\"Spring\",\"showlegend\":true,\"x\":[5.74,12.3,18.04,18.86,13.12,17.22,13.12,14.76,9.02,6.56,28.7,9.84,8.2,15.58,10.66,9.84,24.6,18.86,8.2,13.94,7.38,6.56,18.86,11.48,27.06,18.86,9.02,12.3,9.84,11.48,17.22,18.86,24.6,17.22,13.94,8.2,8.2,17.22,9.02,9.02,13.94,8.2,12.3,13.12,5.74,13.94,11.48,8.2,10.66,9.02,18.86,7.38,9.84,17.22,27.06,13.12,18.86,21.32,5.74,17.22,15.58,5.74,21.32,6.56,13.94,17.22,13.12,10.66,9.84,5.74,14.76,18.04,7.38,9.84,11.48,28.7,13.12,15.58,9.84,14.76,3.28,4.1,17.22,24.6,8.2,18.04,10.66,9.02,13.94,8.2,18.86,12.3,4.1,6.56,6.56,14.76,13.94,4.1,5.74,9.84,9.02,18.04,7.38,21.32,5.74,7.38,5.74,7.38,6.56,12.3,6.56,18.86,15.58,13.94,7.38,16.4,7.38,17.22,11.48,10.66,17.22,19.68,18.04,13.12,12.3,18.04,4.1,11.48,23.78,7.38,7.38,9.02,9.02,9.84,7.38,9.84,19.68,22.96,19.68,9.02,21.32,9.02,17.22,22.96,13.12,11.48,1.64,9.02,9.84,4.1,17.22,11.48,9.84,6.56,12.3,29.52,9.84,14.76,18.04,7.38,12.3,6.56,12.3,18.04,9.84,12.3,16.4,17.22,10.66,8.2,10.66,15.58,24.6,11.48,13.94,7.38,19.68,7.38,7.38,18.86,6.56,4.92,17.22,9.02,16.4,10.66,20.5,21.32,4.92,21.32,16.4,13.12,22.14,22.96,9.02,18.04,16.4,26.24,16.4,8.2,9.02,13.12,10.66,11.48,16.4,9.02,10.66,16.4,13.12,13.12,25.42,8.2,12.3,11.48,18.86,6.56,8.2,9.84,22.14,11.48,9.84,12.3,7.38,18.04,9.02,16.4,13.94,10.66,9.02,5.74,9.84,13.12,16.4,10.66,4.92,12.3,18.04,6.56,22.96,5.74,13.94,14.76,17.22,18.86,9.02,5.74,12.3,6.56,12.3,12.3,14.76,13.94,12.3,8.2,10.66,18.86,25.42,15.58,3.28,10.66,11.48,11.48,16.4,27.06,8.2,7.38,10.66,8.2,13.94,10.66,13.94,9.02,16.4,29.52,6.56,5.74,3.28,18.86,18.86,10.66,6.56,8.2,24.6,26.24,13.94,14.76,9.84,16.4,7.38,18.04,4.1,13.12,9.84,9.84,12.3,22.96,6.56,4.1,4.1,9.02,9.84,17.22,7.38,11.48,12.3,12.3,17.22,13.12,8.2,10.66,7.38,4.1,0.82,11.48,9.02,15.58,13.12,9.02,22.96,12.3,10.66,9.02,13.94,8.2,18.04,9.84,8.2,13.94,14.76,4.92,22.96,18.04,27.06,13.12,13.94,12.3,9.02,9.02,9.84,14.76,12.3,18.04,12.3,12.3,9.84,11.48,5.74,12.3,5.74,5.74,12.3,21.32,5.74,22.96,12.3,4.92,13.94,10.66,14.76,10.66,9.84,16.4,18.04,10.66,14.76,13.12,8.2,6.56,12.3,16.4,18.04,9.02,8.2,4.1,5.74,15.58,18.04,12.3,8.2,18.04,14.76,6.56,9.02,7.38,18.04,21.32,8.2,15.58,9.02,22.96,6.56,7.38,7.38,9.02,12.3,26.24,16.4,11.48,11.48,8.2,19.68,19.68,13.94,16.4,12.3,16.4,6.56,22.14,7.38,17.22,18.04,21.32,4.92,13.12,16.4,10.66,10.66,12.3,13.12,12.3,6.56,16.4,7.38,13.94,2.46,6.56,14.76,9.84,20.5,9.84,9.84,8.2,14.76,18.86,9.84,17.22,12.3,4.92,9.02,18.04,4.1,6.56,14.76,13.12,18.04,9.02,14.76,20.5,8.2,12.3,15.58,9.84,9.02,18.86,14.76,5.74,8.2,9.84,9.02,12.3,10.66,22.96,19.68,9.02,13.94,8.2,15.58,14.76,15.58,8.2,16.4,13.94,18.04,18.04,18.04,8.2,14.76,20.5,8.2,8.2,14.76,10.66,21.32,11.48,9.84,5.74,23.78,19.68,10.66,0.82,16.4,18.04,9.84,18.86,8.2,22.14,25.42,9.02,12.3,13.94,8.2,10.66,13.12,22.14,12.3,20.5,13.12,9.84,12.3,11.48,13.12,12.3,13.12,9.02,18.04,10.66,18.04,11.48,6.56,5.74,9.02,5.74,11.48,14.76,14.76,13.94,15.58,19.68,8.2,12.3,19.68,8.2,16.4,5.74,13.94,18.04,18.04,11.48,20.5,12.3,14.76,10.66,20.5,10.66,4.92,15.58,18.86,21.32,0.82,9.84,21.32,6.56,9.02,18.04,21.32,24.6,9.84,10.66,9.84,9.84,9.02,14.76,10.66,6.56,5.74,2.46,9.84,18.86,8.2,6.56,27.88,15.58,12.3,10.66,9.02,9.02,10.66,16.4,8.2,8.2,12.3,13.12,8.2,6.56,4.92,6.56,12.3,9.84,12.3,9.02,17.22,13.94,19.68,18.04,8.2,28.7,4.1,13.94,20.5,25.42,18.86,10.66,11.48,9.02,7.38,4.1,12.3,9.02,22.14,8.2,14.76,18.86,18.04,13.12,13.94,11.48,7.38,6.56,13.94,13.94,0.82,8.2,21.32,22.14,20.5,17.22,6.56,5.74,16.4,17.22,4.92,8.2,2.46,10.66,9.02,16.4,8.2,26.24,9.02,11.48,21.32,22.96,8.2,13.12,15.58,22.14,20.5,8.2,8.2,13.94,8.2,22.96,13.94,21.32,17.22,13.12,4.1,16.4,18.04,10.66,10.66,14.76,4.1,13.94,12.3,18.04,13.94,12.3,17.22,12.3,18.86,8.2,9.02,10.66,9.02,9.84,15.58,18.04,6.56,16.4,17.22,9.02,9.02,15.58,5.74,16.4,18.04,9.84,10.66,8.2,9.02,12.3,13.12,9.02,3.28,5.74,12.3,14.76,13.94,4.92,9.84,8.2,23.78,20.5,18.86,27.06,9.84,9.02,16.4,5.74,11.48,12.3,17.22,12.3,13.94,8.2,17.22,9.84,13.94,13.94,6.56,18.04,17.22,20.5,29.52,18.04,12.3,13.94,7.38,12.3,13.12,3.28,13.94,7.38,11.48,5.74,6.56,9.84,9.84,16.4,12.3,5.74,27.06,9.84,13.94,23.78,6.56,13.94,13.94,12.3,16.4,6.56,12.3,13.94,13.12,20.5,12.3,6.56,12.3,9.84,7.38,17.22,5.74,15.58,8.2,10.66,12.3,16.4,15.58,5.74,9.02,10.66,15.58,12.3,4.92,6.56,10.66,9.02,13.12,27.06,12.3,12.3,5.74,22.14,25.42,7.38,10.66,23.78,7.38,7.38,17.22,8.2,9.84,26.24,18.86,13.94,9.02,9.84,12.3,9.84,13.12,13.12,6.56,16.4,20.5,17.22,20.5,6.56,13.12,10.66,6.56,13.12,9.02,9.84,18.04,8.2,13.12,8.2,10.66,5.74,9.02,4.92,9.02,29.52,11.48,6.56,13.94,13.12,18.86,9.84,4.92,5.74,8.2,5.74,9.84,12.3,14.76,14.76,5.74,8.2,24.6,8.2,7.38,8.2,15.58,9.84,10.66,22.96,14.76,13.12,5.74,14.76,14.76,8.2,18.04,10.66,16.4,13.94,18.86,6.56,9.84,10.66,9.02,18.04,18.86,9.02,18.86,9.84,9.02,9.02,9.02,13.12,18.86,5.74,13.94,18.86,4.1,10.66,20.5,7.38,12.3,7.38,25.42,8.2,13.94,7.38,16.4,10.66,17.22,17.22,13.12,8.2,14.76,8.2,13.94,5.74,18.04,17.22,24.6,13.94,9.84,15.58,6.56,13.12,22.96,18.86,9.84,14.76,9.02,14.76,18.86,7.38,16.4,17.22,18.04,13.12,9.84,7.38,6.56,13.12,26.24,11.48,10.66,8.2,14.76,12.3,16.4,12.3,9.02,9.84,11.48,21.32,12.3,7.38,23.78,12.3,13.12,22.96,8.2,10.66,22.96,13.94,24.6,16.4,23.78,9.02,13.94,14.76,21.32,9.02,6.56,7.38,13.12,22.14,8.2,6.56,20.5,21.32,2.46,14.76,9.02,9.02,4.1,18.86,4.92,14.76,10.66,15.58,10.66,11.48,18.86,24.6,11.48,15.58,19.68,10.66,5.74,9.02,16.4,12.3,17.22,24.6,4.92,7.38,4.1,14.76,18.86,9.84,9.02,28.7,10.66,10.66,8.2,6.56,13.12,9.02,28.7,13.94,8.2,23.78,13.12,9.84,15.58,5.74,13.12,4.1,9.02,27.06,12.3,11.48,14.76,13.94,10.66,17.22,14.76,15.58,10.66,18.04,8.2,12.3,5.74,10.66,13.94,13.94,19.68,8.2,8.2,11.48,12.3,5.74,9.84,13.12,13.12,0.82,18.86,4.1,10.66,8.2,16.4,9.84,18.86,22.14,13.94,25.42,8.2,6.56,9.84,11.48,8.2,11.48,10.66,18.86,12.3,14.76,5.74,11.48,12.3,13.94,8.2,18.04,13.94,18.86,17.22,8.2,9.02,26.24,20.5,10.66,16.4,12.3,14.76,8.2,4.92,6.56,15.58,17.22,9.02,4.92,15.58,10.66,4.92,24.6,16.4,5.74,9.84,14.76,9.84,16.4,6.56,4.1,16.4,17.22,10.66,5.74,8.2,12.3,22.14,18.86,9.84,12.3,10.66,19.68,8.2,9.02,22.96,13.94,12.3,16.4,8.2,18.86,16.4,14.76,16.4,7.38,22.96,11.48,13.12,11.48,18.86,6.56,9.02,17.22,6.56,17.22,13.94,9.02,13.94,18.86,18.86,5.74,17.22,14.76,9.84,17.22,18.04,28.7,7.38,15.58,5.74,9.02,13.94,14.76,6.56,22.96,6.56,18.04,9.84,18.04,10.66,17.22,5.74,4.1,8.2,23.78,4.92,15.58,4.92,4.1,13.94,9.84,13.12,10.66,12.3,9.02,8.2,5.74,16.4,6.56,10.66,6.56,25.42,13.94,17.22,9.84,14.76,16.4,25.42,4.92,5.74,17.22,16.4,21.32,20.5,8.2,9.84,13.94,8.2,14.76,9.02,10.66,22.96,9.84,9.02,3.28,19.68,10.66,10.66,6.56,14.76,13.94,12.3,6.56,12.3,9.84,10.66,17.22,22.96,11.48,13.94,7.38,21.32,12.3,6.56,4.1,18.04,13.94,9.84,12.3,8.2,7.38,6.56,9.02,15.58,7.38,9.02,11.48,5.74,8.2,17.22,21.32,4.92,10.66,8.2,7.38,4.92,5.74,8.2,14.76,9.02,13.94,14.76,14.76,13.12,12.3,8.2,12.3,13.94,12.3,10.66,11.48,0.82,13.12,8.2,13.12,10.66,13.12,13.94,18.86,13.94,13.12,5.74,9.02,12.3,10.66,13.94,13.12,18.86,13.12,12.3,10.66,27.06,9.84,9.02,21.32,13.94,11.48,12.3,13.12,9.84,10.66,9.84,8.2,9.02,8.2,9.02,12.3,25.42,10.66,4.92,8.2,18.86,7.38,8.2,13.12,7.38,16.4,17.22,9.02,6.56,8.2,18.04,9.84,12.3,9.02,17.22,10.66,13.12,13.94,9.02,7.38,9.84,18.04,9.84,19.68,12.3,9.84,9.02,11.48,9.84,6.56,10.66,8.2,22.14,9.02,12.3,13.94,14.76,13.94,4.1,12.3,5.74,14.76,8.2,6.56,2.46,10.66,5.74,9.84,9.02,13.12,8.2,14.76,8.2,13.12,18.86,6.56,17.22,9.02,7.38,8.2,13.94,13.94,18.86,9.84,7.38,6.56,6.56,9.84,13.12,27.88,12.3,18.04,23.78,6.56,13.94,9.02,14.76,9.84,6.56,10.66,8.2,5.74,12.3,10.66,14.76,14.76,14.76,9.84,11.48,9.02,4.92,10.66,10.66,6.56,8.2,5.74,6.56,13.12,7.38,8.2,25.42,9.84,13.94,4.92,11.48,8.2,20.5,12.3,15.58,15.58,24.6,11.48,13.94,17.22,18.04,16.4,14.76,17.22,13.12,12.3,17.22,16.4,9.02,13.94,20.5,9.84,8.2,22.14,22.96,22.14,14.76,4.1,6.56,13.12,13.12,22.96,12.3,9.02,12.3,12.3,13.94,18.86,18.86,10.66,8.2,7.38,5.74,13.12,13.94,16.4,17.22,9.02,13.94,12.3,7.38,18.86,8.2,10.66,6.56,10.66,4.92,15.58,10.66,6.56,6.56,18.04,8.2,11.48,16.4,20.5,13.94,15.58,9.02,17.22,9.02,12.3,11.48,6.56,7.38,12.3,12.3,12.3,29.52,9.84,5.74,25.42,18.86,5.74,6.56,12.3,8.2,9.02,11.48,8.2,9.84,7.38,15.58,9.84,12.3,12.3,4.1,17.22,8.2,18.04,14.76,14.76,9.84,18.86,9.84,14.76,9.02,22.96,0.82,10.66,8.2,4.1,13.12,9.02,18.04,3.28,8.2,18.04,12.3,14.76,13.12,12.3,9.84,16.4,13.12,14.76,10.66,9.02,24.6,13.94,13.12,17.22,4.92,11.48,13.94,11.48,10.66,6.56,14.76,6.56,13.94,28.7,14.76,19.68,8.2,20.5,9.02,4.92,19.68,9.84,9.84,8.2,9.84,10.66,9.84,9.84,6.56,9.02,9.02,13.12,19.68,16.4,7.38,11.48,11.48,12.3,7.38,8.2,14.76,7.38,9.84,9.02,9.84,9.02,5.74,8.2,10.66,7.38,12.3,15.58,9.84,14.76,8.2,9.84,19.68,18.04,9.84,17.22,19.68,16.4,14.76,16.4,10.66,16.4,7.38,14.76,18.86,19.68,18.86,10.66,13.12,8.2,18.86,17.22,5.74,15.58,9.02,18.86,13.94,16.4,13.12,10.66,9.84,16.4,4.92,9.84,14.76,18.04,7.38,13.12,9.84,9.02,15.58,13.94,10.66,22.96,11.48,4.92,13.12,22.14,18.04,9.02,11.48,11.48,10.66,7.38,16.4,8.2,12.3,18.86,6.56,12.3,14.76,9.84,4.92,9.84,15.58,14.76,13.94,9.02,18.86,4.1,4.92,10.66,4.1,13.94,8.2,7.38,4.1,5.74,12.3,15.58,17.22,18.86,9.84,18.86,9.84,9.02,14.76,14.76,12.3,17.22,10.66,8.2,26.24,9.02,18.04,9.02,16.4,6.56,10.66,13.94,15.58,12.3,6.56,8.2,12.3,18.04,9.02,5.74,13.94,17.22,27.06,12.3,9.84,16.4,14.76,5.74,16.4,6.56,10.66,8.2,10.66,8.2,11.48,10.66,11.48,14.76,4.1,5.74,12.3,17.22,10.66,9.84,13.94,13.94,5.74,13.94,6.56,13.12,9.84,13.94,8.2,13.12,13.94,20.5,9.84,13.94,18.04,9.84,9.84,17.22,9.02,15.58,16.4,5.74,17.22,9.84,9.02,4.92,12.3,13.12,13.12,13.94,17.22,14.76,5.74,20.5,8.2,11.48,14.76,9.02,9.02,10.66,15.58,4.92,12.3,18.86,17.22,13.12,13.12,23.78,12.3,18.86,4.92,7.38,12.3,10.66,14.76,8.2,16.4,18.86,14.76,6.56,19.68,7.38,6.56,12.3,17.22,5.74,9.84,13.12,17.22,10.66,14.76,16.4,9.84,17.22,21.32,13.94,7.38,8.2,4.92,9.02,22.96,12.3,17.22,8.2,9.84,13.12,12.3,7.38,13.94,18.04,9.84,10.66,5.74,9.02,11.48,8.2,10.66,12.3,9.84,22.14,9.84,18.04,15.58,13.94,10.66,4.92,12.3,9.84,5.74,11.48,13.94,6.56,13.94,12.3,7.38,16.4,13.12,9.84,13.12,10.66,9.84,8.2,8.2,9.02,13.12,12.3,21.32,8.2,10.66,12.3,17.22,10.66,14.76,6.56,9.84,18.86,13.94,9.84,12.3,13.94,8.2,8.2,9.02,9.02,5.74,10.66,12.3,16.4,18.86,4.92,9.84,9.84,6.56,13.12,22.14,8.2,8.2,22.96,9.02,12.3,22.96,10.66,10.66,10.66,9.84,10.66,16.4,13.94,4.92,10.66,6.56,4.92,10.66,10.66,13.94,20.5,11.48,9.02,18.04,17.22,14.76,12.3,11.48,10.66,13.12,3.28,20.5,6.56,6.56,8.2,1.64,13.94,13.12,18.86,9.02,13.12,9.84,9.02,19.68,10.66,9.84,16.4,13.12,9.02,9.84,6.56,24.6,10.66,13.94,12.3,13.94,7.38,11.48,17.22,13.94,8.2,4.92,9.02,9.02,8.2,9.84,13.12,22.96,8.2,10.66,11.48,3.28,10.66,9.02,15.58,16.4,16.4,12.3,4.1,12.3,13.12,8.2,8.2,18.04,9.02,9.84,18.04,6.56,16.4,9.02,22.96,12.3,5.74,11.48,11.48,8.2,9.84,5.74,18.04,12.3,4.92,9.84,6.56,16.4,12.3,18.86,8.2,9.84,8.2,13.94,7.38,9.84,7.38,15.58,10.66,18.04,15.58,18.04,18.86,10.66,18.04,9.02,16.4,14.76,8.2,14.76,15.58,10.66,13.94,9.84,10.66,8.2,15.58,9.02,12.3,8.2,18.86,13.94,9.02,8.2,9.84,21.32,25.42,9.02,13.12,6.56,16.4,8.2,9.84,18.86,13.94,9.84,14.76,16.4,18.04,10.66,13.12,14.76,18.86,5.74,14.76,9.84,4.1,22.96,9.02,8.2,14.76,12.3,13.12,10.66,14.76,14.76,22.14,17.22,21.32,13.94,8.2,18.04,13.12,9.02,4.92,10.66,9.02,13.12,14.76,18.86,11.48,13.12,18.04,17.22,11.48,16.4,8.2,10.66,7.38,18.04,12.3,16.4,6.56,8.2,13.94,22.96,18.04,4.1,19.68,9.02,13.12,24.6,10.66,18.86,18.04,6.56,18.04,7.38,8.2,9.02,18.86,13.12,10.66,8.2,4.92,5.74,14.76,20.5,14.76,18.04,14.76,6.56,18.04,9.02,10.66,24.6,9.02,12.3,12.3,19.68,14.76,4.92,6.56,13.12,9.02,10.66,10.66,4.92,13.12,9.02,15.58,9.84,12.3,18.04,15.58,16.4,17.22,9.84,7.38,18.04,13.12,18.04,9.84,10.66,14.76,5.74,8.2,6.56,7.38,9.84,10.66,8.2,23.78,9.84,10.66,4.1,5.74],\"xaxis\":\"x\",\"y\":[139,78,129,221,144,272,66,56,172,95,224,77,21,98,98,167,712,272,95,79,51,136,354,4,273,113,69,202,62,43,145,501,686,35,263,98,5,178,1,2,88,2,25,68,71,159,566,5,116,8,90,41,197,78,174,164,201,164,91,106,75,87,389,101,1,48,305,158,144,8,12,421,2,16,91,749,78,198,181,187,74,33,109,106,87,138,14,72,135,72,579,53,4,12,8,100,6,199,3,68,51,150,4,96,35,88,59,165,1,84,43,544,11,6,6,201,53,137,16,45,487,304,215,12,95,445,68,375,449,87,60,78,134,7,2,88,164,541,18,20,351,82,93,271,140,259,3,83,42,178,52,101,206,5,64,365,7,57,119,61,177,72,3,111,23,70,55,171,301,34,31,86,283,83,117,59,175,83,57,56,230,115,122,20,234,62,312,27,29,118,34,79,139,54,112,67,168,260,468,54,31,121,1,138,86,108,138,78,253,154,560,49,177,101,281,95,84,355,541,174,61,84,69,215,18,172,71,179,205,54,56,99,67,191,86,75,3,27,220,1,116,119,594,26,63,36,62,99,51,46,53,287,302,72,175,260,220,98,9,72,129,3,3,191,124,128,116,80,284,344,26,166,19,258,44,13,4,256,196,84,33,93,233,175,86,334,205,562,56,121,10,41,135,97,26,286,2,21,22,72,28,312,52,10,4,125,119,13,4,10,471,96,1,12,1,216,216,64,233,23,3,4,145,22,17,5,50,3,101,1,25,140,746,10,73,118,52,5,108,79,1,100,154,112,1,88,3,93,41,1,138,117,2,87,55,111,138,51,354,114,100,150,126,59,128,21,51,38,87,162,62,49,18,3,1,9,368,5,50,253,80,92,2,74,7,264,13,63,197,201,77,12,42,36,8,801,93,18,3,51,364,152,64,44,44,11,2,159,2,42,71,77,1,91,14,182,36,130,117,7,111,154,80,116,99,33,107,249,170,65,45,79,101,178,119,29,118,20,61,120,195,74,364,140,117,116,89,23,178,15,114,7,47,3,38,170,211,6,8,45,2,352,258,219,79,45,88,155,91,74,410,263,2,7,623,67,12,385,107,281,157,42,169,3,41,83,72,11,4,14,72,90,52,10,6,39,332,2,66,74,82,69,22,554,114,419,112,17,44,4,70,145,218,3,148,40,339,203,275,179,90,112,153,89,23,1,351,342,53,84,46,2,376,24,143,78,82,88,512,192,12,181,19,101,123,20,44,184,2,243,111,5,50,14,294,416,31,120,90,148,143,3,520,57,188,43,63,238,26,127,173,256,2,191,1,64,90,343,76,59,105,82,73,20,188,28,118,17,18,257,105,5,29,31,195,676,17,158,140,330,1,26,90,3,28,18,172,63,8,144,64,7,39,74,112,176,277,133,25,107,59,225,125,205,142,280,354,38,36,266,37,18,2,103,5,214,11,286,59,108,133,146,75,30,72,243,304,1,55,150,4,446,134,2,218,111,12,72,110,12,205,10,3,16,48,2,119,270,221,54,39,54,8,90,52,47,281,154,52,9,7,155,4,103,54,18,29,4,23,6,3,4,74,41,24,224,47,22,190,205,60,188,221,467,430,327,30,60,8,1,45,58,4,4,118,45,465,103,17,119,9,149,156,331,426,32,4,113,3,84,224,1,324,2,41,20,88,5,13,124,132,1,254,102,396,274,20,27,122,272,143,38,46,6,112,509,253,7,5,9,60,21,18,385,105,79,37,99,45,16,57,148,44,19,15,60,2,163,216,232,31,20,136,335,162,27,2,120,3,217,330,139,108,425,1,161,70,8,119,44,256,81,83,61,303,108,313,6,73,26,25,153,71,78,470,92,276,33,223,7,42,10,12,356,148,99,182,122,301,93,34,20,24,84,2,96,2,217,2,79,244,13,68,210,38,104,46,90,95,134,20,70,70,64,55,234,107,66,154,19,123,1,72,113,105,12,106,2,89,256,18,98,174,154,16,265,3,5,521,7,1,1,265,214,120,52,147,35,84,37,44,64,407,111,134,40,56,182,282,267,61,94,3,2,94,61,419,160,35,135,3,30,1,14,294,38,7,228,2,76,185,37,2,137,198,176,430,92,1,21,71,222,5,1,51,70,19,188,484,71,133,103,330,161,330,124,163,109,202,49,153,39,150,204,18,33,258,2,64,7,40,144,2,24,35,211,193,7,99,212,107,302,4,184,139,385,126,118,222,107,63,194,158,51,63,60,286,98,32,713,11,361,71,6,184,19,283,564,62,539,18,17,37,57,191,25,102,172,264,126,3,128,101,334,68,271,30,168,34,55,20,1,29,383,399,2,16,71,108,8,14,78,295,152,94,11,7,1,1,60,21,123,233,113,43,3,15,274,108,106,2,12,44,190,220,21,130,76,22,237,75,196,223,69,1,212,185,2,52,157,106,57,4,79,219,140,10,94,62,102,77,351,95,7,3,297,280,16,6,5,94,12,118,3,102,6,222,89,4,3,192,328,184,48,459,119,76,50,58,107,32,369,28,120,600,64,263,62,17,219,6,76,39,11,20,50,208,566,217,30,9,74,110,450,3,264,62,33,30,35,73,2,29,251,95,57,224,26,63,145,5,8,224,244,122,129,5,1,2,54,306,137,28,64,134,3,75,155,90,29,590,46,2,4,75,133,149,12,7,147,377,585,119,2,47,2,51,150,32,2,170,70,4,18,343,43,120,99,299,134,300,69,69,157,16,178,195,50,58,16,233,3,5,417,123,64,9,24,37,54,135,220,406,76,125,91,97,9,2,498,6,3,9,95,51,46,20,67,227,65,412,390,258,181,32,20,161,87,82,29,315,3,123,51,9,63,120,310,63,14,3,5,210,56,182,140,17,118,164,28,190,20,97,53,8,13,114,45,155,202,4,17,133,164,39,89,690,27,31,1,225,83,16,77,8,101,171,54,160,30,12,64,47,110,78,39,78,327,197,36,5,321,1,408,48,66,79,202,66,501,141,223,209,176,11,182,129,18,27,3,28,170,67,47,7,7,4,43,25,31,238,93,38,4,246,42,34,55,83,132,84,166,255,226,44,3,49,1,100,331,7,134,211,32,121,35,152,16,179,206,10,140,86,129,53,59,97,441,5,2,6,40,113,96,4,5,110,2,86,388,118,1,399,1,15,63,105,99,88,282,124,202,220,136,42,85,291,29,128,359,101,6,63,13,260,4,5,525,26,322,71,17,13,286,237,651,161,99,34,241,175,463,210,153,499,53,108,51,49,204,9,57,118,3,170,2,39,80,116,193,34,50,86,80,63,50,62,1,205,301,194,36,90,134,124,130,549,1,64,274,114,45,287,161,4,597,190,17,47,124,23,17,54,1,50,25,76,55,151,2,14,523,55,368,107,256,253,244,86,95,77,612,1,17,69,78,151,275,188,3,5,95,57,142,515,70,68,6,112,211,226,9,90,88,137,351,11,332,98,147,235,37,33,36,216,782,147,23,96,443,4,3,111,64,231,3,9,86,190,23,38,68,32,125,198,39,260,18,128,52,62,110,191,1,157,20,88,165,23,10,3,11,93,281,256,225,35,141,315,184,52,3,221,180,44,47,32,166,91,2,79,5,194,124,231,106,97,134,36,94,14,243,181,99,233,88,68,141,156,129,2,205,195,45,4,3,208,87,226,288,168,28,55,211,304,4,36,66,90,78,205,87,296,31,100,110,92,93,14,66,327,75,174,4,117,17,1,22,99,45,4,234,33,12,83,79,464,229,66,205,129,2,132,248,22,197,53,187,721,14,70,40,17,27,20,174,126,157,81,74,12,18,214,94,78,240,385,111,78,314,118,202,118,76,16,3,22,2,25,28,52,332,24,3,214,125,14,86,268,268,5,178,1,113,241,187,1,97,265,2,78,161,171,157,11,177,9,437,32,64,93,132,5,4,5,2,262,118,222,38,10,100,90,3,201,60,84,262,50,2,89,180,5,129,212,361,22,308,90,90,23,144,205,190,170,17,228,43,4,69,2,37,161,20,41,86,518,1,74,228,124,106,143,157,65,428,19,115,168,57,183,52,3,206,53,44,71,207,16,109,75,130,4,20,151,62,11,250,39,4,104,188,282,91,120,508,55,64,23,8,111,3,15,185,73,168,20,1,9,52,19,150,77,135,1,139,127,105,299,83,197,145,17,6,406,86,57,200,52,12,240,3,22,108,25,27,106,17,281,114,48,3,107,123,65,211,2,59,126,283,248,154,95,177,100,96,26,69,2,36,221,16,242,487,41,40,167,178,3,2,19,346,47,6,76,2,7,3,180,6,47,180,110,2,13,2,5,71,22,151,299,83,78,56,223,4,53,489,75,1,26,39,29,1,3,34,146,1,92,61,401,175,6,91,26,1,111,154,123,36,1,14,192,14,17,91,267,61,58,10,52,42,80,26,65,23,45,89,5,97,25,31,314,124,103,72,11,71,122,13,226,48,85,28,18,39,22,47,27,228,207,593,4,171,206,59,138,164,173,338,44,2,60,130,230,82,7,69,47,7,289,35,70,52,198,192,15,71,6,488,267,61,66,417,18,141,51,83,103,59,11,495,85,2,119,70,153,1,1,299,262,99,205,102,114,60,307,16,9,74,503,23,52,4,97,146,72,88,308,118,78,241,121,3,87,1,243,1,109,156,24,4,32,238,544,509,1,202,233,33,288,138,15,662,42,427,61,3,88,120,116,1,47,140,117,299,185,7,72,179,47,381,48,41,76,2,387,10,101,38,19,5,148,2,154,182,6,126,10,133,64,119,140,311,445,109,136,222,188,76,188,513,14,99,126,448,57,122,7,73,102,54,68,67,13,31],\"yaxis\":\"y\",\"type\":\"scattergl\"},{\"customdata\":[[\"Friday\",11],[\"Saturday\",10],[\"Saturday\",10],[\"Sunday\",10],[\"Saturday\",12],[\"Monday\",12],[\"Monday\",11],[\"Tuesday\",12],[\"Wednesday\",11],[\"Monday\",12],[\"Saturday\",11],[\"Saturday\",11],[\"Monday\",12],[\"Wednesday\",12],[\"Saturday\",12],[\"Saturday\",11],[\"Wednesday\",11],[\"Tuesday\",11],[\"Tuesday\",10],[\"Friday\",12],[\"Saturday\",12],[\"Monday\",11],[\"Saturday\",11],[\"Thursday\",10],[\"Friday\",10],[\"Tuesday\",10],[\"Thursday\",11],[\"Saturday\",12],[\"Friday\",11],[\"Wednesday\",11],[\"Sunday\",11],[\"Thursday\",10],[\"Sunday\",10],[\"Thursday\",11],[\"Sunday\",12],[\"Friday\",11],[\"Wednesday\",10],[\"Tuesday\",12],[\"Wednesday\",10],[\"Saturday\",12],[\"Tuesday\",10],[\"Sunday\",10],[\"Sunday\",11],[\"Thursday\",12],[\"Wednesday\",11],[\"Wednesday\",12],[\"Sunday\",11],[\"Tuesday\",10],[\"Wednesday\",11],[\"Friday\",12],[\"Sunday\",10],[\"Sunday\",12],[\"Sunday\",11],[\"Saturday\",12],[\"Saturday\",12],[\"Saturday\",12],[\"Thursday\",11],[\"Tuesday\",10],[\"Tuesday\",10],[\"Sunday\",12],[\"Tuesday\",11],[\"Friday\",10],[\"Wednesday\",11],[\"Saturday\",12],[\"Saturday\",11],[\"Wednesday\",11],[\"Thursday\",11],[\"Sunday\",10],[\"Sunday\",10],[\"Monday\",10],[\"Sunday\",11],[\"Sunday\",10],[\"Tuesday\",10],[\"Tuesday\",12],[\"Friday\",12],[\"Saturday\",12],[\"Saturday\",11],[\"Friday\",12],[\"Wednesday\",11],[\"Thursday\",11],[\"Thursday\",10],[\"Sunday\",11],[\"Monday\",12],[\"Thursday\",11],[\"Wednesday\",10],[\"Saturday\",10],[\"Monday\",12],[\"Monday\",12],[\"Saturday\",11],[\"Wednesday\",12],[\"Wednesday\",10],[\"Wednesday\",10],[\"Sunday\",10],[\"Saturday\",10],[\"Thursday\",10],[\"Monday\",10],[\"Saturday\",11],[\"Tuesday\",11],[\"Saturday\",10],[\"Monday\",10],[\"Monday\",11],[\"Wednesday\",10],[\"Sunday\",10],[\"Saturday\",12],[\"Tuesday\",11],[\"Sunday\",10],[\"Monday\",12],[\"Wednesday\",10],[\"Friday\",11],[\"Tuesday\",10],[\"Friday\",11],[\"Thursday\",10],[\"Saturday\",11],[\"Friday\",12],[\"Wednesday\",10],[\"Saturday\",11],[\"Saturday\",11],[\"Friday\",11],[\"Friday\",11],[\"Friday\",12],[\"Saturday\",11],[\"Monday\",11],[\"Saturday\",10],[\"Saturday\",11],[\"Tuesday\",11],[\"Sunday\",11],[\"Thursday\",12],[\"Thursday\",11],[\"Thursday\",12],[\"Saturday\",12],[\"Wednesday\",12],[\"Tuesday\",12],[\"Saturday\",10],[\"Monday\",12],[\"Friday\",11],[\"Friday\",12],[\"Thursday\",12],[\"Wednesday\",11],[\"Friday\",10],[\"Wednesday\",10],[\"Monday\",10],[\"Monday\",11],[\"Friday\",11],[\"Tuesday\",12],[\"Tuesday\",10],[\"Thursday\",12],[\"Wednesday\",10],[\"Friday\",10],[\"Monday\",11],[\"Thursday\",11],[\"Monday\",11],[\"Thursday\",11],[\"Thursday\",12],[\"Saturday\",11],[\"Monday\",11],[\"Friday\",10],[\"Wednesday\",12],[\"Monday\",10],[\"Saturday\",12],[\"Thursday\",10],[\"Monday\",12],[\"Wednesday\",11],[\"Saturday\",11],[\"Wednesday\",11],[\"Friday\",10],[\"Tuesday\",11],[\"Saturday\",11],[\"Thursday\",11],[\"Tuesday\",12],[\"Friday\",10],[\"Thursday\",11],[\"Saturday\",12],[\"Sunday\",11],[\"Thursday\",11],[\"Thursday\",11],[\"Sunday\",12],[\"Tuesday\",12],[\"Saturday\",10],[\"Sunday\",11],[\"Wednesday\",11],[\"Friday\",11],[\"Saturday\",10],[\"Thursday\",10],[\"Monday\",10],[\"Sunday\",10],[\"Sunday\",12],[\"Friday\",12],[\"Saturday\",11],[\"Thursday\",11],[\"Saturday\",10],[\"Monday\",11],[\"Saturday\",10],[\"Monday\",11],[\"Wednesday\",10],[\"Tuesday\",12],[\"Tuesday\",12],[\"Sunday\",12],[\"Sunday\",10],[\"Friday\",10],[\"Monday\",11],[\"Sunday\",10],[\"Thursday\",12],[\"Monday\",12],[\"Saturday\",12],[\"Tuesday\",11],[\"Tuesday\",12],[\"Tuesday\",11],[\"Sunday\",10],[\"Monday\",10],[\"Thursday\",11],[\"Saturday\",12],[\"Sunday\",10],[\"Thursday\",10],[\"Tuesday\",11],[\"Friday\",12],[\"Wednesday\",11],[\"Sunday\",12],[\"Monday\",10],[\"Monday\",10],[\"Saturday\",11],[\"Friday\",11],[\"Thursday\",12],[\"Thursday\",11],[\"Monday\",11],[\"Sunday\",11],[\"Wednesday\",12],[\"Friday\",10],[\"Friday\",11],[\"Friday\",10],[\"Friday\",11],[\"Sunday\",11],[\"Thursday\",11],[\"Thursday\",10],[\"Monday\",10],[\"Monday\",11],[\"Sunday\",12],[\"Wednesday\",11],[\"Sunday\",12],[\"Thursday\",12],[\"Friday\",10],[\"Monday\",10],[\"Sunday\",12],[\"Saturday\",11],[\"Thursday\",10],[\"Saturday\",11],[\"Tuesday\",12],[\"Tuesday\",12],[\"Monday\",12],[\"Sunday\",11],[\"Monday\",10],[\"Friday\",10],[\"Wednesday\",10],[\"Tuesday\",12],[\"Sunday\",11],[\"Sunday\",11],[\"Monday\",12],[\"Friday\",11],[\"Monday\",12],[\"Saturday\",11],[\"Tuesday\",11],[\"Thursday\",10],[\"Sunday\",12],[\"Tuesday\",10],[\"Tuesday\",11],[\"Monday\",12],[\"Tuesday\",11],[\"Monday\",12],[\"Saturday\",12],[\"Monday\",10],[\"Thursday\",12],[\"Monday\",11],[\"Saturday\",12],[\"Thursday\",12],[\"Friday\",11],[\"Tuesday\",10],[\"Saturday\",10],[\"Friday\",11],[\"Thursday\",12],[\"Tuesday\",12],[\"Friday\",10],[\"Thursday\",10],[\"Tuesday\",11],[\"Sunday\",10],[\"Monday\",10],[\"Monday\",10],[\"Wednesday\",11],[\"Sunday\",10],[\"Sunday\",11],[\"Thursday\",11],[\"Wednesday\",12],[\"Friday\",11],[\"Saturday\",11],[\"Wednesday\",12],[\"Wednesday\",12],[\"Tuesday\",12],[\"Thursday\",11],[\"Tuesday\",11],[\"Friday\",10],[\"Wednesday\",10],[\"Tuesday\",10],[\"Sunday\",10],[\"Thursday\",11],[\"Wednesday\",11],[\"Friday\",12],[\"Tuesday\",12],[\"Wednesday\",10],[\"Saturday\",12],[\"Thursday\",10],[\"Sunday\",11],[\"Friday\",12],[\"Sunday\",10],[\"Sunday\",11],[\"Monday\",10],[\"Saturday\",11],[\"Wednesday\",10],[\"Thursday\",12],[\"Sunday\",12],[\"Saturday\",12],[\"Monday\",12],[\"Saturday\",12],[\"Sunday\",12],[\"Wednesday\",12],[\"Sunday\",12],[\"Wednesday\",10],[\"Friday\",11],[\"Thursday\",12],[\"Saturday\",10],[\"Monday\",12],[\"Sunday\",12],[\"Saturday\",12],[\"Sunday\",12],[\"Saturday\",12],[\"Tuesday\",10],[\"Monday\",10],[\"Sunday\",12],[\"Saturday\",12],[\"Monday\",12],[\"Thursday\",11],[\"Friday\",10],[\"Saturday\",10],[\"Sunday\",12],[\"Wednesday\",10],[\"Sunday\",10],[\"Thursday\",11],[\"Thursday\",12],[\"Monday\",11],[\"Tuesday\",10],[\"Sunday\",11],[\"Friday\",12],[\"Saturday\",12],[\"Sunday\",12],[\"Tuesday\",11],[\"Tuesday\",11],[\"Tuesday\",11],[\"Friday\",10],[\"Wednesday\",12],[\"Sunday\",12],[\"Sunday\",11],[\"Thursday\",11],[\"Saturday\",11],[\"Tuesday\",10],[\"Monday\",10],[\"Saturday\",10],[\"Saturday\",12],[\"Sunday\",11],[\"Wednesday\",11],[\"Sunday\",11],[\"Wednesday\",12],[\"Thursday\",12],[\"Monday\",10],[\"Tuesday\",12],[\"Sunday\",11],[\"Thursday\",11],[\"Sunday\",12],[\"Saturday\",12],[\"Saturday\",11],[\"Friday\",12],[\"Sunday\",10],[\"Thursday\",10],[\"Thursday\",11],[\"Saturday\",12],[\"Friday\",12],[\"Sunday\",11],[\"Thursday\",12],[\"Saturday\",10],[\"Wednesday\",10],[\"Friday\",10],[\"Wednesday\",10],[\"Friday\",11],[\"Thursday\",12],[\"Sunday\",12],[\"Monday\",12],[\"Wednesday\",10],[\"Wednesday\",10],[\"Wednesday\",12],[\"Tuesday\",12],[\"Monday\",12],[\"Friday\",11],[\"Saturday\",10],[\"Friday\",11],[\"Monday\",11],[\"Wednesday\",10],[\"Monday\",11],[\"Tuesday\",11],[\"Wednesday\",12],[\"Wednesday\",12],[\"Friday\",11],[\"Tuesday\",10],[\"Wednesday\",11],[\"Tuesday\",11],[\"Friday\",10],[\"Wednesday\",11],[\"Tuesday\",10],[\"Wednesday\",11],[\"Sunday\",11],[\"Sunday\",12],[\"Wednesday\",10],[\"Friday\",11],[\"Saturday\",12],[\"Saturday\",12],[\"Tuesday\",10],[\"Monday\",10],[\"Tuesday\",11],[\"Monday\",12],[\"Thursday\",12],[\"Sunday\",12],[\"Wednesday\",12],[\"Wednesday\",11],[\"Saturday\",12],[\"Monday\",10],[\"Monday\",11],[\"Thursday\",10],[\"Monday\",10],[\"Thursday\",10],[\"Monday\",12],[\"Friday\",12],[\"Tuesday\",10],[\"Friday\",10],[\"Tuesday\",12],[\"Friday\",11],[\"Sunday\",10],[\"Friday\",12],[\"Wednesday\",11],[\"Saturday\",10],[\"Monday\",11],[\"Saturday\",11],[\"Sunday\",10],[\"Thursday\",12],[\"Sunday\",12],[\"Tuesday\",10],[\"Thursday\",10],[\"Wednesday\",11],[\"Monday\",10],[\"Wednesday\",10],[\"Monday\",12],[\"Monday\",12],[\"Tuesday\",10],[\"Monday\",12],[\"Friday\",10],[\"Thursday\",11],[\"Friday\",12],[\"Wednesday\",12],[\"Thursday\",12],[\"Friday\",12],[\"Thursday\",10],[\"Sunday\",11],[\"Friday\",12],[\"Sunday\",12],[\"Tuesday\",11],[\"Friday\",11],[\"Monday\",10],[\"Thursday\",10],[\"Saturday\",10],[\"Monday\",10],[\"Monday\",10],[\"Monday\",11],[\"Thursday\",11],[\"Wednesday\",12],[\"Thursday\",10],[\"Friday\",11],[\"Tuesday\",10],[\"Monday\",12],[\"Tuesday\",12],[\"Thursday\",10],[\"Thursday\",11],[\"Friday\",12],[\"Sunday\",12],[\"Sunday\",12],[\"Tuesday\",12],[\"Tuesday\",10],[\"Monday\",12],[\"Sunday\",11],[\"Thursday\",12],[\"Wednesday\",10],[\"Thursday\",11],[\"Saturday\",10],[\"Thursday\",11],[\"Saturday\",10],[\"Wednesday\",11],[\"Saturday\",11],[\"Friday\",10],[\"Tuesday\",12],[\"Tuesday\",10],[\"Friday\",10],[\"Friday\",12],[\"Tuesday\",12],[\"Sunday\",12],[\"Friday\",11],[\"Sunday\",10],[\"Tuesday\",12],[\"Saturday\",12],[\"Saturday\",11],[\"Saturday\",10],[\"Monday\",10],[\"Sunday\",12],[\"Saturday\",10],[\"Monday\",11],[\"Tuesday\",10],[\"Saturday\",10],[\"Tuesday\",10],[\"Wednesday\",12],[\"Monday\",12],[\"Monday\",10],[\"Sunday\",11],[\"Tuesday\",10],[\"Friday\",12],[\"Monday\",12],[\"Sunday\",10],[\"Wednesday\",12],[\"Thursday\",10],[\"Friday\",11],[\"Friday\",11],[\"Monday\",10],[\"Friday\",10],[\"Saturday\",10],[\"Monday\",11],[\"Wednesday\",11],[\"Wednesday\",10],[\"Sunday\",10],[\"Friday\",10],[\"Sunday\",11],[\"Thursday\",10],[\"Sunday\",11],[\"Saturday\",11],[\"Sunday\",11],[\"Friday\",10],[\"Wednesday\",12],[\"Friday\",11],[\"Thursday\",11],[\"Thursday\",11],[\"Saturday\",11],[\"Tuesday\",11],[\"Saturday\",12],[\"Thursday\",12],[\"Friday\",12],[\"Sunday\",12],[\"Sunday\",11],[\"Sunday\",11],[\"Tuesday\",10],[\"Monday\",11],[\"Friday\",11],[\"Sunday\",10],[\"Wednesday\",11],[\"Thursday\",12],[\"Monday\",11],[\"Friday\",10],[\"Tuesday\",10],[\"Tuesday\",11],[\"Thursday\",12],[\"Saturday\",11],[\"Tuesday\",11],[\"Friday\",10],[\"Tuesday\",11],[\"Monday\",12],[\"Saturday\",10],[\"Thursday\",10],[\"Thursday\",11],[\"Monday\",10],[\"Friday\",11],[\"Saturday\",11],[\"Wednesday\",10],[\"Thursday\",11],[\"Thursday\",12],[\"Sunday\",12],[\"Thursday\",11],[\"Monday\",12],[\"Friday\",12],[\"Saturday\",11],[\"Saturday\",11],[\"Saturday\",12],[\"Tuesday\",10],[\"Thursday\",11],[\"Tuesday\",11],[\"Thursday\",12],[\"Tuesday\",12],[\"Saturday\",12],[\"Monday\",12],[\"Thursday\",12],[\"Saturday\",10],[\"Wednesday\",11],[\"Sunday\",12],[\"Monday\",10],[\"Saturday\",12],[\"Thursday\",10],[\"Wednesday\",11],[\"Tuesday\",11],[\"Sunday\",12],[\"Sunday\",11],[\"Monday\",10],[\"Thursday\",12],[\"Friday\",11],[\"Wednesday\",11],[\"Tuesday\",12],[\"Friday\",10],[\"Friday\",10],[\"Tuesday\",12],[\"Wednesday\",11],[\"Monday\",11],[\"Saturday\",12],[\"Monday\",12],[\"Wednesday\",11],[\"Sunday\",11],[\"Friday\",12],[\"Thursday\",12],[\"Tuesday\",10],[\"Saturday\",12],[\"Thursday\",10],[\"Tuesday\",12],[\"Saturday\",11],[\"Saturday\",12],[\"Saturday\",12],[\"Wednesday\",10],[\"Wednesday\",11],[\"Tuesday\",11],[\"Thursday\",10],[\"Tuesday\",10],[\"Thursday\",12],[\"Sunday\",10],[\"Saturday\",11],[\"Saturday\",11],[\"Saturday\",12],[\"Friday\",12],[\"Sunday\",12],[\"Sunday\",12],[\"Saturday\",11],[\"Friday\",12],[\"Thursday\",10],[\"Wednesday\",12],[\"Saturday\",11],[\"Wednesday\",11],[\"Wednesday\",11],[\"Sunday\",10],[\"Sunday\",12],[\"Monday\",11],[\"Tuesday\",12],[\"Wednesday\",10],[\"Monday\",12],[\"Saturday\",10],[\"Saturday\",12],[\"Friday\",11],[\"Thursday\",10],[\"Tuesday\",11],[\"Thursday\",11],[\"Tuesday\",10],[\"Monday\",12],[\"Wednesday\",10],[\"Thursday\",11],[\"Sunday\",12],[\"Friday\",11],[\"Friday\",11],[\"Sunday\",11],[\"Sunday\",11],[\"Saturday\",12],[\"Monday\",10],[\"Monday\",10],[\"Saturday\",11],[\"Saturday\",10],[\"Saturday\",10],[\"Saturday\",10],[\"Saturday\",11],[\"Sunday\",10],[\"Tuesday\",12],[\"Thursday\",12],[\"Tuesday\",11],[\"Sunday\",10],[\"Wednesday\",10],[\"Saturday\",10],[\"Friday\",12],[\"Thursday\",12],[\"Sunday\",11],[\"Friday\",12],[\"Thursday\",10],[\"Monday\",11],[\"Saturday\",12],[\"Wednesday\",10],[\"Sunday\",10],[\"Tuesday\",10],[\"Tuesday\",10],[\"Tuesday\",11],[\"Sunday\",10],[\"Monday\",12],[\"Thursday\",11],[\"Wednesday\",12],[\"Monday\",11],[\"Thursday\",11],[\"Saturday\",11],[\"Monday\",12],[\"Monday\",12],[\"Sunday\",12],[\"Sunday\",11],[\"Thursday\",11],[\"Monday\",10],[\"Saturday\",11],[\"Thursday\",12],[\"Sunday\",10],[\"Monday\",10],[\"Wednesday\",10],[\"Monday\",10],[\"Monday\",12],[\"Monday\",12],[\"Tuesday\",11],[\"Monday\",11],[\"Wednesday\",12],[\"Sunday\",12],[\"Monday\",12],[\"Sunday\",10],[\"Tuesday\",11],[\"Wednesday\",11],[\"Saturday\",11],[\"Wednesday\",10],[\"Monday\",12],[\"Friday\",10],[\"Tuesday\",12],[\"Thursday\",11],[\"Saturday\",10],[\"Tuesday\",10],[\"Sunday\",10],[\"Monday\",11],[\"Monday\",10],[\"Thursday\",12],[\"Friday\",12],[\"Wednesday\",12],[\"Thursday\",10],[\"Wednesday\",10],[\"Sunday\",11],[\"Monday\",10],[\"Thursday\",12],[\"Wednesday\",11],[\"Thursday\",11],[\"Saturday\",12],[\"Friday\",11],[\"Monday\",10],[\"Saturday\",11],[\"Tuesday\",12],[\"Tuesday\",12],[\"Monday\",10],[\"Tuesday\",10],[\"Monday\",11],[\"Friday\",12],[\"Wednesday\",12],[\"Monday\",10],[\"Friday\",11],[\"Saturday\",11],[\"Sunday\",12],[\"Saturday\",10],[\"Friday\",10],[\"Saturday\",11],[\"Friday\",11],[\"Thursday\",11],[\"Friday\",10],[\"Monday\",12],[\"Wednesday\",10],[\"Friday\",10],[\"Thursday\",12],[\"Tuesday\",10],[\"Tuesday\",11],[\"Monday\",12],[\"Friday\",12],[\"Friday\",12],[\"Saturday\",12],[\"Friday\",11],[\"Sunday\",12],[\"Saturday\",10],[\"Wednesday\",11],[\"Sunday\",10],[\"Tuesday\",12],[\"Sunday\",10],[\"Thursday\",12],[\"Wednesday\",12],[\"Thursday\",11],[\"Monday\",12],[\"Friday\",12],[\"Friday\",12],[\"Thursday\",11],[\"Tuesday\",12],[\"Friday\",12],[\"Monday\",11],[\"Monday\",11],[\"Thursday\",12],[\"Saturday\",12],[\"Saturday\",10],[\"Wednesday\",12],[\"Saturday\",12],[\"Friday\",11],[\"Tuesday\",10],[\"Saturday\",12],[\"Sunday\",12],[\"Tuesday\",10],[\"Wednesday\",12],[\"Monday\",10],[\"Saturday\",10],[\"Wednesday\",10],[\"Sunday\",10],[\"Wednesday\",12],[\"Saturday\",10],[\"Tuesday\",10],[\"Friday\",11],[\"Sunday\",11],[\"Saturday\",11],[\"Thursday\",10],[\"Sunday\",10],[\"Tuesday\",12],[\"Sunday\",12],[\"Thursday\",11],[\"Monday\",10],[\"Monday\",10],[\"Monday\",12],[\"Friday\",10],[\"Tuesday\",10],[\"Wednesday\",10],[\"Sunday\",10],[\"Sunday\",10],[\"Wednesday\",11],[\"Tuesday\",11],[\"Monday\",10],[\"Sunday\",10],[\"Sunday\",10],[\"Wednesday\",11],[\"Tuesday\",10],[\"Monday\",10],[\"Monday\",12],[\"Wednesday\",12],[\"Monday\",12],[\"Friday\",11],[\"Monday\",10],[\"Tuesday\",10],[\"Friday\",11],[\"Sunday\",10],[\"Saturday\",12],[\"Sunday\",11],[\"Sunday\",11],[\"Friday\",12],[\"Monday\",10],[\"Friday\",11],[\"Thursday\",10],[\"Tuesday\",11],[\"Sunday\",12],[\"Wednesday\",10],[\"Tuesday\",10],[\"Tuesday\",12],[\"Monday\",12],[\"Thursday\",11],[\"Saturday\",12],[\"Monday\",10],[\"Wednesday\",12],[\"Sunday\",11],[\"Wednesday\",10],[\"Friday\",12],[\"Friday\",12],[\"Saturday\",12],[\"Monday\",12],[\"Thursday\",10],[\"Thursday\",10],[\"Friday\",12],[\"Saturday\",10],[\"Friday\",11],[\"Friday\",12],[\"Saturday\",11],[\"Tuesday\",10],[\"Tuesday\",12],[\"Friday\",10],[\"Wednesday\",12],[\"Monday\",10],[\"Sunday\",11],[\"Thursday\",11],[\"Sunday\",12],[\"Wednesday\",11],[\"Sunday\",12],[\"Saturday\",11],[\"Thursday\",10],[\"Wednesday\",10],[\"Saturday\",10],[\"Thursday\",11],[\"Sunday\",12],[\"Thursday\",11],[\"Thursday\",11],[\"Monday\",11],[\"Friday\",10],[\"Monday\",11],[\"Thursday\",10],[\"Thursday\",10],[\"Monday\",12],[\"Saturday\",10],[\"Monday\",11],[\"Tuesday\",12],[\"Wednesday\",10],[\"Tuesday\",10],[\"Sunday\",12],[\"Friday\",10],[\"Wednesday\",11],[\"Thursday\",11],[\"Monday\",10],[\"Friday\",12],[\"Wednesday\",12],[\"Monday\",12],[\"Thursday\",10],[\"Friday\",10],[\"Monday\",12],[\"Saturday\",12],[\"Saturday\",10],[\"Sunday\",12],[\"Sunday\",12],[\"Sunday\",12],[\"Tuesday\",10],[\"Thursday\",11],[\"Tuesday\",12],[\"Saturday\",11],[\"Sunday\",10],[\"Sunday\",12],[\"Saturday\",10],[\"Tuesday\",10],[\"Monday\",10],[\"Friday\",12],[\"Sunday\",12],[\"Tuesday\",11],[\"Wednesday\",11],[\"Friday\",12],[\"Friday\",12],[\"Friday\",11],[\"Monday\",12],[\"Friday\",10],[\"Thursday\",12],[\"Tuesday\",11],[\"Monday\",10],[\"Monday\",10],[\"Wednesday\",12],[\"Wednesday\",11],[\"Thursday\",11],[\"Saturday\",11],[\"Monday\",12],[\"Friday\",12],[\"Sunday\",11],[\"Tuesday\",11],[\"Friday\",10],[\"Saturday\",12],[\"Thursday\",12],[\"Tuesday\",11],[\"Friday\",11],[\"Sunday\",12],[\"Friday\",10],[\"Wednesday\",10],[\"Saturday\",12],[\"Friday\",12],[\"Tuesday\",10],[\"Saturday\",10],[\"Wednesday\",12],[\"Saturday\",11],[\"Saturday\",12],[\"Monday\",11],[\"Tuesday\",10],[\"Sunday\",10],[\"Saturday\",10],[\"Wednesday\",10],[\"Wednesday\",12],[\"Wednesday\",10],[\"Tuesday\",10],[\"Monday\",10],[\"Wednesday\",10],[\"Thursday\",11],[\"Saturday\",11],[\"Sunday\",10],[\"Saturday\",11],[\"Wednesday\",12],[\"Monday\",10],[\"Wednesday\",10],[\"Sunday\",11],[\"Monday\",12],[\"Friday\",12],[\"Tuesday\",12],[\"Thursday\",11],[\"Wednesday\",11],[\"Wednesday\",12],[\"Monday\",10],[\"Sunday\",12],[\"Thursday\",11],[\"Saturday\",10],[\"Thursday\",11],[\"Thursday\",12],[\"Tuesday\",12],[\"Saturday\",10],[\"Tuesday\",10],[\"Tuesday\",12],[\"Tuesday\",11],[\"Saturday\",11],[\"Sunday\",11],[\"Saturday\",12],[\"Tuesday\",11],[\"Tuesday\",10],[\"Monday\",12],[\"Monday\",11],[\"Tuesday\",11],[\"Friday\",11],[\"Sunday\",12],[\"Thursday\",10],[\"Wednesday\",11],[\"Friday\",11],[\"Saturday\",12],[\"Monday\",11],[\"Thursday\",11],[\"Friday\",10],[\"Wednesday\",12],[\"Saturday\",10],[\"Friday\",11],[\"Tuesday\",12],[\"Monday\",10],[\"Thursday\",12],[\"Wednesday\",11],[\"Monday\",11],[\"Thursday\",10],[\"Sunday\",11],[\"Saturday\",12],[\"Monday\",11],[\"Saturday\",10],[\"Sunday\",12],[\"Wednesday\",10],[\"Tuesday\",11],[\"Friday\",12],[\"Tuesday\",11],[\"Friday\",11],[\"Tuesday\",11],[\"Wednesday\",12],[\"Tuesday\",12],[\"Monday\",12],[\"Monday\",12],[\"Monday\",12],[\"Saturday\",11],[\"Thursday\",11],[\"Monday\",10],[\"Friday\",11],[\"Saturday\",11],[\"Thursday\",10],[\"Monday\",10],[\"Friday\",12],[\"Sunday\",12],[\"Friday\",11],[\"Friday\",11],[\"Friday\",10],[\"Thursday\",11],[\"Monday\",10],[\"Friday\",10],[\"Monday\",10],[\"Tuesday\",11],[\"Friday\",11],[\"Thursday\",10],[\"Monday\",12],[\"Monday\",11],[\"Thursday\",12],[\"Monday\",11],[\"Friday\",12],[\"Tuesday\",11],[\"Thursday\",11],[\"Friday\",11],[\"Saturday\",11],[\"Friday\",10],[\"Wednesday\",12],[\"Saturday\",12],[\"Monday\",12],[\"Saturday\",10],[\"Saturday\",12],[\"Friday\",10],[\"Wednesday\",12],[\"Thursday\",11],[\"Thursday\",10],[\"Saturday\",10],[\"Tuesday\",12],[\"Monday\",10],[\"Wednesday\",12],[\"Saturday\",11],[\"Monday\",12],[\"Tuesday\",12],[\"Friday\",10],[\"Tuesday\",11],[\"Friday\",11],[\"Monday\",10],[\"Sunday\",12],[\"Thursday\",10],[\"Saturday\",10],[\"Wednesday\",11],[\"Wednesday\",10],[\"Tuesday\",12],[\"Wednesday\",10],[\"Friday\",10],[\"Thursday\",10],[\"Tuesday\",10],[\"Saturday\",10],[\"Saturday\",11],[\"Sunday\",10],[\"Sunday\",10],[\"Wednesday\",12],[\"Monday\",12],[\"Thursday\",11],[\"Friday\",10],[\"Sunday\",10],[\"Wednesday\",10],[\"Monday\",12],[\"Monday\",11],[\"Friday\",11],[\"Tuesday\",12],[\"Wednesday\",11],[\"Saturday\",11],[\"Friday\",11],[\"Monday\",11],[\"Tuesday\",12],[\"Monday\",12],[\"Tuesday\",12],[\"Saturday\",10],[\"Saturday\",11],[\"Sunday\",12],[\"Thursday\",10],[\"Thursday\",12],[\"Sunday\",12],[\"Wednesday\",11],[\"Monday\",11],[\"Thursday\",11],[\"Wednesday\",10],[\"Sunday\",11],[\"Saturday\",11],[\"Saturday\",12],[\"Tuesday\",11],[\"Tuesday\",12],[\"Tuesday\",11],[\"Thursday\",11],[\"Friday\",10],[\"Thursday\",12],[\"Wednesday\",12],[\"Friday\",10],[\"Sunday\",11],[\"Monday\",10],[\"Sunday\",12],[\"Tuesday\",12],[\"Wednesday\",12],[\"Saturday\",12],[\"Friday\",10],[\"Sunday\",12],[\"Sunday\",12],[\"Monday\",12],[\"Friday\",12],[\"Friday\",10],[\"Sunday\",12],[\"Thursday\",12],[\"Thursday\",11],[\"Sunday\",12],[\"Friday\",10],[\"Saturday\",10],[\"Friday\",10],[\"Monday\",12],[\"Wednesday\",10],[\"Monday\",12],[\"Monday\",10],[\"Monday\",12],[\"Monday\",10],[\"Thursday\",12],[\"Wednesday\",10],[\"Sunday\",10],[\"Wednesday\",10],[\"Wednesday\",10],[\"Sunday\",10],[\"Saturday\",12],[\"Wednesday\",12],[\"Monday\",12],[\"Friday\",12],[\"Saturday\",12],[\"Saturday\",10],[\"Wednesday\",10],[\"Monday\",10],[\"Saturday\",10],[\"Saturday\",12],[\"Wednesday\",12],[\"Saturday\",11],[\"Monday\",10],[\"Sunday\",10],[\"Monday\",11],[\"Sunday\",10],[\"Wednesday\",10],[\"Saturday\",10],[\"Thursday\",12],[\"Thursday\",10],[\"Monday\",11],[\"Monday\",12],[\"Tuesday\",11],[\"Friday\",11],[\"Monday\",11],[\"Monday\",11],[\"Sunday\",11],[\"Thursday\",11],[\"Saturday\",12],[\"Sunday\",12],[\"Tuesday\",11],[\"Tuesday\",10],[\"Wednesday\",12],[\"Wednesday\",10],[\"Thursday\",12],[\"Wednesday\",11],[\"Saturday\",12],[\"Tuesday\",11],[\"Wednesday\",12],[\"Saturday\",12],[\"Friday\",11],[\"Thursday\",11],[\"Wednesday\",12],[\"Monday\",10],[\"Thursday\",12],[\"Tuesday\",11],[\"Sunday\",11],[\"Wednesday\",10],[\"Friday\",11],[\"Saturday\",11],[\"Friday\",11],[\"Wednesday\",10],[\"Tuesday\",12],[\"Tuesday\",10],[\"Friday\",11],[\"Friday\",11],[\"Sunday\",11],[\"Saturday\",10],[\"Thursday\",11],[\"Monday\",10],[\"Saturday\",10],[\"Wednesday\",11],[\"Tuesday\",11],[\"Wednesday\",10],[\"Wednesday\",10],[\"Tuesday\",11],[\"Tuesday\",10],[\"Monday\",12],[\"Tuesday\",10],[\"Friday\",11],[\"Sunday\",12],[\"Tuesday\",12],[\"Wednesday\",10],[\"Friday\",11],[\"Monday\",11],[\"Monday\",11],[\"Tuesday\",10],[\"Wednesday\",11],[\"Thursday\",11],[\"Sunday\",11],[\"Wednesday\",12],[\"Sunday\",12],[\"Friday\",12],[\"Tuesday\",12],[\"Thursday\",12],[\"Wednesday\",11],[\"Thursday\",12],[\"Sunday\",10],[\"Wednesday\",11],[\"Wednesday\",12],[\"Sunday\",10],[\"Tuesday\",11],[\"Thursday\",12],[\"Thursday\",10],[\"Friday\",10],[\"Thursday\",12],[\"Sunday\",10],[\"Sunday\",10],[\"Friday\",11],[\"Sunday\",12],[\"Tuesday\",12],[\"Saturday\",12],[\"Wednesday\",12],[\"Sunday\",12],[\"Tuesday\",12],[\"Monday\",10],[\"Sunday\",11],[\"Saturday\",10],[\"Thursday\",11],[\"Monday\",12],[\"Friday\",12],[\"Friday\",11],[\"Saturday\",12],[\"Friday\",11],[\"Wednesday\",11],[\"Tuesday\",11],[\"Sunday\",10],[\"Wednesday\",12],[\"Tuesday\",10],[\"Thursday\",10],[\"Friday\",10],[\"Friday\",11],[\"Saturday\",10],[\"Wednesday\",11],[\"Monday\",12],[\"Thursday\",10],[\"Tuesday\",10],[\"Saturday\",10],[\"Monday\",11],[\"Friday\",12],[\"Thursday\",11],[\"Sunday\",11],[\"Monday\",11],[\"Friday\",12],[\"Sunday\",11],[\"Wednesday\",12],[\"Wednesday\",11],[\"Thursday\",11],[\"Monday\",11],[\"Tuesday\",10],[\"Wednesday\",12],[\"Monday\",10],[\"Wednesday\",10],[\"Sunday\",11],[\"Tuesday\",10],[\"Wednesday\",10],[\"Wednesday\",12],[\"Wednesday\",11],[\"Friday\",10],[\"Thursday\",12],[\"Sunday\",11],[\"Thursday\",10],[\"Thursday\",12],[\"Sunday\",11],[\"Saturday\",12],[\"Wednesday\",11],[\"Sunday\",11],[\"Wednesday\",10],[\"Monday\",11],[\"Saturday\",10],[\"Sunday\",12],[\"Friday\",11],[\"Sunday\",12],[\"Tuesday\",12],[\"Saturday\",11],[\"Sunday\",12],[\"Friday\",12],[\"Thursday\",11],[\"Sunday\",11],[\"Friday\",11],[\"Saturday\",11],[\"Wednesday\",12],[\"Wednesday\",10],[\"Friday\",12],[\"Friday\",10],[\"Tuesday\",11],[\"Tuesday\",10],[\"Wednesday\",10],[\"Thursday\",10],[\"Thursday\",10],[\"Thursday\",10],[\"Thursday\",12],[\"Sunday\",12],[\"Friday\",12],[\"Tuesday\",11],[\"Friday\",12],[\"Wednesday\",12],[\"Friday\",11],[\"Wednesday\",10],[\"Tuesday\",11],[\"Thursday\",10],[\"Monday\",12],[\"Sunday\",10],[\"Saturday\",10],[\"Wednesday\",10],[\"Wednesday\",10],[\"Friday\",10],[\"Sunday\",12],[\"Tuesday\",10],[\"Monday\",10],[\"Sunday\",11],[\"Saturday\",10],[\"Monday\",12],[\"Friday\",12],[\"Friday\",12],[\"Saturday\",11],[\"Friday\",11],[\"Sunday\",10],[\"Wednesday\",10],[\"Wednesday\",11],[\"Friday\",11],[\"Thursday\",12],[\"Monday\",10],[\"Friday\",12],[\"Tuesday\",10],[\"Monday\",12],[\"Friday\",11],[\"Sunday\",12],[\"Tuesday\",10],[\"Friday\",10],[\"Friday\",12],[\"Wednesday\",10],[\"Wednesday\",10],[\"Thursday\",12],[\"Friday\",12],[\"Sunday\",12],[\"Friday\",10],[\"Tuesday\",10],[\"Wednesday\",11],[\"Thursday\",10],[\"Thursday\",11],[\"Monday\",12],[\"Tuesday\",11],[\"Friday\",10],[\"Tuesday\",11],[\"Monday\",12],[\"Sunday\",10],[\"Monday\",12],[\"Friday\",11],[\"Tuesday\",10],[\"Monday\",12],[\"Sunday\",12],[\"Saturday\",12],[\"Friday\",11],[\"Wednesday\",12],[\"Friday\",11],[\"Saturday\",12],[\"Saturday\",11],[\"Wednesday\",12],[\"Sunday\",11],[\"Saturday\",11],[\"Tuesday\",10],[\"Wednesday\",11],[\"Wednesday\",10],[\"Sunday\",12],[\"Saturday\",12],[\"Saturday\",12],[\"Sunday\",10],[\"Tuesday\",12],[\"Friday\",11],[\"Thursday\",11],[\"Wednesday\",12],[\"Saturday\",10],[\"Monday\",11],[\"Monday\",10],[\"Friday\",11],[\"Wednesday\",10],[\"Saturday\",10],[\"Friday\",12],[\"Monday\",12],[\"Friday\",10],[\"Friday\",10],[\"Monday\",12],[\"Thursday\",10],[\"Tuesday\",10],[\"Saturday\",11],[\"Sunday\",10],[\"Saturday\",11],[\"Wednesday\",11],[\"Thursday\",11],[\"Sunday\",12],[\"Wednesday\",10],[\"Monday\",12],[\"Friday\",11],[\"Wednesday\",10],[\"Tuesday\",10],[\"Sunday\",12],[\"Monday\",12],[\"Wednesday\",12],[\"Tuesday\",11],[\"Saturday\",12],[\"Sunday\",10],[\"Monday\",12],[\"Friday\",10],[\"Sunday\",12],[\"Wednesday\",11],[\"Tuesday\",10],[\"Tuesday\",10],[\"Sunday\",10],[\"Monday\",10],[\"Tuesday\",11],[\"Friday\",12],[\"Wednesday\",10],[\"Sunday\",10],[\"Thursday\",10],[\"Wednesday\",11],[\"Friday\",12],[\"Monday\",11],[\"Wednesday\",10],[\"Tuesday\",10],[\"Friday\",11],[\"Thursday\",12],[\"Tuesday\",10],[\"Friday\",10],[\"Thursday\",12],[\"Thursday\",10],[\"Friday\",10],[\"Saturday\",12],[\"Thursday\",10],[\"Thursday\",10],[\"Saturday\",12],[\"Wednesday\",10],[\"Thursday\",12],[\"Tuesday\",12],[\"Saturday\",11],[\"Tuesday\",12],[\"Thursday\",12],[\"Sunday\",11],[\"Thursday\",11],[\"Tuesday\",11],[\"Thursday\",12],[\"Wednesday\",10],[\"Saturday\",11],[\"Wednesday\",10],[\"Thursday\",12],[\"Friday\",12],[\"Sunday\",11],[\"Tuesday\",11],[\"Tuesday\",11],[\"Tuesday\",11],[\"Sunday\",11],[\"Sunday\",12],[\"Monday\",12],[\"Sunday\",12],[\"Tuesday\",10],[\"Thursday\",12],[\"Sunday\",10],[\"Friday\",11],[\"Monday\",10],[\"Monday\",12],[\"Monday\",10],[\"Sunday\",10],[\"Wednesday\",10],[\"Friday\",11],[\"Tuesday\",11],[\"Saturday\",11],[\"Saturday\",11],[\"Saturday\",10],[\"Monday\",11],[\"Monday\",12],[\"Monday\",11],[\"Monday\",11],[\"Saturday\",11],[\"Friday\",12],[\"Monday\",11],[\"Sunday\",11],[\"Sunday\",11],[\"Saturday\",11],[\"Friday\",12],[\"Thursday\",11],[\"Sunday\",10],[\"Thursday\",12],[\"Saturday\",12],[\"Saturday\",10],[\"Thursday\",12],[\"Saturday\",12],[\"Saturday\",11],[\"Monday\",12],[\"Monday\",10],[\"Tuesday\",10],[\"Thursday\",11],[\"Friday\",11],[\"Wednesday\",11],[\"Sunday\",11],[\"Wednesday\",12],[\"Friday\",12],[\"Saturday\",11],[\"Tuesday\",10],[\"Tuesday\",11],[\"Monday\",11],[\"Thursday\",11],[\"Wednesday\",11],[\"Friday\",10],[\"Friday\",12],[\"Monday\",11],[\"Thursday\",11],[\"Monday\",12],[\"Saturday\",11],[\"Friday\",11],[\"Friday\",12],[\"Saturday\",12],[\"Tuesday\",10],[\"Wednesday\",11],[\"Friday\",11],[\"Wednesday\",11],[\"Saturday\",12],[\"Friday\",10],[\"Sunday\",10],[\"Monday\",11],[\"Monday\",11],[\"Sunday\",10],[\"Tuesday\",11],[\"Thursday\",11],[\"Wednesday\",10],[\"Thursday\",11],[\"Sunday\",10],[\"Tuesday\",12],[\"Sunday\",10],[\"Tuesday\",10],[\"Thursday\",11],[\"Sunday\",11],[\"Thursday\",10],[\"Sunday\",11],[\"Sunday\",12],[\"Friday\",12],[\"Monday\",11],[\"Tuesday\",12],[\"Saturday\",10],[\"Tuesday\",11],[\"Sunday\",10],[\"Sunday\",10],[\"Sunday\",11],[\"Tuesday\",10],[\"Saturday\",11],[\"Monday\",12],[\"Sunday\",10],[\"Sunday\",12],[\"Tuesday\",12],[\"Wednesday\",12],[\"Sunday\",11],[\"Thursday\",12],[\"Sunday\",11],[\"Wednesday\",11],[\"Thursday\",12],[\"Friday\",10],[\"Wednesday\",11],[\"Thursday\",11],[\"Monday\",10],[\"Friday\",12],[\"Thursday\",10],[\"Saturday\",12],[\"Tuesday\",10],[\"Friday\",11],[\"Tuesday\",10],[\"Thursday\",10],[\"Tuesday\",10],[\"Tuesday\",10],[\"Saturday\",11],[\"Monday\",11],[\"Sunday\",11],[\"Wednesday\",10],[\"Saturday\",10],[\"Saturday\",11],[\"Friday\",12],[\"Saturday\",11],[\"Tuesday\",11],[\"Sunday\",12],[\"Thursday\",11],[\"Wednesday\",10],[\"Tuesday\",11],[\"Thursday\",11],[\"Thursday\",11],[\"Wednesday\",12],[\"Thursday\",12],[\"Thursday\",11],[\"Wednesday\",12],[\"Monday\",12],[\"Friday\",11],[\"Thursday\",10],[\"Monday\",12],[\"Tuesday\",12],[\"Sunday\",12],[\"Saturday\",11],[\"Tuesday\",12],[\"Tuesday\",10],[\"Tuesday\",10],[\"Saturday\",11],[\"Sunday\",10],[\"Friday\",10],[\"Saturday\",12],[\"Tuesday\",10],[\"Friday\",11],[\"Wednesday\",12],[\"Thursday\",11],[\"Tuesday\",11],[\"Monday\",12],[\"Saturday\",11],[\"Saturday\",10],[\"Thursday\",12],[\"Thursday\",12],[\"Monday\",12],[\"Sunday\",11],[\"Saturday\",10],[\"Thursday\",10],[\"Wednesday\",12],[\"Thursday\",10],[\"Sunday\",12],[\"Sunday\",10],[\"Monday\",11],[\"Monday\",10],[\"Tuesday\",10],[\"Wednesday\",12],[\"Sunday\",11],[\"Monday\",10],[\"Sunday\",12],[\"Sunday\",12],[\"Friday\",11],[\"Monday\",10],[\"Monday\",11],[\"Monday\",11],[\"Saturday\",10],[\"Saturday\",10],[\"Tuesday\",11],[\"Sunday\",12],[\"Monday\",10],[\"Monday\",10],[\"Saturday\",12],[\"Saturday\",10],[\"Monday\",12],[\"Friday\",11],[\"Monday\",10],[\"Wednesday\",11],[\"Sunday\",12],[\"Tuesday\",10],[\"Wednesday\",10],[\"Thursday\",11],[\"Saturday\",10],[\"Friday\",10],[\"Friday\",11],[\"Saturday\",11],[\"Friday\",12],[\"Friday\",11],[\"Monday\",11],[\"Friday\",10],[\"Monday\",10],[\"Sunday\",11],[\"Wednesday\",12],[\"Monday\",12],[\"Saturday\",11],[\"Tuesday\",11],[\"Tuesday\",12],[\"Thursday\",11],[\"Saturday\",10],[\"Friday\",12],[\"Monday\",10],[\"Saturday\",10],[\"Tuesday\",11],[\"Sunday\",12],[\"Monday\",12],[\"Monday\",11],[\"Saturday\",11],[\"Thursday\",10],[\"Thursday\",12],[\"Wednesday\",11],[\"Friday\",10],[\"Monday\",12],[\"Tuesday\",12],[\"Friday\",11],[\"Saturday\",11],[\"Monday\",11],[\"Friday\",10],[\"Tuesday\",12],[\"Sunday\",11],[\"Monday\",12],[\"Monday\",10],[\"Sunday\",11],[\"Tuesday\",12],[\"Thursday\",12],[\"Friday\",11],[\"Monday\",10],[\"Thursday\",10],[\"Tuesday\",10],[\"Monday\",11],[\"Saturday\",12],[\"Monday\",10],[\"Friday\",12],[\"Friday\",11],[\"Sunday\",12],[\"Friday\",10],[\"Monday\",11],[\"Wednesday\",10],[\"Thursday\",12],[\"Wednesday\",12],[\"Thursday\",10],[\"Wednesday\",10],[\"Sunday\",11],[\"Sunday\",12],[\"Tuesday\",11],[\"Tuesday\",11],[\"Thursday\",12],[\"Saturday\",10],[\"Tuesday\",11],[\"Saturday\",11],[\"Tuesday\",12],[\"Saturday\",12],[\"Friday\",12],[\"Monday\",11],[\"Thursday\",10],[\"Wednesday\",10],[\"Thursday\",11],[\"Monday\",12],[\"Monday\",10],[\"Wednesday\",10],[\"Sunday\",10],[\"Saturday\",12],[\"Wednesday\",12],[\"Friday\",10],[\"Friday\",12],[\"Saturday\",12],[\"Tuesday\",11],[\"Sunday\",10],[\"Monday\",10],[\"Friday\",12],[\"Friday\",11],[\"Monday\",11],[\"Thursday\",10],[\"Monday\",12],[\"Friday\",10],[\"Wednesday\",10],[\"Tuesday\",10],[\"Saturday\",11],[\"Thursday\",11],[\"Thursday\",11],[\"Saturday\",12],[\"Sunday\",11],[\"Saturday\",12],[\"Monday\",11],[\"Thursday\",11],[\"Sunday\",11],[\"Sunday\",12],[\"Sunday\",10],[\"Saturday\",10],[\"Wednesday\",12],[\"Friday\",12],[\"Sunday\",11],[\"Friday\",11],[\"Friday\",10],[\"Friday\",11],[\"Wednesday\",11],[\"Thursday\",12],[\"Monday\",11],[\"Saturday\",10],[\"Monday\",10],[\"Tuesday\",11],[\"Wednesday\",10],[\"Wednesday\",11],[\"Thursday\",11],[\"Friday\",11],[\"Thursday\",12],[\"Monday\",12],[\"Wednesday\",12],[\"Saturday\",11],[\"Monday\",11],[\"Tuesday\",12],[\"Saturday\",11],[\"Tuesday\",10],[\"Thursday\",10],[\"Friday\",11],[\"Thursday\",11],[\"Sunday\",11],[\"Friday\",10],[\"Thursday\",12],[\"Saturday\",11],[\"Friday\",12],[\"Thursday\",11],[\"Thursday\",12],[\"Friday\",11],[\"Saturday\",10],[\"Tuesday\",12],[\"Friday\",10],[\"Saturday\",12],[\"Friday\",10],[\"Saturday\",11],[\"Thursday\",10],[\"Wednesday\",12],[\"Saturday\",11],[\"Friday\",11],[\"Wednesday\",12],[\"Thursday\",10],[\"Monday\",10],[\"Tuesday\",10],[\"Tuesday\",10],[\"Wednesday\",11],[\"Wednesday\",12],[\"Friday\",11],[\"Tuesday\",11],[\"Saturday\",11],[\"Thursday\",12],[\"Sunday\",10],[\"Thursday\",10],[\"Friday\",12],[\"Thursday\",10],[\"Sunday\",12],[\"Thursday\",12],[\"Saturday\",10],[\"Saturday\",12],[\"Wednesday\",11],[\"Sunday\",12],[\"Saturday\",11],[\"Tuesday\",10],[\"Sunday\",12],[\"Saturday\",11],[\"Monday\",11],[\"Monday\",12],[\"Wednesday\",10],[\"Wednesday\",11],[\"Tuesday\",12],[\"Saturday\",11],[\"Tuesday\",10],[\"Saturday\",11],[\"Tuesday\",12],[\"Monday\",10],[\"Sunday\",12],[\"Thursday\",10],[\"Saturday\",12],[\"Monday\",10],[\"Tuesday\",11],[\"Monday\",10],[\"Tuesday\",12],[\"Wednesday\",11],[\"Friday\",10],[\"Monday\",12],[\"Saturday\",12],[\"Wednesday\",11],[\"Sunday\",11],[\"Thursday\",11],[\"Thursday\",12],[\"Tuesday\",11],[\"Sunday\",12],[\"Monday\",11],[\"Sunday\",12],[\"Sunday\",12],[\"Monday\",11],[\"Wednesday\",10],[\"Monday\",12],[\"Wednesday\",12],[\"Wednesday\",12],[\"Saturday\",11],[\"Sunday\",11],[\"Tuesday\",12],[\"Wednesday\",12],[\"Tuesday\",10],[\"Saturday\",11],[\"Thursday\",11],[\"Sunday\",12],[\"Thursday\",11],[\"Friday\",12],[\"Tuesday\",10],[\"Wednesday\",10],[\"Tuesday\",11],[\"Sunday\",10],[\"Wednesday\",11],[\"Wednesday\",11],[\"Tuesday\",10],[\"Saturday\",12],[\"Saturday\",11],[\"Tuesday\",12],[\"Sunday\",12],[\"Tuesday\",10],[\"Tuesday\",10],[\"Monday\",11],[\"Tuesday\",12],[\"Monday\",12],[\"Tuesday\",11],[\"Friday\",12],[\"Thursday\",12],[\"Saturday\",12],[\"Saturday\",12],[\"Thursday\",10],[\"Thursday\",10],[\"Sunday\",11],[\"Friday\",11],[\"Friday\",11],[\"Wednesday\",10],[\"Thursday\",11],[\"Wednesday\",12],[\"Thursday\",12],[\"Tuesday\",11],[\"Thursday\",12],[\"Wednesday\",10],[\"Wednesday\",12],[\"Tuesday\",12],[\"Monday\",12],[\"Friday\",10],[\"Friday\",11],[\"Saturday\",12],[\"Thursday\",11],[\"Tuesday\",12],[\"Saturday\",12],[\"Saturday\",12],[\"Friday\",12],[\"Tuesday\",12],[\"Saturday\",10],[\"Thursday\",10],[\"Wednesday\",11],[\"Saturday\",11],[\"Monday\",10],[\"Sunday\",10],[\"Monday\",11],[\"Wednesday\",10],[\"Friday\",12],[\"Friday\",11],[\"Saturday\",11],[\"Sunday\",12],[\"Friday\",10],[\"Thursday\",12],[\"Saturday\",10],[\"Saturday\",12],[\"Tuesday\",12],[\"Sunday\",12],[\"Monday\",10],[\"Monday\",11],[\"Thursday\",11],[\"Tuesday\",11],[\"Thursday\",12],[\"Wednesday\",10],[\"Tuesday\",10],[\"Sunday\",10],[\"Monday\",11],[\"Wednesday\",10],[\"Monday\",12],[\"Thursday\",12],[\"Tuesday\",11],[\"Friday\",11],[\"Thursday\",12],[\"Wednesday\",11],[\"Sunday\",10],[\"Tuesday\",12],[\"Monday\",11],[\"Tuesday\",12],[\"Tuesday\",12],[\"Wednesday\",10],[\"Tuesday\",12],[\"Monday\",10],[\"Saturday\",11],[\"Saturday\",11],[\"Saturday\",12],[\"Sunday\",12],[\"Wednesday\",11],[\"Thursday\",12],[\"Saturday\",10],[\"Wednesday\",11],[\"Sunday\",11],[\"Friday\",12],[\"Friday\",12],[\"Tuesday\",11],[\"Tuesday\",10],[\"Wednesday\",10],[\"Wednesday\",12],[\"Monday\",12],[\"Sunday\",12],[\"Saturday\",12],[\"Wednesday\",12],[\"Sunday\",12],[\"Saturday\",11],[\"Tuesday\",11],[\"Wednesday\",12],[\"Saturday\",12],[\"Monday\",12],[\"Sunday\",10],[\"Monday\",10],[\"Tuesday\",11],[\"Friday\",10],[\"Friday\",10],[\"Saturday\",10],[\"Friday\",12],[\"Friday\",10],[\"Monday\",12],[\"Tuesday\",11],[\"Monday\",10],[\"Thursday\",10],[\"Saturday\",10],[\"Friday\",10],[\"Monday\",11],[\"Friday\",10],[\"Monday\",11],[\"Saturday\",12],[\"Sunday\",12],[\"Saturday\",12],[\"Friday\",11],[\"Tuesday\",12],[\"Sunday\",10],[\"Friday\",11],[\"Monday\",12],[\"Wednesday\",11],[\"Monday\",12],[\"Wednesday\",12],[\"Sunday\",12],[\"Tuesday\",12],[\"Wednesday\",10],[\"Thursday\",12],[\"Wednesday\",11],[\"Tuesday\",10],[\"Saturday\",11],[\"Sunday\",12],[\"Tuesday\",12],[\"Saturday\",11],[\"Friday\",10],[\"Friday\",11],[\"Wednesday\",11],[\"Wednesday\",10],[\"Saturday\",10],[\"Friday\",11],[\"Tuesday\",11],[\"Thursday\",11],[\"Tuesday\",11],[\"Thursday\",10],[\"Monday\",10],[\"Wednesday\",11],[\"Wednesday\",12],[\"Wednesday\",12],[\"Monday\",11],[\"Tuesday\",11],[\"Saturday\",10],[\"Thursday\",10],[\"Monday\",11],[\"Thursday\",12],[\"Saturday\",11],[\"Sunday\",11],[\"Monday\",12],[\"Saturday\",12],[\"Saturday\",10],[\"Friday\",10],[\"Wednesday\",11],[\"Sunday\",11],[\"Thursday\",10],[\"Tuesday\",10],[\"Tuesday\",10],[\"Wednesday\",10],[\"Saturday\",10],[\"Saturday\",12],[\"Thursday\",11],[\"Saturday\",11],[\"Tuesday\",11],[\"Tuesday\",12],[\"Thursday\",12],[\"Saturday\",10],[\"Monday\",10],[\"Saturday\",12],[\"Thursday\",10],[\"Thursday\",12],[\"Friday\",12],[\"Wednesday\",11],[\"Saturday\",12],[\"Tuesday\",10],[\"Thursday\",10],[\"Monday\",11],[\"Monday\",11],[\"Wednesday\",11],[\"Friday\",11],[\"Wednesday\",11],[\"Wednesday\",12],[\"Sunday\",10],[\"Friday\",11],[\"Wednesday\",12],[\"Monday\",10],[\"Wednesday\",10],[\"Saturday\",12],[\"Thursday\",12],[\"Tuesday\",11],[\"Thursday\",11],[\"Monday\",10],[\"Monday\",12],[\"Monday\",10],[\"Thursday\",11],[\"Thursday\",10],[\"Thursday\",10],[\"Tuesday\",10],[\"Saturday\",10],[\"Monday\",12],[\"Friday\",11],[\"Monday\",12],[\"Thursday\",10],[\"Sunday\",10],[\"Tuesday\",10],[\"Saturday\",12],[\"Wednesday\",12],[\"Thursday\",10],[\"Sunday\",12],[\"Thursday\",10],[\"Monday\",11],[\"Thursday\",10],[\"Saturday\",10],[\"Tuesday\",10],[\"Friday\",11],[\"Friday\",10],[\"Thursday\",10],[\"Sunday\",10],[\"Thursday\",11],[\"Wednesday\",10],[\"Saturday\",12],[\"Sunday\",12],[\"Friday\",12],[\"Friday\",11],[\"Thursday\",10],[\"Saturday\",11],[\"Thursday\",11],[\"Thursday\",11],[\"Wednesday\",11]],\"hovertemplate\":\"season=Winter<br>temp=%{x}<br>Total_booking=%{y}<br>Hour=%{marker.size}<br>Weekday=%{customdata[0]}<br>Month=%{customdata[1]}<extra></extra>\",\"legendgroup\":\"Winter\",\"marker\":{\"color\":\"#ab63fa\",\"size\":[16,9,11,19,9,7,14,7,16,18,4,12,0,9,19,13,22,1,2,15,18,19,2,2,12,10,4,7,2,18,16,9,15,19,19,15,0,8,4,4,6,6,2,5,8,5,7,7,19,1,13,17,23,2,20,5,1,16,19,9,9,0,7,0,22,15,0,16,9,1,5,0,13,3,6,17,5,12,4,21,3,1,18,17,14,2,19,2,12,2,20,11,15,21,12,4,16,5,20,22,5,18,6,9,12,10,4,13,3,23,5,22,4,17,19,5,19,14,14,2,2,9,23,18,2,18,8,15,14,11,18,16,1,20,1,19,15,10,19,15,4,18,10,7,17,18,4,7,5,14,18,12,3,13,0,8,13,22,3,19,12,6,14,2,5,21,0,0,5,1,15,0,10,20,17,12,15,22,9,10,14,20,10,7,8,10,17,23,5,1,13,15,18,0,6,11,13,9,19,1,4,23,12,4,18,18,7,14,14,12,22,8,11,3,19,17,21,16,18,1,10,10,6,19,4,6,0,11,21,1,14,14,13,15,14,15,21,2,19,10,2,2,18,23,15,4,22,8,21,21,20,6,6,5,23,18,1,11,18,18,6,21,23,19,6,11,6,21,23,1,15,1,13,19,17,2,19,1,8,10,13,9,17,2,15,12,20,20,17,4,20,19,3,1,12,6,14,14,16,4,17,20,14,23,9,22,17,4,3,1,7,8,10,14,10,9,18,19,10,8,16,11,21,20,6,6,6,20,18,3,4,20,1,14,5,10,13,21,17,16,0,12,19,14,14,22,16,23,22,23,13,4,6,16,13,17,18,5,7,0,18,19,4,20,17,17,1,4,0,3,1,13,19,12,3,21,1,14,8,13,22,3,8,13,19,12,18,22,17,20,5,15,11,18,18,20,22,17,18,11,14,15,13,15,17,21,6,16,8,15,13,9,18,0,11,5,20,15,9,1,11,23,3,11,15,0,16,21,4,17,23,23,10,18,22,11,17,20,16,21,5,21,3,22,10,1,13,17,21,15,3,19,11,6,14,10,11,16,16,23,16,20,19,9,16,0,0,10,15,4,2,7,6,23,5,6,6,3,12,7,22,2,14,21,11,0,4,8,22,7,3,5,0,17,8,20,22,11,19,0,8,11,17,10,16,20,23,7,15,5,0,9,15,11,15,8,5,9,22,11,14,22,2,13,15,20,19,19,7,19,14,9,1,17,8,19,7,2,21,17,20,3,15,8,3,0,16,16,4,10,5,2,23,8,8,4,4,18,1,7,6,16,16,23,2,9,6,7,12,7,11,17,5,7,11,5,14,6,13,1,14,16,19,3,11,1,9,3,5,17,4,13,22,7,4,23,21,16,12,10,11,0,21,7,17,1,8,11,11,17,23,5,18,15,14,23,11,21,11,20,22,11,2,13,22,7,9,1,6,9,0,2,20,21,15,20,4,17,20,14,15,9,8,15,16,23,11,1,0,15,17,1,15,17,10,20,18,16,20,11,17,22,2,8,19,5,7,20,1,9,18,2,9,12,15,23,2,17,13,16,23,3,21,3,12,18,11,7,20,20,20,19,18,22,1,2,1,11,18,13,13,5,19,8,16,10,10,4,1,21,6,6,21,16,14,19,2,16,23,17,1,21,14,1,6,2,6,13,17,11,7,15,18,19,21,7,18,23,5,11,13,21,3,9,12,19,18,20,21,8,13,14,13,9,1,6,20,0,7,7,22,12,11,18,14,6,19,16,2,3,17,22,4,7,12,23,17,7,21,0,20,13,5,5,13,0,14,2,5,3,5,4,15,9,19,5,10,20,6,16,0,23,23,6,21,8,20,11,15,9,8,4,10,0,14,15,20,12,23,15,21,13,6,23,4,8,16,14,20,11,16,5,0,17,17,20,16,18,9,13,9,2,5,8,6,3,15,0,2,23,5,20,18,16,18,6,16,10,11,2,16,12,14,12,16,7,10,4,5,14,21,0,1,19,18,18,12,14,22,4,7,11,16,13,17,17,4,17,6,23,7,16,1,7,18,7,20,16,22,16,5,19,12,7,21,16,4,0,12,18,2,7,23,6,3,22,16,23,23,23,6,2,17,10,4,14,7,15,16,13,3,12,18,11,11,4,16,18,8,5,12,18,16,7,13,20,23,8,10,4,4,19,19,6,8,1,16,12,2,22,13,1,0,16,18,10,12,12,8,8,22,10,18,1,22,8,10,12,20,15,3,6,22,18,17,13,23,16,2,5,0,0,11,14,19,9,23,5,15,0,20,15,3,11,9,6,11,23,2,21,21,6,13,0,11,5,4,3,12,7,12,19,9,19,7,15,9,4,4,0,13,4,1,2,20,10,17,21,23,20,10,3,17,11,20,6,14,5,4,22,20,11,19,0,21,20,22,15,23,8,20,7,8,5,9,2,7,4,13,5,9,10,8,23,23,5,19,1,7,21,21,11,4,14,11,8,17,9,11,5,21,16,7,16,17,1,17,0,1,19,16,23,14,9,1,11,23,18,9,3,8,20,2,13,6,0,1,5,16,11,21,6,17,17,10,3,21,1,10,12,10,20,12,16,1,11,22,4,20,22,23,0,2,10,23,14,22,0,20,9,11,18,19,19,11,18,23,19,8,14,5,19,11,4,3,7,0,18,6,12,7,15,9,20,23,3,4,5,22,4,22,17,19,7,17,12,8,5,17,0,8,11,22,9,3,11,21,17,3,8,23,2,12,4,0,10,4,20,12,23,17,20,22,12,13,13,3,7,12,0,23,0,8,0,17,15,1,12,3,3,12,4,0,14,21,7,21,21,18,21,12,5,6,4,3,22,2,6,13,1,3,7,7,21,6,3,21,6,18,10,17,9,9,2,11,9,7,23,15,4,16,18,17,0,6,23,16,12,12,19,3,16,3,17,12,1,14,14,21,6,5,22,12,13,2,5,0,3,0,12,12,1,16,7,4,17,11,6,7,23,18,10,8,7,1,20,7,16,13,13,12,19,19,8,20,20,9,17,12,16,0,12,21,18,11,14,3,23,23,22,15,7,19,4,3,22,19,2,18,21,21,14,13,6,3,7,21,1,3,23,17,12,10,20,22,3,5,15,21,6,8,12,16,22,14,21,1,8,13,0,10,2,0,13,23,8,15,9,1,7,6,15,5,5,11,4,8,5,8,0,4,3,6,4,17,0,12,18,8,9,5,0,5,1,13,4,9,0,20,16,6,17,2,6,19,14,9,9,0,10,4,0,12,12,11,8,13,21,2,2,19,14,13,6,3,0,9,17,22,16,14,0,3,11,10,13,15,17,23,7,22,2,8,22,21,11,20,15,22,20,11,9,4,0,12,10,4,23,18,4,4,9,23,14,9,10,3,22,17,23,21,5,14,1,11,0,20,21,10,20,18,16,0,10,0,10,12,14,15,20,18,6,5,13,16,14,18,2,16,21,12,2,3,10,0,22,4,9,6,19,8,8,3,21,21,4,16,1,22,23,13,12,6,7,2,11,16,21,3,20,10,2,19,13,1,0,19,22,10,1,4,3,8,15,18,2,23,9,11,0,22,9,5,15,6,23,16,5,20,6,11,12,13,13,7,16,20,12,3,8,19,13,3,20,18,2,7,22,21,16,12,10,14,12,6,22,1,21,3,14,13,2,5,9,23,21,4,0,15,14,13,1,7,19,2,5,18,1,16,2,19,17,19,5,14,13,19,8,23,4,4,18,15,10,21,14,0,16,11,17,9,12,19,16,21,23,0,6,23,1,20,10,0,15,17,10,5,6,19,20,23,9,14,23,9,12,22,14,6,0,6,8,6,22,3,3,17,10,22,6,16,5,3,12,10,1,17,15,2,19,4,21,1,15,13,22,19,18,14,23,13,15,1,15,9,8,4,0,16,6,1,22,10,13,14,12,6,15,2,19,12,19,9,11,19,8,16,22,5,21,2,6,1,7,13,11,10,5,6,9,1,13,10,19,17,11,18,10,23,23,1,10,9,9,1,16,15,2,11,1,13,15,8,11,0,7,10,9,19,2,14,14,14,5,19,18,10,8,23,5,12,16,18,20,9,4,14,3,2,15,14,15,23,12,15,13,21,1,14,9,13,22,13,3,15,22,14,5,22,21,7,9,22,9,18,1,22,9,16,20,4,21,8,10,14,18,13,11,16,0,21,21,21,13,18,23,16,4,11,0,13,19,13,11,23,13,3,2,2,9,22,13,11,12,10,22,14,13,6,6,22,5,13,20,1,9,18,18,11,14,10,20,22,2,15,17,20,9,22,1,21,7,3,13,8,13,16,3,18,6,17,15,16,2,9,1,23,12,8,7,3,20,3,8,10,7,0,20,12,19,5,10,19,12,10,18,23,8,3,12,10,21,4,8,5,5,17,1,10,21,6,14,20,21,22,19,12,13,8,20,13,22,15,9,13,10,8,19,17,22,9,22,12,16,22,20,2,9,17,12,18,12,10,3,4,6,15,3,21,5,11,6,8,3,11,12,1,15,21,7,23,10,11,22,18,6,5,13,1,8,10,0,0,5,9,15,12,13,7,17,18,22,13,3,2,16,16,11,7,0,20,7,13,18,14,22,4,18,18,21,7,2,8,21,23,16,12,16,1,15,7,3,9,8,5,13,1,21,5,23,23,17,12,13,15,2,3,8,4,18,15,18,3,18,18,2,8,7,7,15,6,3,22,3,19,4,7,8,15,15,3,10,0,15,13,7,7,15,7,3,13,4,1,2,1,13,3,4,17,4,16,12,10,5,5,3,23,17,10,11,16,17,14,14,22,9,7,11,2,18,23,9,7,6,4,19,6,23,12,20,19,7,4,10,21,11,18,5,13,21,15,14,13,8,2,21,17,22,8,19,19,9,1,7,14,10,8,10,2,16,19,10,19,19,14,13,7,21,6,20,5,0,15,2,19,10,11,16,21,6,3,17,23,0,1,1],\"sizemode\":\"area\",\"sizeref\":0.0575,\"symbol\":\"circle\"},\"mode\":\"markers\",\"name\":\"Winter\",\"showlegend\":true,\"x\":[13.94,24.6,26.24,22.96,10.66,13.94,15.58,6.56,19.68,16.4,13.12,16.4,14.76,11.48,14.76,19.68,16.4,13.12,14.76,17.22,10.66,13.12,12.3,18.86,24.6,19.68,13.94,9.84,13.12,18.04,22.14,16.4,17.22,18.04,9.02,17.22,18.86,15.58,22.14,14.76,15.58,18.04,11.48,9.02,13.12,18.86,13.94,17.22,12.3,9.84,18.04,14.76,17.22,10.66,12.3,10.66,10.66,24.6,20.5,16.4,13.12,16.4,10.66,12.3,12.3,14.76,10.66,14.76,20.5,14.76,11.48,18.86,21.32,14.76,18.04,14.76,9.84,14.76,12.3,13.12,18.04,13.94,14.76,19.68,22.14,18.86,11.48,8.2,14.76,11.48,21.32,24.6,27.88,14.76,29.52,17.22,17.22,13.12,14.76,22.96,15.58,22.96,15.58,10.66,22.14,17.22,7.38,22.14,12.3,21.32,12.3,16.4,10.66,15.58,20.5,13.12,18.86,13.94,16.4,10.66,9.84,19.68,17.22,18.04,13.12,17.22,9.02,16.4,14.76,13.12,14.76,23.78,18.86,17.22,16.4,13.12,21.32,11.48,22.96,22.14,21.32,18.86,14.76,17.22,21.32,21.32,24.6,17.22,14.76,13.94,16.4,16.4,13.12,16.4,18.86,18.86,14.76,16.4,10.66,25.42,18.04,10.66,17.22,13.12,22.14,20.5,9.84,16.4,18.04,22.14,21.32,14.76,18.04,15.58,14.76,14.76,24.6,14.76,12.3,16.4,18.04,20.5,27.06,20.5,18.04,12.3,13.94,16.4,13.94,22.96,14.76,20.5,21.32,19.68,18.04,18.86,16.4,16.4,17.22,16.4,13.94,21.32,21.32,9.02,13.94,13.94,8.2,27.06,24.6,15.58,13.12,13.94,22.96,22.14,13.94,13.12,14.76,17.22,22.14,12.3,15.58,9.84,14.76,22.14,12.3,19.68,18.04,12.3,20.5,13.12,18.86,21.32,29.52,24.6,22.96,14.76,12.3,9.02,21.32,22.14,18.86,10.66,15.58,18.04,21.32,16.4,13.94,15.58,19.68,16.4,22.14,24.6,14.76,13.94,13.94,18.86,12.3,16.4,14.76,20.5,18.04,9.02,16.4,18.86,14.76,18.86,6.56,14.76,19.68,10.66,26.24,10.66,20.5,13.94,24.6,13.94,11.48,11.48,18.04,21.32,26.24,10.66,26.24,22.96,16.4,20.5,22.96,14.76,16.4,10.66,11.48,14.76,18.86,12.3,19.68,12.3,22.14,30.34,24.6,14.76,16.4,17.22,21.32,12.3,16.4,27.06,13.94,16.4,11.48,20.5,17.22,11.48,24.6,17.22,22.14,14.76,14.76,13.12,14.76,10.66,12.3,18.04,14.76,21.32,15.58,10.66,22.14,18.86,18.04,9.84,6.56,9.84,18.04,23.78,13.94,10.66,17.22,15.58,28.7,24.6,8.2,25.42,22.96,16.4,13.12,13.94,23.78,14.76,11.48,13.12,16.4,22.96,12.3,22.96,22.96,13.12,15.58,9.84,13.12,13.12,25.42,22.14,17.22,14.76,22.14,13.12,12.3,20.5,11.48,22.96,17.22,18.86,14.76,13.94,11.48,17.22,9.02,27.88,26.24,13.94,12.3,18.86,13.94,16.4,18.04,21.32,18.04,18.86,13.94,13.94,10.66,17.22,22.14,22.96,15.58,14.76,10.66,13.12,18.86,15.58,25.42,23.78,18.04,13.94,16.4,12.3,9.02,22.14,18.86,20.5,25.42,12.3,24.6,10.66,15.58,10.66,28.7,18.86,10.66,10.66,19.68,16.4,9.02,19.68,13.12,14.76,17.22,15.58,9.84,27.06,22.96,22.14,16.4,27.06,17.22,13.94,25.42,21.32,18.04,13.94,18.04,13.12,12.3,16.4,14.76,13.12,26.24,12.3,18.04,25.42,17.22,18.04,24.6,15.58,13.12,9.84,20.5,13.12,25.42,16.4,13.12,14.76,12.3,9.84,20.5,13.94,9.02,16.4,23.78,15.58,13.94,14.76,17.22,18.86,22.96,14.76,12.3,10.66,25.42,12.3,16.4,13.12,18.86,17.22,13.12,9.84,10.66,10.66,12.3,17.22,15.58,10.66,10.66,22.14,14.76,16.4,10.66,17.22,12.3,10.66,23.78,14.76,22.96,23.78,14.76,13.12,8.2,12.3,27.06,15.58,12.3,13.94,24.6,22.96,12.3,16.4,18.04,17.22,20.5,24.6,13.94,20.5,23.78,16.4,24.6,15.58,20.5,22.14,10.66,21.32,18.86,13.94,19.68,25.42,18.86,18.86,18.86,18.86,22.96,23.78,20.5,25.42,20.5,10.66,12.3,23.78,17.22,18.86,16.4,13.94,9.02,14.76,8.2,9.84,14.76,13.94,13.12,14.76,14.76,11.48,10.66,26.24,13.94,9.84,16.4,24.6,17.22,12.3,14.76,10.66,13.12,24.6,9.02,13.12,22.96,18.04,14.76,13.94,17.22,10.66,29.52,14.76,10.66,11.48,14.76,15.58,10.66,10.66,9.84,11.48,18.04,15.58,12.3,9.02,13.94,12.3,18.04,13.94,25.42,16.4,10.66,20.5,9.02,26.24,18.04,14.76,14.76,18.86,23.78,14.76,13.12,12.3,18.86,27.06,25.42,19.68,18.86,24.6,13.12,18.86,17.22,17.22,9.02,14.76,21.32,9.84,20.5,17.22,9.84,10.66,10.66,25.42,12.3,12.3,29.52,25.42,9.02,25.42,13.94,14.76,17.22,11.48,16.4,13.12,14.76,14.76,28.7,21.32,13.12,13.12,18.86,13.94,15.58,17.22,18.04,22.14,12.3,20.5,9.02,18.04,22.96,14.76,10.66,18.04,14.76,20.5,14.76,17.22,13.12,13.12,14.76,12.3,15.58,17.22,25.42,13.12,18.86,22.14,16.4,16.4,20.5,7.38,9.84,14.76,26.24,28.7,15.58,8.2,9.84,14.76,13.12,27.06,22.96,14.76,21.32,13.94,21.32,23.78,19.68,24.6,16.4,14.76,15.58,12.3,17.22,14.76,18.04,12.3,13.94,18.04,14.76,22.96,13.12,13.12,24.6,22.14,21.32,28.7,9.84,17.22,18.04,12.3,15.58,6.56,15.58,16.4,9.02,18.86,20.5,21.32,7.38,29.52,15.58,13.94,20.5,21.32,26.24,22.14,14.76,16.4,15.58,13.94,18.04,17.22,20.5,21.32,14.76,18.04,16.4,9.84,15.58,17.22,21.32,10.66,18.86,18.04,21.32,17.22,9.02,10.66,22.14,16.4,15.58,9.84,24.6,22.96,13.94,14.76,17.22,14.76,12.3,22.14,22.14,13.12,24.6,12.3,21.32,9.02,12.3,12.3,14.76,12.3,17.22,11.48,27.06,9.02,18.04,10.66,10.66,15.58,15.58,8.2,15.58,13.94,15.58,9.02,20.5,13.12,13.12,15.58,20.5,13.12,8.2,12.3,20.5,9.84,9.84,24.6,17.22,22.14,22.96,14.76,22.14,12.3,17.22,21.32,14.76,21.32,15.58,21.32,14.76,22.14,13.94,13.94,18.86,14.76,20.5,22.96,23.78,22.14,16.4,17.22,13.12,20.5,16.4,14.76,24.6,18.86,23.78,24.6,7.38,10.66,13.94,9.02,14.76,14.76,14.76,16.4,11.48,12.3,12.3,13.12,22.96,18.86,22.14,13.12,15.58,27.06,22.14,16.4,20.5,13.94,14.76,16.4,13.94,10.66,22.96,10.66,10.66,16.4,17.22,18.04,18.86,13.94,21.32,15.58,13.94,22.14,19.68,17.22,22.96,13.12,22.96,16.4,14.76,11.48,9.02,11.48,13.12,23.78,18.86,16.4,12.3,8.2,14.76,13.94,16.4,26.24,11.48,27.06,26.24,18.86,28.7,12.3,12.3,22.96,22.96,12.3,29.52,13.12,15.58,14.76,11.48,19.68,7.38,18.86,24.6,18.86,14.76,14.76,9.84,13.94,15.58,22.96,12.3,23.78,9.02,25.42,18.04,26.24,17.22,22.96,15.58,9.84,13.12,13.12,17.22,13.94,13.12,12.3,21.32,13.12,19.68,18.86,17.22,12.3,11.48,12.3,13.12,6.56,20.5,14.76,13.12,17.22,15.58,10.66,13.94,19.68,12.3,20.5,22.96,10.66,9.84,20.5,24.6,18.04,14.76,16.4,14.76,20.5,22.96,22.14,21.32,11.48,18.86,18.04,15.58,22.14,12.3,17.22,18.04,9.84,13.94,16.4,22.96,22.14,17.22,14.76,18.04,12.3,14.76,10.66,16.4,12.3,15.58,21.32,13.94,13.12,15.58,19.68,18.86,16.4,13.12,14.76,16.4,10.66,18.86,25.42,17.22,15.58,16.4,12.3,15.58,20.5,13.12,9.02,9.84,14.76,20.5,21.32,18.04,20.5,13.94,13.12,13.94,16.4,18.86,14.76,18.04,11.48,11.48,16.4,13.94,16.4,24.6,12.3,13.94,14.76,13.94,19.68,13.12,18.86,16.4,10.66,12.3,9.84,18.04,18.86,12.3,13.12,20.5,16.4,15.58,8.2,13.94,14.76,24.6,15.58,22.14,22.96,16.4,22.14,13.12,22.14,16.4,12.3,9.02,18.04,16.4,22.14,13.12,13.94,13.12,23.78,11.48,9.84,17.22,18.86,9.02,20.5,13.94,18.86,18.04,25.42,13.94,21.32,16.4,11.48,18.86,13.94,16.4,21.32,16.4,16.4,15.58,22.14,18.86,12.3,15.58,19.68,29.52,20.5,23.78,18.86,19.68,14.76,14.76,22.96,18.04,6.56,16.4,17.22,17.22,22.14,6.56,13.94,10.66,7.38,19.68,14.76,12.3,18.04,16.4,15.58,18.86,18.04,13.12,12.3,21.32,11.48,9.84,16.4,22.96,13.12,19.68,18.86,13.12,10.66,12.3,12.3,10.66,11.48,22.14,10.66,13.12,25.42,14.76,13.94,14.76,18.86,16.4,15.58,25.42,14.76,14.76,18.04,11.48,22.14,10.66,21.32,12.3,10.66,21.32,17.22,22.14,14.76,15.58,20.5,20.5,11.48,23.78,14.76,22.14,22.14,18.04,18.86,17.22,10.66,13.12,14.76,14.76,10.66,19.68,24.6,17.22,23.78,10.66,10.66,20.5,22.96,17.22,22.14,21.32,22.14,22.14,13.94,18.86,25.42,13.12,9.02,13.12,13.12,14.76,14.76,17.22,16.4,10.66,16.4,21.32,9.84,28.7,10.66,12.3,13.12,22.14,13.94,10.66,11.48,14.76,18.04,16.4,13.12,14.76,12.3,23.78,16.4,10.66,13.94,24.6,16.4,24.6,12.3,13.94,22.14,18.86,15.58,22.96,21.32,13.12,12.3,28.7,18.04,22.96,16.4,15.58,25.42,13.12,9.84,18.86,18.86,9.84,16.4,14.76,19.68,18.86,13.94,12.3,10.66,15.58,13.94,18.86,12.3,10.66,9.84,25.42,13.94,11.48,22.96,22.14,13.12,28.7,22.14,21.32,18.04,18.04,13.12,14.76,18.86,11.48,12.3,13.94,18.86,22.96,14.76,16.4,13.94,18.86,15.58,13.94,9.84,12.3,11.48,13.12,16.4,18.86,18.86,22.14,22.96,16.4,18.04,13.94,13.12,23.78,15.58,12.3,22.96,13.12,13.94,11.48,14.76,13.12,14.76,18.04,9.84,17.22,24.6,23.78,15.58,22.96,28.7,16.4,23.78,22.96,18.04,18.04,21.32,9.84,15.58,22.96,18.86,12.3,14.76,18.04,21.32,20.5,23.78,13.12,14.76,12.3,16.4,18.86,10.66,15.58,9.02,13.94,12.3,15.58,13.12,13.12,27.06,12.3,27.06,13.94,16.4,22.14,18.04,25.42,19.68,10.66,13.94,13.12,13.94,10.66,13.94,10.66,18.86,13.94,24.6,10.66,16.4,18.86,22.14,22.96,20.5,15.58,25.42,22.96,12.3,18.86,17.22,12.3,9.84,12.3,13.94,22.96,22.14,19.68,17.22,10.66,18.04,6.56,22.14,15.58,15.58,13.94,21.32,17.22,9.02,22.14,25.42,10.66,9.02,16.4,16.4,21.32,18.86,24.6,16.4,6.56,14.76,14.76,22.96,6.56,17.22,12.3,13.12,21.32,15.58,15.58,11.48,11.48,14.76,16.4,9.84,13.94,17.22,13.12,14.76,22.96,18.86,18.86,16.4,15.58,13.12,22.96,8.2,18.86,14.76,11.48,18.86,24.6,16.4,18.04,21.32,18.04,10.66,9.02,18.86,16.4,16.4,28.7,19.68,12.3,15.58,14.76,19.68,14.76,16.4,27.06,5.74,14.76,18.86,17.22,18.04,18.04,13.94,12.3,15.58,22.96,18.86,22.14,11.48,18.04,18.86,25.42,14.76,22.96,13.94,14.76,20.5,18.04,26.24,15.58,17.22,12.3,21.32,16.4,13.12,12.3,19.68,20.5,10.66,21.32,22.14,16.4,26.24,22.96,12.3,18.86,21.32,13.12,16.4,18.86,13.12,16.4,13.12,20.5,12.3,22.14,18.04,22.14,9.02,8.2,21.32,15.58,20.5,17.22,10.66,11.48,18.86,10.66,22.14,10.66,22.96,13.12,16.4,14.76,24.6,13.12,23.78,12.3,13.12,12.3,13.94,16.4,13.12,24.6,14.76,21.32,11.48,14.76,16.4,13.94,10.66,9.84,13.94,21.32,22.14,9.02,13.12,25.42,13.12,12.3,17.22,16.4,15.58,25.42,13.94,13.12,13.94,9.84,19.68,9.84,14.76,20.5,9.84,10.66,14.76,18.86,22.96,13.12,13.94,13.12,20.5,9.02,10.66,15.58,10.66,20.5,12.3,16.4,13.12,16.4,22.96,16.4,14.76,21.32,23.78,14.76,13.94,28.7,21.32,17.22,20.5,23.78,18.04,11.48,14.76,25.42,22.14,15.58,13.12,18.04,14.76,16.4,14.76,18.04,15.58,13.94,22.14,17.22,15.58,13.12,12.3,18.86,13.94,10.66,10.66,17.22,20.5,12.3,16.4,12.3,12.3,14.76,19.68,22.96,14.76,25.42,13.12,19.68,23.78,22.96,17.22,20.5,24.6,20.5,16.4,18.04,11.48,9.02,14.76,16.4,13.12,12.3,22.96,14.76,14.76,14.76,18.04,9.84,17.22,14.76,16.4,11.48,24.6,8.2,13.94,17.22,13.94,13.12,24.6,15.58,17.22,14.76,21.32,14.76,18.86,14.76,13.94,13.94,22.96,14.76,12.3,14.76,14.76,9.84,20.5,10.66,14.76,16.4,9.84,14.76,9.02,17.22,18.04,22.96,18.04,9.84,11.48,25.42,7.38,16.4,18.04,21.32,13.94,13.94,27.06,22.96,12.3,16.4,16.4,13.94,17.22,24.6,17.22,16.4,26.24,18.86,8.2,20.5,26.24,12.3,25.42,22.96,16.4,8.2,20.5,15.58,12.3,23.78,20.5,13.94,18.86,24.6,19.68,13.12,20.5,13.12,22.14,14.76,16.4,16.4,22.96,16.4,13.12,21.32,15.58,17.22,20.5,11.48,21.32,8.2,18.86,16.4,16.4,14.76,22.96,14.76,13.12,14.76,22.96,13.94,13.12,13.12,17.22,17.22,18.04,22.96,13.94,10.66,22.14,14.76,13.94,16.4,29.52,15.58,15.58,13.94,18.86,22.96,24.6,12.3,13.12,21.32,13.94,16.4,20.5,20.5,13.94,15.58,11.48,16.4,12.3,22.96,24.6,14.76,14.76,22.14,14.76,25.42,15.58,16.4,24.6,12.3,10.66,14.76,13.94,19.68,16.4,17.22,22.96,17.22,16.4,26.24,26.24,22.14,9.84,15.58,14.76,13.94,17.22,15.58,12.3,18.04,19.68,18.04,18.04,20.5,12.3,15.58,14.76,13.12,22.14,17.22,9.84,10.66,14.76,26.24,22.14,9.02,20.5,10.66,13.12,15.58,11.48,13.94,18.04,21.32,14.76,14.76,16.4,23.78,20.5,13.94,13.12,18.86,14.76,11.48,13.94,13.94,16.4,12.3,13.94,19.68,20.5,22.96,11.48,22.96,13.94,22.14,18.04,15.58,17.22,18.04,26.24,30.34,22.96,23.78,9.84,13.94,12.3,13.94,13.94,13.12,14.76,18.86,16.4,22.14,15.58,13.12,21.32,15.58,9.84,18.04,15.58,22.14,8.2,17.22,12.3,14.76,14.76,18.86,15.58,13.94,24.6,22.14,17.22,22.96,8.2,25.42,16.4,23.78,14.76,15.58,8.2,9.84,22.14,17.22,9.84,9.84,13.12,17.22,10.66,17.22,10.66,12.3,9.02,10.66,16.4,18.86,9.02,15.58,16.4,13.12,21.32,10.66,10.66,22.14,16.4,16.4,14.76,15.58,9.84,15.58,22.14,18.04,18.86,13.12,13.12,21.32,16.4,13.12,13.12,9.02,21.32,22.96,24.6,18.86,16.4,22.14,12.3,13.12,11.48,13.94,22.96,18.86,15.58,15.58,13.94,22.14,16.4,18.04,16.4,18.86,12.3,22.96,11.48,13.12,12.3,22.96,13.12,11.48,10.66,8.2,14.76,13.94,10.66,18.04,12.3,18.86,12.3,10.66,13.94,17.22,18.86,22.96,13.12,14.76,9.84,14.76,27.06,10.66,18.04,13.94,8.2,8.2,29.52,18.86,12.3,18.04,11.48,22.96,22.96,20.5,22.96,21.32,23.78,9.84,21.32,13.94,21.32,20.5,18.04,17.22,22.96,15.58,19.68,21.32,18.04,21.32,13.12,14.76,16.4,12.3,14.76,10.66,15.58,17.22,14.76,11.48,9.84,13.12,18.86,20.5,18.86,16.4,17.22,12.3,15.58,7.38,9.84,16.4,10.66,9.84,18.04,18.04,21.32,12.3,14.76,18.86,23.78,14.76,24.6,18.86,22.96,14.76,18.04,22.14,22.96,18.04,26.24,13.12,10.66,11.48,10.66,13.12,14.76,18.04,18.86,12.3,11.48,14.76,11.48,15.58,18.86,18.86,9.02,19.68,25.42,10.66,14.76,17.22,21.32,28.7,9.02,12.3,29.52,17.22,12.3,19.68,11.48,9.84,22.14,23.78,14.76,10.66,9.84,20.5,12.3,25.42,18.86,13.12,9.02,11.48,9.84,14.76,15.58,16.4,28.7,13.12,18.04,27.06,22.14,20.5,21.32,12.3,13.12,12.3,14.76,18.86,18.86,9.84,17.22,13.94,16.4,22.14,10.66,13.94,13.12,9.84,18.86,26.24,19.68,15.58,17.22,17.22,18.86,17.22,22.14,13.94,19.68,17.22,21.32,10.66,12.3,13.94,14.76,24.6,21.32,16.4,17.22,25.42,17.22,24.6,21.32,8.2,17.22,7.38,24.6,16.4,23.78,10.66,13.94,25.42,12.3,22.14,22.14,25.42,19.68,21.32,13.94,21.32,26.24,15.58,18.04,27.06,13.12,9.02,9.02,12.3,20.5,14.76,14.76,16.4,11.48],\"xaxis\":\"x\",\"y\":[209,395,647,302,100,396,196,223,266,507,16,311,20,317,257,353,114,11,7,199,172,372,31,10,235,126,10,11,12,408,653,355,306,252,105,267,33,662,7,12,143,21,73,32,456,3,43,309,319,14,320,229,109,69,127,9,16,320,514,103,110,68,319,94,82,260,34,206,190,6,12,107,328,3,82,232,2,173,4,224,5,108,354,498,97,67,241,4,372,9,392,170,407,56,288,10,287,18,66,126,24,140,10,193,176,185,3,310,3,70,13,177,6,568,516,9,283,154,262,11,46,233,125,359,1,185,429,214,242,275,390,435,73,200,17,214,82,178,294,45,5,425,197,502,943,377,11,242,39,110,580,235,3,355,30,417,133,107,26,205,173,118,555,5,36,168,64,24,46,46,162,103,241,245,563,329,300,70,170,133,201,179,177,309,99,293,362,101,22,141,222,615,551,43,86,32,431,86,493,30,7,114,268,8,559,382,387,617,244,221,114,64,268,4,265,517,72,377,592,76,204,145,75,353,12,18,67,140,166,20,320,152,294,260,145,225,213,41,287,125,12,62,208,99,567,7,132,592,95,151,197,177,153,5,50,564,21,170,271,441,153,89,199,278,138,117,64,184,62,7,195,95,164,361,604,67,190,23,721,275,162,363,539,7,101,180,193,116,592,4,137,239,3,15,313,124,147,400,566,7,157,209,179,75,326,241,320,10,11,31,35,90,168,386,113,280,198,249,87,119,206,172,106,246,66,114,30,205,203,9,5,124,13,166,9,181,171,267,900,659,74,214,336,185,137,113,309,59,129,126,357,7,99,289,381,561,107,5,292,122,687,333,10,201,493,583,95,10,20,4,25,314,211,520,25,122,26,500,738,124,147,5,79,154,332,332,642,197,310,190,8,211,120,844,569,268,71,378,473,218,185,301,251,272,52,6,71,446,232,186,375,332,539,24,445,4,497,356,124,71,193,69,4,233,117,110,334,168,9,459,61,117,101,887,54,160,715,196,363,178,15,102,2,189,139,62,619,617,99,205,3,304,263,178,111,108,228,214,565,95,224,241,348,343,481,124,47,219,188,7,15,478,19,81,40,131,147,5,105,367,181,8,247,260,97,34,11,55,106,525,8,5,21,251,680,255,84,527,396,53,785,173,585,224,375,257,35,357,568,36,62,248,620,166,266,67,19,382,149,147,225,126,6,447,175,190,471,233,369,343,274,327,34,425,125,300,137,8,196,481,139,11,310,92,46,39,31,434,4,81,4,11,69,679,459,11,11,237,13,311,131,581,321,93,20,384,172,323,282,71,216,563,41,283,374,42,64,59,278,87,251,342,373,41,170,15,264,15,11,185,4,217,153,244,8,85,221,406,446,105,197,53,83,391,553,11,88,504,272,418,162,27,304,270,256,96,60,213,236,300,46,320,9,271,137,63,387,8,16,220,108,9,267,151,325,306,9,438,181,455,541,246,69,207,400,122,214,11,52,198,485,24,338,619,184,90,357,637,106,162,568,96,7,835,251,3,420,154,19,201,276,37,170,341,329,148,45,610,125,469,123,3,191,6,455,810,132,308,227,129,152,534,489,156,16,30,11,99,462,438,210,23,414,410,339,320,133,7,96,171,114,147,139,331,462,516,7,402,45,446,5,152,151,62,123,66,149,58,501,149,191,470,525,386,168,352,414,63,21,135,168,168,5,382,585,239,405,219,144,144,236,420,651,233,16,155,261,49,199,363,207,290,423,163,472,94,253,238,5,6,359,43,11,258,181,205,708,205,140,75,227,228,8,27,418,17,314,8,26,11,24,10,189,198,353,23,111,241,92,305,130,51,66,122,166,63,104,123,237,219,206,4,428,34,180,254,221,354,93,460,88,272,6,82,6,372,248,371,234,291,333,7,19,451,495,87,466,189,86,305,220,2,38,375,94,3,216,111,60,53,12,221,613,290,538,93,400,175,124,1,345,121,479,147,329,50,217,10,26,542,120,42,14,199,495,522,173,627,162,8,147,172,447,493,177,136,6,163,21,47,507,223,30,12,273,168,204,419,115,276,39,308,743,461,139,55,10,117,468,465,5,249,94,124,2,148,344,84,119,65,4,87,245,102,10,270,27,412,443,710,2,205,498,188,155,4,276,318,711,25,75,466,298,114,405,268,40,646,200,4,5,210,356,87,111,10,402,197,74,190,297,66,48,424,359,33,394,486,663,499,125,322,884,21,215,400,298,390,169,382,30,12,129,412,181,686,102,250,7,37,13,22,308,242,373,207,120,24,270,89,432,151,3,233,135,17,147,98,10,203,182,130,285,40,151,22,6,2,179,428,232,238,351,433,154,154,82,12,5,75,236,4,146,78,145,94,622,127,119,238,164,3,495,115,165,21,182,21,7,145,260,126,352,71,123,255,264,217,75,209,227,319,687,17,308,6,389,5,207,28,323,198,146,171,79,6,340,65,26,206,198,108,5,465,124,254,562,142,134,41,190,271,245,218,243,12,528,283,17,460,478,136,195,187,58,238,25,328,64,3,436,308,65,106,68,15,10,20,123,340,83,114,572,378,156,23,118,94,129,156,129,182,202,195,11,295,146,3,223,107,84,15,10,110,88,156,74,16,108,204,200,272,500,109,295,399,134,232,93,132,35,135,87,6,16,319,49,692,114,145,476,280,197,246,136,6,12,6,105,5,165,165,341,515,497,456,59,31,285,48,62,128,152,366,56,189,195,519,2,588,89,2,244,6,24,287,7,181,325,16,917,175,60,283,196,238,15,121,213,33,54,50,419,102,948,306,35,239,7,4,104,8,66,371,215,272,175,187,567,187,358,32,108,7,4,240,10,16,71,8,2,264,386,225,56,5,87,128,171,132,262,224,368,9,423,219,247,62,191,6,497,423,324,127,23,128,253,55,244,402,38,88,2,327,158,15,133,187,199,27,27,173,248,308,9,21,15,7,43,573,240,12,323,362,11,596,203,148,42,48,295,262,86,415,5,240,260,245,205,279,442,318,566,759,99,229,225,280,226,131,129,358,75,190,234,444,15,33,73,89,246,34,122,2,15,79,374,44,540,209,172,365,278,112,2,508,123,22,7,45,365,196,190,26,97,6,18,353,121,24,103,62,201,146,310,289,17,119,670,21,126,10,106,177,105,210,66,254,16,483,113,346,27,23,254,5,745,20,404,52,1,1,6,5,806,31,377,507,385,191,35,22,21,112,166,14,227,28,122,222,46,396,10,11,204,218,204,259,31,36,6,118,453,446,377,400,299,233,3,56,302,120,194,31,20,38,183,837,160,302,267,31,20,292,328,161,62,303,220,235,149,3,713,96,176,115,228,337,130,300,313,172,4,48,201,248,10,72,455,3,14,359,66,170,257,123,6,91,331,84,178,33,348,16,404,76,387,158,228,221,546,335,31,167,73,161,176,212,120,192,172,71,34,339,310,150,460,29,234,245,228,2,2,365,65,91,5,359,15,374,258,466,8,166,204,6,442,19,112,85,313,242,23,28,46,144,267,102,2,198,539,7,175,363,13,51,395,161,200,10,6,7,385,448,784,2,53,164,152,102,102,174,28,236,7,59,417,3,360,92,251,212,547,132,48,360,304,444,5,355,593,169,42,306,453,3,423,45,321,319,417,166,217,226,20,108,77,113,48,308,525,5,7,126,53,154,9,44,407,172,124,37,251,217,4,26,788,100,374,11,531,890,317,52,435,203,157,817,179,8,3,237,217,216,116,270,21,73,171,605,276,167,268,208,111,155,17,118,51,89,161,149,31,549,167,174,6,109,332,175,87,200,137,133,266,148,133,210,16,249,114,678,159,43,28,7,856,164,13,16,459,6,48,262,135,8,638,496,75,371,12,138,37,447,394,144,196,473,61,37,238,182,12,377,180,395,7,72,421,139,24,104,329,214,260,606,50,45,20,248,273,315,129,134,174,404,295,193,24,155,74,137,9,234,294,466,123,17,118,217,4,146,360,267,550,221,456,204,57,74,69,179,243,382,102,634,231,16,102,13,191,319,149,355,23,254,109,217,286,46,204,237,299,26,513,593,146,731,105,41,562,443,51,372,301,5,240,9,19,309,251,382,186,154,395,219,206,54,201,331,509,134,456,4,233,89,473,10,166,202,231,273,162,389,496,12,92,278,451,262,7,201,601,153,247,565,142,50,361,27,168,220,175,291,208,125,347,8,106,108,137,452,245,170,142,286,5,58,6,219,229,33,315,292,141,232,370,173,179,146,104,36,218,172,20,115,692,372,144,232,93,202,160,1,417,334,227,107,118,8,127,464,5,254,142,180,605,5,518,3,479,484,302,4,332,4,87,387,584,48,5,141,3,477,129,26,23,72,288,406,40,105,336,236,227,405,59,688,5,476,110,96,3,445,19,22,506,78,171,126,123,426,165,207,49,345,199,420,414,206,153,106,270,149,286,69,834,151,638,115,219,137,33,201,128,241,2,285,601,141,465,165,256,2,4,20,299,5,114,11,251,98,168,10,336,179,10,153,156,78,51,260,178,185,224,92,5,365,11,668,135,32,25,43,185,170,130,321,385,499,505,124,167,22,8,434,207,207,68,18,229,59,449,304,219,106,8,140,479,88,215,12,211,195,73,377,232,330,43,167,31,17,222,467,13,220,109,206,18,100,95,441,204,305,148,15,7,457,11,233,257,761,3,157,138,50,693,355,44,237,90,11,107,3,173,7,301,659,187,209,21,257,55,386,424,216,300,319,36,6,167,5,8,4,29,214,10,7,528,4,443,326,142,12,10,9,60,345,347,304,273,256,133,244,114,202,70,392,6,297,80,336,276,22,8,246,52,73,240,256,106,341,10,266,139,144,374,13,213,173,178,218,118,467,50,162,608,202,737,427,371,211,25,302,171,337,397,134,3,450,114,45,154,33,285,268,81,155,133,247,20,50,455,13,162,117,230,241,63,63,6,827,146,60,11,92],\"yaxis\":\"y\",\"type\":\"scattergl\"}],                        {\"template\":{\"data\":{\"bar\":[{\"error_x\":{\"color\":\"#2a3f5f\"},\"error_y\":{\"color\":\"#2a3f5f\"},\"marker\":{\"line\":{\"color\":\"#E5ECF6\",\"width\":0.5},\"pattern\":{\"fillmode\":\"overlay\",\"size\":10,\"solidity\":0.2}},\"type\":\"bar\"}],\"barpolar\":[{\"marker\":{\"line\":{\"color\":\"#E5ECF6\",\"width\":0.5},\"pattern\":{\"fillmode\":\"overlay\",\"size\":10,\"solidity\":0.2}},\"type\":\"barpolar\"}],\"carpet\":[{\"aaxis\":{\"endlinecolor\":\"#2a3f5f\",\"gridcolor\":\"white\",\"linecolor\":\"white\",\"minorgridcolor\":\"white\",\"startlinecolor\":\"#2a3f5f\"},\"baxis\":{\"endlinecolor\":\"#2a3f5f\",\"gridcolor\":\"white\",\"linecolor\":\"white\",\"minorgridcolor\":\"white\",\"startlinecolor\":\"#2a3f5f\"},\"type\":\"carpet\"}],\"choropleth\":[{\"colorbar\":{\"outlinewidth\":0,\"ticks\":\"\"},\"type\":\"choropleth\"}],\"contour\":[{\"colorbar\":{\"outlinewidth\":0,\"ticks\":\"\"},\"colorscale\":[[0.0,\"#0d0887\"],[0.1111111111111111,\"#46039f\"],[0.2222222222222222,\"#7201a8\"],[0.3333333333333333,\"#9c179e\"],[0.4444444444444444,\"#bd3786\"],[0.5555555555555556,\"#d8576b\"],[0.6666666666666666,\"#ed7953\"],[0.7777777777777778,\"#fb9f3a\"],[0.8888888888888888,\"#fdca26\"],[1.0,\"#f0f921\"]],\"type\":\"contour\"}],\"contourcarpet\":[{\"colorbar\":{\"outlinewidth\":0,\"ticks\":\"\"},\"type\":\"contourcarpet\"}],\"heatmap\":[{\"colorbar\":{\"outlinewidth\":0,\"ticks\":\"\"},\"colorscale\":[[0.0,\"#0d0887\"],[0.1111111111111111,\"#46039f\"],[0.2222222222222222,\"#7201a8\"],[0.3333333333333333,\"#9c179e\"],[0.4444444444444444,\"#bd3786\"],[0.5555555555555556,\"#d8576b\"],[0.6666666666666666,\"#ed7953\"],[0.7777777777777778,\"#fb9f3a\"],[0.8888888888888888,\"#fdca26\"],[1.0,\"#f0f921\"]],\"type\":\"heatmap\"}],\"heatmapgl\":[{\"colorbar\":{\"outlinewidth\":0,\"ticks\":\"\"},\"colorscale\":[[0.0,\"#0d0887\"],[0.1111111111111111,\"#46039f\"],[0.2222222222222222,\"#7201a8\"],[0.3333333333333333,\"#9c179e\"],[0.4444444444444444,\"#bd3786\"],[0.5555555555555556,\"#d8576b\"],[0.6666666666666666,\"#ed7953\"],[0.7777777777777778,\"#fb9f3a\"],[0.8888888888888888,\"#fdca26\"],[1.0,\"#f0f921\"]],\"type\":\"heatmapgl\"}],\"histogram\":[{\"marker\":{\"pattern\":{\"fillmode\":\"overlay\",\"size\":10,\"solidity\":0.2}},\"type\":\"histogram\"}],\"histogram2d\":[{\"colorbar\":{\"outlinewidth\":0,\"ticks\":\"\"},\"colorscale\":[[0.0,\"#0d0887\"],[0.1111111111111111,\"#46039f\"],[0.2222222222222222,\"#7201a8\"],[0.3333333333333333,\"#9c179e\"],[0.4444444444444444,\"#bd3786\"],[0.5555555555555556,\"#d8576b\"],[0.6666666666666666,\"#ed7953\"],[0.7777777777777778,\"#fb9f3a\"],[0.8888888888888888,\"#fdca26\"],[1.0,\"#f0f921\"]],\"type\":\"histogram2d\"}],\"histogram2dcontour\":[{\"colorbar\":{\"outlinewidth\":0,\"ticks\":\"\"},\"colorscale\":[[0.0,\"#0d0887\"],[0.1111111111111111,\"#46039f\"],[0.2222222222222222,\"#7201a8\"],[0.3333333333333333,\"#9c179e\"],[0.4444444444444444,\"#bd3786\"],[0.5555555555555556,\"#d8576b\"],[0.6666666666666666,\"#ed7953\"],[0.7777777777777778,\"#fb9f3a\"],[0.8888888888888888,\"#fdca26\"],[1.0,\"#f0f921\"]],\"type\":\"histogram2dcontour\"}],\"mesh3d\":[{\"colorbar\":{\"outlinewidth\":0,\"ticks\":\"\"},\"type\":\"mesh3d\"}],\"parcoords\":[{\"line\":{\"colorbar\":{\"outlinewidth\":0,\"ticks\":\"\"}},\"type\":\"parcoords\"}],\"pie\":[{\"automargin\":true,\"type\":\"pie\"}],\"scatter\":[{\"marker\":{\"colorbar\":{\"outlinewidth\":0,\"ticks\":\"\"}},\"type\":\"scatter\"}],\"scatter3d\":[{\"line\":{\"colorbar\":{\"outlinewidth\":0,\"ticks\":\"\"}},\"marker\":{\"colorbar\":{\"outlinewidth\":0,\"ticks\":\"\"}},\"type\":\"scatter3d\"}],\"scattercarpet\":[{\"marker\":{\"colorbar\":{\"outlinewidth\":0,\"ticks\":\"\"}},\"type\":\"scattercarpet\"}],\"scattergeo\":[{\"marker\":{\"colorbar\":{\"outlinewidth\":0,\"ticks\":\"\"}},\"type\":\"scattergeo\"}],\"scattergl\":[{\"marker\":{\"colorbar\":{\"outlinewidth\":0,\"ticks\":\"\"}},\"type\":\"scattergl\"}],\"scattermapbox\":[{\"marker\":{\"colorbar\":{\"outlinewidth\":0,\"ticks\":\"\"}},\"type\":\"scattermapbox\"}],\"scatterpolar\":[{\"marker\":{\"colorbar\":{\"outlinewidth\":0,\"ticks\":\"\"}},\"type\":\"scatterpolar\"}],\"scatterpolargl\":[{\"marker\":{\"colorbar\":{\"outlinewidth\":0,\"ticks\":\"\"}},\"type\":\"scatterpolargl\"}],\"scatterternary\":[{\"marker\":{\"colorbar\":{\"outlinewidth\":0,\"ticks\":\"\"}},\"type\":\"scatterternary\"}],\"surface\":[{\"colorbar\":{\"outlinewidth\":0,\"ticks\":\"\"},\"colorscale\":[[0.0,\"#0d0887\"],[0.1111111111111111,\"#46039f\"],[0.2222222222222222,\"#7201a8\"],[0.3333333333333333,\"#9c179e\"],[0.4444444444444444,\"#bd3786\"],[0.5555555555555556,\"#d8576b\"],[0.6666666666666666,\"#ed7953\"],[0.7777777777777778,\"#fb9f3a\"],[0.8888888888888888,\"#fdca26\"],[1.0,\"#f0f921\"]],\"type\":\"surface\"}],\"table\":[{\"cells\":{\"fill\":{\"color\":\"#EBF0F8\"},\"line\":{\"color\":\"white\"}},\"header\":{\"fill\":{\"color\":\"#C8D4E3\"},\"line\":{\"color\":\"white\"}},\"type\":\"table\"}]},\"layout\":{\"annotationdefaults\":{\"arrowcolor\":\"#2a3f5f\",\"arrowhead\":0,\"arrowwidth\":1},\"autotypenumbers\":\"strict\",\"coloraxis\":{\"colorbar\":{\"outlinewidth\":0,\"ticks\":\"\"}},\"colorscale\":{\"diverging\":[[0,\"#8e0152\"],[0.1,\"#c51b7d\"],[0.2,\"#de77ae\"],[0.3,\"#f1b6da\"],[0.4,\"#fde0ef\"],[0.5,\"#f7f7f7\"],[0.6,\"#e6f5d0\"],[0.7,\"#b8e186\"],[0.8,\"#7fbc41\"],[0.9,\"#4d9221\"],[1,\"#276419\"]],\"sequential\":[[0.0,\"#0d0887\"],[0.1111111111111111,\"#46039f\"],[0.2222222222222222,\"#7201a8\"],[0.3333333333333333,\"#9c179e\"],[0.4444444444444444,\"#bd3786\"],[0.5555555555555556,\"#d8576b\"],[0.6666666666666666,\"#ed7953\"],[0.7777777777777778,\"#fb9f3a\"],[0.8888888888888888,\"#fdca26\"],[1.0,\"#f0f921\"]],\"sequentialminus\":[[0.0,\"#0d0887\"],[0.1111111111111111,\"#46039f\"],[0.2222222222222222,\"#7201a8\"],[0.3333333333333333,\"#9c179e\"],[0.4444444444444444,\"#bd3786\"],[0.5555555555555556,\"#d8576b\"],[0.6666666666666666,\"#ed7953\"],[0.7777777777777778,\"#fb9f3a\"],[0.8888888888888888,\"#fdca26\"],[1.0,\"#f0f921\"]]},\"colorway\":[\"#636efa\",\"#EF553B\",\"#00cc96\",\"#ab63fa\",\"#FFA15A\",\"#19d3f3\",\"#FF6692\",\"#B6E880\",\"#FF97FF\",\"#FECB52\"],\"font\":{\"color\":\"#2a3f5f\"},\"geo\":{\"bgcolor\":\"white\",\"lakecolor\":\"white\",\"landcolor\":\"#E5ECF6\",\"showlakes\":true,\"showland\":true,\"subunitcolor\":\"white\"},\"hoverlabel\":{\"align\":\"left\"},\"hovermode\":\"closest\",\"mapbox\":{\"style\":\"light\"},\"paper_bgcolor\":\"white\",\"plot_bgcolor\":\"#E5ECF6\",\"polar\":{\"angularaxis\":{\"gridcolor\":\"white\",\"linecolor\":\"white\",\"ticks\":\"\"},\"bgcolor\":\"#E5ECF6\",\"radialaxis\":{\"gridcolor\":\"white\",\"linecolor\":\"white\",\"ticks\":\"\"}},\"scene\":{\"xaxis\":{\"backgroundcolor\":\"#E5ECF6\",\"gridcolor\":\"white\",\"gridwidth\":2,\"linecolor\":\"white\",\"showbackground\":true,\"ticks\":\"\",\"zerolinecolor\":\"white\"},\"yaxis\":{\"backgroundcolor\":\"#E5ECF6\",\"gridcolor\":\"white\",\"gridwidth\":2,\"linecolor\":\"white\",\"showbackground\":true,\"ticks\":\"\",\"zerolinecolor\":\"white\"},\"zaxis\":{\"backgroundcolor\":\"#E5ECF6\",\"gridcolor\":\"white\",\"gridwidth\":2,\"linecolor\":\"white\",\"showbackground\":true,\"ticks\":\"\",\"zerolinecolor\":\"white\"}},\"shapedefaults\":{\"line\":{\"color\":\"#2a3f5f\"}},\"ternary\":{\"aaxis\":{\"gridcolor\":\"white\",\"linecolor\":\"white\",\"ticks\":\"\"},\"baxis\":{\"gridcolor\":\"white\",\"linecolor\":\"white\",\"ticks\":\"\"},\"bgcolor\":\"#E5ECF6\",\"caxis\":{\"gridcolor\":\"white\",\"linecolor\":\"white\",\"ticks\":\"\"}},\"title\":{\"x\":0.05},\"xaxis\":{\"automargin\":true,\"gridcolor\":\"white\",\"linecolor\":\"white\",\"ticks\":\"\",\"title\":{\"standoff\":15},\"zerolinecolor\":\"white\",\"zerolinewidth\":2},\"yaxis\":{\"automargin\":true,\"gridcolor\":\"white\",\"linecolor\":\"white\",\"ticks\":\"\",\"title\":{\"standoff\":15},\"zerolinecolor\":\"white\",\"zerolinewidth\":2}}},\"xaxis\":{\"anchor\":\"y\",\"domain\":[0.0,1.0],\"title\":{\"text\":\"temp\"}},\"yaxis\":{\"anchor\":\"x\",\"domain\":[0.0,1.0],\"title\":{\"text\":\"Total_booking\"}},\"legend\":{\"title\":{\"text\":\"season\"},\"tracegroupgap\":0,\"itemsizing\":\"constant\"},\"margin\":{\"t\":60}},                        {\"responsive\": true}                    ).then(function(){\n",
              "                            \n",
              "var gd = document.getElementById('7ae95205-fc61-47b6-a9bb-1823403f28af');\n",
              "var x = new MutationObserver(function (mutations, observer) {{\n",
              "        var display = window.getComputedStyle(gd).display;\n",
              "        if (!display || display === 'none') {{\n",
              "            console.log([gd, 'removed!']);\n",
              "            Plotly.purge(gd);\n",
              "            observer.disconnect();\n",
              "        }}\n",
              "}});\n",
              "\n",
              "// Listen for the removal of the full notebook cells\n",
              "var notebookContainer = gd.closest('#notebook-container');\n",
              "if (notebookContainer) {{\n",
              "    x.observe(notebookContainer, {childList: true});\n",
              "}}\n",
              "\n",
              "// Listen for the clearing of the current output cell\n",
              "var outputEl = gd.closest('.output');\n",
              "if (outputEl) {{\n",
              "    x.observe(outputEl, {childList: true});\n",
              "}}\n",
              "\n",
              "                        })                };                            </script>        </div>\n",
              "</body>\n",
              "</html>"
            ]
          },
          "metadata": {}
        }
      ],
      "source": [
        "import plotly.express as px\n",
        "fig = px.scatter(df, x=\"temp\", y=\"Total_booking\", color=\"season\",\n",
        "                 size='Hour', hover_data=['Weekday', 'Month'])\n",
        "fig.show()"
      ]
    },
    {
      "cell_type": "markdown",
      "source": [
        "This plot shows that data is not realtime.\n"
      ],
      "metadata": {
        "id": "58EK8RzLGNxa"
      }
    },
    {
      "cell_type": "code",
      "execution_count": 43,
      "metadata": {
        "colab": {
          "base_uri": "https://localhost:8080/",
          "height": 296
        },
        "id": "5Na0MrFxCIwB",
        "outputId": "59efdfa8-78a5-493f-e198-cc67e335f942"
      },
      "outputs": [
        {
          "output_type": "execute_result",
          "data": {
            "text/plain": [
              "<matplotlib.axes._subplots.AxesSubplot at 0x7f2553cf1b80>"
            ]
          },
          "metadata": {},
          "execution_count": 43
        },
        {
          "output_type": "display_data",
          "data": {
            "text/plain": [
              "<Figure size 432x288 with 1 Axes>"
            ],
            "image/png": "[encoded data removed]"
          },
          "metadata": {
            "needs_background": "light"
          }
        }
      ],
      "source": [
        "sns.histplot(df[\"windspeed\"])"
      ]
    },
    {
      "cell_type": "code",
      "execution_count": 44,
      "metadata": {
        "colab": {
          "base_uri": "https://localhost:8080/",
          "height": 296
        },
        "id": "jnyIB5Iz37_w",
        "outputId": "41f50b5d-c0c8-432d-99c7-368b99ed27d8"
      },
      "outputs": [
        {
          "output_type": "execute_result",
          "data": {
            "text/plain": [
              "<matplotlib.axes._subplots.AxesSubplot at 0x7f2553c996d0>"
            ]
          },
          "metadata": {},
          "execution_count": 44
        },
        {
          "output_type": "display_data",
          "data": {
            "text/plain": [
              "<Figure size 432x288 with 1 Axes>"
            ],
            "image/png": "[encoded data removed]"
          },
          "metadata": {
            "needs_background": "light"
          }
        }
      ],
      "source": [
        "sns.histplot(df[\"temp\"])"
      ]
    },
    {
      "cell_type": "code",
      "execution_count": 45,
      "metadata": {
        "colab": {
          "base_uri": "https://localhost:8080/",
          "height": 296
        },
        "id": "PIJKXp0TC-Mg",
        "outputId": "6ae68793-baff-42ba-d602-1a8fe616b857"
      },
      "outputs": [
        {
          "output_type": "execute_result",
          "data": {
            "text/plain": [
              "<matplotlib.axes._subplots.AxesSubplot at 0x7f2553c25820>"
            ]
          },
          "metadata": {},
          "execution_count": 45
        },
        {
          "output_type": "display_data",
          "data": {
            "text/plain": [
              "<Figure size 432x288 with 1 Axes>"
            ],
            "image/png": "[encoded data removed]"
          },
          "metadata": {
            "needs_background": "light"
          }
        }
      ],
      "source": [
        "sns.histplot(df[\"humidity\"])"
      ]
    },
    {
      "cell_type": "markdown",
      "metadata": {
        "id": "L6m5CLtYY9J_"
      },
      "source": [
        "##Feature Scaling"
      ]
    },
    {
      "cell_type": "code",
      "execution_count": 46,
      "metadata": {
        "colab": {
          "base_uri": "https://localhost:8080/",
          "height": 300
        },
        "id": "goeR2_NuZZt-",
        "outputId": "35991e46-c290-4d12-fd9b-f73c1d8d7f2c"
      },
      "outputs": [
        {
          "output_type": "execute_result",
          "data": {
            "text/plain": [
              "              temp     humidity    windspeed  Total_booking         Book  \\\n",
              "count  8708.000000  8708.000000  8708.000000    8708.000000  8708.000000   \n",
              "mean     20.243020    61.653865    12.843891     193.007005     0.500345   \n",
              "std       7.813494    19.196752     8.190314     181.552211     0.500029   \n",
              "min       0.820000     0.000000     0.000000       1.000000     0.000000   \n",
              "25%      13.940000    46.000000     7.001500      43.000000     0.000000   \n",
              "50%      20.500000    61.000000    12.998000     148.000000     1.000000   \n",
              "75%      26.240000    77.000000    16.997900     286.000000     1.000000   \n",
              "max      41.000000   100.000000    56.996900     977.000000     1.000000   \n",
              "\n",
              "              Hour        Month  \n",
              "count  8708.000000  8708.000000  \n",
              "mean     11.581190     6.528709  \n",
              "std       6.890534     3.440879  \n",
              "min       0.000000     1.000000  \n",
              "25%       6.000000     4.000000  \n",
              "50%      12.000000     7.000000  \n",
              "75%      18.000000    10.000000  \n",
              "max      23.000000    12.000000  "
            ],
            "text/html": [
              "\n",
              "  <div id=\"df-bbcac2a2-4c72-46ad-817f-cd7eaee32f37\">\n",
              "    <div class=\"colab-df-container\">\n",
              "      <div>\n",
              "<style scoped>\n",
              "    .dataframe tbody tr th:only-of-type {\n",
              "        vertical-align: middle;\n",
              "    }\n",
              "\n",
              "    .dataframe tbody tr th {\n",
              "        vertical-align: top;\n",
              "    }\n",
              "\n",
              "    .dataframe thead th {\n",
              "        text-align: right;\n",
              "    }\n",
              "</style>\n",
              "<table border=\"1\" class=\"dataframe\">\n",
              "  <thead>\n",
              "    <tr style=\"text-align: right;\">\n",
              "      <th></th>\n",
              "      <th>temp</th>\n",
              "      <th>humidity</th>\n",
              "      <th>windspeed</th>\n",
              "      <th>Total_booking</th>\n",
              "      <th>Book</th>\n",
              "      <th>Hour</th>\n",
              "      <th>Month</th>\n",
              "    </tr>\n",
              "  </thead>\n",
              "  <tbody>\n",
              "    <tr>\n",
              "      <th>count</th>\n",
              "      <td>8708.000000</td>\n",
              "      <td>8708.000000</td>\n",
              "      <td>8708.000000</td>\n",
              "      <td>8708.000000</td>\n",
              "      <td>8708.000000</td>\n",
              "      <td>8708.000000</td>\n",
              "      <td>8708.000000</td>\n",
              "    </tr>\n",
              "    <tr>\n",
              "      <th>mean</th>\n",
              "      <td>20.243020</td>\n",
              "      <td>61.653865</td>\n",
              "      <td>12.843891</td>\n",
              "      <td>193.007005</td>\n",
              "      <td>0.500345</td>\n",
              "      <td>11.581190</td>\n",
              "      <td>6.528709</td>\n",
              "    </tr>\n",
              "    <tr>\n",
              "      <th>std</th>\n",
              "      <td>7.813494</td>\n",
              "      <td>19.196752</td>\n",
              "      <td>8.190314</td>\n",
              "      <td>181.552211</td>\n",
              "      <td>0.500029</td>\n",
              "      <td>6.890534</td>\n",
              "      <td>3.440879</td>\n",
              "    </tr>\n",
              "    <tr>\n",
              "      <th>min</th>\n",
              "      <td>0.820000</td>\n",
              "      <td>0.000000</td>\n",
              "      <td>0.000000</td>\n",
              "      <td>1.000000</td>\n",
              "      <td>0.000000</td>\n",
              "      <td>0.000000</td>\n",
              "      <td>1.000000</td>\n",
              "    </tr>\n",
              "    <tr>\n",
              "      <th>25%</th>\n",
              "      <td>13.940000</td>\n",
              "      <td>46.000000</td>\n",
              "      <td>7.001500</td>\n",
              "      <td>43.000000</td>\n",
              "      <td>0.000000</td>\n",
              "      <td>6.000000</td>\n",
              "      <td>4.000000</td>\n",
              "    </tr>\n",
              "    <tr>\n",
              "      <th>50%</th>\n",
              "      <td>20.500000</td>\n",
              "      <td>61.000000</td>\n",
              "      <td>12.998000</td>\n",
              "      <td>148.000000</td>\n",
              "      <td>1.000000</td>\n",
              "      <td>12.000000</td>\n",
              "      <td>7.000000</td>\n",
              "    </tr>\n",
              "    <tr>\n",
              "      <th>75%</th>\n",
              "      <td>26.240000</td>\n",
              "      <td>77.000000</td>\n",
              "      <td>16.997900</td>\n",
              "      <td>286.000000</td>\n",
              "      <td>1.000000</td>\n",
              "      <td>18.000000</td>\n",
              "      <td>10.000000</td>\n",
              "    </tr>\n",
              "    <tr>\n",
              "      <th>max</th>\n",
              "      <td>41.000000</td>\n",
              "      <td>100.000000</td>\n",
              "      <td>56.996900</td>\n",
              "      <td>977.000000</td>\n",
              "      <td>1.000000</td>\n",
              "      <td>23.000000</td>\n",
              "      <td>12.000000</td>\n",
              "    </tr>\n",
              "  </tbody>\n",
              "</table>\n",
              "</div>\n",
              "      <button class=\"colab-df-convert\" onclick=\"convertToInteractive('df-bbcac2a2-4c72-46ad-817f-cd7eaee32f37')\"\n",
              "              title=\"Convert this dataframe to an interactive table.\"\n",
              "              style=\"display:none;\">\n",
              "        \n",
              "  <svg xmlns=\"http://www.w3.org/2000/svg\" height=\"24px\"viewBox=\"0 0 24 24\"\n",
              "       width=\"24px\">\n",
              "    <path d=\"M0 0h24v24H0V0z\" fill=\"none\"/>\n",
              "    <path d=\"M18.56 5.44l.94 2.06.94-2.06 2.06-.94-2.06-.94-.94-2.06-.94 2.06-2.06.94zm-11 1L8.5 8.5l.94-2.06 2.06-.94-2.06-.94L8.5 2.5l-.94 2.06-2.06.94zm10 10l.94 2.06.94-2.06 2.06-.94-2.06-.94-.94-2.06-.94 2.06-2.06.94z\"/><path d=\"M17.41 7.96l-1.37-1.37c-.4-.4-.92-.59-1.43-.59-.52 0-1.04.2-1.43.59L10.3 9.45l-7.72 7.72c-.78.78-.78 2.05 0 2.83L4 21.41c.39.39.9.59 1.41.59.51 0 1.02-.2 1.41-.59l7.78-7.78 2.81-2.81c.8-.78.8-2.07 0-2.86zM5.41 20L4 18.59l7.72-7.72 1.47 1.35L5.41 20z\"/>\n",
              "  </svg>\n",
              "      </button>\n",
              "      \n",
              "  <style>\n",
              "    .colab-df-container {\n",
              "      display:flex;\n",
              "      flex-wrap:wrap;\n",
              "      gap: 12px;\n",
              "    }\n",
              "\n",
              "    .colab-df-convert {\n",
              "      background-color: #E8F0FE;\n",
              "      border: none;\n",
              "      border-radius: 50%;\n",
              "      cursor: pointer;\n",
              "      display: none;\n",
              "      fill: #1967D2;\n",
              "      height: 32px;\n",
              "      padding: 0 0 0 0;\n",
              "      width: 32px;\n",
              "    }\n",
              "\n",
              "    .colab-df-convert:hover {\n",
              "      background-color: #E2EBFA;\n",
              "      box-shadow: 0px 1px 2px rgba(60, 64, 67, 0.3), 0px 1px 3px 1px rgba(60, 64, 67, 0.15);\n",
              "      fill: #174EA6;\n",
              "    }\n",
              "\n",
              "    [theme=dark] .colab-df-convert {\n",
              "      background-color: #3B4455;\n",
              "      fill: #D2E3FC;\n",
              "    }\n",
              "\n",
              "    [theme=dark] .colab-df-convert:hover {\n",
              "      background-color: #434B5C;\n",
              "      box-shadow: 0px 1px 3px 1px rgba(0, 0, 0, 0.15);\n",
              "      filter: drop-shadow(0px 1px 2px rgba(0, 0, 0, 0.3));\n",
              "      fill: #FFFFFF;\n",
              "    }\n",
              "  </style>\n",
              "\n",
              "      <script>\n",
              "        const buttonEl =\n",
              "          document.querySelector('#df-bbcac2a2-4c72-46ad-817f-cd7eaee32f37 button.colab-df-convert');\n",
              "        buttonEl.style.display =\n",
              "          google.colab.kernel.accessAllowed ? 'block' : 'none';\n",
              "\n",
              "        async function convertToInteractive(key) {\n",
              "          const element = document.querySelector('#df-bbcac2a2-4c72-46ad-817f-cd7eaee32f37');\n",
              "          const dataTable =\n",
              "            await google.colab.kernel.invokeFunction('convertToInteractive',\n",
              "                                                     [key], {});\n",
              "          if (!dataTable) return;\n",
              "\n",
              "          const docLinkHtml = 'Like what you see? Visit the ' +\n",
              "            '<a target=\"_blank\" href=https://colab.research.google.com/notebooks/data_table.ipynb>data table notebook</a>'\n",
              "            + ' to learn more about interactive tables.';\n",
              "          element.innerHTML = '';\n",
              "          dataTable['output_type'] = 'display_data';\n",
              "          await google.colab.output.renderOutput(dataTable, element);\n",
              "          const docLink = document.createElement('div');\n",
              "          docLink.innerHTML = docLinkHtml;\n",
              "          element.appendChild(docLink);\n",
              "        }\n",
              "      </script>\n",
              "    </div>\n",
              "  </div>\n",
              "  "
            ]
          },
          "metadata": {},
          "execution_count": 46
        }
      ],
      "source": [
        "df.describe()"
      ]
    },
    {
      "cell_type": "code",
      "execution_count": 47,
      "metadata": {
        "id": "YwsZI9u5cpPI"
      },
      "outputs": [],
      "source": [
        "from sklearn.preprocessing import StandardScaler\n",
        "scl_t=StandardScaler() # scaling temp\n",
        "scl_h=StandardScaler() # scaling humidity\n",
        "scl_w=StandardScaler() # scaling windspeed"
      ]
    },
    {
      "cell_type": "code",
      "execution_count": 48,
      "metadata": {
        "id": "Ib22SMMevPFn"
      },
      "outputs": [],
      "source": [
        "df[\"temp\"]=scl_t.fit_transform(df[[\"temp\"]])\n",
        "df[\"humidity\"]=scl_h.fit_transform(df[[\"humidity\"]])\n",
        "df[\"windspeed\"]=scl_w.fit_transform(df[[\"windspeed\"]])"
      ]
    },
    {
      "cell_type": "code",
      "execution_count": 49,
      "metadata": {
        "colab": {
          "base_uri": "https://localhost:8080/",
          "height": 206
        },
        "id": "Owa6RkNKx92N",
        "outputId": "832fb092-51f2-46e1-e7c0-d1a654a8b1f3"
      },
      "outputs": [
        {
          "output_type": "execute_result",
          "data": {
            "text/plain": [
              "           datetime  season holiday                  weather   temp  humidity  \\\n",
              "0   5/10/2012 11:00  Summer       0       Clear + Few clouds  21.32        48   \n",
              "1     6/9/2012 7:00  Summer       0       Clear + Few clouds  23.78        64   \n",
              "2    3/6/2011 20:00  Spring       0   Light Snow, Light Rain  11.48       100   \n",
              "3  10/13/2011 11:00  Winter       0           Mist + Cloudy   25.42        83   \n",
              "4    6/2/2012 12:00  Summer       0       Clear + Few clouds  25.42        43   \n",
              "\n",
              "   windspeed  Total_booking  Book  Hour  Month   Weekday        Date  \n",
              "0    35.0008            256     1    11      5  Thursday  2012-05-10  \n",
              "1     7.0015             87     0     7      6  Saturday  2012-06-09  \n",
              "2    27.9993             11     0    20      3    Sunday  2011-03-06  \n",
              "3     0.0000             84     0    11     10  Thursday  2011-10-13  \n",
              "4    23.9994            668     1    12      6  Saturday  2012-06-02  "
            ],
            "text/html": [
              "\n",
              "  <div id=\"df-b6bcad03-bd77-49de-b972-3cadf69720ba\">\n",
              "    <div class=\"colab-df-container\">\n",
              "      <div>\n",
              "<style scoped>\n",
              "    .dataframe tbody tr th:only-of-type {\n",
              "        vertical-align: middle;\n",
              "    }\n",
              "\n",
              "    .dataframe tbody tr th {\n",
              "        vertical-align: top;\n",
              "    }\n",
              "\n",
              "    .dataframe thead th {\n",
              "        text-align: right;\n",
              "    }\n",
              "</style>\n",
              "<table border=\"1\" class=\"dataframe\">\n",
              "  <thead>\n",
              "    <tr style=\"text-align: right;\">\n",
              "      <th></th>\n",
              "      <th>datetime</th>\n",
              "      <th>season</th>\n",
              "      <th>holiday</th>\n",
              "      <th>weather</th>\n",
              "      <th>temp</th>\n",
              "      <th>humidity</th>\n",
              "      <th>windspeed</th>\n",
              "      <th>Total_booking</th>\n",
              "      <th>Book</th>\n",
              "      <th>Hour</th>\n",
              "      <th>Month</th>\n",
              "      <th>Weekday</th>\n",
              "      <th>Date</th>\n",
              "    </tr>\n",
              "  </thead>\n",
              "  <tbody>\n",
              "    <tr>\n",
              "      <th>0</th>\n",
              "      <td>5/10/2012 11:00</td>\n",
              "      <td>Summer</td>\n",
              "      <td>0</td>\n",
              "      <td>Clear + Few clouds</td>\n",
              "      <td>21.32</td>\n",
              "      <td>48</td>\n",
              "      <td>35.0008</td>\n",
              "      <td>256</td>\n",
              "      <td>1</td>\n",
              "      <td>11</td>\n",
              "      <td>5</td>\n",
              "      <td>Thursday</td>\n",
              "      <td>2012-05-10</td>\n",
              "    </tr>\n",
              "    <tr>\n",
              "      <th>1</th>\n",
              "      <td>6/9/2012 7:00</td>\n",
              "      <td>Summer</td>\n",
              "      <td>0</td>\n",
              "      <td>Clear + Few clouds</td>\n",
              "      <td>23.78</td>\n",
              "      <td>64</td>\n",
              "      <td>7.0015</td>\n",
              "      <td>87</td>\n",
              "      <td>0</td>\n",
              "      <td>7</td>\n",
              "      <td>6</td>\n",
              "      <td>Saturday</td>\n",
              "      <td>2012-06-09</td>\n",
              "    </tr>\n",
              "    <tr>\n",
              "      <th>2</th>\n",
              "      <td>3/6/2011 20:00</td>\n",
              "      <td>Spring</td>\n",
              "      <td>0</td>\n",
              "      <td>Light Snow, Light Rain</td>\n",
              "      <td>11.48</td>\n",
              "      <td>100</td>\n",
              "      <td>27.9993</td>\n",
              "      <td>11</td>\n",
              "      <td>0</td>\n",
              "      <td>20</td>\n",
              "      <td>3</td>\n",
              "      <td>Sunday</td>\n",
              "      <td>2011-03-06</td>\n",
              "    </tr>\n",
              "    <tr>\n",
              "      <th>3</th>\n",
              "      <td>10/13/2011 11:00</td>\n",
              "      <td>Winter</td>\n",
              "      <td>0</td>\n",
              "      <td>Mist + Cloudy</td>\n",
              "      <td>25.42</td>\n",
              "      <td>83</td>\n",
              "      <td>0.0000</td>\n",
              "      <td>84</td>\n",
              "      <td>0</td>\n",
              "      <td>11</td>\n",
              "      <td>10</td>\n",
              "      <td>Thursday</td>\n",
              "      <td>2011-10-13</td>\n",
              "    </tr>\n",
              "    <tr>\n",
              "      <th>4</th>\n",
              "      <td>6/2/2012 12:00</td>\n",
              "      <td>Summer</td>\n",
              "      <td>0</td>\n",
              "      <td>Clear + Few clouds</td>\n",
              "      <td>25.42</td>\n",
              "      <td>43</td>\n",
              "      <td>23.9994</td>\n",
              "      <td>668</td>\n",
              "      <td>1</td>\n",
              "      <td>12</td>\n",
              "      <td>6</td>\n",
              "      <td>Saturday</td>\n",
              "      <td>2012-06-02</td>\n",
              "    </tr>\n",
              "  </tbody>\n",
              "</table>\n",
              "</div>\n",
              "      <button class=\"colab-df-convert\" onclick=\"convertToInteractive('df-b6bcad03-bd77-49de-b972-3cadf69720ba')\"\n",
              "              title=\"Convert this dataframe to an interactive table.\"\n",
              "              style=\"display:none;\">\n",
              "        \n",
              "  <svg xmlns=\"http://www.w3.org/2000/svg\" height=\"24px\"viewBox=\"0 0 24 24\"\n",
              "       width=\"24px\">\n",
              "    <path d=\"M0 0h24v24H0V0z\" fill=\"none\"/>\n",
              "    <path d=\"M18.56 5.44l.94 2.06.94-2.06 2.06-.94-2.06-.94-.94-2.06-.94 2.06-2.06.94zm-11 1L8.5 8.5l.94-2.06 2.06-.94-2.06-.94L8.5 2.5l-.94 2.06-2.06.94zm10 10l.94 2.06.94-2.06 2.06-.94-2.06-.94-.94-2.06-.94 2.06-2.06.94z\"/><path d=\"M17.41 7.96l-1.37-1.37c-.4-.4-.92-.59-1.43-.59-.52 0-1.04.2-1.43.59L10.3 9.45l-7.72 7.72c-.78.78-.78 2.05 0 2.83L4 21.41c.39.39.9.59 1.41.59.51 0 1.02-.2 1.41-.59l7.78-7.78 2.81-2.81c.8-.78.8-2.07 0-2.86zM5.41 20L4 18.59l7.72-7.72 1.47 1.35L5.41 20z\"/>\n",
              "  </svg>\n",
              "      </button>\n",
              "      \n",
              "  <style>\n",
              "    .colab-df-container {\n",
              "      display:flex;\n",
              "      flex-wrap:wrap;\n",
              "      gap: 12px;\n",
              "    }\n",
              "\n",
              "    .colab-df-convert {\n",
              "      background-color: #E8F0FE;\n",
              "      border: none;\n",
              "      border-radius: 50%;\n",
              "      cursor: pointer;\n",
              "      display: none;\n",
              "      fill: #1967D2;\n",
              "      height: 32px;\n",
              "      padding: 0 0 0 0;\n",
              "      width: 32px;\n",
              "    }\n",
              "\n",
              "    .colab-df-convert:hover {\n",
              "      background-color: #E2EBFA;\n",
              "      box-shadow: 0px 1px 2px rgba(60, 64, 67, 0.3), 0px 1px 3px 1px rgba(60, 64, 67, 0.15);\n",
              "      fill: #174EA6;\n",
              "    }\n",
              "\n",
              "    [theme=dark] .colab-df-convert {\n",
              "      background-color: #3B4455;\n",
              "      fill: #D2E3FC;\n",
              "    }\n",
              "\n",
              "    [theme=dark] .colab-df-convert:hover {\n",
              "      background-color: #434B5C;\n",
              "      box-shadow: 0px 1px 3px 1px rgba(0, 0, 0, 0.15);\n",
              "      filter: drop-shadow(0px 1px 2px rgba(0, 0, 0, 0.3));\n",
              "      fill: #FFFFFF;\n",
              "    }\n",
              "  </style>\n",
              "\n",
              "      <script>\n",
              "        const buttonEl =\n",
              "          document.querySelector('#df-b6bcad03-bd77-49de-b972-3cadf69720ba button.colab-df-convert');\n",
              "        buttonEl.style.display =\n",
              "          google.colab.kernel.accessAllowed ? 'block' : 'none';\n",
              "\n",
              "        async function convertToInteractive(key) {\n",
              "          const element = document.querySelector('#df-b6bcad03-bd77-49de-b972-3cadf69720ba');\n",
              "          const dataTable =\n",
              "            await google.colab.kernel.invokeFunction('convertToInteractive',\n",
              "                                                     [key], {});\n",
              "          if (!dataTable) return;\n",
              "\n",
              "          const docLinkHtml = 'Like what you see? Visit the ' +\n",
              "            '<a target=\"_blank\" href=https://colab.research.google.com/notebooks/data_table.ipynb>data table notebook</a>'\n",
              "            + ' to learn more about interactive tables.';\n",
              "          element.innerHTML = '';\n",
              "          dataTable['output_type'] = 'display_data';\n",
              "          await google.colab.output.renderOutput(dataTable, element);\n",
              "          const docLink = document.createElement('div');\n",
              "          docLink.innerHTML = docLinkHtml;\n",
              "          element.appendChild(docLink);\n",
              "        }\n",
              "      </script>\n",
              "    </div>\n",
              "  </div>\n",
              "  "
            ]
          },
          "metadata": {},
          "execution_count": 49
        }
      ],
      "source": [
        "df_test.head()"
      ]
    },
    {
      "cell_type": "code",
      "execution_count": 50,
      "metadata": {
        "id": "fDBBhWa5_ltq"
      },
      "outputs": [],
      "source": [
        "df_test[\"temp\"]=scl_t.transform(df_test[[\"temp\"]])\n",
        "df_test[\"humidity\"]=scl_h.transform(df_test[[\"humidity\"]])\n",
        "df_test[\"windspeed\"]=scl_w.transform(df_test[[\"windspeed\"]])"
      ]
    },
    {
      "cell_type": "markdown",
      "metadata": {
        "id": "esvPS2r93yvV"
      },
      "source": [
        "# One hot Encoder"
      ]
    },
    {
      "cell_type": "code",
      "execution_count": 51,
      "metadata": {
        "id": "mmbEsMPOJ2D3"
      },
      "outputs": [],
      "source": [
        "from sklearn.preprocessing import OneHotEncoder\n",
        "def Encoder(data_f, data_test, feature):\n",
        "  oh=OneHotEncoder()\n",
        "  out=oh.fit_transform(data_f[[feature]]).toarray() #Transforming the required features\n",
        "  df_encoded=pd.DataFrame(out, columns=list(oh.categories_[0]), index=data_f.index)  #Storing it in a new dataFrame;\n",
        "  out=oh.transform(data_test[[feature]]).toarray()  #Converting for Test \n",
        "  df_test_encoded=pd.DataFrame(out, columns=list(oh.categories_[0]), index=data_test.index)\n",
        "  return data_f.join(df_encoded), data_test.join(df_test_encoded)         #Joining New data Frame with the orignal"
      ]
    },
    {
      "cell_type": "markdown",
      "metadata": {
        "id": "q8_7dCeYTLvp"
      },
      "source": [
        "Converting Categorical data to numerical type  to be provided to machine and deep learning algorithms"
      ]
    },
    {
      "cell_type": "code",
      "execution_count": 52,
      "metadata": {
        "colab": {
          "base_uri": "https://localhost:8080/",
          "height": 424
        },
        "id": "vw3XpdbEKz75",
        "outputId": "b64d944b-aadb-49a3-99fe-27582acbc0c9"
      },
      "outputs": [
        {
          "output_type": "execute_result",
          "data": {
            "text/plain": [
              "      season  Summer  Fall  Spring  Winter\n",
              "0     Summer     1.0   0.0     0.0     0.0\n",
              "1       Fall     0.0   1.0     0.0     0.0\n",
              "2     Spring     0.0   0.0     1.0     0.0\n",
              "3     Winter     0.0   0.0     0.0     1.0\n",
              "4       Fall     0.0   1.0     0.0     0.0\n",
              "...      ...     ...   ...     ...     ...\n",
              "8703  Spring     0.0   0.0     1.0     0.0\n",
              "8704  Winter     0.0   0.0     0.0     1.0\n",
              "8705  Summer     1.0   0.0     0.0     0.0\n",
              "8706  Winter     0.0   0.0     0.0     1.0\n",
              "8707  Spring     0.0   0.0     1.0     0.0\n",
              "\n",
              "[8708 rows x 5 columns]"
            ],
            "text/html": [
              "\n",
              "  <div id=\"df-2fcd989c-6f02-4248-9447-46d6a17f6cff\">\n",
              "    <div class=\"colab-df-container\">\n",
              "      <div>\n",
              "<style scoped>\n",
              "    .dataframe tbody tr th:only-of-type {\n",
              "        vertical-align: middle;\n",
              "    }\n",
              "\n",
              "    .dataframe tbody tr th {\n",
              "        vertical-align: top;\n",
              "    }\n",
              "\n",
              "    .dataframe thead th {\n",
              "        text-align: right;\n",
              "    }\n",
              "</style>\n",
              "<table border=\"1\" class=\"dataframe\">\n",
              "  <thead>\n",
              "    <tr style=\"text-align: right;\">\n",
              "      <th></th>\n",
              "      <th>season</th>\n",
              "      <th>Summer</th>\n",
              "      <th>Fall</th>\n",
              "      <th>Spring</th>\n",
              "      <th>Winter</th>\n",
              "    </tr>\n",
              "  </thead>\n",
              "  <tbody>\n",
              "    <tr>\n",
              "      <th>0</th>\n",
              "      <td>Summer</td>\n",
              "      <td>1.0</td>\n",
              "      <td>0.0</td>\n",
              "      <td>0.0</td>\n",
              "      <td>0.0</td>\n",
              "    </tr>\n",
              "    <tr>\n",
              "      <th>1</th>\n",
              "      <td>Fall</td>\n",
              "      <td>0.0</td>\n",
              "      <td>1.0</td>\n",
              "      <td>0.0</td>\n",
              "      <td>0.0</td>\n",
              "    </tr>\n",
              "    <tr>\n",
              "      <th>2</th>\n",
              "      <td>Spring</td>\n",
              "      <td>0.0</td>\n",
              "      <td>0.0</td>\n",
              "      <td>1.0</td>\n",
              "      <td>0.0</td>\n",
              "    </tr>\n",
              "    <tr>\n",
              "      <th>3</th>\n",
              "      <td>Winter</td>\n",
              "      <td>0.0</td>\n",
              "      <td>0.0</td>\n",
              "      <td>0.0</td>\n",
              "      <td>1.0</td>\n",
              "    </tr>\n",
              "    <tr>\n",
              "      <th>4</th>\n",
              "      <td>Fall</td>\n",
              "      <td>0.0</td>\n",
              "      <td>1.0</td>\n",
              "      <td>0.0</td>\n",
              "      <td>0.0</td>\n",
              "    </tr>\n",
              "    <tr>\n",
              "      <th>...</th>\n",
              "      <td>...</td>\n",
              "      <td>...</td>\n",
              "      <td>...</td>\n",
              "      <td>...</td>\n",
              "      <td>...</td>\n",
              "    </tr>\n",
              "    <tr>\n",
              "      <th>8703</th>\n",
              "      <td>Spring</td>\n",
              "      <td>0.0</td>\n",
              "      <td>0.0</td>\n",
              "      <td>1.0</td>\n",
              "      <td>0.0</td>\n",
              "    </tr>\n",
              "    <tr>\n",
              "      <th>8704</th>\n",
              "      <td>Winter</td>\n",
              "      <td>0.0</td>\n",
              "      <td>0.0</td>\n",
              "      <td>0.0</td>\n",
              "      <td>1.0</td>\n",
              "    </tr>\n",
              "    <tr>\n",
              "      <th>8705</th>\n",
              "      <td>Summer</td>\n",
              "      <td>1.0</td>\n",
              "      <td>0.0</td>\n",
              "      <td>0.0</td>\n",
              "      <td>0.0</td>\n",
              "    </tr>\n",
              "    <tr>\n",
              "      <th>8706</th>\n",
              "      <td>Winter</td>\n",
              "      <td>0.0</td>\n",
              "      <td>0.0</td>\n",
              "      <td>0.0</td>\n",
              "      <td>1.0</td>\n",
              "    </tr>\n",
              "    <tr>\n",
              "      <th>8707</th>\n",
              "      <td>Spring</td>\n",
              "      <td>0.0</td>\n",
              "      <td>0.0</td>\n",
              "      <td>1.0</td>\n",
              "      <td>0.0</td>\n",
              "    </tr>\n",
              "  </tbody>\n",
              "</table>\n",
              "<p>8708 rows × 5 columns</p>\n",
              "</div>\n",
              "      <button class=\"colab-df-convert\" onclick=\"convertToInteractive('df-2fcd989c-6f02-4248-9447-46d6a17f6cff')\"\n",
              "              title=\"Convert this dataframe to an interactive table.\"\n",
              "              style=\"display:none;\">\n",
              "        \n",
              "  <svg xmlns=\"http://www.w3.org/2000/svg\" height=\"24px\"viewBox=\"0 0 24 24\"\n",
              "       width=\"24px\">\n",
              "    <path d=\"M0 0h24v24H0V0z\" fill=\"none\"/>\n",
              "    <path d=\"M18.56 5.44l.94 2.06.94-2.06 2.06-.94-2.06-.94-.94-2.06-.94 2.06-2.06.94zm-11 1L8.5 8.5l.94-2.06 2.06-.94-2.06-.94L8.5 2.5l-.94 2.06-2.06.94zm10 10l.94 2.06.94-2.06 2.06-.94-2.06-.94-.94-2.06-.94 2.06-2.06.94z\"/><path d=\"M17.41 7.96l-1.37-1.37c-.4-.4-.92-.59-1.43-.59-.52 0-1.04.2-1.43.59L10.3 9.45l-7.72 7.72c-.78.78-.78 2.05 0 2.83L4 21.41c.39.39.9.59 1.41.59.51 0 1.02-.2 1.41-.59l7.78-7.78 2.81-2.81c.8-.78.8-2.07 0-2.86zM5.41 20L4 18.59l7.72-7.72 1.47 1.35L5.41 20z\"/>\n",
              "  </svg>\n",
              "      </button>\n",
              "      \n",
              "  <style>\n",
              "    .colab-df-container {\n",
              "      display:flex;\n",
              "      flex-wrap:wrap;\n",
              "      gap: 12px;\n",
              "    }\n",
              "\n",
              "    .colab-df-convert {\n",
              "      background-color: #E8F0FE;\n",
              "      border: none;\n",
              "      border-radius: 50%;\n",
              "      cursor: pointer;\n",
              "      display: none;\n",
              "      fill: #1967D2;\n",
              "      height: 32px;\n",
              "      padding: 0 0 0 0;\n",
              "      width: 32px;\n",
              "    }\n",
              "\n",
              "    .colab-df-convert:hover {\n",
              "      background-color: #E2EBFA;\n",
              "      box-shadow: 0px 1px 2px rgba(60, 64, 67, 0.3), 0px 1px 3px 1px rgba(60, 64, 67, 0.15);\n",
              "      fill: #174EA6;\n",
              "    }\n",
              "\n",
              "    [theme=dark] .colab-df-convert {\n",
              "      background-color: #3B4455;\n",
              "      fill: #D2E3FC;\n",
              "    }\n",
              "\n",
              "    [theme=dark] .colab-df-convert:hover {\n",
              "      background-color: #434B5C;\n",
              "      box-shadow: 0px 1px 3px 1px rgba(0, 0, 0, 0.15);\n",
              "      filter: drop-shadow(0px 1px 2px rgba(0, 0, 0, 0.3));\n",
              "      fill: #FFFFFF;\n",
              "    }\n",
              "  </style>\n",
              "\n",
              "      <script>\n",
              "        const buttonEl =\n",
              "          document.querySelector('#df-2fcd989c-6f02-4248-9447-46d6a17f6cff button.colab-df-convert');\n",
              "        buttonEl.style.display =\n",
              "          google.colab.kernel.accessAllowed ? 'block' : 'none';\n",
              "\n",
              "        async function convertToInteractive(key) {\n",
              "          const element = document.querySelector('#df-2fcd989c-6f02-4248-9447-46d6a17f6cff');\n",
              "          const dataTable =\n",
              "            await google.colab.kernel.invokeFunction('convertToInteractive',\n",
              "                                                     [key], {});\n",
              "          if (!dataTable) return;\n",
              "\n",
              "          const docLinkHtml = 'Like what you see? Visit the ' +\n",
              "            '<a target=\"_blank\" href=https://colab.research.google.com/notebooks/data_table.ipynb>data table notebook</a>'\n",
              "            + ' to learn more about interactive tables.';\n",
              "          element.innerHTML = '';\n",
              "          dataTable['output_type'] = 'display_data';\n",
              "          await google.colab.output.renderOutput(dataTable, element);\n",
              "          const docLink = document.createElement('div');\n",
              "          docLink.innerHTML = docLinkHtml;\n",
              "          element.appendChild(docLink);\n",
              "        }\n",
              "      </script>\n",
              "    </div>\n",
              "  </div>\n",
              "  "
            ]
          },
          "metadata": {},
          "execution_count": 52
        }
      ],
      "source": [
        "df, df_test=Encoder(df, df_test, \"weather\")\n",
        "df, df_test=Encoder(df, df_test, \"season\")\n",
        "df, df_test=Encoder(df, df_test, \"Weekday\")\n",
        "df[[\"season\", \"Summer\", \"Fall\", \"Spring\", \"Winter\"]]"
      ]
    },
    {
      "cell_type": "code",
      "execution_count": 53,
      "metadata": {
        "colab": {
          "base_uri": "https://localhost:8080/",
          "height": 421
        },
        "id": "PjwzwwWGI6gZ",
        "outputId": "fdd42019-78d2-4475-9bfc-06cf2cf35627"
      },
      "outputs": [
        {
          "output_type": "execute_result",
          "data": {
            "text/plain": [
              "  holiday      temp  humidity  windspeed  Total_booking  Book  Hour  Month  \\\n",
              "0       0  0.242796  0.799459   0.507215            504     1    19      5   \n",
              "1       0  1.082418  0.903649   0.751823              5     0     4      9   \n",
              "2       0 -1.856257 -0.607110   1.118325            139     0     9      1   \n",
              "3       0 -0.806730 -1.701108  -0.469580            209     1    16     11   \n",
              "4       0  1.292323 -0.555015   0.751823            184     1    13      9   \n",
              "\n",
              "         Date   Clear + Few clouds  ...  Spring  Summer  Winter  Friday  \\\n",
              "0  2012-05-02                  1.0  ...     0.0     1.0     0.0     0.0   \n",
              "1  2012-09-05                  1.0  ...     0.0     0.0     0.0     0.0   \n",
              "2  2011-01-13                  1.0  ...     1.0     0.0     0.0     0.0   \n",
              "3  2011-11-18                  1.0  ...     0.0     0.0     1.0     1.0   \n",
              "4  2011-09-13                  1.0  ...     0.0     0.0     0.0     0.0   \n",
              "\n",
              "   Monday  Saturday  Sunday  Thursday  Tuesday  Wednesday  \n",
              "0     0.0       0.0     0.0       0.0      0.0        1.0  \n",
              "1     0.0       0.0     0.0       0.0      0.0        1.0  \n",
              "2     0.0       0.0     0.0       1.0      0.0        0.0  \n",
              "3     0.0       0.0     0.0       0.0      0.0        0.0  \n",
              "4     0.0       0.0     0.0       0.0      1.0        0.0  \n",
              "\n",
              "[5 rows x 24 columns]"
            ],
            "text/html": [
              "\n",
              "  <div id=\"df-818e0b89-9452-497b-8e89-5907ba30e660\">\n",
              "    <div class=\"colab-df-container\">\n",
              "      <div>\n",
              "<style scoped>\n",
              "    .dataframe tbody tr th:only-of-type {\n",
              "        vertical-align: middle;\n",
              "    }\n",
              "\n",
              "    .dataframe tbody tr th {\n",
              "        vertical-align: top;\n",
              "    }\n",
              "\n",
              "    .dataframe thead th {\n",
              "        text-align: right;\n",
              "    }\n",
              "</style>\n",
              "<table border=\"1\" class=\"dataframe\">\n",
              "  <thead>\n",
              "    <tr style=\"text-align: right;\">\n",
              "      <th></th>\n",
              "      <th>holiday</th>\n",
              "      <th>temp</th>\n",
              "      <th>humidity</th>\n",
              "      <th>windspeed</th>\n",
              "      <th>Total_booking</th>\n",
              "      <th>Book</th>\n",
              "      <th>Hour</th>\n",
              "      <th>Month</th>\n",
              "      <th>Date</th>\n",
              "      <th>Clear + Few clouds</th>\n",
              "      <th>...</th>\n",
              "      <th>Spring</th>\n",
              "      <th>Summer</th>\n",
              "      <th>Winter</th>\n",
              "      <th>Friday</th>\n",
              "      <th>Monday</th>\n",
              "      <th>Saturday</th>\n",
              "      <th>Sunday</th>\n",
              "      <th>Thursday</th>\n",
              "      <th>Tuesday</th>\n",
              "      <th>Wednesday</th>\n",
              "    </tr>\n",
              "  </thead>\n",
              "  <tbody>\n",
              "    <tr>\n",
              "      <th>0</th>\n",
              "      <td>0</td>\n",
              "      <td>0.242796</td>\n",
              "      <td>0.799459</td>\n",
              "      <td>0.507215</td>\n",
              "      <td>504</td>\n",
              "      <td>1</td>\n",
              "      <td>19</td>\n",
              "      <td>5</td>\n",
              "      <td>2012-05-02</td>\n",
              "      <td>1.0</td>\n",
              "      <td>...</td>\n",
              "      <td>0.0</td>\n",
              "      <td>1.0</td>\n",
              "      <td>0.0</td>\n",
              "      <td>0.0</td>\n",
              "      <td>0.0</td>\n",
              "      <td>0.0</td>\n",
              "      <td>0.0</td>\n",
              "      <td>0.0</td>\n",
              "      <td>0.0</td>\n",
              "      <td>1.0</td>\n",
              "    </tr>\n",
              "    <tr>\n",
              "      <th>1</th>\n",
              "      <td>0</td>\n",
              "      <td>1.082418</td>\n",
              "      <td>0.903649</td>\n",
              "      <td>0.751823</td>\n",
              "      <td>5</td>\n",
              "      <td>0</td>\n",
              "      <td>4</td>\n",
              "      <td>9</td>\n",
              "      <td>2012-09-05</td>\n",
              "      <td>1.0</td>\n",
              "      <td>...</td>\n",
              "      <td>0.0</td>\n",
              "      <td>0.0</td>\n",
              "      <td>0.0</td>\n",
              "      <td>0.0</td>\n",
              "      <td>0.0</td>\n",
              "      <td>0.0</td>\n",
              "      <td>0.0</td>\n",
              "      <td>0.0</td>\n",
              "      <td>0.0</td>\n",
              "      <td>1.0</td>\n",
              "    </tr>\n",
              "    <tr>\n",
              "      <th>2</th>\n",
              "      <td>0</td>\n",
              "      <td>-1.856257</td>\n",
              "      <td>-0.607110</td>\n",
              "      <td>1.118325</td>\n",
              "      <td>139</td>\n",
              "      <td>0</td>\n",
              "      <td>9</td>\n",
              "      <td>1</td>\n",
              "      <td>2011-01-13</td>\n",
              "      <td>1.0</td>\n",
              "      <td>...</td>\n",
              "      <td>1.0</td>\n",
              "      <td>0.0</td>\n",
              "      <td>0.0</td>\n",
              "      <td>0.0</td>\n",
              "      <td>0.0</td>\n",
              "      <td>0.0</td>\n",
              "      <td>0.0</td>\n",
              "      <td>1.0</td>\n",
              "      <td>0.0</td>\n",
              "      <td>0.0</td>\n",
              "    </tr>\n",
              "    <tr>\n",
              "      <th>3</th>\n",
              "      <td>0</td>\n",
              "      <td>-0.806730</td>\n",
              "      <td>-1.701108</td>\n",
              "      <td>-0.469580</td>\n",
              "      <td>209</td>\n",
              "      <td>1</td>\n",
              "      <td>16</td>\n",
              "      <td>11</td>\n",
              "      <td>2011-11-18</td>\n",
              "      <td>1.0</td>\n",
              "      <td>...</td>\n",
              "      <td>0.0</td>\n",
              "      <td>0.0</td>\n",
              "      <td>1.0</td>\n",
              "      <td>1.0</td>\n",
              "      <td>0.0</td>\n",
              "      <td>0.0</td>\n",
              "      <td>0.0</td>\n",
              "      <td>0.0</td>\n",
              "      <td>0.0</td>\n",
              "      <td>0.0</td>\n",
              "    </tr>\n",
              "    <tr>\n",
              "      <th>4</th>\n",
              "      <td>0</td>\n",
              "      <td>1.292323</td>\n",
              "      <td>-0.555015</td>\n",
              "      <td>0.751823</td>\n",
              "      <td>184</td>\n",
              "      <td>1</td>\n",
              "      <td>13</td>\n",
              "      <td>9</td>\n",
              "      <td>2011-09-13</td>\n",
              "      <td>1.0</td>\n",
              "      <td>...</td>\n",
              "      <td>0.0</td>\n",
              "      <td>0.0</td>\n",
              "      <td>0.0</td>\n",
              "      <td>0.0</td>\n",
              "      <td>0.0</td>\n",
              "      <td>0.0</td>\n",
              "      <td>0.0</td>\n",
              "      <td>0.0</td>\n",
              "      <td>1.0</td>\n",
              "      <td>0.0</td>\n",
              "    </tr>\n",
              "  </tbody>\n",
              "</table>\n",
              "<p>5 rows × 24 columns</p>\n",
              "</div>\n",
              "      <button class=\"colab-df-convert\" onclick=\"convertToInteractive('df-818e0b89-9452-497b-8e89-5907ba30e660')\"\n",
              "              title=\"Convert this dataframe to an interactive table.\"\n",
              "              style=\"display:none;\">\n",
              "        \n",
              "  <svg xmlns=\"http://www.w3.org/2000/svg\" height=\"24px\"viewBox=\"0 0 24 24\"\n",
              "       width=\"24px\">\n",
              "    <path d=\"M0 0h24v24H0V0z\" fill=\"none\"/>\n",
              "    <path d=\"M18.56 5.44l.94 2.06.94-2.06 2.06-.94-2.06-.94-.94-2.06-.94 2.06-2.06.94zm-11 1L8.5 8.5l.94-2.06 2.06-.94-2.06-.94L8.5 2.5l-.94 2.06-2.06.94zm10 10l.94 2.06.94-2.06 2.06-.94-2.06-.94-.94-2.06-.94 2.06-2.06.94z\"/><path d=\"M17.41 7.96l-1.37-1.37c-.4-.4-.92-.59-1.43-.59-.52 0-1.04.2-1.43.59L10.3 9.45l-7.72 7.72c-.78.78-.78 2.05 0 2.83L4 21.41c.39.39.9.59 1.41.59.51 0 1.02-.2 1.41-.59l7.78-7.78 2.81-2.81c.8-.78.8-2.07 0-2.86zM5.41 20L4 18.59l7.72-7.72 1.47 1.35L5.41 20z\"/>\n",
              "  </svg>\n",
              "      </button>\n",
              "      \n",
              "  <style>\n",
              "    .colab-df-container {\n",
              "      display:flex;\n",
              "      flex-wrap:wrap;\n",
              "      gap: 12px;\n",
              "    }\n",
              "\n",
              "    .colab-df-convert {\n",
              "      background-color: #E8F0FE;\n",
              "      border: none;\n",
              "      border-radius: 50%;\n",
              "      cursor: pointer;\n",
              "      display: none;\n",
              "      fill: #1967D2;\n",
              "      height: 32px;\n",
              "      padding: 0 0 0 0;\n",
              "      width: 32px;\n",
              "    }\n",
              "\n",
              "    .colab-df-convert:hover {\n",
              "      background-color: #E2EBFA;\n",
              "      box-shadow: 0px 1px 2px rgba(60, 64, 67, 0.3), 0px 1px 3px 1px rgba(60, 64, 67, 0.15);\n",
              "      fill: #174EA6;\n",
              "    }\n",
              "\n",
              "    [theme=dark] .colab-df-convert {\n",
              "      background-color: #3B4455;\n",
              "      fill: #D2E3FC;\n",
              "    }\n",
              "\n",
              "    [theme=dark] .colab-df-convert:hover {\n",
              "      background-color: #434B5C;\n",
              "      box-shadow: 0px 1px 3px 1px rgba(0, 0, 0, 0.15);\n",
              "      filter: drop-shadow(0px 1px 2px rgba(0, 0, 0, 0.3));\n",
              "      fill: #FFFFFF;\n",
              "    }\n",
              "  </style>\n",
              "\n",
              "      <script>\n",
              "        const buttonEl =\n",
              "          document.querySelector('#df-818e0b89-9452-497b-8e89-5907ba30e660 button.colab-df-convert');\n",
              "        buttonEl.style.display =\n",
              "          google.colab.kernel.accessAllowed ? 'block' : 'none';\n",
              "\n",
              "        async function convertToInteractive(key) {\n",
              "          const element = document.querySelector('#df-818e0b89-9452-497b-8e89-5907ba30e660');\n",
              "          const dataTable =\n",
              "            await google.colab.kernel.invokeFunction('convertToInteractive',\n",
              "                                                     [key], {});\n",
              "          if (!dataTable) return;\n",
              "\n",
              "          const docLinkHtml = 'Like what you see? Visit the ' +\n",
              "            '<a target=\"_blank\" href=https://colab.research.google.com/notebooks/data_table.ipynb>data table notebook</a>'\n",
              "            + ' to learn more about interactive tables.';\n",
              "          element.innerHTML = '';\n",
              "          dataTable['output_type'] = 'display_data';\n",
              "          await google.colab.output.renderOutput(dataTable, element);\n",
              "          const docLink = document.createElement('div');\n",
              "          docLink.innerHTML = docLinkHtml;\n",
              "          element.appendChild(docLink);\n",
              "        }\n",
              "      </script>\n",
              "    </div>\n",
              "  </div>\n",
              "  "
            ]
          },
          "metadata": {},
          "execution_count": 53
        }
      ],
      "source": [
        "df=df.drop([\"Weekday\", \"season\", \"weather\"], axis=1)    #Removing previous features and retaing New information\n",
        "df.head()"
      ]
    },
    {
      "cell_type": "markdown",
      "metadata": {
        "id": "7ggfXkj55403"
      },
      "source": [
        "# Split"
      ]
    },
    {
      "cell_type": "markdown",
      "metadata": {
        "id": "8ZTk2GOgXOSb"
      },
      "source": [
        "Using only 4000 training features."
      ]
    },
    {
      "cell_type": "code",
      "execution_count": 54,
      "metadata": {
        "id": "Jf0oE81BXOhY"
      },
      "outputs": [],
      "source": [
        "#df=df[:4000]"
      ]
    },
    {
      "cell_type": "code",
      "execution_count": 55,
      "metadata": {
        "id": "OwfsaEtP4HkS"
      },
      "outputs": [],
      "source": [
        "from sklearn.model_selection import train_test_split\n",
        "X=df.drop([\"Total_booking\", \"Date\", \"Book\"], axis=1)\n",
        "y=df[\"Book\"]\n",
        "X_train, X_valid, y_train, y_valid= train_test_split(X, y, test_size=.3, shuffle=True)"
      ]
    },
    {
      "cell_type": "code",
      "execution_count": 56,
      "metadata": {
        "colab": {
          "base_uri": "https://localhost:8080/",
          "height": 322
        },
        "id": "hDByz1_H7Lva",
        "outputId": "f2a01273-c756-4fe0-bdd1-a67994ae6691"
      },
      "outputs": [
        {
          "output_type": "execute_result",
          "data": {
            "text/plain": [
              "     holiday      temp  humidity  windspeed  Hour  Month   Clear + Few clouds  \\\n",
              "3938       0  1.712134 -1.232251   0.507215    18      8                  0.0   \n",
              "1549       0  0.662607  0.851554  -0.469580    21      5                  1.0   \n",
              "3327       0  1.607181 -1.336442  -0.835265    16      8                  1.0   \n",
              "6714       0 -1.646352 -0.763395   0.507215    22      1                  1.0   \n",
              "1774       0  1.712134 -1.075966   1.118325    14      7                  1.0   \n",
              "\n",
              "       Heavy Rain + Thunderstorm    Light Snow, Light Rain   Mist + Cloudy   \\\n",
              "3938                          0.0                      0.0              1.0   \n",
              "1549                          0.0                      0.0              0.0   \n",
              "3327                          0.0                      0.0              0.0   \n",
              "6714                          0.0                      0.0              0.0   \n",
              "1774                          0.0                      0.0              0.0   \n",
              "\n",
              "      Fall  Spring  Summer  Winter  Friday  Monday  Saturday  Sunday  \\\n",
              "3938   1.0     0.0     0.0     0.0     1.0     0.0       0.0     0.0   \n",
              "1549   0.0     0.0     1.0     0.0     0.0     0.0       0.0     0.0   \n",
              "3327   1.0     0.0     0.0     0.0     0.0     1.0       0.0     0.0   \n",
              "6714   0.0     1.0     0.0     0.0     0.0     0.0       0.0     0.0   \n",
              "1774   1.0     0.0     0.0     0.0     0.0     0.0       0.0     1.0   \n",
              "\n",
              "      Thursday  Tuesday  Wednesday  \n",
              "3938       0.0      0.0        0.0  \n",
              "1549       1.0      0.0        0.0  \n",
              "3327       0.0      0.0        0.0  \n",
              "6714       0.0      0.0        1.0  \n",
              "1774       0.0      0.0        0.0  "
            ],
            "text/html": [
              "\n",
              "  <div id=\"df-42704724-f55b-4130-b3d1-1e8a2904a7ac\">\n",
              "    <div class=\"colab-df-container\">\n",
              "      <div>\n",
              "<style scoped>\n",
              "    .dataframe tbody tr th:only-of-type {\n",
              "        vertical-align: middle;\n",
              "    }\n",
              "\n",
              "    .dataframe tbody tr th {\n",
              "        vertical-align: top;\n",
              "    }\n",
              "\n",
              "    .dataframe thead th {\n",
              "        text-align: right;\n",
              "    }\n",
              "</style>\n",
              "<table border=\"1\" class=\"dataframe\">\n",
              "  <thead>\n",
              "    <tr style=\"text-align: right;\">\n",
              "      <th></th>\n",
              "      <th>holiday</th>\n",
              "      <th>temp</th>\n",
              "      <th>humidity</th>\n",
              "      <th>windspeed</th>\n",
              "      <th>Hour</th>\n",
              "      <th>Month</th>\n",
              "      <th>Clear + Few clouds</th>\n",
              "      <th>Heavy Rain + Thunderstorm</th>\n",
              "      <th>Light Snow, Light Rain</th>\n",
              "      <th>Mist + Cloudy</th>\n",
              "      <th>Fall</th>\n",
              "      <th>Spring</th>\n",
              "      <th>Summer</th>\n",
              "      <th>Winter</th>\n",
              "      <th>Friday</th>\n",
              "      <th>Monday</th>\n",
              "      <th>Saturday</th>\n",
              "      <th>Sunday</th>\n",
              "      <th>Thursday</th>\n",
              "      <th>Tuesday</th>\n",
              "      <th>Wednesday</th>\n",
              "    </tr>\n",
              "  </thead>\n",
              "  <tbody>\n",
              "    <tr>\n",
              "      <th>3938</th>\n",
              "      <td>0</td>\n",
              "      <td>1.712134</td>\n",
              "      <td>-1.232251</td>\n",
              "      <td>0.507215</td>\n",
              "      <td>18</td>\n",
              "      <td>8</td>\n",
              "      <td>0.0</td>\n",
              "      <td>0.0</td>\n",
              "      <td>0.0</td>\n",
              "      <td>1.0</td>\n",
              "      <td>1.0</td>\n",
              "      <td>0.0</td>\n",
              "      <td>0.0</td>\n",
              "      <td>0.0</td>\n",
              "      <td>1.0</td>\n",
              "      <td>0.0</td>\n",
              "      <td>0.0</td>\n",
              "      <td>0.0</td>\n",
              "      <td>0.0</td>\n",
              "      <td>0.0</td>\n",
              "      <td>0.0</td>\n",
              "    </tr>\n",
              "    <tr>\n",
              "      <th>1549</th>\n",
              "      <td>0</td>\n",
              "      <td>0.662607</td>\n",
              "      <td>0.851554</td>\n",
              "      <td>-0.469580</td>\n",
              "      <td>21</td>\n",
              "      <td>5</td>\n",
              "      <td>1.0</td>\n",
              "      <td>0.0</td>\n",
              "      <td>0.0</td>\n",
              "      <td>0.0</td>\n",
              "      <td>0.0</td>\n",
              "      <td>0.0</td>\n",
              "      <td>1.0</td>\n",
              "      <td>0.0</td>\n",
              "      <td>0.0</td>\n",
              "      <td>0.0</td>\n",
              "      <td>0.0</td>\n",
              "      <td>0.0</td>\n",
              "      <td>1.0</td>\n",
              "      <td>0.0</td>\n",
              "      <td>0.0</td>\n",
              "    </tr>\n",
              "    <tr>\n",
              "      <th>3327</th>\n",
              "      <td>0</td>\n",
              "      <td>1.607181</td>\n",
              "      <td>-1.336442</td>\n",
              "      <td>-0.835265</td>\n",
              "      <td>16</td>\n",
              "      <td>8</td>\n",
              "      <td>1.0</td>\n",
              "      <td>0.0</td>\n",
              "      <td>0.0</td>\n",
              "      <td>0.0</td>\n",
              "      <td>1.0</td>\n",
              "      <td>0.0</td>\n",
              "      <td>0.0</td>\n",
              "      <td>0.0</td>\n",
              "      <td>0.0</td>\n",
              "      <td>1.0</td>\n",
              "      <td>0.0</td>\n",
              "      <td>0.0</td>\n",
              "      <td>0.0</td>\n",
              "      <td>0.0</td>\n",
              "      <td>0.0</td>\n",
              "    </tr>\n",
              "    <tr>\n",
              "      <th>6714</th>\n",
              "      <td>0</td>\n",
              "      <td>-1.646352</td>\n",
              "      <td>-0.763395</td>\n",
              "      <td>0.507215</td>\n",
              "      <td>22</td>\n",
              "      <td>1</td>\n",
              "      <td>1.0</td>\n",
              "      <td>0.0</td>\n",
              "      <td>0.0</td>\n",
              "      <td>0.0</td>\n",
              "      <td>0.0</td>\n",
              "      <td>1.0</td>\n",
              "      <td>0.0</td>\n",
              "      <td>0.0</td>\n",
              "      <td>0.0</td>\n",
              "      <td>0.0</td>\n",
              "      <td>0.0</td>\n",
              "      <td>0.0</td>\n",
              "      <td>0.0</td>\n",
              "      <td>0.0</td>\n",
              "      <td>1.0</td>\n",
              "    </tr>\n",
              "    <tr>\n",
              "      <th>1774</th>\n",
              "      <td>0</td>\n",
              "      <td>1.712134</td>\n",
              "      <td>-1.075966</td>\n",
              "      <td>1.118325</td>\n",
              "      <td>14</td>\n",
              "      <td>7</td>\n",
              "      <td>1.0</td>\n",
              "      <td>0.0</td>\n",
              "      <td>0.0</td>\n",
              "      <td>0.0</td>\n",
              "      <td>1.0</td>\n",
              "      <td>0.0</td>\n",
              "      <td>0.0</td>\n",
              "      <td>0.0</td>\n",
              "      <td>0.0</td>\n",
              "      <td>0.0</td>\n",
              "      <td>0.0</td>\n",
              "      <td>1.0</td>\n",
              "      <td>0.0</td>\n",
              "      <td>0.0</td>\n",
              "      <td>0.0</td>\n",
              "    </tr>\n",
              "  </tbody>\n",
              "</table>\n",
              "</div>\n",
              "      <button class=\"colab-df-convert\" onclick=\"convertToInteractive('df-42704724-f55b-4130-b3d1-1e8a2904a7ac')\"\n",
              "              title=\"Convert this dataframe to an interactive table.\"\n",
              "              style=\"display:none;\">\n",
              "        \n",
              "  <svg xmlns=\"http://www.w3.org/2000/svg\" height=\"24px\"viewBox=\"0 0 24 24\"\n",
              "       width=\"24px\">\n",
              "    <path d=\"M0 0h24v24H0V0z\" fill=\"none\"/>\n",
              "    <path d=\"M18.56 5.44l.94 2.06.94-2.06 2.06-.94-2.06-.94-.94-2.06-.94 2.06-2.06.94zm-11 1L8.5 8.5l.94-2.06 2.06-.94-2.06-.94L8.5 2.5l-.94 2.06-2.06.94zm10 10l.94 2.06.94-2.06 2.06-.94-2.06-.94-.94-2.06-.94 2.06-2.06.94z\"/><path d=\"M17.41 7.96l-1.37-1.37c-.4-.4-.92-.59-1.43-.59-.52 0-1.04.2-1.43.59L10.3 9.45l-7.72 7.72c-.78.78-.78 2.05 0 2.83L4 21.41c.39.39.9.59 1.41.59.51 0 1.02-.2 1.41-.59l7.78-7.78 2.81-2.81c.8-.78.8-2.07 0-2.86zM5.41 20L4 18.59l7.72-7.72 1.47 1.35L5.41 20z\"/>\n",
              "  </svg>\n",
              "      </button>\n",
              "      \n",
              "  <style>\n",
              "    .colab-df-container {\n",
              "      display:flex;\n",
              "      flex-wrap:wrap;\n",
              "      gap: 12px;\n",
              "    }\n",
              "\n",
              "    .colab-df-convert {\n",
              "      background-color: #E8F0FE;\n",
              "      border: none;\n",
              "      border-radius: 50%;\n",
              "      cursor: pointer;\n",
              "      display: none;\n",
              "      fill: #1967D2;\n",
              "      height: 32px;\n",
              "      padding: 0 0 0 0;\n",
              "      width: 32px;\n",
              "    }\n",
              "\n",
              "    .colab-df-convert:hover {\n",
              "      background-color: #E2EBFA;\n",
              "      box-shadow: 0px 1px 2px rgba(60, 64, 67, 0.3), 0px 1px 3px 1px rgba(60, 64, 67, 0.15);\n",
              "      fill: #174EA6;\n",
              "    }\n",
              "\n",
              "    [theme=dark] .colab-df-convert {\n",
              "      background-color: #3B4455;\n",
              "      fill: #D2E3FC;\n",
              "    }\n",
              "\n",
              "    [theme=dark] .colab-df-convert:hover {\n",
              "      background-color: #434B5C;\n",
              "      box-shadow: 0px 1px 3px 1px rgba(0, 0, 0, 0.15);\n",
              "      filter: drop-shadow(0px 1px 2px rgba(0, 0, 0, 0.3));\n",
              "      fill: #FFFFFF;\n",
              "    }\n",
              "  </style>\n",
              "\n",
              "      <script>\n",
              "        const buttonEl =\n",
              "          document.querySelector('#df-42704724-f55b-4130-b3d1-1e8a2904a7ac button.colab-df-convert');\n",
              "        buttonEl.style.display =\n",
              "          google.colab.kernel.accessAllowed ? 'block' : 'none';\n",
              "\n",
              "        async function convertToInteractive(key) {\n",
              "          const element = document.querySelector('#df-42704724-f55b-4130-b3d1-1e8a2904a7ac');\n",
              "          const dataTable =\n",
              "            await google.colab.kernel.invokeFunction('convertToInteractive',\n",
              "                                                     [key], {});\n",
              "          if (!dataTable) return;\n",
              "\n",
              "          const docLinkHtml = 'Like what you see? Visit the ' +\n",
              "            '<a target=\"_blank\" href=https://colab.research.google.com/notebooks/data_table.ipynb>data table notebook</a>'\n",
              "            + ' to learn more about interactive tables.';\n",
              "          element.innerHTML = '';\n",
              "          dataTable['output_type'] = 'display_data';\n",
              "          await google.colab.output.renderOutput(dataTable, element);\n",
              "          const docLink = document.createElement('div');\n",
              "          docLink.innerHTML = docLinkHtml;\n",
              "          element.appendChild(docLink);\n",
              "        }\n",
              "      </script>\n",
              "    </div>\n",
              "  </div>\n",
              "  "
            ]
          },
          "metadata": {},
          "execution_count": 56
        }
      ],
      "source": [
        "pd.set_option('display.max_columns', None)\n",
        "X_train.head()"
      ]
    },
    {
      "cell_type": "code",
      "execution_count": 57,
      "metadata": {
        "id": "vZm_qyGn7lvI"
      },
      "outputs": [],
      "source": [
        "from sklearn.ensemble import RandomForestRegressor, RandomForestClassifier\n",
        "from sklearn.linear_model import LogisticRegression\n",
        "from sklearn.neighbors import KNeighborsRegressor, KNeighborsClassifier\n",
        "from sklearn.svm import SVR, SVC\n",
        "from sklearn.metrics import mean_squared_error, accuracy_score"
      ]
    },
    {
      "cell_type": "markdown",
      "source": [
        "###With outlier"
      ],
      "metadata": {
        "id": "Jri_yp4bF5_1"
      }
    },
    {
      "cell_type": "code",
      "source": [
        "m=LogisticRegression(max_iter=1000, penalty=\"l2\", solver=\"saga\");\n",
        "m.fit(X_train, y_train)\n",
        "y_pred=m.predict(X_valid)\n",
        "accuracy_score(y_valid, y_pred)"
      ],
      "metadata": {
        "colab": {
          "base_uri": "https://localhost:8080/"
        },
        "id": "Hf2XxZwhooz2",
        "outputId": "db55b74d-cb2a-4901-b0d5-813efd7d4a76"
      },
      "execution_count": 58,
      "outputs": [
        {
          "output_type": "execute_result",
          "data": {
            "text/plain": [
              "0.8006123230003827"
            ]
          },
          "metadata": {},
          "execution_count": 58
        }
      ]
    },
    {
      "cell_type": "markdown",
      "source": [
        "###Without outlier"
      ],
      "metadata": {
        "id": "Yr8dcxjRF_re"
      }
    },
    {
      "cell_type": "code",
      "source": [
        "df.drop(outlier.index, axis=0, inplace=True)\n",
        "X=df.drop([\"Total_booking\", \"Date\", \"Book\"], axis=1)\n",
        "y=df[\"Book\"]\n",
        "X_train, X_valid, y_train, y_valid= train_test_split(X, y, test_size=.3, shuffle=True)\n",
        "m=LogisticRegression(max_iter=1000, penalty=\"l2\", solver=\"saga\");\n",
        "m.fit(X_train, y_train)\n",
        "y_pred=m.predict(X_valid)\n",
        "accuracy_score(y_valid, y_pred)"
      ],
      "metadata": {
        "colab": {
          "base_uri": "https://localhost:8080/"
        },
        "id": "CU8Ukyd884zd",
        "outputId": "ee5c0674-3f01-4961-d700-1bc1e7b42fb4"
      },
      "execution_count": 59,
      "outputs": [
        {
          "output_type": "execute_result",
          "data": {
            "text/plain": [
              "0.7783424550430024"
            ]
          },
          "metadata": {},
          "execution_count": 59
        }
      ]
    },
    {
      "cell_type": "code",
      "source": [
        "X_train.columns"
      ],
      "metadata": {
        "colab": {
          "base_uri": "https://localhost:8080/"
        },
        "id": "6agaKZft060Y",
        "outputId": "1d292695-b3f3-4453-b074-e1fe677e84a3"
      },
      "execution_count": 60,
      "outputs": [
        {
          "output_type": "execute_result",
          "data": {
            "text/plain": [
              "Index(['holiday', 'temp', 'humidity', 'windspeed', 'Hour', 'Month',\n",
              "       ' Clear + Few clouds', ' Heavy Rain + Thunderstorm ',\n",
              "       ' Light Snow, Light Rain', ' Mist + Cloudy ', 'Fall', 'Spring',\n",
              "       'Summer', 'Winter', 'Friday', 'Monday', 'Saturday', 'Sunday',\n",
              "       'Thursday', 'Tuesday', 'Wednesday'],\n",
              "      dtype='object')"
            ]
          },
          "metadata": {},
          "execution_count": 60
        }
      ]
    },
    {
      "cell_type": "code",
      "source": [
        "importance = m.coef_[0]\n",
        "importance"
      ],
      "metadata": {
        "colab": {
          "base_uri": "https://localhost:8080/"
        },
        "id": "__QgveR0pil3",
        "outputId": "905d1719-eecb-4b95-883f-b8382e089902"
      },
      "execution_count": 61,
      "outputs": [
        {
          "output_type": "execute_result",
          "data": {
            "text/plain": [
              "array([ 0.20817835,  1.15857551, -0.60353153,  0.05883903,  0.1264881 ,\n",
              "        0.17150016, -0.18357764,  0.78016758, -0.92662523,  0.06583293,\n",
              "       -0.70845623,  0.25822788,  0.14886526,  0.03716072,  0.26133463,\n",
              "       -0.06595406, -0.04657669, -0.21367058, -0.09221416, -0.1137824 ,\n",
              "        0.00666089])"
            ]
          },
          "metadata": {},
          "execution_count": 61
        }
      ]
    },
    {
      "cell_type": "markdown",
      "source": [
        "Importance vs features"
      ],
      "metadata": {
        "id": "HlEAI0VMJb7A"
      }
    },
    {
      "cell_type": "code",
      "source": [
        "import plotly.express as px\n",
        "fig = px.bar(y=importance, x=X_train.columns, labels=dict(x=\"Features\", y=\"Importance\"))\n",
        "fig.update_xaxes(type='category')\n",
        "fig.show()"
      ],
      "metadata": {
        "colab": {
          "base_uri": "https://localhost:8080/",
          "height": 542
        },
        "id": "AaReGJNQ1XZS",
        "outputId": "74f5317d-1a57-44aa-9016-8306a46b2757"
      },
      "execution_count": 62,
      "outputs": [
        {
          "output_type": "display_data",
          "data": {
            "text/html": [
              "<html>\n",
              "<head><meta charset=\"utf-8\" /></head>\n",
              "<body>\n",
              "    <div>            <script src=\"https://cdnjs.cloudflare.com/ajax/libs/mathjax/2.7.5/MathJax.js?config=TeX-AMS-MML_SVG\"></script><script type=\"text/javascript\">if (window.MathJax) {MathJax.Hub.Config({SVG: {font: \"STIX-Web\"}});}</script>                <script type=\"text/javascript\">window.PlotlyConfig = {MathJaxConfig: 'local'};</script>\n",
              "        <script src=\"https://cdn.plot.ly/plotly-2.8.3.min.js\"></script>                <div id=\"81d40ff4-b7b9-482d-aaf0-170f2e103edf\" class=\"plotly-graph-div\" style=\"height:525px; width:100%;\"></div>            <script type=\"text/javascript\">                                    window.PLOTLYENV=window.PLOTLYENV || {};                                    if (document.getElementById(\"81d40ff4-b7b9-482d-aaf0-170f2e103edf\")) {                    Plotly.newPlot(                        \"81d40ff4-b7b9-482d-aaf0-170f2e103edf\",                        [{\"alignmentgroup\":\"True\",\"hovertemplate\":\"Features=%{x}<br>Importance=%{y}<extra></extra>\",\"legendgroup\":\"\",\"marker\":{\"color\":\"#636efa\",\"pattern\":{\"shape\":\"\"}},\"name\":\"\",\"offsetgroup\":\"\",\"orientation\":\"v\",\"showlegend\":false,\"textposition\":\"auto\",\"x\":[\"holiday\",\"temp\",\"humidity\",\"windspeed\",\"Hour\",\"Month\",\" Clear + Few clouds\",\" Heavy Rain + Thunderstorm \",\" Light Snow, Light Rain\",\" Mist + Cloudy \",\"Fall\",\"Spring\",\"Summer\",\"Winter\",\"Friday\",\"Monday\",\"Saturday\",\"Sunday\",\"Thursday\",\"Tuesday\",\"Wednesday\"],\"xaxis\":\"x\",\"y\":[0.20817835116008457,1.1585755148029446,-0.6035315338425002,0.058839029617522576,0.12648809991605056,0.1715001648335691,-0.18357763818415965,0.7801675758098346,-0.9266252294480231,0.06583292782439686,-0.7084562267357014,0.258227878254999,0.1488652648140311,0.03716071966863202,0.2613346292151946,-0.06595405882740005,-0.04657668806183677,-0.21367057827903696,-0.09221415880612506,-0.1137824009359321,0.006660891697217887],\"yaxis\":\"y\",\"type\":\"bar\"}],                        {\"template\":{\"data\":{\"bar\":[{\"error_x\":{\"color\":\"#2a3f5f\"},\"error_y\":{\"color\":\"#2a3f5f\"},\"marker\":{\"line\":{\"color\":\"#E5ECF6\",\"width\":0.5},\"pattern\":{\"fillmode\":\"overlay\",\"size\":10,\"solidity\":0.2}},\"type\":\"bar\"}],\"barpolar\":[{\"marker\":{\"line\":{\"color\":\"#E5ECF6\",\"width\":0.5},\"pattern\":{\"fillmode\":\"overlay\",\"size\":10,\"solidity\":0.2}},\"type\":\"barpolar\"}],\"carpet\":[{\"aaxis\":{\"endlinecolor\":\"#2a3f5f\",\"gridcolor\":\"white\",\"linecolor\":\"white\",\"minorgridcolor\":\"white\",\"startlinecolor\":\"#2a3f5f\"},\"baxis\":{\"endlinecolor\":\"#2a3f5f\",\"gridcolor\":\"white\",\"linecolor\":\"white\",\"minorgridcolor\":\"white\",\"startlinecolor\":\"#2a3f5f\"},\"type\":\"carpet\"}],\"choropleth\":[{\"colorbar\":{\"outlinewidth\":0,\"ticks\":\"\"},\"type\":\"choropleth\"}],\"contour\":[{\"colorbar\":{\"outlinewidth\":0,\"ticks\":\"\"},\"colorscale\":[[0.0,\"#0d0887\"],[0.1111111111111111,\"#46039f\"],[0.2222222222222222,\"#7201a8\"],[0.3333333333333333,\"#9c179e\"],[0.4444444444444444,\"#bd3786\"],[0.5555555555555556,\"#d8576b\"],[0.6666666666666666,\"#ed7953\"],[0.7777777777777778,\"#fb9f3a\"],[0.8888888888888888,\"#fdca26\"],[1.0,\"#f0f921\"]],\"type\":\"contour\"}],\"contourcarpet\":[{\"colorbar\":{\"outlinewidth\":0,\"ticks\":\"\"},\"type\":\"contourcarpet\"}],\"heatmap\":[{\"colorbar\":{\"outlinewidth\":0,\"ticks\":\"\"},\"colorscale\":[[0.0,\"#0d0887\"],[0.1111111111111111,\"#46039f\"],[0.2222222222222222,\"#7201a8\"],[0.3333333333333333,\"#9c179e\"],[0.4444444444444444,\"#bd3786\"],[0.5555555555555556,\"#d8576b\"],[0.6666666666666666,\"#ed7953\"],[0.7777777777777778,\"#fb9f3a\"],[0.8888888888888888,\"#fdca26\"],[1.0,\"#f0f921\"]],\"type\":\"heatmap\"}],\"heatmapgl\":[{\"colorbar\":{\"outlinewidth\":0,\"ticks\":\"\"},\"colorscale\":[[0.0,\"#0d0887\"],[0.1111111111111111,\"#46039f\"],[0.2222222222222222,\"#7201a8\"],[0.3333333333333333,\"#9c179e\"],[0.4444444444444444,\"#bd3786\"],[0.5555555555555556,\"#d8576b\"],[0.6666666666666666,\"#ed7953\"],[0.7777777777777778,\"#fb9f3a\"],[0.8888888888888888,\"#fdca26\"],[1.0,\"#f0f921\"]],\"type\":\"heatmapgl\"}],\"histogram\":[{\"marker\":{\"pattern\":{\"fillmode\":\"overlay\",\"size\":10,\"solidity\":0.2}},\"type\":\"histogram\"}],\"histogram2d\":[{\"colorbar\":{\"outlinewidth\":0,\"ticks\":\"\"},\"colorscale\":[[0.0,\"#0d0887\"],[0.1111111111111111,\"#46039f\"],[0.2222222222222222,\"#7201a8\"],[0.3333333333333333,\"#9c179e\"],[0.4444444444444444,\"#bd3786\"],[0.5555555555555556,\"#d8576b\"],[0.6666666666666666,\"#ed7953\"],[0.7777777777777778,\"#fb9f3a\"],[0.8888888888888888,\"#fdca26\"],[1.0,\"#f0f921\"]],\"type\":\"histogram2d\"}],\"histogram2dcontour\":[{\"colorbar\":{\"outlinewidth\":0,\"ticks\":\"\"},\"colorscale\":[[0.0,\"#0d0887\"],[0.1111111111111111,\"#46039f\"],[0.2222222222222222,\"#7201a8\"],[0.3333333333333333,\"#9c179e\"],[0.4444444444444444,\"#bd3786\"],[0.5555555555555556,\"#d8576b\"],[0.6666666666666666,\"#ed7953\"],[0.7777777777777778,\"#fb9f3a\"],[0.8888888888888888,\"#fdca26\"],[1.0,\"#f0f921\"]],\"type\":\"histogram2dcontour\"}],\"mesh3d\":[{\"colorbar\":{\"outlinewidth\":0,\"ticks\":\"\"},\"type\":\"mesh3d\"}],\"parcoords\":[{\"line\":{\"colorbar\":{\"outlinewidth\":0,\"ticks\":\"\"}},\"type\":\"parcoords\"}],\"pie\":[{\"automargin\":true,\"type\":\"pie\"}],\"scatter\":[{\"marker\":{\"colorbar\":{\"outlinewidth\":0,\"ticks\":\"\"}},\"type\":\"scatter\"}],\"scatter3d\":[{\"line\":{\"colorbar\":{\"outlinewidth\":0,\"ticks\":\"\"}},\"marker\":{\"colorbar\":{\"outlinewidth\":0,\"ticks\":\"\"}},\"type\":\"scatter3d\"}],\"scattercarpet\":[{\"marker\":{\"colorbar\":{\"outlinewidth\":0,\"ticks\":\"\"}},\"type\":\"scattercarpet\"}],\"scattergeo\":[{\"marker\":{\"colorbar\":{\"outlinewidth\":0,\"ticks\":\"\"}},\"type\":\"scattergeo\"}],\"scattergl\":[{\"marker\":{\"colorbar\":{\"outlinewidth\":0,\"ticks\":\"\"}},\"type\":\"scattergl\"}],\"scattermapbox\":[{\"marker\":{\"colorbar\":{\"outlinewidth\":0,\"ticks\":\"\"}},\"type\":\"scattermapbox\"}],\"scatterpolar\":[{\"marker\":{\"colorbar\":{\"outlinewidth\":0,\"ticks\":\"\"}},\"type\":\"scatterpolar\"}],\"scatterpolargl\":[{\"marker\":{\"colorbar\":{\"outlinewidth\":0,\"ticks\":\"\"}},\"type\":\"scatterpolargl\"}],\"scatterternary\":[{\"marker\":{\"colorbar\":{\"outlinewidth\":0,\"ticks\":\"\"}},\"type\":\"scatterternary\"}],\"surface\":[{\"colorbar\":{\"outlinewidth\":0,\"ticks\":\"\"},\"colorscale\":[[0.0,\"#0d0887\"],[0.1111111111111111,\"#46039f\"],[0.2222222222222222,\"#7201a8\"],[0.3333333333333333,\"#9c179e\"],[0.4444444444444444,\"#bd3786\"],[0.5555555555555556,\"#d8576b\"],[0.6666666666666666,\"#ed7953\"],[0.7777777777777778,\"#fb9f3a\"],[0.8888888888888888,\"#fdca26\"],[1.0,\"#f0f921\"]],\"type\":\"surface\"}],\"table\":[{\"cells\":{\"fill\":{\"color\":\"#EBF0F8\"},\"line\":{\"color\":\"white\"}},\"header\":{\"fill\":{\"color\":\"#C8D4E3\"},\"line\":{\"color\":\"white\"}},\"type\":\"table\"}]},\"layout\":{\"annotationdefaults\":{\"arrowcolor\":\"#2a3f5f\",\"arrowhead\":0,\"arrowwidth\":1},\"autotypenumbers\":\"strict\",\"coloraxis\":{\"colorbar\":{\"outlinewidth\":0,\"ticks\":\"\"}},\"colorscale\":{\"diverging\":[[0,\"#8e0152\"],[0.1,\"#c51b7d\"],[0.2,\"#de77ae\"],[0.3,\"#f1b6da\"],[0.4,\"#fde0ef\"],[0.5,\"#f7f7f7\"],[0.6,\"#e6f5d0\"],[0.7,\"#b8e186\"],[0.8,\"#7fbc41\"],[0.9,\"#4d9221\"],[1,\"#276419\"]],\"sequential\":[[0.0,\"#0d0887\"],[0.1111111111111111,\"#46039f\"],[0.2222222222222222,\"#7201a8\"],[0.3333333333333333,\"#9c179e\"],[0.4444444444444444,\"#bd3786\"],[0.5555555555555556,\"#d8576b\"],[0.6666666666666666,\"#ed7953\"],[0.7777777777777778,\"#fb9f3a\"],[0.8888888888888888,\"#fdca26\"],[1.0,\"#f0f921\"]],\"sequentialminus\":[[0.0,\"#0d0887\"],[0.1111111111111111,\"#46039f\"],[0.2222222222222222,\"#7201a8\"],[0.3333333333333333,\"#9c179e\"],[0.4444444444444444,\"#bd3786\"],[0.5555555555555556,\"#d8576b\"],[0.6666666666666666,\"#ed7953\"],[0.7777777777777778,\"#fb9f3a\"],[0.8888888888888888,\"#fdca26\"],[1.0,\"#f0f921\"]]},\"colorway\":[\"#636efa\",\"#EF553B\",\"#00cc96\",\"#ab63fa\",\"#FFA15A\",\"#19d3f3\",\"#FF6692\",\"#B6E880\",\"#FF97FF\",\"#FECB52\"],\"font\":{\"color\":\"#2a3f5f\"},\"geo\":{\"bgcolor\":\"white\",\"lakecolor\":\"white\",\"landcolor\":\"#E5ECF6\",\"showlakes\":true,\"showland\":true,\"subunitcolor\":\"white\"},\"hoverlabel\":{\"align\":\"left\"},\"hovermode\":\"closest\",\"mapbox\":{\"style\":\"light\"},\"paper_bgcolor\":\"white\",\"plot_bgcolor\":\"#E5ECF6\",\"polar\":{\"angularaxis\":{\"gridcolor\":\"white\",\"linecolor\":\"white\",\"ticks\":\"\"},\"bgcolor\":\"#E5ECF6\",\"radialaxis\":{\"gridcolor\":\"white\",\"linecolor\":\"white\",\"ticks\":\"\"}},\"scene\":{\"xaxis\":{\"backgroundcolor\":\"#E5ECF6\",\"gridcolor\":\"white\",\"gridwidth\":2,\"linecolor\":\"white\",\"showbackground\":true,\"ticks\":\"\",\"zerolinecolor\":\"white\"},\"yaxis\":{\"backgroundcolor\":\"#E5ECF6\",\"gridcolor\":\"white\",\"gridwidth\":2,\"linecolor\":\"white\",\"showbackground\":true,\"ticks\":\"\",\"zerolinecolor\":\"white\"},\"zaxis\":{\"backgroundcolor\":\"#E5ECF6\",\"gridcolor\":\"white\",\"gridwidth\":2,\"linecolor\":\"white\",\"showbackground\":true,\"ticks\":\"\",\"zerolinecolor\":\"white\"}},\"shapedefaults\":{\"line\":{\"color\":\"#2a3f5f\"}},\"ternary\":{\"aaxis\":{\"gridcolor\":\"white\",\"linecolor\":\"white\",\"ticks\":\"\"},\"baxis\":{\"gridcolor\":\"white\",\"linecolor\":\"white\",\"ticks\":\"\"},\"bgcolor\":\"#E5ECF6\",\"caxis\":{\"gridcolor\":\"white\",\"linecolor\":\"white\",\"ticks\":\"\"}},\"title\":{\"x\":0.05},\"xaxis\":{\"automargin\":true,\"gridcolor\":\"white\",\"linecolor\":\"white\",\"ticks\":\"\",\"title\":{\"standoff\":15},\"zerolinecolor\":\"white\",\"zerolinewidth\":2},\"yaxis\":{\"automargin\":true,\"gridcolor\":\"white\",\"linecolor\":\"white\",\"ticks\":\"\",\"title\":{\"standoff\":15},\"zerolinecolor\":\"white\",\"zerolinewidth\":2}}},\"xaxis\":{\"anchor\":\"y\",\"domain\":[0.0,1.0],\"title\":{\"text\":\"Features\"},\"type\":\"category\"},\"yaxis\":{\"anchor\":\"x\",\"domain\":[0.0,1.0],\"title\":{\"text\":\"Importance\"}},\"legend\":{\"tracegroupgap\":0},\"margin\":{\"t\":60},\"barmode\":\"relative\"},                        {\"responsive\": true}                    ).then(function(){\n",
              "                            \n",
              "var gd = document.getElementById('81d40ff4-b7b9-482d-aaf0-170f2e103edf');\n",
              "var x = new MutationObserver(function (mutations, observer) {{\n",
              "        var display = window.getComputedStyle(gd).display;\n",
              "        if (!display || display === 'none') {{\n",
              "            console.log([gd, 'removed!']);\n",
              "            Plotly.purge(gd);\n",
              "            observer.disconnect();\n",
              "        }}\n",
              "}});\n",
              "\n",
              "// Listen for the removal of the full notebook cells\n",
              "var notebookContainer = gd.closest('#notebook-container');\n",
              "if (notebookContainer) {{\n",
              "    x.observe(notebookContainer, {childList: true});\n",
              "}}\n",
              "\n",
              "// Listen for the clearing of the current output cell\n",
              "var outputEl = gd.closest('.output');\n",
              "if (outputEl) {{\n",
              "    x.observe(outputEl, {childList: true});\n",
              "}}\n",
              "\n",
              "                        })                };                            </script>        </div>\n",
              "</body>\n",
              "</html>"
            ]
          },
          "metadata": {}
        }
      ]
    },
    {
      "cell_type": "markdown",
      "metadata": {
        "id": "pb9MCFNmpt2H"
      },
      "source": [
        "##PCA"
      ]
    },
    {
      "cell_type": "code",
      "source": [
        "X_train.shape, X_valid.shape"
      ],
      "metadata": {
        "colab": {
          "base_uri": "https://localhost:8080/"
        },
        "id": "fUAQIrIp7qaA",
        "outputId": "a38a3d4f-152d-4734-a6cd-3db991ad4702"
      },
      "execution_count": 63,
      "outputs": [
        {
          "output_type": "execute_result",
          "data": {
            "text/plain": [
              "((5968, 21), (2558, 21))"
            ]
          },
          "metadata": {},
          "execution_count": 63
        }
      ]
    },
    {
      "cell_type": "code",
      "execution_count": 64,
      "metadata": {
        "colab": {
          "base_uri": "https://localhost:8080/"
        },
        "id": "JRWmzgWiepRl",
        "outputId": "832e36a9-93e2-4524-8604-fd702522c94b"
      },
      "outputs": [
        {
          "output_type": "execute_result",
          "data": {
            "text/plain": [
              "array([0.74315253, 0.18737393, 0.01761806, 0.01602741, 0.01041653,\n",
              "       0.0049361 , 0.00387825, 0.00227305, 0.00224197, 0.00223354])"
            ]
          },
          "metadata": {},
          "execution_count": 64
        }
      ],
      "source": [
        "\n",
        "# Applying PCA function on training\n",
        "# and testing set of X component\n",
        "from sklearn.decomposition import PCA\n",
        "  \n",
        "pca = PCA(n_components = 10)\n",
        "  \n",
        "pca.fit(X_train)\n",
        "  \n",
        "explained_variance = pca.explained_variance_ratio_\n",
        "explained_variance"
      ]
    },
    {
      "cell_type": "code",
      "source": [
        "fig=sns.barplot(x=[1,2,3,4,5,6,7,8,9,10], y=explained_variance, color = 'blue', palette = 'hls')\n",
        "fig.set(xlabel='Components', ylabel='Explained Variance')"
      ],
      "metadata": {
        "colab": {
          "base_uri": "https://localhost:8080/",
          "height": 296
        },
        "id": "A0vujtPMiQMA",
        "outputId": "3b3e2f09-8e89-4f1f-eced-3fe8586fbaf2"
      },
      "execution_count": 65,
      "outputs": [
        {
          "output_type": "execute_result",
          "data": {
            "text/plain": [
              "[Text(0, 0.5, 'Explained Variance'), Text(0.5, 0, 'Components')]"
            ]
          },
          "metadata": {},
          "execution_count": 65
        },
        {
          "output_type": "display_data",
          "data": {
            "text/plain": [
              "<Figure size 432x288 with 1 Axes>"
            ],
            "image/png": "[encoded data removed]"
          },
          "metadata": {
            "needs_background": "light"
          }
        }
      ]
    },
    {
      "cell_type": "code",
      "source": [
        "pca = PCA(n_components = 5)\n",
        "X_train = pca.fit_transform(X_train)\n",
        "X_valid = pca.transform(X_valid)\n",
        "pca.explained_variance_ratio_"
      ],
      "metadata": {
        "colab": {
          "base_uri": "https://localhost:8080/"
        },
        "id": "E9jL87Qd6TTz",
        "outputId": "4c16ce77-4da7-49e2-dc6f-57d92e3ecca9"
      },
      "execution_count": 66,
      "outputs": [
        {
          "output_type": "execute_result",
          "data": {
            "text/plain": [
              "array([0.74315253, 0.18737393, 0.01761806, 0.01602741, 0.01041653])"
            ]
          },
          "metadata": {},
          "execution_count": 66
        }
      ]
    },
    {
      "cell_type": "code",
      "source": [
        "sum(pca.explained_variance_ratio_)"
      ],
      "metadata": {
        "colab": {
          "base_uri": "https://localhost:8080/"
        },
        "id": "56vTtFK97oSq",
        "outputId": "ecc0f059-d69e-4cf5-e2d8-d24e7521e733"
      },
      "execution_count": 305,
      "outputs": [
        {
          "output_type": "execute_result",
          "data": {
            "text/plain": [
              "0.9745604505502647"
            ]
          },
          "metadata": {},
          "execution_count": 305
        }
      ]
    },
    {
      "cell_type": "markdown",
      "metadata": {
        "id": "j_4NGRhO8dpN"
      },
      "source": [
        "## Tuning Logistic Regression"
      ]
    },
    {
      "cell_type": "code",
      "execution_count": 306,
      "metadata": {
        "id": "cnfgwqn48b85"
      },
      "outputs": [],
      "source": [
        "import math"
      ]
    },
    {
      "cell_type": "code",
      "execution_count": 307,
      "metadata": {
        "colab": {
          "base_uri": "https://localhost:8080/"
        },
        "id": "XYou8PGW7vDZ",
        "outputId": "abb7ce7f-98d1-416e-ff38-2bef081f32a3"
      },
      "outputs": [
        {
          "output_type": "execute_result",
          "data": {
            "text/plain": [
              "0.7947615324472244"
            ]
          },
          "metadata": {},
          "execution_count": 307
        }
      ],
      "source": [
        "m=LogisticRegression(max_iter=100, C=100);\n",
        "m.fit(X_train, y_train)\n",
        "y_pred=m.predict(X_valid)\n",
        "accuracy_score(y_valid, y_pred)"
      ]
    },
    {
      "cell_type": "code",
      "source": [
        "math.sqrt(mean_squared_error(y_valid, y_pred))"
      ],
      "metadata": {
        "colab": {
          "base_uri": "https://localhost:8080/"
        },
        "id": "AdkuRB-W-9ct",
        "outputId": "e2bdefef-3ef2-46d1-b9af-29bba679bbf5"
      },
      "execution_count": 308,
      "outputs": [
        {
          "output_type": "execute_result",
          "data": {
            "text/plain": [
              "0.4530325237251467"
            ]
          },
          "metadata": {},
          "execution_count": 308
        }
      ]
    },
    {
      "cell_type": "code",
      "execution_count": 309,
      "metadata": {
        "colab": {
          "base_uri": "https://localhost:8080/"
        },
        "id": "L-Qa6W5Q5wH3",
        "outputId": "3a0de1cc-9e78-4baa-efce-701439aee5c8"
      },
      "outputs": [
        {
          "output_type": "execute_result",
          "data": {
            "text/plain": [
              "0.7951524628616107"
            ]
          },
          "metadata": {},
          "execution_count": 309
        }
      ],
      "source": [
        "m=LogisticRegression(max_iter=1000, penalty=\"l2\", solver=\"saga\");\n",
        "m.fit(X_train, y_train)\n",
        "y_pred=m.predict(X_valid)\n",
        "accuracy_score(y_valid, y_pred)"
      ]
    },
    {
      "cell_type": "code",
      "execution_count": null,
      "metadata": {
        "colab": {
          "base_uri": "https://localhost:8080/"
        },
        "id": "9dcP_6uOHX4x",
        "outputId": "5caa1ed3-9a22-45ee-d45b-400d68f0793f"
      },
      "outputs": [
        {
          "output_type": "stream",
          "name": "stdout",
          "text": [
            "Mean squared log error is-  0.10705950661977123\n"
          ]
        }
      ],
      "source": [
        "from sklearn.metrics import mean_squared_log_error\n",
        "print(\"Mean squared log error is- \", mean_squared_log_error(y_valid, y_pred))"
      ]
    },
    {
      "cell_type": "code",
      "source": [],
      "metadata": {
        "id": "nOcTtyMU7iPF"
      },
      "execution_count": null,
      "outputs": []
    },
    {
      "cell_type": "markdown",
      "metadata": {
        "id": "1uNwPCpaC5IZ"
      },
      "source": [
        "##Lasso\n"
      ]
    },
    {
      "cell_type": "markdown",
      "source": [
        "Cfloat, default=1.0\n",
        "Inverse of regularization strength; must be a positive float. Like in support vector machines, smaller values specify stronger regularization."
      ],
      "metadata": {
        "id": "3jpnnmYqx1dN"
      }
    },
    {
      "cell_type": "code",
      "source": [
        "np.linspace(0.1,100)"
      ],
      "metadata": {
        "colab": {
          "base_uri": "https://localhost:8080/"
        },
        "id": "JxA2g4DRx_Rz",
        "outputId": "1bb42ab3-4daa-4ad8-989d-5dd49f0e03e2"
      },
      "execution_count": null,
      "outputs": [
        {
          "output_type": "execute_result",
          "data": {
            "text/plain": [
              "array([  0.1       ,   2.13877551,   4.17755102,   6.21632653,\n",
              "         8.25510204,  10.29387755,  12.33265306,  14.37142857,\n",
              "        16.41020408,  18.44897959,  20.4877551 ,  22.52653061,\n",
              "        24.56530612,  26.60408163,  28.64285714,  30.68163265,\n",
              "        32.72040816,  34.75918367,  36.79795918,  38.83673469,\n",
              "        40.8755102 ,  42.91428571,  44.95306122,  46.99183673,\n",
              "        49.03061224,  51.06938776,  53.10816327,  55.14693878,\n",
              "        57.18571429,  59.2244898 ,  61.26326531,  63.30204082,\n",
              "        65.34081633,  67.37959184,  69.41836735,  71.45714286,\n",
              "        73.49591837,  75.53469388,  77.57346939,  79.6122449 ,\n",
              "        81.65102041,  83.68979592,  85.72857143,  87.76734694,\n",
              "        89.80612245,  91.84489796,  93.88367347,  95.92244898,\n",
              "        97.96122449, 100.        ])"
            ]
          },
          "metadata": {},
          "execution_count": 96
        }
      ]
    },
    {
      "cell_type": "markdown",
      "source": [
        "###Cost vs c"
      ],
      "metadata": {
        "id": "b1HTcSeaKTAX"
      }
    },
    {
      "cell_type": "code",
      "execution_count": 314,
      "metadata": {
        "id": "0HeYQZrkWeBC"
      },
      "outputs": [],
      "source": [
        "et=[]\n",
        "ev=[]\n",
        "for l in np.linspace(0.1,100):\n",
        "  lass = LogisticRegression(max_iter=100, C=l,solver=\"saga\", penalty=\"l1\");\n",
        "  lass.fit(X_train, y_train)\n",
        "  y_pred=lass.predict(X_train)\n",
        "  et.append(math.sqrt(mean_squared_error(y_train, y_pred)))\n",
        "  y_pred=lass.predict(X_valid)\n",
        "  ev.append(math.sqrt(mean_squared_error(y_valid, y_pred)))"
      ]
    },
    {
      "cell_type": "code",
      "execution_count": 315,
      "metadata": {
        "colab": {
          "base_uri": "https://localhost:8080/",
          "height": 296
        },
        "id": "ro9uF2nzdhOn",
        "outputId": "0c6f5cfe-9e1c-4c71-a775-175d79222220"
      },
      "outputs": [
        {
          "output_type": "execute_result",
          "data": {
            "text/plain": [
              "<matplotlib.legend.Legend at 0x7f2f1b4f1d30>"
            ]
          },
          "metadata": {},
          "execution_count": 315
        },
        {
          "output_type": "display_data",
          "data": {
            "text/plain": [
              "<Figure size 432x288 with 1 Axes>"
            ],
            "image/png": "[encoded data removed]"
          },
          "metadata": {
            "needs_background": "light"
          }
        }
      ],
      "source": [
        "plt.plot( np.linspace(0.1,100), et, label=\"Training\")\n",
        "plt.plot( np.linspace(0.1,100), ev, label=\"Validation\")\n",
        "plt.xlabel(\"C\")\n",
        "plt.ylabel(\"Cost\")\n",
        "plt.legend()"
      ]
    },
    {
      "cell_type": "code",
      "source": [
        "ev[0:5]"
      ],
      "metadata": {
        "colab": {
          "base_uri": "https://localhost:8080/"
        },
        "id": "oWedCpIgLvGL",
        "outputId": "c083ea93-b480-493c-ba26-182ab88af297"
      },
      "execution_count": 316,
      "outputs": [
        {
          "output_type": "execute_result",
          "data": {
            "text/plain": [
              "[0.45216878123550625,\n",
              " 0.4530325237251467,\n",
              " 0.4526008585259084,\n",
              " 0.4530325237251467,\n",
              " 0.4530325237251467]"
            ]
          },
          "metadata": {},
          "execution_count": 316
        }
      ]
    },
    {
      "cell_type": "markdown",
      "metadata": {
        "id": "Z2T8nyF-QXcs"
      },
      "source": [
        "##Learning Curve"
      ]
    },
    {
      "cell_type": "markdown",
      "source": [
        "##Ridge"
      ],
      "metadata": {
        "id": "d80a-wt6AMmq"
      }
    },
    {
      "cell_type": "markdown",
      "source": [
        "###Cost vs c"
      ],
      "metadata": {
        "id": "9hn6foEdKOWP"
      }
    },
    {
      "cell_type": "code",
      "execution_count": 317,
      "metadata": {
        "id": "c6_heXB-KZeF"
      },
      "outputs": [],
      "source": [
        "et=[]\n",
        "ev=[]\n",
        "for l in np.linspace(0.1,200):\n",
        "  ridge=LogisticRegression(max_iter=1000, penalty=\"l2\", C=l);\n",
        "  ridge.fit(X_train, y_train)\n",
        "  y_pred=ridge.predict(X_train)\n",
        "  et.append(math.sqrt(mean_squared_error(y_train, y_pred)))\n",
        "  y_pred=ridge.predict(X_valid)\n",
        "  ev.append(math.sqrt(mean_squared_error(y_valid, y_pred)))"
      ]
    },
    {
      "cell_type": "code",
      "execution_count": 318,
      "metadata": {
        "colab": {
          "base_uri": "https://localhost:8080/",
          "height": 296
        },
        "id": "KHvqrvxiLYL5",
        "outputId": "1e456e94-a91e-4fee-d363-7f3d1d49c3a6"
      },
      "outputs": [
        {
          "output_type": "execute_result",
          "data": {
            "text/plain": [
              "<matplotlib.legend.Legend at 0x7f2f1b52a520>"
            ]
          },
          "metadata": {},
          "execution_count": 318
        },
        {
          "output_type": "display_data",
          "data": {
            "text/plain": [
              "<Figure size 432x288 with 1 Axes>"
            ],
            "image/png": "[encoded data removed]"
          },
          "metadata": {
            "needs_background": "light"
          }
        }
      ],
      "source": [
        "plt.plot( np.linspace(0.1,200), et, label=\"Training\")\n",
        "plt.plot( np.linspace(0.1,200), ev, label=\"Validation\")\n",
        "plt.xlabel(\"C\")\n",
        "plt.ylabel(\"Cost\")\n",
        "plt.legend()"
      ]
    },
    {
      "cell_type": "code",
      "source": [
        "ev[0:5]"
      ],
      "metadata": {
        "colab": {
          "base_uri": "https://localhost:8080/"
        },
        "id": "7dERRQ8DL1XI",
        "outputId": "c353fde8-8b61-4edc-a7fe-63c8a6496ad8"
      },
      "execution_count": 319,
      "outputs": [
        {
          "output_type": "execute_result",
          "data": {
            "text/plain": [
              "[0.45130338564565486,\n",
              " 0.4526008585259084,\n",
              " 0.4526008585259084,\n",
              " 0.4526008585259084,\n",
              " 0.4526008585259084]"
            ]
          },
          "metadata": {},
          "execution_count": 319
        }
      ]
    },
    {
      "cell_type": "markdown",
      "source": [
        "###Cost vs Number of training examples"
      ],
      "metadata": {
        "id": "tAbhkpHXKKRo"
      }
    },
    {
      "cell_type": "code",
      "execution_count": null,
      "metadata": {
        "id": "vxucAqgJKre_"
      },
      "outputs": [],
      "source": [
        "et=[]\n",
        "ev=[]\n",
        "for i in range(10,len(X_train)):\n",
        "  ridge = LogisticRegression(max_iter=10000, penalty=\"l2\", solver=\"saga\", C=0.1);\n",
        "  ridge.fit(X_train[:i], y_train[:i])\n",
        "  y_pred=ridge.predict(X_train[:i])\n",
        "  et.append(math.sqrt(mean_squared_error(y_train[:i], y_pred)))\n",
        "  y_pred=ridge.predict(X_valid)\n",
        "  ev.append(math.sqrt(mean_squared_error(y_valid, y_pred)))"
      ]
    },
    {
      "cell_type": "code",
      "execution_count": null,
      "metadata": {
        "colab": {
          "base_uri": "https://localhost:8080/",
          "height": 300
        },
        "id": "TlwhiVwnNlzA",
        "outputId": "18103122-9098-4e27-c057-7869d932ad5f"
      },
      "outputs": [
        {
          "output_type": "execute_result",
          "data": {
            "text/plain": [
              "<matplotlib.legend.Legend at 0x7f6a3f8f8110>"
            ]
          },
          "metadata": {},
          "execution_count": 352
        },
        {
          "output_type": "display_data",
          "data": {
            "text/plain": [
              "<Figure size 432x288 with 1 Axes>"
            ],
            "image/png": "[encoded data removed]"
          },
          "metadata": {
            "needs_background": "light"
          }
        }
      ],
      "source": [
        "plt.plot(et, label=\"Training\")\n",
        "plt.plot(ev, label=\"Validation\")\n",
        "plt.xlabel(\"m\")\n",
        "plt.ylabel(\"Cost\")\n",
        "plt.legend()"
      ]
    },
    {
      "cell_type": "markdown",
      "metadata": {
        "id": "XgOEAGqpV4B2"
      },
      "source": [
        "After using more than 200 training examples model starts to perform well."
      ]
    },
    {
      "cell_type": "markdown",
      "source": [
        "###Cost vs Number of Polynomial Features"
      ],
      "metadata": {
        "id": "8R77DWt6J49F"
      }
    },
    {
      "cell_type": "code",
      "execution_count": null,
      "metadata": {
        "id": "Z3_cgIYSRcsZ"
      },
      "outputs": [],
      "source": [
        "from sklearn.preprocessing import PolynomialFeatures\n",
        "et=[]\n",
        "ev=[]\n",
        "for i in range(1,5):\n",
        "  ridge = LogisticRegression(max_iter=100000, penalty=\"l2\", C=0.1);\n",
        "  poly = PolynomialFeatures(i)\n",
        "  X_poly=poly.fit_transform(X_train)\n",
        "  ridge.fit(X_poly, y_train)\n",
        "  y_pred=ridge.predict(X_poly)\n",
        "  et.append(math.sqrt(mean_squared_error(y_train, y_pred)))\n",
        "  y_pred=ridge.predict(poly.transform(X_valid))\n",
        "  ev.append(math.sqrt(mean_squared_error(y_valid, y_pred)))"
      ]
    },
    {
      "cell_type": "code",
      "execution_count": null,
      "metadata": {
        "colab": {
          "base_uri": "https://localhost:8080/"
        },
        "id": "rndRx9-yS84L",
        "outputId": "be8f3673-3bb8-4674-f7e5-c2c9d19c556a"
      },
      "outputs": [
        {
          "output_type": "execute_result",
          "data": {
            "text/plain": [
              "[0.46887006951942756,\n",
              " 0.39708218637277654,\n",
              " 0.3907012325077948,\n",
              " 0.3704482467029027]"
            ]
          },
          "metadata": {},
          "execution_count": 73
        }
      ],
      "source": [
        "et"
      ]
    },
    {
      "cell_type": "code",
      "execution_count": null,
      "metadata": {
        "colab": {
          "base_uri": "https://localhost:8080/",
          "height": 296
        },
        "id": "E3_91RQUSJ1s",
        "outputId": "5c52076b-1f6c-49e7-f8c1-49438c90d192"
      },
      "outputs": [
        {
          "output_type": "execute_result",
          "data": {
            "text/plain": [
              "<matplotlib.legend.Legend at 0x7f4767ad5490>"
            ]
          },
          "metadata": {},
          "execution_count": 74
        },
        {
          "output_type": "display_data",
          "data": {
            "text/plain": [
              "<Figure size 432x288 with 1 Axes>"
            ],
            "image/png": "[encoded data removed]"
          },
          "metadata": {
            "needs_background": "light"
          }
        }
      ],
      "source": [
        "plt.plot(range(1,5), et, label=\"Training\")\n",
        "plt.plot(range(1,5), ev, label=\"Validation\")\n",
        "plt.xlim([1,4])\n",
        "plt.xlabel(\"poly\")\n",
        "plt.ylabel(\"Cost\")\n",
        "plt.legend()"
      ]
    },
    {
      "cell_type": "markdown",
      "metadata": {
        "id": "SevcEh4oViYX"
      },
      "source": [
        "After increasing polynomial features more than 2 degree model starts to overfit."
      ]
    },
    {
      "cell_type": "markdown",
      "source": [
        "###Cost vs Number of training examples"
      ],
      "metadata": {
        "id": "fCTiLiz3J0L3"
      }
    },
    {
      "cell_type": "code",
      "source": [
        "et=[]\n",
        "ev=[]\n",
        "for i in range(10,2000):\n",
        "  ridge = LogisticRegression(max_iter=100000, penalty=\"l2\", C=0.1);\n",
        "  poly = PolynomialFeatures(2)\n",
        "  X_poly=poly.fit_transform(X_train)\n",
        "  ridge.fit(X_train[:i], y_train[:i])\n",
        "  y_pred=ridge.predict(X_train[:i])\n",
        "  et.append(math.sqrt(mean_squared_error(y_train[:i], y_pred)))\n",
        "  y_pred=ridge.predict(X_valid)\n",
        "  ev.append(math.sqrt(mean_squared_error(y_valid, y_pred)))\n",
        "plt.plot(et, label=\"Training\")\n",
        "plt.plot(ev, label=\"Validation\")\n",
        "plt.xlabel(\"m\")\n",
        "plt.ylabel(\"Cost\")\n",
        "plt.legend()"
      ],
      "metadata": {
        "colab": {
          "base_uri": "https://localhost:8080/",
          "height": 299
        },
        "id": "yfpeNc7q-dVM",
        "outputId": "b92bb017-9756-459a-8d94-4f7962bdf9bc"
      },
      "execution_count": null,
      "outputs": [
        {
          "output_type": "execute_result",
          "data": {
            "text/plain": [
              "<matplotlib.legend.Legend at 0x7f35ed23c990>"
            ]
          },
          "metadata": {},
          "execution_count": 72
        },
        {
          "output_type": "display_data",
          "data": {
            "text/plain": [
              "<Figure size 432x288 with 1 Axes>"
            ],
            "image/png": "[encoded data removed]"
          },
          "metadata": {
            "needs_background": "light"
          }
        }
      ]
    },
    {
      "cell_type": "markdown",
      "metadata": {
        "id": "q-pnwL5ZwOFq"
      },
      "source": [
        "## Perform predictions"
      ]
    },
    {
      "cell_type": "code",
      "source": [
        "from sklearn.metrics import roc_curve, auc\n",
        "from sklearn.metrics import roc_auc_score\n",
        "ridge = LogisticRegression(max_iter=1000, penalty=\"l2\", C=0.1);\n",
        "poly = PolynomialFeatures(2)\n",
        "X_poly=poly.fit_transform(X_train)\n",
        "ridge.fit(X_poly, y_train)"
      ],
      "metadata": {
        "colab": {
          "base_uri": "https://localhost:8080/"
        },
        "id": "TEvctMJe9Mn4",
        "outputId": "6a459138-bc94-443a-aff4-5b3f4f8e26cd"
      },
      "execution_count": 67,
      "outputs": [
        {
          "output_type": "execute_result",
          "data": {
            "text/plain": [
              "LogisticRegression(C=0.1, max_iter=1000)"
            ]
          },
          "metadata": {},
          "execution_count": 67
        }
      ]
    },
    {
      "cell_type": "code",
      "execution_count": 68,
      "metadata": {
        "colab": {
          "base_uri": "https://localhost:8080/",
          "height": 322
        },
        "id": "2Jaq6_5IPhtc",
        "outputId": "e2ed94a5-f761-461b-f009-9a11074a6fe7"
      },
      "outputs": [
        {
          "output_type": "execute_result",
          "data": {
            "text/plain": [
              "  holiday      temp  humidity  windspeed  Total_booking  Book  Hour  Month  \\\n",
              "0       0  0.137844 -0.711300   2.705413            256     1    11      5   \n",
              "1       0  0.452702  0.122222  -0.713370             87     0     7      6   \n",
              "2       0 -1.121588  1.997647   1.850513             11     0    20      3   \n",
              "3       0  0.662607  1.112030  -1.568271             84     0    11     10   \n",
              "4       0  0.662607 -0.971776   1.362115            668     1    12      6   \n",
              "\n",
              "    Clear + Few clouds   Heavy Rain + Thunderstorm    Light Snow, Light Rain  \\\n",
              "0                  1.0                          0.0                      0.0   \n",
              "1                  1.0                          0.0                      0.0   \n",
              "2                  0.0                          0.0                      1.0   \n",
              "3                  0.0                          0.0                      0.0   \n",
              "4                  1.0                          0.0                      0.0   \n",
              "\n",
              "    Mist + Cloudy   Fall  Spring  Summer  Winter  Friday  Monday  Saturday  \\\n",
              "0              0.0   0.0     0.0     1.0     0.0     0.0     0.0       0.0   \n",
              "1              0.0   0.0     0.0     1.0     0.0     0.0     0.0       1.0   \n",
              "2              0.0   0.0     1.0     0.0     0.0     0.0     0.0       0.0   \n",
              "3              1.0   0.0     0.0     0.0     1.0     0.0     0.0       0.0   \n",
              "4              0.0   0.0     0.0     1.0     0.0     0.0     0.0       1.0   \n",
              "\n",
              "   Sunday  Thursday  Tuesday  Wednesday  \n",
              "0     0.0       1.0      0.0        0.0  \n",
              "1     0.0       0.0      0.0        0.0  \n",
              "2     1.0       0.0      0.0        0.0  \n",
              "3     0.0       1.0      0.0        0.0  \n",
              "4     0.0       0.0      0.0        0.0  "
            ],
            "text/html": [
              "\n",
              "  <div id=\"df-c477376e-c226-4762-85aa-feee050dbfed\">\n",
              "    <div class=\"colab-df-container\">\n",
              "      <div>\n",
              "<style scoped>\n",
              "    .dataframe tbody tr th:only-of-type {\n",
              "        vertical-align: middle;\n",
              "    }\n",
              "\n",
              "    .dataframe tbody tr th {\n",
              "        vertical-align: top;\n",
              "    }\n",
              "\n",
              "    .dataframe thead th {\n",
              "        text-align: right;\n",
              "    }\n",
              "</style>\n",
              "<table border=\"1\" class=\"dataframe\">\n",
              "  <thead>\n",
              "    <tr style=\"text-align: right;\">\n",
              "      <th></th>\n",
              "      <th>holiday</th>\n",
              "      <th>temp</th>\n",
              "      <th>humidity</th>\n",
              "      <th>windspeed</th>\n",
              "      <th>Total_booking</th>\n",
              "      <th>Book</th>\n",
              "      <th>Hour</th>\n",
              "      <th>Month</th>\n",
              "      <th>Clear + Few clouds</th>\n",
              "      <th>Heavy Rain + Thunderstorm</th>\n",
              "      <th>Light Snow, Light Rain</th>\n",
              "      <th>Mist + Cloudy</th>\n",
              "      <th>Fall</th>\n",
              "      <th>Spring</th>\n",
              "      <th>Summer</th>\n",
              "      <th>Winter</th>\n",
              "      <th>Friday</th>\n",
              "      <th>Monday</th>\n",
              "      <th>Saturday</th>\n",
              "      <th>Sunday</th>\n",
              "      <th>Thursday</th>\n",
              "      <th>Tuesday</th>\n",
              "      <th>Wednesday</th>\n",
              "    </tr>\n",
              "  </thead>\n",
              "  <tbody>\n",
              "    <tr>\n",
              "      <th>0</th>\n",
              "      <td>0</td>\n",
              "      <td>0.137844</td>\n",
              "      <td>-0.711300</td>\n",
              "      <td>2.705413</td>\n",
              "      <td>256</td>\n",
              "      <td>1</td>\n",
              "      <td>11</td>\n",
              "      <td>5</td>\n",
              "      <td>1.0</td>\n",
              "      <td>0.0</td>\n",
              "      <td>0.0</td>\n",
              "      <td>0.0</td>\n",
              "      <td>0.0</td>\n",
              "      <td>0.0</td>\n",
              "      <td>1.0</td>\n",
              "      <td>0.0</td>\n",
              "      <td>0.0</td>\n",
              "      <td>0.0</td>\n",
              "      <td>0.0</td>\n",
              "      <td>0.0</td>\n",
              "      <td>1.0</td>\n",
              "      <td>0.0</td>\n",
              "      <td>0.0</td>\n",
              "    </tr>\n",
              "    <tr>\n",
              "      <th>1</th>\n",
              "      <td>0</td>\n",
              "      <td>0.452702</td>\n",
              "      <td>0.122222</td>\n",
              "      <td>-0.713370</td>\n",
              "      <td>87</td>\n",
              "      <td>0</td>\n",
              "      <td>7</td>\n",
              "      <td>6</td>\n",
              "      <td>1.0</td>\n",
              "      <td>0.0</td>\n",
              "      <td>0.0</td>\n",
              "      <td>0.0</td>\n",
              "      <td>0.0</td>\n",
              "      <td>0.0</td>\n",
              "      <td>1.0</td>\n",
              "      <td>0.0</td>\n",
              "      <td>0.0</td>\n",
              "      <td>0.0</td>\n",
              "      <td>1.0</td>\n",
              "      <td>0.0</td>\n",
              "      <td>0.0</td>\n",
              "      <td>0.0</td>\n",
              "      <td>0.0</td>\n",
              "    </tr>\n",
              "    <tr>\n",
              "      <th>2</th>\n",
              "      <td>0</td>\n",
              "      <td>-1.121588</td>\n",
              "      <td>1.997647</td>\n",
              "      <td>1.850513</td>\n",
              "      <td>11</td>\n",
              "      <td>0</td>\n",
              "      <td>20</td>\n",
              "      <td>3</td>\n",
              "      <td>0.0</td>\n",
              "      <td>0.0</td>\n",
              "      <td>1.0</td>\n",
              "      <td>0.0</td>\n",
              "      <td>0.0</td>\n",
              "      <td>1.0</td>\n",
              "      <td>0.0</td>\n",
              "      <td>0.0</td>\n",
              "      <td>0.0</td>\n",
              "      <td>0.0</td>\n",
              "      <td>0.0</td>\n",
              "      <td>1.0</td>\n",
              "      <td>0.0</td>\n",
              "      <td>0.0</td>\n",
              "      <td>0.0</td>\n",
              "    </tr>\n",
              "    <tr>\n",
              "      <th>3</th>\n",
              "      <td>0</td>\n",
              "      <td>0.662607</td>\n",
              "      <td>1.112030</td>\n",
              "      <td>-1.568271</td>\n",
              "      <td>84</td>\n",
              "      <td>0</td>\n",
              "      <td>11</td>\n",
              "      <td>10</td>\n",
              "      <td>0.0</td>\n",
              "      <td>0.0</td>\n",
              "      <td>0.0</td>\n",
              "      <td>1.0</td>\n",
              "      <td>0.0</td>\n",
              "      <td>0.0</td>\n",
              "      <td>0.0</td>\n",
              "      <td>1.0</td>\n",
              "      <td>0.0</td>\n",
              "      <td>0.0</td>\n",
              "      <td>0.0</td>\n",
              "      <td>0.0</td>\n",
              "      <td>1.0</td>\n",
              "      <td>0.0</td>\n",
              "      <td>0.0</td>\n",
              "    </tr>\n",
              "    <tr>\n",
              "      <th>4</th>\n",
              "      <td>0</td>\n",
              "      <td>0.662607</td>\n",
              "      <td>-0.971776</td>\n",
              "      <td>1.362115</td>\n",
              "      <td>668</td>\n",
              "      <td>1</td>\n",
              "      <td>12</td>\n",
              "      <td>6</td>\n",
              "      <td>1.0</td>\n",
              "      <td>0.0</td>\n",
              "      <td>0.0</td>\n",
              "      <td>0.0</td>\n",
              "      <td>0.0</td>\n",
              "      <td>0.0</td>\n",
              "      <td>1.0</td>\n",
              "      <td>0.0</td>\n",
              "      <td>0.0</td>\n",
              "      <td>0.0</td>\n",
              "      <td>1.0</td>\n",
              "      <td>0.0</td>\n",
              "      <td>0.0</td>\n",
              "      <td>0.0</td>\n",
              "      <td>0.0</td>\n",
              "    </tr>\n",
              "  </tbody>\n",
              "</table>\n",
              "</div>\n",
              "      <button class=\"colab-df-convert\" onclick=\"convertToInteractive('df-c477376e-c226-4762-85aa-feee050dbfed')\"\n",
              "              title=\"Convert this dataframe to an interactive table.\"\n",
              "              style=\"display:none;\">\n",
              "        \n",
              "  <svg xmlns=\"http://www.w3.org/2000/svg\" height=\"24px\"viewBox=\"0 0 24 24\"\n",
              "       width=\"24px\">\n",
              "    <path d=\"M0 0h24v24H0V0z\" fill=\"none\"/>\n",
              "    <path d=\"M18.56 5.44l.94 2.06.94-2.06 2.06-.94-2.06-.94-.94-2.06-.94 2.06-2.06.94zm-11 1L8.5 8.5l.94-2.06 2.06-.94-2.06-.94L8.5 2.5l-.94 2.06-2.06.94zm10 10l.94 2.06.94-2.06 2.06-.94-2.06-.94-.94-2.06-.94 2.06-2.06.94z\"/><path d=\"M17.41 7.96l-1.37-1.37c-.4-.4-.92-.59-1.43-.59-.52 0-1.04.2-1.43.59L10.3 9.45l-7.72 7.72c-.78.78-.78 2.05 0 2.83L4 21.41c.39.39.9.59 1.41.59.51 0 1.02-.2 1.41-.59l7.78-7.78 2.81-2.81c.8-.78.8-2.07 0-2.86zM5.41 20L4 18.59l7.72-7.72 1.47 1.35L5.41 20z\"/>\n",
              "  </svg>\n",
              "      </button>\n",
              "      \n",
              "  <style>\n",
              "    .colab-df-container {\n",
              "      display:flex;\n",
              "      flex-wrap:wrap;\n",
              "      gap: 12px;\n",
              "    }\n",
              "\n",
              "    .colab-df-convert {\n",
              "      background-color: #E8F0FE;\n",
              "      border: none;\n",
              "      border-radius: 50%;\n",
              "      cursor: pointer;\n",
              "      display: none;\n",
              "      fill: #1967D2;\n",
              "      height: 32px;\n",
              "      padding: 0 0 0 0;\n",
              "      width: 32px;\n",
              "    }\n",
              "\n",
              "    .colab-df-convert:hover {\n",
              "      background-color: #E2EBFA;\n",
              "      box-shadow: 0px 1px 2px rgba(60, 64, 67, 0.3), 0px 1px 3px 1px rgba(60, 64, 67, 0.15);\n",
              "      fill: #174EA6;\n",
              "    }\n",
              "\n",
              "    [theme=dark] .colab-df-convert {\n",
              "      background-color: #3B4455;\n",
              "      fill: #D2E3FC;\n",
              "    }\n",
              "\n",
              "    [theme=dark] .colab-df-convert:hover {\n",
              "      background-color: #434B5C;\n",
              "      box-shadow: 0px 1px 3px 1px rgba(0, 0, 0, 0.15);\n",
              "      filter: drop-shadow(0px 1px 2px rgba(0, 0, 0, 0.3));\n",
              "      fill: #FFFFFF;\n",
              "    }\n",
              "  </style>\n",
              "\n",
              "      <script>\n",
              "        const buttonEl =\n",
              "          document.querySelector('#df-c477376e-c226-4762-85aa-feee050dbfed button.colab-df-convert');\n",
              "        buttonEl.style.display =\n",
              "          google.colab.kernel.accessAllowed ? 'block' : 'none';\n",
              "\n",
              "        async function convertToInteractive(key) {\n",
              "          const element = document.querySelector('#df-c477376e-c226-4762-85aa-feee050dbfed');\n",
              "          const dataTable =\n",
              "            await google.colab.kernel.invokeFunction('convertToInteractive',\n",
              "                                                     [key], {});\n",
              "          if (!dataTable) return;\n",
              "\n",
              "          const docLinkHtml = 'Like what you see? Visit the ' +\n",
              "            '<a target=\"_blank\" href=https://colab.research.google.com/notebooks/data_table.ipynb>data table notebook</a>'\n",
              "            + ' to learn more about interactive tables.';\n",
              "          element.innerHTML = '';\n",
              "          dataTable['output_type'] = 'display_data';\n",
              "          await google.colab.output.renderOutput(dataTable, element);\n",
              "          const docLink = document.createElement('div');\n",
              "          docLink.innerHTML = docLinkHtml;\n",
              "          element.appendChild(docLink);\n",
              "        }\n",
              "      </script>\n",
              "    </div>\n",
              "  </div>\n",
              "  "
            ]
          },
          "metadata": {},
          "execution_count": 68
        }
      ],
      "source": [
        "df_test=df_test.drop([\"Weekday\", \"season\", \"weather\", \"Date\", \"datetime\"], axis=1)\n",
        "df_test.head()"
      ]
    },
    {
      "cell_type": "code",
      "execution_count": 69,
      "metadata": {
        "id": "tqR_NeycQ-R4"
      },
      "outputs": [],
      "source": [
        "X_test=df_test.drop([\"Total_booking\", \"Book\"], axis=1)\n",
        "X_test = pca.transform(X_test)\n",
        "y_test=df_test[\"Book\"]"
      ]
    },
    {
      "cell_type": "code",
      "source": [
        "X_test_poly=poly.transform(X_test)"
      ],
      "metadata": {
        "id": "794a45s64AVE"
      },
      "execution_count": 70,
      "outputs": []
    },
    {
      "cell_type": "code",
      "execution_count": 71,
      "metadata": {
        "colab": {
          "base_uri": "https://localhost:8080/"
        },
        "id": "jALUfwDYwVm3",
        "outputId": "38f7fe7c-ddac-4a35-bed7-0cad94280d56"
      },
      "outputs": [
        {
          "output_type": "execute_result",
          "data": {
            "text/plain": [
              "0.8489439853076217"
            ]
          },
          "metadata": {},
          "execution_count": 71
        }
      ],
      "source": [
        "y_pred=ridge.predict(X_test_poly)\n",
        "accuracy_score(y_test, y_pred)"
      ]
    },
    {
      "cell_type": "code",
      "execution_count": 72,
      "metadata": {
        "colab": {
          "base_uri": "https://localhost:8080/"
        },
        "id": "DwSu885aD8av",
        "outputId": "0b58d535-46a0-46af-e45e-3b5e11d1ad46"
      },
      "outputs": [
        {
          "output_type": "execute_result",
          "data": {
            "text/plain": [
              "{'C': 0.1,\n",
              " 'class_weight': None,\n",
              " 'dual': False,\n",
              " 'fit_intercept': True,\n",
              " 'intercept_scaling': 1,\n",
              " 'l1_ratio': None,\n",
              " 'max_iter': 1000,\n",
              " 'multi_class': 'auto',\n",
              " 'n_jobs': None,\n",
              " 'penalty': 'l2',\n",
              " 'random_state': None,\n",
              " 'solver': 'lbfgs',\n",
              " 'tol': 0.0001,\n",
              " 'verbose': 0,\n",
              " 'warm_start': False}"
            ]
          },
          "metadata": {},
          "execution_count": 72
        }
      ],
      "source": [
        "ridge.get_params()"
      ]
    },
    {
      "cell_type": "code",
      "execution_count": 73,
      "metadata": {
        "colab": {
          "base_uri": "https://localhost:8080/"
        },
        "id": "M1_pIVSJymqe",
        "outputId": "e157d521-e8bf-4b7a-e16d-0e6226bb6842"
      },
      "outputs": [
        {
          "output_type": "stream",
          "name": "stdout",
          "text": [
            "              precision    recall  f1-score   support\n",
            "\n",
            "           0       0.85      0.85      0.85      1084\n",
            "           1       0.85      0.85      0.85      1094\n",
            "\n",
            "    accuracy                           0.85      2178\n",
            "   macro avg       0.85      0.85      0.85      2178\n",
            "weighted avg       0.85      0.85      0.85      2178\n",
            "\n"
          ]
        }
      ],
      "source": [
        "from sklearn.metrics import classification_report, f1_score\n",
        "print(classification_report(y_test, y_pred))"
      ]
    },
    {
      "cell_type": "code",
      "source": [
        "from sklearn.metrics import confusion_matrix\n",
        "print(confusion_matrix(y_test, y_pred))"
      ],
      "metadata": {
        "colab": {
          "base_uri": "https://localhost:8080/"
        },
        "id": "CLWxFEvtNwVl",
        "outputId": "078ca4a0-191e-45cc-d29d-0f210a4b37f6"
      },
      "execution_count": 74,
      "outputs": [
        {
          "output_type": "stream",
          "name": "stdout",
          "text": [
            "[[922 162]\n",
            " [167 927]]\n"
          ]
        }
      ]
    },
    {
      "cell_type": "code",
      "source": [
        "from sklearn.metrics import plot_confusion_matrix\n",
        "plot_confusion_matrix(ridge, X_test_poly, y_test)\n",
        "plt.show()"
      ],
      "metadata": {
        "colab": {
          "base_uri": "https://localhost:8080/",
          "height": 279
        },
        "id": "RjgKUAgAORVk",
        "outputId": "45921644-c2b2-40b0-f27b-1307fd0f1444"
      },
      "execution_count": 77,
      "outputs": [
        {
          "output_type": "display_data",
          "data": {
            "text/plain": [
              "<Figure size 432x288 with 2 Axes>"
            ],
            "image/png": "[encoded data removed]"
          },
          "metadata": {
            "needs_background": "light"
          }
        }
      ]
    },
    {
      "cell_type": "code",
      "execution_count": null,
      "metadata": {
        "colab": {
          "base_uri": "https://localhost:8080/"
        },
        "id": "uPvkXLY2zZXp",
        "outputId": "2881ec88-9ec9-41cb-9248-7288789af3d7"
      },
      "outputs": [
        {
          "output_type": "execute_result",
          "data": {
            "text/plain": [
              "0.8464692482915718"
            ]
          },
          "metadata": {},
          "execution_count": 159
        }
      ],
      "source": [
        "f1_score(y_test, y_pred)"
      ]
    },
    {
      "cell_type": "code",
      "execution_count": null,
      "metadata": {
        "colab": {
          "base_uri": "https://localhost:8080/"
        },
        "id": "COMhUbL9z-UQ",
        "outputId": "a77203b8-3bb8-42d9-92ac-f0bec7f1a17c"
      },
      "outputs": [
        {
          "output_type": "execute_result",
          "data": {
            "text/plain": [
              "337"
            ]
          },
          "metadata": {},
          "execution_count": 160
        }
      ],
      "source": [
        "Error_LR=df_test[y_test!=y_pred]\n",
        "len(Error_LR)"
      ]
    },
    {
      "cell_type": "markdown",
      "metadata": {
        "id": "ABSWN1S7IKxv"
      },
      "source": [
        "##ROC curve"
      ]
    },
    {
      "cell_type": "code",
      "execution_count": null,
      "metadata": {
        "id": "51ydGTxOH9xA"
      },
      "outputs": [],
      "source": [
        "y_pred=ridge.predict(poly.transform(X_valid))"
      ]
    },
    {
      "cell_type": "code",
      "source": [
        "from sklearn import metrics\n",
        "y_pred_proba = ridge.predict_proba(poly.transform(X_valid))[::,1]\n",
        "fpr, tpr, _ = metrics.roc_curve(y_valid,  y_pred_proba)\n",
        "plt.figure(figsize=(12,6))\n",
        "plt.plot(fpr,tpr, label=\"Validation\")\n",
        "y_pred_proba = ridge.predict_proba(poly.transform(X_train))[::,1]\n",
        "fpr, tpr, _ = metrics.roc_curve(y_train,  y_pred_proba)\n",
        "plt.plot(fpr,tpr, label=\"Training\")\n",
        "y_pred_proba = ridge.predict_proba(poly.transform(X_test))[::,1]\n",
        "fpr, tpr, _ = metrics.roc_curve(y_test,  y_pred_proba)\n",
        "plt.plot(fpr,tpr, label=\"Testing\")\n",
        "plt.ylabel('True Positive Rate')\n",
        "plt.xlabel('False Positive Rate')\n",
        "plt.legend()\n",
        "plt.show()"
      ],
      "metadata": {
        "colab": {
          "base_uri": "https://localhost:8080/",
          "height": 388
        },
        "id": "-V0dYwmcsYKQ",
        "outputId": "8af778b1-d37d-48a0-f909-04308f40e0dd"
      },
      "execution_count": 79,
      "outputs": [
        {
          "output_type": "display_data",
          "data": {
            "text/plain": [
              "<Figure size 864x432 with 1 Axes>"
            ],
            "image/png": "[encoded data removed]"
          },
          "metadata": {
            "needs_background": "light"
          }
        }
      ]
    },
    {
      "cell_type": "code",
      "execution_count": null,
      "metadata": {
        "colab": {
          "base_uri": "https://localhost:8080/"
        },
        "id": "Obg-jSHJG-AQ",
        "outputId": "5c9f3af2-99a2-4a68-a323-a9c7bfeaf121"
      },
      "outputs": [
        {
          "output_type": "execute_result",
          "data": {
            "text/plain": [
              "0.8557872819846966"
            ]
          },
          "metadata": {},
          "execution_count": 163
        }
      ],
      "source": [
        "roc_auc_score(y_valid, y_pred)"
      ]
    },
    {
      "cell_type": "code",
      "source": [
        "import math\n",
        "math.sqrt(mean_squared_error(y_valid, y_pred))"
      ],
      "metadata": {
        "colab": {
          "base_uri": "https://localhost:8080/"
        },
        "id": "IBU4tZoKOwtq",
        "outputId": "902f0293-3bf4-4f04-d6eb-a93e6d4c7240"
      },
      "execution_count": null,
      "outputs": [
        {
          "output_type": "execute_result",
          "data": {
            "text/plain": [
              "0.3798069547921974"
            ]
          },
          "metadata": {},
          "execution_count": 164
        }
      ]
    },
    {
      "cell_type": "markdown",
      "source": [
        "##Alternative Model"
      ],
      "metadata": {
        "id": "zv4s9xIVzEqp"
      }
    },
    {
      "cell_type": "markdown",
      "source": [
        "Cost vs C"
      ],
      "metadata": {
        "id": "ZaVpgxjyArie"
      }
    },
    {
      "cell_type": "code",
      "execution_count": null,
      "metadata": {
        "id": "qMK1Mm0ePsWC"
      },
      "outputs": [],
      "source": [
        "et=[]\n",
        "ev=[]\n",
        "for l in np.linspace(0.1,200):\n",
        "  ridge=SVC(kernel= 'rbf', C=l);\n",
        "  ridge.fit(X_train, y_train)\n",
        "  y_pred=ridge.predict(X_train)\n",
        "  et.append(math.sqrt(mean_squared_error(y_train, y_pred)))\n",
        "  y_pred=ridge.predict(X_valid)\n",
        "  ev.append(math.sqrt(mean_squared_error(y_valid, y_pred)))"
      ]
    },
    {
      "cell_type": "code",
      "source": [
        "et[:10]"
      ],
      "metadata": {
        "colab": {
          "base_uri": "https://localhost:8080/"
        },
        "id": "jvauQpw404zL",
        "outputId": "8501369d-2de8-4b81-b395-0083bcaa8e43"
      },
      "execution_count": null,
      "outputs": [
        {
          "output_type": "execute_result",
          "data": {
            "text/plain": [
              "[0.3861718352328115,\n",
              " 0.36383052944399263,\n",
              " 0.361520470981019,\n",
              " 0.358027437653318,\n",
              " 0.35732473346726656,\n",
              " 0.35732473346726656,\n",
              " 0.3566206446383967,\n",
              " 0.3566206446383967,\n",
              " 0.3547362423105075,\n",
              " 0.35426357555518945]"
            ]
          },
          "metadata": {},
          "execution_count": 152
        }
      ]
    },
    {
      "cell_type": "code",
      "execution_count": null,
      "metadata": {
        "colab": {
          "base_uri": "https://localhost:8080/",
          "height": 299
        },
        "id": "TmKRw_2AP2DE",
        "outputId": "69d40d70-845a-45e9-f2ce-58be24408975"
      },
      "outputs": [
        {
          "output_type": "execute_result",
          "data": {
            "text/plain": [
              "<matplotlib.legend.Legend at 0x7f04e016e950>"
            ]
          },
          "metadata": {},
          "execution_count": 153
        },
        {
          "output_type": "display_data",
          "data": {
            "text/plain": [
              "<Figure size 432x288 with 1 Axes>"
            ],
            "image/png": "[encoded data removed]"
          },
          "metadata": {
            "needs_background": "light"
          }
        }
      ],
      "source": [
        "plt.plot( np.linspace(0.1,200), et, label=\"Training\")\n",
        "plt.plot( np.linspace(0.1,200), ev, label=\"Validation\")\n",
        "plt.xlabel(\"C\")\n",
        "plt.ylabel(\"Cost\")\n",
        "plt.legend()"
      ]
    },
    {
      "cell_type": "markdown",
      "source": [
        "Cost vs Number of training examples"
      ],
      "metadata": {
        "id": "tsS4tHwLA480"
      }
    },
    {
      "cell_type": "code",
      "execution_count": null,
      "metadata": {
        "id": "wcOhkm5KSqpE"
      },
      "outputs": [],
      "source": [
        "et=[]\n",
        "ev=[]\n",
        "for i in range(10,len(X_train)-5000):\n",
        "  ridge=SVC();\n",
        "  ridge.fit(X_train[:i], y_train[:i])\n",
        "  y_pred=ridge.predict(X_train[:i])\n",
        "  et.append(math.sqrt(mean_squared_error(y_train[:i], y_pred)))\n",
        "  y_pred=ridge.predict(X_valid)\n",
        "  ev.append(math.sqrt(mean_squared_error(y_valid, y_pred)))"
      ]
    },
    {
      "cell_type": "code",
      "execution_count": null,
      "metadata": {
        "colab": {
          "base_uri": "https://localhost:8080/",
          "height": 296
        },
        "id": "xMFVGizaSrkB",
        "outputId": "f149abd6-991c-4649-87ed-5e660d7bde7b"
      },
      "outputs": [
        {
          "output_type": "execute_result",
          "data": {
            "text/plain": [
              "<matplotlib.legend.Legend at 0x7f47674ff7d0>"
            ]
          },
          "metadata": {},
          "execution_count": 111
        },
        {
          "output_type": "display_data",
          "data": {
            "text/plain": [
              "<Figure size 432x288 with 1 Axes>"
            ],
            "image/png": "[encoded data removed]"
          },
          "metadata": {
            "needs_background": "light"
          }
        }
      ],
      "source": [
        "plt.plot(et[:], label=\"Training\")\n",
        "plt.plot(ev[:], label=\"Validation\")\n",
        "plt.xlabel(\"m\")\n",
        "plt.ylabel(\"Cost\")\n",
        "plt.legend()"
      ]
    },
    {
      "cell_type": "markdown",
      "source": [
        "Cost vs polynomial features"
      ],
      "metadata": {
        "id": "GSc_3uuxBANK"
      }
    },
    {
      "cell_type": "code",
      "source": [
        "from sklearn.preprocessing import PolynomialFeatures\n",
        "et=[]\n",
        "ev=[]\n",
        "for i in range(1,7):\n",
        "  sv = SVC(C= 200, kernel= 'rbf');\n",
        "  poly = PolynomialFeatures(i)\n",
        "  X_poly=poly.fit_transform(X_train)\n",
        "  sv.fit(X_poly, y_train)\n",
        "  y_pred=sv.predict(X_poly)\n",
        "  et.append(math.sqrt(mean_squared_error(y_train, y_pred)))\n",
        "  y_pred=sv.predict(poly.transform(X_valid))\n",
        "  ev.append(math.sqrt(mean_squared_error(y_valid, y_pred)))\n",
        "plt.plot(range(1,7), et, label=\"Training\")\n",
        "plt.plot(range(1,7), ev, label=\"Validation\")\n",
        "plt.xlim([1,6])\n",
        "plt.xlabel(\"poly\")\n",
        "plt.ylabel(\"Cost\")\n",
        "plt.legend()"
      ],
      "metadata": {
        "colab": {
          "base_uri": "https://localhost:8080/",
          "height": 296
        },
        "id": "G3zPStC8DhqH",
        "outputId": "2906b8ab-d3b1-4bed-cc3d-1aba4c258f54"
      },
      "execution_count": null,
      "outputs": [
        {
          "output_type": "execute_result",
          "data": {
            "text/plain": [
              "<matplotlib.legend.Legend at 0x7f4766890a90>"
            ]
          },
          "metadata": {},
          "execution_count": 118
        },
        {
          "output_type": "display_data",
          "data": {
            "text/plain": [
              "<Figure size 432x288 with 1 Axes>"
            ],
            "image/png": "[encoded data removed]"
          },
          "metadata": {
            "needs_background": "light"
          }
        }
      ]
    },
    {
      "cell_type": "markdown",
      "source": [
        "ROC Curve"
      ],
      "metadata": {
        "id": "TiE7LhOLBzNR"
      }
    },
    {
      "cell_type": "code",
      "source": [
        "from sklearn.metrics import roc_curve, auc\n",
        "from sklearn.metrics import roc_auc_score\n",
        "sv = SVC(C= 200, kernel= 'rbf', probability=True);\n",
        "sv.fit(X_train, y_train)\n",
        "y_pred=sv.predict(X_valid)\n",
        "y_pred_proba = sv.predict_proba(X_valid)[::,1]\n",
        "fpr, tpr, _ = metrics.roc_curve(y_valid,  y_pred_proba)\n",
        "plt.figure(figsize=(12,6))\n",
        "plt.plot(fpr,tpr, label=\"Validation_SVC\")\n",
        "y_pred_proba = sv.predict_proba(X_train)[::,1]\n",
        "fpr, tpr, _ = metrics.roc_curve(y_train,  y_pred_proba)\n",
        "plt.plot(fpr,tpr, label=\"Training_SVC\")\n",
        "y_pred_proba = sv.predict_proba(X_test)[::,1]\n",
        "fpr, tpr, _ = metrics.roc_curve(y_test,  y_pred_proba)\n",
        "plt.plot(fpr,tpr, label=\"Testing_SVC\")\n",
        "plt.ylabel('True Positive Rate')\n",
        "plt.xlabel('False Positive Rate')\n",
        "plt.legend()\n",
        "plt.show()"
      ],
      "metadata": {
        "colab": {
          "base_uri": "https://localhost:8080/",
          "height": 388
        },
        "id": "-YsSbdWBBDLB",
        "outputId": "04ada6dd-cb11-4941-e58a-655a3374905a"
      },
      "execution_count": 80,
      "outputs": [
        {
          "output_type": "display_data",
          "data": {
            "text/plain": [
              "<Figure size 864x432 with 1 Axes>"
            ],
            "image/png": "[encoded data removed]"
          },
          "metadata": {
            "needs_background": "light"
          }
        }
      ]
    },
    {
      "cell_type": "code",
      "source": [
        "y_pred_proba = sv.predict_proba(X_valid)[::,1]\n",
        "fpr, tpr, _ = metrics.roc_curve(y_valid,  y_pred_proba)\n",
        "plt.figure(figsize=(16,8))\n",
        "plt.plot(fpr,tpr, label=\"Validation_SVC\")\n",
        "y_pred_proba = sv.predict_proba(X_train)[::,1]\n",
        "fpr, tpr, _ = metrics.roc_curve(y_train,  y_pred_proba)\n",
        "plt.plot(fpr,tpr, label=\"Training_SVC\")\n",
        "y_pred_proba = sv.predict_proba(X_test)[::,1]\n",
        "fpr, tpr, _ = metrics.roc_curve(y_test,  y_pred_proba)\n",
        "plt.plot(fpr,tpr, label=\"Testing_SVC\")\n",
        "y_pred_proba = ridge.predict_proba(poly.transform(X_valid))[::,1]\n",
        "fpr, tpr, _ = metrics.roc_curve(y_valid,  y_pred_proba)\n",
        "plt.plot(fpr,tpr, label=\"Validation_LR\")\n",
        "y_pred_proba = ridge.predict_proba(poly.transform(X_train))[::,1]\n",
        "fpr, tpr, _ = metrics.roc_curve(y_train,  y_pred_proba)\n",
        "plt.plot(fpr,tpr, label=\"Training_LR\")\n",
        "y_pred_proba = ridge.predict_proba(poly.transform(X_test))[::,1]\n",
        "fpr, tpr, _ = metrics.roc_curve(y_test,  y_pred_proba)\n",
        "plt.plot(fpr,tpr, label=\"Testing_LR\")\n",
        "plt.ylabel('True Positive Rate')\n",
        "plt.xlabel('False Positive Rate')\n",
        "plt.legend()\n",
        "plt.show()"
      ],
      "metadata": {
        "colab": {
          "base_uri": "https://localhost:8080/",
          "height": 497
        },
        "id": "TCpTjUbJBIhD",
        "outputId": "68924f2b-a5b5-4e93-ae6c-ecdd10068ada"
      },
      "execution_count": null,
      "outputs": [
        {
          "output_type": "display_data",
          "data": {
            "text/plain": [
              "<Figure size 1152x576 with 1 Axes>"
            ],
            "image/png": "[encoded data removed]"
          },
          "metadata": {
            "needs_background": "light"
          }
        }
      ]
    },
    {
      "cell_type": "code",
      "execution_count": null,
      "metadata": {
        "colab": {
          "base_uri": "https://localhost:8080/"
        },
        "id": "65jZOOjRUgsA",
        "outputId": "89cd005b-d311-4cfd-956e-d467f40615da"
      },
      "outputs": [
        {
          "output_type": "execute_result",
          "data": {
            "text/plain": [
              "0.8874631152125793"
            ]
          },
          "metadata": {},
          "execution_count": 166
        }
      ],
      "source": [
        "roc_auc_score(y_valid, y_pred)"
      ]
    },
    {
      "cell_type": "code",
      "source": [
        "math.sqrt(mean_squared_error(y_valid, y_pred))"
      ],
      "metadata": {
        "id": "-HkFa83vUqbX",
        "outputId": "9b332299-363b-449e-d55c-6883384ebd5e",
        "colab": {
          "base_uri": "https://localhost:8080/"
        }
      },
      "execution_count": null,
      "outputs": [
        {
          "output_type": "execute_result",
          "data": {
            "text/plain": [
              "0.33554129305234087"
            ]
          },
          "metadata": {},
          "execution_count": 167
        }
      ]
    },
    {
      "cell_type": "markdown",
      "metadata": {
        "id": "Zr222uHhNdFJ"
      },
      "source": [
        "##Error\n"
      ]
    },
    {
      "cell_type": "code",
      "execution_count": 81,
      "metadata": {
        "colab": {
          "base_uri": "https://localhost:8080/"
        },
        "id": "MBv55es4BwST",
        "outputId": "1061d639-760f-4872-b5fa-197c9a0d0403"
      },
      "outputs": [
        {
          "output_type": "execute_result",
          "data": {
            "text/plain": [
              "0.8737918656774851"
            ]
          },
          "metadata": {},
          "execution_count": 81
        }
      ],
      "source": [
        "model_svc = SVC(C= 200, kernel= 'rbf');\n",
        "model_svc.fit(X_train, y_train)\n",
        "y_pred=model_svc.predict(X_valid)\n",
        "roc_auc_score(y_valid, y_pred)"
      ]
    },
    {
      "cell_type": "code",
      "source": [
        "import math\n",
        "math.sqrt(mean_squared_error(y_valid, y_pred))"
      ],
      "metadata": {
        "colab": {
          "base_uri": "https://localhost:8080/"
        },
        "id": "Wj5aoLUc0W8R",
        "outputId": "03a523f7-3b4b-4581-fb02-40077b09df79"
      },
      "execution_count": 83,
      "outputs": [
        {
          "output_type": "execute_result",
          "data": {
            "text/plain": [
              "0.35424379037321574"
            ]
          },
          "metadata": {},
          "execution_count": 83
        }
      ]
    },
    {
      "cell_type": "code",
      "execution_count": 84,
      "metadata": {
        "colab": {
          "base_uri": "https://localhost:8080/"
        },
        "id": "rR_6-yY30eT7",
        "outputId": "546a043e-9c17-4fb0-f939-ed458002f90b"
      },
      "outputs": [
        {
          "output_type": "execute_result",
          "data": {
            "text/plain": [
              "0.8623024830699774"
            ]
          },
          "metadata": {},
          "execution_count": 84
        }
      ],
      "source": [
        "y_pred=sv.predict(X_test)\n",
        "f1_score(y_test, y_pred)"
      ]
    },
    {
      "cell_type": "code",
      "source": [
        "from sklearn.metrics import classification_report, f1_score\n",
        "print(classification_report(y_test, y_pred))"
      ],
      "metadata": {
        "colab": {
          "base_uri": "https://localhost:8080/"
        },
        "id": "FnYsjBFSE0K2",
        "outputId": "e7efa385-c3c7-4fe0-e568-46304fc00058"
      },
      "execution_count": 85,
      "outputs": [
        {
          "output_type": "stream",
          "name": "stdout",
          "text": [
            "              precision    recall  f1-score   support\n",
            "\n",
            "           0       0.87      0.85      0.86      1084\n",
            "           1       0.85      0.87      0.86      1094\n",
            "\n",
            "    accuracy                           0.86      2178\n",
            "   macro avg       0.86      0.86      0.86      2178\n",
            "weighted avg       0.86      0.86      0.86      2178\n",
            "\n"
          ]
        }
      ]
    },
    {
      "cell_type": "code",
      "source": [
        "plot_confusion_matrix(sv, X_test, y_test)\n",
        "plt.show()"
      ],
      "metadata": {
        "colab": {
          "base_uri": "https://localhost:8080/",
          "height": 279
        },
        "id": "dEfa54wRTjwH",
        "outputId": "1de41d9d-a815-4cb0-a110-29deeab415df"
      },
      "execution_count": 88,
      "outputs": [
        {
          "output_type": "display_data",
          "data": {
            "text/plain": [
              "<Figure size 432x288 with 2 Axes>"
            ],
            "image/png": "[encoded data removed]"
          },
          "metadata": {
            "needs_background": "light"
          }
        }
      ]
    },
    {
      "cell_type": "code",
      "source": [
        "f1_score(y_test, y_pred)"
      ],
      "metadata": {
        "colab": {
          "base_uri": "https://localhost:8080/"
        },
        "id": "hJsiANoNE61r",
        "outputId": "58d27973-9796-4efa-c2b1-7d409643249a"
      },
      "execution_count": null,
      "outputs": [
        {
          "output_type": "execute_result",
          "data": {
            "text/plain": [
              "0.8610987047789191"
            ]
          },
          "metadata": {},
          "execution_count": 191
        }
      ]
    },
    {
      "cell_type": "code",
      "execution_count": null,
      "metadata": {
        "colab": {
          "base_uri": "https://localhost:8080/"
        },
        "id": "WY0v2pwO0Xzk",
        "outputId": "217e857e-28fb-4221-b147-98f957fef05f"
      },
      "outputs": [
        {
          "output_type": "execute_result",
          "data": {
            "text/plain": [
              "311"
            ]
          },
          "metadata": {},
          "execution_count": 230
        }
      ],
      "source": [
        "Error_SVC=df_test[y_test!=y_pred]\n",
        "len(Error_SVC)"
      ]
    },
    {
      "cell_type": "code",
      "source": [
        "inter=pd.merge(Error_LR, Error_SVC, how ='inner')\n",
        "inter.head()"
      ],
      "metadata": {
        "colab": {
          "base_uri": "https://localhost:8080/",
          "height": 322
        },
        "id": "gCX3AuJwmtHC",
        "outputId": "d386958a-3fdf-4a28-e634-0550a7f091c1"
      },
      "execution_count": null,
      "outputs": [
        {
          "output_type": "execute_result",
          "data": {
            "text/plain": [
              "  holiday      temp  humidity  windspeed  Total_booking  Book  Hour  Month  \\\n",
              "0       0  0.446786  0.104941  -0.713037             87     0     7      6   \n",
              "1       0  0.656768  1.104685  -1.647701             84     0    11     10   \n",
              "2       0 -1.338066 -1.420984   1.289558            167     1    18      3   \n",
              "3       1  0.866751  1.420394  -0.713037            114     0    17      9   \n",
              "4       0  0.866751 -0.421240   0.354895            119     0     8      8   \n",
              "\n",
              "    Clear + Few clouds   Heavy Rain + Thunderstorm    Light Snow, Light Rain  \\\n",
              "0                  1.0                          0.0                      0.0   \n",
              "1                  0.0                          0.0                      0.0   \n",
              "2                  1.0                          0.0                      0.0   \n",
              "3                  0.0                          0.0                      0.0   \n",
              "4                  1.0                          0.0                      0.0   \n",
              "\n",
              "    Mist + Cloudy   Fall  Spring  Summer  Winter  Friday  Monday  Saturday  \\\n",
              "0              0.0   0.0     0.0     1.0     0.0     0.0     0.0       1.0   \n",
              "1              1.0   0.0     0.0     0.0     1.0     0.0     0.0       0.0   \n",
              "2              0.0   0.0     1.0     0.0     0.0     0.0     0.0       0.0   \n",
              "3              1.0   1.0     0.0     0.0     0.0     0.0     1.0       0.0   \n",
              "4              0.0   1.0     0.0     0.0     0.0     0.0     0.0       0.0   \n",
              "\n",
              "   Sunday  Thursday  Tuesday  Wednesday  \n",
              "0     0.0       0.0      0.0        0.0  \n",
              "1     0.0       1.0      0.0        0.0  \n",
              "2     0.0       1.0      0.0        0.0  \n",
              "3     0.0       0.0      0.0        0.0  \n",
              "4     1.0       0.0      0.0        0.0  "
            ],
            "text/html": [
              "\n",
              "  <div id=\"df-8701fc47-d6a8-4754-89fa-f928dcc88ed9\">\n",
              "    <div class=\"colab-df-container\">\n",
              "      <div>\n",
              "<style scoped>\n",
              "    .dataframe tbody tr th:only-of-type {\n",
              "        vertical-align: middle;\n",
              "    }\n",
              "\n",
              "    .dataframe tbody tr th {\n",
              "        vertical-align: top;\n",
              "    }\n",
              "\n",
              "    .dataframe thead th {\n",
              "        text-align: right;\n",
              "    }\n",
              "</style>\n",
              "<table border=\"1\" class=\"dataframe\">\n",
              "  <thead>\n",
              "    <tr style=\"text-align: right;\">\n",
              "      <th></th>\n",
              "      <th>holiday</th>\n",
              "      <th>temp</th>\n",
              "      <th>humidity</th>\n",
              "      <th>windspeed</th>\n",
              "      <th>Total_booking</th>\n",
              "      <th>Book</th>\n",
              "      <th>Hour</th>\n",
              "      <th>Month</th>\n",
              "      <th>Clear + Few clouds</th>\n",
              "      <th>Heavy Rain + Thunderstorm</th>\n",
              "      <th>Light Snow, Light Rain</th>\n",
              "      <th>Mist + Cloudy</th>\n",
              "      <th>Fall</th>\n",
              "      <th>Spring</th>\n",
              "      <th>Summer</th>\n",
              "      <th>Winter</th>\n",
              "      <th>Friday</th>\n",
              "      <th>Monday</th>\n",
              "      <th>Saturday</th>\n",
              "      <th>Sunday</th>\n",
              "      <th>Thursday</th>\n",
              "      <th>Tuesday</th>\n",
              "      <th>Wednesday</th>\n",
              "    </tr>\n",
              "  </thead>\n",
              "  <tbody>\n",
              "    <tr>\n",
              "      <th>0</th>\n",
              "      <td>0</td>\n",
              "      <td>0.446786</td>\n",
              "      <td>0.104941</td>\n",
              "      <td>-0.713037</td>\n",
              "      <td>87</td>\n",
              "      <td>0</td>\n",
              "      <td>7</td>\n",
              "      <td>6</td>\n",
              "      <td>1.0</td>\n",
              "      <td>0.0</td>\n",
              "      <td>0.0</td>\n",
              "      <td>0.0</td>\n",
              "      <td>0.0</td>\n",
              "      <td>0.0</td>\n",
              "      <td>1.0</td>\n",
              "      <td>0.0</td>\n",
              "      <td>0.0</td>\n",
              "      <td>0.0</td>\n",
              "      <td>1.0</td>\n",
              "      <td>0.0</td>\n",
              "      <td>0.0</td>\n",
              "      <td>0.0</td>\n",
              "      <td>0.0</td>\n",
              "    </tr>\n",
              "    <tr>\n",
              "      <th>1</th>\n",
              "      <td>0</td>\n",
              "      <td>0.656768</td>\n",
              "      <td>1.104685</td>\n",
              "      <td>-1.647701</td>\n",
              "      <td>84</td>\n",
              "      <td>0</td>\n",
              "      <td>11</td>\n",
              "      <td>10</td>\n",
              "      <td>0.0</td>\n",
              "      <td>0.0</td>\n",
              "      <td>0.0</td>\n",
              "      <td>1.0</td>\n",
              "      <td>0.0</td>\n",
              "      <td>0.0</td>\n",
              "      <td>0.0</td>\n",
              "      <td>1.0</td>\n",
              "      <td>0.0</td>\n",
              "      <td>0.0</td>\n",
              "      <td>0.0</td>\n",
              "      <td>0.0</td>\n",
              "      <td>1.0</td>\n",
              "      <td>0.0</td>\n",
              "      <td>0.0</td>\n",
              "    </tr>\n",
              "    <tr>\n",
              "      <th>2</th>\n",
              "      <td>0</td>\n",
              "      <td>-1.338066</td>\n",
              "      <td>-1.420984</td>\n",
              "      <td>1.289558</td>\n",
              "      <td>167</td>\n",
              "      <td>1</td>\n",
              "      <td>18</td>\n",
              "      <td>3</td>\n",
              "      <td>1.0</td>\n",
              "      <td>0.0</td>\n",
              "      <td>0.0</td>\n",
              "      <td>0.0</td>\n",
              "      <td>0.0</td>\n",
              "      <td>1.0</td>\n",
              "      <td>0.0</td>\n",
              "      <td>0.0</td>\n",
              "      <td>0.0</td>\n",
              "      <td>0.0</td>\n",
              "      <td>0.0</td>\n",
              "      <td>0.0</td>\n",
              "      <td>1.0</td>\n",
              "      <td>0.0</td>\n",
              "      <td>0.0</td>\n",
              "    </tr>\n",
              "    <tr>\n",
              "      <th>3</th>\n",
              "      <td>1</td>\n",
              "      <td>0.866751</td>\n",
              "      <td>1.420394</td>\n",
              "      <td>-0.713037</td>\n",
              "      <td>114</td>\n",
              "      <td>0</td>\n",
              "      <td>17</td>\n",
              "      <td>9</td>\n",
              "      <td>0.0</td>\n",
              "      <td>0.0</td>\n",
              "      <td>0.0</td>\n",
              "      <td>1.0</td>\n",
              "      <td>1.0</td>\n",
              "      <td>0.0</td>\n",
              "      <td>0.0</td>\n",
              "      <td>0.0</td>\n",
              "      <td>0.0</td>\n",
              "      <td>1.0</td>\n",
              "      <td>0.0</td>\n",
              "      <td>0.0</td>\n",
              "      <td>0.0</td>\n",
              "      <td>0.0</td>\n",
              "      <td>0.0</td>\n",
              "    </tr>\n",
              "    <tr>\n",
              "      <th>4</th>\n",
              "      <td>0</td>\n",
              "      <td>0.866751</td>\n",
              "      <td>-0.421240</td>\n",
              "      <td>0.354895</td>\n",
              "      <td>119</td>\n",
              "      <td>0</td>\n",
              "      <td>8</td>\n",
              "      <td>8</td>\n",
              "      <td>1.0</td>\n",
              "      <td>0.0</td>\n",
              "      <td>0.0</td>\n",
              "      <td>0.0</td>\n",
              "      <td>1.0</td>\n",
              "      <td>0.0</td>\n",
              "      <td>0.0</td>\n",
              "      <td>0.0</td>\n",
              "      <td>0.0</td>\n",
              "      <td>0.0</td>\n",
              "      <td>0.0</td>\n",
              "      <td>1.0</td>\n",
              "      <td>0.0</td>\n",
              "      <td>0.0</td>\n",
              "      <td>0.0</td>\n",
              "    </tr>\n",
              "  </tbody>\n",
              "</table>\n",
              "</div>\n",
              "      <button class=\"colab-df-convert\" onclick=\"convertToInteractive('df-8701fc47-d6a8-4754-89fa-f928dcc88ed9')\"\n",
              "              title=\"Convert this dataframe to an interactive table.\"\n",
              "              style=\"display:none;\">\n",
              "        \n",
              "  <svg xmlns=\"http://www.w3.org/2000/svg\" height=\"24px\"viewBox=\"0 0 24 24\"\n",
              "       width=\"24px\">\n",
              "    <path d=\"M0 0h24v24H0V0z\" fill=\"none\"/>\n",
              "    <path d=\"M18.56 5.44l.94 2.06.94-2.06 2.06-.94-2.06-.94-.94-2.06-.94 2.06-2.06.94zm-11 1L8.5 8.5l.94-2.06 2.06-.94-2.06-.94L8.5 2.5l-.94 2.06-2.06.94zm10 10l.94 2.06.94-2.06 2.06-.94-2.06-.94-.94-2.06-.94 2.06-2.06.94z\"/><path d=\"M17.41 7.96l-1.37-1.37c-.4-.4-.92-.59-1.43-.59-.52 0-1.04.2-1.43.59L10.3 9.45l-7.72 7.72c-.78.78-.78 2.05 0 2.83L4 21.41c.39.39.9.59 1.41.59.51 0 1.02-.2 1.41-.59l7.78-7.78 2.81-2.81c.8-.78.8-2.07 0-2.86zM5.41 20L4 18.59l7.72-7.72 1.47 1.35L5.41 20z\"/>\n",
              "  </svg>\n",
              "      </button>\n",
              "      \n",
              "  <style>\n",
              "    .colab-df-container {\n",
              "      display:flex;\n",
              "      flex-wrap:wrap;\n",
              "      gap: 12px;\n",
              "    }\n",
              "\n",
              "    .colab-df-convert {\n",
              "      background-color: #E8F0FE;\n",
              "      border: none;\n",
              "      border-radius: 50%;\n",
              "      cursor: pointer;\n",
              "      display: none;\n",
              "      fill: #1967D2;\n",
              "      height: 32px;\n",
              "      padding: 0 0 0 0;\n",
              "      width: 32px;\n",
              "    }\n",
              "\n",
              "    .colab-df-convert:hover {\n",
              "      background-color: #E2EBFA;\n",
              "      box-shadow: 0px 1px 2px rgba(60, 64, 67, 0.3), 0px 1px 3px 1px rgba(60, 64, 67, 0.15);\n",
              "      fill: #174EA6;\n",
              "    }\n",
              "\n",
              "    [theme=dark] .colab-df-convert {\n",
              "      background-color: #3B4455;\n",
              "      fill: #D2E3FC;\n",
              "    }\n",
              "\n",
              "    [theme=dark] .colab-df-convert:hover {\n",
              "      background-color: #434B5C;\n",
              "      box-shadow: 0px 1px 3px 1px rgba(0, 0, 0, 0.15);\n",
              "      filter: drop-shadow(0px 1px 2px rgba(0, 0, 0, 0.3));\n",
              "      fill: #FFFFFF;\n",
              "    }\n",
              "  </style>\n",
              "\n",
              "      <script>\n",
              "        const buttonEl =\n",
              "          document.querySelector('#df-8701fc47-d6a8-4754-89fa-f928dcc88ed9 button.colab-df-convert');\n",
              "        buttonEl.style.display =\n",
              "          google.colab.kernel.accessAllowed ? 'block' : 'none';\n",
              "\n",
              "        async function convertToInteractive(key) {\n",
              "          const element = document.querySelector('#df-8701fc47-d6a8-4754-89fa-f928dcc88ed9');\n",
              "          const dataTable =\n",
              "            await google.colab.kernel.invokeFunction('convertToInteractive',\n",
              "                                                     [key], {});\n",
              "          if (!dataTable) return;\n",
              "\n",
              "          const docLinkHtml = 'Like what you see? Visit the ' +\n",
              "            '<a target=\"_blank\" href=https://colab.research.google.com/notebooks/data_table.ipynb>data table notebook</a>'\n",
              "            + ' to learn more about interactive tables.';\n",
              "          element.innerHTML = '';\n",
              "          dataTable['output_type'] = 'display_data';\n",
              "          await google.colab.output.renderOutput(dataTable, element);\n",
              "          const docLink = document.createElement('div');\n",
              "          docLink.innerHTML = docLinkHtml;\n",
              "          element.appendChild(docLink);\n",
              "        }\n",
              "      </script>\n",
              "    </div>\n",
              "  </div>\n",
              "  "
            ]
          },
          "metadata": {},
          "execution_count": 244
        }
      ]
    },
    {
      "cell_type": "code",
      "execution_count": null,
      "metadata": {
        "colab": {
          "base_uri": "https://localhost:8080/",
          "height": 252
        },
        "id": "73afD2Ra0741",
        "outputId": "5040e2cf-8201-45c4-d471-5133be0fe5fd"
      },
      "outputs": [
        {
          "output_type": "display_data",
          "data": {
            "text/plain": [
              "<Figure size 432x288 with 1 Axes>"
            ],
            "image/png": "[encoded data removed]"
          },
          "metadata": {}
        }
      ],
      "source": [
        "from matplotlib_venn import venn2\n",
        "\n",
        "# Use the venn2 function\n",
        "venn2(subsets = (len(Error_LR)-len(inter), len(Error_SVC)-len(inter), len(inter)), set_labels = ('LR', 'SVC'))\n",
        "plt.show()"
      ]
    },
    {
      "cell_type": "code",
      "execution_count": null,
      "metadata": {
        "colab": {
          "base_uri": "https://localhost:8080/"
        },
        "id": "ZHosaPxGOQPe",
        "outputId": "d0c1aef1-8621-438a-b963-37825d61043c"
      },
      "outputs": [
        {
          "output_type": "execute_result",
          "data": {
            "text/plain": [
              "{'C': 200, 'kernel': 'rbf'}"
            ]
          },
          "metadata": {},
          "execution_count": 99
        }
      ],
      "source": [
        "p = { \n",
        "    'C': [50, 200, 0.1, 1, 10],\n",
        "    'kernel': ['linear', 'poly', 'rbf', 'sigmoid'],\n",
        "    #'max_iter' : [1000,10000],\n",
        "}\n",
        "g_cv=GridSearchCV(estimator=SVC(), param_grid=p, cv=5)\n",
        "g_cv.fit(X_train, y_train)\n",
        "g_cv.best_params_"
      ]
    },
    {
      "cell_type": "code",
      "execution_count": null,
      "metadata": {
        "colab": {
          "base_uri": "https://localhost:8080/"
        },
        "id": "z3r48SeJPAJR",
        "outputId": "b59dc628-ebaf-42ea-e9cf-36212a055045"
      },
      "outputs": [
        {
          "output_type": "execute_result",
          "data": {
            "text/plain": [
              "dict_keys(['C', 'break_ties', 'cache_size', 'class_weight', 'coef0', 'decision_function_shape', 'degree', 'gamma', 'kernel', 'max_iter', 'probability', 'random_state', 'shrinking', 'tol', 'verbose'])"
            ]
          },
          "metadata": {},
          "execution_count": 100
        }
      ],
      "source": [
        "SVC().get_params().keys()"
      ]
    },
    {
      "cell_type": "markdown",
      "metadata": {
        "id": "5H_asavb9sbo"
      },
      "source": [
        "## Other Models"
      ]
    },
    {
      "cell_type": "code",
      "execution_count": null,
      "metadata": {
        "colab": {
          "base_uri": "https://localhost:8080/"
        },
        "id": "CFCuGgsGwiqF",
        "outputId": "d0de75d3-ae14-4e08-c998-b5412884ddcb"
      },
      "outputs": [
        {
          "output_type": "execute_result",
          "data": {
            "text/plain": [
              "0.364040    RandomForestClassifier\n",
              "0.363503                       SVC\n",
              "0.384919      KNeighborsClassifier\n",
              "0.471220        LogisticRegression\n",
              "dtype: object"
            ]
          },
          "metadata": {},
          "execution_count": 248
        }
      ],
      "source": [
        "models=[RandomForestClassifier(),\n",
        "        SVC(C= 200, kernel= 'rbf'),\n",
        "        KNeighborsClassifier(),\n",
        "        LogisticRegression(max_iter=1000, penalty=\"l2\", C=50)]\n",
        "rme=[]\n",
        "name=[]\n",
        "for m in models:\n",
        "  name.append(m.__class__.__name__)\n",
        "  m.fit(X_train, y_train)\n",
        "  y_pred=m.predict(X_valid)\n",
        "  rme.append(math.sqrt(mean_squared_error(y_valid, y_pred)))\n",
        "s=pd.Series(name,rme)\n",
        "s"
      ]
    },
    {
      "cell_type": "code",
      "execution_count": null,
      "metadata": {
        "colab": {
          "base_uri": "https://localhost:8080/",
          "height": 362
        },
        "id": "ZdVTRpY19zxA",
        "outputId": "95f1a517-035c-4b6a-b6f0-dca009a92eb5"
      },
      "outputs": [
        {
          "output_type": "display_data",
          "data": {
            "text/plain": [
              "<Figure size 432x288 with 1 Axes>"
            ],
            "image/png": "[encoded data removed]"
          },
          "metadata": {
            "needs_background": "light"
          }
        }
      ],
      "source": [
        "sns.barplot(x=s.values, y=s.index)\n",
        "plt.xticks(rotation=60)\n",
        "plt.show()"
      ]
    },
    {
      "cell_type": "markdown",
      "source": [
        "## Prediction"
      ],
      "metadata": {
        "id": "ymBGJ_hUAX-5"
      }
    },
    {
      "cell_type": "code",
      "source": [
        "model=SVC(C= 200, kernel= 'rbf')\n",
        "model.fit(X_train, y_train)\n",
        "y_pred=model.predict(X_test)\n",
        "accuracy_score(y_test, y_pred)"
      ],
      "metadata": {
        "colab": {
          "base_uri": "https://localhost:8080/"
        },
        "id": "CHIoPHFAAZ29",
        "outputId": "0fa32cd8-c6fd-491a-e857-bc3be3ab1534"
      },
      "execution_count": null,
      "outputs": [
        {
          "output_type": "execute_result",
          "data": {
            "text/plain": [
              "0.857208448117539"
            ]
          },
          "metadata": {},
          "execution_count": 194
        }
      ]
    },
    {
      "cell_type": "code",
      "source": [
        "corr_classified=df_test[y_test==y_pred]\n",
        "corr_classified.drop([\"Total_booking\", \"Book\"], axis=1).head()"
      ],
      "metadata": {
        "colab": {
          "base_uri": "https://localhost:8080/",
          "height": 322
        },
        "id": "3iJ4YbWlJpQc",
        "outputId": "cac005c5-d482-46e6-a9e8-ede10db18adb"
      },
      "execution_count": null,
      "outputs": [
        {
          "output_type": "execute_result",
          "data": {
            "text/plain": [
              "  holiday      temp  humidity  windspeed  Hour  Month   Clear + Few clouds  \\\n",
              "0       0  0.131812 -0.736949   3.024724    11      5                  1.0   \n",
              "2       0 -1.128084  1.999193   2.090060    20      3                  0.0   \n",
              "4       0  0.656768 -1.000040   1.556094    12      6                  1.0   \n",
              "5       0 -1.023092 -0.052913  -0.846305    23      4                  1.0   \n",
              "6       0  0.341794  0.841594   0.621430    18      5                  1.0   \n",
              "\n",
              "    Heavy Rain + Thunderstorm    Light Snow, Light Rain   Mist + Cloudy   \\\n",
              "0                          0.0                      0.0              0.0   \n",
              "2                          0.0                      1.0              0.0   \n",
              "4                          0.0                      0.0              0.0   \n",
              "5                          0.0                      0.0              0.0   \n",
              "6                          0.0                      0.0              0.0   \n",
              "\n",
              "   Fall  Spring  Summer  Winter  Friday  Monday  Saturday  Sunday  Thursday  \\\n",
              "0   0.0     0.0     1.0     0.0     0.0     0.0       0.0     0.0       1.0   \n",
              "2   0.0     1.0     0.0     0.0     0.0     0.0       0.0     1.0       0.0   \n",
              "4   0.0     0.0     1.0     0.0     0.0     0.0       1.0     0.0       0.0   \n",
              "5   0.0     0.0     1.0     0.0     1.0     0.0       0.0     0.0       0.0   \n",
              "6   0.0     0.0     1.0     0.0     0.0     0.0       0.0     1.0       0.0   \n",
              "\n",
              "   Tuesday  Wednesday  \n",
              "0      0.0        0.0  \n",
              "2      0.0        0.0  \n",
              "4      0.0        0.0  \n",
              "5      0.0        0.0  \n",
              "6      0.0        0.0  "
            ],
            "text/html": [
              "\n",
              "  <div id=\"df-53773563-5fd5-4356-8946-3f0451510fcd\">\n",
              "    <div class=\"colab-df-container\">\n",
              "      <div>\n",
              "<style scoped>\n",
              "    .dataframe tbody tr th:only-of-type {\n",
              "        vertical-align: middle;\n",
              "    }\n",
              "\n",
              "    .dataframe tbody tr th {\n",
              "        vertical-align: top;\n",
              "    }\n",
              "\n",
              "    .dataframe thead th {\n",
              "        text-align: right;\n",
              "    }\n",
              "</style>\n",
              "<table border=\"1\" class=\"dataframe\">\n",
              "  <thead>\n",
              "    <tr style=\"text-align: right;\">\n",
              "      <th></th>\n",
              "      <th>holiday</th>\n",
              "      <th>temp</th>\n",
              "      <th>humidity</th>\n",
              "      <th>windspeed</th>\n",
              "      <th>Hour</th>\n",
              "      <th>Month</th>\n",
              "      <th>Clear + Few clouds</th>\n",
              "      <th>Heavy Rain + Thunderstorm</th>\n",
              "      <th>Light Snow, Light Rain</th>\n",
              "      <th>Mist + Cloudy</th>\n",
              "      <th>Fall</th>\n",
              "      <th>Spring</th>\n",
              "      <th>Summer</th>\n",
              "      <th>Winter</th>\n",
              "      <th>Friday</th>\n",
              "      <th>Monday</th>\n",
              "      <th>Saturday</th>\n",
              "      <th>Sunday</th>\n",
              "      <th>Thursday</th>\n",
              "      <th>Tuesday</th>\n",
              "      <th>Wednesday</th>\n",
              "    </tr>\n",
              "  </thead>\n",
              "  <tbody>\n",
              "    <tr>\n",
              "      <th>0</th>\n",
              "      <td>0</td>\n",
              "      <td>0.131812</td>\n",
              "      <td>-0.736949</td>\n",
              "      <td>3.024724</td>\n",
              "      <td>11</td>\n",
              "      <td>5</td>\n",
              "      <td>1.0</td>\n",
              "      <td>0.0</td>\n",
              "      <td>0.0</td>\n",
              "      <td>0.0</td>\n",
              "      <td>0.0</td>\n",
              "      <td>0.0</td>\n",
              "      <td>1.0</td>\n",
              "      <td>0.0</td>\n",
              "      <td>0.0</td>\n",
              "      <td>0.0</td>\n",
              "      <td>0.0</td>\n",
              "      <td>0.0</td>\n",
              "      <td>1.0</td>\n",
              "      <td>0.0</td>\n",
              "      <td>0.0</td>\n",
              "    </tr>\n",
              "    <tr>\n",
              "      <th>2</th>\n",
              "      <td>0</td>\n",
              "      <td>-1.128084</td>\n",
              "      <td>1.999193</td>\n",
              "      <td>2.090060</td>\n",
              "      <td>20</td>\n",
              "      <td>3</td>\n",
              "      <td>0.0</td>\n",
              "      <td>0.0</td>\n",
              "      <td>1.0</td>\n",
              "      <td>0.0</td>\n",
              "      <td>0.0</td>\n",
              "      <td>1.0</td>\n",
              "      <td>0.0</td>\n",
              "      <td>0.0</td>\n",
              "      <td>0.0</td>\n",
              "      <td>0.0</td>\n",
              "      <td>0.0</td>\n",
              "      <td>1.0</td>\n",
              "      <td>0.0</td>\n",
              "      <td>0.0</td>\n",
              "      <td>0.0</td>\n",
              "    </tr>\n",
              "    <tr>\n",
              "      <th>4</th>\n",
              "      <td>0</td>\n",
              "      <td>0.656768</td>\n",
              "      <td>-1.000040</td>\n",
              "      <td>1.556094</td>\n",
              "      <td>12</td>\n",
              "      <td>6</td>\n",
              "      <td>1.0</td>\n",
              "      <td>0.0</td>\n",
              "      <td>0.0</td>\n",
              "      <td>0.0</td>\n",
              "      <td>0.0</td>\n",
              "      <td>0.0</td>\n",
              "      <td>1.0</td>\n",
              "      <td>0.0</td>\n",
              "      <td>0.0</td>\n",
              "      <td>0.0</td>\n",
              "      <td>1.0</td>\n",
              "      <td>0.0</td>\n",
              "      <td>0.0</td>\n",
              "      <td>0.0</td>\n",
              "      <td>0.0</td>\n",
              "    </tr>\n",
              "    <tr>\n",
              "      <th>5</th>\n",
              "      <td>0</td>\n",
              "      <td>-1.023092</td>\n",
              "      <td>-0.052913</td>\n",
              "      <td>-0.846305</td>\n",
              "      <td>23</td>\n",
              "      <td>4</td>\n",
              "      <td>1.0</td>\n",
              "      <td>0.0</td>\n",
              "      <td>0.0</td>\n",
              "      <td>0.0</td>\n",
              "      <td>0.0</td>\n",
              "      <td>0.0</td>\n",
              "      <td>1.0</td>\n",
              "      <td>0.0</td>\n",
              "      <td>1.0</td>\n",
              "      <td>0.0</td>\n",
              "      <td>0.0</td>\n",
              "      <td>0.0</td>\n",
              "      <td>0.0</td>\n",
              "      <td>0.0</td>\n",
              "      <td>0.0</td>\n",
              "    </tr>\n",
              "    <tr>\n",
              "      <th>6</th>\n",
              "      <td>0</td>\n",
              "      <td>0.341794</td>\n",
              "      <td>0.841594</td>\n",
              "      <td>0.621430</td>\n",
              "      <td>18</td>\n",
              "      <td>5</td>\n",
              "      <td>1.0</td>\n",
              "      <td>0.0</td>\n",
              "      <td>0.0</td>\n",
              "      <td>0.0</td>\n",
              "      <td>0.0</td>\n",
              "      <td>0.0</td>\n",
              "      <td>1.0</td>\n",
              "      <td>0.0</td>\n",
              "      <td>0.0</td>\n",
              "      <td>0.0</td>\n",
              "      <td>0.0</td>\n",
              "      <td>1.0</td>\n",
              "      <td>0.0</td>\n",
              "      <td>0.0</td>\n",
              "      <td>0.0</td>\n",
              "    </tr>\n",
              "  </tbody>\n",
              "</table>\n",
              "</div>\n",
              "      <button class=\"colab-df-convert\" onclick=\"convertToInteractive('df-53773563-5fd5-4356-8946-3f0451510fcd')\"\n",
              "              title=\"Convert this dataframe to an interactive table.\"\n",
              "              style=\"display:none;\">\n",
              "        \n",
              "  <svg xmlns=\"http://www.w3.org/2000/svg\" height=\"24px\"viewBox=\"0 0 24 24\"\n",
              "       width=\"24px\">\n",
              "    <path d=\"M0 0h24v24H0V0z\" fill=\"none\"/>\n",
              "    <path d=\"M18.56 5.44l.94 2.06.94-2.06 2.06-.94-2.06-.94-.94-2.06-.94 2.06-2.06.94zm-11 1L8.5 8.5l.94-2.06 2.06-.94-2.06-.94L8.5 2.5l-.94 2.06-2.06.94zm10 10l.94 2.06.94-2.06 2.06-.94-2.06-.94-.94-2.06-.94 2.06-2.06.94z\"/><path d=\"M17.41 7.96l-1.37-1.37c-.4-.4-.92-.59-1.43-.59-.52 0-1.04.2-1.43.59L10.3 9.45l-7.72 7.72c-.78.78-.78 2.05 0 2.83L4 21.41c.39.39.9.59 1.41.59.51 0 1.02-.2 1.41-.59l7.78-7.78 2.81-2.81c.8-.78.8-2.07 0-2.86zM5.41 20L4 18.59l7.72-7.72 1.47 1.35L5.41 20z\"/>\n",
              "  </svg>\n",
              "      </button>\n",
              "      \n",
              "  <style>\n",
              "    .colab-df-container {\n",
              "      display:flex;\n",
              "      flex-wrap:wrap;\n",
              "      gap: 12px;\n",
              "    }\n",
              "\n",
              "    .colab-df-convert {\n",
              "      background-color: #E8F0FE;\n",
              "      border: none;\n",
              "      border-radius: 50%;\n",
              "      cursor: pointer;\n",
              "      display: none;\n",
              "      fill: #1967D2;\n",
              "      height: 32px;\n",
              "      padding: 0 0 0 0;\n",
              "      width: 32px;\n",
              "    }\n",
              "\n",
              "    .colab-df-convert:hover {\n",
              "      background-color: #E2EBFA;\n",
              "      box-shadow: 0px 1px 2px rgba(60, 64, 67, 0.3), 0px 1px 3px 1px rgba(60, 64, 67, 0.15);\n",
              "      fill: #174EA6;\n",
              "    }\n",
              "\n",
              "    [theme=dark] .colab-df-convert {\n",
              "      background-color: #3B4455;\n",
              "      fill: #D2E3FC;\n",
              "    }\n",
              "\n",
              "    [theme=dark] .colab-df-convert:hover {\n",
              "      background-color: #434B5C;\n",
              "      box-shadow: 0px 1px 3px 1px rgba(0, 0, 0, 0.15);\n",
              "      filter: drop-shadow(0px 1px 2px rgba(0, 0, 0, 0.3));\n",
              "      fill: #FFFFFF;\n",
              "    }\n",
              "  </style>\n",
              "\n",
              "      <script>\n",
              "        const buttonEl =\n",
              "          document.querySelector('#df-53773563-5fd5-4356-8946-3f0451510fcd button.colab-df-convert');\n",
              "        buttonEl.style.display =\n",
              "          google.colab.kernel.accessAllowed ? 'block' : 'none';\n",
              "\n",
              "        async function convertToInteractive(key) {\n",
              "          const element = document.querySelector('#df-53773563-5fd5-4356-8946-3f0451510fcd');\n",
              "          const dataTable =\n",
              "            await google.colab.kernel.invokeFunction('convertToInteractive',\n",
              "                                                     [key], {});\n",
              "          if (!dataTable) return;\n",
              "\n",
              "          const docLinkHtml = 'Like what you see? Visit the ' +\n",
              "            '<a target=\"_blank\" href=https://colab.research.google.com/notebooks/data_table.ipynb>data table notebook</a>'\n",
              "            + ' to learn more about interactive tables.';\n",
              "          element.innerHTML = '';\n",
              "          dataTable['output_type'] = 'display_data';\n",
              "          await google.colab.output.renderOutput(dataTable, element);\n",
              "          const docLink = document.createElement('div');\n",
              "          docLink.innerHTML = docLinkHtml;\n",
              "          element.appendChild(docLink);\n",
              "        }\n",
              "      </script>\n",
              "    </div>\n",
              "  </div>\n",
              "  "
            ]
          },
          "metadata": {},
          "execution_count": 226
        }
      ]
    },
    {
      "cell_type": "code",
      "source": [
        "miss_classified=df_test[y_test!=y_pred]\n",
        "miss_classified.iloc[4]"
      ],
      "metadata": {
        "colab": {
          "base_uri": "https://localhost:8080/"
        },
        "id": "Az5SfA1uChyF",
        "outputId": "fb7f87a6-8ef7-49a1-cfd0-e1321530de9c"
      },
      "execution_count": null,
      "outputs": [
        {
          "output_type": "execute_result",
          "data": {
            "text/plain": [
              "holiday                          0.000000\n",
              "temp                             0.866751\n",
              "humidity                        -0.421240\n",
              "windspeed                        0.354895\n",
              "Total_booking                  119.000000\n",
              "Book                             0.000000\n",
              "Hour                             8.000000\n",
              "Month                            8.000000\n",
              " Clear + Few clouds              1.000000\n",
              " Heavy Rain + Thunderstorm       0.000000\n",
              " Light Snow, Light Rain          0.000000\n",
              " Mist + Cloudy                   0.000000\n",
              "Fall                             1.000000\n",
              "Spring                           0.000000\n",
              "Summer                           0.000000\n",
              "Winter                           0.000000\n",
              "Friday                           0.000000\n",
              "Monday                           0.000000\n",
              "Saturday                         0.000000\n",
              "Sunday                           1.000000\n",
              "Thursday                         0.000000\n",
              "Tuesday                          0.000000\n",
              "Wednesday                        0.000000\n",
              "Name: 33, dtype: float64"
            ]
          },
          "metadata": {},
          "execution_count": 219
        }
      ]
    },
    {
      "cell_type": "code",
      "source": [
        "corr_classified[corr_classified[\"Book\"]==0].drop([\"Total_booking\", \"Book\"], axis=1).describe()"
      ],
      "metadata": {
        "colab": {
          "base_uri": "https://localhost:8080/",
          "height": 416
        },
        "id": "Ze3XwzB7GVvs",
        "outputId": "d0425c52-569a-4803-f342-0df3345cb8fb"
      },
      "execution_count": null,
      "outputs": [
        {
          "output_type": "execute_result",
          "data": {
            "text/plain": [
              "             temp    humidity   windspeed        Hour       Month  \\\n",
              "count  903.000000  903.000000  903.000000  903.000000  903.000000   \n",
              "mean    -0.468487    0.403868   -0.160288    7.354374    5.700997   \n",
              "std      0.903000    0.984002    1.025150    7.661535    3.737695   \n",
              "min     -2.177997   -3.262618   -1.647701    0.000000    1.000000   \n",
              "25%     -1.233075   -0.368622   -0.846305    2.000000    2.000000   \n",
              "50%     -0.603127    0.525886   -0.179071    4.000000    5.000000   \n",
              "75%      0.236803    1.315157    0.354895   11.000000    9.000000   \n",
              "max      1.706681    1.999193    4.225923   23.000000   12.000000   \n",
              "\n",
              "        Clear + Few clouds   Heavy Rain + Thunderstorm   \\\n",
              "count           903.000000                        903.0   \n",
              "mean              0.634551                          0.0   \n",
              "std               0.481823                          0.0   \n",
              "min               0.000000                          0.0   \n",
              "25%               0.000000                          0.0   \n",
              "50%               1.000000                          0.0   \n",
              "75%               1.000000                          0.0   \n",
              "max               1.000000                          0.0   \n",
              "\n",
              "        Light Snow, Light Rain   Mist + Cloudy         Fall      Spring  \\\n",
              "count               903.000000       903.000000  903.000000  903.000000   \n",
              "mean                  0.106312         0.259136    0.184939    0.385382   \n",
              "std                   0.308408         0.438403    0.388463    0.486955   \n",
              "min                   0.000000         0.000000    0.000000    0.000000   \n",
              "25%                   0.000000         0.000000    0.000000    0.000000   \n",
              "50%                   0.000000         0.000000    0.000000    0.000000   \n",
              "75%                   0.000000         1.000000    0.000000    1.000000   \n",
              "max                   1.000000         1.000000    1.000000    1.000000   \n",
              "\n",
              "          Summer      Winter      Friday      Monday    Saturday      Sunday  \\\n",
              "count  903.00000  903.000000  903.000000  903.000000  903.000000  903.000000   \n",
              "mean     0.20155    0.228128    0.124031    0.139535    0.137320    0.146179   \n",
              "std      0.40138    0.419858    0.329800    0.346696    0.344376    0.353482   \n",
              "min      0.00000    0.000000    0.000000    0.000000    0.000000    0.000000   \n",
              "25%      0.00000    0.000000    0.000000    0.000000    0.000000    0.000000   \n",
              "50%      0.00000    0.000000    0.000000    0.000000    0.000000    0.000000   \n",
              "75%      0.00000    0.000000    0.000000    0.000000    0.000000    0.000000   \n",
              "max      1.00000    1.000000    1.000000    1.000000    1.000000    1.000000   \n",
              "\n",
              "         Thursday     Tuesday   Wednesday  \n",
              "count  903.000000  903.000000  903.000000  \n",
              "mean     0.142857    0.148394    0.161683  \n",
              "std      0.350121    0.355687    0.368364  \n",
              "min      0.000000    0.000000    0.000000  \n",
              "25%      0.000000    0.000000    0.000000  \n",
              "50%      0.000000    0.000000    0.000000  \n",
              "75%      0.000000    0.000000    0.000000  \n",
              "max      1.000000    1.000000    1.000000  "
            ],
            "text/html": [
              "\n",
              "  <div id=\"df-664cee6a-6a0c-4355-ac78-e90c43710e3a\">\n",
              "    <div class=\"colab-df-container\">\n",
              "      <div>\n",
              "<style scoped>\n",
              "    .dataframe tbody tr th:only-of-type {\n",
              "        vertical-align: middle;\n",
              "    }\n",
              "\n",
              "    .dataframe tbody tr th {\n",
              "        vertical-align: top;\n",
              "    }\n",
              "\n",
              "    .dataframe thead th {\n",
              "        text-align: right;\n",
              "    }\n",
              "</style>\n",
              "<table border=\"1\" class=\"dataframe\">\n",
              "  <thead>\n",
              "    <tr style=\"text-align: right;\">\n",
              "      <th></th>\n",
              "      <th>temp</th>\n",
              "      <th>humidity</th>\n",
              "      <th>windspeed</th>\n",
              "      <th>Hour</th>\n",
              "      <th>Month</th>\n",
              "      <th>Clear + Few clouds</th>\n",
              "      <th>Heavy Rain + Thunderstorm</th>\n",
              "      <th>Light Snow, Light Rain</th>\n",
              "      <th>Mist + Cloudy</th>\n",
              "      <th>Fall</th>\n",
              "      <th>Spring</th>\n",
              "      <th>Summer</th>\n",
              "      <th>Winter</th>\n",
              "      <th>Friday</th>\n",
              "      <th>Monday</th>\n",
              "      <th>Saturday</th>\n",
              "      <th>Sunday</th>\n",
              "      <th>Thursday</th>\n",
              "      <th>Tuesday</th>\n",
              "      <th>Wednesday</th>\n",
              "    </tr>\n",
              "  </thead>\n",
              "  <tbody>\n",
              "    <tr>\n",
              "      <th>count</th>\n",
              "      <td>903.000000</td>\n",
              "      <td>903.000000</td>\n",
              "      <td>903.000000</td>\n",
              "      <td>903.000000</td>\n",
              "      <td>903.000000</td>\n",
              "      <td>903.000000</td>\n",
              "      <td>903.0</td>\n",
              "      <td>903.000000</td>\n",
              "      <td>903.000000</td>\n",
              "      <td>903.000000</td>\n",
              "      <td>903.000000</td>\n",
              "      <td>903.00000</td>\n",
              "      <td>903.000000</td>\n",
              "      <td>903.000000</td>\n",
              "      <td>903.000000</td>\n",
              "      <td>903.000000</td>\n",
              "      <td>903.000000</td>\n",
              "      <td>903.000000</td>\n",
              "      <td>903.000000</td>\n",
              "      <td>903.000000</td>\n",
              "    </tr>\n",
              "    <tr>\n",
              "      <th>mean</th>\n",
              "      <td>-0.468487</td>\n",
              "      <td>0.403868</td>\n",
              "      <td>-0.160288</td>\n",
              "      <td>7.354374</td>\n",
              "      <td>5.700997</td>\n",
              "      <td>0.634551</td>\n",
              "      <td>0.0</td>\n",
              "      <td>0.106312</td>\n",
              "      <td>0.259136</td>\n",
              "      <td>0.184939</td>\n",
              "      <td>0.385382</td>\n",
              "      <td>0.20155</td>\n",
              "      <td>0.228128</td>\n",
              "      <td>0.124031</td>\n",
              "      <td>0.139535</td>\n",
              "      <td>0.137320</td>\n",
              "      <td>0.146179</td>\n",
              "      <td>0.142857</td>\n",
              "      <td>0.148394</td>\n",
              "      <td>0.161683</td>\n",
              "    </tr>\n",
              "    <tr>\n",
              "      <th>std</th>\n",
              "      <td>0.903000</td>\n",
              "      <td>0.984002</td>\n",
              "      <td>1.025150</td>\n",
              "      <td>7.661535</td>\n",
              "      <td>3.737695</td>\n",
              "      <td>0.481823</td>\n",
              "      <td>0.0</td>\n",
              "      <td>0.308408</td>\n",
              "      <td>0.438403</td>\n",
              "      <td>0.388463</td>\n",
              "      <td>0.486955</td>\n",
              "      <td>0.40138</td>\n",
              "      <td>0.419858</td>\n",
              "      <td>0.329800</td>\n",
              "      <td>0.346696</td>\n",
              "      <td>0.344376</td>\n",
              "      <td>0.353482</td>\n",
              "      <td>0.350121</td>\n",
              "      <td>0.355687</td>\n",
              "      <td>0.368364</td>\n",
              "    </tr>\n",
              "    <tr>\n",
              "      <th>min</th>\n",
              "      <td>-2.177997</td>\n",
              "      <td>-3.262618</td>\n",
              "      <td>-1.647701</td>\n",
              "      <td>0.000000</td>\n",
              "      <td>1.000000</td>\n",
              "      <td>0.000000</td>\n",
              "      <td>0.0</td>\n",
              "      <td>0.000000</td>\n",
              "      <td>0.000000</td>\n",
              "      <td>0.000000</td>\n",
              "      <td>0.000000</td>\n",
              "      <td>0.00000</td>\n",
              "      <td>0.000000</td>\n",
              "      <td>0.000000</td>\n",
              "      <td>0.000000</td>\n",
              "      <td>0.000000</td>\n",
              "      <td>0.000000</td>\n",
              "      <td>0.000000</td>\n",
              "      <td>0.000000</td>\n",
              "      <td>0.000000</td>\n",
              "    </tr>\n",
              "    <tr>\n",
              "      <th>25%</th>\n",
              "      <td>-1.233075</td>\n",
              "      <td>-0.368622</td>\n",
              "      <td>-0.846305</td>\n",
              "      <td>2.000000</td>\n",
              "      <td>2.000000</td>\n",
              "      <td>0.000000</td>\n",
              "      <td>0.0</td>\n",
              "      <td>0.000000</td>\n",
              "      <td>0.000000</td>\n",
              "      <td>0.000000</td>\n",
              "      <td>0.000000</td>\n",
              "      <td>0.00000</td>\n",
              "      <td>0.000000</td>\n",
              "      <td>0.000000</td>\n",
              "      <td>0.000000</td>\n",
              "      <td>0.000000</td>\n",
              "      <td>0.000000</td>\n",
              "      <td>0.000000</td>\n",
              "      <td>0.000000</td>\n",
              "      <td>0.000000</td>\n",
              "    </tr>\n",
              "    <tr>\n",
              "      <th>50%</th>\n",
              "      <td>-0.603127</td>\n",
              "      <td>0.525886</td>\n",
              "      <td>-0.179071</td>\n",
              "      <td>4.000000</td>\n",
              "      <td>5.000000</td>\n",
              "      <td>1.000000</td>\n",
              "      <td>0.0</td>\n",
              "      <td>0.000000</td>\n",
              "      <td>0.000000</td>\n",
              "      <td>0.000000</td>\n",
              "      <td>0.000000</td>\n",
              "      <td>0.00000</td>\n",
              "      <td>0.000000</td>\n",
              "      <td>0.000000</td>\n",
              "      <td>0.000000</td>\n",
              "      <td>0.000000</td>\n",
              "      <td>0.000000</td>\n",
              "      <td>0.000000</td>\n",
              "      <td>0.000000</td>\n",
              "      <td>0.000000</td>\n",
              "    </tr>\n",
              "    <tr>\n",
              "      <th>75%</th>\n",
              "      <td>0.236803</td>\n",
              "      <td>1.315157</td>\n",
              "      <td>0.354895</td>\n",
              "      <td>11.000000</td>\n",
              "      <td>9.000000</td>\n",
              "      <td>1.000000</td>\n",
              "      <td>0.0</td>\n",
              "      <td>0.000000</td>\n",
              "      <td>1.000000</td>\n",
              "      <td>0.000000</td>\n",
              "      <td>1.000000</td>\n",
              "      <td>0.00000</td>\n",
              "      <td>0.000000</td>\n",
              "      <td>0.000000</td>\n",
              "      <td>0.000000</td>\n",
              "      <td>0.000000</td>\n",
              "      <td>0.000000</td>\n",
              "      <td>0.000000</td>\n",
              "      <td>0.000000</td>\n",
              "      <td>0.000000</td>\n",
              "    </tr>\n",
              "    <tr>\n",
              "      <th>max</th>\n",
              "      <td>1.706681</td>\n",
              "      <td>1.999193</td>\n",
              "      <td>4.225923</td>\n",
              "      <td>23.000000</td>\n",
              "      <td>12.000000</td>\n",
              "      <td>1.000000</td>\n",
              "      <td>0.0</td>\n",
              "      <td>1.000000</td>\n",
              "      <td>1.000000</td>\n",
              "      <td>1.000000</td>\n",
              "      <td>1.000000</td>\n",
              "      <td>1.00000</td>\n",
              "      <td>1.000000</td>\n",
              "      <td>1.000000</td>\n",
              "      <td>1.000000</td>\n",
              "      <td>1.000000</td>\n",
              "      <td>1.000000</td>\n",
              "      <td>1.000000</td>\n",
              "      <td>1.000000</td>\n",
              "      <td>1.000000</td>\n",
              "    </tr>\n",
              "  </tbody>\n",
              "</table>\n",
              "</div>\n",
              "      <button class=\"colab-df-convert\" onclick=\"convertToInteractive('df-664cee6a-6a0c-4355-ac78-e90c43710e3a')\"\n",
              "              title=\"Convert this dataframe to an interactive table.\"\n",
              "              style=\"display:none;\">\n",
              "        \n",
              "  <svg xmlns=\"http://www.w3.org/2000/svg\" height=\"24px\"viewBox=\"0 0 24 24\"\n",
              "       width=\"24px\">\n",
              "    <path d=\"M0 0h24v24H0V0z\" fill=\"none\"/>\n",
              "    <path d=\"M18.56 5.44l.94 2.06.94-2.06 2.06-.94-2.06-.94-.94-2.06-.94 2.06-2.06.94zm-11 1L8.5 8.5l.94-2.06 2.06-.94-2.06-.94L8.5 2.5l-.94 2.06-2.06.94zm10 10l.94 2.06.94-2.06 2.06-.94-2.06-.94-.94-2.06-.94 2.06-2.06.94z\"/><path d=\"M17.41 7.96l-1.37-1.37c-.4-.4-.92-.59-1.43-.59-.52 0-1.04.2-1.43.59L10.3 9.45l-7.72 7.72c-.78.78-.78 2.05 0 2.83L4 21.41c.39.39.9.59 1.41.59.51 0 1.02-.2 1.41-.59l7.78-7.78 2.81-2.81c.8-.78.8-2.07 0-2.86zM5.41 20L4 18.59l7.72-7.72 1.47 1.35L5.41 20z\"/>\n",
              "  </svg>\n",
              "      </button>\n",
              "      \n",
              "  <style>\n",
              "    .colab-df-container {\n",
              "      display:flex;\n",
              "      flex-wrap:wrap;\n",
              "      gap: 12px;\n",
              "    }\n",
              "\n",
              "    .colab-df-convert {\n",
              "      background-color: #E8F0FE;\n",
              "      border: none;\n",
              "      border-radius: 50%;\n",
              "      cursor: pointer;\n",
              "      display: none;\n",
              "      fill: #1967D2;\n",
              "      height: 32px;\n",
              "      padding: 0 0 0 0;\n",
              "      width: 32px;\n",
              "    }\n",
              "\n",
              "    .colab-df-convert:hover {\n",
              "      background-color: #E2EBFA;\n",
              "      box-shadow: 0px 1px 2px rgba(60, 64, 67, 0.3), 0px 1px 3px 1px rgba(60, 64, 67, 0.15);\n",
              "      fill: #174EA6;\n",
              "    }\n",
              "\n",
              "    [theme=dark] .colab-df-convert {\n",
              "      background-color: #3B4455;\n",
              "      fill: #D2E3FC;\n",
              "    }\n",
              "\n",
              "    [theme=dark] .colab-df-convert:hover {\n",
              "      background-color: #434B5C;\n",
              "      box-shadow: 0px 1px 3px 1px rgba(0, 0, 0, 0.15);\n",
              "      filter: drop-shadow(0px 1px 2px rgba(0, 0, 0, 0.3));\n",
              "      fill: #FFFFFF;\n",
              "    }\n",
              "  </style>\n",
              "\n",
              "      <script>\n",
              "        const buttonEl =\n",
              "          document.querySelector('#df-664cee6a-6a0c-4355-ac78-e90c43710e3a button.colab-df-convert');\n",
              "        buttonEl.style.display =\n",
              "          google.colab.kernel.accessAllowed ? 'block' : 'none';\n",
              "\n",
              "        async function convertToInteractive(key) {\n",
              "          const element = document.querySelector('#df-664cee6a-6a0c-4355-ac78-e90c43710e3a');\n",
              "          const dataTable =\n",
              "            await google.colab.kernel.invokeFunction('convertToInteractive',\n",
              "                                                     [key], {});\n",
              "          if (!dataTable) return;\n",
              "\n",
              "          const docLinkHtml = 'Like what you see? Visit the ' +\n",
              "            '<a target=\"_blank\" href=https://colab.research.google.com/notebooks/data_table.ipynb>data table notebook</a>'\n",
              "            + ' to learn more about interactive tables.';\n",
              "          element.innerHTML = '';\n",
              "          dataTable['output_type'] = 'display_data';\n",
              "          await google.colab.output.renderOutput(dataTable, element);\n",
              "          const docLink = document.createElement('div');\n",
              "          docLink.innerHTML = docLinkHtml;\n",
              "          element.appendChild(docLink);\n",
              "        }\n",
              "      </script>\n",
              "    </div>\n",
              "  </div>\n",
              "  "
            ]
          },
          "metadata": {},
          "execution_count": 227
        }
      ]
    },
    {
      "cell_type": "code",
      "source": [
        "miss_classified.Book.value_counts()"
      ],
      "metadata": {
        "colab": {
          "base_uri": "https://localhost:8080/"
        },
        "id": "fGu8t8ksDGnV",
        "outputId": "66c48343-d68a-457e-ea89-74229e4041bb"
      },
      "execution_count": null,
      "outputs": [
        {
          "output_type": "execute_result",
          "data": {
            "text/plain": [
              "0    181\n",
              "1    130\n",
              "Name: Book, dtype: int64"
            ]
          },
          "metadata": {},
          "execution_count": 196
        }
      ]
    }
  ],
  "metadata": {
    "colab": {
      "collapsed_sections": [
        "qb-eCfv9sw_u",
        "ABSWN1S7IKxv"
      ],
      "provenance": []
    },
    "kernelspec": {
      "display_name": "Python 3",
      "name": "python3"
    },
    "language_info": {
      "name": "python"
    }
  },
  "nbformat": 4,
  "nbformat_minor": 0
}