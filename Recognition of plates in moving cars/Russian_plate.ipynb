{
 "cells": [
  {
   "cell_type": "code",
   "execution_count": 9,
   "id": "832eed71",
   "metadata": {},
   "outputs": [],
   "source": [
    "import cv2"
   ]
  },
  {
   "cell_type": "code",
   "execution_count": 10,
   "id": "19e2b261",
   "metadata": {},
   "outputs": [],
   "source": [
    "#Scenario 2 file 2"
   ]
  },
  {
   "cell_type": "code",
   "execution_count": 11,
   "id": "7b744274",
   "metadata": {},
   "outputs": [],
   "source": [
    "def cvtcolor(frame):\n",
    "    return cv2.cvtColor(frame, cv2.COLOR_BGR2GRAY)\n",
    "def cascade(img_gray):\n",
    "    plate_Cascade = cv2.CascadeClassifier(r\"C:\\Users\\leons\\OneDrive\\Documents\\haarcascade_russian_plate_number.xml\")\n",
    "    return plate_Cascade.detectMultiScale(img_gray, 1.05, 4)\n",
    "def disp_frme(frame):\n",
    "    cv2.imshow(frame)\n",
    "\n",
    "cap=cv2.VideoCapture(r\"C:\\Users\\leons\\OneDrive\\Documents\\russian_plate.mp4\")\n",
    "while True:\n",
    "    success, frame= cap.read()\n",
    "    img_gray=cvtcolor(frame);\n",
    "    mcar=cascade(img_gray)\n",
    "    for (x,y,w,h) in mcar:\n",
    "        cv2.rectangle(frame, (x,y), (x+w, y+h), (0,255,0), 2)\n",
    "    cv2.imshow(\"Video\", frame)\n",
    "    if cv2.waitKey(1) == ord('q'): #This adds a Delay and looks for the key press inorder to break the loop\n",
    "        break\n",
    "cap.release()\n",
    "cv2.destroyAllWindows()\n"
   ]
  },
  {
   "cell_type": "code",
   "execution_count": null,
   "id": "6330eafa",
   "metadata": {},
   "outputs": [],
   "source": []
  }
 ],
 "metadata": {
  "kernelspec": {
   "display_name": "Python 3 (ipykernel)",
   "language": "python",
   "name": "python3"
  },
  "language_info": {
   "codemirror_mode": {
    "name": "ipython",
    "version": 3
   },
   "file_extension": ".py",
   "mimetype": "text/x-python",
   "name": "python",
   "nbconvert_exporter": "python",
   "pygments_lexer": "ipython3",
   "version": "3.9.7"
  }
 },
 "nbformat": 4,
 "nbformat_minor": 5
}
