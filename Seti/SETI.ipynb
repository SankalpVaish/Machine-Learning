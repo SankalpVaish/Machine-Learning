{
  "nbformat": 4,
  "nbformat_minor": 0,
  "metadata": {
    "colab": {
      "name": "SETI.ipynb",
      "provenance": [],
      "collapsed_sections": []
    },
    "kernelspec": {
      "name": "python3",
      "display_name": "Python 3"
    },
    "language_info": {
      "name": "python"
    }
  },
  "cells": [
    {
      "cell_type": "code",
      "source": [
        "import tensorflow as tf\n",
        "import numpy as np\n",
        "\n",
        "from tensorflow.keras.preprocessing.image import ImageDataGenerator \n",
        "from tensorflow.keras.models import Sequential\n",
        "from tensorflow.keras.layers import Dense, Conv2D, Flatten, Dropout, MaxPooling2D, Activation, BatchNormalization\n",
        "from tensorflow.keras.preprocessing import image\n",
        "import matplotlib.pyplot as plt\n",
        "import matplotlib.image as mpimg"
      ],
      "metadata": {
        "id": "TAw-r5mqpklm"
      },
      "execution_count": 1,
      "outputs": []
    },
    {
      "cell_type": "code",
      "execution_count": 2,
      "metadata": {
        "colab": {
          "base_uri": "https://localhost:8080/",
          "height": 317
        },
        "id": "hLH0q5KvlQkt",
        "outputId": "674fa13f-b3c5-4cea-b03c-280d5efed0a5"
      },
      "outputs": [
        {
          "output_type": "stream",
          "name": "stdout",
          "text": [
            "3200\n"
          ]
        },
        {
          "output_type": "execute_result",
          "data": {
            "text/plain": [
              "       0         1         2         3         4         5         6     \\\n",
              "0  0.631373  0.623529  0.713726  0.705882  0.658824  0.666667  0.654902   \n",
              "1  0.725490  0.752941  0.749020  0.701961  0.690196  0.721569  0.709804   \n",
              "2  0.717647  0.701961  0.713726  0.733333  0.705882  0.717647  0.725490   \n",
              "3  0.705882  0.674510  0.654902  0.678431  0.666667  0.662745  0.678431   \n",
              "4  0.647059  0.729412  0.701961  0.674510  0.611765  0.698039  0.713726   \n",
              "\n",
              "       7         8         9     ...      8182      8183      8184      8185  \\\n",
              "0  0.635294  0.647059  0.705882  ...  0.682353  0.611765  0.650980  0.658824   \n",
              "1  0.745098  0.654902  0.721569  ...  0.721569  0.698039  0.721569  0.686275   \n",
              "2  0.682353  0.717647  0.674510  ...  0.709804  0.694118  0.705882  0.682353   \n",
              "3  0.662745  0.686275  0.686275  ...  0.639216  0.662745  0.631373  0.643137   \n",
              "4  0.662745  0.701961  0.674510  ...  0.639216  0.670588  0.705882  0.674510   \n",
              "\n",
              "       8186      8187      8188      8189      8190      8191  \n",
              "0  0.600000  0.603922  0.654902  0.694118  0.658824  0.666667  \n",
              "1  0.713726  0.682353  0.690196  0.698039  0.701961  0.725490  \n",
              "2  0.639216  0.713726  0.670588  0.678431  0.737255  0.674510  \n",
              "3  0.705882  0.662745  0.705882  0.666667  0.654902  0.631373  \n",
              "4  0.721569  0.694118  0.674510  0.705882  0.749020  0.729412  \n",
              "\n",
              "[5 rows x 8192 columns]"
            ],
            "text/html": [
              "\n",
              "  <div id=\"df-5a8513a0-b129-48cd-89f2-222c026ca8a2\">\n",
              "    <div class=\"colab-df-container\">\n",
              "      <div>\n",
              "<style scoped>\n",
              "    .dataframe tbody tr th:only-of-type {\n",
              "        vertical-align: middle;\n",
              "    }\n",
              "\n",
              "    .dataframe tbody tr th {\n",
              "        vertical-align: top;\n",
              "    }\n",
              "\n",
              "    .dataframe thead th {\n",
              "        text-align: right;\n",
              "    }\n",
              "</style>\n",
              "<table border=\"1\" class=\"dataframe\">\n",
              "  <thead>\n",
              "    <tr style=\"text-align: right;\">\n",
              "      <th></th>\n",
              "      <th>0</th>\n",
              "      <th>1</th>\n",
              "      <th>2</th>\n",
              "      <th>3</th>\n",
              "      <th>4</th>\n",
              "      <th>5</th>\n",
              "      <th>6</th>\n",
              "      <th>7</th>\n",
              "      <th>8</th>\n",
              "      <th>9</th>\n",
              "      <th>...</th>\n",
              "      <th>8182</th>\n",
              "      <th>8183</th>\n",
              "      <th>8184</th>\n",
              "      <th>8185</th>\n",
              "      <th>8186</th>\n",
              "      <th>8187</th>\n",
              "      <th>8188</th>\n",
              "      <th>8189</th>\n",
              "      <th>8190</th>\n",
              "      <th>8191</th>\n",
              "    </tr>\n",
              "  </thead>\n",
              "  <tbody>\n",
              "    <tr>\n",
              "      <th>0</th>\n",
              "      <td>0.631373</td>\n",
              "      <td>0.623529</td>\n",
              "      <td>0.713726</td>\n",
              "      <td>0.705882</td>\n",
              "      <td>0.658824</td>\n",
              "      <td>0.666667</td>\n",
              "      <td>0.654902</td>\n",
              "      <td>0.635294</td>\n",
              "      <td>0.647059</td>\n",
              "      <td>0.705882</td>\n",
              "      <td>...</td>\n",
              "      <td>0.682353</td>\n",
              "      <td>0.611765</td>\n",
              "      <td>0.650980</td>\n",
              "      <td>0.658824</td>\n",
              "      <td>0.600000</td>\n",
              "      <td>0.603922</td>\n",
              "      <td>0.654902</td>\n",
              "      <td>0.694118</td>\n",
              "      <td>0.658824</td>\n",
              "      <td>0.666667</td>\n",
              "    </tr>\n",
              "    <tr>\n",
              "      <th>1</th>\n",
              "      <td>0.725490</td>\n",
              "      <td>0.752941</td>\n",
              "      <td>0.749020</td>\n",
              "      <td>0.701961</td>\n",
              "      <td>0.690196</td>\n",
              "      <td>0.721569</td>\n",
              "      <td>0.709804</td>\n",
              "      <td>0.745098</td>\n",
              "      <td>0.654902</td>\n",
              "      <td>0.721569</td>\n",
              "      <td>...</td>\n",
              "      <td>0.721569</td>\n",
              "      <td>0.698039</td>\n",
              "      <td>0.721569</td>\n",
              "      <td>0.686275</td>\n",
              "      <td>0.713726</td>\n",
              "      <td>0.682353</td>\n",
              "      <td>0.690196</td>\n",
              "      <td>0.698039</td>\n",
              "      <td>0.701961</td>\n",
              "      <td>0.725490</td>\n",
              "    </tr>\n",
              "    <tr>\n",
              "      <th>2</th>\n",
              "      <td>0.717647</td>\n",
              "      <td>0.701961</td>\n",
              "      <td>0.713726</td>\n",
              "      <td>0.733333</td>\n",
              "      <td>0.705882</td>\n",
              "      <td>0.717647</td>\n",
              "      <td>0.725490</td>\n",
              "      <td>0.682353</td>\n",
              "      <td>0.717647</td>\n",
              "      <td>0.674510</td>\n",
              "      <td>...</td>\n",
              "      <td>0.709804</td>\n",
              "      <td>0.694118</td>\n",
              "      <td>0.705882</td>\n",
              "      <td>0.682353</td>\n",
              "      <td>0.639216</td>\n",
              "      <td>0.713726</td>\n",
              "      <td>0.670588</td>\n",
              "      <td>0.678431</td>\n",
              "      <td>0.737255</td>\n",
              "      <td>0.674510</td>\n",
              "    </tr>\n",
              "    <tr>\n",
              "      <th>3</th>\n",
              "      <td>0.705882</td>\n",
              "      <td>0.674510</td>\n",
              "      <td>0.654902</td>\n",
              "      <td>0.678431</td>\n",
              "      <td>0.666667</td>\n",
              "      <td>0.662745</td>\n",
              "      <td>0.678431</td>\n",
              "      <td>0.662745</td>\n",
              "      <td>0.686275</td>\n",
              "      <td>0.686275</td>\n",
              "      <td>...</td>\n",
              "      <td>0.639216</td>\n",
              "      <td>0.662745</td>\n",
              "      <td>0.631373</td>\n",
              "      <td>0.643137</td>\n",
              "      <td>0.705882</td>\n",
              "      <td>0.662745</td>\n",
              "      <td>0.705882</td>\n",
              "      <td>0.666667</td>\n",
              "      <td>0.654902</td>\n",
              "      <td>0.631373</td>\n",
              "    </tr>\n",
              "    <tr>\n",
              "      <th>4</th>\n",
              "      <td>0.647059</td>\n",
              "      <td>0.729412</td>\n",
              "      <td>0.701961</td>\n",
              "      <td>0.674510</td>\n",
              "      <td>0.611765</td>\n",
              "      <td>0.698039</td>\n",
              "      <td>0.713726</td>\n",
              "      <td>0.662745</td>\n",
              "      <td>0.701961</td>\n",
              "      <td>0.674510</td>\n",
              "      <td>...</td>\n",
              "      <td>0.639216</td>\n",
              "      <td>0.670588</td>\n",
              "      <td>0.705882</td>\n",
              "      <td>0.674510</td>\n",
              "      <td>0.721569</td>\n",
              "      <td>0.694118</td>\n",
              "      <td>0.674510</td>\n",
              "      <td>0.705882</td>\n",
              "      <td>0.749020</td>\n",
              "      <td>0.729412</td>\n",
              "    </tr>\n",
              "  </tbody>\n",
              "</table>\n",
              "<p>5 rows × 8192 columns</p>\n",
              "</div>\n",
              "      <button class=\"colab-df-convert\" onclick=\"convertToInteractive('df-5a8513a0-b129-48cd-89f2-222c026ca8a2')\"\n",
              "              title=\"Convert this dataframe to an interactive table.\"\n",
              "              style=\"display:none;\">\n",
              "        \n",
              "  <svg xmlns=\"http://www.w3.org/2000/svg\" height=\"24px\"viewBox=\"0 0 24 24\"\n",
              "       width=\"24px\">\n",
              "    <path d=\"M0 0h24v24H0V0z\" fill=\"none\"/>\n",
              "    <path d=\"M18.56 5.44l.94 2.06.94-2.06 2.06-.94-2.06-.94-.94-2.06-.94 2.06-2.06.94zm-11 1L8.5 8.5l.94-2.06 2.06-.94-2.06-.94L8.5 2.5l-.94 2.06-2.06.94zm10 10l.94 2.06.94-2.06 2.06-.94-2.06-.94-.94-2.06-.94 2.06-2.06.94z\"/><path d=\"M17.41 7.96l-1.37-1.37c-.4-.4-.92-.59-1.43-.59-.52 0-1.04.2-1.43.59L10.3 9.45l-7.72 7.72c-.78.78-.78 2.05 0 2.83L4 21.41c.39.39.9.59 1.41.59.51 0 1.02-.2 1.41-.59l7.78-7.78 2.81-2.81c.8-.78.8-2.07 0-2.86zM5.41 20L4 18.59l7.72-7.72 1.47 1.35L5.41 20z\"/>\n",
              "  </svg>\n",
              "      </button>\n",
              "      \n",
              "  <style>\n",
              "    .colab-df-container {\n",
              "      display:flex;\n",
              "      flex-wrap:wrap;\n",
              "      gap: 12px;\n",
              "    }\n",
              "\n",
              "    .colab-df-convert {\n",
              "      background-color: #E8F0FE;\n",
              "      border: none;\n",
              "      border-radius: 50%;\n",
              "      cursor: pointer;\n",
              "      display: none;\n",
              "      fill: #1967D2;\n",
              "      height: 32px;\n",
              "      padding: 0 0 0 0;\n",
              "      width: 32px;\n",
              "    }\n",
              "\n",
              "    .colab-df-convert:hover {\n",
              "      background-color: #E2EBFA;\n",
              "      box-shadow: 0px 1px 2px rgba(60, 64, 67, 0.3), 0px 1px 3px 1px rgba(60, 64, 67, 0.15);\n",
              "      fill: #174EA6;\n",
              "    }\n",
              "\n",
              "    [theme=dark] .colab-df-convert {\n",
              "      background-color: #3B4455;\n",
              "      fill: #D2E3FC;\n",
              "    }\n",
              "\n",
              "    [theme=dark] .colab-df-convert:hover {\n",
              "      background-color: #434B5C;\n",
              "      box-shadow: 0px 1px 3px 1px rgba(0, 0, 0, 0.15);\n",
              "      filter: drop-shadow(0px 1px 2px rgba(0, 0, 0, 0.3));\n",
              "      fill: #FFFFFF;\n",
              "    }\n",
              "  </style>\n",
              "\n",
              "      <script>\n",
              "        const buttonEl =\n",
              "          document.querySelector('#df-5a8513a0-b129-48cd-89f2-222c026ca8a2 button.colab-df-convert');\n",
              "        buttonEl.style.display =\n",
              "          google.colab.kernel.accessAllowed ? 'block' : 'none';\n",
              "\n",
              "        async function convertToInteractive(key) {\n",
              "          const element = document.querySelector('#df-5a8513a0-b129-48cd-89f2-222c026ca8a2');\n",
              "          const dataTable =\n",
              "            await google.colab.kernel.invokeFunction('convertToInteractive',\n",
              "                                                     [key], {});\n",
              "          if (!dataTable) return;\n",
              "\n",
              "          const docLinkHtml = 'Like what you see? Visit the ' +\n",
              "            '<a target=\"_blank\" href=https://colab.research.google.com/notebooks/data_table.ipynb>data table notebook</a>'\n",
              "            + ' to learn more about interactive tables.';\n",
              "          element.innerHTML = '';\n",
              "          dataTable['output_type'] = 'display_data';\n",
              "          await google.colab.output.renderOutput(dataTable, element);\n",
              "          const docLink = document.createElement('div');\n",
              "          docLink.innerHTML = docLinkHtml;\n",
              "          element.appendChild(docLink);\n",
              "        }\n",
              "      </script>\n",
              "    </div>\n",
              "  </div>\n",
              "  "
            ]
          },
          "metadata": {},
          "execution_count": 2
        }
      ],
      "source": [
        "import pandas as pd\n",
        "df_i=pd.read_csv(\"images.csv\", header=None)\n",
        "print(len(df_i))\n",
        "df_i.head()"
      ]
    },
    {
      "cell_type": "code",
      "source": [
        "df_l=pd.read_csv(\"labels.csv\", header=None, names=[\"squiggle\", \"narrowband\", \"narrowbanddrd\",\"noise\"])\n",
        "df_l.head()"
      ],
      "metadata": {
        "colab": {
          "base_uri": "https://localhost:8080/",
          "height": 206
        },
        "id": "HyvR0fGmn4gC",
        "outputId": "b91fba35-83b4-4dbb-9cfc-57b6a47bfd5f"
      },
      "execution_count": 3,
      "outputs": [
        {
          "output_type": "execute_result",
          "data": {
            "text/plain": [
              "   squiggle  narrowband  narrowbanddrd  noise\n",
              "0       1.0         0.0            0.0    0.0\n",
              "1       1.0         0.0            0.0    0.0\n",
              "2       1.0         0.0            0.0    0.0\n",
              "3       1.0         0.0            0.0    0.0\n",
              "4       1.0         0.0            0.0    0.0"
            ],
            "text/html": [
              "\n",
              "  <div id=\"df-2fa7cddc-49fe-4005-bfd4-5a624e1e79e7\">\n",
              "    <div class=\"colab-df-container\">\n",
              "      <div>\n",
              "<style scoped>\n",
              "    .dataframe tbody tr th:only-of-type {\n",
              "        vertical-align: middle;\n",
              "    }\n",
              "\n",
              "    .dataframe tbody tr th {\n",
              "        vertical-align: top;\n",
              "    }\n",
              "\n",
              "    .dataframe thead th {\n",
              "        text-align: right;\n",
              "    }\n",
              "</style>\n",
              "<table border=\"1\" class=\"dataframe\">\n",
              "  <thead>\n",
              "    <tr style=\"text-align: right;\">\n",
              "      <th></th>\n",
              "      <th>squiggle</th>\n",
              "      <th>narrowband</th>\n",
              "      <th>narrowbanddrd</th>\n",
              "      <th>noise</th>\n",
              "    </tr>\n",
              "  </thead>\n",
              "  <tbody>\n",
              "    <tr>\n",
              "      <th>0</th>\n",
              "      <td>1.0</td>\n",
              "      <td>0.0</td>\n",
              "      <td>0.0</td>\n",
              "      <td>0.0</td>\n",
              "    </tr>\n",
              "    <tr>\n",
              "      <th>1</th>\n",
              "      <td>1.0</td>\n",
              "      <td>0.0</td>\n",
              "      <td>0.0</td>\n",
              "      <td>0.0</td>\n",
              "    </tr>\n",
              "    <tr>\n",
              "      <th>2</th>\n",
              "      <td>1.0</td>\n",
              "      <td>0.0</td>\n",
              "      <td>0.0</td>\n",
              "      <td>0.0</td>\n",
              "    </tr>\n",
              "    <tr>\n",
              "      <th>3</th>\n",
              "      <td>1.0</td>\n",
              "      <td>0.0</td>\n",
              "      <td>0.0</td>\n",
              "      <td>0.0</td>\n",
              "    </tr>\n",
              "    <tr>\n",
              "      <th>4</th>\n",
              "      <td>1.0</td>\n",
              "      <td>0.0</td>\n",
              "      <td>0.0</td>\n",
              "      <td>0.0</td>\n",
              "    </tr>\n",
              "  </tbody>\n",
              "</table>\n",
              "</div>\n",
              "      <button class=\"colab-df-convert\" onclick=\"convertToInteractive('df-2fa7cddc-49fe-4005-bfd4-5a624e1e79e7')\"\n",
              "              title=\"Convert this dataframe to an interactive table.\"\n",
              "              style=\"display:none;\">\n",
              "        \n",
              "  <svg xmlns=\"http://www.w3.org/2000/svg\" height=\"24px\"viewBox=\"0 0 24 24\"\n",
              "       width=\"24px\">\n",
              "    <path d=\"M0 0h24v24H0V0z\" fill=\"none\"/>\n",
              "    <path d=\"M18.56 5.44l.94 2.06.94-2.06 2.06-.94-2.06-.94-.94-2.06-.94 2.06-2.06.94zm-11 1L8.5 8.5l.94-2.06 2.06-.94-2.06-.94L8.5 2.5l-.94 2.06-2.06.94zm10 10l.94 2.06.94-2.06 2.06-.94-2.06-.94-.94-2.06-.94 2.06-2.06.94z\"/><path d=\"M17.41 7.96l-1.37-1.37c-.4-.4-.92-.59-1.43-.59-.52 0-1.04.2-1.43.59L10.3 9.45l-7.72 7.72c-.78.78-.78 2.05 0 2.83L4 21.41c.39.39.9.59 1.41.59.51 0 1.02-.2 1.41-.59l7.78-7.78 2.81-2.81c.8-.78.8-2.07 0-2.86zM5.41 20L4 18.59l7.72-7.72 1.47 1.35L5.41 20z\"/>\n",
              "  </svg>\n",
              "      </button>\n",
              "      \n",
              "  <style>\n",
              "    .colab-df-container {\n",
              "      display:flex;\n",
              "      flex-wrap:wrap;\n",
              "      gap: 12px;\n",
              "    }\n",
              "\n",
              "    .colab-df-convert {\n",
              "      background-color: #E8F0FE;\n",
              "      border: none;\n",
              "      border-radius: 50%;\n",
              "      cursor: pointer;\n",
              "      display: none;\n",
              "      fill: #1967D2;\n",
              "      height: 32px;\n",
              "      padding: 0 0 0 0;\n",
              "      width: 32px;\n",
              "    }\n",
              "\n",
              "    .colab-df-convert:hover {\n",
              "      background-color: #E2EBFA;\n",
              "      box-shadow: 0px 1px 2px rgba(60, 64, 67, 0.3), 0px 1px 3px 1px rgba(60, 64, 67, 0.15);\n",
              "      fill: #174EA6;\n",
              "    }\n",
              "\n",
              "    [theme=dark] .colab-df-convert {\n",
              "      background-color: #3B4455;\n",
              "      fill: #D2E3FC;\n",
              "    }\n",
              "\n",
              "    [theme=dark] .colab-df-convert:hover {\n",
              "      background-color: #434B5C;\n",
              "      box-shadow: 0px 1px 3px 1px rgba(0, 0, 0, 0.15);\n",
              "      filter: drop-shadow(0px 1px 2px rgba(0, 0, 0, 0.3));\n",
              "      fill: #FFFFFF;\n",
              "    }\n",
              "  </style>\n",
              "\n",
              "      <script>\n",
              "        const buttonEl =\n",
              "          document.querySelector('#df-2fa7cddc-49fe-4005-bfd4-5a624e1e79e7 button.colab-df-convert');\n",
              "        buttonEl.style.display =\n",
              "          google.colab.kernel.accessAllowed ? 'block' : 'none';\n",
              "\n",
              "        async function convertToInteractive(key) {\n",
              "          const element = document.querySelector('#df-2fa7cddc-49fe-4005-bfd4-5a624e1e79e7');\n",
              "          const dataTable =\n",
              "            await google.colab.kernel.invokeFunction('convertToInteractive',\n",
              "                                                     [key], {});\n",
              "          if (!dataTable) return;\n",
              "\n",
              "          const docLinkHtml = 'Like what you see? Visit the ' +\n",
              "            '<a target=\"_blank\" href=https://colab.research.google.com/notebooks/data_table.ipynb>data table notebook</a>'\n",
              "            + ' to learn more about interactive tables.';\n",
              "          element.innerHTML = '';\n",
              "          dataTable['output_type'] = 'display_data';\n",
              "          await google.colab.output.renderOutput(dataTable, element);\n",
              "          const docLink = document.createElement('div');\n",
              "          docLink.innerHTML = docLinkHtml;\n",
              "          element.appendChild(docLink);\n",
              "        }\n",
              "      </script>\n",
              "    </div>\n",
              "  </div>\n",
              "  "
            ]
          },
          "metadata": {},
          "execution_count": 3
        }
      ]
    },
    {
      "cell_type": "code",
      "source": [
        "df_test_i=pd.read_csv(\"images (1).csv\", header=None)\n",
        "df_test_l=pd.read_csv(\"labels (1).csv\", header=None, names=[\"squiggle\", \"narrowband\", \"narrowbanddrd\",\"noise\"])"
      ],
      "metadata": {
        "id": "YfECnGEIo0Rn"
      },
      "execution_count": 4,
      "outputs": []
    },
    {
      "cell_type": "code",
      "source": [
        "df_i.shape, df_l.shape"
      ],
      "metadata": {
        "colab": {
          "base_uri": "https://localhost:8080/"
        },
        "id": "BS4h-DUiqFKp",
        "outputId": "4c0939b4-2575-422a-fad1-0dfdcd8846f5"
      },
      "execution_count": 5,
      "outputs": [
        {
          "output_type": "execute_result",
          "data": {
            "text/plain": [
              "((3200, 8192), (3200, 4))"
            ]
          },
          "metadata": {},
          "execution_count": 5
        }
      ]
    },
    {
      "cell_type": "code",
      "source": [
        "df_test_i.shape, df_test_l.shape"
      ],
      "metadata": {
        "colab": {
          "base_uri": "https://localhost:8080/"
        },
        "id": "xn02pYo-qI5q",
        "outputId": "fe055586-2c6f-4b24-ba4b-86ee95819193"
      },
      "execution_count": 6,
      "outputs": [
        {
          "output_type": "execute_result",
          "data": {
            "text/plain": [
              "((800, 8192), (800, 4))"
            ]
          },
          "metadata": {},
          "execution_count": 6
        }
      ]
    },
    {
      "cell_type": "code",
      "source": [
        "x_train=df_i.values.reshape(3200,64,128,1)\n",
        "x_test=df_test_i.values.reshape(800,64,128,1)\n",
        "y_train=df_l.values\n",
        "y_test=df_test_l.values"
      ],
      "metadata": {
        "id": "3j2mhZr0qXaL"
      },
      "execution_count": 7,
      "outputs": []
    },
    {
      "cell_type": "code",
      "source": [
        "len(y_train)"
      ],
      "metadata": {
        "colab": {
          "base_uri": "https://localhost:8080/"
        },
        "id": "n10pDfK5dg7O",
        "outputId": "6d00aa33-dbfe-44f5-d9b2-ecb9a00e4baa"
      },
      "execution_count": 8,
      "outputs": [
        {
          "output_type": "execute_result",
          "data": {
            "text/plain": [
              "3200"
            ]
          },
          "metadata": {},
          "execution_count": 8
        }
      ]
    },
    {
      "cell_type": "code",
      "source": [
        "np.sum(np.isnan(y_train))"
      ],
      "metadata": {
        "colab": {
          "base_uri": "https://localhost:8080/"
        },
        "id": "xgrxgkR4INcM",
        "outputId": "3b9c7c38-d2bf-42cd-af8a-208d0f815794"
      },
      "execution_count": 9,
      "outputs": [
        {
          "output_type": "execute_result",
          "data": {
            "text/plain": [
              "0"
            ]
          },
          "metadata": {},
          "execution_count": 9
        }
      ]
    },
    {
      "cell_type": "code",
      "source": [
        "train_datagen=ImageDataGenerator(horizontal_flip=True)"
      ],
      "metadata": {
        "id": "ZIWOZgO5ZVN3"
      },
      "execution_count": 10,
      "outputs": []
    },
    {
      "cell_type": "code",
      "source": [
        "m=Sequential()\n",
        "m.add(Conv2D(filters=32,kernel_size=5,activation=\"relu\",padding=\"same\", input_shape=(64,128,1)))\n",
        "m.add(BatchNormalization())\n",
        "m.add(MaxPooling2D((2,2)))\n",
        "m.add(Dropout(0.2))\n",
        "m.add(Flatten())\n",
        "m.add(Dense(512, activation=\"relu\"))\n",
        "m.add(BatchNormalization())\n",
        "m.add(Dropout(0.2))\n",
        "m.add(Dense(128, activation=\"relu\"))\n",
        "m.add(BatchNormalization())\n",
        "m.add(Dropout(0.2))\n",
        "m.add(Dense(4, activation=\"softmax\"))"
      ],
      "metadata": {
        "id": "dNhSVt5iZnPx"
      },
      "execution_count": 11,
      "outputs": []
    },
    {
      "cell_type": "code",
      "source": [
        "m.compile(optimizer=\"adam\",\n",
        "          loss=\"categorical_crossentropy\",\n",
        "          metrics=[\"accuracy\"])\n",
        "m.summary()"
      ],
      "metadata": {
        "colab": {
          "base_uri": "https://localhost:8080/"
        },
        "id": "svs9RbAiaY4-",
        "outputId": "8f23fb98-714b-44d4-bc1f-675dd9a0116c"
      },
      "execution_count": 12,
      "outputs": [
        {
          "output_type": "stream",
          "name": "stdout",
          "text": [
            "Model: \"sequential\"\n",
            "_________________________________________________________________\n",
            " Layer (type)                Output Shape              Param #   \n",
            "=================================================================\n",
            " conv2d (Conv2D)             (None, 64, 128, 32)       832       \n",
            "                                                                 \n",
            " batch_normalization (BatchN  (None, 64, 128, 32)      128       \n",
            " ormalization)                                                   \n",
            "                                                                 \n",
            " max_pooling2d (MaxPooling2D  (None, 32, 64, 32)       0         \n",
            " )                                                               \n",
            "                                                                 \n",
            " dropout (Dropout)           (None, 32, 64, 32)        0         \n",
            "                                                                 \n",
            " flatten (Flatten)           (None, 65536)             0         \n",
            "                                                                 \n",
            " dense (Dense)               (None, 512)               33554944  \n",
            "                                                                 \n",
            " batch_normalization_1 (Batc  (None, 512)              2048      \n",
            " hNormalization)                                                 \n",
            "                                                                 \n",
            " dropout_1 (Dropout)         (None, 512)               0         \n",
            "                                                                 \n",
            " dense_1 (Dense)             (None, 128)               65664     \n",
            "                                                                 \n",
            " batch_normalization_2 (Batc  (None, 128)              512       \n",
            " hNormalization)                                                 \n",
            "                                                                 \n",
            " dropout_2 (Dropout)         (None, 128)               0         \n",
            "                                                                 \n",
            " dense_2 (Dense)             (None, 4)                 516       \n",
            "                                                                 \n",
            "=================================================================\n",
            "Total params: 33,624,644\n",
            "Trainable params: 33,623,300\n",
            "Non-trainable params: 1,344\n",
            "_________________________________________________________________\n"
          ]
        }
      ]
    },
    {
      "cell_type": "code",
      "source": [
        "history=m.fit(train_datagen.flow(x_train,y_train, batch_size=32, shuffle=True), validation_data=(x_test, y_test), epochs=12)"
      ],
      "metadata": {
        "colab": {
          "base_uri": "https://localhost:8080/"
        },
        "id": "VH1TwA7HbVQZ",
        "outputId": "32bda977-d9ea-47d6-c58a-05758ad8772b"
      },
      "execution_count": 13,
      "outputs": [
        {
          "output_type": "stream",
          "name": "stdout",
          "text": [
            "Epoch 1/12\n",
            "100/100 [==============================] - 64s 611ms/step - loss: 0.6585 - accuracy: 0.6791 - val_loss: 2.0327 - val_accuracy: 0.2512\n",
            "Epoch 2/12\n",
            "100/100 [==============================] - 62s 619ms/step - loss: 0.5761 - accuracy: 0.6997 - val_loss: 11.2989 - val_accuracy: 0.2500\n",
            "Epoch 3/12\n",
            "100/100 [==============================] - 60s 601ms/step - loss: 0.4955 - accuracy: 0.7391 - val_loss: 23.1239 - val_accuracy: 0.2500\n",
            "Epoch 4/12\n",
            "100/100 [==============================] - 59s 593ms/step - loss: 0.4478 - accuracy: 0.7581 - val_loss: 16.4308 - val_accuracy: 0.2500\n",
            "Epoch 5/12\n",
            "100/100 [==============================] - 59s 595ms/step - loss: 0.4091 - accuracy: 0.7781 - val_loss: 54.2709 - val_accuracy: 0.2500\n",
            "Epoch 6/12\n",
            "100/100 [==============================] - 60s 596ms/step - loss: 0.4027 - accuracy: 0.7844 - val_loss: 25.2817 - val_accuracy: 0.2500\n",
            "Epoch 7/12\n",
            "100/100 [==============================] - 60s 598ms/step - loss: 0.3691 - accuracy: 0.8106 - val_loss: 88.4323 - val_accuracy: 0.2500\n",
            "Epoch 8/12\n",
            "100/100 [==============================] - 59s 595ms/step - loss: 0.3380 - accuracy: 0.8397 - val_loss: 77.6784 - val_accuracy: 0.2500\n",
            "Epoch 9/12\n",
            "100/100 [==============================] - 59s 593ms/step - loss: 0.3232 - accuracy: 0.8544 - val_loss: 65.2396 - val_accuracy: 0.2500\n",
            "Epoch 10/12\n",
            "100/100 [==============================] - 59s 594ms/step - loss: 0.3020 - accuracy: 0.8647 - val_loss: 5.2237 - val_accuracy: 0.4900\n",
            "Epoch 11/12\n",
            "100/100 [==============================] - 60s 597ms/step - loss: 0.3143 - accuracy: 0.8525 - val_loss: 54.1292 - val_accuracy: 0.3025\n",
            "Epoch 12/12\n",
            "100/100 [==============================] - 60s 605ms/step - loss: 0.2771 - accuracy: 0.8741 - val_loss: 19.8428 - val_accuracy: 0.0063\n"
          ]
        }
      ]
    },
    {
      "cell_type": "code",
      "source": [
        "m.evaluate(x_test, y_test)"
      ],
      "metadata": {
        "colab": {
          "base_uri": "https://localhost:8080/"
        },
        "id": "Wlm6LmDjcStY",
        "outputId": "5c8367fc-73ad-4f9f-9159-0a81eb680d2d"
      },
      "execution_count": 14,
      "outputs": [
        {
          "output_type": "stream",
          "name": "stdout",
          "text": [
            "25/25 [==============================] - 3s 117ms/step - loss: 19.8428 - accuracy: 0.0063\n"
          ]
        },
        {
          "output_type": "execute_result",
          "data": {
            "text/plain": [
              "[19.842790603637695, 0.0062500000931322575]"
            ]
          },
          "metadata": {},
          "execution_count": 14
        }
      ]
    },
    {
      "cell_type": "code",
      "source": [
        "m.evaluate(x_train, y_train)"
      ],
      "metadata": {
        "colab": {
          "base_uri": "https://localhost:8080/"
        },
        "id": "KwPD8LrFSNtG",
        "outputId": "2f9a64d5-e537-4225-b28e-9fa273d8b891"
      },
      "execution_count": 15,
      "outputs": [
        {
          "output_type": "stream",
          "name": "stdout",
          "text": [
            "100/100 [==============================] - 12s 118ms/step - loss: 19.6006 - accuracy: 0.0100\n"
          ]
        },
        {
          "output_type": "execute_result",
          "data": {
            "text/plain": [
              "[19.600553512573242, 0.009999999776482582]"
            ]
          },
          "metadata": {},
          "execution_count": 15
        }
      ]
    },
    {
      "cell_type": "code",
      "source": [
        "from sklearn.metrics import confusion_matrix\n",
        "pred=(m.predict(x_test))\n",
        "y_true = np.argmax(y_test, 1)\n",
        "y_pred = np.argmax(pred, 1)\n",
        "confusion_matrix(y_true, y_pred)"
      ],
      "metadata": {
        "colab": {
          "base_uri": "https://localhost:8080/"
        },
        "id": "zlNifLfoC5ke",
        "outputId": "92304f9b-601a-4354-ec27-08940b2d183b"
      },
      "execution_count": 16,
      "outputs": [
        {
          "output_type": "execute_result",
          "data": {
            "text/plain": [
              "array([[  0,   0,   0, 200],\n",
              "       [  0,   0,   5, 195],\n",
              "       [  0,   0,   5, 195],\n",
              "       [  0,   0, 200,   0]])"
            ]
          },
          "metadata": {},
          "execution_count": 16
        }
      ]
    },
    {
      "cell_type": "code",
      "source": [
        "from sklearn.metrics import accuracy_score\n",
        "accuracy_score(y_true, y_pred)"
      ],
      "metadata": {
        "colab": {
          "base_uri": "https://localhost:8080/"
        },
        "id": "ZvBUJCwSS21u",
        "outputId": "a7935de1-28b6-48e9-be91-438d52e028a1"
      },
      "execution_count": 17,
      "outputs": [
        {
          "output_type": "execute_result",
          "data": {
            "text/plain": [
              "0.00625"
            ]
          },
          "metadata": {},
          "execution_count": 17
        }
      ]
    },
    {
      "cell_type": "code",
      "source": [
        "from sklearn.metrics import classification_report\n",
        "classification_report(y_true, y_pred)"
      ],
      "metadata": {
        "colab": {
          "base_uri": "https://localhost:8080/",
          "height": 212
        },
        "id": "JyEAMnQyDgU8",
        "outputId": "638cd068-2606-4f01-c42b-970b615e0ade"
      },
      "execution_count": 18,
      "outputs": [
        {
          "output_type": "stream",
          "name": "stderr",
          "text": [
            "/usr/local/lib/python3.7/dist-packages/sklearn/metrics/_classification.py:1318: UndefinedMetricWarning: Precision and F-score are ill-defined and being set to 0.0 in labels with no predicted samples. Use `zero_division` parameter to control this behavior.\n",
            "  _warn_prf(average, modifier, msg_start, len(result))\n",
            "/usr/local/lib/python3.7/dist-packages/sklearn/metrics/_classification.py:1318: UndefinedMetricWarning: Precision and F-score are ill-defined and being set to 0.0 in labels with no predicted samples. Use `zero_division` parameter to control this behavior.\n",
            "  _warn_prf(average, modifier, msg_start, len(result))\n",
            "/usr/local/lib/python3.7/dist-packages/sklearn/metrics/_classification.py:1318: UndefinedMetricWarning: Precision and F-score are ill-defined and being set to 0.0 in labels with no predicted samples. Use `zero_division` parameter to control this behavior.\n",
            "  _warn_prf(average, modifier, msg_start, len(result))\n"
          ]
        },
        {
          "output_type": "execute_result",
          "data": {
            "text/plain": [
              "'              precision    recall  f1-score   support\\n\\n           0       0.00      0.00      0.00       200\\n           1       0.00      0.00      0.00       200\\n           2       0.02      0.03      0.02       200\\n           3       0.00      0.00      0.00       200\\n\\n    accuracy                           0.01       800\\n   macro avg       0.01      0.01      0.01       800\\nweighted avg       0.01      0.01      0.01       800\\n'"
            ],
            "application/vnd.google.colaboratory.intrinsic+json": {
              "type": "string"
            }
          },
          "metadata": {},
          "execution_count": 18
        }
      ]
    },
    {
      "cell_type": "code",
      "source": [
        "h=history.history\n",
        "plt.plot(h[\"loss\"], label=\"train_loss\")\n",
        "plt.xlabel(\"loss\")\n",
        "plt.ylabel(\"epochs\")\n",
        "plt.legend()\n",
        "plt.show()"
      ],
      "metadata": {
        "colab": {
          "base_uri": "https://localhost:8080/",
          "height": 279
        },
        "id": "ob0atvFIIFYp",
        "outputId": "dedfc5c6-d41b-4266-a7b3-02fdb093911c"
      },
      "execution_count": 19,
      "outputs": [
        {
          "output_type": "display_data",
          "data": {
            "text/plain": [
              "<Figure size 432x288 with 1 Axes>"
            ],
            "image/png": "[encoded data removed]"
          },
          "metadata": {
            "needs_background": "light"
          }
        }
      ]
    },
    {
      "cell_type": "code",
      "source": [
        "plt.plot(h[\"accuracy\"], label=\"train_accuracy\")\n",
        "plt.xlabel(\"Accuracy\")\n",
        "plt.ylabel(\"epochs\")\n",
        "plt.legend()\n",
        "plt.show()"
      ],
      "metadata": {
        "colab": {
          "base_uri": "https://localhost:8080/",
          "height": 279
        },
        "id": "TfyZOl3NUCY-",
        "outputId": "06b90815-9d1d-4630-889d-33c2f4faf55d"
      },
      "execution_count": 20,
      "outputs": [
        {
          "output_type": "display_data",
          "data": {
            "text/plain": [
              "<Figure size 432x288 with 1 Axes>"
            ],
            "image/png": "[encoded data removed]"
          },
          "metadata": {
            "needs_background": "light"
          }
        }
      ]
    },
    {
      "cell_type": "code",
      "source": [
        "import warnings\n",
        "warnings.simplefilter(\"ignore\")"
      ],
      "metadata": {
        "id": "kJl0yvgHUOck"
      },
      "execution_count": 21,
      "outputs": []
    }
  ]
}