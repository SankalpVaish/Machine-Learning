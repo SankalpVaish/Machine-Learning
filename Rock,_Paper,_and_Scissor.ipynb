{
  "nbformat": 4,
  "nbformat_minor": 0,
  "metadata": {
    "colab": {
      "provenance": []
    },
    "kernelspec": {
      "name": "python3",
      "display_name": "Python 3"
    },
    "language_info": {
      "name": "python"
    }
  },
  "cells": [
    {
      "cell_type": "code",
      "source": [
        "from random import randint\n",
        "\n",
        "#create a list of play options\n",
        "t = [\"Rock\", \"Paper\", \"Scissors\"]\n",
        "\n",
        "#assign a random play to the computer\n",
        "computer = t[randint(0,2)]\n",
        "\n",
        "#set imp to play\n",
        "imp=\"play\"\n",
        "\n",
        "while imp != 'q':\n",
        "#set player to True\n",
        "    player = input(\"Rock, Paper, Scissors? \")\n",
        "    if player == computer:\n",
        "        print(\"Tie!\")\n",
        "    elif player == \"Rock\":\n",
        "        if computer == \"Paper\":\n",
        "            print(\"You lose!\", computer, \"covers\", player)\n",
        "        else:\n",
        "            print(\"You win!\", player, \"smashes\", computer)\n",
        "    elif player == \"Paper\":\n",
        "        if computer == \"Scissors\":\n",
        "            print(\"You lose!\", computer, \"cut\", player)\n",
        "        else:\n",
        "            print(\"You win!\", player, \"covers\", computer)\n",
        "    elif player == \"Scissors\":\n",
        "        if computer == \"Rock\":\n",
        "            print(\"You lose...\", computer, \"smashes\", player)\n",
        "        else:\n",
        "            print(\"You win!\", player, \"cut\", computer)\n",
        "    else:\n",
        "        print(\"That's not a valid play. Check your spelling/case!\")\n",
        "    #player was set to True, but we want it to be False so the loop continues\n",
        "    imp=input(\"Press any button to continue or 'q' to quit \")\n",
        "    computer = t[randint(0,2)]"
      ],
      "metadata": {
        "colab": {
          "base_uri": "https://localhost:8080/"
        },
        "id": "lwQ5_SoaNI-m",
        "outputId": "794f293d-894e-4a48-ea44-b20c05b21abc"
      },
      "execution_count": 6,
      "outputs": [
        {
          "name": "stdout",
          "output_type": "stream",
          "text": [
            "Rock, Paper, Scissors? Paper\n",
            "You lose! Scissors cut Paper\n",
            "Press any button to continue or 'q' to quit \n",
            "Rock, Paper, Scissors? Paper\n",
            "You win! Paper covers Rock\n",
            "Press any button to continue or 'q' to quit \n",
            "Rock, Paper, Scissors? Rock\n",
            "You win! Rock smashes Scissors\n",
            "Press any button to continue or 'q' to quit 1\n",
            "Rock, Paper, Scissors? rock\n",
            "That's not a valid play. Check your spelling/case!\n",
            "Press any button to continue or 'q' to quit \n",
            "Rock, Paper, Scissors? Rock\n",
            "You lose! Paper covers Rock\n",
            "Press any button to continue or 'q' to quit q\n"
          ]
        }
      ]
    },
    {
      "cell_type": "code",
      "source": [],
      "metadata": {
        "id": "PlSA4X2PPmaa"
      },
      "execution_count": null,
      "outputs": []
    }
  ]
}